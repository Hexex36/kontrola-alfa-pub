{
 "cells": [
  {
   "cell_type": "code",
   "execution_count": 3,
   "metadata": {},
   "outputs": [],
   "source": [
    "import polars as pl\n",
    "from pprint import pprint"
   ]
  },
  {
   "cell_type": "code",
   "execution_count": 4,
   "metadata": {},
   "outputs": [],
   "source": [
    "def fix_str_to_int(data:pl.DataFrame, fix_list:list):\n",
    "\n",
    "    column_types = data.select(fix_list).dtypes\n",
    "\n",
    "    for index, column in enumerate(fix_list):\n",
    "        if column_types[index] != pl.String:\n",
    "            fix_list.remove(column)\n",
    "\n",
    "    data = data.with_columns(pl.col(fix_list).str.split(\",\"))\n",
    "    data = data.with_columns(pl.col(fix_list).list.eval(pl.element().str.strip_chars()))\n",
    "    data = data.with_columns(pl.col(fix_list).list.eval(pl.element().cast(pl.Int64, strict=False)))\n",
    "\n",
    "    for column in fix_list:\n",
    "        data = data.with_columns(pl.when(pl.col(column).list.eval(pl.element().is_null()).list.all()).then(None).otherwise(pl.col(column)).alias(\"bools\"))\n",
    "        data = data.select(replace(data, data.get_column_index(column), \"bools\")).rename({\"bools\":column})\n",
    "    \n",
    "    # data = data.with_columns(pl.col(fix_list).str.strip().str.replace(\"\",\"0\")).cast(conversion_dict)\n",
    "\n",
    "    return data\n",
    "\n",
    "\n",
    "# Abych nebyl nařčen z plagiátorství, zdroj: https://stackoverflow.com/questions/75954280/how-to-change-the-position-of-a-single-column-in-python-polars-library\n",
    "def replace(df, new_position, col_name):\n",
    "    neworder=df.columns\n",
    "    neworder.pop(new_position)\n",
    "    neworder.remove(col_name)\n",
    "    neworder.insert(new_position,col_name)\n",
    "    return neworder\n"
   ]
  },
  {
   "cell_type": "code",
   "execution_count": 5,
   "metadata": {},
   "outputs": [],
   "source": [
    "def prep_csv(dataframe:pl.DataFrame):\n",
    "    import numpy as np\n",
    "    type_list = dataframe.dtypes\n",
    "    mask = np.array([isinstance(column, pl.List) for column in type_list])\n",
    "    column_list = np.array(dataframe.columns)\n",
    "    list_columns = column_list[mask]\n",
    "    print(list_columns)\n",
    "\n",
    "    for column in list_columns:\n",
    "        dataframe = dataframe.with_columns(pl.col(column).cast(pl.List(pl.Utf8)).list.join(\",\"))\n",
    "    return dataframe\n",
    "    "
   ]
  },
  {
   "cell_type": "code",
   "execution_count": 6,
   "metadata": {},
   "outputs": [],
   "source": [
    "def list_compare(dataframe:pl.DataFrame, column_from:str, column_to:str) -> pl.Series:\n",
    "    from_array = dataframe.to_Series(dataframe.find_idx_by_name(column_from)).to_list()\n",
    "    to_array = dataframe.to_Series(dataframe.find_idx_by_name(column_from)).to_list()\n",
    "\n",
    "    return_list = [any(x in to_array[index] for x in from_array[index]) for index in range(len(from_array))]\n",
    "\n",
    "    return pl.Series(\"boolin\", return_list)\n"
   ]
  },
  {
   "cell_type": "code",
   "execution_count": 7,
   "metadata": {},
   "outputs": [
    {
     "name": "stdout",
     "output_type": "stream",
     "text": [
      "3083\n"
     ]
    },
    {
     "data": {
      "text/html": [
       "<div><style>\n",
       ".dataframe > thead > tr,\n",
       ".dataframe > tbody > tr {\n",
       "  text-align: right;\n",
       "  white-space: pre-wrap;\n",
       "}\n",
       "</style>\n",
       "<small>shape: (7, 66)</small><table border=\"1\" class=\"dataframe\"><thead><tr><th>katedra</th><th>zkratka</th><th>rok</th><th>nazev</th><th>nazevDlouhy</th><th>vyukaZS</th><th>vyukaLS</th><th>kreditu</th><th>viceZapis</th><th>minObsazeni</th><th>garanti</th><th>garantiSPodily</th><th>garantiUcitIdno</th><th>prednasejici</th><th>prednasejiciSPodily</th><th>prednasejiciUcitIdno</th><th>cvicici</th><th>cviciciSPodily</th><th>cviciciUcitIdno</th><th>seminarici</th><th>seminariciSPodily</th><th>seminariciUcitIdno</th><th>schvalujiciUznani</th><th>schvalujiciUznaniUcitIdno</th><th>examinatori</th><th>examinatoriUcitIdno</th><th>podminujiciPredmety</th><th>vylucujiciPredmety</th><th>podminujePredmety</th><th>literatura</th><th>nahrazPredmety</th><th>metodyVyucovaci</th><th>metodyHodnotici</th><th>akreditovan</th><th>jednotekPrednasek</th><th>jednotkaPrednasky</th><th>jednotekCviceni</th><th>jednotkaCviceni</th><th>jednotekSeminare</th><th>jednotkaSeminare</th><th>anotace</th><th>typZkousky</th><th>maZapocetPredZk</th><th>formaZkousky</th><th>pozadavky</th><th>prehledLatky</th><th>predpoklady</th><th>ziskaneZpusobilosti</th><th>casovaNarocnost</th><th>predmetUrl</th><th>vyucovaciJazyky</th><th>poznamka</th><th>ectsZobrazit</th><th>ectsAkreditace</th><th>ectsNabizetUPrijezdu</th><th>poznamkaVerejna</th><th>skupinaAkreditace</th><th>skupinaAkreditaceKey</th><th>zarazenDoPrezencnihoStudia</th><th>zarazenDoKombinovanehoStudia</th><th>studijniOpory</th><th>praxePocetDnu</th><th>urovenNastavena</th><th>urovenVypoctena</th><th>automatickyUznavatZppZk</th><th>hodZaSemKombForma</th></tr><tr><td>str</td><td>str</td><td>i64</td><td>str</td><td>str</td><td>str</td><td>str</td><td>i64</td><td>str</td><td>str</td><td>str</td><td>str</td><td>list[i64]</td><td>str</td><td>str</td><td>list[i64]</td><td>str</td><td>str</td><td>list[i64]</td><td>str</td><td>str</td><td>list[i64]</td><td>str</td><td>str</td><td>str</td><td>str</td><td>str</td><td>str</td><td>str</td><td>str</td><td>str</td><td>str</td><td>str</td><td>str</td><td>i64</td><td>str</td><td>i64</td><td>str</td><td>i64</td><td>str</td><td>str</td><td>str</td><td>str</td><td>str</td><td>str</td><td>str</td><td>str</td><td>str</td><td>str</td><td>str</td><td>str</td><td>str</td><td>str</td><td>str</td><td>str</td><td>str</td><td>str</td><td>str</td><td>str</td><td>str</td><td>str</td><td>i64</td><td>str</td><td>str</td><td>str</td><td>list[i64]</td></tr></thead><tbody><tr><td>&quot;CNB&quot;</td><td>&quot;EXK&quot;</td><td>2023</td><td>&quot;Exkurze&quot;</td><td>&quot;Exkurze&quot;</td><td>&quot;A&quot;</td><td>&quot;A&quot;</td><td>1</td><td>&quot;NE&quot;</td><td>&quot;&quot;</td><td>&quot;&#x27;doc. Ing. Mar…</td><td>&quot;&#x27;doc. Ing. Mar…</td><td>[2384]</td><td>&quot;&quot;</td><td>&quot;&quot;</td><td>null</td><td>&quot;&quot;</td><td>&quot;&quot;</td><td>null</td><td>&quot;&#x27;doc. Ing. Mar…</td><td>&quot;&#x27;doc. Ing. Mar…</td><td>[2384]</td><td>&quot;&quot;</td><td>&quot;&quot;</td><td>&quot;&quot;</td><td>&quot;&quot;</td><td>&quot;&quot;</td><td>&quot;&quot;</td><td>&quot;&quot;</td><td>&quot;&quot;</td><td>&quot;KFY/EXK&quot;</td><td>&quot;&quot;</td><td>&quot;&quot;</td><td>&quot;N&quot;</td><td>0</td><td>&quot;HOD/TYD&quot;</td><td>1</td><td>&quot;HOD/TYD&quot;</td><td>0</td><td>&quot;HOD/TYD&quot;</td><td>&quot;Cílem kurzu je…</td><td>&quot;Zápočet&quot;</td><td>&quot;NE&quot;</td><td>&quot;Kombinovaná&quot;</td><td>&quot;&quot;</td><td>&quot;&quot;</td><td>&quot;&quot;</td><td>&quot;&quot;</td><td>&quot;&quot;</td><td>&quot;&quot;</td><td>&quot;Čeština&quot;</td><td>&quot;&quot;</td><td>&quot;A&quot;</td><td>&quot;N&quot;</td><td>&quot;N&quot;</td><td>&quot;&quot;</td><td>&quot;&quot;</td><td>&quot;&quot;</td><td>&quot;A&quot;</td><td>&quot;N&quot;</td><td>&quot;&quot;</td><td>0</td><td>&quot;&quot;</td><td>&quot;Bc.&quot;</td><td>&quot;A&quot;</td><td>null</td></tr><tr><td>&quot;CNB&quot;</td><td>&quot;ME203&quot;</td><td>2023</td><td>&quot;PC in flow cyt…</td><td>&quot;Practical cour…</td><td>&quot;N&quot;</td><td>&quot;A&quot;</td><td>3</td><td>&quot;NE&quot;</td><td>&quot;&quot;</td><td>&quot;&#x27;Dominika Zofi…</td><td>&quot;&#x27;Dominika Zofi…</td><td>[4711]</td><td>&quot;&quot;</td><td>&quot;&quot;</td><td>null</td><td>&quot;&#x27;Mgr. Jan Malý…</td><td>&quot;&#x27;Mgr. Jan Malý…</td><td>[280, 4711]</td><td>&quot;&quot;</td><td>&quot;&quot;</td><td>null</td><td>&quot;&quot;</td><td>&quot;&quot;</td><td>&quot;&quot;</td><td>&quot;&quot;</td><td>&quot;&quot;</td><td>&quot;&quot;</td><td>&quot;&quot;</td><td>&quot;&#x27;Freshney, R.I…</td><td>&quot;KBI/ME203&quot;</td><td>&quot;&quot;</td><td>&quot;&quot;</td><td>&quot;N&quot;</td><td>0</td><td>&quot;HOD/TYD&quot;</td><td>2</td><td>&quot;HOD/TYD&quot;</td><td>0</td><td>&quot;HOD/TYD&quot;</td><td>&quot;&quot;</td><td>&quot;Zápočet&quot;</td><td>&quot;NE&quot;</td><td>&quot;Kombinovaná&quot;</td><td>&quot;&quot;</td><td>&quot;&quot;</td><td>&quot;&quot;</td><td>&quot;&quot;</td><td>&quot;&quot;</td><td>&quot;&quot;</td><td>&quot;Angličtina&quot;</td><td>&quot;&quot;</td><td>&quot;A&quot;</td><td>&quot;N&quot;</td><td>&quot;N&quot;</td><td>&quot;bloková výuka&quot;</td><td>&quot;&quot;</td><td>&quot;&quot;</td><td>&quot;A&quot;</td><td>&quot;N&quot;</td><td>&quot;&quot;</td><td>0</td><td>&quot;&quot;</td><td>&quot;Mgr.&quot;</td><td>&quot;A&quot;</td><td>[0]</td></tr><tr><td>&quot;CNB&quot;</td><td>&quot;ME204&quot;</td><td>2023</td><td>&quot;Mikrofluid. sy…</td><td>&quot;Mikrofluidní s…</td><td>&quot;N&quot;</td><td>&quot;A&quot;</td><td>3</td><td>&quot;NE&quot;</td><td>&quot;&quot;</td><td>&quot;&#x27;Mgr. Marcel Š…</td><td>&quot;&#x27;Mgr. Marcel Š…</td><td>[1503]</td><td>&quot;&quot;</td><td>&quot;&quot;</td><td>null</td><td>&quot;&#x27;Mgr. Marcel Š…</td><td>&quot;&#x27;Mgr. Marcel Š…</td><td>[1503]</td><td>&quot;&quot;</td><td>&quot;&quot;</td><td>null</td><td>&quot;&quot;</td><td>&quot;&quot;</td><td>&quot;&quot;</td><td>&quot;&quot;</td><td>&quot;&quot;</td><td>&quot;&quot;</td><td>&quot;&quot;</td><td>&quot;&#x27;FRANSSILA, Sa…</td><td>&quot;KBI/ME204&quot;</td><td>&quot;&quot;</td><td>&quot;&quot;</td><td>&quot;N&quot;</td><td>6</td><td>&quot;HOD/SEM&quot;</td><td>20</td><td>&quot;HOD/SEM&quot;</td><td>0</td><td>&quot;HOD/TYD&quot;</td><td>&quot;Cílem kurzu je…</td><td>&quot;Zápočet&quot;</td><td>&quot;NE&quot;</td><td>&quot;Kombinovaná&quot;</td><td>&quot;&quot;</td><td>&quot;&quot;</td><td>&quot;&quot;</td><td>&quot;&quot;</td><td>&quot;&quot;</td><td>&quot;&quot;</td><td>&quot;Čeština&quot;</td><td>&quot;&quot;</td><td>&quot;A&quot;</td><td>&quot;N&quot;</td><td>&quot;N&quot;</td><td>&quot;bloková výuka&quot;</td><td>&quot;&quot;</td><td>&quot;&quot;</td><td>&quot;A&quot;</td><td>&quot;N&quot;</td><td>&quot;&quot;</td><td>0</td><td>&quot;&quot;</td><td>&quot;Mgr.&quot;</td><td>&quot;A&quot;</td><td>[0]</td></tr><tr><td>&quot;CNB&quot;</td><td>&quot;M100&quot;</td><td>2023</td><td>&quot;Vědecká komuni…</td><td>&quot;Vědecká komuni…</td><td>&quot;A&quot;</td><td>&quot;N&quot;</td><td>3</td><td>&quot;NE&quot;</td><td>&quot;&quot;</td><td>&quot;&#x27;Mgr. Jan Malý…</td><td>&quot;&#x27;Mgr. Jan Malý…</td><td>[280]</td><td>&quot;&#x27;doc. RNDr. Ja…</td><td>&quot;&#x27;doc. RNDr. Ja…</td><td>[278, 2939, 280]</td><td>&quot;&#x27;prof. doc. RN…</td><td>&quot;&#x27;prof. doc. RN…</td><td>[3661, 278, … 280]</td><td>&quot;&quot;</td><td>&quot;&quot;</td><td>null</td><td>&quot;&quot;</td><td>&quot;&quot;</td><td>&quot;&quot;</td><td>&quot;&quot;</td><td>&quot;&quot;</td><td>&quot;&quot;</td><td>&quot;&quot;</td><td>&quot;&#x27;ŠILHÁNEK, J. …</td><td>&quot;KBI/M100&quot;</td><td>&quot;&quot;</td><td>&quot;&quot;</td><td>&quot;N&quot;</td><td>1</td><td>&quot;HOD/TYD&quot;</td><td>1</td><td>&quot;HOD/TYD&quot;</td><td>0</td><td>&quot;HOD/TYD&quot;</td><td>&quot;Kurz předpoklá…</td><td>&quot;Zápočet&quot;</td><td>&quot;NE&quot;</td><td>&quot;Kombinovaná&quot;</td><td>&quot;Kromě účasti n…</td><td>&quot;(1) Seznámit s…</td><td>&quot;&quot;</td><td>&quot;&quot;</td><td>&quot;&quot;</td><td>&quot;&quot;</td><td>&quot;Čeština&quot;</td><td>&quot;&quot;</td><td>&quot;A&quot;</td><td>&quot;N&quot;</td><td>&quot;N&quot;</td><td>&quot;&quot;</td><td>&quot;&quot;</td><td>&quot;&quot;</td><td>&quot;A&quot;</td><td>&quot;N&quot;</td><td>&quot;&quot;</td><td>0</td><td>&quot;&quot;</td><td>&quot;Mgr.&quot;</td><td>&quot;A&quot;</td><td>null</td></tr><tr><td>&quot;CNB&quot;</td><td>&quot;VT&quot;</td><td>2023</td><td>&quot;Výrobní techno…</td><td>&quot;Výrobní techno…</td><td>&quot;N&quot;</td><td>&quot;A&quot;</td><td>3</td><td>&quot;NE&quot;</td><td>&quot;&quot;</td><td>&quot;&#x27;doc. Ing. Mar…</td><td>&quot;&#x27;doc. Ing. Mar…</td><td>[2384]</td><td>&quot;&#x27;prof. Ing. Zd…</td><td>&quot;&#x27;prof. Ing. Zd…</td><td>[332, 2384]</td><td>&quot;&quot;</td><td>&quot;&quot;</td><td>null</td><td>&quot;&quot;</td><td>&quot;&quot;</td><td>null</td><td>&quot;&quot;</td><td>&quot;&quot;</td><td>&quot;&quot;</td><td>&quot;&quot;</td><td>&quot;&quot;</td><td>&quot;&quot;</td><td>&quot;&quot;</td><td>&quot;&#x27;Sohnel O., Ri…</td><td>&quot;KFY/VT&quot;</td><td>&quot;&quot;</td><td>&quot;&quot;</td><td>&quot;N&quot;</td><td>2</td><td>&quot;HOD/TYD&quot;</td><td>0</td><td>&quot;HOD/TYD&quot;</td><td>0</td><td>&quot;HOD/TYD&quot;</td><td>&quot;Budou zmíněny …</td><td>&quot;Zkouška&quot;</td><td>&quot;NE&quot;</td><td>&quot;Kombinovaná&quot;</td><td>&quot;Zkouška probíh…</td><td>&quot;1. Typy reakto…</td><td>&quot;&quot;</td><td>&quot;&quot;</td><td>&quot;&quot;</td><td>&quot;&quot;</td><td>&quot;&quot;</td><td>&quot;&quot;</td><td>&quot;A&quot;</td><td>&quot;N&quot;</td><td>&quot;N&quot;</td><td>&quot;&quot;</td><td>&quot;&quot;</td><td>&quot;&quot;</td><td>&quot;A&quot;</td><td>&quot;N&quot;</td><td>&quot;&quot;</td><td>0</td><td>&quot;&quot;</td><td>&quot;Bc.&quot;</td><td>&quot;A&quot;</td><td>[0]</td></tr><tr><td>&quot;KBI&quot;</td><td>&quot;BK220&quot;</td><td>2023</td><td>&quot;Úvod do přípr.…</td><td>&quot;Úvod do přípra…</td><td>&quot;N&quot;</td><td>&quot;A&quot;</td><td>2</td><td>&quot;NE&quot;</td><td>&quot;&quot;</td><td>&quot;&#x27;prof. doc. RN…</td><td>&quot;&#x27;prof. doc. RN…</td><td>[3661]</td><td>&quot;&quot;</td><td>&quot;&quot;</td><td>null</td><td>&quot;&#x27;prof. doc. RN…</td><td>&quot;&#x27;prof. doc. RN…</td><td>[3661]</td><td>&quot;&quot;</td><td>&quot;&quot;</td><td>null</td><td>&quot;&quot;</td><td>&quot;&quot;</td><td>&quot;&quot;</td><td>&quot;&quot;</td><td>&quot;&quot;</td><td>&quot;&quot;</td><td>&quot;&quot;</td><td>&quot;&quot;</td><td>&quot;&quot;</td><td>&quot;&quot;</td><td>&quot;&quot;</td><td>&quot;N&quot;</td><td>0</td><td>&quot;HOD/SEM&quot;</td><td>3</td><td>&quot;HOD/SEM&quot;</td><td>0</td><td>&quot;HOD/SEM&quot;</td><td>&quot;Cílem kurzu bu…</td><td>&quot;Zápočet&quot;</td><td>&quot;NE&quot;</td><td>&quot;Kombinovaná&quot;</td><td>&quot;&quot;</td><td>&quot;&quot;</td><td>&quot;&quot;</td><td>&quot;&quot;</td><td>&quot;&quot;</td><td>&quot;&quot;</td><td>&quot;Čeština&quot;</td><td>&quot;&quot;</td><td>&quot;A&quot;</td><td>&quot;N&quot;</td><td>&quot;N&quot;</td><td>&quot;&quot;</td><td>&quot;&quot;</td><td>&quot;&quot;</td><td>&quot;N&quot;</td><td>&quot;A&quot;</td><td>&quot;&quot;</td><td>0</td><td>&quot;&quot;</td><td>&quot;Bc.&quot;</td><td>&quot;&quot;</td><td>null</td></tr><tr><td>&quot;KBI&quot;</td><td>&quot;BK222&quot;</td><td>2023</td><td>&quot;Biologické lab…</td><td>&quot;Biologické lab…</td><td>&quot;N&quot;</td><td>&quot;A&quot;</td><td>3</td><td>&quot;NE&quot;</td><td>&quot;&quot;</td><td>&quot;&#x27;Mgr. Marcel Š…</td><td>&quot;&#x27;Mgr. Marcel Š…</td><td>[1503]</td><td>&quot;&quot;</td><td>&quot;&quot;</td><td>null</td><td>&quot;&#x27;Mgr. Lukáš By…</td><td>&quot;&#x27;Mgr. Lukáš By…</td><td>[5969, 8317, 1503]</td><td>&quot;&quot;</td><td>&quot;&quot;</td><td>null</td><td>&quot;&quot;</td><td>&quot;&quot;</td><td>&quot;&quot;</td><td>&quot;&quot;</td><td>&quot;&quot;</td><td>&quot;&quot;</td><td>&quot;&quot;</td><td>&quot;&#x27;Galuszka, P.,…</td><td>&quot;&quot;</td><td>&quot;&quot;</td><td>&quot;&quot;</td><td>&quot;N&quot;</td><td>0</td><td>&quot;HOD/SEM&quot;</td><td>8</td><td>&quot;HOD/SEM&quot;</td><td>0</td><td>&quot;HOD/SEM&quot;</td><td>&quot;Předmět je zam…</td><td>&quot;Zápočet&quot;</td><td>&quot;NE&quot;</td><td>&quot;Kombinovaná&quot;</td><td>&quot;&quot;</td><td>&quot;Tematické zamě…</td><td>&quot;Znalosti z che…</td><td>&quot;&quot;</td><td>&quot;&quot;</td><td>&quot;&quot;</td><td>&quot;Čeština&quot;</td><td>&quot;&quot;</td><td>&quot;A&quot;</td><td>&quot;N&quot;</td><td>&quot;N&quot;</td><td>&quot;&quot;</td><td>&quot;&quot;</td><td>&quot;&quot;</td><td>&quot;N&quot;</td><td>&quot;A&quot;</td><td>&quot;&quot;</td><td>0</td><td>&quot;&quot;</td><td>&quot;Bc.&quot;</td><td>&quot;A&quot;</td><td>null</td></tr></tbody></table></div>"
      ],
      "text/plain": [
       "shape: (7, 66)\n",
       "┌─────────┬─────────┬──────┬─────────────┬───┬─────────────┬─────────────┬────────────┬────────────┐\n",
       "│ katedra ┆ zkratka ┆ rok  ┆ nazev       ┆ … ┆ urovenNasta ┆ urovenVypoc ┆ automatick ┆ hodZaSemKo │\n",
       "│ ---     ┆ ---     ┆ ---  ┆ ---         ┆   ┆ vena        ┆ tena        ┆ yUznavatZp ┆ mbForma    │\n",
       "│ str     ┆ str     ┆ i64  ┆ str         ┆   ┆ ---         ┆ ---         ┆ pZk        ┆ ---        │\n",
       "│         ┆         ┆      ┆             ┆   ┆ str         ┆ str         ┆ ---        ┆ list[i64]  │\n",
       "│         ┆         ┆      ┆             ┆   ┆             ┆             ┆ str        ┆            │\n",
       "╞═════════╪═════════╪══════╪═════════════╪═══╪═════════════╪═════════════╪════════════╪════════════╡\n",
       "│ CNB     ┆ EXK     ┆ 2023 ┆ Exkurze     ┆ … ┆             ┆ Bc.         ┆ A          ┆ null       │\n",
       "│ CNB     ┆ ME203   ┆ 2023 ┆ PC in flow  ┆ … ┆             ┆ Mgr.        ┆ A          ┆ [0]        │\n",
       "│         ┆         ┆      ┆ cytometry   ┆   ┆             ┆             ┆            ┆            │\n",
       "│         ┆         ┆      ┆ and cell    ┆   ┆             ┆             ┆            ┆            │\n",
       "│         ┆         ┆      ┆ so…         ┆   ┆             ┆             ┆            ┆            │\n",
       "│ CNB     ┆ ME204   ┆ 2023 ┆ Mikrofluid. ┆ … ┆             ┆ Mgr.        ┆ A          ┆ [0]        │\n",
       "│         ┆         ┆      ┆ systémy a   ┆   ┆             ┆             ┆            ┆            │\n",
       "│         ┆         ┆      ┆ biologická… ┆   ┆             ┆             ┆            ┆            │\n",
       "│ CNB     ┆ M100    ┆ 2023 ┆ Vědecká     ┆ … ┆             ┆ Mgr.        ┆ A          ┆ null       │\n",
       "│         ┆         ┆      ┆ komunikace  ┆   ┆             ┆             ┆            ┆            │\n",
       "│         ┆         ┆      ┆ v biologii  ┆   ┆             ┆             ┆            ┆            │\n",
       "│ CNB     ┆ VT      ┆ 2023 ┆ Výrobní     ┆ … ┆             ┆ Bc.         ┆ A          ┆ [0]        │\n",
       "│         ┆         ┆      ┆ technologie ┆   ┆             ┆             ┆            ┆            │\n",
       "│ KBI     ┆ BK220   ┆ 2023 ┆ Úvod do     ┆ … ┆             ┆ Bc.         ┆            ┆ null       │\n",
       "│         ┆         ┆      ┆ přípr. odb. ┆   ┆             ┆             ┆            ┆            │\n",
       "│         ┆         ┆      ┆ studií a    ┆   ┆             ┆             ┆            ┆            │\n",
       "│         ┆         ┆      ┆ věd…        ┆   ┆             ┆             ┆            ┆            │\n",
       "│ KBI     ┆ BK222   ┆ 2023 ┆ Biologické  ┆ … ┆             ┆ Bc.         ┆ A          ┆ null       │\n",
       "│         ┆         ┆      ┆ laboratorní ┆   ┆             ┆             ┆            ┆            │\n",
       "│         ┆         ┆      ┆ metody II   ┆   ┆             ┆             ┆            ┆            │\n",
       "└─────────┴─────────┴──────┴─────────────┴───┴─────────────┴─────────────┴────────────┴────────────┘"
      ]
     },
     "execution_count": 7,
     "metadata": {},
     "output_type": "execute_result"
    }
   ],
   "source": [
    "rozvrh_by_kat = pl.read_csv(\"source_tables/rozvrhy_fakulta.csv\").drop(\"semestr\").unique().rename({\"predmet\" : \"zkratka\"})\n",
    "rozvrh_by_kat = fix_str_to_int(rozvrh_by_kat, [\"ucitIdno.ucitel\", \"vsichniUciteleUcitIdno\"])\n",
    "#print(rozvrh_by_kat.head())\n",
    "predmety_by_kat = pl.read_csv(\"source_tables/predmety_fakulta.csv\").drop(\"semestr\").unique().drop([\"pocetStudentu\", \"aSkut\", \"bSkut\", \"cSkut\"])\n",
    "predmety_by_kat = fix_str_to_int(predmety_by_kat, [\"garantiUcitIdno\", \"prednasejiciUcitIdno\", \"cviciciUcitIdno\", \"seminariciUcitIdno\", \"hodZaSemKombForma\"])\n",
    "print(predmety_by_kat.__len__())\n",
    "predmety_by_kat.head(7)\n",
    "#predmety_by_kat = pl.read_excel(\"source_tables/getPredmetyByKatedraFullInfo-2023-03-15-17-40.xlsx\", sheet_id=1, engine=\"openpyxl\").drop(\"semestr\").unique().drop([\"pocetStudentu\", \"aSkut\", \"bSkut\", \"cSkut\"])"
   ]
  },
  {
   "cell_type": "code",
   "execution_count": 8,
   "metadata": {},
   "outputs": [],
   "source": [
    "bez_problemu = predmety_by_kat.select([\"katedra\", \"zkratka\", \"nazev\"]).with_columns(pl.concat_str([pl.col(\"zkratka\"), pl.col(\"katedra\")], separator=\"/\").alias(\"identifier\"))"
   ]
  },
  {
   "cell_type": "code",
   "execution_count": 9,
   "metadata": {},
   "outputs": [],
   "source": [
    "# testing = pl.read_csv(\"source_testing/ucitel_predmety_lite\").with_columns(pl.concat_str([pl.col(\"zkratka\"), pl.col(\"katedra\")], separator=\"/\").alias(\"identifier\"))\n",
    "# bez_problemu.join(testing, \"identifier\", \"anti\").head()\n",
    "\n",
    "#predmety_by_kat.select.filter(predmety_by_kat.is_unique().not_())"
   ]
  },
  {
   "cell_type": "code",
   "execution_count": 10,
   "metadata": {},
   "outputs": [],
   "source": [
    "# qr = ~pl.all().is_duplicated()\n",
    "# rozvrh_by_kat = rozvrh_by_kat.filter(qr)\n",
    "# predmety_by_kat = predmety_by_kat.filter(qr)\n"
   ]
  },
  {
   "cell_type": "code",
   "execution_count": 11,
   "metadata": {},
   "outputs": [
    {
     "name": "stdout",
     "output_type": "stream",
     "text": [
      "3083\n"
     ]
    },
    {
     "data": {
      "text/html": [
       "<div><style>\n",
       ".dataframe > thead > tr,\n",
       ".dataframe > tbody > tr {\n",
       "  text-align: right;\n",
       "  white-space: pre-wrap;\n",
       "}\n",
       "</style>\n",
       "<small>shape: (7, 66)</small><table border=\"1\" class=\"dataframe\"><thead><tr><th>katedra</th><th>zkratka</th><th>rok</th><th>nazev</th><th>nazevDlouhy</th><th>vyukaZS</th><th>vyukaLS</th><th>kreditu</th><th>viceZapis</th><th>minObsazeni</th><th>garanti</th><th>garantiSPodily</th><th>garantiUcitIdno</th><th>prednasejici</th><th>prednasejiciSPodily</th><th>prednasejiciUcitIdno</th><th>cvicici</th><th>cviciciSPodily</th><th>cviciciUcitIdno</th><th>seminarici</th><th>seminariciSPodily</th><th>seminariciUcitIdno</th><th>schvalujiciUznani</th><th>schvalujiciUznaniUcitIdno</th><th>examinatori</th><th>examinatoriUcitIdno</th><th>podminujiciPredmety</th><th>vylucujiciPredmety</th><th>podminujePredmety</th><th>literatura</th><th>nahrazPredmety</th><th>metodyVyucovaci</th><th>metodyHodnotici</th><th>akreditovan</th><th>jednotekPrednasek</th><th>jednotkaPrednasky</th><th>jednotekCviceni</th><th>jednotkaCviceni</th><th>jednotekSeminare</th><th>jednotkaSeminare</th><th>anotace</th><th>typZkousky</th><th>maZapocetPredZk</th><th>formaZkousky</th><th>pozadavky</th><th>prehledLatky</th><th>predpoklady</th><th>ziskaneZpusobilosti</th><th>casovaNarocnost</th><th>predmetUrl</th><th>vyucovaciJazyky</th><th>poznamka</th><th>ectsZobrazit</th><th>ectsAkreditace</th><th>ectsNabizetUPrijezdu</th><th>poznamkaVerejna</th><th>skupinaAkreditace</th><th>skupinaAkreditaceKey</th><th>zarazenDoPrezencnihoStudia</th><th>zarazenDoKombinovanehoStudia</th><th>studijniOpory</th><th>praxePocetDnu</th><th>urovenNastavena</th><th>urovenVypoctena</th><th>automatickyUznavatZppZk</th><th>hodZaSemKombForma</th></tr><tr><td>str</td><td>str</td><td>i64</td><td>str</td><td>str</td><td>str</td><td>str</td><td>i64</td><td>str</td><td>str</td><td>str</td><td>str</td><td>list[i64]</td><td>str</td><td>str</td><td>list[i64]</td><td>str</td><td>str</td><td>list[i64]</td><td>str</td><td>str</td><td>list[i64]</td><td>str</td><td>str</td><td>str</td><td>str</td><td>str</td><td>str</td><td>str</td><td>str</td><td>str</td><td>str</td><td>str</td><td>str</td><td>i64</td><td>str</td><td>i64</td><td>str</td><td>i64</td><td>str</td><td>str</td><td>str</td><td>str</td><td>str</td><td>str</td><td>str</td><td>str</td><td>str</td><td>str</td><td>str</td><td>str</td><td>str</td><td>str</td><td>str</td><td>str</td><td>str</td><td>str</td><td>str</td><td>str</td><td>str</td><td>str</td><td>i64</td><td>str</td><td>str</td><td>str</td><td>list[i64]</td></tr></thead><tbody><tr><td>&quot;CNB&quot;</td><td>&quot;EXK&quot;</td><td>2023</td><td>&quot;Exkurze&quot;</td><td>&quot;Exkurze&quot;</td><td>&quot;A&quot;</td><td>&quot;A&quot;</td><td>1</td><td>&quot;NE&quot;</td><td>&quot;&quot;</td><td>&quot;&#x27;doc. Ing. Mar…</td><td>&quot;&#x27;doc. Ing. Mar…</td><td>[2384]</td><td>&quot;&quot;</td><td>&quot;&quot;</td><td>null</td><td>&quot;&quot;</td><td>&quot;&quot;</td><td>null</td><td>&quot;&#x27;doc. Ing. Mar…</td><td>&quot;&#x27;doc. Ing. Mar…</td><td>[2384]</td><td>&quot;&quot;</td><td>&quot;&quot;</td><td>&quot;&quot;</td><td>&quot;&quot;</td><td>&quot;&quot;</td><td>&quot;&quot;</td><td>&quot;&quot;</td><td>&quot;&quot;</td><td>&quot;KFY/EXK&quot;</td><td>&quot;&quot;</td><td>&quot;&quot;</td><td>&quot;N&quot;</td><td>0</td><td>&quot;HOD/TYD&quot;</td><td>1</td><td>&quot;HOD/TYD&quot;</td><td>0</td><td>&quot;HOD/TYD&quot;</td><td>&quot;Cílem kurzu je…</td><td>&quot;Zápočet&quot;</td><td>&quot;NE&quot;</td><td>&quot;Kombinovaná&quot;</td><td>&quot;&quot;</td><td>&quot;&quot;</td><td>&quot;&quot;</td><td>&quot;&quot;</td><td>&quot;&quot;</td><td>&quot;&quot;</td><td>&quot;Čeština&quot;</td><td>&quot;&quot;</td><td>&quot;A&quot;</td><td>&quot;N&quot;</td><td>&quot;N&quot;</td><td>&quot;&quot;</td><td>&quot;&quot;</td><td>&quot;&quot;</td><td>&quot;A&quot;</td><td>&quot;N&quot;</td><td>&quot;&quot;</td><td>0</td><td>&quot;&quot;</td><td>&quot;Bc.&quot;</td><td>&quot;A&quot;</td><td>null</td></tr><tr><td>&quot;CNB&quot;</td><td>&quot;ME203&quot;</td><td>2023</td><td>&quot;PC in flow cyt…</td><td>&quot;Practical cour…</td><td>&quot;N&quot;</td><td>&quot;A&quot;</td><td>3</td><td>&quot;NE&quot;</td><td>&quot;&quot;</td><td>&quot;&#x27;Dominika Zofi…</td><td>&quot;&#x27;Dominika Zofi…</td><td>[4711]</td><td>&quot;&quot;</td><td>&quot;&quot;</td><td>null</td><td>&quot;&#x27;Mgr. Jan Malý…</td><td>&quot;&#x27;Mgr. Jan Malý…</td><td>[280, 4711]</td><td>&quot;&quot;</td><td>&quot;&quot;</td><td>null</td><td>&quot;&quot;</td><td>&quot;&quot;</td><td>&quot;&quot;</td><td>&quot;&quot;</td><td>&quot;&quot;</td><td>&quot;&quot;</td><td>&quot;&quot;</td><td>&quot;&#x27;Freshney, R.I…</td><td>&quot;KBI/ME203&quot;</td><td>&quot;&quot;</td><td>&quot;&quot;</td><td>&quot;N&quot;</td><td>0</td><td>&quot;HOD/TYD&quot;</td><td>2</td><td>&quot;HOD/TYD&quot;</td><td>0</td><td>&quot;HOD/TYD&quot;</td><td>&quot;&quot;</td><td>&quot;Zápočet&quot;</td><td>&quot;NE&quot;</td><td>&quot;Kombinovaná&quot;</td><td>&quot;&quot;</td><td>&quot;&quot;</td><td>&quot;&quot;</td><td>&quot;&quot;</td><td>&quot;&quot;</td><td>&quot;&quot;</td><td>&quot;Angličtina&quot;</td><td>&quot;&quot;</td><td>&quot;A&quot;</td><td>&quot;N&quot;</td><td>&quot;N&quot;</td><td>&quot;bloková výuka&quot;</td><td>&quot;&quot;</td><td>&quot;&quot;</td><td>&quot;A&quot;</td><td>&quot;N&quot;</td><td>&quot;&quot;</td><td>0</td><td>&quot;&quot;</td><td>&quot;Mgr.&quot;</td><td>&quot;A&quot;</td><td>[0]</td></tr><tr><td>&quot;CNB&quot;</td><td>&quot;ME204&quot;</td><td>2023</td><td>&quot;Mikrofluid. sy…</td><td>&quot;Mikrofluidní s…</td><td>&quot;N&quot;</td><td>&quot;A&quot;</td><td>3</td><td>&quot;NE&quot;</td><td>&quot;&quot;</td><td>&quot;&#x27;Mgr. Marcel Š…</td><td>&quot;&#x27;Mgr. Marcel Š…</td><td>[1503]</td><td>&quot;&quot;</td><td>&quot;&quot;</td><td>null</td><td>&quot;&#x27;Mgr. Marcel Š…</td><td>&quot;&#x27;Mgr. Marcel Š…</td><td>[1503]</td><td>&quot;&quot;</td><td>&quot;&quot;</td><td>null</td><td>&quot;&quot;</td><td>&quot;&quot;</td><td>&quot;&quot;</td><td>&quot;&quot;</td><td>&quot;&quot;</td><td>&quot;&quot;</td><td>&quot;&quot;</td><td>&quot;&#x27;FRANSSILA, Sa…</td><td>&quot;KBI/ME204&quot;</td><td>&quot;&quot;</td><td>&quot;&quot;</td><td>&quot;N&quot;</td><td>6</td><td>&quot;HOD/SEM&quot;</td><td>20</td><td>&quot;HOD/SEM&quot;</td><td>0</td><td>&quot;HOD/TYD&quot;</td><td>&quot;Cílem kurzu je…</td><td>&quot;Zápočet&quot;</td><td>&quot;NE&quot;</td><td>&quot;Kombinovaná&quot;</td><td>&quot;&quot;</td><td>&quot;&quot;</td><td>&quot;&quot;</td><td>&quot;&quot;</td><td>&quot;&quot;</td><td>&quot;&quot;</td><td>&quot;Čeština&quot;</td><td>&quot;&quot;</td><td>&quot;A&quot;</td><td>&quot;N&quot;</td><td>&quot;N&quot;</td><td>&quot;bloková výuka&quot;</td><td>&quot;&quot;</td><td>&quot;&quot;</td><td>&quot;A&quot;</td><td>&quot;N&quot;</td><td>&quot;&quot;</td><td>0</td><td>&quot;&quot;</td><td>&quot;Mgr.&quot;</td><td>&quot;A&quot;</td><td>[0]</td></tr><tr><td>&quot;CNB&quot;</td><td>&quot;M100&quot;</td><td>2023</td><td>&quot;Vědecká komuni…</td><td>&quot;Vědecká komuni…</td><td>&quot;A&quot;</td><td>&quot;N&quot;</td><td>3</td><td>&quot;NE&quot;</td><td>&quot;&quot;</td><td>&quot;&#x27;Mgr. Jan Malý…</td><td>&quot;&#x27;Mgr. Jan Malý…</td><td>[280]</td><td>&quot;&#x27;doc. RNDr. Ja…</td><td>&quot;&#x27;doc. RNDr. Ja…</td><td>[278, 2939, 280]</td><td>&quot;&#x27;prof. doc. RN…</td><td>&quot;&#x27;prof. doc. RN…</td><td>[3661, 278, … 280]</td><td>&quot;&quot;</td><td>&quot;&quot;</td><td>null</td><td>&quot;&quot;</td><td>&quot;&quot;</td><td>&quot;&quot;</td><td>&quot;&quot;</td><td>&quot;&quot;</td><td>&quot;&quot;</td><td>&quot;&quot;</td><td>&quot;&#x27;ŠILHÁNEK, J. …</td><td>&quot;KBI/M100&quot;</td><td>&quot;&quot;</td><td>&quot;&quot;</td><td>&quot;N&quot;</td><td>1</td><td>&quot;HOD/TYD&quot;</td><td>1</td><td>&quot;HOD/TYD&quot;</td><td>0</td><td>&quot;HOD/TYD&quot;</td><td>&quot;Kurz předpoklá…</td><td>&quot;Zápočet&quot;</td><td>&quot;NE&quot;</td><td>&quot;Kombinovaná&quot;</td><td>&quot;Kromě účasti n…</td><td>&quot;(1) Seznámit s…</td><td>&quot;&quot;</td><td>&quot;&quot;</td><td>&quot;&quot;</td><td>&quot;&quot;</td><td>&quot;Čeština&quot;</td><td>&quot;&quot;</td><td>&quot;A&quot;</td><td>&quot;N&quot;</td><td>&quot;N&quot;</td><td>&quot;&quot;</td><td>&quot;&quot;</td><td>&quot;&quot;</td><td>&quot;A&quot;</td><td>&quot;N&quot;</td><td>&quot;&quot;</td><td>0</td><td>&quot;&quot;</td><td>&quot;Mgr.&quot;</td><td>&quot;A&quot;</td><td>null</td></tr><tr><td>&quot;CNB&quot;</td><td>&quot;VT&quot;</td><td>2023</td><td>&quot;Výrobní techno…</td><td>&quot;Výrobní techno…</td><td>&quot;N&quot;</td><td>&quot;A&quot;</td><td>3</td><td>&quot;NE&quot;</td><td>&quot;&quot;</td><td>&quot;&#x27;doc. Ing. Mar…</td><td>&quot;&#x27;doc. Ing. Mar…</td><td>[2384]</td><td>&quot;&#x27;prof. Ing. Zd…</td><td>&quot;&#x27;prof. Ing. Zd…</td><td>[332, 2384]</td><td>&quot;&quot;</td><td>&quot;&quot;</td><td>null</td><td>&quot;&quot;</td><td>&quot;&quot;</td><td>null</td><td>&quot;&quot;</td><td>&quot;&quot;</td><td>&quot;&quot;</td><td>&quot;&quot;</td><td>&quot;&quot;</td><td>&quot;&quot;</td><td>&quot;&quot;</td><td>&quot;&#x27;Sohnel O., Ri…</td><td>&quot;KFY/VT&quot;</td><td>&quot;&quot;</td><td>&quot;&quot;</td><td>&quot;N&quot;</td><td>2</td><td>&quot;HOD/TYD&quot;</td><td>0</td><td>&quot;HOD/TYD&quot;</td><td>0</td><td>&quot;HOD/TYD&quot;</td><td>&quot;Budou zmíněny …</td><td>&quot;Zkouška&quot;</td><td>&quot;NE&quot;</td><td>&quot;Kombinovaná&quot;</td><td>&quot;Zkouška probíh…</td><td>&quot;1. Typy reakto…</td><td>&quot;&quot;</td><td>&quot;&quot;</td><td>&quot;&quot;</td><td>&quot;&quot;</td><td>&quot;&quot;</td><td>&quot;&quot;</td><td>&quot;A&quot;</td><td>&quot;N&quot;</td><td>&quot;N&quot;</td><td>&quot;&quot;</td><td>&quot;&quot;</td><td>&quot;&quot;</td><td>&quot;A&quot;</td><td>&quot;N&quot;</td><td>&quot;&quot;</td><td>0</td><td>&quot;&quot;</td><td>&quot;Bc.&quot;</td><td>&quot;A&quot;</td><td>[0]</td></tr><tr><td>&quot;KBI&quot;</td><td>&quot;BK220&quot;</td><td>2023</td><td>&quot;Úvod do přípr.…</td><td>&quot;Úvod do přípra…</td><td>&quot;N&quot;</td><td>&quot;A&quot;</td><td>2</td><td>&quot;NE&quot;</td><td>&quot;&quot;</td><td>&quot;&#x27;prof. doc. RN…</td><td>&quot;&#x27;prof. doc. RN…</td><td>[3661]</td><td>&quot;&quot;</td><td>&quot;&quot;</td><td>null</td><td>&quot;&#x27;prof. doc. RN…</td><td>&quot;&#x27;prof. doc. RN…</td><td>[3661]</td><td>&quot;&quot;</td><td>&quot;&quot;</td><td>null</td><td>&quot;&quot;</td><td>&quot;&quot;</td><td>&quot;&quot;</td><td>&quot;&quot;</td><td>&quot;&quot;</td><td>&quot;&quot;</td><td>&quot;&quot;</td><td>&quot;&quot;</td><td>&quot;&quot;</td><td>&quot;&quot;</td><td>&quot;&quot;</td><td>&quot;N&quot;</td><td>0</td><td>&quot;HOD/SEM&quot;</td><td>3</td><td>&quot;HOD/SEM&quot;</td><td>0</td><td>&quot;HOD/SEM&quot;</td><td>&quot;Cílem kurzu bu…</td><td>&quot;Zápočet&quot;</td><td>&quot;NE&quot;</td><td>&quot;Kombinovaná&quot;</td><td>&quot;&quot;</td><td>&quot;&quot;</td><td>&quot;&quot;</td><td>&quot;&quot;</td><td>&quot;&quot;</td><td>&quot;&quot;</td><td>&quot;Čeština&quot;</td><td>&quot;&quot;</td><td>&quot;A&quot;</td><td>&quot;N&quot;</td><td>&quot;N&quot;</td><td>&quot;&quot;</td><td>&quot;&quot;</td><td>&quot;&quot;</td><td>&quot;N&quot;</td><td>&quot;A&quot;</td><td>&quot;&quot;</td><td>0</td><td>&quot;&quot;</td><td>&quot;Bc.&quot;</td><td>&quot;&quot;</td><td>null</td></tr><tr><td>&quot;KBI&quot;</td><td>&quot;BK222&quot;</td><td>2023</td><td>&quot;Biologické lab…</td><td>&quot;Biologické lab…</td><td>&quot;N&quot;</td><td>&quot;A&quot;</td><td>3</td><td>&quot;NE&quot;</td><td>&quot;&quot;</td><td>&quot;&#x27;Mgr. Marcel Š…</td><td>&quot;&#x27;Mgr. Marcel Š…</td><td>[1503]</td><td>&quot;&quot;</td><td>&quot;&quot;</td><td>null</td><td>&quot;&#x27;Mgr. Lukáš By…</td><td>&quot;&#x27;Mgr. Lukáš By…</td><td>[5969, 8317, 1503]</td><td>&quot;&quot;</td><td>&quot;&quot;</td><td>null</td><td>&quot;&quot;</td><td>&quot;&quot;</td><td>&quot;&quot;</td><td>&quot;&quot;</td><td>&quot;&quot;</td><td>&quot;&quot;</td><td>&quot;&quot;</td><td>&quot;&#x27;Galuszka, P.,…</td><td>&quot;&quot;</td><td>&quot;&quot;</td><td>&quot;&quot;</td><td>&quot;N&quot;</td><td>0</td><td>&quot;HOD/SEM&quot;</td><td>8</td><td>&quot;HOD/SEM&quot;</td><td>0</td><td>&quot;HOD/SEM&quot;</td><td>&quot;Předmět je zam…</td><td>&quot;Zápočet&quot;</td><td>&quot;NE&quot;</td><td>&quot;Kombinovaná&quot;</td><td>&quot;&quot;</td><td>&quot;Tematické zamě…</td><td>&quot;Znalosti z che…</td><td>&quot;&quot;</td><td>&quot;&quot;</td><td>&quot;&quot;</td><td>&quot;Čeština&quot;</td><td>&quot;&quot;</td><td>&quot;A&quot;</td><td>&quot;N&quot;</td><td>&quot;N&quot;</td><td>&quot;&quot;</td><td>&quot;&quot;</td><td>&quot;&quot;</td><td>&quot;N&quot;</td><td>&quot;A&quot;</td><td>&quot;&quot;</td><td>0</td><td>&quot;&quot;</td><td>&quot;Bc.&quot;</td><td>&quot;A&quot;</td><td>null</td></tr></tbody></table></div>"
      ],
      "text/plain": [
       "shape: (7, 66)\n",
       "┌─────────┬─────────┬──────┬─────────────┬───┬─────────────┬─────────────┬────────────┬────────────┐\n",
       "│ katedra ┆ zkratka ┆ rok  ┆ nazev       ┆ … ┆ urovenNasta ┆ urovenVypoc ┆ automatick ┆ hodZaSemKo │\n",
       "│ ---     ┆ ---     ┆ ---  ┆ ---         ┆   ┆ vena        ┆ tena        ┆ yUznavatZp ┆ mbForma    │\n",
       "│ str     ┆ str     ┆ i64  ┆ str         ┆   ┆ ---         ┆ ---         ┆ pZk        ┆ ---        │\n",
       "│         ┆         ┆      ┆             ┆   ┆ str         ┆ str         ┆ ---        ┆ list[i64]  │\n",
       "│         ┆         ┆      ┆             ┆   ┆             ┆             ┆ str        ┆            │\n",
       "╞═════════╪═════════╪══════╪═════════════╪═══╪═════════════╪═════════════╪════════════╪════════════╡\n",
       "│ CNB     ┆ EXK     ┆ 2023 ┆ Exkurze     ┆ … ┆             ┆ Bc.         ┆ A          ┆ null       │\n",
       "│ CNB     ┆ ME203   ┆ 2023 ┆ PC in flow  ┆ … ┆             ┆ Mgr.        ┆ A          ┆ [0]        │\n",
       "│         ┆         ┆      ┆ cytometry   ┆   ┆             ┆             ┆            ┆            │\n",
       "│         ┆         ┆      ┆ and cell    ┆   ┆             ┆             ┆            ┆            │\n",
       "│         ┆         ┆      ┆ so…         ┆   ┆             ┆             ┆            ┆            │\n",
       "│ CNB     ┆ ME204   ┆ 2023 ┆ Mikrofluid. ┆ … ┆             ┆ Mgr.        ┆ A          ┆ [0]        │\n",
       "│         ┆         ┆      ┆ systémy a   ┆   ┆             ┆             ┆            ┆            │\n",
       "│         ┆         ┆      ┆ biologická… ┆   ┆             ┆             ┆            ┆            │\n",
       "│ CNB     ┆ M100    ┆ 2023 ┆ Vědecká     ┆ … ┆             ┆ Mgr.        ┆ A          ┆ null       │\n",
       "│         ┆         ┆      ┆ komunikace  ┆   ┆             ┆             ┆            ┆            │\n",
       "│         ┆         ┆      ┆ v biologii  ┆   ┆             ┆             ┆            ┆            │\n",
       "│ CNB     ┆ VT      ┆ 2023 ┆ Výrobní     ┆ … ┆             ┆ Bc.         ┆ A          ┆ [0]        │\n",
       "│         ┆         ┆      ┆ technologie ┆   ┆             ┆             ┆            ┆            │\n",
       "│ KBI     ┆ BK220   ┆ 2023 ┆ Úvod do     ┆ … ┆             ┆ Bc.         ┆            ┆ null       │\n",
       "│         ┆         ┆      ┆ přípr. odb. ┆   ┆             ┆             ┆            ┆            │\n",
       "│         ┆         ┆      ┆ studií a    ┆   ┆             ┆             ┆            ┆            │\n",
       "│         ┆         ┆      ┆ věd…        ┆   ┆             ┆             ┆            ┆            │\n",
       "│ KBI     ┆ BK222   ┆ 2023 ┆ Biologické  ┆ … ┆             ┆ Bc.         ┆ A          ┆ null       │\n",
       "│         ┆         ┆      ┆ laboratorní ┆   ┆             ┆             ┆            ┆            │\n",
       "│         ┆         ┆      ┆ metody II   ┆   ┆             ┆             ┆            ┆            │\n",
       "└─────────┴─────────┴──────┴─────────────┴───┴─────────────┴─────────────┴────────────┴────────────┘"
      ]
     },
     "execution_count": 11,
     "metadata": {},
     "output_type": "execute_result"
    }
   ],
   "source": [
    "print(predmety_by_kat.__len__())\n",
    "predmety_by_kat.head(7)"
   ]
  },
  {
   "cell_type": "code",
   "execution_count": 12,
   "metadata": {},
   "outputs": [
    {
     "name": "stdout",
     "output_type": "stream",
     "text": [
      "2696\n"
     ]
    },
    {
     "data": {
      "text/html": [
       "<div><style>\n",
       ".dataframe > thead > tr,\n",
       ".dataframe > tbody > tr {\n",
       "  text-align: right;\n",
       "  white-space: pre-wrap;\n",
       "}\n",
       "</style>\n",
       "<small>shape: (5, 54)</small><table border=\"1\" class=\"dataframe\"><thead><tr><th>roakIdno</th><th>nazev</th><th>katedra</th><th>zkratka</th><th>statut</th><th>ucitIdno</th><th>ucitIdno.ucitel</th><th>jmeno.ucitel</th><th>prijmeni.ucitel</th><th>titulPred.ucitel</th><th>titulZa.ucitel</th><th>platnost.ucitel</th><th>zamestnanec.ucitel</th><th>podilNaVyuce.ucitel</th><th>rok</th><th>budova</th><th>mistnost</th><th>kapacitaMistnosti</th><th>planObsazeni</th><th>obsazeni</th><th>typAkce</th><th>typAkceZkr</th><th>platnost</th><th>den</th><th>denZkr</th><th>vyucJazyk</th><th>hodinaOd</th><th>hodinaDo</th><th>pocetVyucHodin</th><th>hodinaSkutOd</th><th>hodinaSkutDo</th><th>tydenOd</th><th>tydenDo</th><th>tyden</th><th>tydenZkr</th><th>grupIdno</th><th>jeNadrazena</th><th>maNadrazenou</th><th>kontakt</th><th>krouzky</th><th>casovaRada</th><th>datum</th><th>datumOd</th><th>datumDo</th><th>druhAkce</th><th>vsichniUciteleUcitIdno</th><th>vsichniUciteleJmenaTituly</th><th>vsichniUciteleJmenaTitulySPodily</th><th>vsichniUcitelePrijmeni</th><th>referencedIdno</th><th>poznamkaRozvrhare</th><th>nekonaSe</th><th>owner</th><th>zakazaneAkce</th></tr><tr><td>i64</td><td>str</td><td>str</td><td>str</td><td>str</td><td>str</td><td>list[i64]</td><td>str</td><td>str</td><td>str</td><td>str</td><td>str</td><td>str</td><td>str</td><td>i64</td><td>str</td><td>str</td><td>str</td><td>i64</td><td>i64</td><td>str</td><td>str</td><td>str</td><td>str</td><td>str</td><td>str</td><td>str</td><td>str</td><td>i64</td><td>str</td><td>str</td><td>i64</td><td>i64</td><td>str</td><td>str</td><td>str</td><td>str</td><td>str</td><td>str</td><td>str</td><td>str</td><td>str</td><td>str</td><td>str</td><td>str</td><td>list[i64]</td><td>str</td><td>str</td><td>str</td><td>i64</td><td>str</td><td>str</td><td>str</td><td>str</td></tr></thead><tbody><tr><td>476300</td><td>&quot;Výp. a odhad. …</td><td>&quot;CNB&quot;</td><td>&quot;METD&quot;</td><td>&quot;&quot;</td><td>&quot;332&quot;</td><td>[332]</td><td>&quot;Zdeňka&quot;</td><td>&quot;Kolská&quot;</td><td>&quot;prof. Ing.&quot;</td><td>&quot;Ph.D.&quot;</td><td>&quot;A&quot;</td><td>&quot;A&quot;</td><td>&quot;100&quot;</td><td>2023</td><td>&quot;CP&quot;</td><td>&quot;2.32&quot;</td><td>&quot;22&quot;</td><td>15</td><td>1</td><td>&quot;Přednáška&quot;</td><td>&quot;Př&quot;</td><td>&quot;A&quot;</td><td>&quot;Středa&quot;</td><td>&quot;St&quot;</td><td>&quot;&quot;</td><td>&quot;2&quot;</td><td>&quot;2&quot;</td><td>1</td><td>&quot;08:00&quot;</td><td>&quot;08:50&quot;</td><td>40</td><td>1</td><td>&quot;Každý&quot;</td><td>&quot;K&quot;</td><td>&quot;&quot;</td><td>&quot;N&quot;</td><td>&quot;N&quot;</td><td>&quot;Automaticky vy…</td><td>&quot;1.NANO,2.NANO,…</td><td>&quot;UJEP&quot;</td><td>&quot;&quot;</td><td>&quot;4.10.2023&quot;</td><td>&quot;3.1.2024&quot;</td><td>&quot;R&quot;</td><td>[332]</td><td>&quot;prof. Ing. Zde…</td><td>&quot;&#x27;prof. Ing. Zd…</td><td>&quot;Kolská&quot;</td><td>476300</td><td>&quot;&quot;</td><td>&quot;&quot;</td><td>&quot;PETRUSPRF&quot;</td><td>&quot;&quot;</td></tr><tr><td>469195</td><td>&quot;Bioanalytické …</td><td>&quot;CNB&quot;</td><td>&quot;ME101&quot;</td><td>&quot;&quot;</td><td>&quot;280&quot;</td><td>[280]</td><td>&quot;Jan&quot;</td><td>&quot;Malý&quot;</td><td>&quot;Mgr.&quot;</td><td>&quot;Ph.D.&quot;</td><td>&quot;A&quot;</td><td>&quot;A&quot;</td><td>&quot;100&quot;</td><td>2023</td><td>&quot;CP&quot;</td><td>&quot;1.02&quot;</td><td>&quot;32&quot;</td><td>15</td><td>6</td><td>&quot;Přednáška&quot;</td><td>&quot;Př&quot;</td><td>&quot;A&quot;</td><td>&quot;Pátek&quot;</td><td>&quot;Pá&quot;</td><td>&quot;&quot;</td><td>&quot;2&quot;</td><td>&quot;3&quot;</td><td>2</td><td>&quot;08:00&quot;</td><td>&quot;09:50&quot;</td><td>40</td><td>1</td><td>&quot;Každý&quot;</td><td>&quot;K&quot;</td><td>&quot;&quot;</td><td>&quot;N&quot;</td><td>&quot;N&quot;</td><td>&quot;Automaticky vy…</td><td>&quot;1.BI N EB&quot;</td><td>&quot;UJEP&quot;</td><td>&quot;&quot;</td><td>&quot;6.10.2023&quot;</td><td>&quot;5.1.2024&quot;</td><td>&quot;R&quot;</td><td>[280]</td><td>&quot;Mgr. Jan Malý,…</td><td>&quot;&#x27;Mgr. Jan Malý…</td><td>&quot;Malý&quot;</td><td>469195</td><td>&quot;&quot;</td><td>&quot;&quot;</td><td>&quot;PETRUSPRF&quot;</td><td>&quot;&quot;</td></tr><tr><td>469191</td><td>&quot;Metody příprav…</td><td>&quot;CNB&quot;</td><td>&quot;NA08&quot;</td><td>&quot;&quot;</td><td>&quot;332&quot;</td><td>[332]</td><td>&quot;Zdeňka&quot;</td><td>&quot;Kolská&quot;</td><td>&quot;prof. Ing.&quot;</td><td>&quot;Ph.D.&quot;</td><td>&quot;A&quot;</td><td>&quot;A&quot;</td><td>&quot;34&quot;</td><td>2023</td><td>&quot;CP&quot;</td><td>&quot;3.26&quot;</td><td>&quot;12&quot;</td><td>5</td><td>1</td><td>&quot;Přednáška&quot;</td><td>&quot;Př&quot;</td><td>&quot;A&quot;</td><td>&quot;Pátek&quot;</td><td>&quot;Pá&quot;</td><td>&quot;&quot;</td><td>&quot;4&quot;</td><td>&quot;4&quot;</td><td>1</td><td>&quot;10:00&quot;</td><td>&quot;10:50&quot;</td><td>40</td><td>1</td><td>&quot;Každý&quot;</td><td>&quot;K&quot;</td><td>&quot;&quot;</td><td>&quot;N&quot;</td><td>&quot;N&quot;</td><td>&quot;Automaticky vy…</td><td>&quot;1.N NANO&quot;</td><td>&quot;UJEP&quot;</td><td>&quot;&quot;</td><td>&quot;6.10.2023&quot;</td><td>&quot;5.1.2024&quot;</td><td>&quot;R&quot;</td><td>[332, 280, 308]</td><td>&quot;prof. Ing. Zde…</td><td>&quot;&#x27;prof. Ing. Zd…</td><td>&quot;Kolská, Malý, …</td><td>469191</td><td>&quot;&quot;</td><td>&quot;&quot;</td><td>&quot;PETRUSPRF&quot;</td><td>&quot;&quot;</td></tr><tr><td>476308</td><td>&quot;Bakalářská prá…</td><td>&quot;CNB&quot;</td><td>&quot;BP2&quot;</td><td>&quot;&quot;</td><td>&quot;&quot;</td><td>null</td><td>&quot;&quot;</td><td>&quot;&quot;</td><td>&quot;&quot;</td><td>&quot;&quot;</td><td>&quot;&quot;</td><td>&quot;&quot;</td><td>&quot;&quot;</td><td>2023</td><td>&quot;&quot;</td><td>&quot;&quot;</td><td>&quot;&quot;</td><td>10</td><td>4</td><td>&quot;Cvičení&quot;</td><td>&quot;Cv&quot;</td><td>&quot;A&quot;</td><td>&quot;&quot;</td><td>&quot;&quot;</td><td>&quot;&quot;</td><td>&quot;&quot;</td><td>&quot;&quot;</td><td>0</td><td>&quot;00:00&quot;</td><td>&quot;00:00&quot;</td><td>0</td><td>0</td><td>&quot;Každý&quot;</td><td>&quot;K&quot;</td><td>&quot;&quot;</td><td>&quot;N&quot;</td><td>&quot;N&quot;</td><td>&quot;Automaticky vy…</td><td>&quot;3.NANO&quot;</td><td>&quot;&quot;</td><td>&quot;&quot;</td><td>&quot;&quot;</td><td>&quot;&quot;</td><td>&quot;R&quot;</td><td>null</td><td>&quot;&quot;</td><td>&quot;&quot;</td><td>&quot;&quot;</td><td>476308</td><td>&quot;&quot;</td><td>&quot;&quot;</td><td>&quot;PETRUSPRF&quot;</td><td>&quot;&quot;</td></tr><tr><td>489251</td><td>&quot;Fyziologie živ…</td><td>&quot;CNB&quot;</td><td>&quot;KB502&quot;</td><td>&quot;&quot;</td><td>&quot;8024&quot;</td><td>[8024]</td><td>&quot;Stanislav&quot;</td><td>&quot;Vinopal&quot;</td><td>&quot;Ing.&quot;</td><td>&quot;Ph.D.&quot;</td><td>&quot;A&quot;</td><td>&quot;A&quot;</td><td>&quot;100&quot;</td><td>2023</td><td>&quot;ZV&quot;</td><td>&quot;B2&quot;</td><td>&quot;12&quot;</td><td>1</td><td>0</td><td>&quot;Přednáška&quot;</td><td>&quot;Př&quot;</td><td>&quot;A&quot;</td><td>&quot;Sobota&quot;</td><td>&quot;So&quot;</td><td>&quot;&quot;</td><td>&quot;8&quot;</td><td>&quot;13&quot;</td><td>6</td><td>&quot;14:00&quot;</td><td>&quot;19:50&quot;</td><td>11</td><td>11</td><td>&quot;Jiný&quot;</td><td>&quot;J&quot;</td><td>&quot;31652&quot;</td><td>&quot;N&quot;</td><td>&quot;N&quot;</td><td>&quot;Automaticky vy…</td><td>&quot;3.BI CHE K&quot;</td><td>&quot;UJEP&quot;</td><td>&quot;&quot;</td><td>&quot;16.3.2024&quot;</td><td>&quot;16.3.2024&quot;</td><td>&quot;R&quot;</td><td>[8024, 5275]</td><td>&quot;Ing. Stanislav…</td><td>&quot;&#x27;Ing. Stanisla…</td><td>&quot;Vinopal, Ruper…</td><td>489251</td><td>&quot;&quot;</td><td>&quot;&quot;</td><td>&quot;RSMEJKAL&quot;</td><td>&quot;&quot;</td></tr></tbody></table></div>"
      ],
      "text/plain": [
       "shape: (5, 54)\n",
       "┌──────────┬─────────────┬─────────┬─────────┬───┬─────────────┬──────────┬───────────┬────────────┐\n",
       "│ roakIdno ┆ nazev       ┆ katedra ┆ zkratka ┆ … ┆ poznamkaRoz ┆ nekonaSe ┆ owner     ┆ zakazaneAk │\n",
       "│ ---      ┆ ---         ┆ ---     ┆ ---     ┆   ┆ vrhare      ┆ ---      ┆ ---       ┆ ce         │\n",
       "│ i64      ┆ str         ┆ str     ┆ str     ┆   ┆ ---         ┆ str      ┆ str       ┆ ---        │\n",
       "│          ┆             ┆         ┆         ┆   ┆ str         ┆          ┆           ┆ str        │\n",
       "╞══════════╪═════════════╪═════════╪═════════╪═══╪═════════════╪══════════╪═══════════╪════════════╡\n",
       "│ 476300   ┆ Výp. a      ┆ CNB     ┆ METD    ┆ … ┆             ┆          ┆ PETRUSPRF ┆            │\n",
       "│          ┆ odhad. met. ┆         ┆         ┆   ┆             ┆          ┆           ┆            │\n",
       "│          ┆ pro fy-che  ┆         ┆         ┆   ┆             ┆          ┆           ┆            │\n",
       "│          ┆ vl…         ┆         ┆         ┆   ┆             ┆          ┆           ┆            │\n",
       "│ 469195   ┆ Bioanalytic ┆ CNB     ┆ ME101   ┆ … ┆             ┆          ┆ PETRUSPRF ┆            │\n",
       "│          ┆ ké metody   ┆         ┆         ┆   ┆             ┆          ┆           ┆            │\n",
       "│ 469191   ┆ Metody      ┆ CNB     ┆ NA08    ┆ … ┆             ┆          ┆ PETRUSPRF ┆            │\n",
       "│          ┆ přípravy    ┆         ┆         ┆   ┆             ┆          ┆           ┆            │\n",
       "│          ┆ nanomateriá ┆         ┆         ┆   ┆             ┆          ┆           ┆            │\n",
       "│          ┆ lů          ┆         ┆         ┆   ┆             ┆          ┆           ┆            │\n",
       "│ 476308   ┆ Bakalářská  ┆ CNB     ┆ BP2     ┆ … ┆             ┆          ┆ PETRUSPRF ┆            │\n",
       "│          ┆ práce II    ┆         ┆         ┆   ┆             ┆          ┆           ┆            │\n",
       "│ 489251   ┆ Fyziologie  ┆ CNB     ┆ KB502   ┆ … ┆             ┆          ┆ RSMEJKAL  ┆            │\n",
       "│          ┆ živočichů a ┆         ┆         ┆   ┆             ┆          ┆           ┆            │\n",
       "│          ┆ člověka     ┆         ┆         ┆   ┆             ┆          ┆           ┆            │\n",
       "└──────────┴─────────────┴─────────┴─────────┴───┴─────────────┴──────────┴───────────┴────────────┘"
      ]
     },
     "execution_count": 12,
     "metadata": {},
     "output_type": "execute_result"
    }
   ],
   "source": [
    "print(rozvrh_by_kat.__len__())\n",
    "rozvrh_by_kat.head(5)"
   ]
  },
  {
   "cell_type": "code",
   "execution_count": 13,
   "metadata": {},
   "outputs": [
    {
     "data": {
      "text/plain": [
       "{'katedra', 'nazev', 'rok', 'zkratka'}"
      ]
     },
     "execution_count": 13,
     "metadata": {},
     "output_type": "execute_result"
    }
   ],
   "source": [
    "set(rozvrh_by_kat.columns) & set(predmety_by_kat.columns)"
   ]
  },
  {
   "cell_type": "code",
   "execution_count": 14,
   "metadata": {},
   "outputs": [
    {
     "data": {
      "text/html": [
       "<div><style>\n",
       ".dataframe > thead > tr,\n",
       ".dataframe > tbody > tr {\n",
       "  text-align: right;\n",
       "  white-space: pre-wrap;\n",
       "}\n",
       "</style>\n",
       "<small>shape: (1, 54)</small><table border=\"1\" class=\"dataframe\"><thead><tr><th>roakIdno</th><th>nazev</th><th>katedra</th><th>zkratka</th><th>statut</th><th>ucitIdno</th><th>ucitIdno.ucitel</th><th>jmeno.ucitel</th><th>prijmeni.ucitel</th><th>titulPred.ucitel</th><th>titulZa.ucitel</th><th>platnost.ucitel</th><th>zamestnanec.ucitel</th><th>podilNaVyuce.ucitel</th><th>rok</th><th>budova</th><th>mistnost</th><th>kapacitaMistnosti</th><th>planObsazeni</th><th>obsazeni</th><th>typAkce</th><th>typAkceZkr</th><th>platnost</th><th>den</th><th>denZkr</th><th>vyucJazyk</th><th>hodinaOd</th><th>hodinaDo</th><th>pocetVyucHodin</th><th>hodinaSkutOd</th><th>hodinaSkutDo</th><th>tydenOd</th><th>tydenDo</th><th>tyden</th><th>tydenZkr</th><th>grupIdno</th><th>jeNadrazena</th><th>maNadrazenou</th><th>kontakt</th><th>krouzky</th><th>casovaRada</th><th>datum</th><th>datumOd</th><th>datumDo</th><th>druhAkce</th><th>vsichniUciteleUcitIdno</th><th>vsichniUciteleJmenaTituly</th><th>vsichniUciteleJmenaTitulySPodily</th><th>vsichniUcitelePrijmeni</th><th>referencedIdno</th><th>poznamkaRozvrhare</th><th>nekonaSe</th><th>owner</th><th>zakazaneAkce</th></tr><tr><td>u32</td><td>u32</td><td>u32</td><td>u32</td><td>u32</td><td>u32</td><td>u32</td><td>u32</td><td>u32</td><td>u32</td><td>u32</td><td>u32</td><td>u32</td><td>u32</td><td>u32</td><td>u32</td><td>u32</td><td>u32</td><td>u32</td><td>u32</td><td>u32</td><td>u32</td><td>u32</td><td>u32</td><td>u32</td><td>u32</td><td>u32</td><td>u32</td><td>u32</td><td>u32</td><td>u32</td><td>u32</td><td>u32</td><td>u32</td><td>u32</td><td>u32</td><td>u32</td><td>u32</td><td>u32</td><td>u32</td><td>u32</td><td>u32</td><td>u32</td><td>u32</td><td>u32</td><td>u32</td><td>u32</td><td>u32</td><td>u32</td><td>u32</td><td>u32</td><td>u32</td><td>u32</td><td>u32</td></tr></thead><tbody><tr><td>0</td><td>0</td><td>0</td><td>0</td><td>0</td><td>162</td><td>237</td><td>0</td><td>0</td><td>0</td><td>0</td><td>0</td><td>0</td><td>162</td><td>0</td><td>0</td><td>66</td><td>160</td><td>0</td><td>0</td><td>0</td><td>0</td><td>0</td><td>0</td><td>0</td><td>0</td><td>473</td><td>473</td><td>172</td><td>0</td><td>0</td><td>0</td><td>0</td><td>0</td><td>0</td><td>0</td><td>0</td><td>0</td><td>0</td><td>0</td><td>0</td><td>0</td><td>0</td><td>0</td><td>0</td><td>237</td><td>0</td><td>0</td><td>0</td><td>0</td><td>0</td><td>0</td><td>0</td><td>0</td></tr></tbody></table></div>"
      ],
      "text/plain": [
       "shape: (1, 54)\n",
       "┌──────────┬───────┬─────────┬─────────┬───┬───────────────────┬──────────┬───────┬──────────────┐\n",
       "│ roakIdno ┆ nazev ┆ katedra ┆ zkratka ┆ … ┆ poznamkaRozvrhare ┆ nekonaSe ┆ owner ┆ zakazaneAkce │\n",
       "│ ---      ┆ ---   ┆ ---     ┆ ---     ┆   ┆ ---               ┆ ---      ┆ ---   ┆ ---          │\n",
       "│ u32      ┆ u32   ┆ u32     ┆ u32     ┆   ┆ u32               ┆ u32      ┆ u32   ┆ u32          │\n",
       "╞══════════╪═══════╪═════════╪═════════╪═══╪═══════════════════╪══════════╪═══════╪══════════════╡\n",
       "│ 0        ┆ 0     ┆ 0       ┆ 0       ┆ … ┆ 0                 ┆ 0        ┆ 0     ┆ 0            │\n",
       "└──────────┴───────┴─────────┴─────────┴───┴───────────────────┴──────────┴───────┴──────────────┘"
      ]
     },
     "execution_count": 14,
     "metadata": {},
     "output_type": "execute_result"
    }
   ],
   "source": [
    "rozvrh_by_kat.null_count()"
   ]
  },
  {
   "cell_type": "code",
   "execution_count": 15,
   "metadata": {},
   "outputs": [
    {
     "data": {
      "text/html": [
       "<div><style>\n",
       ".dataframe > thead > tr,\n",
       ".dataframe > tbody > tr {\n",
       "  text-align: right;\n",
       "  white-space: pre-wrap;\n",
       "}\n",
       "</style>\n",
       "<small>shape: (1, 66)</small><table border=\"1\" class=\"dataframe\"><thead><tr><th>katedra</th><th>zkratka</th><th>rok</th><th>nazev</th><th>nazevDlouhy</th><th>vyukaZS</th><th>vyukaLS</th><th>kreditu</th><th>viceZapis</th><th>minObsazeni</th><th>garanti</th><th>garantiSPodily</th><th>garantiUcitIdno</th><th>prednasejici</th><th>prednasejiciSPodily</th><th>prednasejiciUcitIdno</th><th>cvicici</th><th>cviciciSPodily</th><th>cviciciUcitIdno</th><th>seminarici</th><th>seminariciSPodily</th><th>seminariciUcitIdno</th><th>schvalujiciUznani</th><th>schvalujiciUznaniUcitIdno</th><th>examinatori</th><th>examinatoriUcitIdno</th><th>podminujiciPredmety</th><th>vylucujiciPredmety</th><th>podminujePredmety</th><th>literatura</th><th>nahrazPredmety</th><th>metodyVyucovaci</th><th>metodyHodnotici</th><th>akreditovan</th><th>jednotekPrednasek</th><th>jednotkaPrednasky</th><th>jednotekCviceni</th><th>jednotkaCviceni</th><th>jednotekSeminare</th><th>jednotkaSeminare</th><th>anotace</th><th>typZkousky</th><th>maZapocetPredZk</th><th>formaZkousky</th><th>pozadavky</th><th>prehledLatky</th><th>predpoklady</th><th>ziskaneZpusobilosti</th><th>casovaNarocnost</th><th>predmetUrl</th><th>vyucovaciJazyky</th><th>poznamka</th><th>ectsZobrazit</th><th>ectsAkreditace</th><th>ectsNabizetUPrijezdu</th><th>poznamkaVerejna</th><th>skupinaAkreditace</th><th>skupinaAkreditaceKey</th><th>zarazenDoPrezencnihoStudia</th><th>zarazenDoKombinovanehoStudia</th><th>studijniOpory</th><th>praxePocetDnu</th><th>urovenNastavena</th><th>urovenVypoctena</th><th>automatickyUznavatZppZk</th><th>hodZaSemKombForma</th></tr><tr><td>u32</td><td>u32</td><td>u32</td><td>u32</td><td>u32</td><td>u32</td><td>u32</td><td>u32</td><td>u32</td><td>u32</td><td>u32</td><td>u32</td><td>u32</td><td>u32</td><td>u32</td><td>u32</td><td>u32</td><td>u32</td><td>u32</td><td>u32</td><td>u32</td><td>u32</td><td>u32</td><td>u32</td><td>u32</td><td>u32</td><td>u32</td><td>u32</td><td>u32</td><td>u32</td><td>u32</td><td>u32</td><td>u32</td><td>u32</td><td>u32</td><td>u32</td><td>u32</td><td>u32</td><td>u32</td><td>u32</td><td>u32</td><td>u32</td><td>u32</td><td>u32</td><td>u32</td><td>u32</td><td>u32</td><td>u32</td><td>u32</td><td>u32</td><td>u32</td><td>u32</td><td>u32</td><td>u32</td><td>u32</td><td>u32</td><td>u32</td><td>u32</td><td>u32</td><td>u32</td><td>u32</td><td>u32</td><td>u32</td><td>u32</td><td>u32</td><td>u32</td></tr></thead><tbody><tr><td>0</td><td>0</td><td>0</td><td>0</td><td>0</td><td>0</td><td>0</td><td>0</td><td>0</td><td>0</td><td>0</td><td>0</td><td>351</td><td>0</td><td>0</td><td>1618</td><td>0</td><td>0</td><td>1262</td><td>0</td><td>0</td><td>2673</td><td>0</td><td>0</td><td>0</td><td>0</td><td>0</td><td>0</td><td>0</td><td>0</td><td>0</td><td>0</td><td>0</td><td>0</td><td>0</td><td>0</td><td>0</td><td>0</td><td>0</td><td>0</td><td>0</td><td>0</td><td>0</td><td>0</td><td>0</td><td>0</td><td>0</td><td>0</td><td>0</td><td>0</td><td>0</td><td>0</td><td>0</td><td>0</td><td>0</td><td>0</td><td>0</td><td>0</td><td>0</td><td>0</td><td>0</td><td>0</td><td>0</td><td>0</td><td>0</td><td>1901</td></tr></tbody></table></div>"
      ],
      "text/plain": [
       "shape: (1, 66)\n",
       "┌─────────┬─────────┬─────┬───────┬───┬───────────────┬──────────────┬──────────────┬──────────────┐\n",
       "│ katedra ┆ zkratka ┆ rok ┆ nazev ┆ … ┆ urovenNastave ┆ urovenVypoct ┆ automatickyU ┆ hodZaSemKomb │\n",
       "│ ---     ┆ ---     ┆ --- ┆ ---   ┆   ┆ na            ┆ ena          ┆ znavatZppZk  ┆ Forma        │\n",
       "│ u32     ┆ u32     ┆ u32 ┆ u32   ┆   ┆ ---           ┆ ---          ┆ ---          ┆ ---          │\n",
       "│         ┆         ┆     ┆       ┆   ┆ u32           ┆ u32          ┆ u32          ┆ u32          │\n",
       "╞═════════╪═════════╪═════╪═══════╪═══╪═══════════════╪══════════════╪══════════════╪══════════════╡\n",
       "│ 0       ┆ 0       ┆ 0   ┆ 0     ┆ … ┆ 0             ┆ 0            ┆ 0            ┆ 1901         │\n",
       "└─────────┴─────────┴─────┴───────┴───┴───────────────┴──────────────┴──────────────┴──────────────┘"
      ]
     },
     "execution_count": 15,
     "metadata": {},
     "output_type": "execute_result"
    }
   ],
   "source": [
    "predmety_by_kat.null_count()"
   ]
  },
  {
   "cell_type": "code",
   "execution_count": 16,
   "metadata": {},
   "outputs": [],
   "source": [
    "# vybírám pouze předměty, které mají rozvrhovou akci"
   ]
  },
  {
   "cell_type": "code",
   "execution_count": 17,
   "metadata": {},
   "outputs": [
    {
     "data": {
      "text/html": [
       "<div><style>\n",
       ".dataframe > thead > tr,\n",
       ".dataframe > tbody > tr {\n",
       "  text-align: right;\n",
       "  white-space: pre-wrap;\n",
       "}\n",
       "</style>\n",
       "<small>shape: (3, 66)</small><table border=\"1\" class=\"dataframe\"><thead><tr><th>katedra</th><th>zkratka</th><th>rok</th><th>nazev</th><th>nazevDlouhy</th><th>vyukaZS</th><th>vyukaLS</th><th>kreditu</th><th>viceZapis</th><th>minObsazeni</th><th>garanti</th><th>garantiSPodily</th><th>garantiUcitIdno</th><th>prednasejici</th><th>prednasejiciSPodily</th><th>prednasejiciUcitIdno</th><th>cvicici</th><th>cviciciSPodily</th><th>cviciciUcitIdno</th><th>seminarici</th><th>seminariciSPodily</th><th>seminariciUcitIdno</th><th>schvalujiciUznani</th><th>schvalujiciUznaniUcitIdno</th><th>examinatori</th><th>examinatoriUcitIdno</th><th>podminujiciPredmety</th><th>vylucujiciPredmety</th><th>podminujePredmety</th><th>literatura</th><th>nahrazPredmety</th><th>metodyVyucovaci</th><th>metodyHodnotici</th><th>akreditovan</th><th>jednotekPrednasek</th><th>jednotkaPrednasky</th><th>jednotekCviceni</th><th>jednotkaCviceni</th><th>jednotekSeminare</th><th>jednotkaSeminare</th><th>anotace</th><th>typZkousky</th><th>maZapocetPredZk</th><th>formaZkousky</th><th>pozadavky</th><th>prehledLatky</th><th>predpoklady</th><th>ziskaneZpusobilosti</th><th>casovaNarocnost</th><th>predmetUrl</th><th>vyucovaciJazyky</th><th>poznamka</th><th>ectsZobrazit</th><th>ectsAkreditace</th><th>ectsNabizetUPrijezdu</th><th>poznamkaVerejna</th><th>skupinaAkreditace</th><th>skupinaAkreditaceKey</th><th>zarazenDoPrezencnihoStudia</th><th>zarazenDoKombinovanehoStudia</th><th>studijniOpory</th><th>praxePocetDnu</th><th>urovenNastavena</th><th>urovenVypoctena</th><th>automatickyUznavatZppZk</th><th>hodZaSemKombForma</th></tr><tr><td>str</td><td>str</td><td>i64</td><td>str</td><td>str</td><td>str</td><td>str</td><td>i64</td><td>str</td><td>str</td><td>str</td><td>str</td><td>list[i64]</td><td>str</td><td>str</td><td>list[i64]</td><td>str</td><td>str</td><td>list[i64]</td><td>str</td><td>str</td><td>list[i64]</td><td>str</td><td>str</td><td>str</td><td>str</td><td>str</td><td>str</td><td>str</td><td>str</td><td>str</td><td>str</td><td>str</td><td>str</td><td>i64</td><td>str</td><td>i64</td><td>str</td><td>i64</td><td>str</td><td>str</td><td>str</td><td>str</td><td>str</td><td>str</td><td>str</td><td>str</td><td>str</td><td>str</td><td>str</td><td>str</td><td>str</td><td>str</td><td>str</td><td>str</td><td>str</td><td>str</td><td>str</td><td>str</td><td>str</td><td>str</td><td>i64</td><td>str</td><td>str</td><td>str</td><td>list[i64]</td></tr></thead><tbody><tr><td>&quot;KFY&quot;</td><td>&quot;P522&quot;</td><td>2023</td><td>&quot;Vybrané partie…</td><td>&quot;Vybrané partie…</td><td>&quot;A&quot;</td><td>&quot;A&quot;</td><td>4</td><td>&quot;NE&quot;</td><td>&quot;&quot;</td><td>&quot;&#x27;doc. RNDr. In…</td><td>&quot;&#x27;doc. RNDr. In…</td><td>[606]</td><td>&quot;&#x27;doc. RNDr. In…</td><td>&quot;&#x27;doc. RNDr. In…</td><td>[606]</td><td>&quot;&#x27;doc. RNDr. In…</td><td>&quot;&#x27;doc. RNDr. In…</td><td>[606]</td><td>&quot;&quot;</td><td>&quot;&quot;</td><td>null</td><td>&quot;&quot;</td><td>&quot;&quot;</td><td>&quot;&quot;</td><td>&quot;&quot;</td><td>&quot;&quot;</td><td>&quot;&quot;</td><td>&quot;&quot;</td><td>&quot;&#x27;Feynman R.P.,…</td><td>&quot;&quot;</td><td>&quot;&quot;</td><td>&quot;&quot;</td><td>&quot;A&quot;</td><td>2</td><td>&quot;HOD/TYD&quot;</td><td>1</td><td>&quot;HOD/TYD&quot;</td><td>0</td><td>&quot;HOD/TYD&quot;</td><td>&quot;Kurz je věnová…</td><td>&quot;Zkouška&quot;</td><td>&quot;ANO&quot;</td><td>&quot;Kombinovaná&quot;</td><td>&quot;&quot;</td><td>&quot;1.\tTermodynami…</td><td>&quot;Výuka v anglič…</td><td>&quot;&quot;</td><td>&quot;&quot;</td><td>&quot;&quot;</td><td>&quot;Čeština&quot;</td><td>&quot;&quot;</td><td>&quot;A&quot;</td><td>&quot;N&quot;</td><td>&quot;N&quot;</td><td>&quot;&quot;</td><td>&quot;&quot;</td><td>&quot;&quot;</td><td>&quot;N&quot;</td><td>&quot;N&quot;</td><td>&quot;&quot;</td><td>0</td><td>&quot;&quot;</td><td>&quot;Mgr.&quot;</td><td>&quot;A&quot;</td><td>null</td></tr><tr><td>&quot;KBI&quot;</td><td>&quot;P522&quot;</td><td>2023</td><td>&quot;Fyziologie živ…</td><td>&quot;Fyziologie živ…</td><td>&quot;A&quot;</td><td>&quot;N&quot;</td><td>7</td><td>&quot;NE&quot;</td><td>&quot;&quot;</td><td>&quot;&#x27;Ing. Stanisla…</td><td>&quot;&#x27;Ing. Stanisla…</td><td>[8024]</td><td>&quot;&#x27;Mgr. Marian R…</td><td>&quot;&#x27;Mgr. Marian R…</td><td>[5275, 8024]</td><td>&quot;&#x27;Mgr. Marian R…</td><td>&quot;&#x27;Mgr. Marian R…</td><td>[5275, 8024]</td><td>&quot;&quot;</td><td>&quot;&quot;</td><td>null</td><td>&quot;&quot;</td><td>&quot;&quot;</td><td>&quot;&quot;</td><td>&quot;&quot;</td><td>&quot;&quot;</td><td>&quot;&quot;</td><td>&quot;&quot;</td><td>&quot;&#x27;http://biolog…</td><td>&quot;&quot;</td><td>&quot;Monologická (v…</td><td>&quot;Písemná zkoušk…</td><td>&quot;N&quot;</td><td>2</td><td>&quot;HOD/TYD&quot;</td><td>3</td><td>&quot;HOD/TYD&quot;</td><td>0</td><td>&quot;HOD/TYD&quot;</td><td>&quot;Předmět poskyt…</td><td>&quot;Zkouška&quot;</td><td>&quot;ANO&quot;</td><td>&quot;Kombinovaná&quot;</td><td>&quot;Zápočet: Ne ví…</td><td>&quot;1. Vnitřní pro…</td><td>&quot;Znalost biolog…</td><td>&quot;&quot;</td><td>&quot;&quot;</td><td>&quot;&quot;</td><td>&quot;Čeština, Angli…</td><td>&quot;&quot;</td><td>&quot;A&quot;</td><td>&quot;N&quot;</td><td>&quot;N&quot;</td><td>&quot;&quot;</td><td>&quot;&quot;</td><td>&quot;&quot;</td><td>&quot;A&quot;</td><td>&quot;N&quot;</td><td>&quot;&quot;</td><td>0</td><td>&quot;&quot;</td><td>&quot;Bc.&quot;</td><td>&quot;A&quot;</td><td>null</td></tr><tr><td>&quot;KCH&quot;</td><td>&quot;P522&quot;</td><td>2023</td><td>&quot;Odborný seminá…</td><td>&quot;Odborný seminá…</td><td>&quot;A&quot;</td><td>&quot;A&quot;</td><td>1</td><td>&quot;NE&quot;</td><td>&quot;&quot;</td><td>&quot;&#x27;doc. Ing. Jan…</td><td>&quot;&#x27;doc. Ing. Jan…</td><td>[1064]</td><td>&quot;&quot;</td><td>&quot;&quot;</td><td>null</td><td>&quot;&#x27;Ing. Ivana Ka…</td><td>&quot;&#x27;Ing. Ivana Ka…</td><td>[4226, 429]</td><td>&quot;&quot;</td><td>&quot;&quot;</td><td>null</td><td>&quot;&quot;</td><td>&quot;&quot;</td><td>&quot;&quot;</td><td>&quot;&quot;</td><td>&quot;&quot;</td><td>&quot;&quot;</td><td>&quot;&quot;</td><td>&quot;&quot;</td><td>&quot;&quot;</td><td>&quot;&quot;</td><td>&quot;&quot;</td><td>&quot;N&quot;</td><td>0</td><td>&quot;HOD/TYD&quot;</td><td>1</td><td>&quot;HOD/TYD&quot;</td><td>0</td><td>&quot;HOD/TYD&quot;</td><td>&quot;Seminář má umo…</td><td>&quot;Zápočet&quot;</td><td>&quot;NE&quot;</td><td>&quot;Kombinovaná&quot;</td><td>&quot;&quot;</td><td>&quot;&quot;</td><td>&quot;&quot;</td><td>&quot;&quot;</td><td>&quot;&quot;</td><td>&quot;&quot;</td><td>&quot;Čeština&quot;</td><td>&quot;&quot;</td><td>&quot;A&quot;</td><td>&quot;N&quot;</td><td>&quot;N&quot;</td><td>&quot;&quot;</td><td>&quot;&quot;</td><td>&quot;&quot;</td><td>&quot;A&quot;</td><td>&quot;N&quot;</td><td>&quot;&quot;</td><td>0</td><td>&quot;&quot;</td><td>&quot;Bc.&quot;</td><td>&quot;A&quot;</td><td>null</td></tr></tbody></table></div>"
      ],
      "text/plain": [
       "shape: (3, 66)\n",
       "┌─────────┬─────────┬──────┬─────────────┬───┬─────────────┬─────────────┬────────────┬────────────┐\n",
       "│ katedra ┆ zkratka ┆ rok  ┆ nazev       ┆ … ┆ urovenNasta ┆ urovenVypoc ┆ automatick ┆ hodZaSemKo │\n",
       "│ ---     ┆ ---     ┆ ---  ┆ ---         ┆   ┆ vena        ┆ tena        ┆ yUznavatZp ┆ mbForma    │\n",
       "│ str     ┆ str     ┆ i64  ┆ str         ┆   ┆ ---         ┆ ---         ┆ pZk        ┆ ---        │\n",
       "│         ┆         ┆      ┆             ┆   ┆ str         ┆ str         ┆ ---        ┆ list[i64]  │\n",
       "│         ┆         ┆      ┆             ┆   ┆             ┆             ┆ str        ┆            │\n",
       "╞═════════╪═════════╪══════╪═════════════╪═══╪═════════════╪═════════════╪════════════╪════════════╡\n",
       "│ KFY     ┆ P522    ┆ 2023 ┆ Vybrané     ┆ … ┆             ┆ Mgr.        ┆ A          ┆ null       │\n",
       "│         ┆         ┆      ┆ partie z    ┆   ┆             ┆             ┆            ┆            │\n",
       "│         ┆         ┆      ┆ teoretické  ┆   ┆             ┆             ┆            ┆            │\n",
       "│         ┆         ┆      ┆ fyzi…       ┆   ┆             ┆             ┆            ┆            │\n",
       "│ KBI     ┆ P522    ┆ 2023 ┆ Fyziologie  ┆ … ┆             ┆ Bc.         ┆ A          ┆ null       │\n",
       "│         ┆         ┆      ┆ živočichů a ┆   ┆             ┆             ┆            ┆            │\n",
       "│         ┆         ┆      ┆ člověka     ┆   ┆             ┆             ┆            ┆            │\n",
       "│ KCH     ┆ P522    ┆ 2023 ┆ Odborný     ┆ … ┆             ┆ Bc.         ┆ A          ┆ null       │\n",
       "│         ┆         ┆      ┆ seminář B   ┆   ┆             ┆             ┆            ┆            │\n",
       "└─────────┴─────────┴──────┴─────────────┴───┴─────────────┴─────────────┴────────────┴────────────┘"
      ]
     },
     "execution_count": 17,
     "metadata": {},
     "output_type": "execute_result"
    }
   ],
   "source": [
    "predmety_s_akci = predmety_by_kat.join(other=rozvrh_by_kat, on=\"zkratka\", how=\"inner\").select(predmety_by_kat.columns).unique().sort(\"zkratka\")\n",
    "str(len(predmety_s_akci)) + \"   \" + str(len(predmety_by_kat)) \n",
    "predmety_s_akci.filter(pl.col(\"zkratka\") == \"P522\").head()"
   ]
  },
  {
   "attachments": {},
   "cell_type": "markdown",
   "metadata": {},
   "source": [
    "# Vyučující a garanti"
   ]
  },
  {
   "cell_type": "code",
   "execution_count": 18,
   "metadata": {},
   "outputs": [],
   "source": [
    "jednotek_prednasek = pl.col(\"jednotekPrednasek\")\n",
    "jednotek_cviceni = pl.col(\"jednotekCviceni\")\n",
    "jednotek_seminare = pl.col(\"jednotekSeminare\")\n",
    "garant = pl.col(\"garanti\")\n",
    "cvicici = pl.col(\"cvicici\")\n",
    "prednasejici = pl.col(\"prednasejici\")\n",
    "seminarici = pl.col(\"seminarici\")"
   ]
  },
  {
   "attachments": {},
   "cell_type": "markdown",
   "metadata": {},
   "source": [
    "### Každý předmět má právě jednoho garanta\n",
    "\n",
    "> Zde jsou předměty, které nemají garanta:"
   ]
  },
  {
   "cell_type": "code",
   "execution_count": 19,
   "metadata": {},
   "outputs": [
    {
     "name": "stdout",
     "output_type": "stream",
     "text": [
      "\n",
      "166 Předmětů nemá zadaného garanta\n"
     ]
    },
    {
     "data": {
      "text/html": [
       "<div><style>\n",
       ".dataframe > thead > tr,\n",
       ".dataframe > tbody > tr {\n",
       "  text-align: right;\n",
       "  white-space: pre-wrap;\n",
       "}\n",
       "</style>\n",
       "<small>shape: (5, 4)</small><table border=\"1\" class=\"dataframe\"><thead><tr><th>katedra</th><th>zkratka</th><th>nazev</th><th>identifier</th></tr><tr><td>str</td><td>str</td><td>str</td><td>str</td></tr></thead><tbody><tr><td>&quot;CNB&quot;</td><td>&quot;EXK&quot;</td><td>&quot;Exkurze&quot;</td><td>&quot;EXK/CNB&quot;</td></tr><tr><td>&quot;CNB&quot;</td><td>&quot;ME203&quot;</td><td>&quot;PC in flow cyt…</td><td>&quot;ME203/CNB&quot;</td></tr><tr><td>&quot;CNB&quot;</td><td>&quot;ME204&quot;</td><td>&quot;Mikrofluid. sy…</td><td>&quot;ME204/CNB&quot;</td></tr><tr><td>&quot;CNB&quot;</td><td>&quot;M100&quot;</td><td>&quot;Vědecká komuni…</td><td>&quot;M100/CNB&quot;</td></tr><tr><td>&quot;CNB&quot;</td><td>&quot;VT&quot;</td><td>&quot;Výrobní techno…</td><td>&quot;VT/CNB&quot;</td></tr></tbody></table></div>"
      ],
      "text/plain": [
       "shape: (5, 4)\n",
       "┌─────────┬─────────┬───────────────────────────────────┬────────────┐\n",
       "│ katedra ┆ zkratka ┆ nazev                             ┆ identifier │\n",
       "│ ---     ┆ ---     ┆ ---                               ┆ ---        │\n",
       "│ str     ┆ str     ┆ str                               ┆ str        │\n",
       "╞═════════╪═════════╪═══════════════════════════════════╪════════════╡\n",
       "│ CNB     ┆ EXK     ┆ Exkurze                           ┆ EXK/CNB    │\n",
       "│ CNB     ┆ ME203   ┆ PC in flow cytometry and cell so… ┆ ME203/CNB  │\n",
       "│ CNB     ┆ ME204   ┆ Mikrofluid. systémy a biologická… ┆ ME204/CNB  │\n",
       "│ CNB     ┆ M100    ┆ Vědecká komunikace v biologii     ┆ M100/CNB   │\n",
       "│ CNB     ┆ VT      ┆ Výrobní technologie               ┆ VT/CNB     │\n",
       "└─────────┴─────────┴───────────────────────────────────┴────────────┘"
      ]
     },
     "execution_count": 19,
     "metadata": {},
     "output_type": "execute_result"
    }
   ],
   "source": [
    "zkratky = predmety_s_akci.filter(pl.col(\"garantiUcitIdno\").is_null()).select([\"katedra\", \"zkratka\", \"rok\", \"nazev\", \"nazevDlouhy\", \"garanti\", \"garantiSPodily\"]).filter(\n",
    "    # Není SZ\n",
    "    # pl.col(\"zkratka\").str.starts_with(\"SZ\").is_not()\n",
    "    True\n",
    ")\n",
    "print(f\"\\n{len(zkratky)} Předmětů nemá zadaného garanta\")\n",
    "zkratky.write_excel(\"results_xlsx/bez_garanta.xlsx\")\n",
    "zkratky.write_csv(\"results_csv/bez_garanta.csv\")\n",
    "zkratky\n",
    "# print(list(zkratky), sep=\", \")\n",
    "\n",
    "bez_problemu = bez_problemu.join(zkratky.with_columns(pl.concat_str([pl.col(\"zkratka\"), pl.col(\"katedra\")], separator=\"/\").alias(\"identifier\")),\"identifier\" ,\"anti\")\n",
    "bez_problemu.head()"
   ]
  },
  {
   "attachments": {},
   "cell_type": "markdown",
   "metadata": {},
   "source": [
    "> Předměty podezřelé z více garantů:"
   ]
  },
  {
   "cell_type": "code",
   "execution_count": 20,
   "metadata": {},
   "outputs": [
    {
     "name": "stdout",
     "output_type": "stream",
     "text": [
      "['garantiUcitIdno']\n"
     ]
    }
   ],
   "source": [
    "# predmety_s_akci.filter( > pl.lit())\n",
    "vice_garantu = predmety_s_akci.with_columns(pl.col(\"garantiUcitIdno\").list.len().alias(\"pocet garantu\")\n",
    "    ).select(\n",
    "        [\"garantiUcitIdno\", \"garanti\",\"katedra\", \"zkratka\", \"pocet garantu\"]\n",
    "    ).filter(pl.col(\"pocet garantu\") > 1)\n",
    "vice_garantu.write_excel(\"results_xlsx/vice_garantu.xlsx\")\n",
    "vice_garantu_csv = prep_csv(vice_garantu)\n",
    "vice_garantu_csv.write_csv(\"results_csv/vice_garantu.csv\")\n",
    "vice_garantu.head(10)\n",
    "bez_problemu = bez_problemu.join(vice_garantu.with_columns(pl.concat_str([pl.col(\"zkratka\"), pl.col(\"katedra\")], separator=\"/\").alias(\"identifier\")),\"identifier\" ,\"anti\")"
   ]
  },
  {
   "cell_type": "code",
   "execution_count": null,
   "metadata": {},
   "outputs": [],
   "source": []
  },
  {
   "attachments": {},
   "cell_type": "markdown",
   "metadata": {},
   "source": [
    "### Každý předmět má alespoň jednoho vyučujícího v kategoriích dle parametrů předmětu\n",
    "\n",
    "např. pokud má předmět rozsah 2 h přednášek a 2 h cvičení, pak musí mít alespoň jednoho přednášejícího a alespoň jednoho cvičícího a zároveň nesmí mít vyučujícího v kategorii vede seminář."
   ]
  },
  {
   "cell_type": "code",
   "execution_count": 21,
   "metadata": {},
   "outputs": [
    {
     "data": {
      "text/html": [
       "<div><style>\n",
       ".dataframe > thead > tr,\n",
       ".dataframe > tbody > tr {\n",
       "  text-align: right;\n",
       "  white-space: pre-wrap;\n",
       "}\n",
       "</style>\n",
       "<small>shape: (5, 6)</small><table border=\"1\" class=\"dataframe\"><thead><tr><th>katedra</th><th>zkratka</th><th>prednasejici</th><th>prednasejiciUcitIdno</th><th>jednotekPrednasek</th><th>jednotkaPrednasky</th></tr><tr><td>str</td><td>str</td><td>str</td><td>list[i64]</td><td>i64</td><td>str</td></tr></thead><tbody><tr><td>&quot;KBI&quot;</td><td>&quot;0023&quot;</td><td>&quot;&quot;</td><td>null</td><td>2</td><td>&quot;HOD/TYD&quot;</td></tr><tr><td>&quot;KPRF&quot;</td><td>&quot;0101&quot;</td><td>&quot;&quot;</td><td>null</td><td>2</td><td>&quot;HOD/TYD&quot;</td></tr><tr><td>&quot;KGEO&quot;</td><td>&quot;0159&quot;</td><td>&quot;&quot;</td><td>null</td><td>1</td><td>&quot;HOD/TYD&quot;</td></tr><tr><td>&quot;KGEO&quot;</td><td>&quot;B210&quot;</td><td>&quot;&quot;</td><td>null</td><td>2</td><td>&quot;HOD/TYD&quot;</td></tr><tr><td>&quot;KGEO&quot;</td><td>&quot;B414&quot;</td><td>&quot;&quot;</td><td>null</td><td>2</td><td>&quot;HOD/TYD&quot;</td></tr></tbody></table></div>"
      ],
      "text/plain": [
       "shape: (5, 6)\n",
       "┌─────────┬─────────┬──────────────┬──────────────────────┬───────────────────┬───────────────────┐\n",
       "│ katedra ┆ zkratka ┆ prednasejici ┆ prednasejiciUcitIdno ┆ jednotekPrednasek ┆ jednotkaPrednasky │\n",
       "│ ---     ┆ ---     ┆ ---          ┆ ---                  ┆ ---               ┆ ---               │\n",
       "│ str     ┆ str     ┆ str          ┆ list[i64]            ┆ i64               ┆ str               │\n",
       "╞═════════╪═════════╪══════════════╪══════════════════════╪═══════════════════╪═══════════════════╡\n",
       "│ KBI     ┆ 0023    ┆              ┆ null                 ┆ 2                 ┆ HOD/TYD           │\n",
       "│ KPRF    ┆ 0101    ┆              ┆ null                 ┆ 2                 ┆ HOD/TYD           │\n",
       "│ KGEO    ┆ 0159    ┆              ┆ null                 ┆ 1                 ┆ HOD/TYD           │\n",
       "│ KGEO    ┆ B210    ┆              ┆ null                 ┆ 2                 ┆ HOD/TYD           │\n",
       "│ KGEO    ┆ B414    ┆              ┆ null                 ┆ 2                 ┆ HOD/TYD           │\n",
       "└─────────┴─────────┴──────────────┴──────────────────────┴───────────────────┴───────────────────┘"
      ]
     },
     "execution_count": 21,
     "metadata": {},
     "output_type": "execute_result"
    }
   ],
   "source": [
    "ma_prednasku = jednotek_prednasek != 0\n",
    "nema_prednasejiciho = pl.col(\"prednasejiciUcitIdno\").is_null()\n",
    "\n",
    "chybi_prednasejici = predmety_s_akci.filter(ma_prednasku & nema_prednasejiciho).select(\"katedra\", \"zkratka\", \"prednasejici\", \"prednasejiciUcitIdno\", \"jednotekPrednasek\", \"jednotkaPrednasky\")\n",
    "chybi_prednasejici.write_excel(\"results_xlsx/chybi_prednasejici.xlsx\")\n",
    "\n",
    "#prep_csv(chybi_prednasejici).write_csv(\"results/chybi_prednasejici.csv\")\n",
    "chybi_prednasejici.head()\n",
    "#bez_problemu = bez_problemu.join(chybi_prednasejici.with_columns(pl.concat_str([pl.col(\"zkratka\"), pl.col(\"katedra\")], separator=\"/\").alias(\"identifier\")),\"identifier\" ,\"anti\")"
   ]
  },
  {
   "cell_type": "code",
   "execution_count": 22,
   "metadata": {},
   "outputs": [
    {
     "name": "stdout",
     "output_type": "stream",
     "text": [
      "['prednasejiciUcitIdno']\n"
     ]
    }
   ],
   "source": [
    "test = prep_csv(chybi_prednasejici)\n",
    "test.write_csv(\"results_csv/chybi_prednasejici.csv\")"
   ]
  },
  {
   "cell_type": "code",
   "execution_count": 23,
   "metadata": {},
   "outputs": [
    {
     "name": "stdout",
     "output_type": "stream",
     "text": [
      "['cviciciUcitIdno']\n"
     ]
    }
   ],
   "source": [
    "ma_cviceni = jednotek_cviceni != 0\n",
    "nema_cviciciho = pl.col(\"cviciciUcitIdno\").is_null()\n",
    "\n",
    "chybi_cvicici = predmety_s_akci.filter(ma_cviceni & nema_cviciciho).select(\"katedra\", \"zkratka\", \"cvicici\", \"cviciciUcitIdno\", \"jednotekCviceni\", \"jednotkaCviceni\")\n",
    "chybi_cvicici.write_excel(\"results_xlsx/chybi_cvicici.xlsx\")\n",
    "chybi_cvicici_csv = prep_csv(chybi_cvicici)\n",
    "chybi_cvicici_csv.write_csv(\"results_csv/chybi_cvicici.csv\")\n",
    "chybi_cvicici.head()\n",
    "bez_problemu = bez_problemu.join(chybi_cvicici.with_columns(pl.concat_str([pl.col(\"zkratka\"), pl.col(\"katedra\")], separator=\"/\").alias(\"identifier\")),\"identifier\" ,\"anti\")"
   ]
  },
  {
   "cell_type": "code",
   "execution_count": 24,
   "metadata": {},
   "outputs": [
    {
     "name": "stdout",
     "output_type": "stream",
     "text": [
      "['seminariciUcitIdno']\n"
     ]
    }
   ],
   "source": [
    "ma_seminare = jednotek_seminare != 0\n",
    "nema_seminariciho = pl.col(\"seminariciUcitIdno\").is_null()\n",
    "\n",
    "chybi_seminarici = predmety_s_akci.filter(ma_seminare & nema_seminariciho).select(\"katedra\", \"zkratka\", \"seminarici\", \"seminariciUcitIdno\", \"jednotekSeminare\", \"jednotkaSeminare\")\n",
    "chybi_seminarici.write_excel(\"results_xlsx/chybi_seminarici.xlsx\")\n",
    "chybi_seminarici_csv = prep_csv(chybi_seminarici)\n",
    "chybi_seminarici_csv.write_csv(\"results_csv/chybi_seminarici.xlsx\")\n",
    "bez_problemu = bez_problemu.join(chybi_seminarici.with_columns(pl.concat_str([pl.col(\"zkratka\"), pl.col(\"katedra\")], separator=\"/\").alias(\"identifier\")),\"identifier\" ,\"anti\")"
   ]
  },
  {
   "attachments": {},
   "cell_type": "markdown",
   "metadata": {},
   "source": [
    "> Zde jsou předměty, ve kterých učitel vede seminář:"
   ]
  },
  {
   "cell_type": "code",
   "execution_count": 25,
   "metadata": {},
   "outputs": [],
   "source": [
    "#prednasejici_je_seminarici = prednasejici == seminarici\n",
    "#cvicici_je_seminarici = cvicici == seminarici\n",
    "\n",
    "#konflikt_vyucujicich = predmety_s_akci.filter(ma_seminare & ma_prednasku & (prednasejici_je_seminarici | cvicici_je_seminarici))\n",
    "#konflikt_vyucujicich.write_excel(\"results/konflikt_vyucujicich.xlsx\")\n",
    "#konflikt_vyucujicich.head()"
   ]
  },
  {
   "cell_type": "code",
   "execution_count": 26,
   "metadata": {},
   "outputs": [
    {
     "name": "stdout",
     "output_type": "stream",
     "text": [
      "32 předmětů nemá přednášejícího\n",
      "88 předmětů nemá cvičícího\n",
      "37 předmětů nemá seminářícího\n"
     ]
    }
   ],
   "source": [
    "print(f\"{len(chybi_prednasejici)} předmětů nemá přednášejícího\")\n",
    "print(f\"{len(chybi_cvicici)} předmětů nemá cvičícího\")\n",
    "print(f\"{len(chybi_seminarici)} předmětů nemá seminářícího\")\n",
    "# print(f\"U {len(konflikt_vyucujicich)} předmětů je seminářící také učitel\")"
   ]
  },
  {
   "attachments": {},
   "cell_type": "markdown",
   "metadata": {},
   "source": [
    "### Garant by měl být někde mezi vyučujícími. Pokud má předmět přednášku, měl by být přednášející.\n",
    "\n",
    "> V těchto předmětech garant vůbec neučí:"
   ]
  },
  {
   "cell_type": "code",
   "execution_count": 27,
   "metadata": {},
   "outputs": [
    {
     "name": "stdout",
     "output_type": "stream",
     "text": [
      "['garantiUcitIdno' 'prednasejiciUcitIdno' 'cviciciUcitIdno'\n",
      " 'seminariciUcitIdno']\n"
     ]
    }
   ],
   "source": [
    "filter_query = (garant.is_in(cvicici).not_()) & (garant.is_in(seminarici).not_()) & (garant.is_in(prednasejici).not_()) & (ma_prednasku | ma_cviceni | ma_seminare)\n",
    "predmety_kde_garant_neuci = predmety_s_akci.filter(filter_query).select(\"katedra\", \"zkratka\", \"garanti\", \"garantiUcitIdno\", \"prednasejici\", \"prednasejiciUcitIdno\", \"cvicici\", \"cviciciUcitIdno\", \"seminarici\", \"seminariciUcitIdno\")\n",
    "predmety_kde_garant_neuci.write_excel(\"results_xlsx/predmety_kde_garant_neuci.xlsx\")\n",
    "predmety_kde_garant_neuci_csv = prep_csv(predmety_kde_garant_neuci)\n",
    "predmety_kde_garant_neuci_csv.write_csv(\"results_csv/predmety_kde_garant_neuci.csv\")\n",
    "predmety_kde_garant_neuci.__len__()\n",
    "bez_problemu = bez_problemu.join(predmety_kde_garant_neuci.with_columns(pl.concat_str([pl.col(\"zkratka\"), pl.col(\"katedra\")], separator=\"/\").alias(\"identifier\")),\"identifier\" ,\"anti\")"
   ]
  },
  {
   "attachments": {},
   "cell_type": "markdown",
   "metadata": {},
   "source": [
    "> v těchto předmětech je přednáška, ale nedělá jí garant:"
   ]
  },
  {
   "cell_type": "code",
   "execution_count": 57,
   "metadata": {},
   "outputs": [
    {
     "name": "stdout",
     "output_type": "stream",
     "text": [
      "shape: (5, 2)\n",
      "┌─────────────┬─────────────────┐\n",
      "│ containBool ┆ garantiUcitIdno │\n",
      "│ ---         ┆ ---             │\n",
      "│ bool        ┆ i64             │\n",
      "╞═════════════╪═════════════════╡\n",
      "│ false       ┆ 2939            │\n",
      "│ true        ┆ 2227            │\n",
      "│ false       ┆ 1434            │\n",
      "│ true        ┆ 429             │\n",
      "│ true        ┆ 590             │\n",
      "└─────────────┴─────────────────┘\n",
      "['garantiUcitIdno' 'prednasejiciUcitIdno']\n",
      "56\n"
     ]
    },
    {
     "data": {
      "text/html": [
       "<div><style>\n",
       ".dataframe > thead > tr,\n",
       ".dataframe > tbody > tr {\n",
       "  text-align: right;\n",
       "  white-space: pre-wrap;\n",
       "}\n",
       "</style>\n",
       "<small>shape: (5, 5)</small><table border=\"1\" class=\"dataframe\"><thead><tr><th>garantiUcitIdno</th><th>katedra</th><th>zkratka</th><th>prednasejiciUcitIdno</th><th>jednotekPrednasek</th></tr><tr><td>list[i64]</td><td>str</td><td>str</td><td>list[i64]</td><td>i64</td></tr></thead><tbody><tr><td>[283]</td><td>&quot;KBI&quot;</td><td>&quot;K301&quot;</td><td>[3661]</td><td>10</td></tr><tr><td>[283]</td><td>&quot;KBI&quot;</td><td>&quot;K301&quot;</td><td>[3661]</td><td>10</td></tr><tr><td>[8512]</td><td>&quot;KBI&quot;</td><td>&quot;BK333&quot;</td><td>[930]</td><td>8</td></tr><tr><td>[305]</td><td>&quot;KFY&quot;</td><td>&quot;K319&quot;</td><td>[3222, 615]</td><td>12</td></tr><tr><td>[2384]</td><td>&quot;KFY&quot;</td><td>&quot;K620&quot;</td><td>[308]</td><td>12</td></tr></tbody></table></div>"
      ],
      "text/plain": [
       "shape: (5, 5)\n",
       "┌─────────────────┬─────────┬─────────┬──────────────────────┬───────────────────┐\n",
       "│ garantiUcitIdno ┆ katedra ┆ zkratka ┆ prednasejiciUcitIdno ┆ jednotekPrednasek │\n",
       "│ ---             ┆ ---     ┆ ---     ┆ ---                  ┆ ---               │\n",
       "│ list[i64]       ┆ str     ┆ str     ┆ list[i64]            ┆ i64               │\n",
       "╞═════════════════╪═════════╪═════════╪══════════════════════╪═══════════════════╡\n",
       "│ [283]           ┆ KBI     ┆ K301    ┆ [3661]               ┆ 10                │\n",
       "│ [283]           ┆ KBI     ┆ K301    ┆ [3661]               ┆ 10                │\n",
       "│ [8512]          ┆ KBI     ┆ BK333   ┆ [930]                ┆ 8                 │\n",
       "│ [305]           ┆ KFY     ┆ K319    ┆ [3222, 615]          ┆ 12                │\n",
       "│ [2384]          ┆ KFY     ┆ K620    ┆ [308]                ┆ 12                │\n",
       "└─────────────────┴─────────┴─────────┴──────────────────────┴───────────────────┘"
      ]
     },
     "execution_count": 57,
     "metadata": {},
     "output_type": "execute_result"
    }
   ],
   "source": [
    "# garant_neni_prednasejici = ((pl.col(\"garantiUcitIdno\").list.eval(pl.col(\"prednasejiciUcitIdno\").list.contains(pl.element())))) & (jednotek_prednasek != pl.lit(0)) # & (pl.col(\"prednasejiciUcitIdno\").list.len() != 1)\n",
    "# garant_neprednasi = predmety_s_akci.filter(garant_neni_prednasejici).select(\"katedra\", \"zkratka\", \"garanti\", \"garantiUcitIdno\", \"prednasejici\", \"prednasejiciUcitIdno\")\n",
    "\n",
    "garant_neprednasi = predmety_s_akci.filter(jednotek_prednasek != pl.lit(0)).explode(\"garantiUcitIdno\").with_columns(\n",
    "    pl.concat_str([pl.col(\"katedra\"), pl.col(\"zkratka\")], separator=\"/\").alias(\"identifier\")\n",
    ").with_columns(\n",
    "    pl.col(\"prednasejiciUcitIdno\").list.contains(pl.col(\"garantiUcitIdno\")).alias(\"containBool\")\n",
    ")\n",
    "\n",
    "print(garant_neprednasi.select(\"containBool\", \"garantiUcitIdno\").head())\n",
    "\n",
    "aggregation = (\n",
    "    garant_neprednasi.lazy().group_by(\"identifier\").agg(\n",
    "        #pl.col(\"identifier\"),\n",
    "        pl.when(pl.col(\"containBool\") == False).then(pl.col(\"garantiUcitIdno\"))\n",
    "    ).with_columns(pl.col(\"garantiUcitIdno\").list.drop_nulls()).filter(pl.col(\"garantiUcitIdno\").list.len() > 0)\n",
    ")\n",
    "\n",
    "garant_neprednasi_post = aggregation.collect().join(garant_neprednasi.select(\"katedra\", \"zkratka\",\"prednasejiciUcitIdno\", \"identifier\", \"jednotekPrednasek\"), \"identifier\", \"left\").drop(\"identifier\")\n",
    "\n",
    "\n",
    "\n",
    "# garant_neprednasi.write_excel(\"results_xlsx/garant_neprednasi.xlsx\")\n",
    "garant_neprednasi_csv = prep_csv(garant_neprednasi_post)\n",
    "garant_neprednasi_csv.write_csv(\"results_csv/garant_neprednasi.csv\")\n",
    "print(garant_neprednasi_post.__len__())\n",
    "# bez_problemu = bez_problemu.join(garant_neprednasi.with_columns(pl.concat_str([pl.col(\"zkratka\"), pl.col(\"katedra\")], separator=\"/\").alias(\"identifier\")),\"identifier\" ,\"anti\")\n",
    "\n",
    "garant_neprednasi_post.head()"
   ]
  },
  {
   "attachments": {},
   "cell_type": "markdown",
   "metadata": {},
   "source": [
    "## Kontrola proti rozvrhovaným akcím"
   ]
  },
  {
   "attachments": {},
   "cell_type": "markdown",
   "metadata": {},
   "source": [
    "### Vyučující u rozvrhových akcí musí být v příslušných kategoriích u vyučujících"
   ]
  },
  {
   "attachments": {},
   "cell_type": "markdown",
   "metadata": {},
   "source": [
    "#### Osekám dataframy"
   ]
  },
  {
   "cell_type": "code",
   "execution_count": null,
   "metadata": {},
   "outputs": [
    {
     "data": {
      "text/html": [
       "<div><style>\n",
       ".dataframe > thead > tr,\n",
       ".dataframe > tbody > tr {\n",
       "  text-align: right;\n",
       "  white-space: pre-wrap;\n",
       "}\n",
       "</style>\n",
       "<small>shape: (5, 54)</small><table border=\"1\" class=\"dataframe\"><thead><tr><th>roakIdno</th><th>nazev</th><th>katedra</th><th>zkratka</th><th>statut</th><th>ucitIdno</th><th>ucitIdno.ucitel</th><th>jmeno.ucitel</th><th>prijmeni.ucitel</th><th>titulPred.ucitel</th><th>titulZa.ucitel</th><th>platnost.ucitel</th><th>zamestnanec.ucitel</th><th>podilNaVyuce.ucitel</th><th>rok</th><th>budova</th><th>mistnost</th><th>kapacitaMistnosti</th><th>planObsazeni</th><th>obsazeni</th><th>typAkce</th><th>typAkceZkr</th><th>platnost</th><th>den</th><th>denZkr</th><th>vyucJazyk</th><th>hodinaOd</th><th>hodinaDo</th><th>pocetVyucHodin</th><th>hodinaSkutOd</th><th>hodinaSkutDo</th><th>tydenOd</th><th>tydenDo</th><th>tyden</th><th>tydenZkr</th><th>grupIdno</th><th>jeNadrazena</th><th>maNadrazenou</th><th>kontakt</th><th>krouzky</th><th>casovaRada</th><th>datum</th><th>datumOd</th><th>datumDo</th><th>druhAkce</th><th>vsichniUciteleUcitIdno</th><th>vsichniUciteleJmenaTituly</th><th>vsichniUciteleJmenaTitulySPodily</th><th>vsichniUcitelePrijmeni</th><th>referencedIdno</th><th>poznamkaRozvrhare</th><th>nekonaSe</th><th>owner</th><th>zakazaneAkce</th></tr><tr><td>i64</td><td>str</td><td>str</td><td>str</td><td>str</td><td>str</td><td>list[i64]</td><td>str</td><td>str</td><td>str</td><td>str</td><td>str</td><td>str</td><td>str</td><td>i64</td><td>str</td><td>str</td><td>str</td><td>i64</td><td>i64</td><td>str</td><td>str</td><td>str</td><td>str</td><td>str</td><td>str</td><td>str</td><td>str</td><td>i64</td><td>str</td><td>str</td><td>i64</td><td>i64</td><td>str</td><td>str</td><td>str</td><td>str</td><td>str</td><td>str</td><td>str</td><td>str</td><td>str</td><td>str</td><td>str</td><td>str</td><td>list[i64]</td><td>str</td><td>str</td><td>str</td><td>i64</td><td>str</td><td>str</td><td>str</td><td>str</td></tr></thead><tbody><tr><td>476301</td><td>&quot;Výp. a odhad. …</td><td>&quot;CNB&quot;</td><td>&quot;METD&quot;</td><td>&quot;&quot;</td><td>&quot;332&quot;</td><td>[332]</td><td>&quot;Zdeňka&quot;</td><td>&quot;Kolská&quot;</td><td>&quot;prof. Ing.&quot;</td><td>&quot;Ph.D.&quot;</td><td>&quot;A&quot;</td><td>&quot;A&quot;</td><td>&quot;100&quot;</td><td>2023</td><td>&quot;CP&quot;</td><td>&quot;2.32&quot;</td><td>&quot;22&quot;</td><td>15</td><td>1</td><td>&quot;Cvičení&quot;</td><td>&quot;Cv&quot;</td><td>&quot;A&quot;</td><td>&quot;Středa&quot;</td><td>&quot;St&quot;</td><td>&quot;&quot;</td><td>&quot;3&quot;</td><td>&quot;3&quot;</td><td>1</td><td>&quot;09:00&quot;</td><td>&quot;09:50&quot;</td><td>40</td><td>1</td><td>&quot;Každý&quot;</td><td>&quot;K&quot;</td><td>&quot;&quot;</td><td>&quot;N&quot;</td><td>&quot;N&quot;</td><td>&quot;Automaticky vy…</td><td>&quot;1.NANO,2.NANO,…</td><td>&quot;UJEP&quot;</td><td>&quot;&quot;</td><td>&quot;4.10.2023&quot;</td><td>&quot;3.1.2024&quot;</td><td>&quot;R&quot;</td><td>[332]</td><td>&quot;prof. Ing. Zde…</td><td>&quot;&#x27;prof. Ing. Zd…</td><td>&quot;Kolská&quot;</td><td>476301</td><td>&quot;&quot;</td><td>&quot;&quot;</td><td>&quot;PETRUSPRF&quot;</td><td>&quot;&quot;</td></tr><tr><td>476309</td><td>&quot;Metody příprav…</td><td>&quot;CNB&quot;</td><td>&quot;M101&quot;</td><td>&quot;&quot;</td><td>&quot;332&quot;</td><td>[332]</td><td>&quot;Zdeňka&quot;</td><td>&quot;Kolská&quot;</td><td>&quot;prof. Ing.&quot;</td><td>&quot;Ph.D.&quot;</td><td>&quot;A&quot;</td><td>&quot;A&quot;</td><td>&quot;100&quot;</td><td>2023</td><td>&quot;CP&quot;</td><td>&quot;3.26&quot;</td><td>&quot;12&quot;</td><td>5</td><td>4</td><td>&quot;Přednáška&quot;</td><td>&quot;Př&quot;</td><td>&quot;A&quot;</td><td>&quot;Pátek&quot;</td><td>&quot;Pá&quot;</td><td>&quot;&quot;</td><td>&quot;4&quot;</td><td>&quot;4&quot;</td><td>1</td><td>&quot;10:00&quot;</td><td>&quot;10:50&quot;</td><td>40</td><td>1</td><td>&quot;Každý&quot;</td><td>&quot;K&quot;</td><td>&quot;&quot;</td><td>&quot;N&quot;</td><td>&quot;N&quot;</td><td>&quot;Automaticky vy…</td><td>&quot;1.N ACH&quot;</td><td>&quot;UJEP&quot;</td><td>&quot;&quot;</td><td>&quot;6.10.2023&quot;</td><td>&quot;5.1.2024&quot;</td><td>&quot;R&quot;</td><td>[332, 280, 308]</td><td>&quot;prof. Ing. Zde…</td><td>&quot;&#x27;prof. Ing. Zd…</td><td>&quot;Kolská, Malý, …</td><td>476309</td><td>&quot;&quot;</td><td>&quot;&quot;</td><td>&quot;PETRUSPRF&quot;</td><td>&quot;&quot;</td></tr><tr><td>469191</td><td>&quot;Metody příprav…</td><td>&quot;CNB&quot;</td><td>&quot;NA08&quot;</td><td>&quot;&quot;</td><td>&quot;332&quot;</td><td>[332]</td><td>&quot;Zdeňka&quot;</td><td>&quot;Kolská&quot;</td><td>&quot;prof. Ing.&quot;</td><td>&quot;Ph.D.&quot;</td><td>&quot;A&quot;</td><td>&quot;A&quot;</td><td>&quot;34&quot;</td><td>2023</td><td>&quot;CP&quot;</td><td>&quot;3.26&quot;</td><td>&quot;12&quot;</td><td>5</td><td>1</td><td>&quot;Přednáška&quot;</td><td>&quot;Př&quot;</td><td>&quot;A&quot;</td><td>&quot;Pátek&quot;</td><td>&quot;Pá&quot;</td><td>&quot;&quot;</td><td>&quot;4&quot;</td><td>&quot;4&quot;</td><td>1</td><td>&quot;10:00&quot;</td><td>&quot;10:50&quot;</td><td>40</td><td>1</td><td>&quot;Každý&quot;</td><td>&quot;K&quot;</td><td>&quot;&quot;</td><td>&quot;N&quot;</td><td>&quot;N&quot;</td><td>&quot;Automaticky vy…</td><td>&quot;1.N NANO&quot;</td><td>&quot;UJEP&quot;</td><td>&quot;&quot;</td><td>&quot;6.10.2023&quot;</td><td>&quot;5.1.2024&quot;</td><td>&quot;R&quot;</td><td>[332, 280, 308]</td><td>&quot;prof. Ing. Zde…</td><td>&quot;&#x27;prof. Ing. Zd…</td><td>&quot;Kolská, Malý, …</td><td>469191</td><td>&quot;&quot;</td><td>&quot;&quot;</td><td>&quot;PETRUSPRF&quot;</td><td>&quot;&quot;</td></tr><tr><td>484766</td><td>&quot;Biomateriály&quot;</td><td>&quot;CNB&quot;</td><td>&quot;BIOM&quot;</td><td>&quot;&quot;</td><td>&quot;280&quot;</td><td>[280]</td><td>&quot;Jan&quot;</td><td>&quot;Malý&quot;</td><td>&quot;Mgr.&quot;</td><td>&quot;Ph.D.&quot;</td><td>&quot;A&quot;</td><td>&quot;A&quot;</td><td>&quot;60&quot;</td><td>2023</td><td>&quot;CP&quot;</td><td>&quot;-1.19&quot;</td><td>&quot;32&quot;</td><td>7</td><td>3</td><td>&quot;Přednáška&quot;</td><td>&quot;Př&quot;</td><td>&quot;A&quot;</td><td>&quot;Úterý&quot;</td><td>&quot;Út&quot;</td><td>&quot;&quot;</td><td>&quot;3&quot;</td><td>&quot;3&quot;</td><td>1</td><td>&quot;09:00&quot;</td><td>&quot;09:50&quot;</td><td>8</td><td>20</td><td>&quot;Každý&quot;</td><td>&quot;K&quot;</td><td>&quot;&quot;</td><td>&quot;N&quot;</td><td>&quot;N&quot;</td><td>&quot;Automaticky vy…</td><td>&quot;3.NANO&quot;</td><td>&quot;UJEP&quot;</td><td>&quot;&quot;</td><td>&quot;20.2.2024&quot;</td><td>&quot;14.5.2024&quot;</td><td>&quot;R&quot;</td><td>[280, 332, 4711]</td><td>&quot;Mgr. Jan Malý,…</td><td>&quot;&#x27;Mgr. Jan Malý…</td><td>&quot;Malý, Kolská, …</td><td>484766</td><td>&quot;&quot;</td><td>&quot;&quot;</td><td>&quot;RSMEJKAL&quot;</td><td>&quot;&quot;</td></tr><tr><td>489241</td><td>&quot;Fyziologie živ…</td><td>&quot;CNB&quot;</td><td>&quot;KB502&quot;</td><td>&quot;&quot;</td><td>&quot;8024&quot;</td><td>[8024]</td><td>&quot;Stanislav&quot;</td><td>&quot;Vinopal&quot;</td><td>&quot;Ing.&quot;</td><td>&quot;Ph.D.&quot;</td><td>&quot;A&quot;</td><td>&quot;A&quot;</td><td>&quot;100&quot;</td><td>2023</td><td>&quot;ZV&quot;</td><td>&quot;B2&quot;</td><td>&quot;12&quot;</td><td>1</td><td>0</td><td>&quot;Přednáška&quot;</td><td>&quot;Př&quot;</td><td>&quot;A&quot;</td><td>&quot;Sobota&quot;</td><td>&quot;So&quot;</td><td>&quot;&quot;</td><td>&quot;3&quot;</td><td>&quot;8&quot;</td><td>6</td><td>&quot;09:00&quot;</td><td>&quot;14:50&quot;</td><td>8</td><td>8</td><td>&quot;Jiný&quot;</td><td>&quot;J&quot;</td><td>&quot;31652&quot;</td><td>&quot;N&quot;</td><td>&quot;N&quot;</td><td>&quot;Automaticky vy…</td><td>&quot;3.BI CHE K&quot;</td><td>&quot;UJEP&quot;</td><td>&quot;&quot;</td><td>&quot;24.2.2024&quot;</td><td>&quot;24.2.2024&quot;</td><td>&quot;R&quot;</td><td>[8024, 5275]</td><td>&quot;Ing. Stanislav…</td><td>&quot;&#x27;Ing. Stanisla…</td><td>&quot;Vinopal, Ruper…</td><td>489241</td><td>&quot;&quot;</td><td>&quot;&quot;</td><td>&quot;RSMEJKAL&quot;</td><td>&quot;&quot;</td></tr></tbody></table></div>"
      ],
      "text/plain": [
       "shape: (5, 54)\n",
       "┌──────────┬─────────────┬─────────┬─────────┬───┬─────────────┬──────────┬───────────┬────────────┐\n",
       "│ roakIdno ┆ nazev       ┆ katedra ┆ zkratka ┆ … ┆ poznamkaRoz ┆ nekonaSe ┆ owner     ┆ zakazaneAk │\n",
       "│ ---      ┆ ---         ┆ ---     ┆ ---     ┆   ┆ vrhare      ┆ ---      ┆ ---       ┆ ce         │\n",
       "│ i64      ┆ str         ┆ str     ┆ str     ┆   ┆ ---         ┆ str      ┆ str       ┆ ---        │\n",
       "│          ┆             ┆         ┆         ┆   ┆ str         ┆          ┆           ┆ str        │\n",
       "╞══════════╪═════════════╪═════════╪═════════╪═══╪═════════════╪══════════╪═══════════╪════════════╡\n",
       "│ 476301   ┆ Výp. a      ┆ CNB     ┆ METD    ┆ … ┆             ┆          ┆ PETRUSPRF ┆            │\n",
       "│          ┆ odhad. met. ┆         ┆         ┆   ┆             ┆          ┆           ┆            │\n",
       "│          ┆ pro fy-che  ┆         ┆         ┆   ┆             ┆          ┆           ┆            │\n",
       "│          ┆ vl…         ┆         ┆         ┆   ┆             ┆          ┆           ┆            │\n",
       "│ 476309   ┆ Metody      ┆ CNB     ┆ M101    ┆ … ┆             ┆          ┆ PETRUSPRF ┆            │\n",
       "│          ┆ přípravy    ┆         ┆         ┆   ┆             ┆          ┆           ┆            │\n",
       "│          ┆ nanomateriá ┆         ┆         ┆   ┆             ┆          ┆           ┆            │\n",
       "│          ┆ lů          ┆         ┆         ┆   ┆             ┆          ┆           ┆            │\n",
       "│ 469191   ┆ Metody      ┆ CNB     ┆ NA08    ┆ … ┆             ┆          ┆ PETRUSPRF ┆            │\n",
       "│          ┆ přípravy    ┆         ┆         ┆   ┆             ┆          ┆           ┆            │\n",
       "│          ┆ nanomateriá ┆         ┆         ┆   ┆             ┆          ┆           ┆            │\n",
       "│          ┆ lů          ┆         ┆         ┆   ┆             ┆          ┆           ┆            │\n",
       "│ 484766   ┆ Biomateriál ┆ CNB     ┆ BIOM    ┆ … ┆             ┆          ┆ RSMEJKAL  ┆            │\n",
       "│          ┆ y           ┆         ┆         ┆   ┆             ┆          ┆           ┆            │\n",
       "│ 489241   ┆ Fyziologie  ┆ CNB     ┆ KB502   ┆ … ┆             ┆          ┆ RSMEJKAL  ┆            │\n",
       "│          ┆ živočichů a ┆         ┆         ┆   ┆             ┆          ┆           ┆            │\n",
       "│          ┆ člověka     ┆         ┆         ┆   ┆             ┆          ┆           ┆            │\n",
       "└──────────┴─────────────┴─────────┴─────────┴───┴─────────────┴──────────┴───────────┴────────────┘"
      ]
     },
     "execution_count": 56,
     "metadata": {},
     "output_type": "execute_result"
    }
   ],
   "source": [
    "rozvrh_by_kat.head()\n",
    "# predmety_by_kat.head()"
   ]
  },
  {
   "cell_type": "code",
   "execution_count": null,
   "metadata": {},
   "outputs": [
    {
     "data": {
      "text/html": [
       "<div><style>\n",
       ".dataframe > thead > tr,\n",
       ".dataframe > tbody > tr {\n",
       "  text-align: right;\n",
       "  white-space: pre-wrap;\n",
       "}\n",
       "</style>\n",
       "<small>shape: (0, 9)</small><table border=\"1\" class=\"dataframe\"><thead><tr><th>katedra</th><th>zkratka</th><th>idno</th><th>typAkceZkr</th><th>rok</th><th>datumOd</th><th>datumDo</th><th>hodinaSkutOd</th><th>hodinaSkutDo</th></tr><tr><td>str</td><td>str</td><td>i64</td><td>str</td><td>i64</td><td>str</td><td>str</td><td>str</td><td>str</td></tr></thead><tbody></tbody></table></div>"
      ],
      "text/plain": [
       "shape: (0, 9)\n",
       "┌─────────┬─────────┬──────┬────────────┬───┬─────────┬─────────┬──────────────┬──────────────┐\n",
       "│ katedra ┆ zkratka ┆ idno ┆ typAkceZkr ┆ … ┆ datumOd ┆ datumDo ┆ hodinaSkutOd ┆ hodinaSkutDo │\n",
       "│ ---     ┆ ---     ┆ ---  ┆ ---        ┆   ┆ ---     ┆ ---     ┆ ---          ┆ ---          │\n",
       "│ str     ┆ str     ┆ i64  ┆ str        ┆   ┆ str     ┆ str     ┆ str          ┆ str          │\n",
       "╞═════════╪═════════╪══════╪════════════╪═══╪═════════╪═════════╪══════════════╪══════════════╡\n",
       "└─────────┴─────────┴──────┴────────────┴───┴─────────┴─────────┴──────────────┴──────────────┘"
      ]
     },
     "execution_count": 57,
     "metadata": {},
     "output_type": "execute_result"
    }
   ],
   "source": [
    "# PROZATÍMNÍ NASTAVENÍ FILTRUJE AKCE BEZ DATUMU\n",
    "\n",
    "maly_rozvrh = rozvrh_by_kat.select([\"katedra\",\"zkratka\", \"vsichniUciteleUcitIdno\", \"typAkceZkr\", \"rok\", \"datumOd\", \"datumDo\", \"hodinaSkutOd\", \"hodinaSkutDo\"])\n",
    "maly_rozvrh = maly_rozvrh.with_columns(pl.col(\"vsichniUciteleUcitIdno\")).explode(\"vsichniUciteleUcitIdno\").rename({\"vsichniUciteleUcitIdno\": \"idno\"}).filter(pl.col(\"datumOd\").str.len_chars() > 0)\n",
    "maly_rozvrh.filter(pl.col(\"katedra\").is_null()).head()"
   ]
  },
  {
   "cell_type": "code",
   "execution_count": null,
   "metadata": {},
   "outputs": [],
   "source": [
    "# predmety_by_kat"
   ]
  },
  {
   "cell_type": "code",
   "execution_count": null,
   "metadata": {},
   "outputs": [
    {
     "data": {
      "text/html": [
       "<div><style>\n",
       ".dataframe > thead > tr,\n",
       ".dataframe > tbody > tr {\n",
       "  text-align: right;\n",
       "  white-space: pre-wrap;\n",
       "}\n",
       "</style>\n",
       "<small>shape: (5, 66)</small><table border=\"1\" class=\"dataframe\"><thead><tr><th>katedra</th><th>zkratka</th><th>rok</th><th>nazev</th><th>nazevDlouhy</th><th>vyukaZS</th><th>vyukaLS</th><th>kreditu</th><th>viceZapis</th><th>minObsazeni</th><th>garanti</th><th>garantiSPodily</th><th>garantiUcitIdno</th><th>prednasejici</th><th>prednasejiciSPodily</th><th>prednasejiciUcitIdno</th><th>cvicici</th><th>cviciciSPodily</th><th>cviciciUcitIdno</th><th>seminarici</th><th>seminariciSPodily</th><th>seminariciUcitIdno</th><th>schvalujiciUznani</th><th>schvalujiciUznaniUcitIdno</th><th>examinatori</th><th>examinatoriUcitIdno</th><th>podminujiciPredmety</th><th>vylucujiciPredmety</th><th>podminujePredmety</th><th>literatura</th><th>nahrazPredmety</th><th>metodyVyucovaci</th><th>metodyHodnotici</th><th>akreditovan</th><th>jednotekPrednasek</th><th>jednotkaPrednasky</th><th>jednotekCviceni</th><th>jednotkaCviceni</th><th>jednotekSeminare</th><th>jednotkaSeminare</th><th>anotace</th><th>typZkousky</th><th>maZapocetPredZk</th><th>formaZkousky</th><th>pozadavky</th><th>prehledLatky</th><th>predpoklady</th><th>ziskaneZpusobilosti</th><th>casovaNarocnost</th><th>predmetUrl</th><th>vyucovaciJazyky</th><th>poznamka</th><th>ectsZobrazit</th><th>ectsAkreditace</th><th>ectsNabizetUPrijezdu</th><th>poznamkaVerejna</th><th>skupinaAkreditace</th><th>skupinaAkreditaceKey</th><th>zarazenDoPrezencnihoStudia</th><th>zarazenDoKombinovanehoStudia</th><th>studijniOpory</th><th>praxePocetDnu</th><th>urovenNastavena</th><th>urovenVypoctena</th><th>automatickyUznavatZppZk</th><th>hodZaSemKombForma</th></tr><tr><td>str</td><td>str</td><td>i64</td><td>str</td><td>str</td><td>str</td><td>str</td><td>i64</td><td>str</td><td>str</td><td>str</td><td>str</td><td>list[i64]</td><td>str</td><td>str</td><td>list[i64]</td><td>str</td><td>str</td><td>list[i64]</td><td>str</td><td>str</td><td>list[i64]</td><td>str</td><td>str</td><td>str</td><td>str</td><td>str</td><td>str</td><td>str</td><td>str</td><td>str</td><td>str</td><td>str</td><td>str</td><td>i64</td><td>str</td><td>i64</td><td>str</td><td>i64</td><td>str</td><td>str</td><td>str</td><td>str</td><td>str</td><td>str</td><td>str</td><td>str</td><td>str</td><td>str</td><td>str</td><td>str</td><td>str</td><td>str</td><td>str</td><td>str</td><td>str</td><td>str</td><td>str</td><td>str</td><td>str</td><td>str</td><td>i64</td><td>str</td><td>str</td><td>str</td><td>list[i64]</td></tr></thead><tbody><tr><td>&quot;CNB&quot;</td><td>&quot;KDNA&quot;</td><td>2023</td><td>&quot;Příprava a fun…</td><td>&quot;Příprava a fun…</td><td>&quot;N&quot;</td><td>&quot;A&quot;</td><td>2</td><td>&quot;NE&quot;</td><td>&quot;&quot;</td><td>&quot;&#x27;Ing. Stanisla…</td><td>&quot;&#x27;Ing. Stanisla…</td><td>[8024]</td><td>&quot;&quot;</td><td>&quot;&quot;</td><td>null</td><td>&quot;&#x27;Ing. Stanisla…</td><td>&quot;&#x27;Ing. Stanisla…</td><td>[8024]</td><td>&quot;&quot;</td><td>&quot;&quot;</td><td>null</td><td>&quot;&quot;</td><td>&quot;&quot;</td><td>&quot;&quot;</td><td>&quot;&quot;</td><td>&quot;KBI/BK102, KCH…</td><td>&quot;&quot;</td><td>&quot;&quot;</td><td>&quot;&#x27;ALBERTS, Bruc…</td><td>&quot;&quot;</td><td>&quot;&quot;</td><td>&quot;&quot;</td><td>&quot;A&quot;</td><td>0</td><td>&quot;HOD/SEM&quot;</td><td>24</td><td>&quot;HOD/SEM&quot;</td><td>0</td><td>&quot;HOD/SEM&quot;</td><td>&quot;Cílem předmětu…</td><td>&quot;Zápočet&quot;</td><td>&quot;NE&quot;</td><td>&quot;Kombinovaná&quot;</td><td>&quot;Zápočet je udě…</td><td>&quot;&quot;\tNávrh klonov…</td><td>&quot;&quot;</td><td>&quot;&quot;</td><td>&quot;&quot;</td><td>&quot;&quot;</td><td>&quot;Čeština&quot;</td><td>&quot;&quot;</td><td>&quot;A&quot;</td><td>&quot;N&quot;</td><td>&quot;N&quot;</td><td>&quot;Praktická cvič…</td><td>&quot;&quot;</td><td>&quot;&quot;</td><td>&quot;N&quot;</td><td>&quot;A&quot;</td><td>&quot;&quot;</td><td>0</td><td>&quot;&quot;</td><td>&quot;Bc.&quot;</td><td>&quot;A&quot;</td><td>[0]</td></tr><tr><td>&quot;CNB&quot;</td><td>&quot;M101&quot;</td><td>2023</td><td>&quot;Metody příprav…</td><td>&quot;Metody příprav…</td><td>&quot;A&quot;</td><td>&quot;N&quot;</td><td>1</td><td>&quot;NE&quot;</td><td>&quot;&quot;</td><td>&quot;&#x27;doc. RNDr. Ja…</td><td>&quot;&#x27;doc. RNDr. Ja…</td><td>[308]</td><td>&quot;&#x27;prof. Ing. Zd…</td><td>&quot;&#x27;prof. Ing. Zd…</td><td>[332, 280, 308]</td><td>&quot;&quot;</td><td>&quot;&quot;</td><td>null</td><td>&quot;&quot;</td><td>&quot;&quot;</td><td>null</td><td>&quot;&quot;</td><td>&quot;&quot;</td><td>&quot;&quot;</td><td>&quot;&quot;</td><td>&quot;&quot;</td><td>&quot;&quot;</td><td>&quot;&quot;</td><td>&quot;&#x27;Challa S. S. …</td><td>&quot;&quot;</td><td>&quot;&quot;</td><td>&quot;Písemná zkoušk…</td><td>&quot;N&quot;</td><td>1</td><td>&quot;HOD/TYD&quot;</td><td>0</td><td>&quot;HOD/TYD&quot;</td><td>0</td><td>&quot;HOD/TYD&quot;</td><td>&quot;&quot;</td><td>&quot;Zápočet&quot;</td><td>&quot;NE&quot;</td><td>&quot;Kombinovaná&quot;</td><td>&quot;&quot;</td><td>&quot;Předmět bude z…</td><td>&quot;&quot;</td><td>&quot;&quot;</td><td>&quot;&quot;</td><td>&quot;&quot;</td><td>&quot;Čeština&quot;</td><td>&quot;&quot;</td><td>&quot;A&quot;</td><td>&quot;N&quot;</td><td>&quot;N&quot;</td><td>&quot;&quot;</td><td>&quot;&quot;</td><td>&quot;&quot;</td><td>&quot;A&quot;</td><td>&quot;N&quot;</td><td>&quot;&quot;</td><td>0</td><td>&quot;&quot;</td><td>&quot;Mgr.&quot;</td><td>&quot;A&quot;</td><td>null</td></tr><tr><td>&quot;CNB&quot;</td><td>&quot;NA18&quot;</td><td>2023</td><td>&quot;Úvod do fotofy…</td><td>&quot;Úvod do fotofy…</td><td>&quot;A&quot;</td><td>&quot;N&quot;</td><td>3</td><td>&quot;NE&quot;</td><td>&quot;&quot;</td><td>&quot;&#x27;Ing. Kamil La…</td><td>&quot;&#x27;Ing. Kamil La…</td><td>[3420]</td><td>&quot;&#x27;Ing. Kamil La…</td><td>&quot;&#x27;Ing. Kamil La…</td><td>[3420]</td><td>&quot;&quot;</td><td>&quot;&quot;</td><td>null</td><td>&quot;&quot;</td><td>&quot;&quot;</td><td>null</td><td>&quot;&quot;</td><td>&quot;&quot;</td><td>&quot;&quot;</td><td>&quot;&quot;</td><td>&quot;&quot;</td><td>&quot;&quot;</td><td>&quot;&quot;</td><td>&quot;&quot;</td><td>&quot;&quot;</td><td>&quot;&quot;</td><td>&quot;&quot;</td><td>&quot;N&quot;</td><td>2</td><td>&quot;HOD/TYD&quot;</td><td>0</td><td>&quot;HOD/TYD&quot;</td><td>0</td><td>&quot;HOD/TYD&quot;</td><td>&quot;&quot;</td><td>&quot;Zkouška&quot;</td><td>&quot;NE&quot;</td><td>&quot;Kombinovaná&quot;</td><td>&quot;&quot;</td><td>&quot;&quot;</td><td>&quot;&quot;</td><td>&quot;&quot;</td><td>&quot;&quot;</td><td>&quot;&quot;</td><td>&quot;&quot;</td><td>&quot;&quot;</td><td>&quot;A&quot;</td><td>&quot;N&quot;</td><td>&quot;N&quot;</td><td>&quot;&quot;</td><td>&quot;&quot;</td><td>&quot;&quot;</td><td>&quot;A&quot;</td><td>&quot;N&quot;</td><td>&quot;&quot;</td><td>0</td><td>&quot;&quot;</td><td>&quot;Mgr.&quot;</td><td>&quot;A&quot;</td><td>[0]</td></tr><tr><td>&quot;CNB&quot;</td><td>&quot;PB617&quot;</td><td>2023</td><td>&quot;Molekulární bi…</td><td>&quot;Molekulární bi…</td><td>&quot;N&quot;</td><td>&quot;A&quot;</td><td>5</td><td>&quot;NE&quot;</td><td>&quot;&quot;</td><td>&quot;&#x27;Mgr. Michaela…</td><td>&quot;&#x27;Mgr. Michaela…</td><td>[4472]</td><td>&quot;&#x27;Mgr. Michaela…</td><td>&quot;&#x27;Mgr. Michaela…</td><td>[4472]</td><td>&quot;&#x27;Mgr. Michaela…</td><td>&quot;&#x27;Mgr. Michaela…</td><td>[4472]</td><td>&quot;&quot;</td><td>&quot;&quot;</td><td>null</td><td>&quot;&quot;</td><td>&quot;&quot;</td><td>&quot;&quot;</td><td>&quot;&quot;</td><td>&quot;&quot;</td><td>&quot;&quot;</td><td>&quot;&quot;</td><td>&quot;&quot;</td><td>&quot;KBI/PB617&quot;</td><td>&quot;&quot;</td><td>&quot;&quot;</td><td>&quot;N&quot;</td><td>3</td><td>&quot;HOD/TYD&quot;</td><td>2</td><td>&quot;HOD/TYD&quot;</td><td>0</td><td>&quot;HOD/TYD&quot;</td><td>&quot;Cílem tohoto k…</td><td>&quot;Zkouška&quot;</td><td>&quot;ANO&quot;</td><td>&quot;Kombinovaná&quot;</td><td>&quot;100% účast na …</td><td>&quot;1. Centrální d…</td><td>&quot;&quot;</td><td>&quot;&quot;</td><td>&quot;&quot;</td><td>&quot;&quot;</td><td>&quot;Čeština&quot;</td><td>&quot;&quot;</td><td>&quot;A&quot;</td><td>&quot;N&quot;</td><td>&quot;N&quot;</td><td>&quot;&quot;</td><td>&quot;&quot;</td><td>&quot;&quot;</td><td>&quot;A&quot;</td><td>&quot;N&quot;</td><td>&quot;&quot;</td><td>0</td><td>&quot;&quot;</td><td>&quot;Bc.&quot;</td><td>&quot;A&quot;</td><td>null</td></tr><tr><td>&quot;CNB&quot;</td><td>&quot;PTVN&quot;</td><td>2023</td><td>&quot;Principy, tech…</td><td>&quot;Principy, tech…</td><td>&quot;A&quot;</td><td>&quot;A&quot;</td><td>3</td><td>&quot;NE&quot;</td><td>&quot;&quot;</td><td>&quot;&#x27;prof. RNDr. P…</td><td>&quot;&#x27;prof. RNDr. P…</td><td>[3553]</td><td>&quot;&#x27;RNDr. Petr Ry…</td><td>&quot;&#x27;RNDr. Petr Ry…</td><td>[4587]</td><td>&quot;&#x27;RNDr. Petr Ry…</td><td>&quot;&#x27;RNDr. Petr Ry…</td><td>[4587]</td><td>&quot;&quot;</td><td>&quot;&quot;</td><td>null</td><td>&quot;&quot;</td><td>&quot;&quot;</td><td>&quot;&quot;</td><td>&quot;&quot;</td><td>&quot;&quot;</td><td>&quot;&quot;</td><td>&quot;&quot;</td><td>&quot;&#x27;Studijní opor…</td><td>&quot;KFY/PTVN&quot;</td><td>&quot;&quot;</td><td>&quot;&quot;</td><td>&quot;N&quot;</td><td>1</td><td>&quot;HOD/TYD&quot;</td><td>1</td><td>&quot;HOD/TYD&quot;</td><td>0</td><td>&quot;HOD/TYD&quot;</td><td>&quot;Cílem tohoto k…</td><td>&quot;Zkouška&quot;</td><td>&quot;ANO&quot;</td><td>&quot;Kombinovaná&quot;</td><td>&quot;Zápočet za úča…</td><td>&quot;1. Úvod: Význa…</td><td>&quot;&quot;</td><td>&quot;&quot;</td><td>&quot;&quot;</td><td>&quot;&quot;</td><td>&quot;Čeština&quot;</td><td>&quot;&quot;</td><td>&quot;A&quot;</td><td>&quot;N&quot;</td><td>&quot;N&quot;</td><td>&quot;&quot;</td><td>&quot;&quot;</td><td>&quot;&quot;</td><td>&quot;A&quot;</td><td>&quot;N&quot;</td><td>&quot;&quot;</td><td>0</td><td>&quot;&quot;</td><td>&quot;Bc.&quot;</td><td>&quot;A&quot;</td><td>[0]</td></tr></tbody></table></div>"
      ],
      "text/plain": [
       "shape: (5, 66)\n",
       "┌─────────┬─────────┬──────┬─────────────┬───┬─────────────┬─────────────┬────────────┬────────────┐\n",
       "│ katedra ┆ zkratka ┆ rok  ┆ nazev       ┆ … ┆ urovenNasta ┆ urovenVypoc ┆ automatick ┆ hodZaSemKo │\n",
       "│ ---     ┆ ---     ┆ ---  ┆ ---         ┆   ┆ vena        ┆ tena        ┆ yUznavatZp ┆ mbForma    │\n",
       "│ str     ┆ str     ┆ i64  ┆ str         ┆   ┆ ---         ┆ ---         ┆ pZk        ┆ ---        │\n",
       "│         ┆         ┆      ┆             ┆   ┆ str         ┆ str         ┆ ---        ┆ list[i64]  │\n",
       "│         ┆         ┆      ┆             ┆   ┆             ┆             ┆ str        ┆            │\n",
       "╞═════════╪═════════╪══════╪═════════════╪═══╪═════════════╪═════════════╪════════════╪════════════╡\n",
       "│ CNB     ┆ KDNA    ┆ 2023 ┆ Příprava a  ┆ … ┆             ┆ Bc.         ┆ A          ┆ [0]        │\n",
       "│         ┆         ┆      ┆ funkční     ┆   ┆             ┆             ┆            ┆            │\n",
       "│         ┆         ┆      ┆ analýza     ┆   ┆             ┆             ┆            ┆            │\n",
       "│         ┆         ┆      ┆ rekom…      ┆   ┆             ┆             ┆            ┆            │\n",
       "│ CNB     ┆ M101    ┆ 2023 ┆ Metody      ┆ … ┆             ┆ Mgr.        ┆ A          ┆ null       │\n",
       "│         ┆         ┆      ┆ přípravy    ┆   ┆             ┆             ┆            ┆            │\n",
       "│         ┆         ┆      ┆ nanomateriá ┆   ┆             ┆             ┆            ┆            │\n",
       "│         ┆         ┆      ┆ lů          ┆   ┆             ┆             ┆            ┆            │\n",
       "│ CNB     ┆ NA18    ┆ 2023 ┆ Úvod do     ┆ … ┆             ┆ Mgr.        ┆ A          ┆ [0]        │\n",
       "│         ┆         ┆      ┆ fotofyziky  ┆   ┆             ┆             ┆            ┆            │\n",
       "│         ┆         ┆      ┆ a           ┆   ┆             ┆             ┆            ┆            │\n",
       "│         ┆         ┆      ┆ fotochemie  ┆   ┆             ┆             ┆            ┆            │\n",
       "│         ┆         ┆      ┆ …           ┆   ┆             ┆             ┆            ┆            │\n",
       "│ CNB     ┆ PB617   ┆ 2023 ┆ Molekulární ┆ … ┆             ┆ Bc.         ┆ A          ┆ null       │\n",
       "│         ┆         ┆      ┆ biologie    ┆   ┆             ┆             ┆            ┆            │\n",
       "│ CNB     ┆ PTVN    ┆ 2023 ┆ Principy,   ┆ … ┆             ┆ Bc.         ┆ A          ┆ [0]        │\n",
       "│         ┆         ┆      ┆ tech. a     ┆   ┆             ┆             ┆            ┆            │\n",
       "│         ┆         ┆      ┆ využ.       ┆   ┆             ┆             ┆            ┆            │\n",
       "│         ┆         ┆      ┆ nanovlák…   ┆   ┆             ┆             ┆            ┆            │\n",
       "└─────────┴─────────┴──────┴─────────────┴───┴─────────────┴─────────────┴────────────┴────────────┘"
      ]
     },
     "execution_count": 59,
     "metadata": {},
     "output_type": "execute_result"
    }
   ],
   "source": [
    "from pprint import pprint\n",
    "# pprint(predmety_by_kat.columns,compact=True)\n",
    "predmety_by_kat.head()"
   ]
  },
  {
   "cell_type": "code",
   "execution_count": null,
   "metadata": {},
   "outputs": [
    {
     "data": {
      "text/html": [
       "<div><style>\n",
       ".dataframe > thead > tr,\n",
       ".dataframe > tbody > tr {\n",
       "  text-align: right;\n",
       "  white-space: pre-wrap;\n",
       "}\n",
       "</style>\n",
       "<small>shape: (5, 2)</small><table border=\"1\" class=\"dataframe\"><thead><tr><th>jmena</th><th>idno</th></tr><tr><td>str</td><td>i64</td></tr></thead><tbody><tr><td>&quot;Abrahamová Pet…</td><td>8409</td></tr><tr><td>&quot;Ač Alexander, …</td><td>9316</td></tr><tr><td>&quot;Adamec Slavomí…</td><td>5432</td></tr><tr><td>&quot;Adámek Pavel, …</td><td>7443</td></tr><tr><td>&quot;Adam Julie, M.…</td><td>9249</td></tr></tbody></table></div>"
      ],
      "text/plain": [
       "shape: (5, 2)\n",
       "┌──────────────────────────┬──────┐\n",
       "│ jmena                    ┆ idno │\n",
       "│ ---                      ┆ ---  │\n",
       "│ str                      ┆ i64  │\n",
       "╞══════════════════════════╪══════╡\n",
       "│ Abrahamová Petra, Mgr.   ┆ 8409 │\n",
       "│ Ač Alexander, Mgr. Ph.D. ┆ 9316 │\n",
       "│ Adamec Slavomír, Ing.    ┆ 5432 │\n",
       "│ Adámek Pavel, Mgr. Bc.   ┆ 7443 │\n",
       "│ Adam Julie, M.A.         ┆ 9249 │\n",
       "└──────────────────────────┴──────┘"
      ]
     },
     "execution_count": 60,
     "metadata": {},
     "output_type": "execute_result"
    }
   ],
   "source": [
    "ciselnik_ucitelu = pl.read_csv(\"source_tables/ciselnik_ucitelu.csv\").select(\"nazev\", \"key\").rename({\"nazev\":\"jmena\", \"key\":\"idno\"})\n",
    "ciselnik_ucitelu.head()"
   ]
  },
  {
   "cell_type": "code",
   "execution_count": null,
   "metadata": {},
   "outputs": [
    {
     "data": {
      "text/html": [
       "<div><style>\n",
       ".dataframe > thead > tr,\n",
       ".dataframe > tbody > tr {\n",
       "  text-align: right;\n",
       "  white-space: pre-wrap;\n",
       "}\n",
       "</style>\n",
       "<small>shape: (1, 11)</small><table border=\"1\" class=\"dataframe\"><thead><tr><th>zkratka</th><th>katedra</th><th>rok</th><th>nazev</th><th>garantiUcitIdno</th><th>prednasejici</th><th>prednasejiciUcitIdno</th><th>cvicici</th><th>cviciciUcitIdno</th><th>seminarici</th><th>seminariciUcitIdno</th></tr><tr><td>str</td><td>str</td><td>i64</td><td>str</td><td>list[i64]</td><td>str</td><td>list[i64]</td><td>str</td><td>list[i64]</td><td>str</td><td>list[i64]</td></tr></thead><tbody><tr><td>&quot;B317&quot;</td><td>&quot;KCH&quot;</td><td>2023</td><td>&quot;Membránové sep…</td><td>[3705]</td><td>&quot;&#x27;Ing. Zuzana P…</td><td>[3705]</td><td>&quot;&quot;</td><td>null</td><td>&quot;&quot;</td><td>null</td></tr></tbody></table></div>"
      ],
      "text/plain": [
       "shape: (1, 11)\n",
       "┌─────────┬─────────┬──────┬──────────────┬───┬─────────┬──────────────┬────────────┬──────────────┐\n",
       "│ zkratka ┆ katedra ┆ rok  ┆ nazev        ┆ … ┆ cvicici ┆ cviciciUcitI ┆ seminarici ┆ seminariciUc │\n",
       "│ ---     ┆ ---     ┆ ---  ┆ ---          ┆   ┆ ---     ┆ dno          ┆ ---        ┆ itIdno       │\n",
       "│ str     ┆ str     ┆ i64  ┆ str          ┆   ┆ str     ┆ ---          ┆ str        ┆ ---          │\n",
       "│         ┆         ┆      ┆              ┆   ┆         ┆ list[i64]    ┆            ┆ list[i64]    │\n",
       "╞═════════╪═════════╪══════╪══════════════╪═══╪═════════╪══════════════╪════════════╪══════════════╡\n",
       "│ B317    ┆ KCH     ┆ 2023 ┆ Membránové   ┆ … ┆         ┆ null         ┆            ┆ null         │\n",
       "│         ┆         ┆      ┆ separace     ┆   ┆         ┆              ┆            ┆              │\n",
       "└─────────┴─────────┴──────┴──────────────┴───┴─────────┴──────────────┴────────────┴──────────────┘"
      ]
     },
     "execution_count": 61,
     "metadata": {},
     "output_type": "execute_result"
    }
   ],
   "source": [
    "male_predmety = predmety_by_kat.with_columns(pl.concat_str(pl.col(\"zkratka\"), pl.col(\"katedra\")).alias(\"zkratka + katedra\")).select(pl.col([\"zkratka\", \"katedra\", \"zkratka + katedra\", \"rok\", \"nazev\", \"garantiUcitIdno\", \"prednasejici\", \"prednasejiciUcitIdno\",\"cvicici\", \"cviciciUcitIdno\",\"seminarici\", \"seminariciUcitIdno\"])).unique(subset=\"zkratka + katedra\").drop(\"zkratka + katedra\")\n",
    "#male_predmety = male_predmety.with_columns(pl.col([\"prednasejiciUcitIdno\", \"cviciciUcitIdno\", \"seminariciUcitIdno\", \"garantiUcitIdno\"]).str.split(\", \"))\n",
    "male_predmety.filter(pl.col(\"zkratka\") == \"B317\").head()"
   ]
  },
  {
   "cell_type": "code",
   "execution_count": null,
   "metadata": {},
   "outputs": [],
   "source": [
    "# přednášející nemá přednášku:\n",
    "filtrovani_prednasejici = male_predmety.select(\"nazev\", \"zkratka\", \"prednasejiciUcitIdno\").explode(\"prednasejiciUcitIdno\")\n",
    "prednasejici_jmena = male_predmety.select(\"prednasejici\").rename({\"prednasejici\":\"jmena\"}).with_columns(pl.col(\"jmena\").str.strip_chars().str.split(\"', \")).explode(\"jmena\")\n",
    "prednasejici_jmena = prednasejici_jmena.with_columns(pl.col(\"jmena\").str.replace(\",\", \"\"))\n",
    "filtrovani_prednasejici = filtrovani_prednasejici.with_columns(prednasejici_jmena).filter(\n",
    "    pl.col(\"prednasejiciUcitIdno\"\n",
    ").is_not_null()).with_columns(\n",
    "    pl.col(\"prednasejiciUcitIdno\").alias(\"idno\")\n",
    ")\n",
    "joined_prednasejici = filtrovani_prednasejici.join(maly_rozvrh, \"idno\", \"left\")\n",
    "prednasejici_bez_prednasek = joined_prednasejici.filter(pl.col(\"typAkceZkr\").is_null())\n",
    "prednasejici_bez_prednasek.select(\"nazev\", \"zkratka\", \"prednasejiciUcitIdno\", \"jmena\").sort(\"prednasejiciUcitIdno\").write_excel(\"results_xlsx/prednasejici_bez_prednasek.xlsx\")\n",
    "prednasejici_bez_prednasek.select(\"nazev\", \"zkratka\", \"prednasejiciUcitIdno\", \"jmena\").sort(\"prednasejiciUcitIdno\").write_csv(\"results_csv/prednasejici_bez_prednasek.csv\")\n",
    "bez_problemu = bez_problemu.join(prednasejici_bez_prednasek.with_columns(pl.concat_str([pl.col(\"zkratka\"), pl.col(\"katedra\")], separator=\"/\").alias(\"identifier\")),\"identifier\" ,\"anti\")"
   ]
  },
  {
   "cell_type": "code",
   "execution_count": null,
   "metadata": {},
   "outputs": [
    {
     "name": "stdout",
     "output_type": "stream",
     "text": [
      "115\n"
     ]
    },
    {
     "data": {
      "text/html": [
       "<div><style>\n",
       ".dataframe > thead > tr,\n",
       ".dataframe > tbody > tr {\n",
       "  text-align: right;\n",
       "  white-space: pre-wrap;\n",
       "}\n",
       "</style>\n",
       "<small>shape: (15, 14)</small><table border=\"1\" class=\"dataframe\"><thead><tr><th>katedra</th><th>zkratka</th><th>idno</th><th>typAkceZkr</th><th>rok</th><th>datumOd</th><th>datumDo</th><th>hodinaSkutOd</th><th>hodinaSkutDo</th><th>katedra_right</th><th>nazev</th><th>prednasejici</th><th>prednasejiciUcitIdno</th><th>jmena</th></tr><tr><td>str</td><td>str</td><td>i64</td><td>str</td><td>i64</td><td>str</td><td>str</td><td>str</td><td>str</td><td>str</td><td>str</td><td>str</td><td>str</td><td>str</td></tr></thead><tbody><tr><td>&quot;KPRF&quot;</td><td>&quot;0101&quot;</td><td>556</td><td>&quot;Př&quot;</td><td>2023</td><td>&quot;2.10.2023&quot;</td><td>&quot;18.12.2023&quot;</td><td>&quot;16:00&quot;</td><td>&quot;17:50&quot;</td><td>&quot;KPRF&quot;</td><td>&quot;Úvod do meteor…</td><td>&quot;&quot;</td><td>null</td><td>null</td></tr><tr><td>&quot;KCH&quot;</td><td>&quot;B100&quot;</td><td>2856</td><td>&quot;Př&quot;</td><td>2023</td><td>&quot;3.10.2023&quot;</td><td>&quot;2.1.2024&quot;</td><td>&quot;12:00&quot;</td><td>&quot;13:50&quot;</td><td>&quot;KCH&quot;</td><td>&quot;Úvod do chemie…</td><td>&quot;&#x27;doc. RNDr. Ja…</td><td>&quot;2855&quot;</td><td>&quot;Škvorová Magda…</td></tr><tr><td>&quot;KCH&quot;</td><td>&quot;B104&quot;</td><td>8421</td><td>&quot;Př&quot;</td><td>2023</td><td>&quot;20.2.2024&quot;</td><td>&quot;14.5.2024&quot;</td><td>&quot;12:00&quot;</td><td>&quot;13:50&quot;</td><td>&quot;KCH&quot;</td><td>&quot;Anorganická ch…</td><td>&quot;&#x27;RNDr. Václav …</td><td>&quot;4310&quot;</td><td>&quot;Vojtíšek Pavel…</td></tr><tr><td>&quot;KGEO&quot;</td><td>&quot;B203&quot;</td><td>3164</td><td>&quot;Př&quot;</td><td>2023</td><td>&quot;21.2.2024&quot;</td><td>&quot;15.5.2024&quot;</td><td>&quot;17:00&quot;</td><td>&quot;18:50&quot;</td><td>&quot;KGEO&quot;</td><td>&quot;Geografie Česk…</td><td>&quot;&#x27;doc. Mgr. Pav…</td><td>&quot;1434&quot;</td><td>&quot;Riezner Jiří, …</td></tr><tr><td>&quot;KGEO&quot;</td><td>&quot;B206&quot;</td><td>6384</td><td>&quot;Př&quot;</td><td>2023</td><td>&quot;21.2.2024&quot;</td><td>&quot;15.5.2024&quot;</td><td>&quot;08:00&quot;</td><td>&quot;09:50&quot;</td><td>&quot;KGEO&quot;</td><td>&quot;Regionální geo…</td><td>&quot;&#x27;doc. RNDr. Ji…</td><td>&quot;312&quot;</td><td>&quot;Trahorsch Petr…</td></tr><tr><td>&hellip;</td><td>&hellip;</td><td>&hellip;</td><td>&hellip;</td><td>&hellip;</td><td>&hellip;</td><td>&hellip;</td><td>&hellip;</td><td>&hellip;</td><td>&hellip;</td><td>&hellip;</td><td>&hellip;</td><td>&hellip;</td><td>&hellip;</td></tr><tr><td>&quot;KGEO&quot;</td><td>&quot;B508&quot;</td><td>8027</td><td>&quot;Př&quot;</td><td>2023</td><td>&quot;3.10.2023&quot;</td><td>&quot;2.1.2024&quot;</td><td>&quot;17:00&quot;</td><td>&quot;18:50&quot;</td><td>&quot;KGEO&quot;</td><td>&quot;Ochrana přírod…</td><td>&quot;&#x27;RNDr. Tomáš M…</td><td>&quot;1472&quot;</td><td>null</td></tr><tr><td>&quot;KGEO&quot;</td><td>&quot;B602&quot;</td><td>3528</td><td>&quot;Př&quot;</td><td>2023</td><td>&quot;19.2.2024&quot;</td><td>&quot;13.5.2024&quot;</td><td>&quot;14:00&quot;</td><td>&quot;15:50&quot;</td><td>&quot;KGEO&quot;</td><td>&quot;Specializační …</td><td>&quot;&#x27;Mgr. Petr Mey…</td><td>&quot;5855&quot;</td><td>&quot;Kučerová Silvi…</td></tr><tr><td>&quot;KGEO&quot;</td><td>&quot;B602&quot;</td><td>9521</td><td>&quot;Př&quot;</td><td>2023</td><td>&quot;19.2.2024&quot;</td><td>&quot;13.5.2024&quot;</td><td>&quot;14:00&quot;</td><td>&quot;15:50&quot;</td><td>&quot;KGEO&quot;</td><td>&quot;Specializační …</td><td>&quot;&#x27;Mgr. Petr Mey…</td><td>&quot;5855&quot;</td><td>&quot;Vaverka Lukáš,…</td></tr><tr><td>&quot;KGEO&quot;</td><td>&quot;B609&quot;</td><td>9521</td><td>&quot;Př&quot;</td><td>2023</td><td>&quot;19.2.2024&quot;</td><td>&quot;13.5.2024&quot;</td><td>&quot;14:00&quot;</td><td>&quot;15:50&quot;</td><td>&quot;KGEO&quot;</td><td>&quot;Specializační …</td><td>&quot;&#x27;Mgr. Petr Mey…</td><td>&quot;5855, 1434&quot;</td><td>&quot;Vaverka Lukáš,…</td></tr><tr><td>&quot;KGEO&quot;</td><td>&quot;B609&quot;</td><td>3528</td><td>&quot;Př&quot;</td><td>2023</td><td>&quot;19.2.2024&quot;</td><td>&quot;13.5.2024&quot;</td><td>&quot;14:00&quot;</td><td>&quot;15:50&quot;</td><td>&quot;KGEO&quot;</td><td>&quot;Specializační …</td><td>&quot;&#x27;Mgr. Petr Mey…</td><td>&quot;5855, 1434&quot;</td><td>&quot;Kučerová Silvi…</td></tr></tbody></table></div>"
      ],
      "text/plain": [
       "shape: (15, 14)\n",
       "┌─────────┬─────────┬──────┬────────────┬───┬─────────────┬─────────────┬─────────────┬────────────┐\n",
       "│ katedra ┆ zkratka ┆ idno ┆ typAkceZkr ┆ … ┆ nazev       ┆ prednasejic ┆ prednasejic ┆ jmena      │\n",
       "│ ---     ┆ ---     ┆ ---  ┆ ---        ┆   ┆ ---         ┆ i           ┆ iUcitIdno   ┆ ---        │\n",
       "│ str     ┆ str     ┆ i64  ┆ str        ┆   ┆ str         ┆ ---         ┆ ---         ┆ str        │\n",
       "│         ┆         ┆      ┆            ┆   ┆             ┆ str         ┆ str         ┆            │\n",
       "╞═════════╪═════════╪══════╪════════════╪═══╪═════════════╪═════════════╪═════════════╪════════════╡\n",
       "│ KPRF    ┆ 0101    ┆ 556  ┆ Př         ┆ … ┆ Úvod do met ┆             ┆ null        ┆ null       │\n",
       "│         ┆         ┆      ┆            ┆   ┆ eorologie   ┆             ┆             ┆            │\n",
       "│ KCH     ┆ B100    ┆ 2856 ┆ Př         ┆ … ┆ Úvod do     ┆ 'doc. RNDr. ┆ 2855        ┆ Škvorová   │\n",
       "│         ┆         ┆      ┆            ┆   ┆ chemie      ┆ Jan Jirsák, ┆             ┆ Magda,     │\n",
       "│         ┆         ┆      ┆            ┆   ┆             ┆ Ph.D.'      ┆             ┆ Ing. Ph.D. │\n",
       "│ KCH     ┆ B104    ┆ 8421 ┆ Př         ┆ … ┆ Anorganická ┆ 'RNDr.      ┆ 4310        ┆ Vojtíšek   │\n",
       "│         ┆         ┆      ┆            ┆   ┆ chemie      ┆ Václav      ┆             ┆ Pavel,     │\n",
       "│         ┆         ┆      ┆            ┆   ┆             ┆ Šícha,      ┆             ┆ doc. RNDr. │\n",
       "│         ┆         ┆      ┆            ┆   ┆             ┆ Ph.D.'      ┆             ┆ CSc.       │\n",
       "│ KGEO    ┆ B203    ┆ 3164 ┆ Př         ┆ … ┆ Geografie   ┆ 'doc. Mgr.  ┆ 1434        ┆ Riezner    │\n",
       "│         ┆         ┆      ┆            ┆   ┆ Česka I     ┆ Pavel       ┆             ┆ Jiří, Mgr. │\n",
       "│         ┆         ┆      ┆            ┆   ┆             ┆ Raška,      ┆             ┆ Ph.D.      │\n",
       "│         ┆         ┆      ┆            ┆   ┆             ┆ Ph.D.'      ┆             ┆            │\n",
       "│ KGEO    ┆ B206    ┆ 6384 ┆ Př         ┆ … ┆ Regionální  ┆ 'doc. RNDr. ┆ 312         ┆ Trahorsch  │\n",
       "│         ┆         ┆      ┆            ┆   ┆ geografie I ┆ Jiří Anděl, ┆             ┆ Petr, Mgr. │\n",
       "│         ┆         ┆      ┆            ┆   ┆             ┆ CSc.'       ┆             ┆ Ph.D.      │\n",
       "│ …       ┆ …       ┆ …    ┆ …          ┆ … ┆ …           ┆ …           ┆ …           ┆ …          │\n",
       "│ KGEO    ┆ B508    ┆ 8027 ┆ Př         ┆ … ┆ Ochrana     ┆ 'RNDr.      ┆ 1472        ┆ null       │\n",
       "│         ┆         ┆      ┆            ┆   ┆ přírody a   ┆ Tomáš       ┆             ┆            │\n",
       "│         ┆         ┆      ┆            ┆   ┆ krajiny     ┆ Matějček,   ┆             ┆            │\n",
       "│         ┆         ┆      ┆            ┆   ┆             ┆ Ph.D.'      ┆             ┆            │\n",
       "│ KGEO    ┆ B602    ┆ 3528 ┆ Př         ┆ … ┆ Specializač ┆ 'Mgr. Petr  ┆ 5855        ┆ Kučerová   │\n",
       "│         ┆         ┆      ┆            ┆   ┆ ní          ┆ Meyer,      ┆             ┆ Silvie     │\n",
       "│         ┆         ┆      ┆            ┆   ┆ přednášky   ┆ Ph.D.'      ┆             ┆ Rita,      │\n",
       "│         ┆         ┆      ┆            ┆   ┆ ze SG       ┆             ┆             ┆ RNDr.      │\n",
       "│         ┆         ┆      ┆            ┆   ┆             ┆             ┆             ┆ Ph.D…      │\n",
       "│ KGEO    ┆ B602    ┆ 9521 ┆ Př         ┆ … ┆ Specializač ┆ 'Mgr. Petr  ┆ 5855        ┆ Vaverka    │\n",
       "│         ┆         ┆      ┆            ┆   ┆ ní          ┆ Meyer,      ┆             ┆ Lukáš,     │\n",
       "│         ┆         ┆      ┆            ┆   ┆ přednášky   ┆ Ph.D.'      ┆             ┆ Mgr.       │\n",
       "│         ┆         ┆      ┆            ┆   ┆ ze SG       ┆             ┆             ┆            │\n",
       "│ KGEO    ┆ B609    ┆ 9521 ┆ Př         ┆ … ┆ Specializač ┆ 'Mgr. Petr  ┆ 5855, 1434  ┆ Vaverka    │\n",
       "│         ┆         ┆      ┆            ┆   ┆ ní          ┆ Meyer,      ┆             ┆ Lukáš,     │\n",
       "│         ┆         ┆      ┆            ┆   ┆ přednášky z ┆ Ph.D.',     ┆             ┆ Mgr.       │\n",
       "│         ┆         ┆      ┆            ┆   ┆ geogra…     ┆ 'doc. …     ┆             ┆            │\n",
       "│ KGEO    ┆ B609    ┆ 3528 ┆ Př         ┆ … ┆ Specializač ┆ 'Mgr. Petr  ┆ 5855, 1434  ┆ Kučerová   │\n",
       "│         ┆         ┆      ┆            ┆   ┆ ní          ┆ Meyer,      ┆             ┆ Silvie     │\n",
       "│         ┆         ┆      ┆            ┆   ┆ přednášky z ┆ Ph.D.',     ┆             ┆ Rita,      │\n",
       "│         ┆         ┆      ┆            ┆   ┆ geogra…     ┆ 'doc. …     ┆             ┆ RNDr.      │\n",
       "│         ┆         ┆      ┆            ┆   ┆             ┆             ┆             ┆ Ph.D…      │\n",
       "└─────────┴─────────┴──────┴────────────┴───┴─────────────┴─────────────┴─────────────┴────────────┘"
      ]
     },
     "execution_count": 63,
     "metadata": {},
     "output_type": "execute_result"
    }
   ],
   "source": [
    "#WEIRD STUFF: Učitel 8027 u KGEO/B508\n",
    "# otherwise looks pretty good\n",
    "\n",
    "male_prednasky = maly_rozvrh.filter(pl.col(\"typAkceZkr\") == \"Př\")\n",
    "joined_prednasky = male_prednasky.join(male_predmety.select(\"zkratka\", \"katedra\", \"nazev\", \"prednasejici\", \"prednasejiciUcitIdno\"), \"zkratka\", \"left\").unique()\n",
    "prednasky_bez_prednasejicich = joined_prednasky.filter(pl.col(\"idno\").is_in(pl.col(\"prednasejiciUcitIdno\")).not_() & ((pl.col(\"katedra\") == pl.col(\"katedra_right\")) | pl.col(\"katedra_right\").is_null()))\n",
    "\n",
    "prednasky_bez_prednasejicich = prednasky_bez_prednasejicich.join(ciselnik_ucitelu, \"idno\", \"left\").with_columns(pl.col(\"prednasejiciUcitIdno\").cast(pl.List(pl.Utf8)).list.join(\", \")).sort(\"zkratka\")\n",
    "\n",
    "prednasky_bez_prednasejicich.write_csv(\"results_csv/prednasky_bez_prednasejicich.csv\")\n",
    "prednasky_bez_prednasejicich.write_excel(\"results_xlsx/prednasky_bez_prednasejicich.xlsx\")\n",
    "\n",
    "bez_problemu = bez_problemu.join(prednasky_bez_prednasejicich.with_columns(pl.concat_str([pl.col(\"zkratka\"), pl.col(\"katedra\")], separator=\"/\").alias(\"identifier\")),\"identifier\" ,\"anti\")\n",
    "\n",
    "print(prednasky_bez_prednasejicich.__len__())\n",
    "prednasky_bez_prednasejicich.head(15)"
   ]
  },
  {
   "cell_type": "code",
   "execution_count": null,
   "metadata": {},
   "outputs": [],
   "source": [
    "# cvičící nemá cvičení:\n",
    "filtrovani_cvicici = male_predmety.select(\"nazev\", \"zkratka\", \"cviciciUcitIdno\").explode(\"cviciciUcitIdno\")\n",
    "cvicici_jmena = male_predmety.select(\"cvicici\").rename({\"cvicici\":\"jmena\"}).with_columns(pl.col(\"jmena\").str.strip_chars().str.split(\"', \")).explode(\"jmena\")\n",
    "cvicici_jmena = cvicici_jmena.with_columns(pl.col(\"jmena\").str.replace(\",\", \"\"))\n",
    "filtrovani_cvicici = filtrovani_cvicici.with_columns(cvicici_jmena).filter(\n",
    "    pl.col(\"cviciciUcitIdno\"\n",
    ").is_not_null()).with_columns(\n",
    "    pl.col(\"cviciciUcitIdno\").alias(\"idno\")\n",
    ")\n",
    "joined_cvicici = filtrovani_cvicici.join(maly_rozvrh, \"idno\", \"left\")\n",
    "cvicici_bez_cviceni = joined_cvicici.filter(pl.col(\"typAkceZkr\").is_null())\n",
    "cvicici_bez_cviceni.select(\"nazev\", \"zkratka\", \"cviciciUcitIdno\").sort(\"cviciciUcitIdno\").write_excel(\"results_xlsx/cvicici_bez_cviceni.xlsx\")\n",
    "cvicici_bez_cviceni.select(\"nazev\", \"zkratka\", \"cviciciUcitIdno\", \"jmena\").sort(\"cviciciUcitIdno\").write_csv(\"results_csv/cvicici_bez_cviceni.csv\")\n",
    "\n",
    "bez_problemu = bez_problemu.join(cvicici_bez_cviceni.with_columns(pl.concat_str([pl.col(\"zkratka\"), pl.col(\"katedra\")], separator=\"/\").alias(\"identifier\")),\"identifier\" ,\"anti\")"
   ]
  },
  {
   "cell_type": "code",
   "execution_count": null,
   "metadata": {},
   "outputs": [
    {
     "name": "stdout",
     "output_type": "stream",
     "text": [
      "260\n"
     ]
    },
    {
     "data": {
      "text/html": [
       "<div><style>\n",
       ".dataframe > thead > tr,\n",
       ".dataframe > tbody > tr {\n",
       "  text-align: right;\n",
       "  white-space: pre-wrap;\n",
       "}\n",
       "</style>\n",
       "<small>shape: (15, 14)</small><table border=\"1\" class=\"dataframe\"><thead><tr><th>katedra</th><th>zkratka</th><th>idno</th><th>typAkceZkr</th><th>rok</th><th>datumOd</th><th>datumDo</th><th>hodinaSkutOd</th><th>hodinaSkutDo</th><th>katedra_right</th><th>nazev</th><th>cvicici</th><th>cviciciUcitIdno</th><th>jmena</th></tr><tr><td>str</td><td>str</td><td>i64</td><td>str</td><td>i64</td><td>str</td><td>str</td><td>str</td><td>str</td><td>str</td><td>str</td><td>str</td><td>str</td><td>str</td></tr></thead><tbody><tr><td>&quot;KGEO&quot;</td><td>&quot;0165&quot;</td><td>9282</td><td>&quot;Cv&quot;</td><td>2023</td><td>&quot;21.2.2024&quot;</td><td>&quot;15.5.2024&quot;</td><td>&quot;12:00&quot;</td><td>&quot;13:50&quot;</td><td>&quot;KGEO&quot;</td><td>&quot;Hodnotová orie…</td><td>&quot;&quot;</td><td>null</td><td>&quot;Vyhnánková Kat…</td></tr><tr><td>&quot;KFY&quot;</td><td>&quot;0219&quot;</td><td>7723</td><td>&quot;Cv&quot;</td><td>2023</td><td>&quot;4.10.2023&quot;</td><td>&quot;3.1.2024&quot;</td><td>&quot;16:00&quot;</td><td>&quot;17:50&quot;</td><td>&quot;KFY&quot;</td><td>&quot;CFD Simulace&quot;</td><td>&quot;&#x27;doc. Ing. Jar…</td><td>&quot;1803&quot;</td><td>&quot;Kramoliš David…</td></tr><tr><td>&quot;KGEO&quot;</td><td>&quot;0A00&quot;</td><td>6919</td><td>&quot;Cv&quot;</td><td>2023</td><td>&quot;4.10.2023&quot;</td><td>&quot;3.1.2024&quot;</td><td>&quot;13:00&quot;</td><td>&quot;14:50&quot;</td><td>&quot;KGEO&quot;</td><td>&quot;Diplomová prác…</td><td>&quot;&#x27;RNDr. Silvie …</td><td>&quot;3528&quot;</td><td>&quot;Píša Jan, Mgr.…</td></tr><tr><td>&quot;KCH&quot;</td><td>&quot;ACH&quot;</td><td>9301</td><td>&quot;Cv&quot;</td><td>2023</td><td>&quot;21.2.2024&quot;</td><td>&quot;15.5.2024&quot;</td><td>&quot;11:00&quot;</td><td>&quot;11:50&quot;</td><td>&quot;KCH&quot;</td><td>&quot;Anorganická ch…</td><td>&quot;&#x27;RNDr. Václav …</td><td>&quot;4310&quot;</td><td>&quot;Greguš Viktor,…</td></tr><tr><td>&quot;KCH&quot;</td><td>&quot;B100&quot;</td><td>2856</td><td>&quot;Cv&quot;</td><td>2023</td><td>&quot;5.10.2023&quot;</td><td>&quot;4.1.2024&quot;</td><td>&quot;10:00&quot;</td><td>&quot;11:50&quot;</td><td>&quot;KCH&quot;</td><td>&quot;Úvod do chemie…</td><td>&quot;&#x27;doc. RNDr. Ja…</td><td>&quot;2855&quot;</td><td>&quot;Škvorová Magda…</td></tr><tr><td>&hellip;</td><td>&hellip;</td><td>&hellip;</td><td>&hellip;</td><td>&hellip;</td><td>&hellip;</td><td>&hellip;</td><td>&hellip;</td><td>&hellip;</td><td>&hellip;</td><td>&hellip;</td><td>&hellip;</td><td>&hellip;</td><td>&hellip;</td></tr><tr><td>&quot;KGEO&quot;</td><td>&quot;B104&quot;</td><td>8819</td><td>&quot;Cv&quot;</td><td>2023</td><td>&quot;6.10.2023&quot;</td><td>&quot;5.1.2024&quot;</td><td>&quot;10:00&quot;</td><td>&quot;11:50&quot;</td><td>&quot;KGEO&quot;</td><td>&quot;Geografická ka…</td><td>&quot;&#x27;doc. PhDr. RN…</td><td>&quot;3452, 5855&quot;</td><td>&quot;Bartůněk Marti…</td></tr><tr><td>&quot;KCH&quot;</td><td>&quot;B104&quot;</td><td>9301</td><td>&quot;Cv&quot;</td><td>2023</td><td>&quot;21.2.2024&quot;</td><td>&quot;15.5.2024&quot;</td><td>&quot;11:00&quot;</td><td>&quot;11:50&quot;</td><td>&quot;KCH&quot;</td><td>&quot;Anorganická ch…</td><td>&quot;&#x27;RNDr. Václav …</td><td>&quot;4310&quot;</td><td>&quot;Greguš Viktor,…</td></tr><tr><td>&quot;KCH&quot;</td><td>&quot;B107&quot;</td><td>4310</td><td>&quot;Cv&quot;</td><td>2023</td><td>&quot;2.5.2024&quot;</td><td>&quot;2.5.2024&quot;</td><td>&quot;13:00&quot;</td><td>&quot;13:50&quot;</td><td>&quot;KCH&quot;</td><td>&quot;Prezentace kat…</td><td>&quot;&#x27;doc. Ing. Jan…</td><td>&quot;1064&quot;</td><td>&quot;Šícha Václav, …</td></tr><tr><td>&quot;KCH&quot;</td><td>&quot;B107&quot;</td><td>7723</td><td>&quot;Cv&quot;</td><td>2023</td><td>&quot;9.5.2024&quot;</td><td>&quot;9.5.2024&quot;</td><td>&quot;13:00&quot;</td><td>&quot;13:50&quot;</td><td>&quot;KCH&quot;</td><td>&quot;Prezentace kat…</td><td>&quot;&#x27;doc. Ing. Jan…</td><td>&quot;1064&quot;</td><td>&quot;Kramoliš David…</td></tr><tr><td>&quot;KCH&quot;</td><td>&quot;B107&quot;</td><td>4117</td><td>&quot;Cv&quot;</td><td>2023</td><td>&quot;2.5.2024&quot;</td><td>&quot;2.5.2024&quot;</td><td>&quot;13:00&quot;</td><td>&quot;13:50&quot;</td><td>&quot;KCH&quot;</td><td>&quot;Prezentace kat…</td><td>&quot;&#x27;doc. Ing. Jan…</td><td>&quot;1064&quot;</td><td>&quot;Vrtoch Ľuboš, …</td></tr></tbody></table></div>"
      ],
      "text/plain": [
       "shape: (15, 14)\n",
       "┌─────────┬─────────┬──────┬────────────┬───┬─────────────┬─────────────┬─────────────┬────────────┐\n",
       "│ katedra ┆ zkratka ┆ idno ┆ typAkceZkr ┆ … ┆ nazev       ┆ cvicici     ┆ cviciciUcit ┆ jmena      │\n",
       "│ ---     ┆ ---     ┆ ---  ┆ ---        ┆   ┆ ---         ┆ ---         ┆ Idno        ┆ ---        │\n",
       "│ str     ┆ str     ┆ i64  ┆ str        ┆   ┆ str         ┆ str         ┆ ---         ┆ str        │\n",
       "│         ┆         ┆      ┆            ┆   ┆             ┆             ┆ str         ┆            │\n",
       "╞═════════╪═════════╪══════╪════════════╪═══╪═════════════╪═════════════╪═════════════╪════════════╡\n",
       "│ KGEO    ┆ 0165    ┆ 9282 ┆ Cv         ┆ … ┆ Hodnotová   ┆             ┆ null        ┆ Vyhnánková │\n",
       "│         ┆         ┆      ┆            ┆   ┆ orientace v ┆             ┆             ┆ Kateřina,  │\n",
       "│         ┆         ┆      ┆            ┆   ┆ rozvoji mí… ┆             ┆             ┆ Mgr.       │\n",
       "│ KFY     ┆ 0219    ┆ 7723 ┆ Cv         ┆ … ┆ CFD         ┆ 'doc. Ing.  ┆ 1803        ┆ Kramoliš   │\n",
       "│         ┆         ┆      ┆            ┆   ┆ Simulace    ┆ Jaromír     ┆             ┆ David,     │\n",
       "│         ┆         ┆      ┆            ┆   ┆             ┆ Havlica,    ┆             ┆ Mgr. Ph.D. │\n",
       "│         ┆         ┆      ┆            ┆   ┆             ┆ Ph.D…       ┆             ┆            │\n",
       "│ KGEO    ┆ 0A00    ┆ 6919 ┆ Cv         ┆ … ┆ Diplomová   ┆ 'RNDr.      ┆ 3528        ┆ Píša Jan,  │\n",
       "│         ┆         ┆      ┆            ┆   ┆ práce z     ┆ Silvie Rita ┆             ┆ Mgr. Ph.D. │\n",
       "│         ┆         ┆      ┆            ┆   ┆ geografie   ┆ Kučerová,   ┆             ┆            │\n",
       "│         ┆         ┆      ┆            ┆   ┆             ┆ Ph.…        ┆             ┆            │\n",
       "│ KCH     ┆ ACH     ┆ 9301 ┆ Cv         ┆ … ┆ Anorganická ┆ 'RNDr.      ┆ 4310        ┆ Greguš     │\n",
       "│         ┆         ┆      ┆            ┆   ┆ chemie      ┆ Václav      ┆             ┆ Viktor,    │\n",
       "│         ┆         ┆      ┆            ┆   ┆             ┆ Šícha,      ┆             ┆ Ing.       │\n",
       "│         ┆         ┆      ┆            ┆   ┆             ┆ Ph.D.'      ┆             ┆            │\n",
       "│ KCH     ┆ B100    ┆ 2856 ┆ Cv         ┆ … ┆ Úvod do     ┆ 'doc. RNDr. ┆ 2855        ┆ Škvorová   │\n",
       "│         ┆         ┆      ┆            ┆   ┆ chemie      ┆ Jan Jirsák, ┆             ┆ Magda,     │\n",
       "│         ┆         ┆      ┆            ┆   ┆             ┆ Ph.D.'      ┆             ┆ Ing. Ph.D. │\n",
       "│ …       ┆ …       ┆ …    ┆ …          ┆ … ┆ …           ┆ …           ┆ …           ┆ …          │\n",
       "│ KGEO    ┆ B104    ┆ 8819 ┆ Cv         ┆ … ┆ Geografická ┆ 'doc. PhDr. ┆ 3452, 5855  ┆ Bartůněk   │\n",
       "│         ┆         ┆      ┆            ┆   ┆ kartografie ┆ RNDr. Jan   ┆             ┆ Martin,    │\n",
       "│         ┆         ┆      ┆            ┆   ┆             ┆ Daniel Blá… ┆             ┆ Mgr.       │\n",
       "│ KCH     ┆ B104    ┆ 9301 ┆ Cv         ┆ … ┆ Anorganická ┆ 'RNDr.      ┆ 4310        ┆ Greguš     │\n",
       "│         ┆         ┆      ┆            ┆   ┆ chemie      ┆ Václav      ┆             ┆ Viktor,    │\n",
       "│         ┆         ┆      ┆            ┆   ┆             ┆ Šícha,      ┆             ┆ Ing.       │\n",
       "│         ┆         ┆      ┆            ┆   ┆             ┆ Ph.D.'      ┆             ┆            │\n",
       "│ KCH     ┆ B107    ┆ 4310 ┆ Cv         ┆ … ┆ Prezentace  ┆ 'doc. Ing.  ┆ 1064        ┆ Šícha      │\n",
       "│         ┆         ┆      ┆            ┆   ┆ katedry     ┆ Jan Čermák, ┆             ┆ Václav,    │\n",
       "│         ┆         ┆      ┆            ┆   ┆             ┆ CSc.'       ┆             ┆ RNDr.      │\n",
       "│         ┆         ┆      ┆            ┆   ┆             ┆             ┆             ┆ Ph.D.      │\n",
       "│ KCH     ┆ B107    ┆ 7723 ┆ Cv         ┆ … ┆ Prezentace  ┆ 'doc. Ing.  ┆ 1064        ┆ Kramoliš   │\n",
       "│         ┆         ┆      ┆            ┆   ┆ katedry     ┆ Jan Čermák, ┆             ┆ David,     │\n",
       "│         ┆         ┆      ┆            ┆   ┆             ┆ CSc.'       ┆             ┆ Mgr. Ph.D. │\n",
       "│ KCH     ┆ B107    ┆ 4117 ┆ Cv         ┆ … ┆ Prezentace  ┆ 'doc. Ing.  ┆ 1064        ┆ Vrtoch     │\n",
       "│         ┆         ┆      ┆            ┆   ┆ katedry     ┆ Jan Čermák, ┆             ┆ Ľuboš,     │\n",
       "│         ┆         ┆      ┆            ┆   ┆             ┆ CSc.'       ┆             ┆ RNDr.      │\n",
       "│         ┆         ┆      ┆            ┆   ┆             ┆             ┆             ┆ PhD.,      │\n",
       "│         ┆         ┆      ┆            ┆   ┆             ┆             ┆             ┆ Ph.D.      │\n",
       "└─────────┴─────────┴──────┴────────────┴───┴─────────────┴─────────────┴─────────────┴────────────┘"
      ]
     },
     "execution_count": 65,
     "metadata": {},
     "output_type": "execute_result"
    }
   ],
   "source": [
    "#WEIRD STUFF: KGEO/0165 má napsaná cvičení (jak v rozvrhu tak předmětu) ale nemá napsanýho žádnýho učitele (fakt ani garanta, ani jednoho přednášejícího/cvičícího/etc.), tf?\n",
    "\n",
    "male_cviceni = maly_rozvrh.filter(pl.col(\"typAkceZkr\") == \"Cv\")\n",
    "joined_cviceni = male_cviceni.join(male_predmety.select(\"zkratka\", \"katedra\", \"nazev\", \"cvicici\", \"cviciciUcitIdno\"), \"zkratka\", \"left\").unique()\n",
    "cviceni_bez_cvicich = joined_cviceni.filter(pl.col(\"idno\").is_in(pl.col(\"cviciciUcitIdno\")).not_() & ((pl.col(\"katedra\") == pl.col(\"katedra_right\")) | pl.col(\"katedra_right\").is_null()))\n",
    "\n",
    "cviceni_bez_cvicich = cviceni_bez_cvicich.join(ciselnik_ucitelu, \"idno\", \"left\").with_columns(pl.col(\"cviciciUcitIdno\").cast(pl.List(pl.Utf8)).list.join(\", \")).sort(\"zkratka\")\n",
    "\n",
    "cviceni_bez_cvicich.write_csv(\"results_csv/cviceni_bez_cvicich.csv\")\n",
    "cviceni_bez_cvicich.write_excel(\"results_xlsx/cviceni_bez_cvicich.xlsx\")\n",
    "\n",
    "bez_problemu = bez_problemu.join(cviceni_bez_cvicich.with_columns(pl.concat_str([pl.col(\"zkratka\"), pl.col(\"katedra\")], separator=\"/\").alias(\"identifier\")),\"identifier\" ,\"anti\")\n",
    "\n",
    "print(cviceni_bez_cvicich.__len__())\n",
    "cviceni_bez_cvicich.head(15)"
   ]
  },
  {
   "cell_type": "code",
   "execution_count": null,
   "metadata": {},
   "outputs": [],
   "source": [
    "# seminařicí nemá seminář:\n",
    "filtrovani_seminarici = male_predmety.select(\"nazev\", \"zkratka\", \"seminariciUcitIdno\").explode(\"seminariciUcitIdno\")\n",
    "seminarici_jmena = male_predmety.select(\"seminarici\").rename({\"seminarici\":\"jmena\"}).with_columns(pl.col(\"jmena\").str.strip_chars().str.split(\"', \")).explode(\"jmena\")\n",
    "seminarici_jmena = seminarici_jmena.with_columns(pl.col(\"jmena\").str.replace(\",\", \"\"))\n",
    "filtrovani_seminarici = filtrovani_seminarici.with_columns(seminarici_jmena).filter(\n",
    "    pl.col(\"seminariciUcitIdno\"\n",
    ").is_not_null()).with_columns(\n",
    "    pl.col(\"seminariciUcitIdno\").alias(\"idno\")\n",
    ")\n",
    "joined_seminarici = filtrovani_seminarici.join(maly_rozvrh, \"idno\", \"left\")\n",
    "seminarici_bez_seminare = joined_seminarici.filter(pl.col(\"typAkceZkr\").is_null())\n",
    "seminarici_bez_seminare.select(\"nazev\", \"zkratka\", \"seminariciUcitIdno\").sort(\"seminariciUcitIdno\").write_csv(\"results_csv/seminarici_bez_seminare.csv\")\n",
    "seminarici_bez_seminare.select(\"nazev\", \"zkratka\", \"seminariciUcitIdno\").sort(\"seminariciUcitIdno\").write_excel(\"results_xlsx/seminarici_bez_seminare.xlsx\")\n",
    "\n",
    "bez_problemu = bez_problemu.join(seminarici_bez_seminare.with_columns(pl.concat_str([pl.col(\"zkratka\"), pl.col(\"katedra\")], separator=\"/\").alias(\"identifier\")),\"identifier\" ,\"anti\")"
   ]
  },
  {
   "cell_type": "code",
   "execution_count": null,
   "metadata": {},
   "outputs": [
    {
     "name": "stdout",
     "output_type": "stream",
     "text": [
      "67\n"
     ]
    },
    {
     "data": {
      "text/html": [
       "<div><style>\n",
       ".dataframe > thead > tr,\n",
       ".dataframe > tbody > tr {\n",
       "  text-align: right;\n",
       "  white-space: pre-wrap;\n",
       "}\n",
       "</style>\n",
       "<small>shape: (6, 14)</small><table border=\"1\" class=\"dataframe\"><thead><tr><th>katedra</th><th>zkratka</th><th>idno</th><th>typAkceZkr</th><th>rok</th><th>datumOd</th><th>datumDo</th><th>hodinaSkutOd</th><th>hodinaSkutDo</th><th>katedra_right</th><th>nazev</th><th>seminarici</th><th>seminariciUcitIdno</th><th>jmena</th></tr><tr><td>str</td><td>str</td><td>i64</td><td>str</td><td>i64</td><td>str</td><td>str</td><td>str</td><td>str</td><td>str</td><td>str</td><td>str</td><td>str</td><td>str</td></tr></thead><tbody><tr><td>&quot;KI&quot;</td><td>&quot;0204&quot;</td><td>null</td><td>&quot;Se&quot;</td><td>2023</td><td>&quot;20.2.2024&quot;</td><td>&quot;14.5.2024&quot;</td><td>&quot;15:00&quot;</td><td>&quot;15:50&quot;</td><td>&quot;KI&quot;</td><td>&quot;Microsoft SQL …</td><td>&quot;&#x27;Mgr. Květuše …</td><td>&quot;835&quot;</td><td>null</td></tr><tr><td>&quot;KI&quot;</td><td>&quot;0204&quot;</td><td>null</td><td>&quot;Se&quot;</td><td>2023</td><td>&quot;27.2.2024&quot;</td><td>&quot;7.5.2024&quot;</td><td>&quot;15:00&quot;</td><td>&quot;16:50&quot;</td><td>&quot;KI&quot;</td><td>&quot;Microsoft SQL …</td><td>&quot;&#x27;Mgr. Květuše …</td><td>&quot;835&quot;</td><td>null</td></tr><tr><td>&quot;KCH&quot;</td><td>&quot;B213&quot;</td><td>8946</td><td>&quot;Se&quot;</td><td>2023</td><td>&quot;20.2.2024&quot;</td><td>&quot;14.5.2024&quot;</td><td>&quot;10:00&quot;</td><td>&quot;11:50&quot;</td><td>&quot;KCH&quot;</td><td>&quot;Odborná anglič…</td><td>&quot;&#x27;doc. Ing. Jan…</td><td>&quot;1064&quot;</td><td>&quot;Paříková Anna,…</td></tr><tr><td>&quot;KCH&quot;</td><td>&quot;BK213&quot;</td><td>8946</td><td>&quot;Se&quot;</td><td>2023</td><td>&quot;20.4.2024&quot;</td><td>&quot;20.4.2024&quot;</td><td>&quot;13:00&quot;</td><td>&quot;16:50&quot;</td><td>&quot;KCH&quot;</td><td>&quot;Odborná anglič…</td><td>&quot;&#x27;doc. Ing. Jan…</td><td>&quot;1064&quot;</td><td>&quot;Paříková Anna,…</td></tr><tr><td>&quot;KCH&quot;</td><td>&quot;BK213&quot;</td><td>8946</td><td>&quot;Se&quot;</td><td>2023</td><td>&quot;6.4.2024&quot;</td><td>&quot;6.4.2024&quot;</td><td>&quot;13:00&quot;</td><td>&quot;16:50&quot;</td><td>&quot;KCH&quot;</td><td>&quot;Odborná anglič…</td><td>&quot;&#x27;doc. Ing. Jan…</td><td>&quot;1064&quot;</td><td>&quot;Paříková Anna,…</td></tr><tr><td>&quot;KCH&quot;</td><td>&quot;BK214&quot;</td><td>4226</td><td>&quot;Se&quot;</td><td>2023</td><td>&quot;10.5.2024&quot;</td><td>&quot;10.5.2024&quot;</td><td>&quot;09:00&quot;</td><td>&quot;12:50&quot;</td><td>&quot;KCH&quot;</td><td>&quot;Odborný seminá…</td><td>&quot;&#x27;doc. Ing. Jan…</td><td>&quot;1064&quot;</td><td>&quot;Kadlečková Iva…</td></tr></tbody></table></div>"
      ],
      "text/plain": [
       "shape: (6, 14)\n",
       "┌─────────┬─────────┬──────┬────────────┬───┬─────────────┬─────────────┬─────────────┬────────────┐\n",
       "│ katedra ┆ zkratka ┆ idno ┆ typAkceZkr ┆ … ┆ nazev       ┆ seminarici  ┆ seminariciU ┆ jmena      │\n",
       "│ ---     ┆ ---     ┆ ---  ┆ ---        ┆   ┆ ---         ┆ ---         ┆ citIdno     ┆ ---        │\n",
       "│ str     ┆ str     ┆ i64  ┆ str        ┆   ┆ str         ┆ str         ┆ ---         ┆ str        │\n",
       "│         ┆         ┆      ┆            ┆   ┆             ┆             ┆ str         ┆            │\n",
       "╞═════════╪═════════╪══════╪════════════╪═══╪═════════════╪═════════════╪═════════════╪════════════╡\n",
       "│ KI      ┆ 0204    ┆ null ┆ Se         ┆ … ┆ Microsoft   ┆ 'Mgr.       ┆ 835         ┆ null       │\n",
       "│         ┆         ┆      ┆            ┆   ┆ SQL Server  ┆ Květuše     ┆             ┆            │\n",
       "│         ┆         ┆      ┆            ┆   ┆             ┆ Sýkorová'   ┆             ┆            │\n",
       "│ KI      ┆ 0204    ┆ null ┆ Se         ┆ … ┆ Microsoft   ┆ 'Mgr.       ┆ 835         ┆ null       │\n",
       "│         ┆         ┆      ┆            ┆   ┆ SQL Server  ┆ Květuše     ┆             ┆            │\n",
       "│         ┆         ┆      ┆            ┆   ┆             ┆ Sýkorová'   ┆             ┆            │\n",
       "│ KCH     ┆ B213    ┆ 8946 ┆ Se         ┆ … ┆ Odborná     ┆ 'doc. Ing.  ┆ 1064        ┆ Paříková   │\n",
       "│         ┆         ┆      ┆            ┆   ┆ angličtina  ┆ Jan Čermák, ┆             ┆ Anna, Mgr. │\n",
       "│         ┆         ┆      ┆            ┆   ┆             ┆ CSc.'       ┆             ┆            │\n",
       "│ KCH     ┆ BK213   ┆ 8946 ┆ Se         ┆ … ┆ Odborná     ┆ 'doc. Ing.  ┆ 1064        ┆ Paříková   │\n",
       "│         ┆         ┆      ┆            ┆   ┆ angličtina  ┆ Jan Čermák, ┆             ┆ Anna, Mgr. │\n",
       "│         ┆         ┆      ┆            ┆   ┆             ┆ CSc.'       ┆             ┆            │\n",
       "│ KCH     ┆ BK213   ┆ 8946 ┆ Se         ┆ … ┆ Odborná     ┆ 'doc. Ing.  ┆ 1064        ┆ Paříková   │\n",
       "│         ┆         ┆      ┆            ┆   ┆ angličtina  ┆ Jan Čermák, ┆             ┆ Anna, Mgr. │\n",
       "│         ┆         ┆      ┆            ┆   ┆             ┆ CSc.'       ┆             ┆            │\n",
       "│ KCH     ┆ BK214   ┆ 4226 ┆ Se         ┆ … ┆ Odborný     ┆ 'doc. Ing.  ┆ 1064        ┆ Kadlečková │\n",
       "│         ┆         ┆      ┆            ┆   ┆ seminář A   ┆ Jan Čermák, ┆             ┆ Ivana,     │\n",
       "│         ┆         ┆      ┆            ┆   ┆             ┆ CSc.'       ┆             ┆ Ing.       │\n",
       "└─────────┴─────────┴──────┴────────────┴───┴─────────────┴─────────────┴─────────────┴────────────┘"
      ]
     },
     "execution_count": 67,
     "metadata": {},
     "output_type": "execute_result"
    }
   ],
   "source": [
    "male_seminare = maly_rozvrh.filter(pl.col(\"typAkceZkr\") == \"Se\")\n",
    "joined_seminare = male_seminare.join(male_predmety.select(\"zkratka\", \"katedra\", \"nazev\", \"seminarici\", \"seminariciUcitIdno\"), \"zkratka\", \"left\").unique()\n",
    "seminare_bez_seminaricich = joined_seminare.filter(pl.col(\"idno\").is_in(pl.col(\"seminariciUcitIdno\")).not_() & ((pl.col(\"katedra\") == pl.col(\"katedra_right\")) | pl.col(\"katedra_right\").is_null()))\n",
    "\n",
    "seminare_bez_seminaricich = seminare_bez_seminaricich.join(ciselnik_ucitelu, \"idno\", \"left\").with_columns(pl.col(\"seminariciUcitIdno\").cast(pl.List(pl.Utf8)).list.join(\", \")).sort(\"zkratka\")\n",
    "\n",
    "seminare_bez_seminaricich.write_csv(\"results_csv/seminare_bez_seminaricich.csv\")\n",
    "seminare_bez_seminaricich.write_excel(\"results_xlsx/seminare_bez_seminaricich.xlsx\")\n",
    "\n",
    "bez_problemu = bez_problemu.join(seminare_bez_seminaricich.with_columns(pl.concat_str([pl.col(\"zkratka\"), pl.col(\"katedra\")], separator=\"/\").alias(\"identifier\")),\"identifier\" ,\"anti\")\n",
    "print(seminare_bez_seminaricich.__len__())\n",
    "seminare_bez_seminaricich.head(6)"
   ]
  },
  {
   "cell_type": "code",
   "execution_count": null,
   "metadata": {},
   "outputs": [
    {
     "data": {
      "text/html": [
       "<div><style>\n",
       ".dataframe > thead > tr,\n",
       ".dataframe > tbody > tr {\n",
       "  text-align: right;\n",
       "  white-space: pre-wrap;\n",
       "}\n",
       "</style>\n",
       "<small>shape: (1, 66)</small><table border=\"1\" class=\"dataframe\"><thead><tr><th>katedra</th><th>zkratka</th><th>rok</th><th>nazev</th><th>nazevDlouhy</th><th>vyukaZS</th><th>vyukaLS</th><th>kreditu</th><th>viceZapis</th><th>minObsazeni</th><th>garanti</th><th>garantiSPodily</th><th>garantiUcitIdno</th><th>prednasejici</th><th>prednasejiciSPodily</th><th>prednasejiciUcitIdno</th><th>cvicici</th><th>cviciciSPodily</th><th>cviciciUcitIdno</th><th>seminarici</th><th>seminariciSPodily</th><th>seminariciUcitIdno</th><th>schvalujiciUznani</th><th>schvalujiciUznaniUcitIdno</th><th>examinatori</th><th>examinatoriUcitIdno</th><th>podminujiciPredmety</th><th>vylucujiciPredmety</th><th>podminujePredmety</th><th>literatura</th><th>nahrazPredmety</th><th>metodyVyucovaci</th><th>metodyHodnotici</th><th>akreditovan</th><th>jednotekPrednasek</th><th>jednotkaPrednasky</th><th>jednotekCviceni</th><th>jednotkaCviceni</th><th>jednotekSeminare</th><th>jednotkaSeminare</th><th>anotace</th><th>typZkousky</th><th>maZapocetPredZk</th><th>formaZkousky</th><th>pozadavky</th><th>prehledLatky</th><th>predpoklady</th><th>ziskaneZpusobilosti</th><th>casovaNarocnost</th><th>predmetUrl</th><th>vyucovaciJazyky</th><th>poznamka</th><th>ectsZobrazit</th><th>ectsAkreditace</th><th>ectsNabizetUPrijezdu</th><th>poznamkaVerejna</th><th>skupinaAkreditace</th><th>skupinaAkreditaceKey</th><th>zarazenDoPrezencnihoStudia</th><th>zarazenDoKombinovanehoStudia</th><th>studijniOpory</th><th>praxePocetDnu</th><th>urovenNastavena</th><th>urovenVypoctena</th><th>automatickyUznavatZppZk</th><th>hodZaSemKombForma</th></tr><tr><td>str</td><td>str</td><td>i64</td><td>str</td><td>str</td><td>str</td><td>str</td><td>i64</td><td>str</td><td>str</td><td>str</td><td>str</td><td>list[i64]</td><td>str</td><td>str</td><td>list[i64]</td><td>str</td><td>str</td><td>list[i64]</td><td>str</td><td>str</td><td>list[i64]</td><td>str</td><td>str</td><td>str</td><td>str</td><td>str</td><td>str</td><td>str</td><td>str</td><td>str</td><td>str</td><td>str</td><td>str</td><td>i64</td><td>str</td><td>i64</td><td>str</td><td>i64</td><td>str</td><td>str</td><td>str</td><td>str</td><td>str</td><td>str</td><td>str</td><td>str</td><td>str</td><td>str</td><td>str</td><td>str</td><td>str</td><td>str</td><td>str</td><td>str</td><td>str</td><td>str</td><td>str</td><td>str</td><td>str</td><td>str</td><td>i64</td><td>str</td><td>str</td><td>str</td><td>list[i64]</td></tr></thead><tbody><tr><td>&quot;KI&quot;</td><td>&quot;KTZI2&quot;</td><td>2023</td><td>&quot;Teoretické zák…</td><td>&quot;Teoretické zák…</td><td>&quot;N&quot;</td><td>&quot;A&quot;</td><td>3</td><td>&quot;NE&quot;</td><td>&quot;&quot;</td><td>&quot;&#x27;RNDr. Martin …</td><td>&quot;&#x27;RNDr. Martin …</td><td>[264]</td><td>&quot;&#x27;RNDr. Martin …</td><td>&quot;&#x27;RNDr. Martin …</td><td>[264, 267]</td><td>&quot;&#x27;RNDr. Martin …</td><td>&quot;&#x27;RNDr. Martin …</td><td>[264, 267]</td><td>&quot;&quot;</td><td>&quot;&quot;</td><td>null</td><td>&quot;&quot;</td><td>&quot;&quot;</td><td>&quot;&quot;</td><td>&quot;&quot;</td><td>&quot;KI/KTZI1&quot;</td><td>&quot;&quot;</td><td>&quot;&quot;</td><td>&quot;&#x27;Demel, J. Gra…</td><td>&quot;&quot;</td><td>&quot;&quot;</td><td>&quot;&quot;</td><td>&quot;N&quot;</td><td>6</td><td>&quot;HOD/SEM&quot;</td><td>4</td><td>&quot;HOD/SEM&quot;</td><td>2</td><td>&quot;HOD/SEM&quot;</td><td>&quot;Kurz je koncip…</td><td>&quot;Zápočet&quot;</td><td>&quot;NE&quot;</td><td>&quot;Kombinovaná&quot;</td><td>&quot;Požadavky k zá…</td><td>&quot;1. Rekurence a…</td><td>&quot;&quot;</td><td>&quot;&quot;</td><td>&quot;&quot;</td><td>&quot;&quot;</td><td>&quot;Čeština&quot;</td><td>&quot;&quot;</td><td>&quot;A&quot;</td><td>&quot;N&quot;</td><td>&quot;N&quot;</td><td>&quot;&quot;</td><td>&quot;&quot;</td><td>&quot;&quot;</td><td>&quot;N&quot;</td><td>&quot;A&quot;</td><td>&quot;&quot;</td><td>0</td><td>&quot;&quot;</td><td>&quot;Bc.&quot;</td><td>&quot;A&quot;</td><td>[0]</td></tr></tbody></table></div>"
      ],
      "text/plain": [
       "shape: (1, 66)\n",
       "┌─────────┬─────────┬──────┬─────────────┬───┬─────────────┬─────────────┬────────────┬────────────┐\n",
       "│ katedra ┆ zkratka ┆ rok  ┆ nazev       ┆ … ┆ urovenNasta ┆ urovenVypoc ┆ automatick ┆ hodZaSemKo │\n",
       "│ ---     ┆ ---     ┆ ---  ┆ ---         ┆   ┆ vena        ┆ tena        ┆ yUznavatZp ┆ mbForma    │\n",
       "│ str     ┆ str     ┆ i64  ┆ str         ┆   ┆ ---         ┆ ---         ┆ pZk        ┆ ---        │\n",
       "│         ┆         ┆      ┆             ┆   ┆ str         ┆ str         ┆ ---        ┆ list[i64]  │\n",
       "│         ┆         ┆      ┆             ┆   ┆             ┆             ┆ str        ┆            │\n",
       "╞═════════╪═════════╪══════╪═════════════╪═══╪═════════════╪═════════════╪════════════╪════════════╡\n",
       "│ KI      ┆ KTZI2   ┆ 2023 ┆ Teoretické  ┆ … ┆             ┆ Bc.         ┆ A          ┆ [0]        │\n",
       "│         ┆         ┆      ┆ základy     ┆   ┆             ┆             ┆            ┆            │\n",
       "│         ┆         ┆      ┆ informatiky ┆   ┆             ┆             ┆            ┆            │\n",
       "│         ┆         ┆      ┆ I…          ┆   ┆             ┆             ┆            ┆            │\n",
       "└─────────┴─────────┴──────┴─────────────┴───┴─────────────┴─────────────┴────────────┴────────────┘"
      ]
     },
     "execution_count": 68,
     "metadata": {},
     "output_type": "execute_result"
    }
   ],
   "source": [
    "predmety_by_kat.filter(pl.col(\"zkratka\") == \"KTZI2\").head()"
   ]
  },
  {
   "cell_type": "markdown",
   "metadata": {},
   "source": [
    "#### Vypsání ne-problémů"
   ]
  },
  {
   "cell_type": "code",
   "execution_count": null,
   "metadata": {},
   "outputs": [
    {
     "name": "stdout",
     "output_type": "stream",
     "text": [
      "1808\n"
     ]
    },
    {
     "data": {
      "text/html": [
       "<div><style>\n",
       ".dataframe > thead > tr,\n",
       ".dataframe > tbody > tr {\n",
       "  text-align: right;\n",
       "  white-space: pre-wrap;\n",
       "}\n",
       "</style>\n",
       "<small>shape: (5, 4)</small><table border=\"1\" class=\"dataframe\"><thead><tr><th>katedra</th><th>zkratka</th><th>nazev</th><th>identifier</th></tr><tr><td>str</td><td>str</td><td>str</td><td>str</td></tr></thead><tbody><tr><td>&quot;CNB&quot;</td><td>&quot;KDNA&quot;</td><td>&quot;Příprava a fun…</td><td>&quot;KDNA/CNB&quot;</td></tr><tr><td>&quot;KBI&quot;</td><td>&quot;BAK&quot;</td><td>&quot;Bakalářská prá…</td><td>&quot;BAK/KBI&quot;</td></tr><tr><td>&quot;KBI&quot;</td><td>&quot;E111&quot;</td><td>&quot;Molecular Biol…</td><td>&quot;E111/KBI&quot;</td></tr><tr><td>&quot;KBI&quot;</td><td>&quot;E121&quot;</td><td>&quot;Labor. Techniq…</td><td>&quot;E121/KBI&quot;</td></tr><tr><td>&quot;KBI&quot;</td><td>&quot;KN400&quot;</td><td>&quot;Biologie hub&quot;</td><td>&quot;KN400/KBI&quot;</td></tr></tbody></table></div>"
      ],
      "text/plain": [
       "shape: (5, 4)\n",
       "┌─────────┬─────────┬───────────────────────────────────┬────────────┐\n",
       "│ katedra ┆ zkratka ┆ nazev                             ┆ identifier │\n",
       "│ ---     ┆ ---     ┆ ---                               ┆ ---        │\n",
       "│ str     ┆ str     ┆ str                               ┆ str        │\n",
       "╞═════════╪═════════╪═══════════════════════════════════╪════════════╡\n",
       "│ CNB     ┆ KDNA    ┆ Příprava a funkční analýza rekom… ┆ KDNA/CNB   │\n",
       "│ KBI     ┆ BAK     ┆ Bakalářská práce                  ┆ BAK/KBI    │\n",
       "│ KBI     ┆ E111    ┆ Molecular Biology                 ┆ E111/KBI   │\n",
       "│ KBI     ┆ E121    ┆ Labor. Techniq. in Mol. and Cell… ┆ E121/KBI   │\n",
       "│ KBI     ┆ KN400   ┆ Biologie hub                      ┆ KN400/KBI  │\n",
       "└─────────┴─────────┴───────────────────────────────────┴────────────┘"
      ]
     },
     "execution_count": 69,
     "metadata": {},
     "output_type": "execute_result"
    }
   ],
   "source": [
    "# bez_problemu = bez_problemu.drop(\"identifier\")\n",
    "bez_problemu.write_csv(\"results_csv/bez_problemu.csv\")\n",
    "bez_problemu.write_excel(\"results_xlsx/bez_problemu.xlsx\")\n",
    "print(bez_problemu.__len__())\n",
    "bez_problemu.head()"
   ]
  },
  {
   "attachments": {},
   "cell_type": "markdown",
   "metadata": {},
   "source": [
    "### warning, když je mezi vyučujícími někdo bez odpovídajícího typu rozvrhové akce"
   ]
  },
  {
   "attachments": {},
   "cell_type": "markdown",
   "metadata": {},
   "source": [
    "Pro každého učitele vypíšu předměty, u kterých má mít nějakou akci.\n",
    "\n",
    "Takže budu mít dataframe, kde bude učitel, zkratka, a jeden sloupeček za každý typ akce, kde učitel bude muset mít aspoň 1 narozvrhovaný typ akce s daným předmětem, kde je hodnota `True`\n"
   ]
  },
  {
   "cell_type": "code",
   "execution_count": null,
   "metadata": {},
   "outputs": [
    {
     "data": {
      "text/plain": [
       "[shape: (3,)\n",
       " Series: 'typAkceZkr' [str]\n",
       " [\n",
       " \t\"Př\"\n",
       " \t\"Se\"\n",
       " \t\"Cv\"\n",
       " ]]"
      ]
     },
     "execution_count": 70,
     "metadata": {},
     "output_type": "execute_result"
    }
   ],
   "source": [
    "# vypíšu typy akcí\n",
    "list(maly_rozvrh.select(pl.col(\"typAkceZkr\").unique()))"
   ]
  },
  {
   "cell_type": "code",
   "execution_count": null,
   "metadata": {},
   "outputs": [],
   "source": []
  },
  {
   "attachments": {},
   "cell_type": "markdown",
   "metadata": {},
   "source": [
    "### garant předmětu by měl být někde mezi vyučujícími rozvrhových akcí a pokud má předmět přednášku, měl by být i mezi přednášejícími v rámci rozvrhových akcí"
   ]
  },
  {
   "cell_type": "code",
   "execution_count": null,
   "metadata": {},
   "outputs": [],
   "source": []
  },
  {
   "attachments": {},
   "cell_type": "markdown",
   "metadata": {},
   "source": [
    "### Změny proti akreditacím."
   ]
  },
  {
   "cell_type": "code",
   "execution_count": null,
   "metadata": {},
   "outputs": [],
   "source": []
  },
  {
   "attachments": {},
   "cell_type": "markdown",
   "metadata": {},
   "source": [
    "### Porovnat revize předmětů\n",
    "\n",
    "tj. parametry předmětů pro aktuální akademický rok a pro příští."
   ]
  },
  {
   "attachments": {},
   "cell_type": "markdown",
   "metadata": {},
   "source": [
    "> jakou to má mít podobu?"
   ]
  },
  {
   "cell_type": "code",
   "execution_count": null,
   "metadata": {},
   "outputs": [],
   "source": []
  }
 ],
 "metadata": {
  "kernelspec": {
   "display_name": "venv",
   "language": "python",
   "name": "python3"
  },
  "language_info": {
   "codemirror_mode": {
    "name": "ipython",
    "version": 3
   },
   "file_extension": ".py",
   "mimetype": "text/x-python",
   "name": "python",
   "nbconvert_exporter": "python",
   "pygments_lexer": "ipython3",
   "version": "3.12.0"
  },
  "orig_nbformat": 4
 },
 "nbformat": 4,
 "nbformat_minor": 2
}

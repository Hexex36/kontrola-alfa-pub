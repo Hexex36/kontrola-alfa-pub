{
 "cells": [
  {
   "cell_type": "code",
   "execution_count": 2,
   "metadata": {},
   "outputs": [],
   "source": [
    "import polars as pl\n",
    "from pprint import pprint"
   ]
  },
  {
   "cell_type": "code",
   "execution_count": 3,
   "metadata": {},
   "outputs": [],
   "source": [
    "def fix_str_to_int(data:pl.DataFrame, fix_list:list, type:any=pl.Int64):\n",
    "    data = data.with_columns(pl.col(fix_list).str.split(\",\"))\n",
    "    data = data.with_columns(pl.col(fix_list).list.eval(pl.element().str.strip_chars()))\n",
    "    data = data.with_columns(pl.col(fix_list).list.eval(pl.element().cast(pl.Int64, strict=False)))\n",
    "\n",
    "    for column in fix_list:\n",
    "        data = data.with_columns(pl.when(pl.col(column).list.eval(pl.element().is_null()).list.any()).then(None).otherwise(pl.col(column)).alias(\"bools\"))\n",
    "        data = data.select(replace(data, data.get_column_index(column), \"bools\")).rename({\"bools\":column})\n",
    "    \n",
    "    # data = data.with_columns(pl.col(fix_list).str.strip().str.replace(\"\",\"0\")).cast(conversion_dict)\n",
    "\n",
    "    return data\n",
    "\n",
    "\n",
    "# Abych nebyl nařčen z plagiátorství, zdroj: https://stackoverflow.com/questions/75954280/how-to-change-the-position-of-a-single-column-in-python-polars-library\n",
    "def replace(df, new_position, col_name):\n",
    "    neworder=df.columns\n",
    "    neworder.pop(new_position)\n",
    "    neworder.remove(col_name)\n",
    "    neworder.insert(new_position,col_name)\n",
    "    return neworder\n"
   ]
  },
  {
   "cell_type": "code",
   "execution_count": 4,
   "metadata": {},
   "outputs": [
    {
     "data": {
      "text/html": [
       "<div><style>\n",
       ".dataframe > thead > tr,\n",
       ".dataframe > tbody > tr {\n",
       "  text-align: right;\n",
       "  white-space: pre-wrap;\n",
       "}\n",
       "</style>\n",
       "<small>shape: (4, 69)</small><table border=\"1\" class=\"dataframe\"><thead><tr><th>katedra</th><th>zkratka</th><th>rok</th><th>nazev</th><th>nazevDlouhy</th><th>vyukaZS</th><th>vyukaLS</th><th>kreditu</th><th>viceZapis</th><th>minObsazeni</th><th>garanti</th><th>garantiSPodily</th><th>garantiUcitIdno</th><th>prednasejici</th><th>prednasejiciSPodily</th><th>prednasejiciUcitIdno</th><th>cvicici</th><th>cviciciSPodily</th><th>cviciciUcitIdno</th><th>seminarici</th><th>seminariciSPodily</th><th>seminariciUcitIdno</th><th>schvalujiciUznani</th><th>schvalujiciUznaniUcitIdno</th><th>examinatori</th><th>examinatoriUcitIdno</th><th>podminujiciPredmety</th><th>vylucujiciPredmety</th><th>podminujePredmety</th><th>literatura</th><th>nahrazPredmety</th><th>metodyVyucovaci</th><th>metodyHodnotici</th><th>akreditovan</th><th>jednotekPrednasek</th><th>jednotkaPrednasky</th><th>jednotekCviceni</th><th>jednotkaCviceni</th><th>jednotekSeminare</th><th>jednotkaSeminare</th><th>anotace</th><th>typZkousky</th><th>maZapocetPredZk</th><th>formaZkousky</th><th>pozadavky</th><th>prehledLatky</th><th>predpoklady</th><th>ziskaneZpusobilosti</th><th>casovaNarocnost</th><th>predmetUrl</th><th>vyucovaciJazyky</th><th>poznamka</th><th>ectsZobrazit</th><th>ectsAkreditace</th><th>ectsNabizetUPrijezdu</th><th>poznamkaVerejna</th><th>skupinaAkreditace</th><th>skupinaAkreditaceKey</th><th>zarazenDoPrezencnihoStudia</th><th>zarazenDoKombinovanehoStudia</th><th>studijniOpory</th><th>praxePocetDnu</th><th>urovenNastavena</th><th>urovenVypoctena</th><th>automatickyUznavatZppZk</th><th>hodZaSemKombForma</th><th>aMax</th><th>bMax</th><th>cMax</th></tr><tr><td>str</td><td>str</td><td>i64</td><td>str</td><td>str</td><td>str</td><td>str</td><td>i64</td><td>str</td><td>str</td><td>str</td><td>str</td><td>list[i64]</td><td>str</td><td>str</td><td>list[i64]</td><td>str</td><td>str</td><td>list[i64]</td><td>str</td><td>str</td><td>list[i64]</td><td>str</td><td>str</td><td>str</td><td>str</td><td>str</td><td>str</td><td>str</td><td>str</td><td>str</td><td>str</td><td>str</td><td>str</td><td>i64</td><td>str</td><td>i64</td><td>str</td><td>i64</td><td>str</td><td>str</td><td>str</td><td>str</td><td>str</td><td>str</td><td>str</td><td>str</td><td>str</td><td>str</td><td>str</td><td>str</td><td>str</td><td>str</td><td>str</td><td>str</td><td>str</td><td>str</td><td>str</td><td>str</td><td>str</td><td>str</td><td>i64</td><td>str</td><td>str</td><td>str</td><td>list[i64]</td><td>str</td><td>str</td><td>str</td></tr></thead><tbody><tr><td>&quot;KCH&quot;</td><td>&quot;P522&quot;</td><td>2023</td><td>&quot;Odborný seminá…</td><td>&quot;Odborný seminá…</td><td>&quot;A&quot;</td><td>&quot;A&quot;</td><td>1</td><td>&quot;NE&quot;</td><td>&quot;&quot;</td><td>&quot;&#x27;doc. Ing. Jan…</td><td>&quot;&#x27;doc. Ing. Jan…</td><td>[1064]</td><td>&quot;&quot;</td><td>&quot;&quot;</td><td>null</td><td>&quot;&#x27;Ing. Ivana Ka…</td><td>&quot;&#x27;Ing. Ivana Ka…</td><td>[4226, 429]</td><td>&quot;&quot;</td><td>&quot;&quot;</td><td>null</td><td>&quot;&quot;</td><td>&quot;&quot;</td><td>&quot;&quot;</td><td>&quot;&quot;</td><td>&quot;&quot;</td><td>&quot;&quot;</td><td>&quot;&quot;</td><td>&quot;&quot;</td><td>&quot;&quot;</td><td>&quot;&quot;</td><td>&quot;&quot;</td><td>&quot;N&quot;</td><td>0</td><td>&quot;HOD/TYD&quot;</td><td>1</td><td>&quot;HOD/TYD&quot;</td><td>0</td><td>&quot;HOD/TYD&quot;</td><td>&quot;Seminář má umo…</td><td>&quot;Zápočet&quot;</td><td>&quot;NE&quot;</td><td>&quot;Kombinovaná&quot;</td><td>&quot;&quot;</td><td>&quot;&quot;</td><td>&quot;&quot;</td><td>&quot;&quot;</td><td>&quot;&quot;</td><td>&quot;&quot;</td><td>&quot;Čeština&quot;</td><td>&quot;&quot;</td><td>&quot;A&quot;</td><td>&quot;N&quot;</td><td>&quot;N&quot;</td><td>&quot;&quot;</td><td>&quot;&quot;</td><td>&quot;&quot;</td><td>&quot;A&quot;</td><td>&quot;N&quot;</td><td>&quot;&quot;</td><td>0</td><td>&quot;&quot;</td><td>&quot;Bc.&quot;</td><td>&quot;A&quot;</td><td>null</td><td>&quot;&quot;</td><td>&quot;&quot;</td><td>&quot;&quot;</td></tr><tr><td>&quot;KBI&quot;</td><td>&quot;P522&quot;</td><td>2023</td><td>&quot;Fyziologie živ…</td><td>&quot;Fyziologie živ…</td><td>&quot;A&quot;</td><td>&quot;N&quot;</td><td>7</td><td>&quot;NE&quot;</td><td>&quot;&quot;</td><td>&quot;&#x27;Ing. Stanisla…</td><td>&quot;&#x27;Ing. Stanisla…</td><td>[8024]</td><td>&quot;&#x27;Mgr. Marian R…</td><td>&quot;&#x27;Mgr. Marian R…</td><td>[5275, 8024]</td><td>&quot;&#x27;Mgr. Marian R…</td><td>&quot;&#x27;Mgr. Marian R…</td><td>[5275, 8024]</td><td>&quot;&quot;</td><td>&quot;&quot;</td><td>null</td><td>&quot;&quot;</td><td>&quot;&quot;</td><td>&quot;&quot;</td><td>&quot;&quot;</td><td>&quot;&quot;</td><td>&quot;&quot;</td><td>&quot;&quot;</td><td>&quot;&#x27;http://biolog…</td><td>&quot;&quot;</td><td>&quot;Monologická (v…</td><td>&quot;Písemná zkoušk…</td><td>&quot;N&quot;</td><td>2</td><td>&quot;HOD/TYD&quot;</td><td>3</td><td>&quot;HOD/TYD&quot;</td><td>0</td><td>&quot;HOD/TYD&quot;</td><td>&quot;Předmět poskyt…</td><td>&quot;Zkouška&quot;</td><td>&quot;ANO&quot;</td><td>&quot;Kombinovaná&quot;</td><td>&quot;Zápočet: Ne ví…</td><td>&quot;1. Vnitřní pro…</td><td>&quot;Znalost biolog…</td><td>&quot;&quot;</td><td>&quot;&quot;</td><td>&quot;&quot;</td><td>&quot;Čeština, Angli…</td><td>&quot;&quot;</td><td>&quot;A&quot;</td><td>&quot;N&quot;</td><td>&quot;N&quot;</td><td>&quot;&quot;</td><td>&quot;&quot;</td><td>&quot;&quot;</td><td>&quot;A&quot;</td><td>&quot;N&quot;</td><td>&quot;&quot;</td><td>0</td><td>&quot;&quot;</td><td>&quot;Bc.&quot;</td><td>&quot;A&quot;</td><td>null</td><td>&quot;&quot;</td><td>&quot;&quot;</td><td>&quot;&quot;</td></tr><tr><td>&quot;KCH&quot;</td><td>&quot;P522&quot;</td><td>2023</td><td>&quot;Odborný seminá…</td><td>&quot;Odborný seminá…</td><td>&quot;A&quot;</td><td>&quot;A&quot;</td><td>1</td><td>&quot;NE&quot;</td><td>&quot;&quot;</td><td>&quot;&#x27;doc. Ing. Jan…</td><td>&quot;&#x27;doc. Ing. Jan…</td><td>[1064]</td><td>&quot;&quot;</td><td>&quot;&quot;</td><td>null</td><td>&quot;&#x27;Ing. Ivana Ka…</td><td>&quot;&#x27;Ing. Ivana Ka…</td><td>[4226, 429]</td><td>&quot;&quot;</td><td>&quot;&quot;</td><td>null</td><td>&quot;&quot;</td><td>&quot;&quot;</td><td>&quot;&quot;</td><td>&quot;&quot;</td><td>&quot;&quot;</td><td>&quot;&quot;</td><td>&quot;&quot;</td><td>&quot;&quot;</td><td>&quot;&quot;</td><td>&quot;&quot;</td><td>&quot;&quot;</td><td>&quot;N&quot;</td><td>0</td><td>&quot;HOD/TYD&quot;</td><td>1</td><td>&quot;HOD/TYD&quot;</td><td>0</td><td>&quot;HOD/TYD&quot;</td><td>&quot;Seminář má umo…</td><td>&quot;Zápočet&quot;</td><td>&quot;NE&quot;</td><td>&quot;Kombinovaná&quot;</td><td>&quot;&quot;</td><td>&quot;&quot;</td><td>&quot;&quot;</td><td>&quot;&quot;</td><td>&quot;&quot;</td><td>&quot;&quot;</td><td>&quot;Čeština&quot;</td><td>&quot;&quot;</td><td>&quot;A&quot;</td><td>&quot;N&quot;</td><td>&quot;N&quot;</td><td>&quot;&quot;</td><td>&quot;&quot;</td><td>&quot;&quot;</td><td>&quot;A&quot;</td><td>&quot;N&quot;</td><td>&quot;&quot;</td><td>0</td><td>&quot;&quot;</td><td>&quot;Bc.&quot;</td><td>&quot;A&quot;</td><td>null</td><td>&quot;&quot;</td><td>&quot;&quot;</td><td>&quot;&quot;</td></tr><tr><td>&quot;KFY&quot;</td><td>&quot;P522&quot;</td><td>2023</td><td>&quot;Vybrané partie…</td><td>&quot;Vybrané partie…</td><td>&quot;A&quot;</td><td>&quot;A&quot;</td><td>4</td><td>&quot;NE&quot;</td><td>&quot;&quot;</td><td>&quot;&#x27;doc. RNDr. In…</td><td>&quot;&#x27;doc. RNDr. In…</td><td>[606]</td><td>&quot;&#x27;doc. RNDr. In…</td><td>&quot;&#x27;doc. RNDr. In…</td><td>[606]</td><td>&quot;&#x27;doc. RNDr. In…</td><td>&quot;&#x27;doc. RNDr. In…</td><td>[606]</td><td>&quot;&quot;</td><td>&quot;&quot;</td><td>null</td><td>&quot;&quot;</td><td>&quot;&quot;</td><td>&quot;&quot;</td><td>&quot;&quot;</td><td>&quot;&quot;</td><td>&quot;&quot;</td><td>&quot;&quot;</td><td>&quot;&#x27;Feynman R.P.,…</td><td>&quot;&quot;</td><td>&quot;&quot;</td><td>&quot;&quot;</td><td>&quot;A&quot;</td><td>2</td><td>&quot;HOD/TYD&quot;</td><td>1</td><td>&quot;HOD/TYD&quot;</td><td>0</td><td>&quot;HOD/TYD&quot;</td><td>&quot;Kurz je věnová…</td><td>&quot;Zkouška&quot;</td><td>&quot;ANO&quot;</td><td>&quot;Kombinovaná&quot;</td><td>&quot;&quot;</td><td>&quot;1.\tTermodynami…</td><td>&quot;Výuka v anglič…</td><td>&quot;&quot;</td><td>&quot;&quot;</td><td>&quot;&quot;</td><td>&quot;Čeština&quot;</td><td>&quot;&quot;</td><td>&quot;A&quot;</td><td>&quot;N&quot;</td><td>&quot;N&quot;</td><td>&quot;&quot;</td><td>&quot;&quot;</td><td>&quot;&quot;</td><td>&quot;N&quot;</td><td>&quot;N&quot;</td><td>&quot;&quot;</td><td>0</td><td>&quot;&quot;</td><td>&quot;Mgr.&quot;</td><td>&quot;A&quot;</td><td>null</td><td>&quot;&quot;</td><td>&quot;&quot;</td><td>&quot;&quot;</td></tr></tbody></table></div>"
      ],
      "text/plain": [
       "shape: (4, 69)\n",
       "┌─────────┬─────────┬──────┬──────────────────────────┬───┬───────────────────┬──────┬──────┬──────┐\n",
       "│ katedra ┆ zkratka ┆ rok  ┆ nazev                    ┆ … ┆ hodZaSemKombForma ┆ aMax ┆ bMax ┆ cMax │\n",
       "│ ---     ┆ ---     ┆ ---  ┆ ---                      ┆   ┆ ---               ┆ ---  ┆ ---  ┆ ---  │\n",
       "│ str     ┆ str     ┆ i64  ┆ str                      ┆   ┆ list[i64]         ┆ str  ┆ str  ┆ str  │\n",
       "╞═════════╪═════════╪══════╪══════════════════════════╪═══╪═══════════════════╪══════╪══════╪══════╡\n",
       "│ KCH     ┆ P522    ┆ 2023 ┆ Odborný seminář B        ┆ … ┆ null              ┆      ┆      ┆      │\n",
       "│ KBI     ┆ P522    ┆ 2023 ┆ Fyziologie živočichů a   ┆ … ┆ null              ┆      ┆      ┆      │\n",
       "│         ┆         ┆      ┆ člověka                  ┆   ┆                   ┆      ┆      ┆      │\n",
       "│ KCH     ┆ P522    ┆ 2023 ┆ Odborný seminář B        ┆ … ┆ null              ┆      ┆      ┆      │\n",
       "│ KFY     ┆ P522    ┆ 2023 ┆ Vybrané partie z         ┆ … ┆ null              ┆      ┆      ┆      │\n",
       "│         ┆         ┆      ┆ teoretické fyzi…         ┆   ┆                   ┆      ┆      ┆      │\n",
       "└─────────┴─────────┴──────┴──────────────────────────┴───┴───────────────────┴──────┴──────┴──────┘"
      ]
     },
     "execution_count": 4,
     "metadata": {},
     "output_type": "execute_result"
    }
   ],
   "source": [
    "rozvrh_by_kat = pl.read_csv(\"source_tables/rozvrhy_fakulta.csv\").drop(\"semestr\").unique().rename({\"predmet\" : \"zkratka\"})\n",
    "rozvrh_by_kat = fix_str_to_int(rozvrh_by_kat, [\"ucitIdno.ucitel\", \"vsichniUciteleUcitIdno\"])\n",
    "#print(rozvrh_by_kat.head())\n",
    "predmety_by_kat = pl.read_csv(\"source_tables/predmety_fakulta.csv\").drop(\"semestr\").unique().drop([\"pocetStudentu\", \"aSkut\", \"bSkut\", \"cSkut\"])\n",
    "predmety_by_kat = fix_str_to_int(predmety_by_kat, [\"garantiUcitIdno\", \"prednasejiciUcitIdno\", \"cviciciUcitIdno\", \"seminariciUcitIdno\", \"hodZaSemKombForma\"])\n",
    "predmety_by_kat.filter(pl.col(\"zkratka\") == \"P522\").head()\n",
    "#predmety_by_kat = pl.read_excel(\"source_tables/getPredmetyByKatedraFullInfo-2023-03-15-17-40.xlsx\", sheet_id=1, engine=\"openpyxl\").drop(\"semestr\").unique().drop([\"pocetStudentu\", \"aSkut\", \"bSkut\", \"cSkut\"])"
   ]
  },
  {
   "cell_type": "code",
   "execution_count": 5,
   "metadata": {},
   "outputs": [],
   "source": [
    "# qr = ~pl.all().is_duplicated()\n",
    "# rozvrh_by_kat = rozvrh_by_kat.filter(qr)\n",
    "# predmety_by_kat = predmety_by_kat.filter(qr)\n"
   ]
  },
  {
   "cell_type": "code",
   "execution_count": 41,
   "metadata": {},
   "outputs": [
    {
     "data": {
      "text/html": [
       "<div><style>\n",
       ".dataframe > thead > tr,\n",
       ".dataframe > tbody > tr {\n",
       "  text-align: right;\n",
       "  white-space: pre-wrap;\n",
       "}\n",
       "</style>\n",
       "<small>shape: (2, 69)</small><table border=\"1\" class=\"dataframe\"><thead><tr><th>katedra</th><th>zkratka</th><th>rok</th><th>nazev</th><th>nazevDlouhy</th><th>vyukaZS</th><th>vyukaLS</th><th>kreditu</th><th>viceZapis</th><th>minObsazeni</th><th>garanti</th><th>garantiSPodily</th><th>garantiUcitIdno</th><th>prednasejici</th><th>prednasejiciSPodily</th><th>prednasejiciUcitIdno</th><th>cvicici</th><th>cviciciSPodily</th><th>cviciciUcitIdno</th><th>seminarici</th><th>seminariciSPodily</th><th>seminariciUcitIdno</th><th>schvalujiciUznani</th><th>schvalujiciUznaniUcitIdno</th><th>examinatori</th><th>examinatoriUcitIdno</th><th>podminujiciPredmety</th><th>vylucujiciPredmety</th><th>podminujePredmety</th><th>literatura</th><th>nahrazPredmety</th><th>metodyVyucovaci</th><th>metodyHodnotici</th><th>akreditovan</th><th>jednotekPrednasek</th><th>jednotkaPrednasky</th><th>jednotekCviceni</th><th>jednotkaCviceni</th><th>jednotekSeminare</th><th>jednotkaSeminare</th><th>anotace</th><th>typZkousky</th><th>maZapocetPredZk</th><th>formaZkousky</th><th>pozadavky</th><th>prehledLatky</th><th>predpoklady</th><th>ziskaneZpusobilosti</th><th>casovaNarocnost</th><th>predmetUrl</th><th>vyucovaciJazyky</th><th>poznamka</th><th>ectsZobrazit</th><th>ectsAkreditace</th><th>ectsNabizetUPrijezdu</th><th>poznamkaVerejna</th><th>skupinaAkreditace</th><th>skupinaAkreditaceKey</th><th>zarazenDoPrezencnihoStudia</th><th>zarazenDoKombinovanehoStudia</th><th>studijniOpory</th><th>praxePocetDnu</th><th>urovenNastavena</th><th>urovenVypoctena</th><th>automatickyUznavatZppZk</th><th>hodZaSemKombForma</th><th>aMax</th><th>bMax</th><th>cMax</th></tr><tr><td>str</td><td>str</td><td>i64</td><td>str</td><td>str</td><td>str</td><td>str</td><td>i64</td><td>str</td><td>str</td><td>str</td><td>str</td><td>list[i64]</td><td>str</td><td>str</td><td>list[i64]</td><td>str</td><td>str</td><td>list[i64]</td><td>str</td><td>str</td><td>list[i64]</td><td>str</td><td>str</td><td>str</td><td>str</td><td>str</td><td>str</td><td>str</td><td>str</td><td>str</td><td>str</td><td>str</td><td>str</td><td>i64</td><td>str</td><td>i64</td><td>str</td><td>i64</td><td>str</td><td>str</td><td>str</td><td>str</td><td>str</td><td>str</td><td>str</td><td>str</td><td>str</td><td>str</td><td>str</td><td>str</td><td>str</td><td>str</td><td>str</td><td>str</td><td>str</td><td>str</td><td>str</td><td>str</td><td>str</td><td>str</td><td>i64</td><td>str</td><td>str</td><td>str</td><td>list[i64]</td><td>str</td><td>str</td><td>str</td></tr></thead><tbody><tr><td>&quot;KCH&quot;</td><td>&quot;B317&quot;</td><td>2023</td><td>&quot;Membránové sep…</td><td>&quot;Membránové sep…</td><td>&quot;A&quot;</td><td>&quot;A&quot;</td><td>3</td><td>&quot;NE&quot;</td><td>&quot;&quot;</td><td>&quot;&#x27;Ing. Zuzana P…</td><td>&quot;&#x27;Ing. Zuzana P…</td><td>[3705]</td><td>&quot;&#x27;Ing. Zuzana P…</td><td>&quot;&#x27;Ing. Zuzana P…</td><td>[3705]</td><td>&quot;&quot;</td><td>&quot;&quot;</td><td>null</td><td>&quot;&quot;</td><td>&quot;&quot;</td><td>null</td><td>&quot;&quot;</td><td>&quot;&quot;</td><td>&quot;&quot;</td><td>&quot;&quot;</td><td>&quot;KCH/B104&quot;</td><td>&quot;&quot;</td><td>&quot;&quot;</td><td>&quot;&quot;</td><td>&quot;&quot;</td><td>&quot;&quot;</td><td>&quot;&quot;</td><td>&quot;N&quot;</td><td>2</td><td>&quot;HOD/TYD&quot;</td><td>0</td><td>&quot;HOD/TYD&quot;</td><td>0</td><td>&quot;HOD/TYD&quot;</td><td>&quot;Předmět poskyt…</td><td>&quot;Zkouška&quot;</td><td>&quot;ANO&quot;</td><td>&quot;Kombinovaná&quot;</td><td>&quot;Prezentace vyb…</td><td>&quot;1. Historie me…</td><td>&quot;&quot;</td><td>&quot;&quot;</td><td>&quot;&quot;</td><td>&quot;&quot;</td><td>&quot;Čeština&quot;</td><td>&quot;&quot;</td><td>&quot;A&quot;</td><td>&quot;N&quot;</td><td>&quot;N&quot;</td><td>&quot;&quot;</td><td>&quot;&quot;</td><td>&quot;&quot;</td><td>&quot;A&quot;</td><td>&quot;N&quot;</td><td>&quot;&quot;</td><td>0</td><td>&quot;&quot;</td><td>&quot;Bc.&quot;</td><td>&quot;A&quot;</td><td>[0]</td><td>&quot;&quot;</td><td>&quot;&quot;</td><td>&quot;&quot;</td></tr><tr><td>&quot;KCH&quot;</td><td>&quot;B317&quot;</td><td>2023</td><td>&quot;Membránové sep…</td><td>&quot;Membránové sep…</td><td>&quot;A&quot;</td><td>&quot;A&quot;</td><td>3</td><td>&quot;NE&quot;</td><td>&quot;&quot;</td><td>&quot;&#x27;Ing. Zuzana P…</td><td>&quot;&#x27;Ing. Zuzana P…</td><td>[3705]</td><td>&quot;&#x27;Ing. Zuzana P…</td><td>&quot;&#x27;Ing. Zuzana P…</td><td>[3705]</td><td>&quot;&quot;</td><td>&quot;&quot;</td><td>null</td><td>&quot;&quot;</td><td>&quot;&quot;</td><td>null</td><td>&quot;&quot;</td><td>&quot;&quot;</td><td>&quot;&quot;</td><td>&quot;&quot;</td><td>&quot;KCH/B104&quot;</td><td>&quot;&quot;</td><td>&quot;&quot;</td><td>&quot;&quot;</td><td>&quot;&quot;</td><td>&quot;&quot;</td><td>&quot;&quot;</td><td>&quot;N&quot;</td><td>2</td><td>&quot;HOD/TYD&quot;</td><td>0</td><td>&quot;HOD/TYD&quot;</td><td>0</td><td>&quot;HOD/TYD&quot;</td><td>&quot;Předmět poskyt…</td><td>&quot;Zkouška&quot;</td><td>&quot;ANO&quot;</td><td>&quot;Kombinovaná&quot;</td><td>&quot;Prezentace vyb…</td><td>&quot;1. Historie me…</td><td>&quot;&quot;</td><td>&quot;&quot;</td><td>&quot;&quot;</td><td>&quot;&quot;</td><td>&quot;Čeština&quot;</td><td>&quot;&quot;</td><td>&quot;A&quot;</td><td>&quot;N&quot;</td><td>&quot;N&quot;</td><td>&quot;&quot;</td><td>&quot;&quot;</td><td>&quot;&quot;</td><td>&quot;A&quot;</td><td>&quot;N&quot;</td><td>&quot;&quot;</td><td>0</td><td>&quot;&quot;</td><td>&quot;Bc.&quot;</td><td>&quot;A&quot;</td><td>[0]</td><td>&quot;&quot;</td><td>&quot;&quot;</td><td>&quot;&quot;</td></tr></tbody></table></div>"
      ],
      "text/plain": [
       "shape: (2, 69)\n",
       "┌─────────┬─────────┬──────┬─────────────────────┬───┬───────────────────┬──────┬──────┬──────┐\n",
       "│ katedra ┆ zkratka ┆ rok  ┆ nazev               ┆ … ┆ hodZaSemKombForma ┆ aMax ┆ bMax ┆ cMax │\n",
       "│ ---     ┆ ---     ┆ ---  ┆ ---                 ┆   ┆ ---               ┆ ---  ┆ ---  ┆ ---  │\n",
       "│ str     ┆ str     ┆ i64  ┆ str                 ┆   ┆ list[i64]         ┆ str  ┆ str  ┆ str  │\n",
       "╞═════════╪═════════╪══════╪═════════════════════╪═══╪═══════════════════╪══════╪══════╪══════╡\n",
       "│ KCH     ┆ B317    ┆ 2023 ┆ Membránové separace ┆ … ┆ [0]               ┆      ┆      ┆      │\n",
       "│ KCH     ┆ B317    ┆ 2023 ┆ Membránové separace ┆ … ┆ [0]               ┆      ┆      ┆      │\n",
       "└─────────┴─────────┴──────┴─────────────────────┴───┴───────────────────┴──────┴──────┴──────┘"
      ]
     },
     "execution_count": 41,
     "metadata": {},
     "output_type": "execute_result"
    }
   ],
   "source": [
    "predmety_by_kat.filter(pl.col(\"zkratka\") == \"B317\").head()"
   ]
  },
  {
   "cell_type": "code",
   "execution_count": 40,
   "metadata": {},
   "outputs": [
    {
     "data": {
      "text/html": [
       "<div><style>\n",
       ".dataframe > thead > tr,\n",
       ".dataframe > tbody > tr {\n",
       "  text-align: right;\n",
       "  white-space: pre-wrap;\n",
       "}\n",
       "</style>\n",
       "<small>shape: (5, 54)</small><table border=\"1\" class=\"dataframe\"><thead><tr><th>roakIdno</th><th>nazev</th><th>katedra</th><th>zkratka</th><th>statut</th><th>ucitIdno</th><th>ucitIdno.ucitel</th><th>jmeno.ucitel</th><th>prijmeni.ucitel</th><th>titulPred.ucitel</th><th>titulZa.ucitel</th><th>platnost.ucitel</th><th>zamestnanec.ucitel</th><th>podilNaVyuce.ucitel</th><th>rok</th><th>budova</th><th>mistnost</th><th>kapacitaMistnosti</th><th>planObsazeni</th><th>obsazeni</th><th>typAkce</th><th>typAkceZkr</th><th>platnost</th><th>den</th><th>denZkr</th><th>vyucJazyk</th><th>hodinaOd</th><th>hodinaDo</th><th>pocetVyucHodin</th><th>hodinaSkutOd</th><th>hodinaSkutDo</th><th>tydenOd</th><th>tydenDo</th><th>tyden</th><th>tydenZkr</th><th>grupIdno</th><th>jeNadrazena</th><th>maNadrazenou</th><th>kontakt</th><th>krouzky</th><th>casovaRada</th><th>datum</th><th>datumOd</th><th>datumDo</th><th>druhAkce</th><th>vsichniUciteleUcitIdno</th><th>vsichniUciteleJmenaTituly</th><th>vsichniUciteleJmenaTitulySPodily</th><th>vsichniUcitelePrijmeni</th><th>referencedIdno</th><th>poznamkaRozvrhare</th><th>nekonaSe</th><th>owner</th><th>zakazaneAkce</th></tr><tr><td>i64</td><td>str</td><td>str</td><td>str</td><td>str</td><td>str</td><td>list[i64]</td><td>str</td><td>str</td><td>str</td><td>str</td><td>str</td><td>str</td><td>str</td><td>i64</td><td>str</td><td>str</td><td>str</td><td>i64</td><td>i64</td><td>str</td><td>str</td><td>str</td><td>str</td><td>str</td><td>str</td><td>str</td><td>str</td><td>i64</td><td>str</td><td>str</td><td>i64</td><td>i64</td><td>str</td><td>str</td><td>str</td><td>str</td><td>str</td><td>str</td><td>str</td><td>str</td><td>str</td><td>str</td><td>str</td><td>str</td><td>list[i64]</td><td>str</td><td>str</td><td>str</td><td>i64</td><td>str</td><td>str</td><td>str</td><td>str</td></tr></thead><tbody><tr><td>491547</td><td>&quot;Membránové sep…</td><td>&quot;KCH&quot;</td><td>&quot;B317&quot;</td><td>&quot;&quot;</td><td>&quot;3705&quot;</td><td>[3705]</td><td>&quot;Zuzana&quot;</td><td>&quot;Petrusová&quot;</td><td>&quot;Ing.&quot;</td><td>&quot;Ph.D.&quot;</td><td>&quot;A&quot;</td><td>&quot;A&quot;</td><td>&quot;100&quot;</td><td>2023</td><td>&quot;CP&quot;</td><td>&quot;3.23&quot;</td><td>&quot;28&quot;</td><td>5</td><td>2</td><td>&quot;Přednáška&quot;</td><td>&quot;Př&quot;</td><td>&quot;A&quot;</td><td>&quot;Pátek&quot;</td><td>&quot;Pá&quot;</td><td>&quot;&quot;</td><td>&quot;6&quot;</td><td>&quot;9&quot;</td><td>4</td><td>&quot;12:00&quot;</td><td>&quot;15:50&quot;</td><td>12</td><td>12</td><td>&quot;Jiný&quot;</td><td>&quot;J&quot;</td><td>&quot;32022&quot;</td><td>&quot;N&quot;</td><td>&quot;N&quot;</td><td>&quot;&quot;</td><td>&quot;&quot;</td><td>&quot;UJEP&quot;</td><td>&quot;&quot;</td><td>&quot;22.3.2024&quot;</td><td>&quot;22.3.2024&quot;</td><td>&quot;R&quot;</td><td>[3705]</td><td>&quot;Ing. Zuzana Pe…</td><td>&quot;&#x27;Ing. Zuzana P…</td><td>&quot;Petrusová&quot;</td><td>491547</td><td>&quot;&quot;</td><td>&quot;&quot;</td><td>&quot;RKADLECKOVA&quot;</td><td>&quot;&quot;</td></tr><tr><td>491550</td><td>&quot;Membránové sep…</td><td>&quot;KCH&quot;</td><td>&quot;B317&quot;</td><td>&quot;&quot;</td><td>&quot;3705&quot;</td><td>[3705]</td><td>&quot;Zuzana&quot;</td><td>&quot;Petrusová&quot;</td><td>&quot;Ing.&quot;</td><td>&quot;Ph.D.&quot;</td><td>&quot;A&quot;</td><td>&quot;A&quot;</td><td>&quot;100&quot;</td><td>2023</td><td>&quot;CP&quot;</td><td>&quot;3.23&quot;</td><td>&quot;28&quot;</td><td>5</td><td>2</td><td>&quot;Přednáška&quot;</td><td>&quot;Př&quot;</td><td>&quot;A&quot;</td><td>&quot;Pátek&quot;</td><td>&quot;Pá&quot;</td><td>&quot;&quot;</td><td>&quot;6&quot;</td><td>&quot;9&quot;</td><td>4</td><td>&quot;12:00&quot;</td><td>&quot;15:50&quot;</td><td>18</td><td>18</td><td>&quot;Jiný&quot;</td><td>&quot;J&quot;</td><td>&quot;32022&quot;</td><td>&quot;N&quot;</td><td>&quot;N&quot;</td><td>&quot;&quot;</td><td>&quot;&quot;</td><td>&quot;UJEP&quot;</td><td>&quot;&quot;</td><td>&quot;3.5.2024&quot;</td><td>&quot;3.5.2024&quot;</td><td>&quot;R&quot;</td><td>[3705]</td><td>&quot;Ing. Zuzana Pe…</td><td>&quot;&#x27;Ing. Zuzana P…</td><td>&quot;Petrusová&quot;</td><td>491550</td><td>&quot;&quot;</td><td>&quot;&quot;</td><td>&quot;RKADLECKOVA&quot;</td><td>&quot;&quot;</td></tr><tr><td>491549</td><td>&quot;Membránové sep…</td><td>&quot;KCH&quot;</td><td>&quot;B317&quot;</td><td>&quot;&quot;</td><td>&quot;3705&quot;</td><td>[3705]</td><td>&quot;Zuzana&quot;</td><td>&quot;Petrusová&quot;</td><td>&quot;Ing.&quot;</td><td>&quot;Ph.D.&quot;</td><td>&quot;A&quot;</td><td>&quot;A&quot;</td><td>&quot;100&quot;</td><td>2023</td><td>&quot;CP&quot;</td><td>&quot;3.23&quot;</td><td>&quot;28&quot;</td><td>5</td><td>2</td><td>&quot;Přednáška&quot;</td><td>&quot;Př&quot;</td><td>&quot;A&quot;</td><td>&quot;Pátek&quot;</td><td>&quot;Pá&quot;</td><td>&quot;&quot;</td><td>&quot;6&quot;</td><td>&quot;9&quot;</td><td>4</td><td>&quot;12:00&quot;</td><td>&quot;15:50&quot;</td><td>17</td><td>17</td><td>&quot;Jiný&quot;</td><td>&quot;J&quot;</td><td>&quot;32022&quot;</td><td>&quot;N&quot;</td><td>&quot;N&quot;</td><td>&quot;&quot;</td><td>&quot;&quot;</td><td>&quot;UJEP&quot;</td><td>&quot;&quot;</td><td>&quot;26.4.2024&quot;</td><td>&quot;26.4.2024&quot;</td><td>&quot;R&quot;</td><td>[3705]</td><td>&quot;Ing. Zuzana Pe…</td><td>&quot;&#x27;Ing. Zuzana P…</td><td>&quot;Petrusová&quot;</td><td>491549</td><td>&quot;&quot;</td><td>&quot;&quot;</td><td>&quot;RKADLECKOVA&quot;</td><td>&quot;&quot;</td></tr><tr><td>491548</td><td>&quot;Membránové sep…</td><td>&quot;KCH&quot;</td><td>&quot;B317&quot;</td><td>&quot;&quot;</td><td>&quot;3705&quot;</td><td>[3705]</td><td>&quot;Zuzana&quot;</td><td>&quot;Petrusová&quot;</td><td>&quot;Ing.&quot;</td><td>&quot;Ph.D.&quot;</td><td>&quot;A&quot;</td><td>&quot;A&quot;</td><td>&quot;100&quot;</td><td>2023</td><td>&quot;CP&quot;</td><td>&quot;3.23&quot;</td><td>&quot;28&quot;</td><td>5</td><td>2</td><td>&quot;Přednáška&quot;</td><td>&quot;Př&quot;</td><td>&quot;A&quot;</td><td>&quot;Pátek&quot;</td><td>&quot;Pá&quot;</td><td>&quot;&quot;</td><td>&quot;6&quot;</td><td>&quot;9&quot;</td><td>4</td><td>&quot;12:00&quot;</td><td>&quot;15:50&quot;</td><td>16</td><td>16</td><td>&quot;Jiný&quot;</td><td>&quot;J&quot;</td><td>&quot;32022&quot;</td><td>&quot;N&quot;</td><td>&quot;N&quot;</td><td>&quot;&quot;</td><td>&quot;&quot;</td><td>&quot;UJEP&quot;</td><td>&quot;&quot;</td><td>&quot;19.4.2024&quot;</td><td>&quot;19.4.2024&quot;</td><td>&quot;R&quot;</td><td>[3705]</td><td>&quot;Ing. Zuzana Pe…</td><td>&quot;&#x27;Ing. Zuzana P…</td><td>&quot;Petrusová&quot;</td><td>491548</td><td>&quot;&quot;</td><td>&quot;&quot;</td><td>&quot;RKADLECKOVA&quot;</td><td>&quot;&quot;</td></tr><tr><td>491546</td><td>&quot;Membránové sep…</td><td>&quot;KCH&quot;</td><td>&quot;B317&quot;</td><td>&quot;&quot;</td><td>&quot;3705&quot;</td><td>[3705]</td><td>&quot;Zuzana&quot;</td><td>&quot;Petrusová&quot;</td><td>&quot;Ing.&quot;</td><td>&quot;Ph.D.&quot;</td><td>&quot;A&quot;</td><td>&quot;A&quot;</td><td>&quot;100&quot;</td><td>2023</td><td>&quot;CP&quot;</td><td>&quot;3.23&quot;</td><td>&quot;28&quot;</td><td>5</td><td>2</td><td>&quot;Přednáška&quot;</td><td>&quot;Př&quot;</td><td>&quot;A&quot;</td><td>&quot;Pátek&quot;</td><td>&quot;Pá&quot;</td><td>&quot;&quot;</td><td>&quot;6&quot;</td><td>&quot;9&quot;</td><td>4</td><td>&quot;12:00&quot;</td><td>&quot;15:50&quot;</td><td>10</td><td>10</td><td>&quot;Jiný&quot;</td><td>&quot;J&quot;</td><td>&quot;32022&quot;</td><td>&quot;N&quot;</td><td>&quot;N&quot;</td><td>&quot;&quot;</td><td>&quot;&quot;</td><td>&quot;UJEP&quot;</td><td>&quot;&quot;</td><td>&quot;8.3.2024&quot;</td><td>&quot;8.3.2024&quot;</td><td>&quot;R&quot;</td><td>[3705]</td><td>&quot;Ing. Zuzana Pe…</td><td>&quot;&#x27;Ing. Zuzana P…</td><td>&quot;Petrusová&quot;</td><td>491546</td><td>&quot;&quot;</td><td>&quot;&quot;</td><td>&quot;RKADLECKOVA&quot;</td><td>&quot;&quot;</td></tr></tbody></table></div>"
      ],
      "text/plain": [
       "shape: (5, 54)\n",
       "┌──────────┬─────────────┬─────────┬─────────┬───┬────────────┬──────────┬────────────┬────────────┐\n",
       "│ roakIdno ┆ nazev       ┆ katedra ┆ zkratka ┆ … ┆ poznamkaRo ┆ nekonaSe ┆ owner      ┆ zakazaneAk │\n",
       "│ ---      ┆ ---         ┆ ---     ┆ ---     ┆   ┆ zvrhare    ┆ ---      ┆ ---        ┆ ce         │\n",
       "│ i64      ┆ str         ┆ str     ┆ str     ┆   ┆ ---        ┆ str      ┆ str        ┆ ---        │\n",
       "│          ┆             ┆         ┆         ┆   ┆ str        ┆          ┆            ┆ str        │\n",
       "╞══════════╪═════════════╪═════════╪═════════╪═══╪════════════╪══════════╪════════════╪════════════╡\n",
       "│ 491547   ┆ Membránové  ┆ KCH     ┆ B317    ┆ … ┆            ┆          ┆ RKADLECKOV ┆            │\n",
       "│          ┆ separace    ┆         ┆         ┆   ┆            ┆          ┆ A          ┆            │\n",
       "│ 491550   ┆ Membránové  ┆ KCH     ┆ B317    ┆ … ┆            ┆          ┆ RKADLECKOV ┆            │\n",
       "│          ┆ separace    ┆         ┆         ┆   ┆            ┆          ┆ A          ┆            │\n",
       "│ 491549   ┆ Membránové  ┆ KCH     ┆ B317    ┆ … ┆            ┆          ┆ RKADLECKOV ┆            │\n",
       "│          ┆ separace    ┆         ┆         ┆   ┆            ┆          ┆ A          ┆            │\n",
       "│ 491548   ┆ Membránové  ┆ KCH     ┆ B317    ┆ … ┆            ┆          ┆ RKADLECKOV ┆            │\n",
       "│          ┆ separace    ┆         ┆         ┆   ┆            ┆          ┆ A          ┆            │\n",
       "│ 491546   ┆ Membránové  ┆ KCH     ┆ B317    ┆ … ┆            ┆          ┆ RKADLECKOV ┆            │\n",
       "│          ┆ separace    ┆         ┆         ┆   ┆            ┆          ┆ A          ┆            │\n",
       "└──────────┴─────────────┴─────────┴─────────┴───┴────────────┴──────────┴────────────┴────────────┘"
      ]
     },
     "execution_count": 40,
     "metadata": {},
     "output_type": "execute_result"
    }
   ],
   "source": [
    "rozvrh_by_kat.head(5)\n",
    "#rozvrh_by_kat.__len__()"
   ]
  },
  {
   "cell_type": "code",
   "execution_count": 8,
   "metadata": {},
   "outputs": [
    {
     "data": {
      "text/plain": [
       "{'katedra', 'nazev', 'rok', 'zkratka'}"
      ]
     },
     "execution_count": 8,
     "metadata": {},
     "output_type": "execute_result"
    }
   ],
   "source": [
    "set(rozvrh_by_kat.columns) & set(predmety_by_kat.columns)"
   ]
  },
  {
   "cell_type": "code",
   "execution_count": 9,
   "metadata": {},
   "outputs": [
    {
     "data": {
      "text/html": [
       "<div><style>\n",
       ".dataframe > thead > tr,\n",
       ".dataframe > tbody > tr {\n",
       "  text-align: right;\n",
       "  white-space: pre-wrap;\n",
       "}\n",
       "</style>\n",
       "<small>shape: (1, 54)</small><table border=\"1\" class=\"dataframe\"><thead><tr><th>roakIdno</th><th>nazev</th><th>katedra</th><th>zkratka</th><th>statut</th><th>ucitIdno</th><th>ucitIdno.ucitel</th><th>jmeno.ucitel</th><th>prijmeni.ucitel</th><th>titulPred.ucitel</th><th>titulZa.ucitel</th><th>platnost.ucitel</th><th>zamestnanec.ucitel</th><th>podilNaVyuce.ucitel</th><th>rok</th><th>budova</th><th>mistnost</th><th>kapacitaMistnosti</th><th>planObsazeni</th><th>obsazeni</th><th>typAkce</th><th>typAkceZkr</th><th>platnost</th><th>den</th><th>denZkr</th><th>vyucJazyk</th><th>hodinaOd</th><th>hodinaDo</th><th>pocetVyucHodin</th><th>hodinaSkutOd</th><th>hodinaSkutDo</th><th>tydenOd</th><th>tydenDo</th><th>tyden</th><th>tydenZkr</th><th>grupIdno</th><th>jeNadrazena</th><th>maNadrazenou</th><th>kontakt</th><th>krouzky</th><th>casovaRada</th><th>datum</th><th>datumOd</th><th>datumDo</th><th>druhAkce</th><th>vsichniUciteleUcitIdno</th><th>vsichniUciteleJmenaTituly</th><th>vsichniUciteleJmenaTitulySPodily</th><th>vsichniUcitelePrijmeni</th><th>referencedIdno</th><th>poznamkaRozvrhare</th><th>nekonaSe</th><th>owner</th><th>zakazaneAkce</th></tr><tr><td>u32</td><td>u32</td><td>u32</td><td>u32</td><td>u32</td><td>u32</td><td>u32</td><td>u32</td><td>u32</td><td>u32</td><td>u32</td><td>u32</td><td>u32</td><td>u32</td><td>u32</td><td>u32</td><td>u32</td><td>u32</td><td>u32</td><td>u32</td><td>u32</td><td>u32</td><td>u32</td><td>u32</td><td>u32</td><td>u32</td><td>u32</td><td>u32</td><td>u32</td><td>u32</td><td>u32</td><td>u32</td><td>u32</td><td>u32</td><td>u32</td><td>u32</td><td>u32</td><td>u32</td><td>u32</td><td>u32</td><td>u32</td><td>u32</td><td>u32</td><td>u32</td><td>u32</td><td>u32</td><td>u32</td><td>u32</td><td>u32</td><td>u32</td><td>u32</td><td>u32</td><td>u32</td><td>u32</td></tr></thead><tbody><tr><td>0</td><td>0</td><td>0</td><td>0</td><td>0</td><td>164</td><td>238</td><td>0</td><td>0</td><td>0</td><td>0</td><td>0</td><td>0</td><td>164</td><td>0</td><td>0</td><td>66</td><td>160</td><td>0</td><td>0</td><td>0</td><td>0</td><td>0</td><td>0</td><td>0</td><td>0</td><td>474</td><td>474</td><td>171</td><td>0</td><td>0</td><td>0</td><td>0</td><td>0</td><td>0</td><td>0</td><td>0</td><td>0</td><td>0</td><td>0</td><td>0</td><td>0</td><td>0</td><td>0</td><td>0</td><td>238</td><td>0</td><td>0</td><td>0</td><td>0</td><td>0</td><td>0</td><td>0</td><td>0</td></tr></tbody></table></div>"
      ],
      "text/plain": [
       "shape: (1, 54)\n",
       "┌──────────┬───────┬─────────┬─────────┬───┬───────────────────┬──────────┬───────┬──────────────┐\n",
       "│ roakIdno ┆ nazev ┆ katedra ┆ zkratka ┆ … ┆ poznamkaRozvrhare ┆ nekonaSe ┆ owner ┆ zakazaneAkce │\n",
       "│ ---      ┆ ---   ┆ ---     ┆ ---     ┆   ┆ ---               ┆ ---      ┆ ---   ┆ ---          │\n",
       "│ u32      ┆ u32   ┆ u32     ┆ u32     ┆   ┆ u32               ┆ u32      ┆ u32   ┆ u32          │\n",
       "╞══════════╪═══════╪═════════╪═════════╪═══╪═══════════════════╪══════════╪═══════╪══════════════╡\n",
       "│ 0        ┆ 0     ┆ 0       ┆ 0       ┆ … ┆ 0                 ┆ 0        ┆ 0     ┆ 0            │\n",
       "└──────────┴───────┴─────────┴─────────┴───┴───────────────────┴──────────┴───────┴──────────────┘"
      ]
     },
     "execution_count": 9,
     "metadata": {},
     "output_type": "execute_result"
    }
   ],
   "source": [
    "rozvrh_by_kat.null_count()"
   ]
  },
  {
   "cell_type": "code",
   "execution_count": 10,
   "metadata": {},
   "outputs": [
    {
     "data": {
      "text/html": [
       "<div><style>\n",
       ".dataframe > thead > tr,\n",
       ".dataframe > tbody > tr {\n",
       "  text-align: right;\n",
       "  white-space: pre-wrap;\n",
       "}\n",
       "</style>\n",
       "<small>shape: (1, 69)</small><table border=\"1\" class=\"dataframe\"><thead><tr><th>katedra</th><th>zkratka</th><th>rok</th><th>nazev</th><th>nazevDlouhy</th><th>vyukaZS</th><th>vyukaLS</th><th>kreditu</th><th>viceZapis</th><th>minObsazeni</th><th>garanti</th><th>garantiSPodily</th><th>garantiUcitIdno</th><th>prednasejici</th><th>prednasejiciSPodily</th><th>prednasejiciUcitIdno</th><th>cvicici</th><th>cviciciSPodily</th><th>cviciciUcitIdno</th><th>seminarici</th><th>seminariciSPodily</th><th>seminariciUcitIdno</th><th>schvalujiciUznani</th><th>schvalujiciUznaniUcitIdno</th><th>examinatori</th><th>examinatoriUcitIdno</th><th>podminujiciPredmety</th><th>vylucujiciPredmety</th><th>podminujePredmety</th><th>literatura</th><th>nahrazPredmety</th><th>metodyVyucovaci</th><th>metodyHodnotici</th><th>akreditovan</th><th>jednotekPrednasek</th><th>jednotkaPrednasky</th><th>jednotekCviceni</th><th>jednotkaCviceni</th><th>jednotekSeminare</th><th>jednotkaSeminare</th><th>anotace</th><th>typZkousky</th><th>maZapocetPredZk</th><th>formaZkousky</th><th>pozadavky</th><th>prehledLatky</th><th>predpoklady</th><th>ziskaneZpusobilosti</th><th>casovaNarocnost</th><th>predmetUrl</th><th>vyucovaciJazyky</th><th>poznamka</th><th>ectsZobrazit</th><th>ectsAkreditace</th><th>ectsNabizetUPrijezdu</th><th>poznamkaVerejna</th><th>skupinaAkreditace</th><th>skupinaAkreditaceKey</th><th>zarazenDoPrezencnihoStudia</th><th>zarazenDoKombinovanehoStudia</th><th>studijniOpory</th><th>praxePocetDnu</th><th>urovenNastavena</th><th>urovenVypoctena</th><th>automatickyUznavatZppZk</th><th>hodZaSemKombForma</th><th>aMax</th><th>bMax</th><th>cMax</th></tr><tr><td>u32</td><td>u32</td><td>u32</td><td>u32</td><td>u32</td><td>u32</td><td>u32</td><td>u32</td><td>u32</td><td>u32</td><td>u32</td><td>u32</td><td>u32</td><td>u32</td><td>u32</td><td>u32</td><td>u32</td><td>u32</td><td>u32</td><td>u32</td><td>u32</td><td>u32</td><td>u32</td><td>u32</td><td>u32</td><td>u32</td><td>u32</td><td>u32</td><td>u32</td><td>u32</td><td>u32</td><td>u32</td><td>u32</td><td>u32</td><td>u32</td><td>u32</td><td>u32</td><td>u32</td><td>u32</td><td>u32</td><td>u32</td><td>u32</td><td>u32</td><td>u32</td><td>u32</td><td>u32</td><td>u32</td><td>u32</td><td>u32</td><td>u32</td><td>u32</td><td>u32</td><td>u32</td><td>u32</td><td>u32</td><td>u32</td><td>u32</td><td>u32</td><td>u32</td><td>u32</td><td>u32</td><td>u32</td><td>u32</td><td>u32</td><td>u32</td><td>u32</td><td>u32</td><td>u32</td><td>u32</td></tr></thead><tbody><tr><td>0</td><td>0</td><td>0</td><td>0</td><td>0</td><td>0</td><td>0</td><td>0</td><td>0</td><td>0</td><td>0</td><td>0</td><td>391</td><td>0</td><td>0</td><td>1700</td><td>0</td><td>0</td><td>1306</td><td>0</td><td>0</td><td>2798</td><td>0</td><td>0</td><td>0</td><td>0</td><td>0</td><td>0</td><td>0</td><td>0</td><td>0</td><td>0</td><td>0</td><td>0</td><td>0</td><td>0</td><td>0</td><td>0</td><td>0</td><td>0</td><td>0</td><td>0</td><td>0</td><td>0</td><td>0</td><td>0</td><td>0</td><td>0</td><td>0</td><td>0</td><td>0</td><td>0</td><td>0</td><td>0</td><td>0</td><td>0</td><td>0</td><td>0</td><td>0</td><td>0</td><td>0</td><td>0</td><td>0</td><td>0</td><td>0</td><td>1931</td><td>0</td><td>0</td><td>0</td></tr></tbody></table></div>"
      ],
      "text/plain": [
       "shape: (1, 69)\n",
       "┌─────────┬─────────┬─────┬───────┬───┬───────────────────┬──────┬──────┬──────┐\n",
       "│ katedra ┆ zkratka ┆ rok ┆ nazev ┆ … ┆ hodZaSemKombForma ┆ aMax ┆ bMax ┆ cMax │\n",
       "│ ---     ┆ ---     ┆ --- ┆ ---   ┆   ┆ ---               ┆ ---  ┆ ---  ┆ ---  │\n",
       "│ u32     ┆ u32     ┆ u32 ┆ u32   ┆   ┆ u32               ┆ u32  ┆ u32  ┆ u32  │\n",
       "╞═════════╪═════════╪═════╪═══════╪═══╪═══════════════════╪══════╪══════╪══════╡\n",
       "│ 0       ┆ 0       ┆ 0   ┆ 0     ┆ … ┆ 1931              ┆ 0    ┆ 0    ┆ 0    │\n",
       "└─────────┴─────────┴─────┴───────┴───┴───────────────────┴──────┴──────┴──────┘"
      ]
     },
     "execution_count": 10,
     "metadata": {},
     "output_type": "execute_result"
    }
   ],
   "source": [
    "predmety_by_kat.null_count()"
   ]
  },
  {
   "cell_type": "code",
   "execution_count": 11,
   "metadata": {},
   "outputs": [],
   "source": [
    "# vybírám pouze předměty, které mají rozvrhovou akci"
   ]
  },
  {
   "cell_type": "code",
   "execution_count": 12,
   "metadata": {},
   "outputs": [
    {
     "data": {
      "text/html": [
       "<div><style>\n",
       ".dataframe > thead > tr,\n",
       ".dataframe > tbody > tr {\n",
       "  text-align: right;\n",
       "  white-space: pre-wrap;\n",
       "}\n",
       "</style>\n",
       "<small>shape: (3, 69)</small><table border=\"1\" class=\"dataframe\"><thead><tr><th>katedra</th><th>zkratka</th><th>rok</th><th>nazev</th><th>nazevDlouhy</th><th>vyukaZS</th><th>vyukaLS</th><th>kreditu</th><th>viceZapis</th><th>minObsazeni</th><th>garanti</th><th>garantiSPodily</th><th>garantiUcitIdno</th><th>prednasejici</th><th>prednasejiciSPodily</th><th>prednasejiciUcitIdno</th><th>cvicici</th><th>cviciciSPodily</th><th>cviciciUcitIdno</th><th>seminarici</th><th>seminariciSPodily</th><th>seminariciUcitIdno</th><th>schvalujiciUznani</th><th>schvalujiciUznaniUcitIdno</th><th>examinatori</th><th>examinatoriUcitIdno</th><th>podminujiciPredmety</th><th>vylucujiciPredmety</th><th>podminujePredmety</th><th>literatura</th><th>nahrazPredmety</th><th>metodyVyucovaci</th><th>metodyHodnotici</th><th>akreditovan</th><th>jednotekPrednasek</th><th>jednotkaPrednasky</th><th>jednotekCviceni</th><th>jednotkaCviceni</th><th>jednotekSeminare</th><th>jednotkaSeminare</th><th>anotace</th><th>typZkousky</th><th>maZapocetPredZk</th><th>formaZkousky</th><th>pozadavky</th><th>prehledLatky</th><th>predpoklady</th><th>ziskaneZpusobilosti</th><th>casovaNarocnost</th><th>predmetUrl</th><th>vyucovaciJazyky</th><th>poznamka</th><th>ectsZobrazit</th><th>ectsAkreditace</th><th>ectsNabizetUPrijezdu</th><th>poznamkaVerejna</th><th>skupinaAkreditace</th><th>skupinaAkreditaceKey</th><th>zarazenDoPrezencnihoStudia</th><th>zarazenDoKombinovanehoStudia</th><th>studijniOpory</th><th>praxePocetDnu</th><th>urovenNastavena</th><th>urovenVypoctena</th><th>automatickyUznavatZppZk</th><th>hodZaSemKombForma</th><th>aMax</th><th>bMax</th><th>cMax</th></tr><tr><td>str</td><td>str</td><td>i64</td><td>str</td><td>str</td><td>str</td><td>str</td><td>i64</td><td>str</td><td>str</td><td>str</td><td>str</td><td>list[i64]</td><td>str</td><td>str</td><td>list[i64]</td><td>str</td><td>str</td><td>list[i64]</td><td>str</td><td>str</td><td>list[i64]</td><td>str</td><td>str</td><td>str</td><td>str</td><td>str</td><td>str</td><td>str</td><td>str</td><td>str</td><td>str</td><td>str</td><td>str</td><td>i64</td><td>str</td><td>i64</td><td>str</td><td>i64</td><td>str</td><td>str</td><td>str</td><td>str</td><td>str</td><td>str</td><td>str</td><td>str</td><td>str</td><td>str</td><td>str</td><td>str</td><td>str</td><td>str</td><td>str</td><td>str</td><td>str</td><td>str</td><td>str</td><td>str</td><td>str</td><td>str</td><td>i64</td><td>str</td><td>str</td><td>str</td><td>list[i64]</td><td>str</td><td>str</td><td>str</td></tr></thead><tbody><tr><td>&quot;KBI&quot;</td><td>&quot;P522&quot;</td><td>2023</td><td>&quot;Fyziologie živ…</td><td>&quot;Fyziologie živ…</td><td>&quot;A&quot;</td><td>&quot;N&quot;</td><td>7</td><td>&quot;NE&quot;</td><td>&quot;&quot;</td><td>&quot;&#x27;Ing. Stanisla…</td><td>&quot;&#x27;Ing. Stanisla…</td><td>[8024]</td><td>&quot;&#x27;Mgr. Marian R…</td><td>&quot;&#x27;Mgr. Marian R…</td><td>[5275, 8024]</td><td>&quot;&#x27;Mgr. Marian R…</td><td>&quot;&#x27;Mgr. Marian R…</td><td>[5275, 8024]</td><td>&quot;&quot;</td><td>&quot;&quot;</td><td>null</td><td>&quot;&quot;</td><td>&quot;&quot;</td><td>&quot;&quot;</td><td>&quot;&quot;</td><td>&quot;&quot;</td><td>&quot;&quot;</td><td>&quot;&quot;</td><td>&quot;&#x27;http://biolog…</td><td>&quot;&quot;</td><td>&quot;Monologická (v…</td><td>&quot;Písemná zkoušk…</td><td>&quot;N&quot;</td><td>2</td><td>&quot;HOD/TYD&quot;</td><td>3</td><td>&quot;HOD/TYD&quot;</td><td>0</td><td>&quot;HOD/TYD&quot;</td><td>&quot;Předmět poskyt…</td><td>&quot;Zkouška&quot;</td><td>&quot;ANO&quot;</td><td>&quot;Kombinovaná&quot;</td><td>&quot;Zápočet: Ne ví…</td><td>&quot;1. Vnitřní pro…</td><td>&quot;Znalost biolog…</td><td>&quot;&quot;</td><td>&quot;&quot;</td><td>&quot;&quot;</td><td>&quot;Čeština, Angli…</td><td>&quot;&quot;</td><td>&quot;A&quot;</td><td>&quot;N&quot;</td><td>&quot;N&quot;</td><td>&quot;&quot;</td><td>&quot;&quot;</td><td>&quot;&quot;</td><td>&quot;A&quot;</td><td>&quot;N&quot;</td><td>&quot;&quot;</td><td>0</td><td>&quot;&quot;</td><td>&quot;Bc.&quot;</td><td>&quot;A&quot;</td><td>null</td><td>&quot;&quot;</td><td>&quot;&quot;</td><td>&quot;&quot;</td></tr><tr><td>&quot;KFY&quot;</td><td>&quot;P522&quot;</td><td>2023</td><td>&quot;Vybrané partie…</td><td>&quot;Vybrané partie…</td><td>&quot;A&quot;</td><td>&quot;A&quot;</td><td>4</td><td>&quot;NE&quot;</td><td>&quot;&quot;</td><td>&quot;&#x27;doc. RNDr. In…</td><td>&quot;&#x27;doc. RNDr. In…</td><td>[606]</td><td>&quot;&#x27;doc. RNDr. In…</td><td>&quot;&#x27;doc. RNDr. In…</td><td>[606]</td><td>&quot;&#x27;doc. RNDr. In…</td><td>&quot;&#x27;doc. RNDr. In…</td><td>[606]</td><td>&quot;&quot;</td><td>&quot;&quot;</td><td>null</td><td>&quot;&quot;</td><td>&quot;&quot;</td><td>&quot;&quot;</td><td>&quot;&quot;</td><td>&quot;&quot;</td><td>&quot;&quot;</td><td>&quot;&quot;</td><td>&quot;&#x27;Feynman R.P.,…</td><td>&quot;&quot;</td><td>&quot;&quot;</td><td>&quot;&quot;</td><td>&quot;A&quot;</td><td>2</td><td>&quot;HOD/TYD&quot;</td><td>1</td><td>&quot;HOD/TYD&quot;</td><td>0</td><td>&quot;HOD/TYD&quot;</td><td>&quot;Kurz je věnová…</td><td>&quot;Zkouška&quot;</td><td>&quot;ANO&quot;</td><td>&quot;Kombinovaná&quot;</td><td>&quot;&quot;</td><td>&quot;1.\tTermodynami…</td><td>&quot;Výuka v anglič…</td><td>&quot;&quot;</td><td>&quot;&quot;</td><td>&quot;&quot;</td><td>&quot;Čeština&quot;</td><td>&quot;&quot;</td><td>&quot;A&quot;</td><td>&quot;N&quot;</td><td>&quot;N&quot;</td><td>&quot;&quot;</td><td>&quot;&quot;</td><td>&quot;&quot;</td><td>&quot;N&quot;</td><td>&quot;N&quot;</td><td>&quot;&quot;</td><td>0</td><td>&quot;&quot;</td><td>&quot;Mgr.&quot;</td><td>&quot;A&quot;</td><td>null</td><td>&quot;&quot;</td><td>&quot;&quot;</td><td>&quot;&quot;</td></tr><tr><td>&quot;KCH&quot;</td><td>&quot;P522&quot;</td><td>2023</td><td>&quot;Odborný seminá…</td><td>&quot;Odborný seminá…</td><td>&quot;A&quot;</td><td>&quot;A&quot;</td><td>1</td><td>&quot;NE&quot;</td><td>&quot;&quot;</td><td>&quot;&#x27;doc. Ing. Jan…</td><td>&quot;&#x27;doc. Ing. Jan…</td><td>[1064]</td><td>&quot;&quot;</td><td>&quot;&quot;</td><td>null</td><td>&quot;&#x27;Ing. Ivana Ka…</td><td>&quot;&#x27;Ing. Ivana Ka…</td><td>[4226, 429]</td><td>&quot;&quot;</td><td>&quot;&quot;</td><td>null</td><td>&quot;&quot;</td><td>&quot;&quot;</td><td>&quot;&quot;</td><td>&quot;&quot;</td><td>&quot;&quot;</td><td>&quot;&quot;</td><td>&quot;&quot;</td><td>&quot;&quot;</td><td>&quot;&quot;</td><td>&quot;&quot;</td><td>&quot;&quot;</td><td>&quot;N&quot;</td><td>0</td><td>&quot;HOD/TYD&quot;</td><td>1</td><td>&quot;HOD/TYD&quot;</td><td>0</td><td>&quot;HOD/TYD&quot;</td><td>&quot;Seminář má umo…</td><td>&quot;Zápočet&quot;</td><td>&quot;NE&quot;</td><td>&quot;Kombinovaná&quot;</td><td>&quot;&quot;</td><td>&quot;&quot;</td><td>&quot;&quot;</td><td>&quot;&quot;</td><td>&quot;&quot;</td><td>&quot;&quot;</td><td>&quot;Čeština&quot;</td><td>&quot;&quot;</td><td>&quot;A&quot;</td><td>&quot;N&quot;</td><td>&quot;N&quot;</td><td>&quot;&quot;</td><td>&quot;&quot;</td><td>&quot;&quot;</td><td>&quot;A&quot;</td><td>&quot;N&quot;</td><td>&quot;&quot;</td><td>0</td><td>&quot;&quot;</td><td>&quot;Bc.&quot;</td><td>&quot;A&quot;</td><td>null</td><td>&quot;&quot;</td><td>&quot;&quot;</td><td>&quot;&quot;</td></tr></tbody></table></div>"
      ],
      "text/plain": [
       "shape: (3, 69)\n",
       "┌─────────┬─────────┬──────┬──────────────────────────┬───┬───────────────────┬──────┬──────┬──────┐\n",
       "│ katedra ┆ zkratka ┆ rok  ┆ nazev                    ┆ … ┆ hodZaSemKombForma ┆ aMax ┆ bMax ┆ cMax │\n",
       "│ ---     ┆ ---     ┆ ---  ┆ ---                      ┆   ┆ ---               ┆ ---  ┆ ---  ┆ ---  │\n",
       "│ str     ┆ str     ┆ i64  ┆ str                      ┆   ┆ list[i64]         ┆ str  ┆ str  ┆ str  │\n",
       "╞═════════╪═════════╪══════╪══════════════════════════╪═══╪═══════════════════╪══════╪══════╪══════╡\n",
       "│ KBI     ┆ P522    ┆ 2023 ┆ Fyziologie živočichů a   ┆ … ┆ null              ┆      ┆      ┆      │\n",
       "│         ┆         ┆      ┆ člověka                  ┆   ┆                   ┆      ┆      ┆      │\n",
       "│ KFY     ┆ P522    ┆ 2023 ┆ Vybrané partie z         ┆ … ┆ null              ┆      ┆      ┆      │\n",
       "│         ┆         ┆      ┆ teoretické fyzi…         ┆   ┆                   ┆      ┆      ┆      │\n",
       "│ KCH     ┆ P522    ┆ 2023 ┆ Odborný seminář B        ┆ … ┆ null              ┆      ┆      ┆      │\n",
       "└─────────┴─────────┴──────┴──────────────────────────┴───┴───────────────────┴──────┴──────┴──────┘"
      ]
     },
     "execution_count": 12,
     "metadata": {},
     "output_type": "execute_result"
    }
   ],
   "source": [
    "predmety_s_akci = predmety_by_kat.join(other=rozvrh_by_kat, on=\"zkratka\", how=\"inner\").select(predmety_by_kat.columns).unique().sort(\"zkratka\")\n",
    "str(len(predmety_s_akci)) + \"   \" + str(len(predmety_by_kat)) \n",
    "predmety_s_akci.filter(pl.col(\"zkratka\") == \"P522\").head()"
   ]
  },
  {
   "attachments": {},
   "cell_type": "markdown",
   "metadata": {},
   "source": [
    "# Vyučující a garanti"
   ]
  },
  {
   "cell_type": "code",
   "execution_count": 13,
   "metadata": {},
   "outputs": [],
   "source": [
    "jednotek_prednasek = pl.col(\"jednotekPrednasek\")\n",
    "jednotek_cviceni = pl.col(\"jednotekCviceni\")\n",
    "jednotek_seminare = pl.col(\"jednotekSeminare\")\n",
    "garant = pl.col(\"garanti\")\n",
    "cvicici = pl.col(\"cvicici\")\n",
    "prednasejici = pl.col(\"prednasejici\")\n",
    "seminarici = pl.col(\"seminarici\")"
   ]
  },
  {
   "attachments": {},
   "cell_type": "markdown",
   "metadata": {},
   "source": [
    "### Každý předmět má právě jednoho garanta\n",
    "\n",
    "> Zde jsou předměty, které nemají garanta:"
   ]
  },
  {
   "cell_type": "code",
   "execution_count": 14,
   "metadata": {},
   "outputs": [
    {
     "name": "stdout",
     "output_type": "stream",
     "text": [
      "\n",
      "163 Předmětů nemá zadaného garanta\n"
     ]
    },
    {
     "data": {
      "text/html": [
       "<div><style>\n",
       ".dataframe > thead > tr,\n",
       ".dataframe > tbody > tr {\n",
       "  text-align: right;\n",
       "  white-space: pre-wrap;\n",
       "}\n",
       "</style>\n",
       "<small>shape: (163, 6)</small><table border=\"1\" class=\"dataframe\"><thead><tr><th>zkratka</th><th>rok</th><th>nazev</th><th>nazevDlouhy</th><th>garanti</th><th>garantiSPodily</th></tr><tr><td>str</td><td>i64</td><td>str</td><td>str</td><td>str</td><td>str</td></tr></thead><tbody><tr><td>&quot;0099&quot;</td><td>2023</td><td>&quot;VK - Geodetick…</td><td>&quot;Geodetické met…</td><td>&quot;&quot;</td><td>&quot;&quot;</td></tr><tr><td>&quot;0121&quot;</td><td>2023</td><td>&quot;VK-Propagace a…</td><td>&quot;Propagace a pr…</td><td>&quot;&quot;</td><td>&quot;&quot;</td></tr><tr><td>&quot;0165&quot;</td><td>2023</td><td>&quot;Hodnotová orie…</td><td>&quot;Hodnotová orie…</td><td>&quot;&quot;</td><td>&quot;&quot;</td></tr><tr><td>&quot;0199&quot;</td><td>2023</td><td>&quot;VK - Aplikace …</td><td>&quot;Aplikace ATMEL…</td><td>&quot;&quot;</td><td>&quot;&quot;</td></tr><tr><td>&quot;0201&quot;</td><td>2023</td><td>&quot;VK-Praktikum m…</td><td>&quot;VK-Praktikum m…</td><td>&quot;&quot;</td><td>&quot;&quot;</td></tr><tr><td>&hellip;</td><td>&hellip;</td><td>&hellip;</td><td>&hellip;</td><td>&hellip;</td><td>&hellip;</td></tr><tr><td>&quot;SZZSŠ&quot;</td><td>2023</td><td>&quot;Učitelství inf…</td><td>&quot;Učitelství inf…</td><td>&quot;&quot;</td><td>&quot;&quot;</td></tr><tr><td>&quot;SZZSŠ&quot;</td><td>2023</td><td>&quot;Učitelství mat…</td><td>&quot;Učitelství mat…</td><td>&quot;&quot;</td><td>&quot;&quot;</td></tr><tr><td>&quot;SZZTD&quot;</td><td>2023</td><td>&quot;Teoretické zák…</td><td>&quot;Teoretické zák…</td><td>&quot;&quot;</td><td>&quot;&quot;</td></tr><tr><td>&quot;SZZTP&quot;</td><td>2023</td><td>&quot;Teoretické zák…</td><td>&quot;Teoretické zák…</td><td>&quot;&quot;</td><td>&quot;&quot;</td></tr><tr><td>&quot;SZZVP&quot;</td><td>2023</td><td>&quot;Aplikovaná inf…</td><td>&quot;Aplikovaná inf…</td><td>&quot;&quot;</td><td>&quot;&quot;</td></tr></tbody></table></div>"
      ],
      "text/plain": [
       "shape: (163, 6)\n",
       "┌─────────┬──────┬───────────────────────────┬──────────────────────────┬─────────┬────────────────┐\n",
       "│ zkratka ┆ rok  ┆ nazev                     ┆ nazevDlouhy              ┆ garanti ┆ garantiSPodily │\n",
       "│ ---     ┆ ---  ┆ ---                       ┆ ---                      ┆ ---     ┆ ---            │\n",
       "│ str     ┆ i64  ┆ str                       ┆ str                      ┆ str     ┆ str            │\n",
       "╞═════════╪══════╪═══════════════════════════╪══════════════════════════╪═════════╪════════════════╡\n",
       "│ 0099    ┆ 2023 ┆ VK - Geodetické metody v  ┆ Geodetické metody v      ┆         ┆                │\n",
       "│         ┆      ┆ geograf…                  ┆ geografii                ┆         ┆                │\n",
       "│ 0121    ┆ 2023 ┆ VK-Propagace a prezentace ┆ Propagace a prezentace v ┆         ┆                │\n",
       "│         ┆      ┆ v geog…                   ┆ geograf…                 ┆         ┆                │\n",
       "│ 0165    ┆ 2023 ┆ Hodnotová orientace v     ┆ Hodnotová orientace v    ┆         ┆                │\n",
       "│         ┆      ┆ rozvoji mí…               ┆ rozvoji mí…              ┆         ┆                │\n",
       "│ 0199    ┆ 2023 ┆ VK - Aplikace ATMEL A     ┆ Aplikace ATMEL A         ┆         ┆                │\n",
       "│ 0201    ┆ 2023 ┆ VK-Praktikum mikrovlnné   ┆ VK-Praktikum mikrovlnné  ┆         ┆                │\n",
       "│         ┆      ┆ techniky…                 ┆ techniky…                ┆         ┆                │\n",
       "│ …       ┆ …    ┆ …                         ┆ …                        ┆ …       ┆ …              │\n",
       "│ SZZSŠ   ┆ 2023 ┆ Učitelství informatiky    ┆ Učitelství informatiky   ┆         ┆                │\n",
       "│         ┆      ┆ pro střed…                ┆ pro střed…               ┆         ┆                │\n",
       "│ SZZSŠ   ┆ 2023 ┆ Učitelství matematiky pro ┆ Učitelství matematiky    ┆         ┆                │\n",
       "│         ┆      ┆ středn…                   ┆ pro středn…              ┆         ┆                │\n",
       "│ SZZTD   ┆ 2023 ┆ Teoretické základy        ┆ Teoretické základy       ┆         ┆                │\n",
       "│         ┆      ┆ datového inže…            ┆ datového inže…           ┆         ┆                │\n",
       "│ SZZTP   ┆ 2023 ┆ Teoretické základy        ┆ Teoretické základy       ┆         ┆                │\n",
       "│         ┆      ┆ informatiky               ┆ informatiky              ┆         ┆                │\n",
       "│ SZZVP   ┆ 2023 ┆ Aplikovaná informatika:   ┆ Aplikovaná informatika:  ┆         ┆                │\n",
       "│         ┆      ┆ voliteln…                 ┆ voliteln…                ┆         ┆                │\n",
       "└─────────┴──────┴───────────────────────────┴──────────────────────────┴─────────┴────────────────┘"
      ]
     },
     "execution_count": 14,
     "metadata": {},
     "output_type": "execute_result"
    }
   ],
   "source": [
    "zkratky = predmety_s_akci.filter(pl.col(\"garantiUcitIdno\").is_null()).select([\"zkratka\", \"rok\", \"nazev\", \"nazevDlouhy\", \"garanti\", \"garantiSPodily\"]).filter(\n",
    "    # Není SZ\n",
    "    # pl.col(\"zkratka\").str.starts_with(\"SZ\").is_not()\n",
    "    True\n",
    ")\n",
    "print(f\"\\n{len(zkratky)} Předmětů nemá zadaného garanta\")\n",
    "zkratky.write_excel(\"results/bez_garanta.xlsx\")\n",
    "zkratky\n",
    "# print(list(zkratky), sep=\", \")"
   ]
  },
  {
   "attachments": {},
   "cell_type": "markdown",
   "metadata": {},
   "source": [
    "> Předměty podezřelé z více garantů:"
   ]
  },
  {
   "cell_type": "code",
   "execution_count": 15,
   "metadata": {},
   "outputs": [
    {
     "data": {
      "text/html": [
       "<div><style>\n",
       ".dataframe > thead > tr,\n",
       ".dataframe > tbody > tr {\n",
       "  text-align: right;\n",
       "  white-space: pre-wrap;\n",
       "}\n",
       "</style>\n",
       "<small>shape: (10, 4)</small><table border=\"1\" class=\"dataframe\"><thead><tr><th>garantiUcitIdno</th><th>garanti</th><th>zkratka</th><th>pocet garantu</th></tr><tr><td>list[i64]</td><td>str</td><td>str</td><td>u32</td></tr></thead><tbody><tr><td>[315, 3164]</td><td>&quot;&#x27;RNDr. Ivan Fa…</td><td>&quot;0023&quot;</td><td>2</td></tr><tr><td>[315, 3164]</td><td>&quot;&#x27;RNDr. Ivan Fa…</td><td>&quot;0065&quot;</td><td>2</td></tr><tr><td>[1803, 305]</td><td>&quot;&#x27;doc. Ing. Jar…</td><td>&quot;B201&quot;</td><td>2</td></tr><tr><td>[3452, 3528]</td><td>&quot;&#x27;doc. PhDr. RN…</td><td>&quot;B600&quot;</td><td>2</td></tr><tr><td>[8441, 283]</td><td>&quot;&#x27;doc. PhDr. Ka…</td><td>&quot;BK107&quot;</td><td>2</td></tr><tr><td>[1999, 8280]</td><td>&quot;&#x27;RNDr. Blanka …</td><td>&quot;BK108&quot;</td><td>2</td></tr><tr><td>[4380, 5754]</td><td>&quot;&#x27;Mgr. Jaroslav…</td><td>&quot;K100&quot;</td><td>2</td></tr><tr><td>[304, 612]</td><td>&quot;&#x27;doc. RNDr. Ma…</td><td>&quot;K206&quot;</td><td>2</td></tr><tr><td>[3661, 283]</td><td>&quot;&#x27;prof. doc. RN…</td><td>&quot;K301&quot;</td><td>2</td></tr><tr><td>[263, 1537]</td><td>&quot;&#x27;Mgr. Pavla Ho…</td><td>&quot;K304&quot;</td><td>2</td></tr></tbody></table></div>"
      ],
      "text/plain": [
       "shape: (10, 4)\n",
       "┌─────────────────┬───────────────────────────────────┬─────────┬───────────────┐\n",
       "│ garantiUcitIdno ┆ garanti                           ┆ zkratka ┆ pocet garantu │\n",
       "│ ---             ┆ ---                               ┆ ---     ┆ ---           │\n",
       "│ list[i64]       ┆ str                               ┆ str     ┆ u32           │\n",
       "╞═════════════════╪═══════════════════════════════════╪═════════╪═══════════════╡\n",
       "│ [315, 3164]     ┆ 'RNDr. Ivan Farský, CSc.', 'Mgr.… ┆ 0023    ┆ 2             │\n",
       "│ [315, 3164]     ┆ 'RNDr. Ivan Farský, CSc.', 'Mgr.… ┆ 0065    ┆ 2             │\n",
       "│ [1803, 305]     ┆ 'doc. Ing. Jaromír Havlica, Ph.D… ┆ B201    ┆ 2             │\n",
       "│ [3452, 3528]    ┆ 'doc. PhDr. RNDr. Jan Daniel Blá… ┆ B600    ┆ 2             │\n",
       "│ [8441, 283]     ┆ 'doc. PhDr. Kateřina Jančaříková… ┆ BK107   ┆ 2             │\n",
       "│ [1999, 8280]    ┆ 'RNDr. Blanka Desortová, CSc.', … ┆ BK108   ┆ 2             │\n",
       "│ [4380, 5754]    ┆ 'Mgr. Jaroslava Jelínková, Ph.D.… ┆ K100    ┆ 2             │\n",
       "│ [304, 612]      ┆ 'doc. RNDr. Marek Malý, Ph.D.', … ┆ K206    ┆ 2             │\n",
       "│ [3661, 283]     ┆ 'prof. doc. RNDr. Milan Gryndler… ┆ K301    ┆ 2             │\n",
       "│ [263, 1537]     ┆ 'Mgr. Pavla Hofmanová', 'prof. R… ┆ K304    ┆ 2             │\n",
       "└─────────────────┴───────────────────────────────────┴─────────┴───────────────┘"
      ]
     },
     "execution_count": 15,
     "metadata": {},
     "output_type": "execute_result"
    }
   ],
   "source": [
    "# predmety_s_akci.filter( > pl.lit())\n",
    "# Nefunguje, arr.lengths údajně nic není\n",
    "vice_garantu = predmety_s_akci.with_columns(pl.col(\"garantiUcitIdno\").list.len().alias(\"pocet garantu\")\n",
    "    ).select(\n",
    "        [\"garantiUcitIdno\", \"garanti\", \"zkratka\", \"pocet garantu\"]\n",
    "    ).filter(pl.col(\"pocet garantu\") > 1)\n",
    "vice_garantu.write_excel(\"results/vice_garantu.xlsx\")\n",
    "vice_garantu.head(10)"
   ]
  },
  {
   "cell_type": "code",
   "execution_count": null,
   "metadata": {},
   "outputs": [],
   "source": []
  },
  {
   "attachments": {},
   "cell_type": "markdown",
   "metadata": {},
   "source": [
    "### Každý předmět má alespoň jednoho vyučujícího v kategoriích dle parametrů předmětu\n",
    "\n",
    "např. pokud má předmět rozsah 2 h přednášek a 2 h cvičení, pak musí mít alespoň jednoho přednášejícího a alespoň jednoho cvičícího a zároveň nesmí mít vyučujícího v kategorii vede seminář."
   ]
  },
  {
   "cell_type": "code",
   "execution_count": 16,
   "metadata": {},
   "outputs": [
    {
     "data": {
      "text/html": [
       "<div><style>\n",
       ".dataframe > thead > tr,\n",
       ".dataframe > tbody > tr {\n",
       "  text-align: right;\n",
       "  white-space: pre-wrap;\n",
       "}\n",
       "</style>\n",
       "<small>shape: (5, 69)</small><table border=\"1\" class=\"dataframe\"><thead><tr><th>katedra</th><th>zkratka</th><th>rok</th><th>nazev</th><th>nazevDlouhy</th><th>vyukaZS</th><th>vyukaLS</th><th>kreditu</th><th>viceZapis</th><th>minObsazeni</th><th>garanti</th><th>garantiSPodily</th><th>garantiUcitIdno</th><th>prednasejici</th><th>prednasejiciSPodily</th><th>prednasejiciUcitIdno</th><th>cvicici</th><th>cviciciSPodily</th><th>cviciciUcitIdno</th><th>seminarici</th><th>seminariciSPodily</th><th>seminariciUcitIdno</th><th>schvalujiciUznani</th><th>schvalujiciUznaniUcitIdno</th><th>examinatori</th><th>examinatoriUcitIdno</th><th>podminujiciPredmety</th><th>vylucujiciPredmety</th><th>podminujePredmety</th><th>literatura</th><th>nahrazPredmety</th><th>metodyVyucovaci</th><th>metodyHodnotici</th><th>akreditovan</th><th>jednotekPrednasek</th><th>jednotkaPrednasky</th><th>jednotekCviceni</th><th>jednotkaCviceni</th><th>jednotekSeminare</th><th>jednotkaSeminare</th><th>anotace</th><th>typZkousky</th><th>maZapocetPredZk</th><th>formaZkousky</th><th>pozadavky</th><th>prehledLatky</th><th>predpoklady</th><th>ziskaneZpusobilosti</th><th>casovaNarocnost</th><th>predmetUrl</th><th>vyucovaciJazyky</th><th>poznamka</th><th>ectsZobrazit</th><th>ectsAkreditace</th><th>ectsNabizetUPrijezdu</th><th>poznamkaVerejna</th><th>skupinaAkreditace</th><th>skupinaAkreditaceKey</th><th>zarazenDoPrezencnihoStudia</th><th>zarazenDoKombinovanehoStudia</th><th>studijniOpory</th><th>praxePocetDnu</th><th>urovenNastavena</th><th>urovenVypoctena</th><th>automatickyUznavatZppZk</th><th>hodZaSemKombForma</th><th>aMax</th><th>bMax</th><th>cMax</th></tr><tr><td>str</td><td>str</td><td>i64</td><td>str</td><td>str</td><td>str</td><td>str</td><td>i64</td><td>str</td><td>str</td><td>str</td><td>str</td><td>list[i64]</td><td>str</td><td>str</td><td>list[i64]</td><td>str</td><td>str</td><td>list[i64]</td><td>str</td><td>str</td><td>list[i64]</td><td>str</td><td>str</td><td>str</td><td>str</td><td>str</td><td>str</td><td>str</td><td>str</td><td>str</td><td>str</td><td>str</td><td>str</td><td>i64</td><td>str</td><td>i64</td><td>str</td><td>i64</td><td>str</td><td>str</td><td>str</td><td>str</td><td>str</td><td>str</td><td>str</td><td>str</td><td>str</td><td>str</td><td>str</td><td>str</td><td>str</td><td>str</td><td>str</td><td>str</td><td>str</td><td>str</td><td>str</td><td>str</td><td>str</td><td>str</td><td>i64</td><td>str</td><td>str</td><td>str</td><td>list[i64]</td><td>str</td><td>str</td><td>str</td></tr></thead><tbody><tr><td>&quot;KPRF&quot;</td><td>&quot;0101&quot;</td><td>2023</td><td>&quot;Úvod do meteor…</td><td>&quot;Úvod do meteor…</td><td>&quot;A&quot;</td><td>&quot;N&quot;</td><td>3</td><td>&quot;NE&quot;</td><td>&quot;&quot;</td><td>&quot;&#x27;doc. Mgr. Pav…</td><td>&quot;&#x27;doc. Mgr. Pav…</td><td>[1434]</td><td>&quot;&quot;</td><td>&quot;&quot;</td><td>null</td><td>&quot;&quot;</td><td>&quot;&quot;</td><td>null</td><td>&quot;&quot;</td><td>&quot;&quot;</td><td>null</td><td>&quot;&quot;</td><td>&quot;&quot;</td><td>&quot;&quot;</td><td>&quot;&quot;</td><td>&quot;&quot;</td><td>&quot;&quot;</td><td>&quot;KPRF/0102&quot;</td><td>&quot;&quot;</td><td>&quot;&quot;</td><td>&quot;&quot;</td><td>&quot;&quot;</td><td>&quot;N&quot;</td><td>2</td><td>&quot;HOD/TYD&quot;</td><td>0</td><td>&quot;HOD/TYD&quot;</td><td>0</td><td>&quot;HOD/TYD&quot;</td><td>&quot;Meteorologie j…</td><td>&quot;Zápočet&quot;</td><td>&quot;NE&quot;</td><td>&quot;Kombinovaná&quot;</td><td>&quot;&quot;</td><td>&quot;1.\tHistorie, s…</td><td>&quot;&quot;</td><td>&quot;&quot;</td><td>&quot;&quot;</td><td>&quot;&quot;</td><td>&quot;Čeština&quot;</td><td>&quot;&quot;</td><td>&quot;A&quot;</td><td>&quot;N&quot;</td><td>&quot;N&quot;</td><td>&quot;&quot;</td><td>&quot;&quot;</td><td>&quot;&quot;</td><td>&quot;A&quot;</td><td>&quot;N&quot;</td><td>&quot;&quot;</td><td>0</td><td>&quot;&quot;</td><td>&quot;Bc.&quot;</td><td>&quot;A&quot;</td><td>[0]</td><td>&quot;&quot;</td><td>&quot;&quot;</td><td>&quot;&quot;</td></tr><tr><td>&quot;KGEO&quot;</td><td>&quot;0159&quot;</td><td>2023</td><td>&quot;Smart City&quot;</td><td>&quot;Smart City&quot;</td><td>&quot;A&quot;</td><td>&quot;A&quot;</td><td>2</td><td>&quot;NE&quot;</td><td>&quot;&quot;</td><td>&quot;&#x27;Mgr. Vladan H…</td><td>&quot;&#x27;Mgr. Vladan H…</td><td>[4222]</td><td>&quot;&quot;</td><td>&quot;&quot;</td><td>null</td><td>&quot;&#x27;Mgr. Vladan H…</td><td>&quot;&#x27;Mgr. Vladan H…</td><td>[4222, 7684]</td><td>&quot;&quot;</td><td>&quot;&quot;</td><td>null</td><td>&quot;&quot;</td><td>&quot;&quot;</td><td>&quot;&quot;</td><td>&quot;&quot;</td><td>&quot;&quot;</td><td>&quot;&quot;</td><td>&quot;&quot;</td><td>&quot;&#x27;Vanolo, A. (2…</td><td>&quot;&quot;</td><td>&quot;&quot;</td><td>&quot;&quot;</td><td>&quot;A&quot;</td><td>1</td><td>&quot;HOD/TYD&quot;</td><td>1</td><td>&quot;HOD/TYD&quot;</td><td>0</td><td>&quot;HOD/TYD&quot;</td><td>&quot;Smart city/reg…</td><td>&quot;Zápočet&quot;</td><td>&quot;NE&quot;</td><td>&quot;Kombinovaná&quot;</td><td>&quot;prezence na cv…</td><td>&quot;1. Konceptuali…</td><td>&quot;&quot;</td><td>&quot;&quot;</td><td>&quot;&quot;</td><td>&quot;&quot;</td><td>&quot;Čeština&quot;</td><td>&quot;&quot;</td><td>&quot;A&quot;</td><td>&quot;N&quot;</td><td>&quot;N&quot;</td><td>&quot;&quot;</td><td>&quot;&quot;</td><td>&quot;&quot;</td><td>&quot;A&quot;</td><td>&quot;N&quot;</td><td>&quot;&quot;</td><td>0</td><td>&quot;&quot;</td><td>&quot;Bc.&quot;</td><td>&quot;A&quot;</td><td>[0]</td><td>&quot;&quot;</td><td>&quot;&quot;</td><td>&quot;&quot;</td></tr><tr><td>&quot;KGEO&quot;</td><td>&quot;B210&quot;</td><td>2023</td><td>&quot;Euroregiony a …</td><td>&quot;Euroregiony a …</td><td>&quot;N&quot;</td><td>&quot;A&quot;</td><td>4</td><td>&quot;NE&quot;</td><td>&quot;&quot;</td><td>&quot;&quot;</td><td>&quot;&quot;</td><td>null</td><td>&quot;&quot;</td><td>&quot;&quot;</td><td>null</td><td>&quot;&quot;</td><td>&quot;&quot;</td><td>null</td><td>&quot;&quot;</td><td>&quot;&quot;</td><td>null</td><td>&quot;&quot;</td><td>&quot;&quot;</td><td>&quot;&quot;</td><td>&quot;&quot;</td><td>&quot;&quot;</td><td>&quot;&quot;</td><td>&quot;&quot;</td><td>&quot;&#x27;JEŘÁBEK, M., …</td><td>&quot;&quot;</td><td>&quot;&quot;</td><td>&quot;&quot;</td><td>&quot;N&quot;</td><td>2</td><td>&quot;HOD/TYD&quot;</td><td>1</td><td>&quot;HOD/TYD&quot;</td><td>0</td><td>&quot;HOD/TYD&quot;</td><td>&quot;Cílem předmětu…</td><td>&quot;Zkouška&quot;</td><td>&quot;ANO&quot;</td><td>&quot;Kombinovaná&quot;</td><td>&quot;- odevzdání vš…</td><td>&quot;1. Národ, náro…</td><td>&quot;&quot;</td><td>&quot;&quot;</td><td>&quot;&quot;</td><td>&quot;&quot;</td><td>&quot;Čeština&quot;</td><td>&quot;&quot;</td><td>&quot;A&quot;</td><td>&quot;N&quot;</td><td>&quot;N&quot;</td><td>&quot;&quot;</td><td>&quot;&quot;</td><td>&quot;&quot;</td><td>&quot;A&quot;</td><td>&quot;N&quot;</td><td>&quot;&quot;</td><td>0</td><td>&quot;&quot;</td><td>&quot;Bc.&quot;</td><td>&quot;A&quot;</td><td>null</td><td>&quot;12&quot;</td><td>&quot;3&quot;</td><td>&quot;5&quot;</td></tr><tr><td>&quot;KGEO&quot;</td><td>&quot;B414&quot;</td><td>2023</td><td>&quot;Ekonomická geo…</td><td>&quot;Ekonomická geo…</td><td>&quot;N&quot;</td><td>&quot;A&quot;</td><td>4</td><td>&quot;NE&quot;</td><td>&quot;&quot;</td><td>&quot;&#x27;Mgr. Vladan H…</td><td>&quot;&#x27;Mgr. Vladan H…</td><td>[4222]</td><td>&quot;&quot;</td><td>&quot;&quot;</td><td>null</td><td>&quot;&#x27;Mgr. Vladan H…</td><td>&quot;&#x27;Mgr. Vladan H…</td><td>[4222]</td><td>&quot;&quot;</td><td>&quot;&quot;</td><td>null</td><td>&quot;&quot;</td><td>&quot;&quot;</td><td>&quot;&quot;</td><td>&quot;&quot;</td><td>&quot;&quot;</td><td>&quot;&quot;</td><td>&quot;&quot;</td><td>&quot;&#x27;Coe, N., Kell…</td><td>&quot;&quot;</td><td>&quot;&quot;</td><td>&quot;&quot;</td><td>&quot;N&quot;</td><td>2</td><td>&quot;HOD/TYD&quot;</td><td>0</td><td>&quot;HOD/TYD&quot;</td><td>0</td><td>&quot;HOD/TYD&quot;</td><td>&quot;Kurz řeší prob…</td><td>&quot;Zápočet&quot;</td><td>&quot;NE&quot;</td><td>&quot;Kombinovaná&quot;</td><td>&quot;Aktivní účast …</td><td>&quot;1. Komoditní ř…</td><td>&quot;&quot;</td><td>&quot;&quot;</td><td>&quot;&quot;</td><td>&quot;&quot;</td><td>&quot;Čeština&quot;</td><td>&quot;&quot;</td><td>&quot;A&quot;</td><td>&quot;N&quot;</td><td>&quot;N&quot;</td><td>&quot;&quot;</td><td>&quot;&quot;</td><td>&quot;&quot;</td><td>&quot;A&quot;</td><td>&quot;N&quot;</td><td>&quot;&quot;</td><td>0</td><td>&quot;&quot;</td><td>&quot;Bc.&quot;</td><td>&quot;A&quot;</td><td>null</td><td>&quot;20&quot;</td><td>&quot;10&quot;</td><td>&quot;1&quot;</td></tr><tr><td>&quot;KBI&quot;</td><td>&quot;BK201&quot;</td><td>2023</td><td>&quot;Chemie a fyzik…</td><td>&quot;Chemie a fyzik…</td><td>&quot;A&quot;</td><td>&quot;N&quot;</td><td>4</td><td>&quot;NE&quot;</td><td>&quot;&quot;</td><td>&quot;&#x27;RNDr. Oldřich…</td><td>&quot;&#x27;RNDr. Oldřich…</td><td>[1983]</td><td>&quot;&quot;</td><td>&quot;&quot;</td><td>null</td><td>&quot;&quot;</td><td>&quot;&quot;</td><td>null</td><td>&quot;&quot;</td><td>&quot;&quot;</td><td>null</td><td>&quot;&quot;</td><td>&quot;&quot;</td><td>&quot;&quot;</td><td>&quot;&quot;</td><td>&quot;&quot;</td><td>&quot;&quot;</td><td>&quot;&quot;</td><td>&quot;&#x27;Campbel, N.A.…</td><td>&quot;&quot;</td><td>&quot;&quot;</td><td>&quot;&quot;</td><td>&quot;N&quot;</td><td>6</td><td>&quot;HOD/SEM&quot;</td><td>0</td><td>&quot;HOD/SEM&quot;</td><td>0</td><td>&quot;HOD/SEM&quot;</td><td>&quot;Seminář je urč…</td><td>&quot;Zkouška&quot;</td><td>&quot;ANO&quot;</td><td>&quot;Kombinovaná&quot;</td><td>&quot;Minimálně 60% …</td><td>&quot;1. Atributy ži…</td><td>&quot;Studenti by mě…</td><td>&quot;&quot;</td><td>&quot;&quot;</td><td>&quot;&quot;</td><td>&quot;Čeština&quot;</td><td>&quot;&quot;</td><td>&quot;A&quot;</td><td>&quot;N&quot;</td><td>&quot;N&quot;</td><td>&quot;&quot;</td><td>&quot;&quot;</td><td>&quot;&quot;</td><td>&quot;N&quot;</td><td>&quot;A&quot;</td><td>&quot;&quot;</td><td>0</td><td>&quot;&quot;</td><td>&quot;Bc.&quot;</td><td>&quot;A&quot;</td><td>null</td><td>&quot;&quot;</td><td>&quot;&quot;</td><td>&quot;&quot;</td></tr></tbody></table></div>"
      ],
      "text/plain": [
       "shape: (5, 69)\n",
       "┌─────────┬─────────┬──────┬──────────────────────────┬───┬───────────────────┬──────┬──────┬──────┐\n",
       "│ katedra ┆ zkratka ┆ rok  ┆ nazev                    ┆ … ┆ hodZaSemKombForma ┆ aMax ┆ bMax ┆ cMax │\n",
       "│ ---     ┆ ---     ┆ ---  ┆ ---                      ┆   ┆ ---               ┆ ---  ┆ ---  ┆ ---  │\n",
       "│ str     ┆ str     ┆ i64  ┆ str                      ┆   ┆ list[i64]         ┆ str  ┆ str  ┆ str  │\n",
       "╞═════════╪═════════╪══════╪══════════════════════════╪═══╪═══════════════════╪══════╪══════╪══════╡\n",
       "│ KPRF    ┆ 0101    ┆ 2023 ┆ Úvod do meteorologie     ┆ … ┆ [0]               ┆      ┆      ┆      │\n",
       "│ KGEO    ┆ 0159    ┆ 2023 ┆ Smart City               ┆ … ┆ [0]               ┆      ┆      ┆      │\n",
       "│ KGEO    ┆ B210    ┆ 2023 ┆ Euroregiony a            ┆ … ┆ null              ┆ 12   ┆ 3    ┆ 5    │\n",
       "│         ┆         ┆      ┆ přeshraniční spolu…      ┆   ┆                   ┆      ┆      ┆      │\n",
       "│ KGEO    ┆ B414    ┆ 2023 ┆ Ekonomická geografie II  ┆ … ┆ null              ┆ 20   ┆ 10   ┆ 1    │\n",
       "│ KBI     ┆ BK201   ┆ 2023 ┆ Chemie a fyzika živých   ┆ … ┆ null              ┆      ┆      ┆      │\n",
       "│         ┆         ┆      ┆ soustav                  ┆   ┆                   ┆      ┆      ┆      │\n",
       "└─────────┴─────────┴──────┴──────────────────────────┴───┴───────────────────┴──────┴──────┴──────┘"
      ]
     },
     "execution_count": 16,
     "metadata": {},
     "output_type": "execute_result"
    }
   ],
   "source": [
    "ma_prednasku = jednotek_prednasek != 0\n",
    "nema_prednasejiciho = pl.col(\"prednasejiciUcitIdno\").is_null()\n",
    "\n",
    "chybi_prednasejici = predmety_s_akci.filter(ma_prednasku & nema_prednasejiciho)\n",
    "chybi_prednasejici.write_excel(\"results/chybi_prednasejici.xlsx\")\n",
    "chybi_prednasejici.head()"
   ]
  },
  {
   "cell_type": "code",
   "execution_count": 17,
   "metadata": {},
   "outputs": [
    {
     "data": {
      "text/html": [
       "<div><style>\n",
       ".dataframe > thead > tr,\n",
       ".dataframe > tbody > tr {\n",
       "  text-align: right;\n",
       "  white-space: pre-wrap;\n",
       "}\n",
       "</style>\n",
       "<small>shape: (5, 69)</small><table border=\"1\" class=\"dataframe\"><thead><tr><th>katedra</th><th>zkratka</th><th>rok</th><th>nazev</th><th>nazevDlouhy</th><th>vyukaZS</th><th>vyukaLS</th><th>kreditu</th><th>viceZapis</th><th>minObsazeni</th><th>garanti</th><th>garantiSPodily</th><th>garantiUcitIdno</th><th>prednasejici</th><th>prednasejiciSPodily</th><th>prednasejiciUcitIdno</th><th>cvicici</th><th>cviciciSPodily</th><th>cviciciUcitIdno</th><th>seminarici</th><th>seminariciSPodily</th><th>seminariciUcitIdno</th><th>schvalujiciUznani</th><th>schvalujiciUznaniUcitIdno</th><th>examinatori</th><th>examinatoriUcitIdno</th><th>podminujiciPredmety</th><th>vylucujiciPredmety</th><th>podminujePredmety</th><th>literatura</th><th>nahrazPredmety</th><th>metodyVyucovaci</th><th>metodyHodnotici</th><th>akreditovan</th><th>jednotekPrednasek</th><th>jednotkaPrednasky</th><th>jednotekCviceni</th><th>jednotkaCviceni</th><th>jednotekSeminare</th><th>jednotkaSeminare</th><th>anotace</th><th>typZkousky</th><th>maZapocetPredZk</th><th>formaZkousky</th><th>pozadavky</th><th>prehledLatky</th><th>predpoklady</th><th>ziskaneZpusobilosti</th><th>casovaNarocnost</th><th>predmetUrl</th><th>vyucovaciJazyky</th><th>poznamka</th><th>ectsZobrazit</th><th>ectsAkreditace</th><th>ectsNabizetUPrijezdu</th><th>poznamkaVerejna</th><th>skupinaAkreditace</th><th>skupinaAkreditaceKey</th><th>zarazenDoPrezencnihoStudia</th><th>zarazenDoKombinovanehoStudia</th><th>studijniOpory</th><th>praxePocetDnu</th><th>urovenNastavena</th><th>urovenVypoctena</th><th>automatickyUznavatZppZk</th><th>hodZaSemKombForma</th><th>aMax</th><th>bMax</th><th>cMax</th></tr><tr><td>str</td><td>str</td><td>i64</td><td>str</td><td>str</td><td>str</td><td>str</td><td>i64</td><td>str</td><td>str</td><td>str</td><td>str</td><td>list[i64]</td><td>str</td><td>str</td><td>list[i64]</td><td>str</td><td>str</td><td>list[i64]</td><td>str</td><td>str</td><td>list[i64]</td><td>str</td><td>str</td><td>str</td><td>str</td><td>str</td><td>str</td><td>str</td><td>str</td><td>str</td><td>str</td><td>str</td><td>str</td><td>i64</td><td>str</td><td>i64</td><td>str</td><td>i64</td><td>str</td><td>str</td><td>str</td><td>str</td><td>str</td><td>str</td><td>str</td><td>str</td><td>str</td><td>str</td><td>str</td><td>str</td><td>str</td><td>str</td><td>str</td><td>str</td><td>str</td><td>str</td><td>str</td><td>str</td><td>str</td><td>str</td><td>i64</td><td>str</td><td>str</td><td>str</td><td>list[i64]</td><td>str</td><td>str</td><td>str</td></tr></thead><tbody><tr><td>&quot;KGEO&quot;</td><td>&quot;0099&quot;</td><td>2023</td><td>&quot;VK - Geodetick…</td><td>&quot;Geodetické met…</td><td>&quot;A&quot;</td><td>&quot;N&quot;</td><td>3</td><td>&quot;NE&quot;</td><td>&quot;&quot;</td><td>&quot;&quot;</td><td>&quot;&quot;</td><td>null</td><td>&quot;&quot;</td><td>&quot;&quot;</td><td>null</td><td>&quot;&quot;</td><td>&quot;&quot;</td><td>null</td><td>&quot;&quot;</td><td>&quot;&quot;</td><td>null</td><td>&quot;&quot;</td><td>&quot;&quot;</td><td>&quot;&quot;</td><td>&quot;&quot;</td><td>&quot;&quot;</td><td>&quot;&quot;</td><td>&quot;&quot;</td><td>&quot;&#x27;Vinkler. F. G…</td><td>&quot;&quot;</td><td>&quot;&quot;</td><td>&quot;&quot;</td><td>&quot;A&quot;</td><td>0</td><td>&quot;HOD/TYD&quot;</td><td>3</td><td>&quot;HOD/TYD&quot;</td><td>0</td><td>&quot;HOD/TYD&quot;</td><td>&quot;&quot;</td><td>&quot;Zápočet&quot;</td><td>&quot;NE&quot;</td><td>&quot;Kombinovaná&quot;</td><td>&quot;Aktivní účast …</td><td>&quot;Tematické zamě…</td><td>&quot;&quot;</td><td>&quot;&quot;</td><td>&quot;&quot;</td><td>&quot;&quot;</td><td>&quot;Čeština&quot;</td><td>&quot;vk&quot;</td><td>&quot;N&quot;</td><td>&quot;N&quot;</td><td>&quot;N&quot;</td><td>&quot;&quot;</td><td>&quot;&quot;</td><td>&quot;&quot;</td><td>&quot;A&quot;</td><td>&quot;N&quot;</td><td>&quot;&quot;</td><td>0</td><td>&quot;&quot;</td><td>&quot;Bc.&quot;</td><td>&quot;A&quot;</td><td>null</td><td>&quot;&quot;</td><td>&quot;&quot;</td><td>&quot;&quot;</td></tr><tr><td>&quot;KGEO&quot;</td><td>&quot;0121&quot;</td><td>2023</td><td>&quot;VK-Propagace a…</td><td>&quot;Propagace a pr…</td><td>&quot;A&quot;</td><td>&quot;A&quot;</td><td>2</td><td>&quot;NE&quot;</td><td>&quot;&quot;</td><td>&quot;&quot;</td><td>&quot;&quot;</td><td>null</td><td>&quot;&quot;</td><td>&quot;&quot;</td><td>null</td><td>&quot;&quot;</td><td>&quot;&quot;</td><td>null</td><td>&quot;&quot;</td><td>&quot;&quot;</td><td>null</td><td>&quot;&quot;</td><td>&quot;&quot;</td><td>&quot;&quot;</td><td>&quot;&quot;</td><td>&quot;&quot;</td><td>&quot;&quot;</td><td>&quot;&quot;</td><td>&quot;&#x27;CLOW K., E., …</td><td>&quot;&quot;</td><td>&quot;&quot;</td><td>&quot;&quot;</td><td>&quot;N&quot;</td><td>0</td><td>&quot;HOD/TYD&quot;</td><td>2</td><td>&quot;HOD/TYD&quot;</td><td>0</td><td>&quot;HOD/TYD&quot;</td><td>&quot;Kurz je zaměře…</td><td>&quot;Zápočet&quot;</td><td>&quot;NE&quot;</td><td>&quot;Kombinovaná&quot;</td><td>&quot;výborná práce …</td><td>&quot;seznámením s m…</td><td>&quot;&quot;</td><td>&quot;&quot;</td><td>&quot;&quot;</td><td>&quot;&quot;</td><td>&quot;Čeština&quot;</td><td>&quot;&quot;</td><td>&quot;N&quot;</td><td>&quot;N&quot;</td><td>&quot;N&quot;</td><td>&quot;&quot;</td><td>&quot;&quot;</td><td>&quot;&quot;</td><td>&quot;A&quot;</td><td>&quot;N&quot;</td><td>&quot;&quot;</td><td>0</td><td>&quot;&quot;</td><td>&quot;Bc.&quot;</td><td>&quot;A&quot;</td><td>null</td><td>&quot;&quot;</td><td>&quot;&quot;</td><td>&quot;&quot;</td></tr><tr><td>&quot;KGEO&quot;</td><td>&quot;0165&quot;</td><td>2023</td><td>&quot;Hodnotová orie…</td><td>&quot;Hodnotová orie…</td><td>&quot;A&quot;</td><td>&quot;A&quot;</td><td>2</td><td>&quot;NE&quot;</td><td>&quot;&quot;</td><td>&quot;&quot;</td><td>&quot;&quot;</td><td>null</td><td>&quot;&quot;</td><td>&quot;&quot;</td><td>null</td><td>&quot;&quot;</td><td>&quot;&quot;</td><td>null</td><td>&quot;&quot;</td><td>&quot;&quot;</td><td>null</td><td>&quot;&quot;</td><td>&quot;&quot;</td><td>&quot;&quot;</td><td>&quot;&quot;</td><td>&quot;&quot;</td><td>&quot;&quot;</td><td>&quot;&quot;</td><td>&quot;&#x27;Patočka, J. D…</td><td>&quot;&quot;</td><td>&quot;&quot;</td><td>&quot;&quot;</td><td>&quot;A&quot;</td><td>0</td><td>&quot;HOD/TYD&quot;</td><td>2</td><td>&quot;HOD/TYD&quot;</td><td>0</td><td>&quot;HOD/TYD&quot;</td><td>&quot;\n",
       "Kurz je konci…</td><td>&quot;Zápočet&quot;</td><td>&quot;NE&quot;</td><td>&quot;Kombinovaná&quot;</td><td>&quot;1.\tAktivní úča…</td><td>&quot;1.\tPřehled dis…</td><td>&quot;&quot;</td><td>&quot;&quot;</td><td>&quot;&quot;</td><td>&quot;&quot;</td><td>&quot;Čeština&quot;</td><td>&quot;&quot;</td><td>&quot;A&quot;</td><td>&quot;N&quot;</td><td>&quot;N&quot;</td><td>&quot;&quot;</td><td>&quot;&quot;</td><td>&quot;&quot;</td><td>&quot;A&quot;</td><td>&quot;N&quot;</td><td>&quot;&quot;</td><td>0</td><td>&quot;&quot;</td><td>&quot;Bc.&quot;</td><td>&quot;A&quot;</td><td>[0]</td><td>&quot;&quot;</td><td>&quot;&quot;</td><td>&quot;&quot;</td></tr><tr><td>&quot;KFY&quot;</td><td>&quot;0199&quot;</td><td>2023</td><td>&quot;VK - Aplikace …</td><td>&quot;Aplikace ATMEL…</td><td>&quot;A&quot;</td><td>&quot;A&quot;</td><td>2</td><td>&quot;NE&quot;</td><td>&quot;&quot;</td><td>&quot;&quot;</td><td>&quot;&quot;</td><td>null</td><td>&quot;&quot;</td><td>&quot;&quot;</td><td>null</td><td>&quot;&quot;</td><td>&quot;&quot;</td><td>null</td><td>&quot;&quot;</td><td>&quot;&quot;</td><td>null</td><td>&quot;&quot;</td><td>&quot;&quot;</td><td>&quot;&quot;</td><td>&quot;&quot;</td><td>&quot;&quot;</td><td>&quot;&quot;</td><td>&quot;&quot;</td><td>&quot;&quot;</td><td>&quot;KFY/0174&quot;</td><td>&quot;&quot;</td><td>&quot;&quot;</td><td>&quot;A&quot;</td><td>0</td><td>&quot;HOD/TYD&quot;</td><td>2</td><td>&quot;HOD/TYD&quot;</td><td>0</td><td>&quot;HOD/TYD&quot;</td><td>&quot;&quot;</td><td>&quot;Zápočet&quot;</td><td>&quot;NE&quot;</td><td>&quot;Kombinovaná&quot;</td><td>&quot;&quot;</td><td>&quot;&quot;</td><td>&quot;&quot;</td><td>&quot;&quot;</td><td>&quot;&quot;</td><td>&quot;&quot;</td><td>&quot;&quot;</td><td>&quot;&quot;</td><td>&quot;A&quot;</td><td>&quot;N&quot;</td><td>&quot;N&quot;</td><td>&quot;&quot;</td><td>&quot;&quot;</td><td>&quot;&quot;</td><td>&quot;A&quot;</td><td>&quot;N&quot;</td><td>&quot;&quot;</td><td>0</td><td>&quot;&quot;</td><td>&quot;Bc.&quot;</td><td>&quot;A&quot;</td><td>null</td><td>&quot;&quot;</td><td>&quot;&quot;</td><td>&quot;&quot;</td></tr><tr><td>&quot;KFY&quot;</td><td>&quot;0201&quot;</td><td>2023</td><td>&quot;VK-Praktikum m…</td><td>&quot;VK-Praktikum m…</td><td>&quot;A&quot;</td><td>&quot;A&quot;</td><td>2</td><td>&quot;NE&quot;</td><td>&quot;&quot;</td><td>&quot;&quot;</td><td>&quot;&quot;</td><td>null</td><td>&quot;&quot;</td><td>&quot;&quot;</td><td>null</td><td>&quot;&quot;</td><td>&quot;&quot;</td><td>null</td><td>&quot;&quot;</td><td>&quot;&quot;</td><td>null</td><td>&quot;&quot;</td><td>&quot;&quot;</td><td>&quot;&quot;</td><td>&quot;&quot;</td><td>&quot;&quot;</td><td>&quot;&quot;</td><td>&quot;&quot;</td><td>&quot;&quot;</td><td>&quot;&quot;</td><td>&quot;&quot;</td><td>&quot;&quot;</td><td>&quot;A&quot;</td><td>0</td><td>&quot;HOD/TYD&quot;</td><td>2</td><td>&quot;HOD/TYD&quot;</td><td>0</td><td>&quot;HOD/TYD&quot;</td><td>&quot;&quot;</td><td>&quot;Zápočet&quot;</td><td>&quot;NE&quot;</td><td>&quot;Kombinovaná&quot;</td><td>&quot;&quot;</td><td>&quot;&quot;</td><td>&quot;&quot;</td><td>&quot;&quot;</td><td>&quot;&quot;</td><td>&quot;&quot;</td><td>&quot;Čeština&quot;</td><td>&quot;&quot;</td><td>&quot;A&quot;</td><td>&quot;N&quot;</td><td>&quot;N&quot;</td><td>&quot;&quot;</td><td>&quot;&quot;</td><td>&quot;&quot;</td><td>&quot;A&quot;</td><td>&quot;N&quot;</td><td>&quot;&quot;</td><td>0</td><td>&quot;&quot;</td><td>&quot;Bc.&quot;</td><td>&quot;A&quot;</td><td>null</td><td>&quot;&quot;</td><td>&quot;&quot;</td><td>&quot;&quot;</td></tr></tbody></table></div>"
      ],
      "text/plain": [
       "shape: (5, 69)\n",
       "┌─────────┬─────────┬──────┬──────────────────────────┬───┬───────────────────┬──────┬──────┬──────┐\n",
       "│ katedra ┆ zkratka ┆ rok  ┆ nazev                    ┆ … ┆ hodZaSemKombForma ┆ aMax ┆ bMax ┆ cMax │\n",
       "│ ---     ┆ ---     ┆ ---  ┆ ---                      ┆   ┆ ---               ┆ ---  ┆ ---  ┆ ---  │\n",
       "│ str     ┆ str     ┆ i64  ┆ str                      ┆   ┆ list[i64]         ┆ str  ┆ str  ┆ str  │\n",
       "╞═════════╪═════════╪══════╪══════════════════════════╪═══╪═══════════════════╪══════╪══════╪══════╡\n",
       "│ KGEO    ┆ 0099    ┆ 2023 ┆ VK - Geodetické metody v ┆ … ┆ null              ┆      ┆      ┆      │\n",
       "│         ┆         ┆      ┆ geograf…                 ┆   ┆                   ┆      ┆      ┆      │\n",
       "│ KGEO    ┆ 0121    ┆ 2023 ┆ VK-Propagace a           ┆ … ┆ null              ┆      ┆      ┆      │\n",
       "│         ┆         ┆      ┆ prezentace v geog…       ┆   ┆                   ┆      ┆      ┆      │\n",
       "│ KGEO    ┆ 0165    ┆ 2023 ┆ Hodnotová orientace v    ┆ … ┆ [0]               ┆      ┆      ┆      │\n",
       "│         ┆         ┆      ┆ rozvoji mí…              ┆   ┆                   ┆      ┆      ┆      │\n",
       "│ KFY     ┆ 0199    ┆ 2023 ┆ VK - Aplikace ATMEL A    ┆ … ┆ null              ┆      ┆      ┆      │\n",
       "│ KFY     ┆ 0201    ┆ 2023 ┆ VK-Praktikum mikrovlnné  ┆ … ┆ null              ┆      ┆      ┆      │\n",
       "│         ┆         ┆      ┆ techniky…                ┆   ┆                   ┆      ┆      ┆      │\n",
       "└─────────┴─────────┴──────┴──────────────────────────┴───┴───────────────────┴──────┴──────┴──────┘"
      ]
     },
     "execution_count": 17,
     "metadata": {},
     "output_type": "execute_result"
    }
   ],
   "source": [
    "ma_cviceni = jednotek_cviceni != 0\n",
    "nema_cviciciho = pl.col(\"cviciciUcitIdno\").is_null()\n",
    "\n",
    "chybi_cvicici = predmety_s_akci.filter(ma_cviceni & nema_cviciciho)\n",
    "chybi_cvicici.write_excel(\"results/chybi_cvicici.xlsx\")\n",
    "chybi_cvicici.head()"
   ]
  },
  {
   "cell_type": "code",
   "execution_count": 18,
   "metadata": {},
   "outputs": [
    {
     "data": {
      "text/html": [
       "<div><style>\n",
       ".dataframe > thead > tr,\n",
       ".dataframe > tbody > tr {\n",
       "  text-align: right;\n",
       "  white-space: pre-wrap;\n",
       "}\n",
       "</style>\n",
       "<small>shape: (36, 69)</small><table border=\"1\" class=\"dataframe\"><thead><tr><th>katedra</th><th>zkratka</th><th>rok</th><th>nazev</th><th>nazevDlouhy</th><th>vyukaZS</th><th>vyukaLS</th><th>kreditu</th><th>viceZapis</th><th>minObsazeni</th><th>garanti</th><th>garantiSPodily</th><th>garantiUcitIdno</th><th>prednasejici</th><th>prednasejiciSPodily</th><th>prednasejiciUcitIdno</th><th>cvicici</th><th>cviciciSPodily</th><th>cviciciUcitIdno</th><th>seminarici</th><th>seminariciSPodily</th><th>seminariciUcitIdno</th><th>schvalujiciUznani</th><th>schvalujiciUznaniUcitIdno</th><th>examinatori</th><th>examinatoriUcitIdno</th><th>podminujiciPredmety</th><th>vylucujiciPredmety</th><th>podminujePredmety</th><th>literatura</th><th>nahrazPredmety</th><th>metodyVyucovaci</th><th>metodyHodnotici</th><th>akreditovan</th><th>jednotekPrednasek</th><th>jednotkaPrednasky</th><th>jednotekCviceni</th><th>jednotkaCviceni</th><th>jednotekSeminare</th><th>jednotkaSeminare</th><th>anotace</th><th>typZkousky</th><th>maZapocetPredZk</th><th>formaZkousky</th><th>pozadavky</th><th>prehledLatky</th><th>predpoklady</th><th>ziskaneZpusobilosti</th><th>casovaNarocnost</th><th>predmetUrl</th><th>vyucovaciJazyky</th><th>poznamka</th><th>ectsZobrazit</th><th>ectsAkreditace</th><th>ectsNabizetUPrijezdu</th><th>poznamkaVerejna</th><th>skupinaAkreditace</th><th>skupinaAkreditaceKey</th><th>zarazenDoPrezencnihoStudia</th><th>zarazenDoKombinovanehoStudia</th><th>studijniOpory</th><th>praxePocetDnu</th><th>urovenNastavena</th><th>urovenVypoctena</th><th>automatickyUznavatZppZk</th><th>hodZaSemKombForma</th><th>aMax</th><th>bMax</th><th>cMax</th></tr><tr><td>str</td><td>str</td><td>i64</td><td>str</td><td>str</td><td>str</td><td>str</td><td>i64</td><td>str</td><td>str</td><td>str</td><td>str</td><td>list[i64]</td><td>str</td><td>str</td><td>list[i64]</td><td>str</td><td>str</td><td>list[i64]</td><td>str</td><td>str</td><td>list[i64]</td><td>str</td><td>str</td><td>str</td><td>str</td><td>str</td><td>str</td><td>str</td><td>str</td><td>str</td><td>str</td><td>str</td><td>str</td><td>i64</td><td>str</td><td>i64</td><td>str</td><td>i64</td><td>str</td><td>str</td><td>str</td><td>str</td><td>str</td><td>str</td><td>str</td><td>str</td><td>str</td><td>str</td><td>str</td><td>str</td><td>str</td><td>str</td><td>str</td><td>str</td><td>str</td><td>str</td><td>str</td><td>str</td><td>str</td><td>str</td><td>i64</td><td>str</td><td>str</td><td>str</td><td>list[i64]</td><td>str</td><td>str</td><td>str</td></tr></thead><tbody><tr><td>&quot;KCH&quot;</td><td>&quot;BK316&quot;</td><td>2023</td><td>&quot;Laboratorní cv…</td><td>&quot;Laboratorní cv…</td><td>&quot;N&quot;</td><td>&quot;A&quot;</td><td>4</td><td>&quot;NE&quot;</td><td>&quot;&quot;</td><td>&quot;&#x27;RNDr. Thu Huo…</td><td>&quot;&#x27;RNDr. Thu Huo…</td><td>[429]</td><td>&quot;&quot;</td><td>&quot;&quot;</td><td>null</td><td>&quot;&#x27;Ing. Ivana Ka…</td><td>&quot;&#x27;Ing. Ivana Ka…</td><td>[4226, 429]</td><td>&quot;&quot;</td><td>&quot;&quot;</td><td>null</td><td>&quot;&quot;</td><td>&quot;&quot;</td><td>&quot;&quot;</td><td>&quot;&quot;</td><td>&quot;KCH/BK301&quot;</td><td>&quot;&quot;</td><td>&quot;&quot;</td><td>&quot;&quot;</td><td>&quot;&quot;</td><td>&quot;&quot;</td><td>&quot;&quot;</td><td>&quot;N&quot;</td><td>0</td><td>&quot;HOD/SEM&quot;</td><td>16</td><td>&quot;HOD/SEM&quot;</td><td>1</td><td>&quot;HOD/SEM&quot;</td><td>&quot;Studenti se se…</td><td>&quot;Zápočet&quot;</td><td>&quot;NE&quot;</td><td>&quot;Kombinovaná&quot;</td><td>&quot;&quot;</td><td>&quot;1. Důkaz příto…</td><td>&quot;&quot;</td><td>&quot;&quot;</td><td>&quot;&quot;</td><td>&quot;&quot;</td><td>&quot;Čeština&quot;</td><td>&quot;&quot;</td><td>&quot;A&quot;</td><td>&quot;N&quot;</td><td>&quot;N&quot;</td><td>&quot;&quot;</td><td>&quot;&quot;</td><td>&quot;&quot;</td><td>&quot;N&quot;</td><td>&quot;A&quot;</td><td>&quot;&quot;</td><td>0</td><td>&quot;&quot;</td><td>&quot;Bc.&quot;</td><td>&quot;A&quot;</td><td>[0]</td><td>&quot;&quot;</td><td>&quot;&quot;</td><td>&quot;&quot;</td></tr><tr><td>&quot;KI&quot;</td><td>&quot;KAFJ&quot;</td><td>2023</td><td>&quot;Teorie automat…</td><td>&quot;Teorie automat…</td><td>&quot;A&quot;</td><td>&quot;N&quot;</td><td>5</td><td>&quot;NE&quot;</td><td>&quot;&quot;</td><td>&quot;&#x27;doc. Ing. Mgr…</td><td>&quot;&#x27;doc. Ing. Mgr…</td><td>[449]</td><td>&quot;&#x27;doc. Ing. Mgr…</td><td>&quot;&#x27;doc. Ing. Mgr…</td><td>[449]</td><td>&quot;&#x27;doc. Ing. Mgr…</td><td>&quot;&#x27;doc. Ing. Mgr…</td><td>[449, 2220]</td><td>&quot;&quot;</td><td>&quot;&quot;</td><td>null</td><td>&quot;&quot;</td><td>&quot;&quot;</td><td>&quot;&quot;</td><td>&quot;&quot;</td><td>&quot;&quot;</td><td>&quot;&quot;</td><td>&quot;&quot;</td><td>&quot;&#x27;Chytil M. Aut…</td><td>&quot;&quot;</td><td>&quot;&quot;</td><td>&quot;&quot;</td><td>&quot;N&quot;</td><td>6</td><td>&quot;HOD/SEM&quot;</td><td>6</td><td>&quot;HOD/SEM&quot;</td><td>2</td><td>&quot;HOD/SEM&quot;</td><td>&quot;V tomto předmě…</td><td>&quot;Zkouška&quot;</td><td>&quot;ANO&quot;</td><td>&quot;Kombinovaná&quot;</td><td>&quot;Požadavky pro …</td><td>&quot;1.\tKonečné aut…</td><td>&quot;&quot;</td><td>&quot;&quot;</td><td>&quot;&quot;</td><td>&quot;&quot;</td><td>&quot;Čeština&quot;</td><td>&quot;&quot;</td><td>&quot;A&quot;</td><td>&quot;N&quot;</td><td>&quot;N&quot;</td><td>&quot;&quot;</td><td>&quot;&quot;</td><td>&quot;&quot;</td><td>&quot;N&quot;</td><td>&quot;A&quot;</td><td>&quot;&quot;</td><td>0</td><td>&quot;&quot;</td><td>&quot;Bc.&quot;</td><td>&quot;A&quot;</td><td>null</td><td>&quot;&quot;</td><td>&quot;&quot;</td><td>&quot;0&quot;</td></tr><tr><td>&quot;KI&quot;</td><td>&quot;KANE&quot;</td><td>2023</td><td>&quot;Analogová elek…</td><td>&quot;Analogová elek…</td><td>&quot;A&quot;</td><td>&quot;N&quot;</td><td>2</td><td>&quot;NE&quot;</td><td>&quot;&quot;</td><td>&quot;&#x27;doc. RNDr. Fr…</td><td>&quot;&#x27;doc. RNDr. Fr…</td><td>[5232]</td><td>&quot;&#x27;doc. RNDr. Fr…</td><td>&quot;&#x27;doc. RNDr. Fr…</td><td>[5232]</td><td>&quot;&#x27;doc. RNDr. Fr…</td><td>&quot;&#x27;doc. RNDr. Fr…</td><td>[5232]</td><td>&quot;&quot;</td><td>&quot;&quot;</td><td>null</td><td>&quot;&quot;</td><td>&quot;&quot;</td><td>&quot;&quot;</td><td>&quot;&quot;</td><td>&quot;KI/KZEL&quot;</td><td>&quot;&quot;</td><td>&quot;&quot;</td><td>&quot;&#x27;Tichý, M. Ele…</td><td>&quot;&quot;</td><td>&quot;&quot;</td><td>&quot;&quot;</td><td>&quot;N&quot;</td><td>2</td><td>&quot;HOD/SEM&quot;</td><td>4</td><td>&quot;HOD/SEM&quot;</td><td>2</td><td>&quot;HOD/SEM&quot;</td><td>&quot;Kurz je zaměře…</td><td>&quot;Zápočet&quot;</td><td>&quot;NE&quot;</td><td>&quot;Kombinovaná&quot;</td><td>&quot;Ústní obhajoba…</td><td>&quot;1. Pasivní ele…</td><td>&quot;&quot;</td><td>&quot;&quot;</td><td>&quot;&quot;</td><td>&quot;&quot;</td><td>&quot;Čeština&quot;</td><td>&quot;&quot;</td><td>&quot;A&quot;</td><td>&quot;N&quot;</td><td>&quot;N&quot;</td><td>&quot;&quot;</td><td>&quot;&quot;</td><td>&quot;&quot;</td><td>&quot;N&quot;</td><td>&quot;A&quot;</td><td>&quot;&quot;</td><td>0</td><td>&quot;&quot;</td><td>&quot;Bc.&quot;</td><td>&quot;A&quot;</td><td>[0]</td><td>&quot;&quot;</td><td>&quot;&quot;</td><td>&quot;&quot;</td></tr><tr><td>&quot;KI&quot;</td><td>&quot;KAPR1&quot;</td><td>2023</td><td>&quot;Algoritmizace …</td><td>&quot;Algoritmizace …</td><td>&quot;A&quot;</td><td>&quot;N&quot;</td><td>4</td><td>&quot;NE&quot;</td><td>&quot;&quot;</td><td>&quot;&#x27;Mgr. Jiří Fiš…</td><td>&quot;&#x27;Mgr. Jiří Fiš…</td><td>[251]</td><td>&quot;&#x27;Mgr. Jiří Fiš…</td><td>&quot;&#x27;Mgr. Jiří Fiš…</td><td>[251]</td><td>&quot;&#x27;Ing. Mgr. Pav…</td><td>&quot;&#x27;Ing. Mgr. Pav…</td><td>[6973, 650, … 6259]</td><td>&quot;&quot;</td><td>&quot;&quot;</td><td>null</td><td>&quot;&quot;</td><td>&quot;&quot;</td><td>&quot;&quot;</td><td>&quot;&quot;</td><td>&quot;&quot;</td><td>&quot;&quot;</td><td>&quot;KI/KAPR2, KI/K…</td><td>&quot;&#x27;https://githu…</td><td>&quot;&quot;</td><td>&quot;&quot;</td><td>&quot;&quot;</td><td>&quot;N&quot;</td><td>6</td><td>&quot;HOD/SEM&quot;</td><td>6</td><td>&quot;HOD/SEM&quot;</td><td>2</td><td>&quot;HOD/SEM&quot;</td><td>&quot;Úvodní kurz al…</td><td>&quot;Zápočet&quot;</td><td>&quot;NE&quot;</td><td>&quot;Kombinovaná&quot;</td><td>&quot;Podmínkou získ…</td><td>&quot;1.\tZákladní te…</td><td>&quot;&quot;</td><td>&quot;&quot;</td><td>&quot;&quot;</td><td>&quot;&quot;</td><td>&quot;Čeština&quot;</td><td>&quot;&quot;</td><td>&quot;A&quot;</td><td>&quot;N&quot;</td><td>&quot;N&quot;</td><td>&quot;&quot;</td><td>&quot;&quot;</td><td>&quot;&quot;</td><td>&quot;N&quot;</td><td>&quot;A&quot;</td><td>&quot;&quot;</td><td>0</td><td>&quot;&quot;</td><td>&quot;Bc.&quot;</td><td>&quot;A&quot;</td><td>[0]</td><td>&quot;&quot;</td><td>&quot;&quot;</td><td>&quot;&quot;</td></tr><tr><td>&quot;KI&quot;</td><td>&quot;KAPR2&quot;</td><td>2023</td><td>&quot;Algoritmizace …</td><td>&quot;Algoritmizace …</td><td>&quot;N&quot;</td><td>&quot;A&quot;</td><td>5</td><td>&quot;NE&quot;</td><td>&quot;&quot;</td><td>&quot;&#x27;Mgr. Jiří Fiš…</td><td>&quot;&#x27;Mgr. Jiří Fiš…</td><td>[251]</td><td>&quot;&#x27;Mgr. Jiří Fiš…</td><td>&quot;&#x27;Mgr. Jiří Fiš…</td><td>[251]</td><td>&quot;&#x27;RNDr. Petr Ku…</td><td>&quot;&#x27;RNDr. Petr Ku…</td><td>[650, 835, 6259]</td><td>&quot;&quot;</td><td>&quot;&quot;</td><td>null</td><td>&quot;&quot;</td><td>&quot;&quot;</td><td>&quot;&quot;</td><td>&quot;&quot;</td><td>&quot;KI/KAPR1&quot;</td><td>&quot;&quot;</td><td>&quot;KI/KGUI, KI/KP…</td><td>&quot;&#x27;https://githu…</td><td>&quot;&quot;</td><td>&quot;&quot;</td><td>&quot;&quot;</td><td>&quot;N&quot;</td><td>6</td><td>&quot;HOD/SEM&quot;</td><td>6</td><td>&quot;HOD/SEM&quot;</td><td>2</td><td>&quot;HOD/SEM&quot;</td><td>&quot;Druhá část úvo…</td><td>&quot;Zkouška&quot;</td><td>&quot;ANO&quot;</td><td>&quot;Kombinovaná&quot;</td><td>&quot;Podmínkou získ…</td><td>&quot;1. Implementac…</td><td>&quot;&quot;</td><td>&quot;&quot;</td><td>&quot;&quot;</td><td>&quot;&quot;</td><td>&quot;Čeština&quot;</td><td>&quot;&quot;</td><td>&quot;A&quot;</td><td>&quot;N&quot;</td><td>&quot;N&quot;</td><td>&quot;&quot;</td><td>&quot;&quot;</td><td>&quot;&quot;</td><td>&quot;N&quot;</td><td>&quot;A&quot;</td><td>&quot;&quot;</td><td>0</td><td>&quot;&quot;</td><td>&quot;Bc.&quot;</td><td>&quot;A&quot;</td><td>[0]</td><td>&quot;&quot;</td><td>&quot;&quot;</td><td>&quot;&quot;</td></tr><tr><td>&hellip;</td><td>&hellip;</td><td>&hellip;</td><td>&hellip;</td><td>&hellip;</td><td>&hellip;</td><td>&hellip;</td><td>&hellip;</td><td>&hellip;</td><td>&hellip;</td><td>&hellip;</td><td>&hellip;</td><td>&hellip;</td><td>&hellip;</td><td>&hellip;</td><td>&hellip;</td><td>&hellip;</td><td>&hellip;</td><td>&hellip;</td><td>&hellip;</td><td>&hellip;</td><td>&hellip;</td><td>&hellip;</td><td>&hellip;</td><td>&hellip;</td><td>&hellip;</td><td>&hellip;</td><td>&hellip;</td><td>&hellip;</td><td>&hellip;</td><td>&hellip;</td><td>&hellip;</td><td>&hellip;</td><td>&hellip;</td><td>&hellip;</td><td>&hellip;</td><td>&hellip;</td><td>&hellip;</td><td>&hellip;</td><td>&hellip;</td><td>&hellip;</td><td>&hellip;</td><td>&hellip;</td><td>&hellip;</td><td>&hellip;</td><td>&hellip;</td><td>&hellip;</td><td>&hellip;</td><td>&hellip;</td><td>&hellip;</td><td>&hellip;</td><td>&hellip;</td><td>&hellip;</td><td>&hellip;</td><td>&hellip;</td><td>&hellip;</td><td>&hellip;</td><td>&hellip;</td><td>&hellip;</td><td>&hellip;</td><td>&hellip;</td><td>&hellip;</td><td>&hellip;</td><td>&hellip;</td><td>&hellip;</td><td>&hellip;</td><td>&hellip;</td><td>&hellip;</td><td>&hellip;</td></tr><tr><td>&quot;KI&quot;</td><td>&quot;KZPS&quot;</td><td>2023</td><td>&quot;Základy počíta…</td><td>&quot;Základy počíta…</td><td>&quot;A&quot;</td><td>&quot;N&quot;</td><td>4</td><td>&quot;NE&quot;</td><td>&quot;&quot;</td><td>&quot;&#x27;RNDr. Jan Kre…</td><td>&quot;&#x27;RNDr. Jan Kre…</td><td>[2776]</td><td>&quot;&#x27;RNDr. Jan Kre…</td><td>&quot;&#x27;RNDr. Jan Kre…</td><td>[2776]</td><td>&quot;&#x27;Mgr. Kamil Ba…</td><td>&quot;&#x27;Mgr. Kamil Ba…</td><td>[1165, 2776]</td><td>&quot;&quot;</td><td>&quot;&quot;</td><td>null</td><td>&quot;&quot;</td><td>&quot;&quot;</td><td>&quot;&quot;</td><td>&quot;&quot;</td><td>&quot;&quot;</td><td>&quot;&quot;</td><td>&quot;KI/KAIIT, KI/K…</td><td>&quot;&quot;</td><td>&quot;&quot;</td><td>&quot;&quot;</td><td>&quot;&quot;</td><td>&quot;N&quot;</td><td>4</td><td>&quot;HOD/SEM&quot;</td><td>6</td><td>&quot;HOD/SEM&quot;</td><td>2</td><td>&quot;HOD/SEM&quot;</td><td>&quot;Předmět je kon…</td><td>&quot;Zkouška&quot;</td><td>&quot;ANO&quot;</td><td>&quot;Kombinovaná&quot;</td><td>&quot;Zápočet: aktiv…</td><td>&quot;1. Historie vý…</td><td>&quot;&quot;</td><td>&quot;&quot;</td><td>&quot;&quot;</td><td>&quot;&quot;</td><td>&quot;Čeština&quot;</td><td>&quot;&quot;</td><td>&quot;A&quot;</td><td>&quot;N&quot;</td><td>&quot;N&quot;</td><td>&quot;&quot;</td><td>&quot;&quot;</td><td>&quot;&quot;</td><td>&quot;N&quot;</td><td>&quot;A&quot;</td><td>&quot;&quot;</td><td>0</td><td>&quot;&quot;</td><td>&quot;Bc.&quot;</td><td>&quot;A&quot;</td><td>[0]</td><td>&quot;&quot;</td><td>&quot;&quot;</td><td>&quot;&quot;</td></tr><tr><td>&quot;KI&quot;</td><td>&quot;LTP&quot;</td><td>2023</td><td>&quot;Linuxové techn…</td><td>&quot;Linuxové techn…</td><td>&quot;A&quot;</td><td>&quot;N&quot;</td><td>1</td><td>&quot;NE&quot;</td><td>&quot;&quot;</td><td>&quot;&#x27;RNDr. Petr Ku…</td><td>&quot;&#x27;RNDr. Petr Ku…</td><td>[650]</td><td>&quot;&quot;</td><td>&quot;&quot;</td><td>null</td><td>&quot;&quot;</td><td>&quot;&quot;</td><td>null</td><td>&quot;&quot;</td><td>&quot;&quot;</td><td>null</td><td>&quot;&quot;</td><td>&quot;&quot;</td><td>&quot;&quot;</td><td>&quot;&quot;</td><td>&quot;KI/OPS&quot;</td><td>&quot;&quot;</td><td>&quot;&quot;</td><td>&quot;&#x27;Oficiální dok…</td><td>&quot;&quot;</td><td>&quot;&quot;</td><td>&quot;&quot;</td><td>&quot;A&quot;</td><td>0</td><td>&quot;HOD/TYD&quot;</td><td>0</td><td>&quot;HOD/TYD&quot;</td><td>12</td><td>&quot;HOD/SEM&quot;</td><td>&quot;Cílem předmětu…</td><td>&quot;Zápočet&quot;</td><td>&quot;NE&quot;</td><td>&quot;Kombinovaná&quot;</td><td>&quot;Docházka a akt…</td><td>&quot;1. Byznys a IC…</td><td>&quot;&quot;</td><td>&quot;&quot;</td><td>&quot;&quot;</td><td>&quot;&quot;</td><td>&quot;Čeština&quot;</td><td>&quot;&quot;</td><td>&quot;A&quot;</td><td>&quot;N&quot;</td><td>&quot;N&quot;</td><td>&quot;&quot;</td><td>&quot;&quot;</td><td>&quot;&quot;</td><td>&quot;A&quot;</td><td>&quot;N&quot;</td><td>&quot;&quot;</td><td>0</td><td>&quot;&quot;</td><td>&quot;Bc.&quot;</td><td>&quot;A&quot;</td><td>[0]</td><td>&quot;&quot;</td><td>&quot;&quot;</td><td>&quot;&quot;</td></tr><tr><td>&quot;KI&quot;</td><td>&quot;PAP&quot;</td><td>2023</td><td>&quot;Průmyslová aut…</td><td>&quot;Průmyslová aut…</td><td>&quot;N&quot;</td><td>&quot;A&quot;</td><td>2</td><td>&quot;NE&quot;</td><td>&quot;&quot;</td><td>&quot;&quot;</td><td>&quot;&quot;</td><td>null</td><td>&quot;&quot;</td><td>&quot;&quot;</td><td>null</td><td>&quot;&quot;</td><td>&quot;&quot;</td><td>null</td><td>&quot;&quot;</td><td>&quot;&quot;</td><td>null</td><td>&quot;&quot;</td><td>&quot;&quot;</td><td>&quot;&quot;</td><td>&quot;&quot;</td><td>&quot;&quot;</td><td>&quot;&quot;</td><td>&quot;&quot;</td><td>&quot;&#x27;Šípal, J. Aut…</td><td>&quot;&quot;</td><td>&quot;&quot;</td><td>&quot;&quot;</td><td>&quot;A&quot;</td><td>0</td><td>&quot;HOD/TYD&quot;</td><td>0</td><td>&quot;HOD/TYD&quot;</td><td>2</td><td>&quot;HOD/TYD&quot;</td><td>&quot;Cílem předmětu…</td><td>&quot;Zápočet&quot;</td><td>&quot;NE&quot;</td><td>&quot;Kombinovaná&quot;</td><td>&quot;Seminární prác…</td><td>&quot;1.- 2. Úvod do…</td><td>&quot;&quot;</td><td>&quot;&quot;</td><td>&quot;&quot;</td><td>&quot;&quot;</td><td>&quot;Čeština&quot;</td><td>&quot;&quot;</td><td>&quot;A&quot;</td><td>&quot;N&quot;</td><td>&quot;N&quot;</td><td>&quot;&quot;</td><td>&quot;&quot;</td><td>&quot;&quot;</td><td>&quot;A&quot;</td><td>&quot;N&quot;</td><td>&quot;&quot;</td><td>0</td><td>&quot;&quot;</td><td>&quot;Bc.&quot;</td><td>&quot;A&quot;</td><td>[0]</td><td>&quot;&quot;</td><td>&quot;&quot;</td><td>&quot;&quot;</td></tr><tr><td>&quot;KI&quot;</td><td>&quot;PAR&quot;</td><td>2023</td><td>&quot;Parallel Progr…</td><td>&quot;Parallel Progr…</td><td>&quot;N&quot;</td><td>&quot;A&quot;</td><td>5</td><td>&quot;NE&quot;</td><td>&quot;&quot;</td><td>&quot;&#x27;doc. RNDr. Zb…</td><td>&quot;&#x27;doc. RNDr. Zb…</td><td>[3521]</td><td>&quot;&#x27;Mgr. Jiří Fiš…</td><td>&quot;&#x27;Mgr. Jiří Fiš…</td><td>[251, 3521]</td><td>&quot;&#x27;Mgr. Jiří Fiš…</td><td>&quot;&#x27;Mgr. Jiří Fiš…</td><td>[251, 3521]</td><td>&quot;&quot;</td><td>&quot;&quot;</td><td>null</td><td>&quot;&quot;</td><td>&quot;&quot;</td><td>&quot;&quot;</td><td>&quot;&quot;</td><td>&quot;KI/PDSA&quot;</td><td>&quot;&quot;</td><td>&quot;&quot;</td><td>&quot;&quot;</td><td>&quot;&quot;</td><td>&quot;&quot;</td><td>&quot;&quot;</td><td>&quot;N&quot;</td><td>2</td><td>&quot;HOD/TYD&quot;</td><td>25</td><td>&quot;HOD/SEM&quot;</td><td>3</td><td>&quot;HOD/SEM&quot;</td><td>&quot;Předmět se věn…</td><td>&quot;Zkouška&quot;</td><td>&quot;ANO&quot;</td><td>&quot;Kombinovaná&quot;</td><td>&quot;Zápočet: semin…</td><td>&quot;1. - 2. Parale…</td><td>&quot;&quot;</td><td>&quot;&quot;</td><td>&quot;&quot;</td><td>&quot;&quot;</td><td>&quot;Angličtina&quot;</td><td>&quot;&quot;</td><td>&quot;A&quot;</td><td>&quot;N&quot;</td><td>&quot;N&quot;</td><td>&quot;&quot;</td><td>&quot;&quot;</td><td>&quot;&quot;</td><td>&quot;A&quot;</td><td>&quot;N&quot;</td><td>&quot;&quot;</td><td>0</td><td>&quot;&quot;</td><td>&quot;Mgr.&quot;</td><td>&quot;A&quot;</td><td>[0]</td><td>&quot;&quot;</td><td>&quot;&quot;</td><td>&quot;&quot;</td></tr><tr><td>&quot;KGEO&quot;</td><td>&quot;PSPP&quot;</td><td>2023</td><td>&quot;Přípravný semi…</td><td>&quot;Přípravný semi…</td><td>&quot;N&quot;</td><td>&quot;A&quot;</td><td>1</td><td>&quot;NE&quot;</td><td>&quot;&quot;</td><td>&quot;&#x27;Mgr. Petr Tra…</td><td>&quot;&#x27;Mgr. Petr Tra…</td><td>[6384]</td><td>&quot;&quot;</td><td>&quot;&quot;</td><td>null</td><td>&quot;&#x27;Mgr. Petr Tra…</td><td>&quot;&#x27;Mgr. Petr Tra…</td><td>[6384]</td><td>&quot;&quot;</td><td>&quot;&quot;</td><td>null</td><td>&quot;&quot;</td><td>&quot;&quot;</td><td>&quot;&quot;</td><td>&quot;&quot;</td><td>&quot;&quot;</td><td>&quot;&quot;</td><td>&quot;&quot;</td><td>&quot;&quot;</td><td>&quot;&quot;</td><td>&quot;&quot;</td><td>&quot;&quot;</td><td>&quot;N&quot;</td><td>0</td><td>&quot;HOD/TYD&quot;</td><td>0</td><td>&quot;HOD/TYD&quot;</td><td>1</td><td>&quot;HOD/TYD&quot;</td><td>&quot;Obsahové zaměř…</td><td>&quot;Zápočet&quot;</td><td>&quot;NE&quot;</td><td>&quot;Kombinovaná&quot;</td><td>&quot;účast na semin…</td><td>&quot;&quot;</td><td>&quot;&quot;</td><td>&quot;&quot;</td><td>&quot;&quot;</td><td>&quot;&quot;</td><td>&quot;Čeština&quot;</td><td>&quot;&quot;</td><td>&quot;A&quot;</td><td>&quot;N&quot;</td><td>&quot;N&quot;</td><td>&quot;&quot;</td><td>&quot;&quot;</td><td>&quot;&quot;</td><td>&quot;A&quot;</td><td>&quot;N&quot;</td><td>&quot;&quot;</td><td>0</td><td>&quot;&quot;</td><td>&quot;Bc.&quot;</td><td>&quot;A&quot;</td><td>[0]</td><td>&quot;&quot;</td><td>&quot;&quot;</td><td>&quot;&quot;</td></tr></tbody></table></div>"
      ],
      "text/plain": [
       "shape: (36, 69)\n",
       "┌─────────┬─────────┬──────┬──────────────────────────┬───┬───────────────────┬──────┬──────┬──────┐\n",
       "│ katedra ┆ zkratka ┆ rok  ┆ nazev                    ┆ … ┆ hodZaSemKombForma ┆ aMax ┆ bMax ┆ cMax │\n",
       "│ ---     ┆ ---     ┆ ---  ┆ ---                      ┆   ┆ ---               ┆ ---  ┆ ---  ┆ ---  │\n",
       "│ str     ┆ str     ┆ i64  ┆ str                      ┆   ┆ list[i64]         ┆ str  ┆ str  ┆ str  │\n",
       "╞═════════╪═════════╪══════╪══════════════════════════╪═══╪═══════════════════╪══════╪══════╪══════╡\n",
       "│ KCH     ┆ BK316   ┆ 2023 ┆ Laboratorní cvičení z    ┆ … ┆ [0]               ┆      ┆      ┆      │\n",
       "│         ┆         ┆      ┆ biochemie                ┆   ┆                   ┆      ┆      ┆      │\n",
       "│ KI      ┆ KAFJ    ┆ 2023 ┆ Teorie automatů a        ┆ … ┆ null              ┆      ┆      ┆ 0    │\n",
       "│         ┆         ┆      ┆ formálních jaz…          ┆   ┆                   ┆      ┆      ┆      │\n",
       "│ KI      ┆ KANE    ┆ 2023 ┆ Analogová elektronika    ┆ … ┆ [0]               ┆      ┆      ┆      │\n",
       "│ KI      ┆ KAPR1   ┆ 2023 ┆ Algoritmizace a          ┆ … ┆ [0]               ┆      ┆      ┆      │\n",
       "│         ┆         ┆      ┆ programování I           ┆   ┆                   ┆      ┆      ┆      │\n",
       "│ KI      ┆ KAPR2   ┆ 2023 ┆ Algoritmizace a          ┆ … ┆ [0]               ┆      ┆      ┆      │\n",
       "│         ┆         ┆      ┆ programování II          ┆   ┆                   ┆      ┆      ┆      │\n",
       "│ …       ┆ …       ┆ …    ┆ …                        ┆ … ┆ …                 ┆ …    ┆ …    ┆ …    │\n",
       "│ KI      ┆ KZPS    ┆ 2023 ┆ Základy počítačových     ┆ … ┆ [0]               ┆      ┆      ┆      │\n",
       "│         ┆         ┆      ┆ sítí a prot…             ┆   ┆                   ┆      ┆      ┆      │\n",
       "│ KI      ┆ LTP     ┆ 2023 ┆ Linuxové technologie v   ┆ … ┆ [0]               ┆      ┆      ┆      │\n",
       "│         ┆         ┆      ┆ praxi                    ┆   ┆                   ┆      ┆      ┆      │\n",
       "│ KI      ┆ PAP     ┆ 2023 ┆ Průmyslová automatizace  ┆ … ┆ [0]               ┆      ┆      ┆      │\n",
       "│         ┆         ┆      ┆ v praxi                  ┆   ┆                   ┆      ┆      ┆      │\n",
       "│ KI      ┆ PAR     ┆ 2023 ┆ Parallel Programming     ┆ … ┆ [0]               ┆      ┆      ┆      │\n",
       "│ KGEO    ┆ PSPP    ┆ 2023 ┆ Přípravný seminář k      ┆ … ┆ [0]               ┆      ┆      ┆      │\n",
       "│         ┆         ┆      ┆ pedagogické …            ┆   ┆                   ┆      ┆      ┆      │\n",
       "└─────────┴─────────┴──────┴──────────────────────────┴───┴───────────────────┴──────┴──────┴──────┘"
      ]
     },
     "execution_count": 18,
     "metadata": {},
     "output_type": "execute_result"
    }
   ],
   "source": [
    "ma_seminare = jednotek_seminare != 0\n",
    "nema_seminariciho = pl.col(\"seminariciUcitIdno\").is_null()\n",
    "\n",
    "chybi_seminarici = predmety_s_akci.filter(ma_seminare & nema_seminariciho)\n",
    "chybi_seminarici.write_excel(\"results/chybi_seminarici.xlsx\")\n",
    "chybi_seminarici"
   ]
  },
  {
   "attachments": {},
   "cell_type": "markdown",
   "metadata": {},
   "source": [
    "> Zde jsou předměty, ve kterých učitel vede seminář:"
   ]
  },
  {
   "cell_type": "code",
   "execution_count": 19,
   "metadata": {},
   "outputs": [],
   "source": [
    "#prednasejici_je_seminarici = prednasejici == seminarici\n",
    "#cvicici_je_seminarici = cvicici == seminarici\n",
    "\n",
    "#konflikt_vyucujicich = predmety_s_akci.filter(ma_seminare & ma_prednasku & (prednasejici_je_seminarici | cvicici_je_seminarici))\n",
    "#konflikt_vyucujicich.write_excel(\"results/konflikt_vyucujicich.xlsx\")\n",
    "#konflikt_vyucujicich.head()"
   ]
  },
  {
   "cell_type": "code",
   "execution_count": 20,
   "metadata": {},
   "outputs": [
    {
     "name": "stdout",
     "output_type": "stream",
     "text": [
      "31 předmětů nemá přednášejícího\n",
      "84 předmětů nemá cvičícího\n",
      "36 předmětů nemá seminářícího\n"
     ]
    }
   ],
   "source": [
    "print(f\"{len(chybi_prednasejici)} předmětů nemá přednášejícího\")\n",
    "print(f\"{len(chybi_cvicici)} předmětů nemá cvičícího\")\n",
    "print(f\"{len(chybi_seminarici)} předmětů nemá seminářícího\")\n",
    "# print(f\"U {len(konflikt_vyucujicich)} předmětů je seminářící také učitel\")"
   ]
  },
  {
   "attachments": {},
   "cell_type": "markdown",
   "metadata": {},
   "source": [
    "### Garant by měl být někde mezi vyučujícími. Pokud má předmět přednášku, měl by být přednášející.\n",
    "\n",
    "> V těchto předmětech garant vůbec neučí:"
   ]
  },
  {
   "cell_type": "code",
   "execution_count": 21,
   "metadata": {},
   "outputs": [
    {
     "data": {
      "text/plain": [
       "543"
      ]
     },
     "execution_count": 21,
     "metadata": {},
     "output_type": "execute_result"
    }
   ],
   "source": [
    "filter_query = (garant != cvicici) & (garant != seminarici) & (garant != prednasejici) & (ma_prednasku | ma_cviceni | ma_seminare)\n",
    "predmety_kde_garant_neuci = predmety_s_akci.filter(filter_query)\n",
    "predmety_kde_garant_neuci.write_excel(\"results/predmety_kde_garant_neuci.xlsx\")\n",
    "predmety_kde_garant_neuci.__len__()"
   ]
  },
  {
   "attachments": {},
   "cell_type": "markdown",
   "metadata": {},
   "source": [
    "> v těchto předmětech je přednáška, ale nedělá jí garant:"
   ]
  },
  {
   "cell_type": "code",
   "execution_count": 22,
   "metadata": {},
   "outputs": [
    {
     "data": {
      "text/plain": [
       "307"
      ]
     },
     "execution_count": 22,
     "metadata": {},
     "output_type": "execute_result"
    }
   ],
   "source": [
    "garant_neni_prednasejici = (jednotek_prednasek != 0) & (garant != prednasejici)\n",
    "garant_neprednasi = predmety_s_akci.filter(garant_neni_prednasejici)\n",
    "garant_neprednasi.write_excel(\"results/garant_neprednasi.xlsx\")\n",
    "garant_neprednasi.__len__()"
   ]
  },
  {
   "attachments": {},
   "cell_type": "markdown",
   "metadata": {},
   "source": [
    "## Kontrola proti rozvrhovaným akcím"
   ]
  },
  {
   "attachments": {},
   "cell_type": "markdown",
   "metadata": {},
   "source": [
    "### Vyučující u rozvrhových akcí musí být v příslušných kategoriích u vyučujících"
   ]
  },
  {
   "attachments": {},
   "cell_type": "markdown",
   "metadata": {},
   "source": [
    "#### Osekám dataframy"
   ]
  },
  {
   "cell_type": "code",
   "execution_count": 23,
   "metadata": {},
   "outputs": [
    {
     "data": {
      "text/html": [
       "<div><style>\n",
       ".dataframe > thead > tr,\n",
       ".dataframe > tbody > tr {\n",
       "  text-align: right;\n",
       "  white-space: pre-wrap;\n",
       "}\n",
       "</style>\n",
       "<small>shape: (5, 54)</small><table border=\"1\" class=\"dataframe\"><thead><tr><th>roakIdno</th><th>nazev</th><th>katedra</th><th>zkratka</th><th>statut</th><th>ucitIdno</th><th>ucitIdno.ucitel</th><th>jmeno.ucitel</th><th>prijmeni.ucitel</th><th>titulPred.ucitel</th><th>titulZa.ucitel</th><th>platnost.ucitel</th><th>zamestnanec.ucitel</th><th>podilNaVyuce.ucitel</th><th>rok</th><th>budova</th><th>mistnost</th><th>kapacitaMistnosti</th><th>planObsazeni</th><th>obsazeni</th><th>typAkce</th><th>typAkceZkr</th><th>platnost</th><th>den</th><th>denZkr</th><th>vyucJazyk</th><th>hodinaOd</th><th>hodinaDo</th><th>pocetVyucHodin</th><th>hodinaSkutOd</th><th>hodinaSkutDo</th><th>tydenOd</th><th>tydenDo</th><th>tyden</th><th>tydenZkr</th><th>grupIdno</th><th>jeNadrazena</th><th>maNadrazenou</th><th>kontakt</th><th>krouzky</th><th>casovaRada</th><th>datum</th><th>datumOd</th><th>datumDo</th><th>druhAkce</th><th>vsichniUciteleUcitIdno</th><th>vsichniUciteleJmenaTituly</th><th>vsichniUciteleJmenaTitulySPodily</th><th>vsichniUcitelePrijmeni</th><th>referencedIdno</th><th>poznamkaRozvrhare</th><th>nekonaSe</th><th>owner</th><th>zakazaneAkce</th></tr><tr><td>i64</td><td>str</td><td>str</td><td>str</td><td>str</td><td>str</td><td>list[i64]</td><td>str</td><td>str</td><td>str</td><td>str</td><td>str</td><td>str</td><td>str</td><td>i64</td><td>str</td><td>str</td><td>str</td><td>i64</td><td>i64</td><td>str</td><td>str</td><td>str</td><td>str</td><td>str</td><td>str</td><td>str</td><td>str</td><td>i64</td><td>str</td><td>str</td><td>i64</td><td>i64</td><td>str</td><td>str</td><td>str</td><td>str</td><td>str</td><td>str</td><td>str</td><td>str</td><td>str</td><td>str</td><td>str</td><td>str</td><td>list[i64]</td><td>str</td><td>str</td><td>str</td><td>i64</td><td>str</td><td>str</td><td>str</td><td>str</td></tr></thead><tbody><tr><td>470891</td><td>&quot;3D tisk v chem…</td><td>&quot;CNB&quot;</td><td>&quot;M103&quot;</td><td>&quot;&quot;</td><td>&quot;1503&quot;</td><td>[1503]</td><td>&quot;Marcel&quot;</td><td>&quot;Štofik&quot;</td><td>&quot;Mgr.&quot;</td><td>&quot;Ph.D.&quot;</td><td>&quot;A&quot;</td><td>&quot;A&quot;</td><td>&quot;50&quot;</td><td>2023</td><td>&quot;CP&quot;</td><td>&quot;3.18&quot;</td><td>&quot;20&quot;</td><td>5</td><td>4</td><td>&quot;Cvičení&quot;</td><td>&quot;Cv&quot;</td><td>&quot;A&quot;</td><td>&quot;Čtvrtek&quot;</td><td>&quot;Čt&quot;</td><td>&quot;&quot;</td><td>&quot;4&quot;</td><td>&quot;5&quot;</td><td>2</td><td>&quot;10:00&quot;</td><td>&quot;11:50&quot;</td><td>40</td><td>1</td><td>&quot;Každý&quot;</td><td>&quot;K&quot;</td><td>&quot;&quot;</td><td>&quot;N&quot;</td><td>&quot;N&quot;</td><td>&quot;Automaticky vy…</td><td>&quot;1.N ACH&quot;</td><td>&quot;UJEP&quot;</td><td>&quot;&quot;</td><td>&quot;5.10.2023&quot;</td><td>&quot;4.1.2024&quot;</td><td>&quot;R&quot;</td><td>[1503, 8314]</td><td>&quot;Mgr. Marcel Št…</td><td>&quot;&#x27;Mgr. Marcel Š…</td><td>&quot;Štofik, Smejka…</td><td>470891</td><td>&quot;&quot;</td><td>&quot;&quot;</td><td>&quot;PETRUSPRF&quot;</td><td>&quot;&quot;</td></tr><tr><td>484583</td><td>&quot;Kompozitní a n…</td><td>&quot;CNB&quot;</td><td>&quot;KNM&quot;</td><td>&quot;&quot;</td><td>&quot;4587&quot;</td><td>[4587]</td><td>&quot;Petr&quot;</td><td>&quot;Ryšánek&quot;</td><td>&quot;RNDr.&quot;</td><td>&quot;Ph.D.&quot;</td><td>&quot;A&quot;</td><td>&quot;A&quot;</td><td>&quot;100&quot;</td><td>2023</td><td>&quot;CP&quot;</td><td>&quot;1.03&quot;</td><td>&quot;95&quot;</td><td>4</td><td>3</td><td>&quot;Cvičení&quot;</td><td>&quot;Cv&quot;</td><td>&quot;A&quot;</td><td>&quot;Pondělí&quot;</td><td>&quot;Po&quot;</td><td>&quot;&quot;</td><td>&quot;4&quot;</td><td>&quot;4&quot;</td><td>1</td><td>&quot;10:00&quot;</td><td>&quot;10:50&quot;</td><td>8</td><td>20</td><td>&quot;Každý&quot;</td><td>&quot;K&quot;</td><td>&quot;&quot;</td><td>&quot;N&quot;</td><td>&quot;N&quot;</td><td>&quot;Automaticky vy…</td><td>&quot;3.NANO&quot;</td><td>&quot;UJEP&quot;</td><td>&quot;&quot;</td><td>&quot;19.2.2024&quot;</td><td>&quot;13.5.2024&quot;</td><td>&quot;R&quot;</td><td>[4587]</td><td>&quot;RNDr. Petr Ryš…</td><td>&quot;&#x27;RNDr. Petr Ry…</td><td>&quot;Ryšánek&quot;</td><td>484583</td><td>&quot;&quot;</td><td>&quot;&quot;</td><td>&quot;RSMEJKAL&quot;</td><td>&quot;&quot;</td></tr><tr><td>484586</td><td>&quot;Mikrofluidní s…</td><td>&quot;CNB&quot;</td><td>&quot;MSBA&quot;</td><td>&quot;&quot;</td><td>&quot;1503&quot;</td><td>[1503]</td><td>&quot;Marcel&quot;</td><td>&quot;Štofik&quot;</td><td>&quot;Mgr.&quot;</td><td>&quot;Ph.D.&quot;</td><td>&quot;A&quot;</td><td>&quot;A&quot;</td><td>&quot;100&quot;</td><td>2023</td><td>&quot;CP&quot;</td><td>&quot;4.19&quot;</td><td>&quot;16&quot;</td><td>8</td><td>1</td><td>&quot;Cvičení&quot;</td><td>&quot;Cv&quot;</td><td>&quot;A&quot;</td><td>&quot;Čtvrtek&quot;</td><td>&quot;Čt&quot;</td><td>&quot;&quot;</td><td>&quot;2&quot;</td><td>&quot;2&quot;</td><td>1</td><td>&quot;08:00&quot;</td><td>&quot;08:50&quot;</td><td>8</td><td>20</td><td>&quot;Každý&quot;</td><td>&quot;K&quot;</td><td>&quot;&quot;</td><td>&quot;N&quot;</td><td>&quot;N&quot;</td><td>&quot;Automaticky vy…</td><td>&quot;2.NANO,3.NANO&quot;</td><td>&quot;UJEP&quot;</td><td>&quot;&quot;</td><td>&quot;22.2.2024&quot;</td><td>&quot;16.5.2024&quot;</td><td>&quot;R&quot;</td><td>[1503]</td><td>&quot;Mgr. Marcel Št…</td><td>&quot;&#x27;Mgr. Marcel Š…</td><td>&quot;Štofik&quot;</td><td>484586</td><td>&quot;&quot;</td><td>&quot;&quot;</td><td>&quot;RSMEJKAL&quot;</td><td>&quot;&quot;</td></tr><tr><td>489176</td><td>&quot;Molekulární bi…</td><td>&quot;CNB&quot;</td><td>&quot;BP617&quot;</td><td>&quot;&quot;</td><td>&quot;8512&quot;</td><td>[8512]</td><td>&quot;Olga&quot;</td><td>&quot;Šebestová Jano…</td><td>&quot;Mgr.&quot;</td><td>&quot;Ph.D.&quot;</td><td>&quot;A&quot;</td><td>&quot;A&quot;</td><td>&quot;100&quot;</td><td>2023</td><td>&quot;&quot;</td><td>&quot;&quot;</td><td>&quot;&quot;</td><td>12</td><td>9</td><td>&quot;Cvičení&quot;</td><td>&quot;Cv&quot;</td><td>&quot;A&quot;</td><td>&quot;&quot;</td><td>&quot;&quot;</td><td>&quot;&quot;</td><td>&quot;&quot;</td><td>&quot;&quot;</td><td>2</td><td>&quot;00:00&quot;</td><td>&quot;00:00&quot;</td><td>0</td><td>0</td><td>&quot;Každý&quot;</td><td>&quot;K&quot;</td><td>&quot;&quot;</td><td>&quot;N&quot;</td><td>&quot;N&quot;</td><td>&quot;Automaticky vy…</td><td>&quot;2.BI JO&quot;</td><td>&quot;&quot;</td><td>&quot;&quot;</td><td>&quot;&quot;</td><td>&quot;&quot;</td><td>&quot;R&quot;</td><td>[8512]</td><td>&quot;Mgr. Olga Šebe…</td><td>&quot;&#x27;Mgr. Olga Šeb…</td><td>&quot;Šebestová Jano…</td><td>489176</td><td>&quot;&quot;</td><td>&quot;&quot;</td><td>&quot;RSMEJKAL&quot;</td><td>&quot;&quot;</td></tr><tr><td>489162</td><td>&quot;Praktický kurz…</td><td>&quot;CNB&quot;</td><td>&quot;ME202&quot;</td><td>&quot;&quot;</td><td>&quot;8024&quot;</td><td>[8024]</td><td>&quot;Stanislav&quot;</td><td>&quot;Vinopal&quot;</td><td>&quot;Ing.&quot;</td><td>&quot;Ph.D.&quot;</td><td>&quot;A&quot;</td><td>&quot;A&quot;</td><td>&quot;100&quot;</td><td>2023</td><td>&quot;&quot;</td><td>&quot;&quot;</td><td>&quot;&quot;</td><td>5</td><td>5</td><td>&quot;Přednáška&quot;</td><td>&quot;Př&quot;</td><td>&quot;A&quot;</td><td>&quot;&quot;</td><td>&quot;&quot;</td><td>&quot;&quot;</td><td>&quot;&quot;</td><td>&quot;&quot;</td><td>6</td><td>&quot;00:00&quot;</td><td>&quot;00:00&quot;</td><td>0</td><td>0</td><td>&quot;Každý&quot;</td><td>&quot;K&quot;</td><td>&quot;&quot;</td><td>&quot;N&quot;</td><td>&quot;N&quot;</td><td>&quot;Automaticky vy…</td><td>&quot;1.BI N EB&quot;</td><td>&quot;&quot;</td><td>&quot;&quot;</td><td>&quot;&quot;</td><td>&quot;&quot;</td><td>&quot;R&quot;</td><td>[8024, 280, 1503]</td><td>&quot;Ing. Stanislav…</td><td>&quot;&#x27;Ing. Stanisla…</td><td>&quot;Vinopal, Malý,…</td><td>489162</td><td>&quot;&quot;</td><td>&quot;&quot;</td><td>&quot;RSMEJKAL&quot;</td><td>&quot;&quot;</td></tr></tbody></table></div>"
      ],
      "text/plain": [
       "shape: (5, 54)\n",
       "┌──────────┬─────────────┬─────────┬─────────┬───┬─────────────┬──────────┬───────────┬────────────┐\n",
       "│ roakIdno ┆ nazev       ┆ katedra ┆ zkratka ┆ … ┆ poznamkaRoz ┆ nekonaSe ┆ owner     ┆ zakazaneAk │\n",
       "│ ---      ┆ ---         ┆ ---     ┆ ---     ┆   ┆ vrhare      ┆ ---      ┆ ---       ┆ ce         │\n",
       "│ i64      ┆ str         ┆ str     ┆ str     ┆   ┆ ---         ┆ str      ┆ str       ┆ ---        │\n",
       "│          ┆             ┆         ┆         ┆   ┆ str         ┆          ┆           ┆ str        │\n",
       "╞══════════╪═════════════╪═════════╪═════════╪═══╪═════════════╪══════════╪═══════════╪════════════╡\n",
       "│ 470891   ┆ 3D tisk v   ┆ CNB     ┆ M103    ┆ … ┆             ┆          ┆ PETRUSPRF ┆            │\n",
       "│          ┆ chemii      ┆         ┆         ┆   ┆             ┆          ┆           ┆            │\n",
       "│ 484583   ┆ Kompozitní  ┆ CNB     ┆ KNM     ┆ … ┆             ┆          ┆ RSMEJKAL  ┆            │\n",
       "│          ┆ a nanokompo ┆         ┆         ┆   ┆             ┆          ┆           ┆            │\n",
       "│          ┆ zitní mate… ┆         ┆         ┆   ┆             ┆          ┆           ┆            │\n",
       "│ 484586   ┆ Mikrofluidn ┆ CNB     ┆ MSBA    ┆ … ┆             ┆          ┆ RSMEJKAL  ┆            │\n",
       "│          ┆ í systémy a ┆         ┆         ┆   ┆             ┆          ┆           ┆            │\n",
       "│          ┆ biolog. a…  ┆         ┆         ┆   ┆             ┆          ┆           ┆            │\n",
       "│ 489176   ┆ Molekulární ┆ CNB     ┆ BP617   ┆ … ┆             ┆          ┆ RSMEJKAL  ┆            │\n",
       "│          ┆ biologie    ┆         ┆         ┆   ┆             ┆          ┆           ┆            │\n",
       "│ 489162   ┆ Praktický   ┆ CNB     ┆ ME202   ┆ … ┆             ┆          ┆ RSMEJKAL  ┆            │\n",
       "│          ┆ kurz pokr.  ┆         ┆         ┆   ┆             ┆          ┆           ┆            │\n",
       "│          ┆ mikroskop.  ┆         ┆         ┆   ┆             ┆          ┆           ┆            │\n",
       "│          ┆ …           ┆         ┆         ┆   ┆             ┆          ┆           ┆            │\n",
       "└──────────┴─────────────┴─────────┴─────────┴───┴─────────────┴──────────┴───────────┴────────────┘"
      ]
     },
     "execution_count": 23,
     "metadata": {},
     "output_type": "execute_result"
    }
   ],
   "source": [
    "rozvrh_by_kat.head()\n",
    "# predmety_by_kat.head()"
   ]
  },
  {
   "cell_type": "code",
   "execution_count": 35,
   "metadata": {},
   "outputs": [
    {
     "data": {
      "text/html": [
       "<div><style>\n",
       ".dataframe > thead > tr,\n",
       ".dataframe > tbody > tr {\n",
       "  text-align: right;\n",
       "  white-space: pre-wrap;\n",
       "}\n",
       "</style>\n",
       "<small>shape: (0, 9)</small><table border=\"1\" class=\"dataframe\"><thead><tr><th>katedra</th><th>zkratka</th><th>idno</th><th>typAkceZkr</th><th>rok</th><th>datumOd</th><th>datumDo</th><th>hodinaSkutOd</th><th>hodinaSkutDo</th></tr><tr><td>str</td><td>str</td><td>i64</td><td>str</td><td>i64</td><td>str</td><td>str</td><td>str</td><td>str</td></tr></thead><tbody></tbody></table></div>"
      ],
      "text/plain": [
       "shape: (0, 9)\n",
       "┌─────────┬─────────┬──────┬────────────┬───┬─────────┬─────────┬──────────────┬──────────────┐\n",
       "│ katedra ┆ zkratka ┆ idno ┆ typAkceZkr ┆ … ┆ datumOd ┆ datumDo ┆ hodinaSkutOd ┆ hodinaSkutDo │\n",
       "│ ---     ┆ ---     ┆ ---  ┆ ---        ┆   ┆ ---     ┆ ---     ┆ ---          ┆ ---          │\n",
       "│ str     ┆ str     ┆ i64  ┆ str        ┆   ┆ str     ┆ str     ┆ str          ┆ str          │\n",
       "╞═════════╪═════════╪══════╪════════════╪═══╪═════════╪═════════╪══════════════╪══════════════╡\n",
       "└─────────┴─────────┴──────┴────────────┴───┴─────────┴─────────┴──────────────┴──────────────┘"
      ]
     },
     "execution_count": 35,
     "metadata": {},
     "output_type": "execute_result"
    }
   ],
   "source": [
    "# PROZATÍMNÍ NASTAVENÍ FILTRUJE AKCE BEZ DATUMU\n",
    "\n",
    "maly_rozvrh = rozvrh_by_kat.select([\"katedra\",\"zkratka\", \"vsichniUciteleUcitIdno\", \"typAkceZkr\", \"rok\", \"datumOd\", \"datumDo\", \"hodinaSkutOd\", \"hodinaSkutDo\"])\n",
    "maly_rozvrh = maly_rozvrh.with_columns(pl.col(\"vsichniUciteleUcitIdno\")).explode(\"vsichniUciteleUcitIdno\").rename({\"vsichniUciteleUcitIdno\": \"idno\"}).filter(pl.col(\"datumOd\").str.len_chars() > 0)\n",
    "maly_rozvrh.filter(pl.col(\"katedra\").is_null()).head()"
   ]
  },
  {
   "cell_type": "code",
   "execution_count": 25,
   "metadata": {},
   "outputs": [],
   "source": [
    "# predmety_by_kat"
   ]
  },
  {
   "cell_type": "code",
   "execution_count": 26,
   "metadata": {},
   "outputs": [
    {
     "data": {
      "text/html": [
       "<div><style>\n",
       ".dataframe > thead > tr,\n",
       ".dataframe > tbody > tr {\n",
       "  text-align: right;\n",
       "  white-space: pre-wrap;\n",
       "}\n",
       "</style>\n",
       "<small>shape: (5, 69)</small><table border=\"1\" class=\"dataframe\"><thead><tr><th>katedra</th><th>zkratka</th><th>rok</th><th>nazev</th><th>nazevDlouhy</th><th>vyukaZS</th><th>vyukaLS</th><th>kreditu</th><th>viceZapis</th><th>minObsazeni</th><th>garanti</th><th>garantiSPodily</th><th>garantiUcitIdno</th><th>prednasejici</th><th>prednasejiciSPodily</th><th>prednasejiciUcitIdno</th><th>cvicici</th><th>cviciciSPodily</th><th>cviciciUcitIdno</th><th>seminarici</th><th>seminariciSPodily</th><th>seminariciUcitIdno</th><th>schvalujiciUznani</th><th>schvalujiciUznaniUcitIdno</th><th>examinatori</th><th>examinatoriUcitIdno</th><th>podminujiciPredmety</th><th>vylucujiciPredmety</th><th>podminujePredmety</th><th>literatura</th><th>nahrazPredmety</th><th>metodyVyucovaci</th><th>metodyHodnotici</th><th>akreditovan</th><th>jednotekPrednasek</th><th>jednotkaPrednasky</th><th>jednotekCviceni</th><th>jednotkaCviceni</th><th>jednotekSeminare</th><th>jednotkaSeminare</th><th>anotace</th><th>typZkousky</th><th>maZapocetPredZk</th><th>formaZkousky</th><th>pozadavky</th><th>prehledLatky</th><th>predpoklady</th><th>ziskaneZpusobilosti</th><th>casovaNarocnost</th><th>predmetUrl</th><th>vyucovaciJazyky</th><th>poznamka</th><th>ectsZobrazit</th><th>ectsAkreditace</th><th>ectsNabizetUPrijezdu</th><th>poznamkaVerejna</th><th>skupinaAkreditace</th><th>skupinaAkreditaceKey</th><th>zarazenDoPrezencnihoStudia</th><th>zarazenDoKombinovanehoStudia</th><th>studijniOpory</th><th>praxePocetDnu</th><th>urovenNastavena</th><th>urovenVypoctena</th><th>automatickyUznavatZppZk</th><th>hodZaSemKombForma</th><th>aMax</th><th>bMax</th><th>cMax</th></tr><tr><td>str</td><td>str</td><td>i64</td><td>str</td><td>str</td><td>str</td><td>str</td><td>i64</td><td>str</td><td>str</td><td>str</td><td>str</td><td>list[i64]</td><td>str</td><td>str</td><td>list[i64]</td><td>str</td><td>str</td><td>list[i64]</td><td>str</td><td>str</td><td>list[i64]</td><td>str</td><td>str</td><td>str</td><td>str</td><td>str</td><td>str</td><td>str</td><td>str</td><td>str</td><td>str</td><td>str</td><td>str</td><td>i64</td><td>str</td><td>i64</td><td>str</td><td>i64</td><td>str</td><td>str</td><td>str</td><td>str</td><td>str</td><td>str</td><td>str</td><td>str</td><td>str</td><td>str</td><td>str</td><td>str</td><td>str</td><td>str</td><td>str</td><td>str</td><td>str</td><td>str</td><td>str</td><td>str</td><td>str</td><td>str</td><td>i64</td><td>str</td><td>str</td><td>str</td><td>list[i64]</td><td>str</td><td>str</td><td>str</td></tr></thead><tbody><tr><td>&quot;CNB&quot;</td><td>&quot;EXK&quot;</td><td>2023</td><td>&quot;Exkurze&quot;</td><td>&quot;Exkurze&quot;</td><td>&quot;A&quot;</td><td>&quot;A&quot;</td><td>1</td><td>&quot;NE&quot;</td><td>&quot;&quot;</td><td>&quot;&#x27;doc. Ing. Mar…</td><td>&quot;&#x27;doc. Ing. Mar…</td><td>[2384]</td><td>&quot;&quot;</td><td>&quot;&quot;</td><td>null</td><td>&quot;&quot;</td><td>&quot;&quot;</td><td>null</td><td>&quot;&#x27;doc. Ing. Mar…</td><td>&quot;&#x27;doc. Ing. Mar…</td><td>[2384]</td><td>&quot;&quot;</td><td>&quot;&quot;</td><td>&quot;&quot;</td><td>&quot;&quot;</td><td>&quot;&quot;</td><td>&quot;&quot;</td><td>&quot;&quot;</td><td>&quot;&quot;</td><td>&quot;KFY/EXK&quot;</td><td>&quot;&quot;</td><td>&quot;&quot;</td><td>&quot;N&quot;</td><td>0</td><td>&quot;HOD/TYD&quot;</td><td>1</td><td>&quot;HOD/TYD&quot;</td><td>0</td><td>&quot;HOD/TYD&quot;</td><td>&quot;Cílem kurzu je…</td><td>&quot;Zápočet&quot;</td><td>&quot;NE&quot;</td><td>&quot;Kombinovaná&quot;</td><td>&quot;&quot;</td><td>&quot;&quot;</td><td>&quot;&quot;</td><td>&quot;&quot;</td><td>&quot;&quot;</td><td>&quot;&quot;</td><td>&quot;Čeština&quot;</td><td>&quot;&quot;</td><td>&quot;A&quot;</td><td>&quot;N&quot;</td><td>&quot;N&quot;</td><td>&quot;&quot;</td><td>&quot;&quot;</td><td>&quot;&quot;</td><td>&quot;A&quot;</td><td>&quot;N&quot;</td><td>&quot;&quot;</td><td>0</td><td>&quot;&quot;</td><td>&quot;Bc.&quot;</td><td>&quot;A&quot;</td><td>null</td><td>&quot;&quot;</td><td>&quot;&quot;</td><td>&quot;&quot;</td></tr><tr><td>&quot;CNB&quot;</td><td>&quot;NA08&quot;</td><td>2023</td><td>&quot;Metody příprav…</td><td>&quot;Metody příprav…</td><td>&quot;A&quot;</td><td>&quot;N&quot;</td><td>2</td><td>&quot;NE&quot;</td><td>&quot;&quot;</td><td>&quot;&#x27;doc. RNDr. Ja…</td><td>&quot;&#x27;doc. RNDr. Ja…</td><td>[308]</td><td>&quot;&#x27;prof. Ing. Zd…</td><td>&quot;&#x27;prof. Ing. Zd…</td><td>[332, 280, 308]</td><td>&quot;&quot;</td><td>&quot;&quot;</td><td>null</td><td>&quot;&quot;</td><td>&quot;&quot;</td><td>null</td><td>&quot;&quot;</td><td>&quot;&quot;</td><td>&quot;&quot;</td><td>&quot;&quot;</td><td>&quot;&quot;</td><td>&quot;&quot;</td><td>&quot;KCH/NA03&quot;</td><td>&quot;&#x27;Challa S. S. …</td><td>&quot;KFY/NA08&quot;</td><td>&quot;&quot;</td><td>&quot;Písemná zkoušk…</td><td>&quot;N&quot;</td><td>1</td><td>&quot;HOD/TYD&quot;</td><td>0</td><td>&quot;HOD/TYD&quot;</td><td>0</td><td>&quot;HOD/TYD&quot;</td><td>&quot;&quot;</td><td>&quot;Zápočet&quot;</td><td>&quot;NE&quot;</td><td>&quot;Kombinovaná&quot;</td><td>&quot;&quot;</td><td>&quot;Předmět bude z…</td><td>&quot;&quot;</td><td>&quot;&quot;</td><td>&quot;&quot;</td><td>&quot;&quot;</td><td>&quot;Čeština&quot;</td><td>&quot;&quot;</td><td>&quot;A&quot;</td><td>&quot;N&quot;</td><td>&quot;N&quot;</td><td>&quot;&quot;</td><td>&quot;&quot;</td><td>&quot;&quot;</td><td>&quot;A&quot;</td><td>&quot;N&quot;</td><td>&quot;&quot;</td><td>0</td><td>&quot;&quot;</td><td>&quot;Mgr.&quot;</td><td>&quot;A&quot;</td><td>null</td><td>&quot;&quot;</td><td>&quot;&quot;</td><td>&quot;&quot;</td></tr><tr><td>&quot;CNB&quot;</td><td>&quot;NA22&quot;</td><td>2023</td><td>&quot;Úvod do supram…</td><td>&quot;Úvod do supram…</td><td>&quot;A&quot;</td><td>&quot;A&quot;</td><td>2</td><td>&quot;NE&quot;</td><td>&quot;&quot;</td><td>&quot;&#x27;prof. RNDr. P…</td><td>&quot;&#x27;prof. RNDr. P…</td><td>[3553]</td><td>&quot;&#x27;prof. RNDr. P…</td><td>&quot;&#x27;prof. RNDr. P…</td><td>[3553]</td><td>&quot;&#x27;prof. RNDr. P…</td><td>&quot;&#x27;prof. RNDr. P…</td><td>[3553]</td><td>&quot;&quot;</td><td>&quot;&quot;</td><td>null</td><td>&quot;&quot;</td><td>&quot;&quot;</td><td>&quot;&quot;</td><td>&quot;&quot;</td><td>&quot;&quot;</td><td>&quot;&quot;</td><td>&quot;&quot;</td><td>&quot;&#x27;P. Hobza, R. …</td><td>&quot;KFY/P701&quot;</td><td>&quot;&quot;</td><td>&quot;&quot;</td><td>&quot;N&quot;</td><td>1</td><td>&quot;HOD/TYD&quot;</td><td>1</td><td>&quot;HOD/TYD&quot;</td><td>0</td><td>&quot;HOD/TYD&quot;</td><td>&quot;Cílem předmětu…</td><td>&quot;Zápočet&quot;</td><td>&quot;NE&quot;</td><td>&quot;Kombinovaná&quot;</td><td>&quot;&quot;</td><td>&quot;Osnova: \n",
       "1.\tIn…</td><td>&quot;&quot;</td><td>&quot;&quot;</td><td>&quot;&quot;</td><td>&quot;&quot;</td><td>&quot;Čeština&quot;</td><td>&quot;&quot;</td><td>&quot;A&quot;</td><td>&quot;N&quot;</td><td>&quot;N&quot;</td><td>&quot;&quot;</td><td>&quot;&quot;</td><td>&quot;&quot;</td><td>&quot;A&quot;</td><td>&quot;N&quot;</td><td>&quot;&quot;</td><td>0</td><td>&quot;&quot;</td><td>&quot;Mgr.&quot;</td><td>&quot;A&quot;</td><td>null</td><td>&quot;&quot;</td><td>&quot;&quot;</td><td>&quot;&quot;</td></tr><tr><td>&quot;CNB&quot;</td><td>&quot;BIOM&quot;</td><td>2023</td><td>&quot;Biomateriály&quot;</td><td>&quot;Biomateriály&quot;</td><td>&quot;N&quot;</td><td>&quot;A&quot;</td><td>2</td><td>&quot;NE&quot;</td><td>&quot;&quot;</td><td>&quot;&#x27;Mgr. Jan Malý…</td><td>&quot;&#x27;Mgr. Jan Malý…</td><td>[280]</td><td>&quot;&#x27;prof. Ing. Zd…</td><td>&quot;&#x27;prof. Ing. Zd…</td><td>[332, 280, 4711]</td><td>&quot;&quot;</td><td>&quot;&quot;</td><td>null</td><td>&quot;&quot;</td><td>&quot;&quot;</td><td>null</td><td>&quot;&quot;</td><td>&quot;&quot;</td><td>&quot;&quot;</td><td>&quot;&quot;</td><td>&quot;&quot;</td><td>&quot;&quot;</td><td>&quot;&quot;</td><td>&quot;&#x27;Williams, D. …</td><td>&quot;KBI/BIOM&quot;</td><td>&quot;&quot;</td><td>&quot;Ústní zkouška&quot;</td><td>&quot;N&quot;</td><td>1</td><td>&quot;HOD/TYD&quot;</td><td>0</td><td>&quot;HOD/TYD&quot;</td><td>0</td><td>&quot;HOD/TYD&quot;</td><td>&quot;Předmět je zam…</td><td>&quot;Zkouška&quot;</td><td>&quot;NE&quot;</td><td>&quot;Kombinovaná&quot;</td><td>&quot;&quot;</td><td>&quot;1. Úvod do bio…</td><td>&quot;&quot;</td><td>&quot;&quot;</td><td>&quot;&quot;</td><td>&quot;&quot;</td><td>&quot;Čeština&quot;</td><td>&quot;&quot;</td><td>&quot;A&quot;</td><td>&quot;N&quot;</td><td>&quot;N&quot;</td><td>&quot;&quot;</td><td>&quot;&quot;</td><td>&quot;&quot;</td><td>&quot;A&quot;</td><td>&quot;N&quot;</td><td>&quot;&quot;</td><td>0</td><td>&quot;&quot;</td><td>&quot;Bc.&quot;</td><td>&quot;A&quot;</td><td>[0]</td><td>&quot;&quot;</td><td>&quot;&quot;</td><td>&quot;&quot;</td></tr><tr><td>&quot;CNB&quot;</td><td>&quot;KPCSM&quot;</td><td>2023</td><td>&quot;Prakt. cvičení…</td><td>&quot;Praktická cvič…</td><td>&quot;N&quot;</td><td>&quot;A&quot;</td><td>3</td><td>&quot;NE&quot;</td><td>&quot;&quot;</td><td>&quot;&#x27;RNDr. Regina …</td><td>&quot;&#x27;RNDr. Regina …</td><td>[8317]</td><td>&quot;&quot;</td><td>&quot;&quot;</td><td>null</td><td>&quot;&#x27;RNDr. Regina …</td><td>&quot;&#x27;RNDr. Regina …</td><td>[8317]</td><td>&quot;&quot;</td><td>&quot;&quot;</td><td>null</td><td>&quot;&quot;</td><td>&quot;&quot;</td><td>&quot;&quot;</td><td>&quot;&quot;</td><td>&quot;&quot;</td><td>&quot;&quot;</td><td>&quot;&quot;</td><td>&quot;&#x27;Štulík K. a k…</td><td>&quot;&quot;</td><td>&quot;&quot;</td><td>&quot;&quot;</td><td>&quot;A&quot;</td><td>0</td><td>&quot;HOD/SEM&quot;</td><td>18</td><td>&quot;HOD/SEM&quot;</td><td>0</td><td>&quot;HOD/SEM&quot;</td><td>&quot;Cílem předmětu…</td><td>&quot;Zápočet&quot;</td><td>&quot;NE&quot;</td><td>&quot;Kombinovaná&quot;</td><td>&quot;Nutnou podmínk…</td><td>&quot;1.\tCentrifugač…</td><td>&quot;&quot;</td><td>&quot;&quot;</td><td>&quot;&quot;</td><td>&quot;&quot;</td><td>&quot;Čeština&quot;</td><td>&quot;&quot;</td><td>&quot;A&quot;</td><td>&quot;N&quot;</td><td>&quot;N&quot;</td><td>&quot;Praktická cvič…</td><td>&quot;&quot;</td><td>&quot;&quot;</td><td>&quot;N&quot;</td><td>&quot;A&quot;</td><td>&quot;&quot;</td><td>0</td><td>&quot;&quot;</td><td>&quot;Bc.&quot;</td><td>&quot;A&quot;</td><td>[0]</td><td>&quot;&quot;</td><td>&quot;&quot;</td><td>&quot;&quot;</td></tr></tbody></table></div>"
      ],
      "text/plain": [
       "shape: (5, 69)\n",
       "┌─────────┬─────────┬──────┬──────────────────────────┬───┬───────────────────┬──────┬──────┬──────┐\n",
       "│ katedra ┆ zkratka ┆ rok  ┆ nazev                    ┆ … ┆ hodZaSemKombForma ┆ aMax ┆ bMax ┆ cMax │\n",
       "│ ---     ┆ ---     ┆ ---  ┆ ---                      ┆   ┆ ---               ┆ ---  ┆ ---  ┆ ---  │\n",
       "│ str     ┆ str     ┆ i64  ┆ str                      ┆   ┆ list[i64]         ┆ str  ┆ str  ┆ str  │\n",
       "╞═════════╪═════════╪══════╪══════════════════════════╪═══╪═══════════════════╪══════╪══════╪══════╡\n",
       "│ CNB     ┆ EXK     ┆ 2023 ┆ Exkurze                  ┆ … ┆ null              ┆      ┆      ┆      │\n",
       "│ CNB     ┆ NA08    ┆ 2023 ┆ Metody přípravy          ┆ … ┆ null              ┆      ┆      ┆      │\n",
       "│         ┆         ┆      ┆ nanomateriálů            ┆   ┆                   ┆      ┆      ┆      │\n",
       "│ CNB     ┆ NA22    ┆ 2023 ┆ Úvod do supramol chemie  ┆ … ┆ null              ┆      ┆      ┆      │\n",
       "│         ┆         ┆      ┆ a krysta…                ┆   ┆                   ┆      ┆      ┆      │\n",
       "│ CNB     ┆ BIOM    ┆ 2023 ┆ Biomateriály             ┆ … ┆ [0]               ┆      ┆      ┆      │\n",
       "│ CNB     ┆ KPCSM   ┆ 2023 ┆ Prakt. cvičení ze separ. ┆ … ┆ [0]               ┆      ┆      ┆      │\n",
       "│         ┆         ┆      ┆ met. v …                 ┆   ┆                   ┆      ┆      ┆      │\n",
       "└─────────┴─────────┴──────┴──────────────────────────┴───┴───────────────────┴──────┴──────┴──────┘"
      ]
     },
     "execution_count": 26,
     "metadata": {},
     "output_type": "execute_result"
    }
   ],
   "source": [
    "from pprint import pprint\n",
    "# pprint(predmety_by_kat.columns,compact=True)\n",
    "predmety_by_kat.head()"
   ]
  },
  {
   "cell_type": "code",
   "execution_count": 27,
   "metadata": {},
   "outputs": [
    {
     "data": {
      "text/html": [
       "<div><style>\n",
       ".dataframe > thead > tr,\n",
       ".dataframe > tbody > tr {\n",
       "  text-align: right;\n",
       "  white-space: pre-wrap;\n",
       "}\n",
       "</style>\n",
       "<small>shape: (5, 2)</small><table border=\"1\" class=\"dataframe\"><thead><tr><th>jmena</th><th>idno</th></tr><tr><td>str</td><td>i64</td></tr></thead><tbody><tr><td>&quot;Abrahamová Pet…</td><td>8409</td></tr><tr><td>&quot;Ač Alexander, …</td><td>9316</td></tr><tr><td>&quot;Adamec Slavomí…</td><td>5432</td></tr><tr><td>&quot;Adámek Pavel, …</td><td>7443</td></tr><tr><td>&quot;Adam Julie, M.…</td><td>9249</td></tr></tbody></table></div>"
      ],
      "text/plain": [
       "shape: (5, 2)\n",
       "┌──────────────────────────┬──────┐\n",
       "│ jmena                    ┆ idno │\n",
       "│ ---                      ┆ ---  │\n",
       "│ str                      ┆ i64  │\n",
       "╞══════════════════════════╪══════╡\n",
       "│ Abrahamová Petra, Mgr.   ┆ 8409 │\n",
       "│ Ač Alexander, Mgr. Ph.D. ┆ 9316 │\n",
       "│ Adamec Slavomír, Ing.    ┆ 5432 │\n",
       "│ Adámek Pavel, Mgr. Bc.   ┆ 7443 │\n",
       "│ Adam Julie, M.A.         ┆ 9249 │\n",
       "└──────────────────────────┴──────┘"
      ]
     },
     "execution_count": 27,
     "metadata": {},
     "output_type": "execute_result"
    }
   ],
   "source": [
    "ciselnik_ucitelu = pl.read_csv(\"source_tables/ciselnik_ucitelu.csv\").select(\"nazev\", \"key\").rename({\"nazev\":\"jmena\", \"key\":\"idno\"})\n",
    "ciselnik_ucitelu.head()"
   ]
  },
  {
   "cell_type": "code",
   "execution_count": 49,
   "metadata": {},
   "outputs": [
    {
     "data": {
      "text/html": [
       "<div><style>\n",
       ".dataframe > thead > tr,\n",
       ".dataframe > tbody > tr {\n",
       "  text-align: right;\n",
       "  white-space: pre-wrap;\n",
       "}\n",
       "</style>\n",
       "<small>shape: (1, 11)</small><table border=\"1\" class=\"dataframe\"><thead><tr><th>zkratka</th><th>katedra</th><th>rok</th><th>nazev</th><th>garantiUcitIdno</th><th>prednasejici</th><th>prednasejiciUcitIdno</th><th>cvicici</th><th>cviciciUcitIdno</th><th>seminarici</th><th>seminariciUcitIdno</th></tr><tr><td>str</td><td>str</td><td>i64</td><td>str</td><td>list[i64]</td><td>str</td><td>list[i64]</td><td>str</td><td>list[i64]</td><td>str</td><td>list[i64]</td></tr></thead><tbody><tr><td>&quot;B317&quot;</td><td>&quot;KCH&quot;</td><td>2023</td><td>&quot;Membránové sep…</td><td>[3705]</td><td>&quot;&#x27;Ing. Zuzana P…</td><td>[3705]</td><td>&quot;&quot;</td><td>null</td><td>&quot;&quot;</td><td>null</td></tr></tbody></table></div>"
      ],
      "text/plain": [
       "shape: (1, 11)\n",
       "┌─────────┬─────────┬──────┬──────────────┬───┬─────────┬──────────────┬────────────┬──────────────┐\n",
       "│ zkratka ┆ katedra ┆ rok  ┆ nazev        ┆ … ┆ cvicici ┆ cviciciUcitI ┆ seminarici ┆ seminariciUc │\n",
       "│ ---     ┆ ---     ┆ ---  ┆ ---          ┆   ┆ ---     ┆ dno          ┆ ---        ┆ itIdno       │\n",
       "│ str     ┆ str     ┆ i64  ┆ str          ┆   ┆ str     ┆ ---          ┆ str        ┆ ---          │\n",
       "│         ┆         ┆      ┆              ┆   ┆         ┆ list[i64]    ┆            ┆ list[i64]    │\n",
       "╞═════════╪═════════╪══════╪══════════════╪═══╪═════════╪══════════════╪════════════╪══════════════╡\n",
       "│ B317    ┆ KCH     ┆ 2023 ┆ Membránové   ┆ … ┆         ┆ null         ┆            ┆ null         │\n",
       "│         ┆         ┆      ┆ separace     ┆   ┆         ┆              ┆            ┆              │\n",
       "└─────────┴─────────┴──────┴──────────────┴───┴─────────┴──────────────┴────────────┴──────────────┘"
      ]
     },
     "execution_count": 49,
     "metadata": {},
     "output_type": "execute_result"
    }
   ],
   "source": [
    "male_predmety = predmety_by_kat.with_columns(pl.concat_str(pl.col(\"zkratka\"), pl.col(\"katedra\")).alias(\"zkratka + katedra\")).select(pl.col([\"zkratka\", \"katedra\", \"zkratka + katedra\", \"rok\", \"nazev\", \"garantiUcitIdno\", \"prednasejici\", \"prednasejiciUcitIdno\",\"cvicici\", \"cviciciUcitIdno\",\"seminarici\", \"seminariciUcitIdno\"])).unique(subset=\"zkratka + katedra\").drop(\"zkratka + katedra\")\n",
    "#male_predmety = male_predmety.with_columns(pl.col([\"prednasejiciUcitIdno\", \"cviciciUcitIdno\", \"seminariciUcitIdno\", \"garantiUcitIdno\"]).str.split(\", \"))\n",
    "male_predmety.filter(pl.col(\"zkratka\") == \"B317\").head()"
   ]
  },
  {
   "cell_type": "code",
   "execution_count": 29,
   "metadata": {},
   "outputs": [],
   "source": [
    "# přednášející nemá přednášku:\n",
    "filtrovani_prednasejici = male_predmety.select(\"nazev\", \"zkratka\", \"prednasejiciUcitIdno\").explode(\"prednasejiciUcitIdno\")\n",
    "prednasejici_jmena = male_predmety.select(\"prednasejici\").rename({\"prednasejici\":\"jmena\"}).with_columns(pl.col(\"jmena\").str.strip_chars().str.split(\"', \")).explode(\"jmena\")\n",
    "prednasejici_jmena = prednasejici_jmena.with_columns(pl.col(\"jmena\").str.replace(\",\", \"\"))\n",
    "filtrovani_prednasejici = filtrovani_prednasejici.with_columns(prednasejici_jmena).filter(\n",
    "    pl.col(\"prednasejiciUcitIdno\"\n",
    ").is_not_null()).with_columns(\n",
    "    pl.col(\"prednasejiciUcitIdno\").alias(\"idno\")\n",
    ")\n",
    "joined_prednasejici = filtrovani_prednasejici.join(maly_rozvrh, \"idno\", \"left\")\n",
    "prednasejici_bez_prednasek = joined_prednasejici.filter(pl.col(\"typAkceZkr\").is_null())\n",
    "prednasejici_bez_prednasek.select(\"nazev\", \"zkratka\", \"prednasejiciUcitIdno\", \"jmena\").sort(\"prednasejiciUcitIdno\").write_excel(\"results/prednasejici_bez_prednasek.xlsx\")\n",
    "prednasejici_bez_prednasek.select(\"nazev\", \"zkratka\", \"prednasejiciUcitIdno\", \"jmena\").sort(\"prednasejiciUcitIdno\").write_csv(\"results_testing/prednasejici_bez_prednasek.csv\")"
   ]
  },
  {
   "cell_type": "code",
   "execution_count": 56,
   "metadata": {},
   "outputs": [
    {
     "name": "stdout",
     "output_type": "stream",
     "text": [
      "115\n"
     ]
    },
    {
     "data": {
      "text/html": [
       "<div><style>\n",
       ".dataframe > thead > tr,\n",
       ".dataframe > tbody > tr {\n",
       "  text-align: right;\n",
       "  white-space: pre-wrap;\n",
       "}\n",
       "</style>\n",
       "<small>shape: (15, 14)</small><table border=\"1\" class=\"dataframe\"><thead><tr><th>katedra</th><th>zkratka</th><th>idno</th><th>typAkceZkr</th><th>rok</th><th>datumOd</th><th>datumDo</th><th>hodinaSkutOd</th><th>hodinaSkutDo</th><th>katedra_right</th><th>nazev</th><th>prednasejici</th><th>prednasejiciUcitIdno</th><th>jmena</th></tr><tr><td>str</td><td>str</td><td>i64</td><td>str</td><td>i64</td><td>str</td><td>str</td><td>str</td><td>str</td><td>str</td><td>str</td><td>str</td><td>str</td><td>str</td></tr></thead><tbody><tr><td>&quot;KPRF&quot;</td><td>&quot;0101&quot;</td><td>556</td><td>&quot;Př&quot;</td><td>2023</td><td>&quot;2.10.2023&quot;</td><td>&quot;18.12.2023&quot;</td><td>&quot;16:00&quot;</td><td>&quot;17:50&quot;</td><td>&quot;KPRF&quot;</td><td>&quot;Úvod do meteor…</td><td>&quot;&quot;</td><td>null</td><td>null</td></tr><tr><td>&quot;KCH&quot;</td><td>&quot;B100&quot;</td><td>2856</td><td>&quot;Př&quot;</td><td>2023</td><td>&quot;3.10.2023&quot;</td><td>&quot;2.1.2024&quot;</td><td>&quot;12:00&quot;</td><td>&quot;13:50&quot;</td><td>&quot;KCH&quot;</td><td>&quot;Úvod do chemie…</td><td>&quot;&#x27;doc. RNDr. Ja…</td><td>&quot;2855&quot;</td><td>&quot;Škvorová Magda…</td></tr><tr><td>&quot;KCH&quot;</td><td>&quot;B104&quot;</td><td>8421</td><td>&quot;Př&quot;</td><td>2023</td><td>&quot;20.2.2024&quot;</td><td>&quot;14.5.2024&quot;</td><td>&quot;12:00&quot;</td><td>&quot;13:50&quot;</td><td>&quot;KCH&quot;</td><td>&quot;Anorganická ch…</td><td>&quot;&#x27;RNDr. Václav …</td><td>&quot;4310&quot;</td><td>&quot;Vojtíšek Pavel…</td></tr><tr><td>&quot;KGEO&quot;</td><td>&quot;B203&quot;</td><td>3164</td><td>&quot;Př&quot;</td><td>2023</td><td>&quot;21.2.2024&quot;</td><td>&quot;15.5.2024&quot;</td><td>&quot;17:00&quot;</td><td>&quot;18:50&quot;</td><td>&quot;KGEO&quot;</td><td>&quot;Geografie Česk…</td><td>&quot;&#x27;doc. Mgr. Pav…</td><td>&quot;1434&quot;</td><td>&quot;Riezner Jiří, …</td></tr><tr><td>&quot;KGEO&quot;</td><td>&quot;B206&quot;</td><td>6384</td><td>&quot;Př&quot;</td><td>2023</td><td>&quot;21.2.2024&quot;</td><td>&quot;15.5.2024&quot;</td><td>&quot;08:00&quot;</td><td>&quot;09:50&quot;</td><td>&quot;KGEO&quot;</td><td>&quot;Regionální geo…</td><td>&quot;&#x27;doc. RNDr. Ji…</td><td>&quot;312&quot;</td><td>&quot;Trahorsch Petr…</td></tr><tr><td>&hellip;</td><td>&hellip;</td><td>&hellip;</td><td>&hellip;</td><td>&hellip;</td><td>&hellip;</td><td>&hellip;</td><td>&hellip;</td><td>&hellip;</td><td>&hellip;</td><td>&hellip;</td><td>&hellip;</td><td>&hellip;</td><td>&hellip;</td></tr><tr><td>&quot;KGEO&quot;</td><td>&quot;B508&quot;</td><td>8027</td><td>&quot;Př&quot;</td><td>2023</td><td>&quot;3.10.2023&quot;</td><td>&quot;2.1.2024&quot;</td><td>&quot;17:00&quot;</td><td>&quot;18:50&quot;</td><td>&quot;KGEO&quot;</td><td>&quot;Ochrana přírod…</td><td>&quot;&#x27;RNDr. Tomáš M…</td><td>&quot;1472&quot;</td><td>null</td></tr><tr><td>&quot;KGEO&quot;</td><td>&quot;B602&quot;</td><td>9521</td><td>&quot;Př&quot;</td><td>2023</td><td>&quot;19.2.2024&quot;</td><td>&quot;13.5.2024&quot;</td><td>&quot;14:00&quot;</td><td>&quot;15:50&quot;</td><td>&quot;KGEO&quot;</td><td>&quot;Specializační …</td><td>&quot;&#x27;Mgr. Petr Mey…</td><td>&quot;5855&quot;</td><td>&quot;Vaverka Lukáš,…</td></tr><tr><td>&quot;KGEO&quot;</td><td>&quot;B602&quot;</td><td>3528</td><td>&quot;Př&quot;</td><td>2023</td><td>&quot;19.2.2024&quot;</td><td>&quot;13.5.2024&quot;</td><td>&quot;14:00&quot;</td><td>&quot;15:50&quot;</td><td>&quot;KGEO&quot;</td><td>&quot;Specializační …</td><td>&quot;&#x27;Mgr. Petr Mey…</td><td>&quot;5855&quot;</td><td>&quot;Kučerová Silvi…</td></tr><tr><td>&quot;KGEO&quot;</td><td>&quot;B609&quot;</td><td>3528</td><td>&quot;Př&quot;</td><td>2023</td><td>&quot;19.2.2024&quot;</td><td>&quot;13.5.2024&quot;</td><td>&quot;14:00&quot;</td><td>&quot;15:50&quot;</td><td>&quot;KGEO&quot;</td><td>&quot;Specializační …</td><td>&quot;&#x27;Mgr. Petr Mey…</td><td>&quot;5855, 1434&quot;</td><td>&quot;Kučerová Silvi…</td></tr><tr><td>&quot;KGEO&quot;</td><td>&quot;B609&quot;</td><td>9521</td><td>&quot;Př&quot;</td><td>2023</td><td>&quot;19.2.2024&quot;</td><td>&quot;13.5.2024&quot;</td><td>&quot;14:00&quot;</td><td>&quot;15:50&quot;</td><td>&quot;KGEO&quot;</td><td>&quot;Specializační …</td><td>&quot;&#x27;Mgr. Petr Mey…</td><td>&quot;5855, 1434&quot;</td><td>&quot;Vaverka Lukáš,…</td></tr></tbody></table></div>"
      ],
      "text/plain": [
       "shape: (15, 14)\n",
       "┌─────────┬─────────┬──────┬────────────┬───┬─────────────┬─────────────┬─────────────┬────────────┐\n",
       "│ katedra ┆ zkratka ┆ idno ┆ typAkceZkr ┆ … ┆ nazev       ┆ prednasejic ┆ prednasejic ┆ jmena      │\n",
       "│ ---     ┆ ---     ┆ ---  ┆ ---        ┆   ┆ ---         ┆ i           ┆ iUcitIdno   ┆ ---        │\n",
       "│ str     ┆ str     ┆ i64  ┆ str        ┆   ┆ str         ┆ ---         ┆ ---         ┆ str        │\n",
       "│         ┆         ┆      ┆            ┆   ┆             ┆ str         ┆ str         ┆            │\n",
       "╞═════════╪═════════╪══════╪════════════╪═══╪═════════════╪═════════════╪═════════════╪════════════╡\n",
       "│ KPRF    ┆ 0101    ┆ 556  ┆ Př         ┆ … ┆ Úvod do met ┆             ┆ null        ┆ null       │\n",
       "│         ┆         ┆      ┆            ┆   ┆ eorologie   ┆             ┆             ┆            │\n",
       "│ KCH     ┆ B100    ┆ 2856 ┆ Př         ┆ … ┆ Úvod do     ┆ 'doc. RNDr. ┆ 2855        ┆ Škvorová   │\n",
       "│         ┆         ┆      ┆            ┆   ┆ chemie      ┆ Jan Jirsák, ┆             ┆ Magda,     │\n",
       "│         ┆         ┆      ┆            ┆   ┆             ┆ Ph.D.'      ┆             ┆ Ing. Ph.D. │\n",
       "│ KCH     ┆ B104    ┆ 8421 ┆ Př         ┆ … ┆ Anorganická ┆ 'RNDr.      ┆ 4310        ┆ Vojtíšek   │\n",
       "│         ┆         ┆      ┆            ┆   ┆ chemie      ┆ Václav      ┆             ┆ Pavel,     │\n",
       "│         ┆         ┆      ┆            ┆   ┆             ┆ Šícha,      ┆             ┆ doc. RNDr. │\n",
       "│         ┆         ┆      ┆            ┆   ┆             ┆ Ph.D.'      ┆             ┆ CSc.       │\n",
       "│ KGEO    ┆ B203    ┆ 3164 ┆ Př         ┆ … ┆ Geografie   ┆ 'doc. Mgr.  ┆ 1434        ┆ Riezner    │\n",
       "│         ┆         ┆      ┆            ┆   ┆ Česka I     ┆ Pavel       ┆             ┆ Jiří, Mgr. │\n",
       "│         ┆         ┆      ┆            ┆   ┆             ┆ Raška,      ┆             ┆ Ph.D.      │\n",
       "│         ┆         ┆      ┆            ┆   ┆             ┆ Ph.D.'      ┆             ┆            │\n",
       "│ KGEO    ┆ B206    ┆ 6384 ┆ Př         ┆ … ┆ Regionální  ┆ 'doc. RNDr. ┆ 312         ┆ Trahorsch  │\n",
       "│         ┆         ┆      ┆            ┆   ┆ geografie I ┆ Jiří Anděl, ┆             ┆ Petr, Mgr. │\n",
       "│         ┆         ┆      ┆            ┆   ┆             ┆ CSc.'       ┆             ┆ Ph.D.      │\n",
       "│ …       ┆ …       ┆ …    ┆ …          ┆ … ┆ …           ┆ …           ┆ …           ┆ …          │\n",
       "│ KGEO    ┆ B508    ┆ 8027 ┆ Př         ┆ … ┆ Ochrana     ┆ 'RNDr.      ┆ 1472        ┆ null       │\n",
       "│         ┆         ┆      ┆            ┆   ┆ přírody a   ┆ Tomáš       ┆             ┆            │\n",
       "│         ┆         ┆      ┆            ┆   ┆ krajiny     ┆ Matějček,   ┆             ┆            │\n",
       "│         ┆         ┆      ┆            ┆   ┆             ┆ Ph.D.'      ┆             ┆            │\n",
       "│ KGEO    ┆ B602    ┆ 9521 ┆ Př         ┆ … ┆ Specializač ┆ 'Mgr. Petr  ┆ 5855        ┆ Vaverka    │\n",
       "│         ┆         ┆      ┆            ┆   ┆ ní          ┆ Meyer,      ┆             ┆ Lukáš,     │\n",
       "│         ┆         ┆      ┆            ┆   ┆ přednášky   ┆ Ph.D.'      ┆             ┆ Mgr.       │\n",
       "│         ┆         ┆      ┆            ┆   ┆ ze SG       ┆             ┆             ┆            │\n",
       "│ KGEO    ┆ B602    ┆ 3528 ┆ Př         ┆ … ┆ Specializač ┆ 'Mgr. Petr  ┆ 5855        ┆ Kučerová   │\n",
       "│         ┆         ┆      ┆            ┆   ┆ ní          ┆ Meyer,      ┆             ┆ Silvie     │\n",
       "│         ┆         ┆      ┆            ┆   ┆ přednášky   ┆ Ph.D.'      ┆             ┆ Rita,      │\n",
       "│         ┆         ┆      ┆            ┆   ┆ ze SG       ┆             ┆             ┆ RNDr.      │\n",
       "│         ┆         ┆      ┆            ┆   ┆             ┆             ┆             ┆ Ph.D…      │\n",
       "│ KGEO    ┆ B609    ┆ 3528 ┆ Př         ┆ … ┆ Specializač ┆ 'Mgr. Petr  ┆ 5855, 1434  ┆ Kučerová   │\n",
       "│         ┆         ┆      ┆            ┆   ┆ ní          ┆ Meyer,      ┆             ┆ Silvie     │\n",
       "│         ┆         ┆      ┆            ┆   ┆ přednášky z ┆ Ph.D.',     ┆             ┆ Rita,      │\n",
       "│         ┆         ┆      ┆            ┆   ┆ geogra…     ┆ 'doc. …     ┆             ┆ RNDr.      │\n",
       "│         ┆         ┆      ┆            ┆   ┆             ┆             ┆             ┆ Ph.D…      │\n",
       "│ KGEO    ┆ B609    ┆ 9521 ┆ Př         ┆ … ┆ Specializač ┆ 'Mgr. Petr  ┆ 5855, 1434  ┆ Vaverka    │\n",
       "│         ┆         ┆      ┆            ┆   ┆ ní          ┆ Meyer,      ┆             ┆ Lukáš,     │\n",
       "│         ┆         ┆      ┆            ┆   ┆ přednášky z ┆ Ph.D.',     ┆             ┆ Mgr.       │\n",
       "│         ┆         ┆      ┆            ┆   ┆ geogra…     ┆ 'doc. …     ┆             ┆            │\n",
       "└─────────┴─────────┴──────┴────────────┴───┴─────────────┴─────────────┴─────────────┴────────────┘"
      ]
     },
     "execution_count": 56,
     "metadata": {},
     "output_type": "execute_result"
    }
   ],
   "source": [
    "#WEIRD STUFF: Učitel 8027 u KGEO/B508\n",
    "# otherwise looks pretty good\n",
    "\n",
    "male_prednasky = maly_rozvrh.filter(pl.col(\"typAkceZkr\") == \"Př\")\n",
    "joined_prednasky = male_prednasky.join(male_predmety.select(\"zkratka\", \"katedra\", \"nazev\", \"prednasejici\", \"prednasejiciUcitIdno\"), \"zkratka\", \"left\").unique()\n",
    "prednasky_bez_prednasejicich = joined_prednasky.filter(pl.col(\"idno\").is_in(pl.col(\"prednasejiciUcitIdno\")).not_() & ((pl.col(\"katedra\") == pl.col(\"katedra_right\")) | pl.col(\"katedra_right\").is_null()))\n",
    "\n",
    "prednasky_bez_prednasejicich = prednasky_bez_prednasejicich.join(ciselnik_ucitelu, \"idno\", \"left\").with_columns(pl.col(\"prednasejiciUcitIdno\").cast(pl.List(pl.Utf8)).list.join(\", \")).sort(\"zkratka\")\n",
    "\n",
    "prednasky_bez_prednasejicich.write_csv(\"results_testing/prednasky_bez_prednasejicich.csv\")\n",
    "prednasky_bez_prednasejicich.write_excel(\"results/prednasky_bez_prednasejicich.xlsx\")\n",
    "\n",
    "\n",
    "print(prednasky_bez_prednasejicich.__len__())\n",
    "prednasky_bez_prednasejicich.head(15)"
   ]
  },
  {
   "cell_type": "code",
   "execution_count": null,
   "metadata": {},
   "outputs": [],
   "source": [
    "# cvičící nemá cvičení:\n",
    "filtrovani_cvicici = male_predmety.select(\"nazev\", \"zkratka\", \"cviciciUcitIdno\").explode(\"cviciciUcitIdno\")\n",
    "cvicici_jmena = male_predmety.select(\"cvicici\").rename({\"cvicici\":\"jmena\"}).with_columns(pl.col(\"jmena\").str.strip_chars().str.split(\"', \")).explode(\"jmena\")\n",
    "cvicici_jmena = cvicici_jmena.with_columns(pl.col(\"jmena\").str.replace(\",\", \"\"))\n",
    "filtrovani_cvicici = filtrovani_cvicici.with_columns(cvicici_jmena).filter(\n",
    "    pl.col(\"cviciciUcitIdno\"\n",
    ").is_not_null()).with_columns(\n",
    "    pl.col(\"cviciciUcitIdno\").alias(\"idno\")\n",
    ")\n",
    "joined_cvicici = filtrovani_cvicici.join(maly_rozvrh, \"idno\", \"left\")\n",
    "cvicici_bez_cviceni = joined_cvicici.filter(pl.col(\"typAkceZkr\").is_null())\n",
    "cvicici_bez_cviceni.select(\"nazev\", \"zkratka\", \"cviciciUcitIdno\").sort(\"cviciciUcitIdno\").write_excel(\"results/cvicici_bez_cviceni.xlsx\")\n",
    "cvicici_bez_cviceni.select(\"nazev\", \"zkratka\", \"cviciciUcitIdno\", \"jmena\").sort(\"cviciciUcitIdno\").write_csv(\"results_testing/cvicici_bez_cviceni.csv\")"
   ]
  },
  {
   "cell_type": "code",
   "execution_count": 54,
   "metadata": {},
   "outputs": [
    {
     "name": "stdout",
     "output_type": "stream",
     "text": [
      "260\n"
     ]
    },
    {
     "data": {
      "text/html": [
       "<div><style>\n",
       ".dataframe > thead > tr,\n",
       ".dataframe > tbody > tr {\n",
       "  text-align: right;\n",
       "  white-space: pre-wrap;\n",
       "}\n",
       "</style>\n",
       "<small>shape: (15, 14)</small><table border=\"1\" class=\"dataframe\"><thead><tr><th>katedra</th><th>zkratka</th><th>idno</th><th>typAkceZkr</th><th>rok</th><th>datumOd</th><th>datumDo</th><th>hodinaSkutOd</th><th>hodinaSkutDo</th><th>katedra_right</th><th>nazev</th><th>cvicici</th><th>cviciciUcitIdno</th><th>jmena</th></tr><tr><td>str</td><td>str</td><td>i64</td><td>str</td><td>i64</td><td>str</td><td>str</td><td>str</td><td>str</td><td>str</td><td>str</td><td>str</td><td>str</td><td>str</td></tr></thead><tbody><tr><td>&quot;KGEO&quot;</td><td>&quot;0165&quot;</td><td>9282</td><td>&quot;Cv&quot;</td><td>2023</td><td>&quot;21.2.2024&quot;</td><td>&quot;15.5.2024&quot;</td><td>&quot;12:00&quot;</td><td>&quot;13:50&quot;</td><td>&quot;KGEO&quot;</td><td>&quot;Hodnotová orie…</td><td>&quot;&quot;</td><td>null</td><td>&quot;Vyhnánková Kat…</td></tr><tr><td>&quot;KFY&quot;</td><td>&quot;0219&quot;</td><td>7723</td><td>&quot;Cv&quot;</td><td>2023</td><td>&quot;4.10.2023&quot;</td><td>&quot;3.1.2024&quot;</td><td>&quot;16:00&quot;</td><td>&quot;17:50&quot;</td><td>&quot;KFY&quot;</td><td>&quot;CFD Simulace&quot;</td><td>&quot;&#x27;doc. Ing. Jar…</td><td>&quot;1803&quot;</td><td>&quot;Kramoliš David…</td></tr><tr><td>&quot;KGEO&quot;</td><td>&quot;0A00&quot;</td><td>6919</td><td>&quot;Cv&quot;</td><td>2023</td><td>&quot;4.10.2023&quot;</td><td>&quot;3.1.2024&quot;</td><td>&quot;13:00&quot;</td><td>&quot;14:50&quot;</td><td>&quot;KGEO&quot;</td><td>&quot;Diplomová prác…</td><td>&quot;&#x27;RNDr. Silvie …</td><td>&quot;3528&quot;</td><td>&quot;Píša Jan, Mgr.…</td></tr><tr><td>&quot;KCH&quot;</td><td>&quot;ACH&quot;</td><td>9301</td><td>&quot;Cv&quot;</td><td>2023</td><td>&quot;21.2.2024&quot;</td><td>&quot;15.5.2024&quot;</td><td>&quot;11:00&quot;</td><td>&quot;11:50&quot;</td><td>&quot;KCH&quot;</td><td>&quot;Anorganická ch…</td><td>&quot;&#x27;RNDr. Václav …</td><td>&quot;4310&quot;</td><td>&quot;Greguš Viktor,…</td></tr><tr><td>&quot;KCH&quot;</td><td>&quot;B100&quot;</td><td>2856</td><td>&quot;Cv&quot;</td><td>2023</td><td>&quot;5.10.2023&quot;</td><td>&quot;4.1.2024&quot;</td><td>&quot;10:00&quot;</td><td>&quot;11:50&quot;</td><td>&quot;KCH&quot;</td><td>&quot;Úvod do chemie…</td><td>&quot;&#x27;doc. RNDr. Ja…</td><td>&quot;2855&quot;</td><td>&quot;Škvorová Magda…</td></tr><tr><td>&hellip;</td><td>&hellip;</td><td>&hellip;</td><td>&hellip;</td><td>&hellip;</td><td>&hellip;</td><td>&hellip;</td><td>&hellip;</td><td>&hellip;</td><td>&hellip;</td><td>&hellip;</td><td>&hellip;</td><td>&hellip;</td><td>&hellip;</td></tr><tr><td>&quot;KCH&quot;</td><td>&quot;B104&quot;</td><td>9301</td><td>&quot;Cv&quot;</td><td>2023</td><td>&quot;21.2.2024&quot;</td><td>&quot;15.5.2024&quot;</td><td>&quot;11:00&quot;</td><td>&quot;11:50&quot;</td><td>&quot;KCH&quot;</td><td>&quot;Anorganická ch…</td><td>&quot;&#x27;RNDr. Václav …</td><td>&quot;4310&quot;</td><td>&quot;Greguš Viktor,…</td></tr><tr><td>&quot;KGEO&quot;</td><td>&quot;B104&quot;</td><td>8819</td><td>&quot;Cv&quot;</td><td>2023</td><td>&quot;5.10.2023&quot;</td><td>&quot;4.1.2024&quot;</td><td>&quot;10:00&quot;</td><td>&quot;11:50&quot;</td><td>&quot;KGEO&quot;</td><td>&quot;Geografická ka…</td><td>&quot;&#x27;doc. PhDr. RN…</td><td>&quot;3452, 5855&quot;</td><td>&quot;Bartůněk Marti…</td></tr><tr><td>&quot;KCH&quot;</td><td>&quot;B107&quot;</td><td>4310</td><td>&quot;Cv&quot;</td><td>2023</td><td>&quot;2.5.2024&quot;</td><td>&quot;2.5.2024&quot;</td><td>&quot;13:00&quot;</td><td>&quot;13:50&quot;</td><td>&quot;KCH&quot;</td><td>&quot;Prezentace kat…</td><td>&quot;&#x27;doc. Ing. Jan…</td><td>&quot;1064&quot;</td><td>&quot;Šícha Václav, …</td></tr><tr><td>&quot;KCH&quot;</td><td>&quot;B107&quot;</td><td>4117</td><td>&quot;Cv&quot;</td><td>2023</td><td>&quot;2.5.2024&quot;</td><td>&quot;2.5.2024&quot;</td><td>&quot;13:00&quot;</td><td>&quot;13:50&quot;</td><td>&quot;KCH&quot;</td><td>&quot;Prezentace kat…</td><td>&quot;&#x27;doc. Ing. Jan…</td><td>&quot;1064&quot;</td><td>&quot;Vrtoch Ľuboš, …</td></tr><tr><td>&quot;KCH&quot;</td><td>&quot;B107&quot;</td><td>1803</td><td>&quot;Cv&quot;</td><td>2023</td><td>&quot;9.5.2024&quot;</td><td>&quot;9.5.2024&quot;</td><td>&quot;13:00&quot;</td><td>&quot;13:50&quot;</td><td>&quot;KCH&quot;</td><td>&quot;Prezentace kat…</td><td>&quot;&#x27;doc. Ing. Jan…</td><td>&quot;1064&quot;</td><td>&quot;Havlica Jaromí…</td></tr></tbody></table></div>"
      ],
      "text/plain": [
       "shape: (15, 14)\n",
       "┌─────────┬─────────┬──────┬────────────┬───┬─────────────┬─────────────┬─────────────┬────────────┐\n",
       "│ katedra ┆ zkratka ┆ idno ┆ typAkceZkr ┆ … ┆ nazev       ┆ cvicici     ┆ cviciciUcit ┆ jmena      │\n",
       "│ ---     ┆ ---     ┆ ---  ┆ ---        ┆   ┆ ---         ┆ ---         ┆ Idno        ┆ ---        │\n",
       "│ str     ┆ str     ┆ i64  ┆ str        ┆   ┆ str         ┆ str         ┆ ---         ┆ str        │\n",
       "│         ┆         ┆      ┆            ┆   ┆             ┆             ┆ str         ┆            │\n",
       "╞═════════╪═════════╪══════╪════════════╪═══╪═════════════╪═════════════╪═════════════╪════════════╡\n",
       "│ KGEO    ┆ 0165    ┆ 9282 ┆ Cv         ┆ … ┆ Hodnotová   ┆             ┆ null        ┆ Vyhnánková │\n",
       "│         ┆         ┆      ┆            ┆   ┆ orientace v ┆             ┆             ┆ Kateřina,  │\n",
       "│         ┆         ┆      ┆            ┆   ┆ rozvoji mí… ┆             ┆             ┆ Mgr.       │\n",
       "│ KFY     ┆ 0219    ┆ 7723 ┆ Cv         ┆ … ┆ CFD         ┆ 'doc. Ing.  ┆ 1803        ┆ Kramoliš   │\n",
       "│         ┆         ┆      ┆            ┆   ┆ Simulace    ┆ Jaromír     ┆             ┆ David,     │\n",
       "│         ┆         ┆      ┆            ┆   ┆             ┆ Havlica,    ┆             ┆ Mgr. Ph.D. │\n",
       "│         ┆         ┆      ┆            ┆   ┆             ┆ Ph.D…       ┆             ┆            │\n",
       "│ KGEO    ┆ 0A00    ┆ 6919 ┆ Cv         ┆ … ┆ Diplomová   ┆ 'RNDr.      ┆ 3528        ┆ Píša Jan,  │\n",
       "│         ┆         ┆      ┆            ┆   ┆ práce z     ┆ Silvie Rita ┆             ┆ Mgr. Ph.D. │\n",
       "│         ┆         ┆      ┆            ┆   ┆ geografie   ┆ Kučerová,   ┆             ┆            │\n",
       "│         ┆         ┆      ┆            ┆   ┆             ┆ Ph.…        ┆             ┆            │\n",
       "│ KCH     ┆ ACH     ┆ 9301 ┆ Cv         ┆ … ┆ Anorganická ┆ 'RNDr.      ┆ 4310        ┆ Greguš     │\n",
       "│         ┆         ┆      ┆            ┆   ┆ chemie      ┆ Václav      ┆             ┆ Viktor,    │\n",
       "│         ┆         ┆      ┆            ┆   ┆             ┆ Šícha,      ┆             ┆ Ing.       │\n",
       "│         ┆         ┆      ┆            ┆   ┆             ┆ Ph.D.'      ┆             ┆            │\n",
       "│ KCH     ┆ B100    ┆ 2856 ┆ Cv         ┆ … ┆ Úvod do     ┆ 'doc. RNDr. ┆ 2855        ┆ Škvorová   │\n",
       "│         ┆         ┆      ┆            ┆   ┆ chemie      ┆ Jan Jirsák, ┆             ┆ Magda,     │\n",
       "│         ┆         ┆      ┆            ┆   ┆             ┆ Ph.D.'      ┆             ┆ Ing. Ph.D. │\n",
       "│ …       ┆ …       ┆ …    ┆ …          ┆ … ┆ …           ┆ …           ┆ …           ┆ …          │\n",
       "│ KCH     ┆ B104    ┆ 9301 ┆ Cv         ┆ … ┆ Anorganická ┆ 'RNDr.      ┆ 4310        ┆ Greguš     │\n",
       "│         ┆         ┆      ┆            ┆   ┆ chemie      ┆ Václav      ┆             ┆ Viktor,    │\n",
       "│         ┆         ┆      ┆            ┆   ┆             ┆ Šícha,      ┆             ┆ Ing.       │\n",
       "│         ┆         ┆      ┆            ┆   ┆             ┆ Ph.D.'      ┆             ┆            │\n",
       "│ KGEO    ┆ B104    ┆ 8819 ┆ Cv         ┆ … ┆ Geografická ┆ 'doc. PhDr. ┆ 3452, 5855  ┆ Bartůněk   │\n",
       "│         ┆         ┆      ┆            ┆   ┆ kartografie ┆ RNDr. Jan   ┆             ┆ Martin,    │\n",
       "│         ┆         ┆      ┆            ┆   ┆             ┆ Daniel Blá… ┆             ┆ Mgr.       │\n",
       "│ KCH     ┆ B107    ┆ 4310 ┆ Cv         ┆ … ┆ Prezentace  ┆ 'doc. Ing.  ┆ 1064        ┆ Šícha      │\n",
       "│         ┆         ┆      ┆            ┆   ┆ katedry     ┆ Jan Čermák, ┆             ┆ Václav,    │\n",
       "│         ┆         ┆      ┆            ┆   ┆             ┆ CSc.'       ┆             ┆ RNDr.      │\n",
       "│         ┆         ┆      ┆            ┆   ┆             ┆             ┆             ┆ Ph.D.      │\n",
       "│ KCH     ┆ B107    ┆ 4117 ┆ Cv         ┆ … ┆ Prezentace  ┆ 'doc. Ing.  ┆ 1064        ┆ Vrtoch     │\n",
       "│         ┆         ┆      ┆            ┆   ┆ katedry     ┆ Jan Čermák, ┆             ┆ Ľuboš,     │\n",
       "│         ┆         ┆      ┆            ┆   ┆             ┆ CSc.'       ┆             ┆ RNDr.      │\n",
       "│         ┆         ┆      ┆            ┆   ┆             ┆             ┆             ┆ PhD.,      │\n",
       "│         ┆         ┆      ┆            ┆   ┆             ┆             ┆             ┆ Ph.D.      │\n",
       "│ KCH     ┆ B107    ┆ 1803 ┆ Cv         ┆ … ┆ Prezentace  ┆ 'doc. Ing.  ┆ 1064        ┆ Havlica    │\n",
       "│         ┆         ┆      ┆            ┆   ┆ katedry     ┆ Jan Čermák, ┆             ┆ Jaromír,   │\n",
       "│         ┆         ┆      ┆            ┆   ┆             ┆ CSc.'       ┆             ┆ doc. Ing.  │\n",
       "│         ┆         ┆      ┆            ┆   ┆             ┆             ┆             ┆ Ph.D.      │\n",
       "└─────────┴─────────┴──────┴────────────┴───┴─────────────┴─────────────┴─────────────┴────────────┘"
      ]
     },
     "execution_count": 54,
     "metadata": {},
     "output_type": "execute_result"
    }
   ],
   "source": [
    "#WEIRD STUFF: KGEO/0165 má napsaná cvičení (jak v rozvrhu tak předmětu) ale nemá napsanýho žádnýho učitele (fakt ani garanta, ani jednoho přednášejícího/cvičícího/etc.), tf?\n",
    "\n",
    "male_cviceni = maly_rozvrh.filter(pl.col(\"typAkceZkr\") == \"Cv\")\n",
    "joined_cviceni = male_cviceni.join(male_predmety.select(\"zkratka\", \"katedra\", \"nazev\", \"cvicici\", \"cviciciUcitIdno\"), \"zkratka\", \"left\").unique()\n",
    "cviceni_bez_cvicich = joined_cviceni.filter(pl.col(\"idno\").is_in(pl.col(\"cviciciUcitIdno\")).not_() & ((pl.col(\"katedra\") == pl.col(\"katedra_right\")) | pl.col(\"katedra_right\").is_null()))\n",
    "\n",
    "cviceni_bez_cvicich = cviceni_bez_cvicich.join(ciselnik_ucitelu, \"idno\", \"left\").with_columns(pl.col(\"cviciciUcitIdno\").cast(pl.List(pl.Utf8)).list.join(\", \")).sort(\"zkratka\")\n",
    "\n",
    "cviceni_bez_cvicich.write_csv(\"results_testing/cviceni_bez_cvicich.csv\")\n",
    "cviceni_bez_cvicich.write_excel(\"results/cviceni_bez_cvicich.xlsx\")\n",
    "\n",
    "print(cviceni_bez_cvicich.__len__())\n",
    "cviceni_bez_cvicich.head(15)"
   ]
  },
  {
   "cell_type": "code",
   "execution_count": null,
   "metadata": {},
   "outputs": [
    {
     "data": {
      "text/plain": [
       "<xlsxwriter.workbook.Workbook at 0x1ace3cf5c40>"
      ]
     },
     "execution_count": 33,
     "metadata": {},
     "output_type": "execute_result"
    }
   ],
   "source": [
    "# seminařicí nemá seminář:\n",
    "filtrovani_seminarici = male_predmety.select(\"nazev\", \"zkratka\", \"seminariciUcitIdno\").explode(\"seminariciUcitIdno\")\n",
    "seminarici_jmena = male_predmety.select(\"seminarici\").rename({\"seminarici\":\"jmena\"}).with_columns(pl.col(\"jmena\").str.strip_chars().str.split(\"', \")).explode(\"jmena\")\n",
    "seminarici_jmena = seminarici_jmena.with_columns(pl.col(\"jmena\").str.replace(\",\", \"\"))\n",
    "filtrovani_seminarici = filtrovani_seminarici.with_columns(seminarici_jmena).filter(\n",
    "    pl.col(\"seminariciUcitIdno\"\n",
    ").is_not_null()).with_columns(\n",
    "    pl.col(\"seminariciUcitIdno\").alias(\"idno\")\n",
    ")\n",
    "joined_seminarici = filtrovani_seminarici.join(maly_rozvrh, \"idno\", \"left\")\n",
    "seminarici_bez_seminare = joined_seminarici.filter(pl.col(\"typAkceZkr\").is_null())\n",
    "seminarici_bez_seminare.select(\"nazev\", \"zkratka\", \"seminariciUcitIdno\").sort(\"seminariciUcitIdno\").write_excel(\"results/seminarici_bez_seminare.xlsx\")"
   ]
  },
  {
   "cell_type": "code",
   "execution_count": 58,
   "metadata": {},
   "outputs": [
    {
     "name": "stdout",
     "output_type": "stream",
     "text": [
      "67\n"
     ]
    },
    {
     "data": {
      "text/html": [
       "<div><style>\n",
       ".dataframe > thead > tr,\n",
       ".dataframe > tbody > tr {\n",
       "  text-align: right;\n",
       "  white-space: pre-wrap;\n",
       "}\n",
       "</style>\n",
       "<small>shape: (6, 14)</small><table border=\"1\" class=\"dataframe\"><thead><tr><th>katedra</th><th>zkratka</th><th>idno</th><th>typAkceZkr</th><th>rok</th><th>datumOd</th><th>datumDo</th><th>hodinaSkutOd</th><th>hodinaSkutDo</th><th>katedra_right</th><th>nazev</th><th>seminarici</th><th>seminariciUcitIdno</th><th>jmena</th></tr><tr><td>str</td><td>str</td><td>i64</td><td>str</td><td>i64</td><td>str</td><td>str</td><td>str</td><td>str</td><td>str</td><td>str</td><td>str</td><td>str</td><td>str</td></tr></thead><tbody><tr><td>&quot;KI&quot;</td><td>&quot;0204&quot;</td><td>null</td><td>&quot;Se&quot;</td><td>2023</td><td>&quot;27.2.2024&quot;</td><td>&quot;7.5.2024&quot;</td><td>&quot;15:00&quot;</td><td>&quot;16:50&quot;</td><td>&quot;KI&quot;</td><td>&quot;Microsoft SQL …</td><td>&quot;&#x27;Mgr. Květuše …</td><td>&quot;835&quot;</td><td>null</td></tr><tr><td>&quot;KI&quot;</td><td>&quot;0204&quot;</td><td>null</td><td>&quot;Se&quot;</td><td>2023</td><td>&quot;20.2.2024&quot;</td><td>&quot;14.5.2024&quot;</td><td>&quot;15:00&quot;</td><td>&quot;15:50&quot;</td><td>&quot;KI&quot;</td><td>&quot;Microsoft SQL …</td><td>&quot;&#x27;Mgr. Květuše …</td><td>&quot;835&quot;</td><td>null</td></tr><tr><td>&quot;KCH&quot;</td><td>&quot;B213&quot;</td><td>8946</td><td>&quot;Se&quot;</td><td>2023</td><td>&quot;20.2.2024&quot;</td><td>&quot;14.5.2024&quot;</td><td>&quot;10:00&quot;</td><td>&quot;11:50&quot;</td><td>&quot;KCH&quot;</td><td>&quot;Odborná anglič…</td><td>&quot;&#x27;doc. Ing. Jan…</td><td>&quot;1064&quot;</td><td>&quot;Paříková Anna,…</td></tr><tr><td>&quot;KCH&quot;</td><td>&quot;BK213&quot;</td><td>8946</td><td>&quot;Se&quot;</td><td>2023</td><td>&quot;20.4.2024&quot;</td><td>&quot;20.4.2024&quot;</td><td>&quot;13:00&quot;</td><td>&quot;16:50&quot;</td><td>&quot;KCH&quot;</td><td>&quot;Odborná anglič…</td><td>&quot;&#x27;doc. Ing. Jan…</td><td>&quot;1064&quot;</td><td>&quot;Paříková Anna,…</td></tr><tr><td>&quot;KCH&quot;</td><td>&quot;BK213&quot;</td><td>8946</td><td>&quot;Se&quot;</td><td>2023</td><td>&quot;6.4.2024&quot;</td><td>&quot;6.4.2024&quot;</td><td>&quot;13:00&quot;</td><td>&quot;16:50&quot;</td><td>&quot;KCH&quot;</td><td>&quot;Odborná anglič…</td><td>&quot;&#x27;doc. Ing. Jan…</td><td>&quot;1064&quot;</td><td>&quot;Paříková Anna,…</td></tr><tr><td>&quot;KCH&quot;</td><td>&quot;BK214&quot;</td><td>4226</td><td>&quot;Se&quot;</td><td>2023</td><td>&quot;10.5.2024&quot;</td><td>&quot;10.5.2024&quot;</td><td>&quot;09:00&quot;</td><td>&quot;12:50&quot;</td><td>&quot;KCH&quot;</td><td>&quot;Odborný seminá…</td><td>&quot;&#x27;doc. Ing. Jan…</td><td>&quot;1064&quot;</td><td>&quot;Kadlečková Iva…</td></tr></tbody></table></div>"
      ],
      "text/plain": [
       "shape: (6, 14)\n",
       "┌─────────┬─────────┬──────┬────────────┬───┬─────────────┬─────────────┬─────────────┬────────────┐\n",
       "│ katedra ┆ zkratka ┆ idno ┆ typAkceZkr ┆ … ┆ nazev       ┆ seminarici  ┆ seminariciU ┆ jmena      │\n",
       "│ ---     ┆ ---     ┆ ---  ┆ ---        ┆   ┆ ---         ┆ ---         ┆ citIdno     ┆ ---        │\n",
       "│ str     ┆ str     ┆ i64  ┆ str        ┆   ┆ str         ┆ str         ┆ ---         ┆ str        │\n",
       "│         ┆         ┆      ┆            ┆   ┆             ┆             ┆ str         ┆            │\n",
       "╞═════════╪═════════╪══════╪════════════╪═══╪═════════════╪═════════════╪═════════════╪════════════╡\n",
       "│ KI      ┆ 0204    ┆ null ┆ Se         ┆ … ┆ Microsoft   ┆ 'Mgr.       ┆ 835         ┆ null       │\n",
       "│         ┆         ┆      ┆            ┆   ┆ SQL Server  ┆ Květuše     ┆             ┆            │\n",
       "│         ┆         ┆      ┆            ┆   ┆             ┆ Sýkorová'   ┆             ┆            │\n",
       "│ KI      ┆ 0204    ┆ null ┆ Se         ┆ … ┆ Microsoft   ┆ 'Mgr.       ┆ 835         ┆ null       │\n",
       "│         ┆         ┆      ┆            ┆   ┆ SQL Server  ┆ Květuše     ┆             ┆            │\n",
       "│         ┆         ┆      ┆            ┆   ┆             ┆ Sýkorová'   ┆             ┆            │\n",
       "│ KCH     ┆ B213    ┆ 8946 ┆ Se         ┆ … ┆ Odborná     ┆ 'doc. Ing.  ┆ 1064        ┆ Paříková   │\n",
       "│         ┆         ┆      ┆            ┆   ┆ angličtina  ┆ Jan Čermák, ┆             ┆ Anna, Mgr. │\n",
       "│         ┆         ┆      ┆            ┆   ┆             ┆ CSc.'       ┆             ┆            │\n",
       "│ KCH     ┆ BK213   ┆ 8946 ┆ Se         ┆ … ┆ Odborná     ┆ 'doc. Ing.  ┆ 1064        ┆ Paříková   │\n",
       "│         ┆         ┆      ┆            ┆   ┆ angličtina  ┆ Jan Čermák, ┆             ┆ Anna, Mgr. │\n",
       "│         ┆         ┆      ┆            ┆   ┆             ┆ CSc.'       ┆             ┆            │\n",
       "│ KCH     ┆ BK213   ┆ 8946 ┆ Se         ┆ … ┆ Odborná     ┆ 'doc. Ing.  ┆ 1064        ┆ Paříková   │\n",
       "│         ┆         ┆      ┆            ┆   ┆ angličtina  ┆ Jan Čermák, ┆             ┆ Anna, Mgr. │\n",
       "│         ┆         ┆      ┆            ┆   ┆             ┆ CSc.'       ┆             ┆            │\n",
       "│ KCH     ┆ BK214   ┆ 4226 ┆ Se         ┆ … ┆ Odborný     ┆ 'doc. Ing.  ┆ 1064        ┆ Kadlečková │\n",
       "│         ┆         ┆      ┆            ┆   ┆ seminář A   ┆ Jan Čermák, ┆             ┆ Ivana,     │\n",
       "│         ┆         ┆      ┆            ┆   ┆             ┆ CSc.'       ┆             ┆ Ing.       │\n",
       "└─────────┴─────────┴──────┴────────────┴───┴─────────────┴─────────────┴─────────────┴────────────┘"
      ]
     },
     "execution_count": 58,
     "metadata": {},
     "output_type": "execute_result"
    }
   ],
   "source": [
    "male_seminare = maly_rozvrh.filter(pl.col(\"typAkceZkr\") == \"Se\")\n",
    "joined_seminare = male_seminare.join(male_predmety.select(\"zkratka\", \"katedra\", \"nazev\", \"seminarici\", \"seminariciUcitIdno\"), \"zkratka\", \"left\").unique()\n",
    "seminare_bez_seminaricich = joined_seminare.filter(pl.col(\"idno\").is_in(pl.col(\"seminariciUcitIdno\")).not_() & ((pl.col(\"katedra\") == pl.col(\"katedra_right\")) | pl.col(\"katedra_right\").is_null()))\n",
    "\n",
    "seminare_bez_seminaricich = seminare_bez_seminaricich.join(ciselnik_ucitelu, \"idno\", \"left\").with_columns(pl.col(\"seminariciUcitIdno\").cast(pl.List(pl.Utf8)).list.join(\", \")).sort(\"zkratka\")\n",
    "\n",
    "seminare_bez_seminaricich.write_csv(\"results_testing/seminare_bez_seminaricich.csv\")\n",
    "seminare_bez_seminaricich.write_excel(\"results/seminare_bez_seminaricich.xlsx\")\n",
    "print(seminare_bez_seminaricich.__len__())\n",
    "seminare_bez_seminaricich.head(6)"
   ]
  },
  {
   "cell_type": "code",
   "execution_count": null,
   "metadata": {},
   "outputs": [
    {
     "data": {
      "text/html": [
       "<div><style>\n",
       ".dataframe > thead > tr,\n",
       ".dataframe > tbody > tr {\n",
       "  text-align: right;\n",
       "  white-space: pre-wrap;\n",
       "}\n",
       "</style>\n",
       "<small>shape: (1, 69)</small><table border=\"1\" class=\"dataframe\"><thead><tr><th>katedra</th><th>zkratka</th><th>rok</th><th>nazev</th><th>nazevDlouhy</th><th>vyukaZS</th><th>vyukaLS</th><th>kreditu</th><th>viceZapis</th><th>minObsazeni</th><th>garanti</th><th>garantiSPodily</th><th>garantiUcitIdno</th><th>prednasejici</th><th>prednasejiciSPodily</th><th>prednasejiciUcitIdno</th><th>cvicici</th><th>cviciciSPodily</th><th>cviciciUcitIdno</th><th>seminarici</th><th>seminariciSPodily</th><th>seminariciUcitIdno</th><th>schvalujiciUznani</th><th>schvalujiciUznaniUcitIdno</th><th>examinatori</th><th>examinatoriUcitIdno</th><th>podminujiciPredmety</th><th>vylucujiciPredmety</th><th>podminujePredmety</th><th>literatura</th><th>nahrazPredmety</th><th>metodyVyucovaci</th><th>metodyHodnotici</th><th>akreditovan</th><th>jednotekPrednasek</th><th>jednotkaPrednasky</th><th>jednotekCviceni</th><th>jednotkaCviceni</th><th>jednotekSeminare</th><th>jednotkaSeminare</th><th>anotace</th><th>typZkousky</th><th>maZapocetPredZk</th><th>formaZkousky</th><th>pozadavky</th><th>prehledLatky</th><th>predpoklady</th><th>ziskaneZpusobilosti</th><th>casovaNarocnost</th><th>predmetUrl</th><th>vyucovaciJazyky</th><th>poznamka</th><th>ectsZobrazit</th><th>ectsAkreditace</th><th>ectsNabizetUPrijezdu</th><th>poznamkaVerejna</th><th>skupinaAkreditace</th><th>skupinaAkreditaceKey</th><th>zarazenDoPrezencnihoStudia</th><th>zarazenDoKombinovanehoStudia</th><th>studijniOpory</th><th>praxePocetDnu</th><th>urovenNastavena</th><th>urovenVypoctena</th><th>automatickyUznavatZppZk</th><th>hodZaSemKombForma</th><th>aMax</th><th>bMax</th><th>cMax</th></tr><tr><td>str</td><td>str</td><td>i64</td><td>str</td><td>str</td><td>str</td><td>str</td><td>i64</td><td>str</td><td>str</td><td>str</td><td>str</td><td>list[i64]</td><td>str</td><td>str</td><td>list[i64]</td><td>str</td><td>str</td><td>list[i64]</td><td>str</td><td>str</td><td>list[i64]</td><td>str</td><td>str</td><td>str</td><td>str</td><td>str</td><td>str</td><td>str</td><td>str</td><td>str</td><td>str</td><td>str</td><td>str</td><td>i64</td><td>str</td><td>i64</td><td>str</td><td>i64</td><td>str</td><td>str</td><td>str</td><td>str</td><td>str</td><td>str</td><td>str</td><td>str</td><td>str</td><td>str</td><td>str</td><td>str</td><td>str</td><td>str</td><td>str</td><td>str</td><td>str</td><td>str</td><td>str</td><td>str</td><td>str</td><td>str</td><td>i64</td><td>str</td><td>str</td><td>str</td><td>list[i64]</td><td>str</td><td>str</td><td>str</td></tr></thead><tbody><tr><td>&quot;KI&quot;</td><td>&quot;KTZI2&quot;</td><td>2023</td><td>&quot;Teoretické zák…</td><td>&quot;Teoretické zák…</td><td>&quot;N&quot;</td><td>&quot;A&quot;</td><td>3</td><td>&quot;NE&quot;</td><td>&quot;&quot;</td><td>&quot;&#x27;RNDr. Martin …</td><td>&quot;&#x27;RNDr. Martin …</td><td>[264]</td><td>&quot;&#x27;RNDr. Martin …</td><td>&quot;&#x27;RNDr. Martin …</td><td>[264, 267]</td><td>&quot;&#x27;RNDr. Martin …</td><td>&quot;&#x27;RNDr. Martin …</td><td>[264, 267]</td><td>&quot;&quot;</td><td>&quot;&quot;</td><td>null</td><td>&quot;&quot;</td><td>&quot;&quot;</td><td>&quot;&quot;</td><td>&quot;&quot;</td><td>&quot;KI/KTZI1&quot;</td><td>&quot;&quot;</td><td>&quot;&quot;</td><td>&quot;&#x27;Demel, J. Gra…</td><td>&quot;&quot;</td><td>&quot;&quot;</td><td>&quot;&quot;</td><td>&quot;N&quot;</td><td>6</td><td>&quot;HOD/SEM&quot;</td><td>4</td><td>&quot;HOD/SEM&quot;</td><td>2</td><td>&quot;HOD/SEM&quot;</td><td>&quot;Kurz je koncip…</td><td>&quot;Zápočet&quot;</td><td>&quot;NE&quot;</td><td>&quot;Kombinovaná&quot;</td><td>&quot;Požadavky k zá…</td><td>&quot;1. Rekurence a…</td><td>&quot;&quot;</td><td>&quot;&quot;</td><td>&quot;&quot;</td><td>&quot;&quot;</td><td>&quot;Čeština&quot;</td><td>&quot;&quot;</td><td>&quot;A&quot;</td><td>&quot;N&quot;</td><td>&quot;N&quot;</td><td>&quot;&quot;</td><td>&quot;&quot;</td><td>&quot;&quot;</td><td>&quot;N&quot;</td><td>&quot;A&quot;</td><td>&quot;&quot;</td><td>0</td><td>&quot;&quot;</td><td>&quot;Bc.&quot;</td><td>&quot;A&quot;</td><td>[0]</td><td>&quot;&quot;</td><td>&quot;&quot;</td><td>&quot;&quot;</td></tr></tbody></table></div>"
      ],
      "text/plain": [
       "shape: (1, 69)\n",
       "┌─────────┬─────────┬──────┬────────────────────┬───┬───────────────────┬──────┬──────┬──────┐\n",
       "│ katedra ┆ zkratka ┆ rok  ┆ nazev              ┆ … ┆ hodZaSemKombForma ┆ aMax ┆ bMax ┆ cMax │\n",
       "│ ---     ┆ ---     ┆ ---  ┆ ---                ┆   ┆ ---               ┆ ---  ┆ ---  ┆ ---  │\n",
       "│ str     ┆ str     ┆ i64  ┆ str                ┆   ┆ list[i64]         ┆ str  ┆ str  ┆ str  │\n",
       "╞═════════╪═════════╪══════╪════════════════════╪═══╪═══════════════════╪══════╪══════╪══════╡\n",
       "│ KI      ┆ KTZI2   ┆ 2023 ┆ Teoretické základy ┆ … ┆ [0]               ┆      ┆      ┆      │\n",
       "│         ┆         ┆      ┆ informatiky I…     ┆   ┆                   ┆      ┆      ┆      │\n",
       "└─────────┴─────────┴──────┴────────────────────┴───┴───────────────────┴──────┴──────┴──────┘"
      ]
     },
     "execution_count": 35,
     "metadata": {},
     "output_type": "execute_result"
    }
   ],
   "source": [
    "predmety_by_kat.filter(pl.col(\"zkratka\") == \"KTZI2\").head()"
   ]
  },
  {
   "attachments": {},
   "cell_type": "markdown",
   "metadata": {},
   "source": [
    "### warning, když je mezi vyučujícími někdo bez odpovídajícího typu rozvrhové akce"
   ]
  },
  {
   "attachments": {},
   "cell_type": "markdown",
   "metadata": {},
   "source": [
    "Pro každého učitele vypíšu předměty, u kterých má mít nějakou akci.\n",
    "\n",
    "Takže budu mít dataframe, kde bude učitel, zkratka, a jeden sloupeček za každý typ akce, kde učitel bude muset mít aspoň 1 narozvrhovaný typ akce s daným předmětem, kde je hodnota `True`\n"
   ]
  },
  {
   "cell_type": "code",
   "execution_count": null,
   "metadata": {},
   "outputs": [
    {
     "data": {
      "text/plain": [
       "[shape: (3,)\n",
       " Series: 'typAkceZkr' [str]\n",
       " [\n",
       " \t\"Se\"\n",
       " \t\"Př\"\n",
       " \t\"Cv\"\n",
       " ]]"
      ]
     },
     "execution_count": 36,
     "metadata": {},
     "output_type": "execute_result"
    }
   ],
   "source": [
    "# vypíšu typy akcí\n",
    "list(maly_rozvrh.select(pl.col(\"typAkceZkr\").unique()))"
   ]
  },
  {
   "cell_type": "code",
   "execution_count": null,
   "metadata": {},
   "outputs": [],
   "source": []
  },
  {
   "attachments": {},
   "cell_type": "markdown",
   "metadata": {},
   "source": [
    "### garant předmětu by měl být někde mezi vyučujícími rozvrhových akcí a pokud má předmět přednášku, měl by být i mezi přednášejícími v rámci rozvrhových akcí"
   ]
  },
  {
   "cell_type": "code",
   "execution_count": null,
   "metadata": {},
   "outputs": [],
   "source": []
  },
  {
   "attachments": {},
   "cell_type": "markdown",
   "metadata": {},
   "source": [
    "### Změny proti akreditacím."
   ]
  },
  {
   "cell_type": "code",
   "execution_count": null,
   "metadata": {},
   "outputs": [],
   "source": []
  },
  {
   "attachments": {},
   "cell_type": "markdown",
   "metadata": {},
   "source": [
    "### Porovnat revize předmětů\n",
    "\n",
    "tj. parametry předmětů pro aktuální akademický rok a pro příští."
   ]
  },
  {
   "attachments": {},
   "cell_type": "markdown",
   "metadata": {},
   "source": [
    "> jakou to má mít podobu?"
   ]
  },
  {
   "cell_type": "code",
   "execution_count": null,
   "metadata": {},
   "outputs": [],
   "source": []
  }
 ],
 "metadata": {
  "kernelspec": {
   "display_name": "venv",
   "language": "python",
   "name": "python3"
  },
  "language_info": {
   "codemirror_mode": {
    "name": "ipython",
    "version": 3
   },
   "file_extension": ".py",
   "mimetype": "text/x-python",
   "name": "python",
   "nbconvert_exporter": "python",
   "pygments_lexer": "ipython3",
   "version": "3.12.0"
  },
  "orig_nbformat": 4
 },
 "nbformat": 4,
 "nbformat_minor": 2
}

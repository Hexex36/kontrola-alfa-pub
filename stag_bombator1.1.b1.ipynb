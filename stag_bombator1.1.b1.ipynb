{
 "cells": [
  {
   "cell_type": "code",
   "execution_count": 2,
   "metadata": {},
   "outputs": [],
   "source": [
    "import polars as pl\n",
    "from pprint import pprint"
   ]
  },
  {
   "cell_type": "code",
   "execution_count": 71,
   "metadata": {},
   "outputs": [],
   "source": [
    "def fix_str_to_int(data:pl.DataFrame, fix_list:list, type:any=pl.Int64):\n",
    "    conversion_dict = {column:pl.Int64 for column in fix_list}\n",
    "    data = data.with_columns(pl.col(fix_list).str.split(\",\"))\n",
    "    data = data.with_columns(pl.col(fix_list).list.eval(pl.element().str.strip()))\n",
    "    data = data.with_columns(pl.col(fix_list).list.eval(pl.element().cast(pl.Int64, strict=False)))\n",
    "\n",
    "    for column in fix_list:\n",
    "        data = data.with_columns(pl.when(pl.col(column).list.eval(pl.element().is_null()).list.any()).then(None).otherwise(pl.col(column)).alias(\"bools\"))\n",
    "        data = data.select(replace(data, data.get_column_index(column), \"bools\")).rename({\"bools\":column})\n",
    "    \n",
    "    # data = data.with_columns(pl.col(fix_list).str.strip().str.replace(\"\",\"0\")).cast(conversion_dict)\n",
    "\n",
    "    return data\n",
    "\n",
    "\n",
    "# Abych nebyl nařčen z plagiátorství, zdroj: https://stackoverflow.com/questions/75954280/how-to-change-the-position-of-a-single-column-in-python-polars-library\n",
    "def replace(df, new_position, col_name):\n",
    "    neworder=df.columns\n",
    "    neworder.pop(new_position)\n",
    "    neworder.remove(col_name)\n",
    "    neworder.insert(new_position,col_name)\n",
    "    return neworder\n"
   ]
  },
  {
   "cell_type": "code",
   "execution_count": 72,
   "metadata": {},
   "outputs": [
    {
     "name": "stderr",
     "output_type": "stream",
     "text": [
      "C:\\Users\\Matej\\AppData\\Local\\Temp\\ipykernel_16204\\1838726611.py:4: DeprecationWarning: `strip` is deprecated. It has been renamed to `strip_chars`.\n",
      "  data = data.with_columns(pl.col(fix_list).list.eval(pl.element().str.strip()))\n"
     ]
    },
    {
     "data": {
      "text/html": [
       "<div><style>\n",
       ".dataframe > thead > tr,\n",
       ".dataframe > tbody > tr {\n",
       "  text-align: right;\n",
       "  white-space: pre-wrap;\n",
       "}\n",
       "</style>\n",
       "<small>shape: (10, 69)</small><table border=\"1\" class=\"dataframe\"><thead><tr><th>katedra</th><th>zkratka</th><th>rok</th><th>nazev</th><th>nazevDlouhy</th><th>vyukaZS</th><th>vyukaLS</th><th>kreditu</th><th>viceZapis</th><th>minObsazeni</th><th>garanti</th><th>garantiSPodily</th><th>garantiUcitIdno</th><th>prednasejici</th><th>prednasejiciSPodily</th><th>prednasejiciUcitIdno</th><th>cvicici</th><th>cviciciSPodily</th><th>cviciciUcitIdno</th><th>seminarici</th><th>seminariciSPodily</th><th>seminariciUcitIdno</th><th>schvalujiciUznani</th><th>schvalujiciUznaniUcitIdno</th><th>examinatori</th><th>examinatoriUcitIdno</th><th>podminujiciPredmety</th><th>vylucujiciPredmety</th><th>podminujePredmety</th><th>literatura</th><th>nahrazPredmety</th><th>metodyVyucovaci</th><th>metodyHodnotici</th><th>akreditovan</th><th>jednotekPrednasek</th><th>jednotkaPrednasky</th><th>jednotekCviceni</th><th>jednotkaCviceni</th><th>jednotekSeminare</th><th>jednotkaSeminare</th><th>anotace</th><th>typZkousky</th><th>maZapocetPredZk</th><th>formaZkousky</th><th>pozadavky</th><th>prehledLatky</th><th>predpoklady</th><th>ziskaneZpusobilosti</th><th>casovaNarocnost</th><th>predmetUrl</th><th>vyucovaciJazyky</th><th>poznamka</th><th>ectsZobrazit</th><th>ectsAkreditace</th><th>ectsNabizetUPrijezdu</th><th>poznamkaVerejna</th><th>skupinaAkreditace</th><th>skupinaAkreditaceKey</th><th>zarazenDoPrezencnihoStudia</th><th>zarazenDoKombinovanehoStudia</th><th>studijniOpory</th><th>praxePocetDnu</th><th>urovenNastavena</th><th>urovenVypoctena</th><th>automatickyUznavatZppZk</th><th>hodZaSemKombForma</th><th>aMax</th><th>bMax</th><th>cMax</th></tr><tr><td>str</td><td>str</td><td>i64</td><td>str</td><td>str</td><td>str</td><td>str</td><td>i64</td><td>str</td><td>str</td><td>str</td><td>str</td><td>list[i64]</td><td>str</td><td>str</td><td>list[i64]</td><td>str</td><td>str</td><td>list[i64]</td><td>str</td><td>str</td><td>list[i64]</td><td>str</td><td>str</td><td>str</td><td>str</td><td>str</td><td>str</td><td>str</td><td>str</td><td>str</td><td>str</td><td>str</td><td>str</td><td>i64</td><td>str</td><td>i64</td><td>str</td><td>i64</td><td>str</td><td>str</td><td>str</td><td>str</td><td>str</td><td>str</td><td>str</td><td>str</td><td>str</td><td>str</td><td>str</td><td>str</td><td>str</td><td>str</td><td>str</td><td>str</td><td>str</td><td>str</td><td>str</td><td>str</td><td>str</td><td>str</td><td>i64</td><td>str</td><td>str</td><td>str</td><td>list[i64]</td><td>str</td><td>str</td><td>str</td></tr></thead><tbody><tr><td>&quot;KI&quot;</td><td>&quot;APSIM&quot;</td><td>2023</td><td>&quot;System Simulat…</td><td>&quot;System Simulat…</td><td>&quot;A&quot;</td><td>&quot;N&quot;</td><td>1</td><td>&quot;NE&quot;</td><td>&quot;&quot;</td><td>&quot;&#x27;Mgr. Jiří Fiš…</td><td>&quot;&#x27;Mgr. Jiří Fiš…</td><td>[251]</td><td>&quot;&quot;</td><td>&quot;&quot;</td><td>null</td><td>&quot;&quot;</td><td>&quot;&quot;</td><td>null</td><td>&quot;&#x27;Mgr. Jiří Fiš…</td><td>&quot;&#x27;Mgr. Jiří Fiš…</td><td>[251, 3521]</td><td>&quot;&quot;</td><td>&quot;&quot;</td><td>&quot;&quot;</td><td>&quot;&quot;</td><td>&quot;&quot;</td><td>&quot;&quot;</td><td>&quot;&quot;</td><td>&quot;&quot;</td><td>&quot;&quot;</td><td>&quot;&quot;</td><td>&quot;&quot;</td><td>&quot;A&quot;</td><td>0</td><td>&quot;HOD/TYD&quot;</td><td>0</td><td>&quot;HOD/TYD&quot;</td><td>1</td><td>&quot;HOD/TYD&quot;</td><td>&quot;&quot;</td><td>&quot;Zápočet&quot;</td><td>&quot;NE&quot;</td><td>&quot;Kombinovaná&quot;</td><td>&quot;&quot;</td><td>&quot;&quot;</td><td>&quot;&quot;</td><td>&quot;&quot;</td><td>&quot;&quot;</td><td>&quot;&quot;</td><td>&quot;Angličtina&quot;</td><td>&quot;&quot;</td><td>&quot;A&quot;</td><td>&quot;N&quot;</td><td>&quot;N&quot;</td><td>&quot;&quot;</td><td>&quot;&quot;</td><td>&quot;&quot;</td><td>&quot;A&quot;</td><td>&quot;A&quot;</td><td>&quot;&quot;</td><td>0</td><td>&quot;&quot;</td><td>&quot;Bc.&quot;</td><td>&quot;A&quot;</td><td>[0]</td><td>&quot;&quot;</td><td>&quot;&quot;</td><td>&quot;&quot;</td></tr><tr><td>&quot;KI&quot;</td><td>&quot;DI3&quot;</td><td>2023</td><td>&quot;Didaktika info…</td><td>&quot;Didaktika info…</td><td>&quot;A&quot;</td><td>&quot;N&quot;</td><td>2</td><td>&quot;NE&quot;</td><td>&quot;&quot;</td><td>&quot;&#x27;RNDr. Jan Kre…</td><td>&quot;&#x27;RNDr. Jan Kre…</td><td>[2776]</td><td>&quot;&quot;</td><td>&quot;&quot;</td><td>null</td><td>&quot;&quot;</td><td>&quot;&quot;</td><td>null</td><td>&quot;&#x27;Mgr. Kamil Ba…</td><td>&quot;&#x27;Mgr. Kamil Ba…</td><td>[1165, 2776]</td><td>&quot;&quot;</td><td>&quot;&quot;</td><td>&quot;&quot;</td><td>&quot;&quot;</td><td>&quot;KI/DI2, KI/KDI…</td><td>&quot;&quot;</td><td>&quot;&quot;</td><td>&quot;&quot;</td><td>&quot;&quot;</td><td>&quot;&quot;</td><td>&quot;&quot;</td><td>&quot;N&quot;</td><td>0</td><td>&quot;HOD/TYD&quot;</td><td>0</td><td>&quot;HOD/TYD&quot;</td><td>2</td><td>&quot;HOD/TYD&quot;</td><td>&quot;&quot;</td><td>&quot;Zápočet&quot;</td><td>&quot;NE&quot;</td><td>&quot;Kombinovaná&quot;</td><td>&quot;1. tvořivá prá…</td><td>&quot;\n",
       "1. Učebnice i…</td><td>&quot;&quot;</td><td>&quot;&quot;</td><td>&quot;&quot;</td><td>&quot;&quot;</td><td>&quot;Čeština&quot;</td><td>&quot;&quot;</td><td>&quot;A&quot;</td><td>&quot;N&quot;</td><td>&quot;N&quot;</td><td>&quot;&quot;</td><td>&quot;&quot;</td><td>&quot;&quot;</td><td>&quot;A&quot;</td><td>&quot;N&quot;</td><td>&quot;&quot;</td><td>0</td><td>&quot;&quot;</td><td>&quot;Mgr.&quot;</td><td>&quot;A&quot;</td><td>[0]</td><td>&quot;&quot;</td><td>&quot;&quot;</td><td>&quot;&quot;</td></tr><tr><td>&quot;KI&quot;</td><td>&quot;DPG&quot;</td><td>2023</td><td>&quot;Didaktika prog…</td><td>&quot;Didaktika prog…</td><td>&quot;A&quot;</td><td>&quot;N&quot;</td><td>2</td><td>&quot;NE&quot;</td><td>&quot;&quot;</td><td>&quot;&#x27;Mgr. Kamil Ba…</td><td>&quot;&#x27;Mgr. Kamil Ba…</td><td>[1165]</td><td>&quot;&quot;</td><td>&quot;&quot;</td><td>null</td><td>&quot;&quot;</td><td>&quot;&quot;</td><td>null</td><td>&quot;&#x27;Mgr. Kamil Ba…</td><td>&quot;&#x27;Mgr. Kamil Ba…</td><td>[1165]</td><td>&quot;&quot;</td><td>&quot;&quot;</td><td>&quot;&quot;</td><td>&quot;&quot;</td><td>&quot;&quot;</td><td>&quot;&quot;</td><td>&quot;&quot;</td><td>&quot;&quot;</td><td>&quot;&quot;</td><td>&quot;Pracovní činno…</td><td>&quot;Rozbor produkt…</td><td>&quot;N&quot;</td><td>0</td><td>&quot;HOD/TYD&quot;</td><td>0</td><td>&quot;HOD/TYD&quot;</td><td>2</td><td>&quot;HOD/TYD&quot;</td><td>&quot;Student využij…</td><td>&quot;Zápočet&quot;</td><td>&quot;NE&quot;</td><td>&quot;Kombinovaná&quot;</td><td>&quot;-\tAktivní účas…</td><td>&quot;1.\tCíle, prost…</td><td>&quot;&quot;</td><td>&quot;Absolvent kurz…</td><td>&quot;&quot;</td><td>&quot;&quot;</td><td>&quot;Čeština&quot;</td><td>&quot;&quot;</td><td>&quot;A&quot;</td><td>&quot;N&quot;</td><td>&quot;N&quot;</td><td>&quot;&quot;</td><td>&quot;&quot;</td><td>&quot;&quot;</td><td>&quot;A&quot;</td><td>&quot;A&quot;</td><td>&quot;&quot;</td><td>0</td><td>&quot;&quot;</td><td>&quot;Bc.&quot;</td><td>&quot;A&quot;</td><td>null</td><td>&quot;&quot;</td><td>&quot;&quot;</td><td>&quot;&quot;</td></tr><tr><td>&quot;KI&quot;</td><td>&quot;EICT&quot;</td><td>2023</td><td>&quot;Information an…</td><td>&quot;Information an…</td><td>&quot;A&quot;</td><td>&quot;A&quot;</td><td>8</td><td>&quot;NE&quot;</td><td>&quot;&quot;</td><td>&quot;&#x27;Ing. Pavel Ku…</td><td>&quot;&#x27;Ing. Pavel Ku…</td><td>[2317]</td><td>&quot;&#x27;Ing. Pavel Ku…</td><td>&quot;&#x27;Ing. Pavel Ku…</td><td>[2317]</td><td>&quot;&#x27;Ing. Pavel Ku…</td><td>&quot;&#x27;Ing. Pavel Ku…</td><td>[2317]</td><td>&quot;&quot;</td><td>&quot;&quot;</td><td>null</td><td>&quot;&quot;</td><td>&quot;&quot;</td><td>&quot;&quot;</td><td>&quot;&quot;</td><td>&quot;&quot;</td><td>&quot;&quot;</td><td>&quot;&quot;</td><td>&quot;&quot;</td><td>&quot;&quot;</td><td>&quot;&quot;</td><td>&quot;&quot;</td><td>&quot;N&quot;</td><td>2</td><td>&quot;HOD/TYD&quot;</td><td>3</td><td>&quot;HOD/TYD&quot;</td><td>0</td><td>&quot;HOD/TYD&quot;</td><td>&quot;The course wil…</td><td>&quot;Zkouška&quot;</td><td>&quot;NE&quot;</td><td>&quot;Kombinovaná&quot;</td><td>&quot;&quot;</td><td>&quot;&quot;</td><td>&quot;&quot;</td><td>&quot;&quot;</td><td>&quot;&quot;</td><td>&quot;&quot;</td><td>&quot;Angličtina&quot;</td><td>&quot;&quot;</td><td>&quot;A&quot;</td><td>&quot;N&quot;</td><td>&quot;A&quot;</td><td>&quot;2/3 per week&quot;</td><td>&quot;&quot;</td><td>&quot;&quot;</td><td>&quot;N&quot;</td><td>&quot;N&quot;</td><td>&quot;&quot;</td><td>0</td><td>&quot;&quot;</td><td>&quot;&quot;</td><td>&quot;A&quot;</td><td>[0]</td><td>&quot;&quot;</td><td>&quot;&quot;</td><td>&quot;&quot;</td></tr><tr><td>&quot;KI&quot;</td><td>&quot;KANE&quot;</td><td>2023</td><td>&quot;Analogová elek…</td><td>&quot;Analogová elek…</td><td>&quot;A&quot;</td><td>&quot;N&quot;</td><td>2</td><td>&quot;NE&quot;</td><td>&quot;&quot;</td><td>&quot;&#x27;doc. RNDr. Fr…</td><td>&quot;&#x27;doc. RNDr. Fr…</td><td>[5232]</td><td>&quot;&#x27;doc. RNDr. Fr…</td><td>&quot;&#x27;doc. RNDr. Fr…</td><td>[5232]</td><td>&quot;&#x27;doc. RNDr. Fr…</td><td>&quot;&#x27;doc. RNDr. Fr…</td><td>[5232]</td><td>&quot;&quot;</td><td>&quot;&quot;</td><td>null</td><td>&quot;&quot;</td><td>&quot;&quot;</td><td>&quot;&quot;</td><td>&quot;&quot;</td><td>&quot;KI/KZEL&quot;</td><td>&quot;&quot;</td><td>&quot;&quot;</td><td>&quot;&#x27;Tichý, M. Ele…</td><td>&quot;&quot;</td><td>&quot;&quot;</td><td>&quot;&quot;</td><td>&quot;N&quot;</td><td>2</td><td>&quot;HOD/SEM&quot;</td><td>4</td><td>&quot;HOD/SEM&quot;</td><td>2</td><td>&quot;HOD/SEM&quot;</td><td>&quot;Kurz je zaměře…</td><td>&quot;Zápočet&quot;</td><td>&quot;NE&quot;</td><td>&quot;Kombinovaná&quot;</td><td>&quot;Ústní obhajoba…</td><td>&quot;1. Pasivní ele…</td><td>&quot;&quot;</td><td>&quot;&quot;</td><td>&quot;&quot;</td><td>&quot;&quot;</td><td>&quot;Čeština&quot;</td><td>&quot;&quot;</td><td>&quot;A&quot;</td><td>&quot;N&quot;</td><td>&quot;N&quot;</td><td>&quot;&quot;</td><td>&quot;&quot;</td><td>&quot;&quot;</td><td>&quot;N&quot;</td><td>&quot;A&quot;</td><td>&quot;&quot;</td><td>0</td><td>&quot;&quot;</td><td>&quot;Bc.&quot;</td><td>&quot;A&quot;</td><td>[0]</td><td>&quot;&quot;</td><td>&quot;&quot;</td><td>&quot;&quot;</td></tr><tr><td>&quot;KI&quot;</td><td>&quot;KDIP2&quot;</td><td>2023</td><td>&quot;Diplomový semi…</td><td>&quot;Diplomový semi…</td><td>&quot;A&quot;</td><td>&quot;A&quot;</td><td>1</td><td>&quot;NE&quot;</td><td>&quot;&quot;</td><td>&quot;&#x27;Mgr. Jiří Fiš…</td><td>&quot;&#x27;Mgr. Jiří Fiš…</td><td>[251]</td><td>&quot;&quot;</td><td>&quot;&quot;</td><td>null</td><td>&quot;&quot;</td><td>&quot;&quot;</td><td>null</td><td>&quot;&#x27;Mgr. Jiří Fiš…</td><td>&quot;&#x27;Mgr. Jiří Fiš…</td><td>[251]</td><td>&quot;&quot;</td><td>&quot;&quot;</td><td>&quot;&quot;</td><td>&quot;&quot;</td><td>&quot;KI/KDIP1&quot;</td><td>&quot;&quot;</td><td>&quot;&quot;</td><td>&quot;&#x27;ČSN ISO 690. …</td><td>&quot;&quot;</td><td>&quot;&quot;</td><td>&quot;&quot;</td><td>&quot;N&quot;</td><td>0</td><td>&quot;HOD/SEM&quot;</td><td>0</td><td>&quot;HOD/SEM&quot;</td><td>2</td><td>&quot;HOD/SEM&quot;</td><td>&quot;Seminář má pom…</td><td>&quot;Zápočet&quot;</td><td>&quot;NE&quot;</td><td>&quot;Kombinovaná&quot;</td><td>&quot;příprava na zk…</td><td>&quot;1. tisk bakalá…</td><td>&quot;Příprava na za…</td><td>&quot;&quot;</td><td>&quot;&quot;</td><td>&quot;&quot;</td><td>&quot;Čeština&quot;</td><td>&quot;&quot;</td><td>&quot;A&quot;</td><td>&quot;N&quot;</td><td>&quot;N&quot;</td><td>&quot;&quot;</td><td>&quot;&quot;</td><td>&quot;&quot;</td><td>&quot;N&quot;</td><td>&quot;A&quot;</td><td>&quot;&quot;</td><td>0</td><td>&quot;&quot;</td><td>&quot;Bc.&quot;</td><td>&quot;A&quot;</td><td>null</td><td>&quot;&quot;</td><td>&quot;&quot;</td><td>&quot;&quot;</td></tr><tr><td>&quot;KI&quot;</td><td>&quot;KDIS&quot;</td><td>2023</td><td>&quot;Dependabilita …</td><td>&quot;Dependabilita …</td><td>&quot;A&quot;</td><td>&quot;A&quot;</td><td>4</td><td>&quot;NE&quot;</td><td>&quot;&quot;</td><td>&quot;&#x27;doc. RNDr. Mg…</td><td>&quot;&#x27;doc. RNDr. Mg…</td><td>[2239]</td><td>&quot;&#x27;doc. RNDr. Mg…</td><td>&quot;&#x27;doc. RNDr. Mg…</td><td>[2239]</td><td>&quot;&#x27;Ing. Mgr. Pav…</td><td>&quot;&#x27;Ing. Mgr. Pav…</td><td>[6973, 2239]</td><td>&quot;&#x27;Ing. Mgr. Pav…</td><td>&quot;&#x27;Ing. Mgr. Pav…</td><td>[6973, 2239]</td><td>&quot;&quot;</td><td>&quot;&quot;</td><td>&quot;&quot;</td><td>&quot;&quot;</td><td>&quot;KI/KAPR1&quot;</td><td>&quot;&quot;</td><td>&quot;&quot;</td><td>&quot;&#x27;Laprie, J.C.,…</td><td>&quot;&quot;</td><td>&quot;&quot;</td><td>&quot;&quot;</td><td>&quot;N&quot;</td><td>6</td><td>&quot;HOD/SEM&quot;</td><td>4</td><td>&quot;HOD/SEM&quot;</td><td>2</td><td>&quot;HOD/SEM&quot;</td><td>&quot;Kurz uvádí do …</td><td>&quot;Zkouška&quot;</td><td>&quot;ANO&quot;</td><td>&quot;Kombinovaná&quot;</td><td>&quot;Zápočet: semin…</td><td>&quot;1. Úvod do pro…</td><td>&quot;&quot;</td><td>&quot;&quot;</td><td>&quot;&quot;</td><td>&quot;&quot;</td><td>&quot;Čeština, Angli…</td><td>&quot;Výuka v anglic…</td><td>&quot;A&quot;</td><td>&quot;N&quot;</td><td>&quot;N&quot;</td><td>&quot;&quot;</td><td>&quot;&quot;</td><td>&quot;&quot;</td><td>&quot;N&quot;</td><td>&quot;A&quot;</td><td>&quot;&quot;</td><td>0</td><td>&quot;Bc.&quot;</td><td>&quot;Bc.&quot;</td><td>&quot;A&quot;</td><td>null</td><td>&quot;&quot;</td><td>&quot;&quot;</td><td>&quot;&quot;</td></tr><tr><td>&quot;KI&quot;</td><td>&quot;KNUM&quot;</td><td>2023</td><td>&quot;Numerické meto…</td><td>&quot;Numerické meto…</td><td>&quot;A&quot;</td><td>&quot;N&quot;</td><td>2</td><td>&quot;NE&quot;</td><td>&quot;&quot;</td><td>&quot;&#x27;doc. Ing. Mgr…</td><td>&quot;&#x27;doc. Ing. Mgr…</td><td>[449]</td><td>&quot;&quot;</td><td>&quot;&quot;</td><td>null</td><td>&quot;&quot;</td><td>&quot;&quot;</td><td>null</td><td>&quot;&#x27;doc. Ing. Mgr…</td><td>&quot;&#x27;doc. Ing. Mgr…</td><td>[449, 2220]</td><td>&quot;&quot;</td><td>&quot;&quot;</td><td>&quot;&quot;</td><td>&quot;&quot;</td><td>&quot;KI/KAPR1, KMA/…</td><td>&quot;&quot;</td><td>&quot;&quot;</td><td>&quot;&#x27;Vicher, M. Nu…</td><td>&quot;&quot;</td><td>&quot;&quot;</td><td>&quot;&quot;</td><td>&quot;N&quot;</td><td>0</td><td>&quot;HOD/SEM&quot;</td><td>0</td><td>&quot;HOD/SEM&quot;</td><td>8</td><td>&quot;HOD/SEM&quot;</td><td>&quot;V předmětu jso…</td><td>&quot;Zápočet&quot;</td><td>&quot;NE&quot;</td><td>&quot;Kombinovaná&quot;</td><td>&quot;Seminární prác…</td><td>&quot;1. Vlastnosti …</td><td>&quot;&quot;</td><td>&quot;&quot;</td><td>&quot;&quot;</td><td>&quot;&quot;</td><td>&quot;Čeština&quot;</td><td>&quot;&quot;</td><td>&quot;A&quot;</td><td>&quot;N&quot;</td><td>&quot;N&quot;</td><td>&quot;&quot;</td><td>&quot;&quot;</td><td>&quot;&quot;</td><td>&quot;N&quot;</td><td>&quot;A&quot;</td><td>&quot;&quot;</td><td>0</td><td>&quot;&quot;</td><td>&quot;Bc.&quot;</td><td>&quot;A&quot;</td><td>[0]</td><td>&quot;&quot;</td><td>&quot;&quot;</td><td>&quot;&quot;</td></tr><tr><td>&quot;KI&quot;</td><td>&quot;KPROJ&quot;</td><td>2023</td><td>&quot;Projektový sem…</td><td>&quot;Projektový sem…</td><td>&quot;A&quot;</td><td>&quot;N&quot;</td><td>5</td><td>&quot;NE&quot;</td><td>&quot;&quot;</td><td>&quot;&#x27;Mgr. Jiří Fiš…</td><td>&quot;&#x27;Mgr. Jiří Fiš…</td><td>[251]</td><td>&quot;&quot;</td><td>&quot;&quot;</td><td>null</td><td>&quot;&quot;</td><td>&quot;&quot;</td><td>null</td><td>&quot;&#x27;Mgr. Jiří Fiš…</td><td>&quot;&#x27;Mgr. Jiří Fiš…</td><td>[251, 2776, … 2220]</td><td>&quot;&quot;</td><td>&quot;&quot;</td><td>&quot;&quot;</td><td>&quot;&quot;</td><td>&quot;KI/KFIS&quot;</td><td>&quot;&quot;</td><td>&quot;&quot;</td><td>&quot;&#x27;DVOŘÁK D., SI…</td><td>&quot;&quot;</td><td>&quot;&quot;</td><td>&quot;&quot;</td><td>&quot;N&quot;</td><td>0</td><td>&quot;HOD/SEM&quot;</td><td>0</td><td>&quot;HOD/SEM&quot;</td><td>12</td><td>&quot;HOD/SEM&quot;</td><td>&quot;V rámci projek…</td><td>&quot;Zkouška&quot;</td><td>&quot;ANO&quot;</td><td>&quot;Kombinovaná&quot;</td><td>&quot;Prezentace zad…</td><td>&quot;&quot;</td><td>&quot;&quot;</td><td>&quot;&quot;</td><td>&quot;&quot;</td><td>&quot;&quot;</td><td>&quot;Čeština&quot;</td><td>&quot;&quot;</td><td>&quot;A&quot;</td><td>&quot;N&quot;</td><td>&quot;N&quot;</td><td>&quot;&quot;</td><td>&quot;&quot;</td><td>&quot;&quot;</td><td>&quot;N&quot;</td><td>&quot;A&quot;</td><td>&quot;&quot;</td><td>0</td><td>&quot;&quot;</td><td>&quot;Bc.&quot;</td><td>&quot;A&quot;</td><td>null</td><td>&quot;&quot;</td><td>&quot;&quot;</td><td>&quot;&quot;</td></tr><tr><td>&quot;KI&quot;</td><td>&quot;KROB&quot;</td><td>2023</td><td>&quot;Práce s roboti…</td><td>&quot;Práce s roboti…</td><td>&quot;A&quot;</td><td>&quot;A&quot;</td><td>2</td><td>&quot;NE&quot;</td><td>&quot;&quot;</td><td>&quot;&#x27;RNDr. Jan Kre…</td><td>&quot;&#x27;RNDr. Jan Kre…</td><td>[2776]</td><td>&quot;&quot;</td><td>&quot;&quot;</td><td>null</td><td>&quot;&quot;</td><td>&quot;&quot;</td><td>null</td><td>&quot;&#x27;RNDr. Jan Kre…</td><td>&quot;&#x27;RNDr. Jan Kre…</td><td>[2776]</td><td>&quot;&quot;</td><td>&quot;&quot;</td><td>&quot;&quot;</td><td>&quot;&quot;</td><td>&quot;&quot;</td><td>&quot;&quot;</td><td>&quot;&quot;</td><td>&quot;&quot;</td><td>&quot;&quot;</td><td>&quot;Přednášení, De…</td><td>&quot;&quot;</td><td>&quot;N&quot;</td><td>0</td><td>&quot;HOD/SEM&quot;</td><td>0</td><td>&quot;HOD/SEM&quot;</td><td>8</td><td>&quot;HOD/SEM&quot;</td><td>&quot;Cílem předmětu…</td><td>&quot;Zápočet&quot;</td><td>&quot;NE&quot;</td><td>&quot;Kombinovaná&quot;</td><td>&quot;-\ttvořivá prác…</td><td>&quot;-\tSeznámení se…</td><td>&quot;&quot;</td><td>&quot;Student umí př…</td><td>&quot;&quot;</td><td>&quot;&quot;</td><td>&quot;Čeština&quot;</td><td>&quot;&quot;</td><td>&quot;A&quot;</td><td>&quot;N&quot;</td><td>&quot;N&quot;</td><td>&quot;&quot;</td><td>&quot;&quot;</td><td>&quot;&quot;</td><td>&quot;N&quot;</td><td>&quot;A&quot;</td><td>&quot;&quot;</td><td>0</td><td>&quot;&quot;</td><td>&quot;Bc.&quot;</td><td>&quot;A&quot;</td><td>null</td><td>&quot;&quot;</td><td>&quot;&quot;</td><td>&quot;&quot;</td></tr></tbody></table></div>"
      ],
      "text/plain": [
       "shape: (10, 69)\n",
       "┌─────────┬─────────┬──────┬──────────────────────────┬───┬───────────────────┬──────┬──────┬──────┐\n",
       "│ katedra ┆ zkratka ┆ rok  ┆ nazev                    ┆ … ┆ hodZaSemKombForma ┆ aMax ┆ bMax ┆ cMax │\n",
       "│ ---     ┆ ---     ┆ ---  ┆ ---                      ┆   ┆ ---               ┆ ---  ┆ ---  ┆ ---  │\n",
       "│ str     ┆ str     ┆ i64  ┆ str                      ┆   ┆ list[i64]         ┆ str  ┆ str  ┆ str  │\n",
       "╞═════════╪═════════╪══════╪══════════════════════════╪═══╪═══════════════════╪══════╪══════╪══════╡\n",
       "│ KI      ┆ APSIM   ┆ 2023 ┆ System Simulation in     ┆ … ┆ [0]               ┆      ┆      ┆      │\n",
       "│         ┆         ┆      ┆ Practice                 ┆   ┆                   ┆      ┆      ┆      │\n",
       "│ KI      ┆ DI3     ┆ 2023 ┆ Didaktika informatiky    ┆ … ┆ [0]               ┆      ┆      ┆      │\n",
       "│         ┆         ┆      ┆ III                      ┆   ┆                   ┆      ┆      ┆      │\n",
       "│ KI      ┆ DPG     ┆ 2023 ┆ Didaktika programování   ┆ … ┆ null              ┆      ┆      ┆      │\n",
       "│ KI      ┆ EICT    ┆ 2023 ┆ Information and          ┆ … ┆ [0]               ┆      ┆      ┆      │\n",
       "│         ┆         ┆      ┆ Communicat. Tech…        ┆   ┆                   ┆      ┆      ┆      │\n",
       "│ KI      ┆ KANE    ┆ 2023 ┆ Analogová elektronika    ┆ … ┆ [0]               ┆      ┆      ┆      │\n",
       "│ KI      ┆ KDIP2   ┆ 2023 ┆ Diplomový seminář II     ┆ … ┆ null              ┆      ┆      ┆      │\n",
       "│ KI      ┆ KDIS    ┆ 2023 ┆ Dependabilita            ┆ … ┆ null              ┆      ┆      ┆      │\n",
       "│         ┆         ┆      ┆ informačních systé…      ┆   ┆                   ┆      ┆      ┆      │\n",
       "│ KI      ┆ KNUM    ┆ 2023 ┆ Numerické metody         ┆ … ┆ [0]               ┆      ┆      ┆      │\n",
       "│ KI      ┆ KPROJ   ┆ 2023 ┆ Projektový seminář       ┆ … ┆ null              ┆      ┆      ┆      │\n",
       "│ KI      ┆ KROB    ┆ 2023 ┆ Práce s robotickými      ┆ … ┆ null              ┆      ┆      ┆      │\n",
       "│         ┆         ┆      ┆ stavebnicemi             ┆   ┆                   ┆      ┆      ┆      │\n",
       "└─────────┴─────────┴──────┴──────────────────────────┴───┴───────────────────┴──────┴──────┴──────┘"
      ]
     },
     "execution_count": 72,
     "metadata": {},
     "output_type": "execute_result"
    }
   ],
   "source": [
    "rozvrh_by_kat = pl.read_csv(\"source_tables/getRozvrhByKatedra-2023-03-15-17-47.csv\").drop(\"semestr\").unique().rename({\"predmet\" : \"zkratka\"})\n",
    "rozvrh_by_kat = fix_str_to_int(rozvrh_by_kat, [\"ucitIdno.ucitel\", \"vsichniUciteleUcitIdno\"])\n",
    "#print(rozvrh_by_kat.head())\n",
    "predmety_by_kat = pl.read_csv(\"source_tables/getPredmetyByKatedraFullInfo-2023-03-15-17-40.csv\").drop(\"semestr\").unique().drop([\"pocetStudentu\", \"aSkut\", \"bSkut\", \"cSkut\"])\n",
    "predmety_by_kat = fix_str_to_int(predmety_by_kat, [\"garantiUcitIdno\", \"prednasejiciUcitIdno\", \"cviciciUcitIdno\", \"seminariciUcitIdno\", \"hodZaSemKombForma\"])\n",
    "predmety_by_kat.head(10)\n",
    "#predmety_by_kat = pl.read_excel(\"source_tables/getPredmetyByKatedraFullInfo-2023-03-15-17-40.xlsx\", sheet_id=1, engine=\"openpyxl\").drop(\"semestr\").unique().drop([\"pocetStudentu\", \"aSkut\", \"bSkut\", \"cSkut\"])"
   ]
  },
  {
   "cell_type": "code",
   "execution_count": 138,
   "metadata": {},
   "outputs": [],
   "source": [
    "# qr = ~pl.all().is_duplicated()\n",
    "# rozvrh_by_kat = rozvrh_by_kat.filter(qr)\n",
    "# predmety_by_kat = predmety_by_kat.filter(qr)\n"
   ]
  },
  {
   "cell_type": "code",
   "execution_count": 27,
   "metadata": {},
   "outputs": [
    {
     "data": {
      "text/html": [
       "<div><style>\n",
       ".dataframe > thead > tr,\n",
       ".dataframe > tbody > tr {\n",
       "  text-align: right;\n",
       "  white-space: pre-wrap;\n",
       "}\n",
       "</style>\n",
       "<small>shape: (5, 69)</small><table border=\"1\" class=\"dataframe\"><thead><tr><th>katedra</th><th>zkratka</th><th>rok</th><th>nazev</th><th>nazevDlouhy</th><th>vyukaZS</th><th>vyukaLS</th><th>kreditu</th><th>viceZapis</th><th>minObsazeni</th><th>garanti</th><th>garantiSPodily</th><th>garantiUcitIdno</th><th>prednasejici</th><th>prednasejiciSPodily</th><th>prednasejiciUcitIdno</th><th>cvicici</th><th>cviciciSPodily</th><th>cviciciUcitIdno</th><th>seminarici</th><th>seminariciSPodily</th><th>seminariciUcitIdno</th><th>schvalujiciUznani</th><th>schvalujiciUznaniUcitIdno</th><th>examinatori</th><th>examinatoriUcitIdno</th><th>podminujiciPredmety</th><th>vylucujiciPredmety</th><th>podminujePredmety</th><th>literatura</th><th>nahrazPredmety</th><th>metodyVyucovaci</th><th>metodyHodnotici</th><th>akreditovan</th><th>jednotekPrednasek</th><th>jednotkaPrednasky</th><th>jednotekCviceni</th><th>jednotkaCviceni</th><th>jednotekSeminare</th><th>jednotkaSeminare</th><th>anotace</th><th>typZkousky</th><th>maZapocetPredZk</th><th>formaZkousky</th><th>pozadavky</th><th>prehledLatky</th><th>predpoklady</th><th>ziskaneZpusobilosti</th><th>casovaNarocnost</th><th>predmetUrl</th><th>vyucovaciJazyky</th><th>poznamka</th><th>ectsZobrazit</th><th>ectsAkreditace</th><th>ectsNabizetUPrijezdu</th><th>poznamkaVerejna</th><th>skupinaAkreditace</th><th>skupinaAkreditaceKey</th><th>zarazenDoPrezencnihoStudia</th><th>zarazenDoKombinovanehoStudia</th><th>studijniOpory</th><th>praxePocetDnu</th><th>urovenNastavena</th><th>urovenVypoctena</th><th>automatickyUznavatZppZk</th><th>hodZaSemKombForma</th><th>aMax</th><th>bMax</th><th>cMax</th></tr><tr><td>str</td><td>str</td><td>i64</td><td>str</td><td>str</td><td>str</td><td>str</td><td>i64</td><td>str</td><td>str</td><td>str</td><td>str</td><td>str</td><td>str</td><td>str</td><td>str</td><td>str</td><td>str</td><td>str</td><td>str</td><td>str</td><td>str</td><td>str</td><td>str</td><td>str</td><td>str</td><td>str</td><td>str</td><td>str</td><td>str</td><td>str</td><td>str</td><td>str</td><td>str</td><td>i64</td><td>str</td><td>i64</td><td>str</td><td>i64</td><td>str</td><td>str</td><td>str</td><td>str</td><td>str</td><td>str</td><td>str</td><td>str</td><td>str</td><td>str</td><td>str</td><td>str</td><td>str</td><td>str</td><td>str</td><td>str</td><td>str</td><td>str</td><td>str</td><td>str</td><td>str</td><td>str</td><td>i64</td><td>str</td><td>str</td><td>str</td><td>str</td><td>str</td><td>str</td><td>str</td></tr></thead><tbody><tr><td>&quot;KI&quot;</td><td>&quot;AIT&quot;</td><td>2023</td><td>&quot;Architektura a…</td><td>&quot;Architektura a…</td><td>&quot;A&quot;</td><td>&quot;N&quot;</td><td>3</td><td>&quot;NE&quot;</td><td>&quot;&quot;</td><td>&quot;&#x27;RNDr. Jan Kre…</td><td>&quot;&#x27;RNDr. Jan Kre…</td><td>&quot;2776&quot;</td><td>&quot;&quot;</td><td>&quot;&quot;</td><td>&quot;&quot;</td><td>&quot;&quot;</td><td>&quot;&quot;</td><td>&quot;&quot;</td><td>&quot;&#x27;RNDr. Jan Kre…</td><td>&quot;&#x27;RNDr. Jan Kre…</td><td>&quot;2776&quot;</td><td>&quot;&quot;</td><td>&quot;&quot;</td><td>&quot;&quot;</td><td>&quot;&quot;</td><td>&quot;KI/ZPP, KI/ZPS…</td><td>&quot;&quot;</td><td>&quot;KI/IVP&quot;</td><td>&quot;&#x27;Velte, A. T.,…</td><td>&quot;&quot;</td><td>&quot;&quot;</td><td>&quot;&quot;</td><td>&quot;N&quot;</td><td>0</td><td>&quot;HOD/TYD&quot;</td><td>0</td><td>&quot;HOD/TYD&quot;</td><td>2</td><td>&quot;HOD/TYD&quot;</td><td>&quot;Kurz je zaměře…</td><td>&quot;Zkouška&quot;</td><td>&quot;NE&quot;</td><td>&quot;Kombinovaná&quot;</td><td>&quot;Zápočet: labor…</td><td>&quot;1. IT a její ž…</td><td>&quot;Základny počít…</td><td>&quot;&quot;</td><td>&quot;&quot;</td><td>&quot;&quot;</td><td>&quot;Čeština&quot;</td><td>&quot;Tento kurz vzn…</td><td>&quot;A&quot;</td><td>&quot;N&quot;</td><td>&quot;N&quot;</td><td>&quot;&quot;</td><td>&quot;&quot;</td><td>&quot;&quot;</td><td>&quot;A&quot;</td><td>&quot;N&quot;</td><td>&quot;&quot;</td><td>0</td><td>&quot;&quot;</td><td>&quot;Bc.&quot;</td><td>&quot;A&quot;</td><td>&quot;&quot;</td><td>&quot;&quot;</td><td>&quot;&quot;</td><td>&quot;&quot;</td></tr><tr><td>&quot;KI&quot;</td><td>&quot;ANE&quot;</td><td>2023</td><td>&quot;Analogová elek…</td><td>&quot;Analogová elek…</td><td>&quot;A&quot;</td><td>&quot;N&quot;</td><td>2</td><td>&quot;NE&quot;</td><td>&quot;&quot;</td><td>&quot;&#x27;doc. RNDr. Fr…</td><td>&quot;&#x27;doc. RNDr. Fr…</td><td>&quot;5232&quot;</td><td>&quot;&#x27;doc. RNDr. Fr…</td><td>&quot;&#x27;doc. RNDr. Fr…</td><td>&quot;5232&quot;</td><td>&quot;&#x27;doc. RNDr. Fr…</td><td>&quot;&#x27;doc. RNDr. Fr…</td><td>&quot;5232&quot;</td><td>&quot;&quot;</td><td>&quot;&quot;</td><td>&quot;&quot;</td><td>&quot;&quot;</td><td>&quot;&quot;</td><td>&quot;&quot;</td><td>&quot;&quot;</td><td>&quot;KI/ZEL&quot;</td><td>&quot;&quot;</td><td>&quot;&quot;</td><td>&quot;&#x27;Tichý, M. Ele…</td><td>&quot;&quot;</td><td>&quot;&quot;</td><td>&quot;&quot;</td><td>&quot;N&quot;</td><td>1</td><td>&quot;HOD/TYD&quot;</td><td>1</td><td>&quot;HOD/TYD&quot;</td><td>0</td><td>&quot;HOD/TYD&quot;</td><td>&quot;Kurz je zaměře…</td><td>&quot;Zápočet&quot;</td><td>&quot;NE&quot;</td><td>&quot;Kombinovaná&quot;</td><td>&quot;Ústní obhajoba…</td><td>&quot;1. Pasivní ele…</td><td>&quot;&quot;</td><td>&quot;&quot;</td><td>&quot;&quot;</td><td>&quot;&quot;</td><td>&quot;Čeština&quot;</td><td>&quot;&quot;</td><td>&quot;A&quot;</td><td>&quot;N&quot;</td><td>&quot;N&quot;</td><td>&quot;&quot;</td><td>&quot;&quot;</td><td>&quot;&quot;</td><td>&quot;A&quot;</td><td>&quot;N&quot;</td><td>&quot;&quot;</td><td>0</td><td>&quot;&quot;</td><td>&quot;Bc.&quot;</td><td>&quot;A&quot;</td><td>&quot;0&quot;</td><td>&quot;&quot;</td><td>&quot;&quot;</td><td>&quot;&quot;</td></tr><tr><td>&quot;KI&quot;</td><td>&quot;APC&quot;</td><td>2023</td><td>&quot;Architektura p…</td><td>&quot;Architektura p…</td><td>&quot;A&quot;</td><td>&quot;N&quot;</td><td>3</td><td>&quot;NE&quot;</td><td>&quot;&quot;</td><td>&quot;&#x27;doc. RNDr. Mg…</td><td>&quot;&#x27;doc. RNDr. Mg…</td><td>&quot;2239&quot;</td><td>&quot;&#x27;Ing. Pavel Ku…</td><td>&quot;&#x27;Ing. Pavel Ku…</td><td>&quot;2317, 2239&quot;</td><td>&quot;&quot;</td><td>&quot;&quot;</td><td>&quot;&quot;</td><td>&quot;&quot;</td><td>&quot;&quot;</td><td>&quot;&quot;</td><td>&quot;&quot;</td><td>&quot;&quot;</td><td>&quot;&quot;</td><td>&quot;&quot;</td><td>&quot;&quot;</td><td>&quot;&quot;</td><td>&quot;KI/DHW, KI/PPT…</td><td>&quot;&#x27;Horák J. Hard…</td><td>&quot;&quot;</td><td>&quot;&quot;</td><td>&quot;&quot;</td><td>&quot;N&quot;</td><td>2</td><td>&quot;HOD/TYD&quot;</td><td>0</td><td>&quot;HOD/TYD&quot;</td><td>0</td><td>&quot;HOD/TYD&quot;</td><td>&quot;Tento předmět …</td><td>&quot;Zkouška&quot;</td><td>&quot;NE&quot;</td><td>&quot;Kombinovaná&quot;</td><td>&quot;Zkouška je kom…</td><td>&quot;1)\tVývoj PC, g…</td><td>&quot;&quot;</td><td>&quot;&quot;</td><td>&quot;&quot;</td><td>&quot;&quot;</td><td>&quot;Čeština&quot;</td><td>&quot;&quot;</td><td>&quot;A&quot;</td><td>&quot;N&quot;</td><td>&quot;N&quot;</td><td>&quot;&quot;</td><td>&quot;&quot;</td><td>&quot;&quot;</td><td>&quot;A&quot;</td><td>&quot;N&quot;</td><td>&quot;&quot;</td><td>0</td><td>&quot;&quot;</td><td>&quot;Bc.&quot;</td><td>&quot;A&quot;</td><td>&quot;&quot;</td><td>&quot;&quot;</td><td>&quot;&quot;</td><td>&quot;&quot;</td></tr><tr><td>&quot;KI&quot;</td><td>&quot;BTE&quot;</td><td>2023</td><td>&quot;Bezpečnostní t…</td><td>&quot;Bezpečnostní t…</td><td>&quot;A&quot;</td><td>&quot;N&quot;</td><td>4</td><td>&quot;NE&quot;</td><td>&quot;&quot;</td><td>&quot;&#x27;RNDr. Jan Kre…</td><td>&quot;&#x27;RNDr. Jan Kre…</td><td>&quot;2776&quot;</td><td>&quot;&quot;</td><td>&quot;&quot;</td><td>&quot;&quot;</td><td>&quot;&quot;</td><td>&quot;&quot;</td><td>&quot;&quot;</td><td>&quot;&quot;</td><td>&quot;&quot;</td><td>&quot;&quot;</td><td>&quot;&quot;</td><td>&quot;&quot;</td><td>&quot;&quot;</td><td>&quot;&quot;</td><td>&quot;KI/ZKB, KI/KZK…</td><td>&quot;&quot;</td><td>&quot;KI/ASK&quot;</td><td>&quot;&#x27;Sanders C. An…</td><td>&quot;&quot;</td><td>&quot;&quot;</td><td>&quot;&quot;</td><td>&quot;A&quot;</td><td>1</td><td>&quot;HOD/TYD&quot;</td><td>2</td><td>&quot;HOD/TYD&quot;</td><td>0</td><td>&quot;HOD/TYD&quot;</td><td>&quot;Cílem předmětu…</td><td>&quot;Zápočet&quot;</td><td>&quot;NE&quot;</td><td>&quot;Kombinovaná&quot;</td><td>&quot;Zápočet: labor…</td><td>&quot;1. Infrastrukt…</td><td>&quot;&quot;</td><td>&quot;&quot;</td><td>&quot;&quot;</td><td>&quot;&quot;</td><td>&quot;Čeština&quot;</td><td>&quot;&quot;</td><td>&quot;A&quot;</td><td>&quot;N&quot;</td><td>&quot;N&quot;</td><td>&quot;&quot;</td><td>&quot;&quot;</td><td>&quot;&quot;</td><td>&quot;A&quot;</td><td>&quot;N&quot;</td><td>&quot;&quot;</td><td>0</td><td>&quot;&quot;</td><td>&quot;Bc.&quot;</td><td>&quot;A&quot;</td><td>&quot;0&quot;</td><td>&quot;&quot;</td><td>&quot;&quot;</td><td>&quot;&quot;</td></tr><tr><td>&quot;KI&quot;</td><td>&quot;DIPL1&quot;</td><td>2023</td><td>&quot;Diplomový semi…</td><td>&quot;Diplomový semi…</td><td>&quot;A&quot;</td><td>&quot;A&quot;</td><td>1</td><td>&quot;NE&quot;</td><td>&quot;&quot;</td><td>&quot;&#x27;Mgr. Jiří Fiš…</td><td>&quot;&#x27;Mgr. Jiří Fiš…</td><td>&quot;251&quot;</td><td>&quot;&quot;</td><td>&quot;&quot;</td><td>&quot;&quot;</td><td>&quot;&quot;</td><td>&quot;&quot;</td><td>&quot;&quot;</td><td>&quot;&#x27;Mgr. Jiří Fiš…</td><td>&quot;&#x27;Mgr. Jiří Fiš…</td><td>&quot;251&quot;</td><td>&quot;&quot;</td><td>&quot;&quot;</td><td>&quot;&quot;</td><td>&quot;&quot;</td><td>&quot;&quot;</td><td>&quot;&quot;</td><td>&quot;KI/DIPL2&quot;</td><td>&quot;&#x27;ČSN ISO 690. …</td><td>&quot;KI/DIPL&quot;</td><td>&quot;&quot;</td><td>&quot;&quot;</td><td>&quot;N&quot;</td><td>0</td><td>&quot;HOD/TYD&quot;</td><td>0</td><td>&quot;HOD/TYD&quot;</td><td>1</td><td>&quot;HOD/TYD&quot;</td><td>&quot;Cílem seminářů…</td><td>&quot;Zápočet&quot;</td><td>&quot;NE&quot;</td><td>&quot;Kombinovaná&quot;</td><td>&quot;Zadaná závěreč…</td><td>&quot;1.\tformální as…</td><td>&quot;Příprava na za…</td><td>&quot;&quot;</td><td>&quot;&quot;</td><td>&quot;&quot;</td><td>&quot;Čeština&quot;</td><td>&quot;&quot;</td><td>&quot;A&quot;</td><td>&quot;N&quot;</td><td>&quot;N&quot;</td><td>&quot;&quot;</td><td>&quot;&quot;</td><td>&quot;&quot;</td><td>&quot;A&quot;</td><td>&quot;N&quot;</td><td>&quot;&quot;</td><td>0</td><td>&quot;&quot;</td><td>&quot;Bc.&quot;</td><td>&quot;A&quot;</td><td>&quot;&quot;</td><td>&quot;&quot;</td><td>&quot;&quot;</td><td>&quot;0&quot;</td></tr></tbody></table></div>"
      ],
      "text/plain": [
       "shape: (5, 69)\n",
       "┌─────────┬─────────┬──────┬──────────────────────────┬───┬───────────────────┬──────┬──────┬──────┐\n",
       "│ katedra ┆ zkratka ┆ rok  ┆ nazev                    ┆ … ┆ hodZaSemKombForma ┆ aMax ┆ bMax ┆ cMax │\n",
       "│ ---     ┆ ---     ┆ ---  ┆ ---                      ┆   ┆ ---               ┆ ---  ┆ ---  ┆ ---  │\n",
       "│ str     ┆ str     ┆ i64  ┆ str                      ┆   ┆ str               ┆ str  ┆ str  ┆ str  │\n",
       "╞═════════╪═════════╪══════╪══════════════════════════╪═══╪═══════════════════╪══════╪══════╪══════╡\n",
       "│ KI      ┆ AIT     ┆ 2023 ┆ Architektura a           ┆ … ┆                   ┆      ┆      ┆      │\n",
       "│         ┆         ┆      ┆ infrastruktura IT        ┆   ┆                   ┆      ┆      ┆      │\n",
       "│ KI      ┆ ANE     ┆ 2023 ┆ Analogová elektronika    ┆ … ┆ 0                 ┆      ┆      ┆      │\n",
       "│ KI      ┆ APC     ┆ 2023 ┆ Architektura počítačů    ┆ … ┆                   ┆      ┆      ┆      │\n",
       "│ KI      ┆ BTE     ┆ 2023 ┆ Bezpečnostní technologie ┆ … ┆ 0                 ┆      ┆      ┆      │\n",
       "│ KI      ┆ DIPL1   ┆ 2023 ┆ Diplomový seminář I      ┆ … ┆                   ┆      ┆      ┆ 0    │\n",
       "└─────────┴─────────┴──────┴──────────────────────────┴───┴───────────────────┴──────┴──────┴──────┘"
      ]
     },
     "execution_count": 27,
     "metadata": {},
     "output_type": "execute_result"
    }
   ],
   "source": [
    "predmety_by_kat.head()"
   ]
  },
  {
   "cell_type": "code",
   "execution_count": 75,
   "metadata": {},
   "outputs": [
    {
     "data": {
      "text/html": [
       "<div><style>\n",
       ".dataframe > thead > tr,\n",
       ".dataframe > tbody > tr {\n",
       "  text-align: right;\n",
       "  white-space: pre-wrap;\n",
       "}\n",
       "</style>\n",
       "<small>shape: (10, 54)</small><table border=\"1\" class=\"dataframe\"><thead><tr><th>roakIdno</th><th>nazev</th><th>katedra</th><th>zkratka</th><th>statut</th><th>ucitIdno</th><th>ucitIdno.ucitel</th><th>jmeno.ucitel</th><th>prijmeni.ucitel</th><th>titulPred.ucitel</th><th>titulZa.ucitel</th><th>platnost.ucitel</th><th>zamestnanec.ucitel</th><th>podilNaVyuce.ucitel</th><th>rok</th><th>budova</th><th>mistnost</th><th>kapacitaMistnosti</th><th>planObsazeni</th><th>obsazeni</th><th>typAkce</th><th>typAkceZkr</th><th>platnost</th><th>den</th><th>denZkr</th><th>vyucJazyk</th><th>hodinaOd</th><th>hodinaDo</th><th>pocetVyucHodin</th><th>hodinaSkutOd</th><th>hodinaSkutDo</th><th>tydenOd</th><th>tydenDo</th><th>tyden</th><th>tydenZkr</th><th>grupIdno</th><th>jeNadrazena</th><th>maNadrazenou</th><th>kontakt</th><th>krouzky</th><th>casovaRada</th><th>datum</th><th>datumOd</th><th>datumDo</th><th>druhAkce</th><th>vsichniUciteleUcitIdno</th><th>vsichniUciteleJmenaTituly</th><th>vsichniUciteleJmenaTitulySPodily</th><th>vsichniUcitelePrijmeni</th><th>referencedIdno</th><th>poznamkaRozvrhare</th><th>nekonaSe</th><th>owner</th><th>zakazaneAkce</th></tr><tr><td>i64</td><td>str</td><td>str</td><td>str</td><td>str</td><td>str</td><td>list[i64]</td><td>str</td><td>str</td><td>str</td><td>str</td><td>str</td><td>str</td><td>str</td><td>i64</td><td>str</td><td>f64</td><td>i64</td><td>i64</td><td>i64</td><td>str</td><td>str</td><td>str</td><td>str</td><td>str</td><td>str</td><td>i64</td><td>i64</td><td>i64</td><td>str</td><td>str</td><td>i64</td><td>i64</td><td>str</td><td>str</td><td>str</td><td>str</td><td>str</td><td>str</td><td>str</td><td>str</td><td>str</td><td>str</td><td>str</td><td>str</td><td>list[i64]</td><td>str</td><td>str</td><td>str</td><td>i64</td><td>str</td><td>str</td><td>str</td><td>str</td></tr></thead><tbody><tr><td>491621</td><td>&quot;GUI Programmin…</td><td>&quot;KI&quot;</td><td>&quot;EGUI&quot;</td><td>&quot;&quot;</td><td>&quot;650&quot;</td><td>[650]</td><td>&quot;Petr&quot;</td><td>&quot;Kubera&quot;</td><td>&quot;RNDr.&quot;</td><td>&quot;Ph.D.&quot;</td><td>&quot;A&quot;</td><td>&quot;A&quot;</td><td>&quot;100&quot;</td><td>2023</td><td>&quot;CP&quot;</td><td>6.13</td><td>30</td><td>4</td><td>2</td><td>&quot;Přednáška&quot;</td><td>&quot;Př&quot;</td><td>&quot;A&quot;</td><td>&quot;Čtvrtek&quot;</td><td>&quot;Čt&quot;</td><td>&quot;&quot;</td><td>2</td><td>3</td><td>2</td><td>&quot;08:00&quot;</td><td>&quot;09:50&quot;</td><td>8</td><td>20</td><td>&quot;Každý&quot;</td><td>&quot;K&quot;</td><td>&quot;&quot;</td><td>&quot;N&quot;</td><td>&quot;N&quot;</td><td>&quot;Automaticky vy…</td><td>&quot;&quot;</td><td>&quot;UJEP&quot;</td><td>&quot;4.4.2024&quot;</td><td>&quot;&quot;</td><td>&quot;&quot;</td><td>&quot;R&quot;</td><td>[650, 6973]</td><td>&quot;RNDr. Petr Kub…</td><td>&quot;&#x27;RNDr. Petr Ku…</td><td>&quot;Kubera, Beráne…</td><td>491621</td><td>&quot;&quot;</td><td>&quot;&quot;</td><td>&quot;RSKVARA&quot;</td><td>&quot;&quot;</td></tr><tr><td>490642</td><td>&quot;Algoritmizace …</td><td>&quot;KI&quot;</td><td>&quot;APR2&quot;</td><td>&quot;&quot;</td><td>&quot;6973&quot;</td><td>[6973]</td><td>&quot;Pavel&quot;</td><td>&quot;Beránek&quot;</td><td>&quot;Ing. Mgr.&quot;</td><td>&quot;&quot;</td><td>&quot;A&quot;</td><td>&quot;A&quot;</td><td>&quot;100&quot;</td><td>2023</td><td>&quot;CP&quot;</td><td>6.14</td><td>31</td><td>38</td><td>38</td><td>&quot;Cvičení&quot;</td><td>&quot;Cv&quot;</td><td>&quot;A&quot;</td><td>&quot;Čtvrtek&quot;</td><td>&quot;Čt&quot;</td><td>&quot;&quot;</td><td>6</td><td>7</td><td>2</td><td>&quot;12:00&quot;</td><td>&quot;13:50&quot;</td><td>8</td><td>20</td><td>&quot;Každý&quot;</td><td>&quot;K&quot;</td><td>&quot;&quot;</td><td>&quot;N&quot;</td><td>&quot;N&quot;</td><td>&quot;Automaticky vy…</td><td>&quot;1.API Bc,1.MvF…</td><td>&quot;UJEP&quot;</td><td>&quot;4.4.2024&quot;</td><td>&quot;&quot;</td><td>&quot;&quot;</td><td>&quot;R&quot;</td><td>[6973]</td><td>&quot;Ing. Mgr. Pave…</td><td>&quot;&#x27;Ing. Mgr. Pav…</td><td>&quot;Beránek&quot;</td><td>490642</td><td>&quot;&quot;</td><td>&quot;&quot;</td><td>&quot;RSKVARA&quot;</td><td>&quot;&quot;</td></tr><tr><td>490643</td><td>&quot;Základy zpraco…</td><td>&quot;KI&quot;</td><td>&quot;ZZD&quot;</td><td>&quot;&quot;</td><td>&quot;2220&quot;</td><td>[2220]</td><td>&quot;Jiří&quot;</td><td>&quot;Škvor&quot;</td><td>&quot;RNDr.&quot;</td><td>&quot;Ph.D.&quot;</td><td>&quot;A&quot;</td><td>&quot;A&quot;</td><td>&quot;100&quot;</td><td>2023</td><td>&quot;MF&quot;</td><td>2.28</td><td>190</td><td>41</td><td>39</td><td>&quot;Seminář&quot;</td><td>&quot;Se&quot;</td><td>&quot;A&quot;</td><td>&quot;Pátek&quot;</td><td>&quot;Pá&quot;</td><td>&quot;&quot;</td><td>7</td><td>7</td><td>1</td><td>&quot;13:00&quot;</td><td>&quot;13:50&quot;</td><td>8</td><td>20</td><td>&quot;Každý&quot;</td><td>&quot;K&quot;</td><td>&quot;31861&quot;</td><td>&quot;N&quot;</td><td>&quot;N&quot;</td><td>&quot;Automaticky vy…</td><td>&quot;1.AJ INF,1.API…</td><td>&quot;UJEP&quot;</td><td>&quot;5.4.2024&quot;</td><td>&quot;&quot;</td><td>&quot;&quot;</td><td>&quot;R&quot;</td><td>[2220, 449, 6259]</td><td>&quot;RNDr. Jiří Škv…</td><td>&quot;&#x27;RNDr. Jiří Šk…</td><td>&quot;Škvor, Barilla…</td><td>490643</td><td>&quot;&quot;</td><td>&quot;&quot;</td><td>&quot;RSKVARA&quot;</td><td>&quot;&quot;</td></tr><tr><td>490644</td><td>&quot;Základy zpraco…</td><td>&quot;KI&quot;</td><td>&quot;ZZD&quot;</td><td>&quot;&quot;</td><td>&quot;2220&quot;</td><td>[2220]</td><td>&quot;Jiří&quot;</td><td>&quot;Škvor&quot;</td><td>&quot;RNDr.&quot;</td><td>&quot;Ph.D.&quot;</td><td>&quot;A&quot;</td><td>&quot;A&quot;</td><td>&quot;100&quot;</td><td>2023</td><td>&quot;MF&quot;</td><td>2.28</td><td>190</td><td>41</td><td>40</td><td>&quot;Seminář&quot;</td><td>&quot;Se&quot;</td><td>&quot;A&quot;</td><td>&quot;Pátek&quot;</td><td>&quot;Pá&quot;</td><td>&quot;&quot;</td><td>7</td><td>7</td><td>1</td><td>&quot;13:00&quot;</td><td>&quot;13:50&quot;</td><td>8</td><td>20</td><td>&quot;Každý&quot;</td><td>&quot;K&quot;</td><td>&quot;31862&quot;</td><td>&quot;N&quot;</td><td>&quot;N&quot;</td><td>&quot;Automaticky vy…</td><td>&quot;1.AJ INF,1.API…</td><td>&quot;UJEP&quot;</td><td>&quot;5.4.2024&quot;</td><td>&quot;&quot;</td><td>&quot;&quot;</td><td>&quot;R&quot;</td><td>[2220, 449, 6259]</td><td>&quot;RNDr. Jiří Škv…</td><td>&quot;&#x27;RNDr. Jiří Šk…</td><td>&quot;Škvor, Barilla…</td><td>490644</td><td>&quot;&quot;</td><td>&quot;&quot;</td><td>&quot;RSKVARA&quot;</td><td>&quot;&quot;</td></tr><tr><td>486986</td><td>&quot;Číslicové syst…</td><td>&quot;KI&quot;</td><td>&quot;CSY&quot;</td><td>&quot;&quot;</td><td>&quot;3416&quot;</td><td>[3416]</td><td>&quot;Sergii&quot;</td><td>&quot;Babichev&quot;</td><td>&quot;prof.&quot;</td><td>&quot;CSc., DSc.&quot;</td><td>&quot;A&quot;</td><td>&quot;A&quot;</td><td>&quot;100&quot;</td><td>2023</td><td>&quot;CP&quot;</td><td>7.07</td><td>12</td><td>12</td><td>3</td><td>&quot;Přednáška&quot;</td><td>&quot;Př&quot;</td><td>&quot;A&quot;</td><td>&quot;Pátek&quot;</td><td>&quot;Pá&quot;</td><td>&quot;&quot;</td><td>8</td><td>8</td><td>1</td><td>&quot;14:00&quot;</td><td>&quot;14:50&quot;</td><td>8</td><td>20</td><td>&quot;Každý&quot;</td><td>&quot;K&quot;</td><td>&quot;&quot;</td><td>&quot;N&quot;</td><td>&quot;N&quot;</td><td>&quot;Automaticky vy…</td><td>&quot;2.API Bc,3.API…</td><td>&quot;UJEP&quot;</td><td>&quot;5.4.2024&quot;</td><td>&quot;&quot;</td><td>&quot;&quot;</td><td>&quot;R&quot;</td><td>[3416]</td><td>&quot;prof. Sergii B…</td><td>&quot;&#x27;prof. Sergii …</td><td>&quot;Babichev&quot;</td><td>486986</td><td>&quot;&quot;</td><td>&quot;&quot;</td><td>&quot;RSKVARA&quot;</td><td>&quot;&quot;</td></tr><tr><td>491150</td><td>&quot;Semestrální pr…</td><td>&quot;KI&quot;</td><td>&quot;SP2&quot;</td><td>&quot;&quot;</td><td>&quot;2220&quot;</td><td>[2220]</td><td>&quot;Jiří&quot;</td><td>&quot;Škvor&quot;</td><td>&quot;RNDr.&quot;</td><td>&quot;Ph.D.&quot;</td><td>&quot;A&quot;</td><td>&quot;A&quot;</td><td>&quot;100&quot;</td><td>2023</td><td>&quot;CP&quot;</td><td>6.01</td><td>2</td><td>1</td><td>1</td><td>&quot;Seminář&quot;</td><td>&quot;Se&quot;</td><td>&quot;A&quot;</td><td>&quot;Pátek&quot;</td><td>&quot;Pá&quot;</td><td>&quot;&quot;</td><td>10</td><td>12</td><td>3</td><td>&quot;16:00&quot;</td><td>&quot;18:50&quot;</td><td>8</td><td>20</td><td>&quot;Sudý&quot;</td><td>&quot;S&quot;</td><td>&quot;31922&quot;</td><td>&quot;N&quot;</td><td>&quot;N&quot;</td><td>&quot;Automaticky vy…</td><td>&quot;1.API N&quot;</td><td>&quot;UJEP&quot;</td><td>&quot;5.4.2024&quot;</td><td>&quot;&quot;</td><td>&quot;&quot;</td><td>&quot;R&quot;</td><td>[2220, 6259]</td><td>&quot;RNDr. Jiří Škv…</td><td>&quot;&#x27;RNDr. Jiří Šk…</td><td>&quot;Škvor, Škvára&quot;</td><td>491150</td><td>&quot;&quot;</td><td>&quot;&quot;</td><td>&quot;RSKVARA&quot;</td><td>&quot;&quot;</td></tr><tr><td>486988</td><td>&quot;Programování h…</td><td>&quot;KI&quot;</td><td>&quot;PHW2&quot;</td><td>&quot;&quot;</td><td>&quot;1780&quot;</td><td>[1780]</td><td>&quot;Petr&quot;</td><td>&quot;Haberzettl&quot;</td><td>&quot;Ing.&quot;</td><td>&quot;&quot;</td><td>&quot;A&quot;</td><td>&quot;A&quot;</td><td>&quot;100&quot;</td><td>2023</td><td>&quot;CP&quot;</td><td>7.08</td><td>12</td><td>12</td><td>7</td><td>&quot;Seminář&quot;</td><td>&quot;Se&quot;</td><td>&quot;A&quot;</td><td>&quot;Pátek&quot;</td><td>&quot;Pá&quot;</td><td>&quot;&quot;</td><td>11</td><td>12</td><td>2</td><td>&quot;17:00&quot;</td><td>&quot;18:50&quot;</td><td>8</td><td>20</td><td>&quot;Každý&quot;</td><td>&quot;K&quot;</td><td>&quot;&quot;</td><td>&quot;N&quot;</td><td>&quot;N&quot;</td><td>&quot;Automaticky vy…</td><td>&quot;2.API Bc,3.API…</td><td>&quot;UJEP&quot;</td><td>&quot;5.4.2024&quot;</td><td>&quot;&quot;</td><td>&quot;&quot;</td><td>&quot;R&quot;</td><td>[1780]</td><td>&quot;Ing. Petr Habe…</td><td>&quot;&#x27;Ing. Petr Hab…</td><td>&quot;Haberzettl&quot;</td><td>486988</td><td>&quot;&quot;</td><td>&quot;&quot;</td><td>&quot;RSKVARA&quot;</td><td>&quot;&quot;</td></tr><tr><td>491154</td><td>&quot;Úvod do strojo…</td><td>&quot;KI&quot;</td><td>&quot;KUSU&quot;</td><td>&quot;&quot;</td><td>&quot;650&quot;</td><td>[650]</td><td>&quot;Petr&quot;</td><td>&quot;Kubera&quot;</td><td>&quot;RNDr.&quot;</td><td>&quot;Ph.D.&quot;</td><td>&quot;A&quot;</td><td>&quot;A&quot;</td><td>&quot;100&quot;</td><td>2023</td><td>&quot;CP&quot;</td><td>6.14</td><td>31</td><td>20</td><td>6</td><td>&quot;Přednáška&quot;</td><td>&quot;Př&quot;</td><td>&quot;A&quot;</td><td>&quot;Sobota&quot;</td><td>&quot;So&quot;</td><td>&quot;&quot;</td><td>2</td><td>3</td><td>2</td><td>&quot;08:00&quot;</td><td>&quot;09:50&quot;</td><td>14</td><td>14</td><td>&quot;Jiný&quot;</td><td>&quot;J&quot;</td><td>&quot;31924&quot;</td><td>&quot;N&quot;</td><td>&quot;N&quot;</td><td>&quot;Automaticky vy…</td><td>&quot;2.KAPI Bc&quot;</td><td>&quot;UJEP&quot;</td><td>&quot;6.4.2024&quot;</td><td>&quot;&quot;</td><td>&quot;&quot;</td><td>&quot;R&quot;</td><td>[650]</td><td>&quot;RNDr. Petr Kub…</td><td>&quot;&#x27;RNDr. Petr Ku…</td><td>&quot;Kubera&quot;</td><td>491154</td><td>&quot;&quot;</td><td>&quot;&quot;</td><td>&quot;RSKVARA&quot;</td><td>&quot;&quot;</td></tr><tr><td>491152</td><td>&quot;Úvod do strojo…</td><td>&quot;KI&quot;</td><td>&quot;KUSU&quot;</td><td>&quot;&quot;</td><td>&quot;650&quot;</td><td>[650]</td><td>&quot;Petr&quot;</td><td>&quot;Kubera&quot;</td><td>&quot;RNDr.&quot;</td><td>&quot;Ph.D.&quot;</td><td>&quot;A&quot;</td><td>&quot;A&quot;</td><td>&quot;100&quot;</td><td>2023</td><td>&quot;CP&quot;</td><td>6.14</td><td>31</td><td>20</td><td>6</td><td>&quot;Cvičení&quot;</td><td>&quot;Cv&quot;</td><td>&quot;A&quot;</td><td>&quot;Sobota&quot;</td><td>&quot;So&quot;</td><td>&quot;&quot;</td><td>4</td><td>5</td><td>2</td><td>&quot;10:00&quot;</td><td>&quot;11:50&quot;</td><td>14</td><td>14</td><td>&quot;Jiný&quot;</td><td>&quot;J&quot;</td><td>&quot;31923&quot;</td><td>&quot;N&quot;</td><td>&quot;N&quot;</td><td>&quot;Automaticky vy…</td><td>&quot;2.KAPI Bc&quot;</td><td>&quot;UJEP&quot;</td><td>&quot;6.4.2024&quot;</td><td>&quot;&quot;</td><td>&quot;&quot;</td><td>&quot;R&quot;</td><td>[650]</td><td>&quot;RNDr. Petr Kub…</td><td>&quot;&#x27;RNDr. Petr Ku…</td><td>&quot;Kubera&quot;</td><td>491152</td><td>&quot;&quot;</td><td>&quot;&quot;</td><td>&quot;RSKVARA&quot;</td><td>&quot;&quot;</td></tr><tr><td>491385</td><td>&quot;Využití ICT ve…</td><td>&quot;KI&quot;</td><td>&quot;KVICT&quot;</td><td>&quot;&quot;</td><td>&quot;2776&quot;</td><td>[2776]</td><td>&quot;Jan&quot;</td><td>&quot;Krejčí&quot;</td><td>&quot;RNDr.&quot;</td><td>&quot;Ph.D.&quot;</td><td>&quot;A&quot;</td><td>&quot;A&quot;</td><td>&quot;100&quot;</td><td>2023</td><td>&quot;CP&quot;</td><td>7.07</td><td>12</td><td>12</td><td>5</td><td>&quot;Přednáška&quot;</td><td>&quot;Př&quot;</td><td>&quot;A&quot;</td><td>&quot;Sobota&quot;</td><td>&quot;So&quot;</td><td>&quot;&quot;</td><td>5</td><td>6</td><td>2</td><td>&quot;11:00&quot;</td><td>&quot;12:50&quot;</td><td>14</td><td>14</td><td>&quot;Jiný&quot;</td><td>&quot;J&quot;</td><td>&quot;31958&quot;</td><td>&quot;N&quot;</td><td>&quot;N&quot;</td><td>&quot;Automaticky vy…</td><td>&quot;2.FYINFKSŠ,2.I…</td><td>&quot;UJEP&quot;</td><td>&quot;6.4.2024&quot;</td><td>&quot;&quot;</td><td>&quot;&quot;</td><td>&quot;R&quot;</td><td>[2776]</td><td>&quot;RNDr. Jan Krej…</td><td>&quot;&#x27;RNDr. Jan Kre…</td><td>&quot;Krejčí&quot;</td><td>491385</td><td>&quot;&quot;</td><td>&quot;&quot;</td><td>&quot;RSKVARA&quot;</td><td>&quot;&quot;</td></tr></tbody></table></div>"
      ],
      "text/plain": [
       "shape: (10, 54)\n",
       "┌──────────┬──────────────┬─────────┬─────────┬───┬─────────────┬──────────┬─────────┬─────────────┐\n",
       "│ roakIdno ┆ nazev        ┆ katedra ┆ zkratka ┆ … ┆ poznamkaRoz ┆ nekonaSe ┆ owner   ┆ zakazaneAkc │\n",
       "│ ---      ┆ ---          ┆ ---     ┆ ---     ┆   ┆ vrhare      ┆ ---      ┆ ---     ┆ e           │\n",
       "│ i64      ┆ str          ┆ str     ┆ str     ┆   ┆ ---         ┆ str      ┆ str     ┆ ---         │\n",
       "│          ┆              ┆         ┆         ┆   ┆ str         ┆          ┆         ┆ str         │\n",
       "╞══════════╪══════════════╪═════════╪═════════╪═══╪═════════════╪══════════╪═════════╪═════════════╡\n",
       "│ 491621   ┆ GUI          ┆ KI      ┆ EGUI    ┆ … ┆             ┆          ┆ RSKVARA ┆             │\n",
       "│          ┆ Programming  ┆         ┆         ┆   ┆             ┆          ┆         ┆             │\n",
       "│ 490642   ┆ Algoritmizac ┆ KI      ┆ APR2    ┆ … ┆             ┆          ┆ RSKVARA ┆             │\n",
       "│          ┆ e a          ┆         ┆         ┆   ┆             ┆          ┆         ┆             │\n",
       "│          ┆ programování ┆         ┆         ┆   ┆             ┆          ┆         ┆             │\n",
       "│          ┆ II           ┆         ┆         ┆   ┆             ┆          ┆         ┆             │\n",
       "│ 490643   ┆ Základy      ┆ KI      ┆ ZZD     ┆ … ┆             ┆          ┆ RSKVARA ┆             │\n",
       "│          ┆ zpracování   ┆         ┆         ┆   ┆             ┆          ┆         ┆             │\n",
       "│          ┆ dat          ┆         ┆         ┆   ┆             ┆          ┆         ┆             │\n",
       "│ 490644   ┆ Základy      ┆ KI      ┆ ZZD     ┆ … ┆             ┆          ┆ RSKVARA ┆             │\n",
       "│          ┆ zpracování   ┆         ┆         ┆   ┆             ┆          ┆         ┆             │\n",
       "│          ┆ dat          ┆         ┆         ┆   ┆             ┆          ┆         ┆             │\n",
       "│ 486986   ┆ Číslicové    ┆ KI      ┆ CSY     ┆ … ┆             ┆          ┆ RSKVARA ┆             │\n",
       "│          ┆ systémy      ┆         ┆         ┆   ┆             ┆          ┆         ┆             │\n",
       "│ 491150   ┆ Semestrální  ┆ KI      ┆ SP2     ┆ … ┆             ┆          ┆ RSKVARA ┆             │\n",
       "│          ┆ projekt II   ┆         ┆         ┆   ┆             ┆          ┆         ┆             │\n",
       "│ 486988   ┆ Programování ┆ KI      ┆ PHW2    ┆ … ┆             ┆          ┆ RSKVARA ┆             │\n",
       "│          ┆ hardwaru II  ┆         ┆         ┆   ┆             ┆          ┆         ┆             │\n",
       "│ 491154   ┆ Úvod do      ┆ KI      ┆ KUSU    ┆ … ┆             ┆          ┆ RSKVARA ┆             │\n",
       "│          ┆ strojového   ┆         ┆         ┆   ┆             ┆          ┆         ┆             │\n",
       "│          ┆ učení        ┆         ┆         ┆   ┆             ┆          ┆         ┆             │\n",
       "│ 491152   ┆ Úvod do      ┆ KI      ┆ KUSU    ┆ … ┆             ┆          ┆ RSKVARA ┆             │\n",
       "│          ┆ strojového   ┆         ┆         ┆   ┆             ┆          ┆         ┆             │\n",
       "│          ┆ učení        ┆         ┆         ┆   ┆             ┆          ┆         ┆             │\n",
       "│ 491385   ┆ Využití ICT  ┆ KI      ┆ KVICT   ┆ … ┆             ┆          ┆ RSKVARA ┆             │\n",
       "│          ┆ ve výuce     ┆         ┆         ┆   ┆             ┆          ┆         ┆             │\n",
       "└──────────┴──────────────┴─────────┴─────────┴───┴─────────────┴──────────┴─────────┴─────────────┘"
      ]
     },
     "execution_count": 75,
     "metadata": {},
     "output_type": "execute_result"
    }
   ],
   "source": [
    "rozvrh_by_kat.head(10)"
   ]
  },
  {
   "cell_type": "code",
   "execution_count": 17,
   "metadata": {},
   "outputs": [
    {
     "data": {
      "text/plain": [
       "{'katedra', 'nazev', 'rok', 'zkratka'}"
      ]
     },
     "execution_count": 17,
     "metadata": {},
     "output_type": "execute_result"
    }
   ],
   "source": [
    "set(rozvrh_by_kat.columns) & set(predmety_by_kat.columns)"
   ]
  },
  {
   "cell_type": "code",
   "execution_count": 113,
   "metadata": {},
   "outputs": [
    {
     "data": {
      "text/html": [
       "<div><style>\n",
       ".dataframe > thead > tr,\n",
       ".dataframe > tbody > tr {\n",
       "  text-align: right;\n",
       "  white-space: pre-wrap;\n",
       "}\n",
       "</style>\n",
       "<small>shape: (1, 54)</small><table border=\"1\" class=\"dataframe\"><thead><tr><th>roakIdno</th><th>nazev</th><th>katedra</th><th>zkratka</th><th>statut</th><th>ucitIdno</th><th>ucitIdno.ucitel</th><th>jmeno.ucitel</th><th>prijmeni.ucitel</th><th>titulPred.ucitel</th><th>titulZa.ucitel</th><th>platnost.ucitel</th><th>zamestnanec.ucitel</th><th>podilNaVyuce.ucitel</th><th>rok</th><th>budova</th><th>mistnost</th><th>kapacitaMistnosti</th><th>planObsazeni</th><th>obsazeni</th><th>typAkce</th><th>typAkceZkr</th><th>platnost</th><th>den</th><th>denZkr</th><th>vyucJazyk</th><th>hodinaOd</th><th>hodinaDo</th><th>pocetVyucHodin</th><th>hodinaSkutOd</th><th>hodinaSkutDo</th><th>tydenOd</th><th>tydenDo</th><th>tyden</th><th>tydenZkr</th><th>grupIdno</th><th>jeNadrazena</th><th>maNadrazenou</th><th>kontakt</th><th>krouzky</th><th>casovaRada</th><th>datum</th><th>datumOd</th><th>datumDo</th><th>druhAkce</th><th>vsichniUciteleUcitIdno</th><th>vsichniUciteleJmenaTituly</th><th>vsichniUciteleJmenaTitulySPodily</th><th>vsichniUcitelePrijmeni</th><th>referencedIdno</th><th>poznamkaRozvrhare</th><th>nekonaSe</th><th>owner</th><th>zakazaneAkce</th></tr><tr><td>u32</td><td>u32</td><td>u32</td><td>u32</td><td>u32</td><td>u32</td><td>u32</td><td>u32</td><td>u32</td><td>u32</td><td>u32</td><td>u32</td><td>u32</td><td>u32</td><td>u32</td><td>u32</td><td>u32</td><td>u32</td><td>u32</td><td>u32</td><td>u32</td><td>u32</td><td>u32</td><td>u32</td><td>u32</td><td>u32</td><td>u32</td><td>u32</td><td>u32</td><td>u32</td><td>u32</td><td>u32</td><td>u32</td><td>u32</td><td>u32</td><td>u32</td><td>u32</td><td>u32</td><td>u32</td><td>u32</td><td>u32</td><td>u32</td><td>u32</td><td>u32</td><td>u32</td><td>u32</td><td>u32</td><td>u32</td><td>u32</td><td>u32</td><td>u32</td><td>u32</td><td>u32</td><td>u32</td></tr></thead><tbody><tr><td>4</td><td>0</td><td>0</td><td>0</td><td>0</td><td>0</td><td>42</td><td>0</td><td>0</td><td>0</td><td>0</td><td>0</td><td>0</td><td>0</td><td>0</td><td>0</td><td>146</td><td>146</td><td>4</td><td>0</td><td>0</td><td>0</td><td>0</td><td>0</td><td>0</td><td>0</td><td>153</td><td>153</td><td>148</td><td>0</td><td>0</td><td>0</td><td>0</td><td>0</td><td>0</td><td>0</td><td>0</td><td>0</td><td>0</td><td>0</td><td>0</td><td>0</td><td>0</td><td>0</td><td>0</td><td>42</td><td>0</td><td>0</td><td>0</td><td>0</td><td>0</td><td>0</td><td>0</td><td>0</td></tr></tbody></table></div>"
      ],
      "text/plain": [
       "shape: (1, 54)\n",
       "┌──────────┬───────┬─────────┬─────────┬───┬───────────────────┬──────────┬───────┬──────────────┐\n",
       "│ roakIdno ┆ nazev ┆ katedra ┆ zkratka ┆ … ┆ poznamkaRozvrhare ┆ nekonaSe ┆ owner ┆ zakazaneAkce │\n",
       "│ ---      ┆ ---   ┆ ---     ┆ ---     ┆   ┆ ---               ┆ ---      ┆ ---   ┆ ---          │\n",
       "│ u32      ┆ u32   ┆ u32     ┆ u32     ┆   ┆ u32               ┆ u32      ┆ u32   ┆ u32          │\n",
       "╞══════════╪═══════╪═════════╪═════════╪═══╪═══════════════════╪══════════╪═══════╪══════════════╡\n",
       "│ 4        ┆ 0     ┆ 0       ┆ 0       ┆ … ┆ 0                 ┆ 0        ┆ 0     ┆ 0            │\n",
       "└──────────┴───────┴─────────┴─────────┴───┴───────────────────┴──────────┴───────┴──────────────┘"
      ]
     },
     "execution_count": 113,
     "metadata": {},
     "output_type": "execute_result"
    }
   ],
   "source": [
    "rozvrh_by_kat.null_count()"
   ]
  },
  {
   "cell_type": "code",
   "execution_count": 114,
   "metadata": {},
   "outputs": [
    {
     "data": {
      "text/html": [
       "<div><style>\n",
       ".dataframe > thead > tr,\n",
       ".dataframe > tbody > tr {\n",
       "  text-align: right;\n",
       "  white-space: pre-wrap;\n",
       "}\n",
       "</style>\n",
       "<small>shape: (1, 69)</small><table border=\"1\" class=\"dataframe\"><thead><tr><th>katedra</th><th>zkratka</th><th>rok</th><th>nazev</th><th>nazevDlouhy</th><th>vyukaZS</th><th>vyukaLS</th><th>kreditu</th><th>viceZapis</th><th>minObsazeni</th><th>garanti</th><th>garantiSPodily</th><th>garantiUcitIdno</th><th>prednasejici</th><th>prednasejiciSPodily</th><th>prednasejiciUcitIdno</th><th>cvicici</th><th>cviciciSPodily</th><th>cviciciUcitIdno</th><th>seminarici</th><th>seminariciSPodily</th><th>seminariciUcitIdno</th><th>schvalujiciUznani</th><th>schvalujiciUznaniUcitIdno</th><th>examinatori</th><th>examinatoriUcitIdno</th><th>podminujiciPredmety</th><th>vylucujiciPredmety</th><th>podminujePredmety</th><th>literatura</th><th>nahrazPredmety</th><th>metodyVyucovaci</th><th>metodyHodnotici</th><th>akreditovan</th><th>jednotekPrednasek</th><th>jednotkaPrednasky</th><th>jednotekCviceni</th><th>jednotkaCviceni</th><th>jednotekSeminare</th><th>jednotkaSeminare</th><th>anotace</th><th>typZkousky</th><th>maZapocetPredZk</th><th>formaZkousky</th><th>pozadavky</th><th>prehledLatky</th><th>predpoklady</th><th>ziskaneZpusobilosti</th><th>casovaNarocnost</th><th>predmetUrl</th><th>vyucovaciJazyky</th><th>poznamka</th><th>ectsZobrazit</th><th>ectsAkreditace</th><th>ectsNabizetUPrijezdu</th><th>poznamkaVerejna</th><th>skupinaAkreditace</th><th>skupinaAkreditaceKey</th><th>zarazenDoPrezencnihoStudia</th><th>zarazenDoKombinovanehoStudia</th><th>studijniOpory</th><th>praxePocetDnu</th><th>urovenNastavena</th><th>urovenVypoctena</th><th>automatickyUznavatZppZk</th><th>hodZaSemKombForma</th><th>aMax</th><th>bMax</th><th>cMax</th></tr><tr><td>u32</td><td>u32</td><td>u32</td><td>u32</td><td>u32</td><td>u32</td><td>u32</td><td>u32</td><td>u32</td><td>u32</td><td>u32</td><td>u32</td><td>u32</td><td>u32</td><td>u32</td><td>u32</td><td>u32</td><td>u32</td><td>u32</td><td>u32</td><td>u32</td><td>u32</td><td>u32</td><td>u32</td><td>u32</td><td>u32</td><td>u32</td><td>u32</td><td>u32</td><td>u32</td><td>u32</td><td>u32</td><td>u32</td><td>u32</td><td>u32</td><td>u32</td><td>u32</td><td>u32</td><td>u32</td><td>u32</td><td>u32</td><td>u32</td><td>u32</td><td>u32</td><td>u32</td><td>u32</td><td>u32</td><td>u32</td><td>u32</td><td>u32</td><td>u32</td><td>u32</td><td>u32</td><td>u32</td><td>u32</td><td>u32</td><td>u32</td><td>u32</td><td>u32</td><td>u32</td><td>u32</td><td>u32</td><td>u32</td><td>u32</td><td>u32</td><td>u32</td><td>u32</td><td>u32</td><td>u32</td></tr></thead><tbody><tr><td>0</td><td>0</td><td>0</td><td>0</td><td>0</td><td>0</td><td>0</td><td>0</td><td>0</td><td>0</td><td>0</td><td>0</td><td>45</td><td>0</td><td>0</td><td>308</td><td>0</td><td>0</td><td>291</td><td>0</td><td>0</td><td>295</td><td>0</td><td>0</td><td>0</td><td>0</td><td>0</td><td>0</td><td>0</td><td>0</td><td>0</td><td>0</td><td>0</td><td>0</td><td>0</td><td>0</td><td>0</td><td>0</td><td>0</td><td>0</td><td>0</td><td>0</td><td>0</td><td>0</td><td>0</td><td>0</td><td>0</td><td>0</td><td>0</td><td>0</td><td>0</td><td>0</td><td>0</td><td>0</td><td>0</td><td>0</td><td>0</td><td>0</td><td>0</td><td>0</td><td>0</td><td>0</td><td>0</td><td>0</td><td>0</td><td>231</td><td>0</td><td>0</td><td>0</td></tr></tbody></table></div>"
      ],
      "text/plain": [
       "shape: (1, 69)\n",
       "┌─────────┬─────────┬─────┬───────┬───┬───────────────────┬──────┬──────┬──────┐\n",
       "│ katedra ┆ zkratka ┆ rok ┆ nazev ┆ … ┆ hodZaSemKombForma ┆ aMax ┆ bMax ┆ cMax │\n",
       "│ ---     ┆ ---     ┆ --- ┆ ---   ┆   ┆ ---               ┆ ---  ┆ ---  ┆ ---  │\n",
       "│ u32     ┆ u32     ┆ u32 ┆ u32   ┆   ┆ u32               ┆ u32  ┆ u32  ┆ u32  │\n",
       "╞═════════╪═════════╪═════╪═══════╪═══╪═══════════════════╪══════╪══════╪══════╡\n",
       "│ 0       ┆ 0       ┆ 0   ┆ 0     ┆ … ┆ 231               ┆ 0    ┆ 0    ┆ 0    │\n",
       "└─────────┴─────────┴─────┴───────┴───┴───────────────────┴──────┴──────┴──────┘"
      ]
     },
     "execution_count": 114,
     "metadata": {},
     "output_type": "execute_result"
    }
   ],
   "source": [
    "predmety_by_kat.null_count()"
   ]
  },
  {
   "cell_type": "code",
   "execution_count": 144,
   "metadata": {},
   "outputs": [],
   "source": [
    "# vybírám pouze předměty, které mají rozvrhovou akci"
   ]
  },
  {
   "cell_type": "code",
   "execution_count": 77,
   "metadata": {},
   "outputs": [
    {
     "data": {
      "text/html": [
       "<div><style>\n",
       ".dataframe > thead > tr,\n",
       ".dataframe > tbody > tr {\n",
       "  text-align: right;\n",
       "  white-space: pre-wrap;\n",
       "}\n",
       "</style>\n",
       "<small>shape: (5, 69)</small><table border=\"1\" class=\"dataframe\"><thead><tr><th>katedra</th><th>zkratka</th><th>rok</th><th>nazev</th><th>nazevDlouhy</th><th>vyukaZS</th><th>vyukaLS</th><th>kreditu</th><th>viceZapis</th><th>minObsazeni</th><th>garanti</th><th>garantiSPodily</th><th>garantiUcitIdno</th><th>prednasejici</th><th>prednasejiciSPodily</th><th>prednasejiciUcitIdno</th><th>cvicici</th><th>cviciciSPodily</th><th>cviciciUcitIdno</th><th>seminarici</th><th>seminariciSPodily</th><th>seminariciUcitIdno</th><th>schvalujiciUznani</th><th>schvalujiciUznaniUcitIdno</th><th>examinatori</th><th>examinatoriUcitIdno</th><th>podminujiciPredmety</th><th>vylucujiciPredmety</th><th>podminujePredmety</th><th>literatura</th><th>nahrazPredmety</th><th>metodyVyucovaci</th><th>metodyHodnotici</th><th>akreditovan</th><th>jednotekPrednasek</th><th>jednotkaPrednasky</th><th>jednotekCviceni</th><th>jednotkaCviceni</th><th>jednotekSeminare</th><th>jednotkaSeminare</th><th>anotace</th><th>typZkousky</th><th>maZapocetPredZk</th><th>formaZkousky</th><th>pozadavky</th><th>prehledLatky</th><th>predpoklady</th><th>ziskaneZpusobilosti</th><th>casovaNarocnost</th><th>predmetUrl</th><th>vyucovaciJazyky</th><th>poznamka</th><th>ectsZobrazit</th><th>ectsAkreditace</th><th>ectsNabizetUPrijezdu</th><th>poznamkaVerejna</th><th>skupinaAkreditace</th><th>skupinaAkreditaceKey</th><th>zarazenDoPrezencnihoStudia</th><th>zarazenDoKombinovanehoStudia</th><th>studijniOpory</th><th>praxePocetDnu</th><th>urovenNastavena</th><th>urovenVypoctena</th><th>automatickyUznavatZppZk</th><th>hodZaSemKombForma</th><th>aMax</th><th>bMax</th><th>cMax</th></tr><tr><td>str</td><td>str</td><td>i64</td><td>str</td><td>str</td><td>str</td><td>str</td><td>i64</td><td>str</td><td>str</td><td>str</td><td>str</td><td>list[i64]</td><td>str</td><td>str</td><td>list[i64]</td><td>str</td><td>str</td><td>list[i64]</td><td>str</td><td>str</td><td>list[i64]</td><td>str</td><td>str</td><td>str</td><td>str</td><td>str</td><td>str</td><td>str</td><td>str</td><td>str</td><td>str</td><td>str</td><td>str</td><td>i64</td><td>str</td><td>i64</td><td>str</td><td>i64</td><td>str</td><td>str</td><td>str</td><td>str</td><td>str</td><td>str</td><td>str</td><td>str</td><td>str</td><td>str</td><td>str</td><td>str</td><td>str</td><td>str</td><td>str</td><td>str</td><td>str</td><td>str</td><td>str</td><td>str</td><td>str</td><td>str</td><td>i64</td><td>str</td><td>str</td><td>str</td><td>list[i64]</td><td>str</td><td>str</td><td>str</td></tr></thead><tbody><tr><td>&quot;KI&quot;</td><td>&quot;0033&quot;</td><td>2023</td><td>&quot;Optimalizace v…</td><td>&quot;Optimalizace v…</td><td>&quot;A&quot;</td><td>&quot;A&quot;</td><td>2</td><td>&quot;NE&quot;</td><td>&quot;&quot;</td><td>&quot;&#x27;doc. Ing. Mgr…</td><td>&quot;&#x27;doc. Ing. Mgr…</td><td>[449]</td><td>&quot;&quot;</td><td>&quot;&quot;</td><td>null</td><td>&quot;&#x27;doc. Ing. Mgr…</td><td>&quot;&#x27;doc. Ing. Mgr…</td><td>[449]</td><td>&quot;&quot;</td><td>&quot;&quot;</td><td>null</td><td>&quot;&quot;</td><td>&quot;&quot;</td><td>&quot;&quot;</td><td>&quot;&quot;</td><td>&quot;&quot;</td><td>&quot;&quot;</td><td>&quot;&quot;</td><td>&quot;&#x27;Lagová M., Ja…</td><td>&quot;&quot;</td><td>&quot;&quot;</td><td>&quot;&quot;</td><td>&quot;N&quot;</td><td>0</td><td>&quot;HOD/TYD&quot;</td><td>2</td><td>&quot;HOD/TYD&quot;</td><td>0</td><td>&quot;HOD/TYD&quot;</td><td>&quot;Náplní výběrov…</td><td>&quot;Zápočet&quot;</td><td>&quot;NE&quot;</td><td>&quot;Ústní&quot;</td><td>&quot;Vstupní požada…</td><td>&quot;1) Úvod do mat…</td><td>&quot;&quot;</td><td>&quot;&quot;</td><td>&quot;&quot;</td><td>&quot;&quot;</td><td>&quot;Čeština&quot;</td><td>&quot;vk 1528&quot;</td><td>&quot;A&quot;</td><td>&quot;N&quot;</td><td>&quot;N&quot;</td><td>&quot;&quot;</td><td>&quot;1&quot;</td><td>&quot;1&quot;</td><td>&quot;A&quot;</td><td>&quot;A&quot;</td><td>&quot;&quot;</td><td>0</td><td>&quot;&quot;</td><td>&quot;Bc.&quot;</td><td>&quot;A&quot;</td><td>null</td><td>&quot;&quot;</td><td>&quot;&quot;</td><td>&quot;&quot;</td></tr><tr><td>&quot;KI&quot;</td><td>&quot;0121&quot;</td><td>2023</td><td>&quot;CCNA 1: Introd…</td><td>&quot;CCNA 1: Introd…</td><td>&quot;A&quot;</td><td>&quot;A&quot;</td><td>1</td><td>&quot;NE&quot;</td><td>&quot;&quot;</td><td>&quot;&#x27;RNDr. Jan Kre…</td><td>&quot;&#x27;RNDr. Jan Kre…</td><td>[2776]</td><td>&quot;&quot;</td><td>&quot;&quot;</td><td>null</td><td>&quot;&#x27;RNDr. Jan Kre…</td><td>&quot;&#x27;RNDr. Jan Kre…</td><td>[2776]</td><td>&quot;&quot;</td><td>&quot;&quot;</td><td>null</td><td>&quot;&quot;</td><td>&quot;&quot;</td><td>&quot;&quot;</td><td>&quot;&quot;</td><td>&quot;&quot;</td><td>&quot;&quot;</td><td>&quot;&quot;</td><td>&quot;&quot;</td><td>&quot;&quot;</td><td>&quot;&quot;</td><td>&quot;&quot;</td><td>&quot;N&quot;</td><td>0</td><td>&quot;HOD/TYD&quot;</td><td>1</td><td>&quot;HOD/TYD&quot;</td><td>0</td><td>&quot;HOD/TYD&quot;</td><td>&quot;Cílem předmětu…</td><td>&quot;Zápočet&quot;</td><td>&quot;NE&quot;</td><td>&quot;Kombinovaná&quot;</td><td>&quot;Splnění závěre…</td><td>&quot;Cílem předmětu…</td><td>&quot;&quot;</td><td>&quot;&quot;</td><td>&quot;&quot;</td><td>&quot;&quot;</td><td>&quot;Čeština, Angli…</td><td>&quot;vk&quot;</td><td>&quot;A&quot;</td><td>&quot;N&quot;</td><td>&quot;N&quot;</td><td>&quot;&quot;</td><td>&quot;&quot;</td><td>&quot;&quot;</td><td>&quot;A&quot;</td><td>&quot;A&quot;</td><td>&quot;&quot;</td><td>0</td><td>&quot;&quot;</td><td>&quot;Bc.&quot;</td><td>&quot;A&quot;</td><td>null</td><td>&quot;&quot;</td><td>&quot;&quot;</td><td>&quot;&quot;</td></tr><tr><td>&quot;KI&quot;</td><td>&quot;0126&quot;</td><td>2023</td><td>&quot;CCNA 2: Routin…</td><td>&quot;CCNA 2: Routin…</td><td>&quot;A&quot;</td><td>&quot;A&quot;</td><td>2</td><td>&quot;NE&quot;</td><td>&quot;&quot;</td><td>&quot;&#x27;RNDr. Jan Kre…</td><td>&quot;&#x27;RNDr. Jan Kre…</td><td>[2776]</td><td>&quot;&quot;</td><td>&quot;&quot;</td><td>null</td><td>&quot;&#x27;RNDr. Jan Kre…</td><td>&quot;&#x27;RNDr. Jan Kre…</td><td>[2776]</td><td>&quot;&quot;</td><td>&quot;&quot;</td><td>null</td><td>&quot;&quot;</td><td>&quot;&quot;</td><td>&quot;&quot;</td><td>&quot;&quot;</td><td>&quot;&quot;</td><td>&quot;&quot;</td><td>&quot;&quot;</td><td>&quot;&quot;</td><td>&quot;&quot;</td><td>&quot;&quot;</td><td>&quot;&quot;</td><td>&quot;N&quot;</td><td>0</td><td>&quot;HOD/TYD&quot;</td><td>2</td><td>&quot;HOD/TYD&quot;</td><td>0</td><td>&quot;HOD/TYD&quot;</td><td>&quot;Cílem předmětu…</td><td>&quot;Zápočet&quot;</td><td>&quot;NE&quot;</td><td>&quot;Kombinovaná&quot;</td><td>&quot;Splnění závěre…</td><td>&quot;Cílem předmětu…</td><td>&quot;CCNA 1&quot;</td><td>&quot;&quot;</td><td>&quot;&quot;</td><td>&quot;&quot;</td><td>&quot;Čeština, Angli…</td><td>&quot;vk&quot;</td><td>&quot;A&quot;</td><td>&quot;N&quot;</td><td>&quot;N&quot;</td><td>&quot;&quot;</td><td>&quot;&quot;</td><td>&quot;&quot;</td><td>&quot;A&quot;</td><td>&quot;A&quot;</td><td>&quot;&quot;</td><td>0</td><td>&quot;&quot;</td><td>&quot;Bc.&quot;</td><td>&quot;A&quot;</td><td>null</td><td>&quot;&quot;</td><td>&quot;&quot;</td><td>&quot;&quot;</td></tr><tr><td>&quot;KI&quot;</td><td>&quot;0127&quot;</td><td>2023</td><td>&quot;CCNA 3: Scalin…</td><td>&quot;CCNA 3: Scalin…</td><td>&quot;A&quot;</td><td>&quot;A&quot;</td><td>2</td><td>&quot;NE&quot;</td><td>&quot;&quot;</td><td>&quot;&#x27;RNDr. Jan Kre…</td><td>&quot;&#x27;RNDr. Jan Kre…</td><td>[2776]</td><td>&quot;&quot;</td><td>&quot;&quot;</td><td>null</td><td>&quot;&#x27;RNDr. Jan Kre…</td><td>&quot;&#x27;RNDr. Jan Kre…</td><td>[2776]</td><td>&quot;&quot;</td><td>&quot;&quot;</td><td>null</td><td>&quot;&quot;</td><td>&quot;&quot;</td><td>&quot;&quot;</td><td>&quot;&quot;</td><td>&quot;&quot;</td><td>&quot;&quot;</td><td>&quot;&quot;</td><td>&quot;&quot;</td><td>&quot;&quot;</td><td>&quot;&quot;</td><td>&quot;&quot;</td><td>&quot;N&quot;</td><td>0</td><td>&quot;HOD/TYD&quot;</td><td>2</td><td>&quot;HOD/TYD&quot;</td><td>0</td><td>&quot;HOD/TYD&quot;</td><td>&quot;Cílem předmětu…</td><td>&quot;Zápočet&quot;</td><td>&quot;NE&quot;</td><td>&quot;Kombinovaná&quot;</td><td>&quot;Splnění závěre…</td><td>&quot;Cíle předmětu:…</td><td>&quot;CCNA 2&quot;</td><td>&quot;&quot;</td><td>&quot;&quot;</td><td>&quot;&quot;</td><td>&quot;Čeština, Angli…</td><td>&quot;vk&quot;</td><td>&quot;A&quot;</td><td>&quot;N&quot;</td><td>&quot;N&quot;</td><td>&quot;&quot;</td><td>&quot;&quot;</td><td>&quot;&quot;</td><td>&quot;A&quot;</td><td>&quot;A&quot;</td><td>&quot;&quot;</td><td>0</td><td>&quot;&quot;</td><td>&quot;Bc.&quot;</td><td>&quot;A&quot;</td><td>null</td><td>&quot;&quot;</td><td>&quot;&quot;</td><td>&quot;&quot;</td></tr><tr><td>&quot;KI&quot;</td><td>&quot;0190&quot;</td><td>2023</td><td>&quot;CCNA Security&quot;</td><td>&quot;CCNA Security&quot;</td><td>&quot;A&quot;</td><td>&quot;A&quot;</td><td>2</td><td>&quot;NE&quot;</td><td>&quot;&quot;</td><td>&quot;&#x27;RNDr. Jan Kre…</td><td>&quot;&#x27;RNDr. Jan Kre…</td><td>[2776]</td><td>&quot;&quot;</td><td>&quot;&quot;</td><td>null</td><td>&quot;&#x27;RNDr. Jan Kre…</td><td>&quot;&#x27;RNDr. Jan Kre…</td><td>[2776]</td><td>&quot;&quot;</td><td>&quot;&quot;</td><td>null</td><td>&quot;&quot;</td><td>&quot;&quot;</td><td>&quot;&quot;</td><td>&quot;&quot;</td><td>&quot;&quot;</td><td>&quot;&quot;</td><td>&quot;&quot;</td><td>&quot;&quot;</td><td>&quot;&quot;</td><td>&quot;&quot;</td><td>&quot;&quot;</td><td>&quot;N&quot;</td><td>0</td><td>&quot;HOD/TYD&quot;</td><td>2</td><td>&quot;HOD/TYD&quot;</td><td>0</td><td>&quot;HOD/TYD&quot;</td><td>&quot;Cílem předmětu…</td><td>&quot;Zápočet&quot;</td><td>&quot;NE&quot;</td><td>&quot;Kombinovaná&quot;</td><td>&quot;Splnění závěre…</td><td>&quot;1. Moderní hro…</td><td>&quot;CCNA 2&quot;</td><td>&quot;&quot;</td><td>&quot;&quot;</td><td>&quot;&quot;</td><td>&quot;Čeština, Angli…</td><td>&quot;&quot;</td><td>&quot;A&quot;</td><td>&quot;N&quot;</td><td>&quot;N&quot;</td><td>&quot;&quot;</td><td>&quot;&quot;</td><td>&quot;&quot;</td><td>&quot;A&quot;</td><td>&quot;A&quot;</td><td>&quot;&quot;</td><td>0</td><td>&quot;&quot;</td><td>&quot;Bc.&quot;</td><td>&quot;A&quot;</td><td>null</td><td>&quot;&quot;</td><td>&quot;&quot;</td><td>&quot;&quot;</td></tr></tbody></table></div>"
      ],
      "text/plain": [
       "shape: (5, 69)\n",
       "┌─────────┬─────────┬──────┬──────────────────────────┬───┬───────────────────┬──────┬──────┬──────┐\n",
       "│ katedra ┆ zkratka ┆ rok  ┆ nazev                    ┆ … ┆ hodZaSemKombForma ┆ aMax ┆ bMax ┆ cMax │\n",
       "│ ---     ┆ ---     ┆ ---  ┆ ---                      ┆   ┆ ---               ┆ ---  ┆ ---  ┆ ---  │\n",
       "│ str     ┆ str     ┆ i64  ┆ str                      ┆   ┆ list[i64]         ┆ str  ┆ str  ┆ str  │\n",
       "╞═════════╪═════════╪══════╪══════════════════════════╪═══╪═══════════════════╪══════╪══════╪══════╡\n",
       "│ KI      ┆ 0033    ┆ 2023 ┆ Optimalizace v Excelu    ┆ … ┆ null              ┆      ┆      ┆      │\n",
       "│ KI      ┆ 0121    ┆ 2023 ┆ CCNA 1: Introduction to  ┆ … ┆ null              ┆      ┆      ┆      │\n",
       "│         ┆         ┆      ┆ Networks                 ┆   ┆                   ┆      ┆      ┆      │\n",
       "│ KI      ┆ 0126    ┆ 2023 ┆ CCNA 2: Routing and      ┆ … ┆ null              ┆      ┆      ┆      │\n",
       "│         ┆         ┆      ┆ Switching Es…            ┆   ┆                   ┆      ┆      ┆      │\n",
       "│ KI      ┆ 0127    ┆ 2023 ┆ CCNA 3: Scaling Networks ┆ … ┆ null              ┆      ┆      ┆      │\n",
       "│ KI      ┆ 0190    ┆ 2023 ┆ CCNA Security            ┆ … ┆ null              ┆      ┆      ┆      │\n",
       "└─────────┴─────────┴──────┴──────────────────────────┴───┴───────────────────┴──────┴──────┴──────┘"
      ]
     },
     "execution_count": 77,
     "metadata": {},
     "output_type": "execute_result"
    }
   ],
   "source": [
    "predmety_s_akci = predmety_by_kat.join(other=rozvrh_by_kat, on=\"zkratka\", how=\"inner\").select(predmety_by_kat.columns).unique().sort(\"zkratka\")\n",
    "str(len(predmety_s_akci)) + \"   \" + str(len(predmety_by_kat)) # ...what does this do\n",
    "predmety_s_akci.head()"
   ]
  },
  {
   "attachments": {},
   "cell_type": "markdown",
   "metadata": {},
   "source": [
    "# Vyučující a garanti"
   ]
  },
  {
   "cell_type": "code",
   "execution_count": 78,
   "metadata": {},
   "outputs": [],
   "source": [
    "jednotek_prednasek = pl.col(\"jednotekPrednasek\")\n",
    "jednotek_cviceni = pl.col(\"jednotekCviceni\")\n",
    "jednotek_seminare = pl.col(\"jednotekSeminare\")\n",
    "garant = pl.col(\"garanti\")\n",
    "cvicici = pl.col(\"cvicici\")\n",
    "prednasejici = pl.col(\"prednasejici\")\n",
    "seminarici = pl.col(\"seminarici\")"
   ]
  },
  {
   "attachments": {},
   "cell_type": "markdown",
   "metadata": {},
   "source": [
    "### Každý předmět má právě jednoho garanta\n",
    "\n",
    "> Zde jsou předměty, které nemají garanta:"
   ]
  },
  {
   "cell_type": "code",
   "execution_count": 82,
   "metadata": {},
   "outputs": [
    {
     "name": "stdout",
     "output_type": "stream",
     "text": [
      "\n",
      "17 Předmětů nemá zadaného garanta\n"
     ]
    },
    {
     "data": {
      "text/html": [
       "<div><style>\n",
       ".dataframe > thead > tr,\n",
       ".dataframe > tbody > tr {\n",
       "  text-align: right;\n",
       "  white-space: pre-wrap;\n",
       "}\n",
       "</style>\n",
       "<small>shape: (17, 6)</small><table border=\"1\" class=\"dataframe\"><thead><tr><th>zkratka</th><th>rok</th><th>nazev</th><th>nazevDlouhy</th><th>garanti</th><th>garantiSPodily</th></tr><tr><td>str</td><td>i64</td><td>str</td><td>str</td><td>str</td><td>str</td></tr></thead><tbody><tr><td>&quot;BOP&quot;</td><td>2023</td><td>&quot;Odborná praxe&quot;</td><td>&quot;Odborná praxe&quot;</td><td>&quot;&quot;</td><td>&quot;&quot;</td></tr><tr><td>&quot;BP2O&quot;</td><td>2023</td><td>&quot;Bakalářská prá…</td><td>&quot;Bakalářská prá…</td><td>&quot;&quot;</td><td>&quot;&quot;</td></tr><tr><td>&quot;BPP&quot;</td><td>2023</td><td>&quot;Bakalářská prá…</td><td>&quot;Bakalářská prá…</td><td>&quot;&quot;</td><td>&quot;&quot;</td></tr><tr><td>&quot;DPP&quot;</td><td>2023</td><td>&quot;Diplomová prác…</td><td>&quot;Diplomová prác…</td><td>&quot;&quot;</td><td>&quot;&quot;</td></tr><tr><td>&quot;EDAV&quot;</td><td>2023</td><td>&quot;Data Analysis …</td><td>&quot;Data Analysis …</td><td>&quot;&quot;</td><td>&quot;&quot;</td></tr><tr><td>&hellip;</td><td>&hellip;</td><td>&hellip;</td><td>&hellip;</td><td>&hellip;</td><td>&hellip;</td></tr><tr><td>&quot;SZZIV&quot;</td><td>2023</td><td>&quot;Informatika pr…</td><td>&quot;Informatika pr…</td><td>&quot;&quot;</td><td>&quot;&quot;</td></tr><tr><td>&quot;SZZPP&quot;</td><td>2023</td><td>&quot;Aplikovaná inf…</td><td>&quot;Aplikovaná inf…</td><td>&quot;&quot;</td><td>&quot;&quot;</td></tr><tr><td>&quot;SZZTD&quot;</td><td>2023</td><td>&quot;Teoretické zák…</td><td>&quot;Teoretické zák…</td><td>&quot;&quot;</td><td>&quot;&quot;</td></tr><tr><td>&quot;SZZTP&quot;</td><td>2023</td><td>&quot;Teoretické zák…</td><td>&quot;Teoretické zák…</td><td>&quot;&quot;</td><td>&quot;&quot;</td></tr><tr><td>&quot;SZZVP&quot;</td><td>2023</td><td>&quot;Aplikovaná inf…</td><td>&quot;Aplikovaná inf…</td><td>&quot;&quot;</td><td>&quot;&quot;</td></tr></tbody></table></div>"
      ],
      "text/plain": [
       "shape: (17, 6)\n",
       "┌─────────┬──────┬───────────────────────────┬──────────────────────────┬─────────┬────────────────┐\n",
       "│ zkratka ┆ rok  ┆ nazev                     ┆ nazevDlouhy              ┆ garanti ┆ garantiSPodily │\n",
       "│ ---     ┆ ---  ┆ ---                       ┆ ---                      ┆ ---     ┆ ---            │\n",
       "│ str     ┆ i64  ┆ str                       ┆ str                      ┆ str     ┆ str            │\n",
       "╞═════════╪══════╪═══════════════════════════╪══════════════════════════╪═════════╪════════════════╡\n",
       "│ BOP     ┆ 2023 ┆ Odborná praxe             ┆ Odborná praxe            ┆         ┆                │\n",
       "│ BP2O    ┆ 2023 ┆ Bakalářská práce          ┆ Bakalářská práce         ┆         ┆                │\n",
       "│ BPP     ┆ 2023 ┆ Bakalářská práce          ┆ Bakalářská práce         ┆         ┆                │\n",
       "│ DPP     ┆ 2023 ┆ Diplomová práce           ┆ Diplomová práce          ┆         ┆                │\n",
       "│ EDAV    ┆ 2023 ┆ Data Analysis and         ┆ Data Analysis and        ┆         ┆                │\n",
       "│         ┆      ┆ Visualisation             ┆ Visualisation            ┆         ┆                │\n",
       "│ …       ┆ …    ┆ …                         ┆ …                        ┆ …       ┆ …              │\n",
       "│ SZZIV   ┆ 2023 ┆ Informatika pro           ┆ Informatika pro          ┆         ┆                │\n",
       "│         ┆      ┆ vzdělávání                ┆ vzdělávání               ┆         ┆                │\n",
       "│ SZZPP   ┆ 2023 ┆ Aplikovaná informatika:   ┆ Aplikovaná informatika:  ┆         ┆                │\n",
       "│         ┆      ┆ povinný …                 ┆ povinný …                ┆         ┆                │\n",
       "│ SZZTD   ┆ 2023 ┆ Teoretické základy        ┆ Teoretické základy       ┆         ┆                │\n",
       "│         ┆      ┆ datového inže…            ┆ datového inže…           ┆         ┆                │\n",
       "│ SZZTP   ┆ 2023 ┆ Teoretické základy        ┆ Teoretické základy       ┆         ┆                │\n",
       "│         ┆      ┆ informatiky               ┆ informatiky              ┆         ┆                │\n",
       "│ SZZVP   ┆ 2023 ┆ Aplikovaná informatika:   ┆ Aplikovaná informatika:  ┆         ┆                │\n",
       "│         ┆      ┆ voliteln…                 ┆ voliteln…                ┆         ┆                │\n",
       "└─────────┴──────┴───────────────────────────┴──────────────────────────┴─────────┴────────────────┘"
      ]
     },
     "execution_count": 82,
     "metadata": {},
     "output_type": "execute_result"
    }
   ],
   "source": [
    "zkratky = predmety_s_akci.filter(pl.col(\"garantiUcitIdno\").is_null()).select([\"zkratka\", \"rok\", \"nazev\", \"nazevDlouhy\", \"garanti\", \"garantiSPodily\"]).filter(\n",
    "    # Není SZ\n",
    "    # pl.col(\"zkratka\").str.starts_with(\"SZ\").is_not()\n",
    "    True\n",
    ")\n",
    "print(f\"\\n{len(zkratky)} Předmětů nemá zadaného garanta\")\n",
    "zkratky.write_excel(\"results/bez_garanta.xlsx\")\n",
    "zkratky\n",
    "# print(list(zkratky), sep=\", \")"
   ]
  },
  {
   "attachments": {},
   "cell_type": "markdown",
   "metadata": {},
   "source": [
    "> Předměty podezřelé z více garantů:"
   ]
  },
  {
   "cell_type": "code",
   "execution_count": 87,
   "metadata": {},
   "outputs": [
    {
     "data": {
      "text/html": [
       "<div><style>\n",
       ".dataframe > thead > tr,\n",
       ".dataframe > tbody > tr {\n",
       "  text-align: right;\n",
       "  white-space: pre-wrap;\n",
       "}\n",
       "</style>\n",
       "<small>shape: (0, 4)</small><table border=\"1\" class=\"dataframe\"><thead><tr><th>garantiUcitIdno</th><th>garanti</th><th>zkratka</th><th>pocet garantu</th></tr><tr><td>list[i64]</td><td>str</td><td>str</td><td>u32</td></tr></thead><tbody></tbody></table></div>"
      ],
      "text/plain": [
       "shape: (0, 4)\n",
       "┌─────────────────┬─────────┬─────────┬───────────────┐\n",
       "│ garantiUcitIdno ┆ garanti ┆ zkratka ┆ pocet garantu │\n",
       "│ ---             ┆ ---     ┆ ---     ┆ ---           │\n",
       "│ list[i64]       ┆ str     ┆ str     ┆ u32           │\n",
       "╞═════════════════╪═════════╪═════════╪═══════════════╡\n",
       "└─────────────────┴─────────┴─────────┴───────────────┘"
      ]
     },
     "execution_count": 87,
     "metadata": {},
     "output_type": "execute_result"
    }
   ],
   "source": [
    "# predmety_s_akci.filter( > pl.lit())\n",
    "# Nefunguje, arr.lengths údajně nic není\n",
    "vice_garantu = predmety_s_akci.with_columns(pl.col(\"garantiUcitIdno\").list.len().alias(\"pocet garantu\")\n",
    "    ).select(\n",
    "        [\"garantiUcitIdno\", \"garanti\", \"zkratka\", \"pocet garantu\"]\n",
    "    ).filter(pl.col(\"pocet garantu\") > 1)\n",
    "vice_garantu.write_excel(\"results/vice_garantu.xlsx\")\n",
    "vice_garantu.head(10)"
   ]
  },
  {
   "cell_type": "code",
   "execution_count": null,
   "metadata": {},
   "outputs": [],
   "source": []
  },
  {
   "attachments": {},
   "cell_type": "markdown",
   "metadata": {},
   "source": [
    "### Každý předmět má alespoň jednoho vyučujícího v kategoriích dle parametrů předmětu\n",
    "\n",
    "např. pokud má předmět rozsah 2 h přednášek a 2 h cvičení, pak musí mít alespoň jednoho přednášejícího a alespoň jednoho cvičícího a zároveň nesmí mít vyučujícího v kategorii vede seminář."
   ]
  },
  {
   "cell_type": "code",
   "execution_count": 88,
   "metadata": {},
   "outputs": [
    {
     "data": {
      "text/html": [
       "<div><style>\n",
       ".dataframe > thead > tr,\n",
       ".dataframe > tbody > tr {\n",
       "  text-align: right;\n",
       "  white-space: pre-wrap;\n",
       "}\n",
       "</style>\n",
       "<small>shape: (1, 69)</small><table border=\"1\" class=\"dataframe\"><thead><tr><th>katedra</th><th>zkratka</th><th>rok</th><th>nazev</th><th>nazevDlouhy</th><th>vyukaZS</th><th>vyukaLS</th><th>kreditu</th><th>viceZapis</th><th>minObsazeni</th><th>garanti</th><th>garantiSPodily</th><th>garantiUcitIdno</th><th>prednasejici</th><th>prednasejiciSPodily</th><th>prednasejiciUcitIdno</th><th>cvicici</th><th>cviciciSPodily</th><th>cviciciUcitIdno</th><th>seminarici</th><th>seminariciSPodily</th><th>seminariciUcitIdno</th><th>schvalujiciUznani</th><th>schvalujiciUznaniUcitIdno</th><th>examinatori</th><th>examinatoriUcitIdno</th><th>podminujiciPredmety</th><th>vylucujiciPredmety</th><th>podminujePredmety</th><th>literatura</th><th>nahrazPredmety</th><th>metodyVyucovaci</th><th>metodyHodnotici</th><th>akreditovan</th><th>jednotekPrednasek</th><th>jednotkaPrednasky</th><th>jednotekCviceni</th><th>jednotkaCviceni</th><th>jednotekSeminare</th><th>jednotkaSeminare</th><th>anotace</th><th>typZkousky</th><th>maZapocetPredZk</th><th>formaZkousky</th><th>pozadavky</th><th>prehledLatky</th><th>predpoklady</th><th>ziskaneZpusobilosti</th><th>casovaNarocnost</th><th>predmetUrl</th><th>vyucovaciJazyky</th><th>poznamka</th><th>ectsZobrazit</th><th>ectsAkreditace</th><th>ectsNabizetUPrijezdu</th><th>poznamkaVerejna</th><th>skupinaAkreditace</th><th>skupinaAkreditaceKey</th><th>zarazenDoPrezencnihoStudia</th><th>zarazenDoKombinovanehoStudia</th><th>studijniOpory</th><th>praxePocetDnu</th><th>urovenNastavena</th><th>urovenVypoctena</th><th>automatickyUznavatZppZk</th><th>hodZaSemKombForma</th><th>aMax</th><th>bMax</th><th>cMax</th></tr><tr><td>str</td><td>str</td><td>i64</td><td>str</td><td>str</td><td>str</td><td>str</td><td>i64</td><td>str</td><td>str</td><td>str</td><td>str</td><td>list[i64]</td><td>str</td><td>str</td><td>list[i64]</td><td>str</td><td>str</td><td>list[i64]</td><td>str</td><td>str</td><td>list[i64]</td><td>str</td><td>str</td><td>str</td><td>str</td><td>str</td><td>str</td><td>str</td><td>str</td><td>str</td><td>str</td><td>str</td><td>str</td><td>i64</td><td>str</td><td>i64</td><td>str</td><td>i64</td><td>str</td><td>str</td><td>str</td><td>str</td><td>str</td><td>str</td><td>str</td><td>str</td><td>str</td><td>str</td><td>str</td><td>str</td><td>str</td><td>str</td><td>str</td><td>str</td><td>str</td><td>str</td><td>str</td><td>str</td><td>str</td><td>str</td><td>i64</td><td>str</td><td>str</td><td>str</td><td>list[i64]</td><td>str</td><td>str</td><td>str</td></tr></thead><tbody><tr><td>&quot;KI&quot;</td><td>&quot;KVICT&quot;</td><td>2023</td><td>&quot;Využití ICT ve…</td><td>&quot;Využití ICT ve…</td><td>&quot;N&quot;</td><td>&quot;A&quot;</td><td>2</td><td>&quot;NE&quot;</td><td>&quot;&quot;</td><td>&quot;&#x27;RNDr. Jan Kre…</td><td>&quot;&#x27;RNDr. Jan Kre…</td><td>[2776]</td><td>&quot;&quot;</td><td>&quot;&quot;</td><td>null</td><td>&quot;&quot;</td><td>&quot;&quot;</td><td>null</td><td>&quot;&#x27;RNDr. Jan Kre…</td><td>&quot;&#x27;RNDr. Jan Kre…</td><td>[2776]</td><td>&quot;&quot;</td><td>&quot;&quot;</td><td>&quot;&quot;</td><td>&quot;&quot;</td><td>&quot;&quot;</td><td>&quot;&quot;</td><td>&quot;&quot;</td><td>&quot;&quot;</td><td>&quot;&quot;</td><td>&quot;&quot;</td><td>&quot;&quot;</td><td>&quot;N&quot;</td><td>4</td><td>&quot;HOD/SEM&quot;</td><td>0</td><td>&quot;HOD/SEM&quot;</td><td>2</td><td>&quot;HOD/SEM&quot;</td><td>&quot;1. Mezipředmět…</td><td>&quot;Zápočet&quot;</td><td>&quot;NE&quot;</td><td>&quot;Kombinovaná&quot;</td><td>&quot;- tvořivá prác…</td><td>&quot;1. Mezipředmět…</td><td>&quot;&quot;</td><td>&quot;&quot;</td><td>&quot;&quot;</td><td>&quot;&quot;</td><td>&quot;Čeština&quot;</td><td>&quot;&quot;</td><td>&quot;A&quot;</td><td>&quot;N&quot;</td><td>&quot;N&quot;</td><td>&quot;&quot;</td><td>&quot;&quot;</td><td>&quot;&quot;</td><td>&quot;N&quot;</td><td>&quot;A&quot;</td><td>&quot;&quot;</td><td>0</td><td>&quot;&quot;</td><td>&quot;Mgr.&quot;</td><td>&quot;A&quot;</td><td>[0]</td><td>&quot;&quot;</td><td>&quot;&quot;</td><td>&quot;&quot;</td></tr></tbody></table></div>"
      ],
      "text/plain": [
       "shape: (1, 69)\n",
       "┌─────────┬─────────┬──────┬──────────────────────┬───┬───────────────────┬──────┬──────┬──────┐\n",
       "│ katedra ┆ zkratka ┆ rok  ┆ nazev                ┆ … ┆ hodZaSemKombForma ┆ aMax ┆ bMax ┆ cMax │\n",
       "│ ---     ┆ ---     ┆ ---  ┆ ---                  ┆   ┆ ---               ┆ ---  ┆ ---  ┆ ---  │\n",
       "│ str     ┆ str     ┆ i64  ┆ str                  ┆   ┆ list[i64]         ┆ str  ┆ str  ┆ str  │\n",
       "╞═════════╪═════════╪══════╪══════════════════════╪═══╪═══════════════════╪══════╪══════╪══════╡\n",
       "│ KI      ┆ KVICT   ┆ 2023 ┆ Využití ICT ve výuce ┆ … ┆ [0]               ┆      ┆      ┆      │\n",
       "└─────────┴─────────┴──────┴──────────────────────┴───┴───────────────────┴──────┴──────┴──────┘"
      ]
     },
     "execution_count": 88,
     "metadata": {},
     "output_type": "execute_result"
    }
   ],
   "source": [
    "ma_prednasku = jednotek_prednasek != 0\n",
    "nema_prednasejiciho = pl.col(\"prednasejiciUcitIdno\").is_null()\n",
    "\n",
    "chybi_prednasejici = predmety_s_akci.filter(ma_prednasku & nema_prednasejiciho)\n",
    "chybi_prednasejici.write_excel(\"results/chybi_prednasejici.xlsx\")\n",
    "chybi_prednasejici.head()"
   ]
  },
  {
   "cell_type": "code",
   "execution_count": 90,
   "metadata": {},
   "outputs": [
    {
     "data": {
      "text/html": [
       "<div><style>\n",
       ".dataframe > thead > tr,\n",
       ".dataframe > tbody > tr {\n",
       "  text-align: right;\n",
       "  white-space: pre-wrap;\n",
       "}\n",
       "</style>\n",
       "<small>shape: (1, 69)</small><table border=\"1\" class=\"dataframe\"><thead><tr><th>katedra</th><th>zkratka</th><th>rok</th><th>nazev</th><th>nazevDlouhy</th><th>vyukaZS</th><th>vyukaLS</th><th>kreditu</th><th>viceZapis</th><th>minObsazeni</th><th>garanti</th><th>garantiSPodily</th><th>garantiUcitIdno</th><th>prednasejici</th><th>prednasejiciSPodily</th><th>prednasejiciUcitIdno</th><th>cvicici</th><th>cviciciSPodily</th><th>cviciciUcitIdno</th><th>seminarici</th><th>seminariciSPodily</th><th>seminariciUcitIdno</th><th>schvalujiciUznani</th><th>schvalujiciUznaniUcitIdno</th><th>examinatori</th><th>examinatoriUcitIdno</th><th>podminujiciPredmety</th><th>vylucujiciPredmety</th><th>podminujePredmety</th><th>literatura</th><th>nahrazPredmety</th><th>metodyVyucovaci</th><th>metodyHodnotici</th><th>akreditovan</th><th>jednotekPrednasek</th><th>jednotkaPrednasky</th><th>jednotekCviceni</th><th>jednotkaCviceni</th><th>jednotekSeminare</th><th>jednotkaSeminare</th><th>anotace</th><th>typZkousky</th><th>maZapocetPredZk</th><th>formaZkousky</th><th>pozadavky</th><th>prehledLatky</th><th>predpoklady</th><th>ziskaneZpusobilosti</th><th>casovaNarocnost</th><th>predmetUrl</th><th>vyucovaciJazyky</th><th>poznamka</th><th>ectsZobrazit</th><th>ectsAkreditace</th><th>ectsNabizetUPrijezdu</th><th>poznamkaVerejna</th><th>skupinaAkreditace</th><th>skupinaAkreditaceKey</th><th>zarazenDoPrezencnihoStudia</th><th>zarazenDoKombinovanehoStudia</th><th>studijniOpory</th><th>praxePocetDnu</th><th>urovenNastavena</th><th>urovenVypoctena</th><th>automatickyUznavatZppZk</th><th>hodZaSemKombForma</th><th>aMax</th><th>bMax</th><th>cMax</th></tr><tr><td>str</td><td>str</td><td>i64</td><td>str</td><td>str</td><td>str</td><td>str</td><td>i64</td><td>str</td><td>str</td><td>str</td><td>str</td><td>list[i64]</td><td>str</td><td>str</td><td>list[i64]</td><td>str</td><td>str</td><td>list[i64]</td><td>str</td><td>str</td><td>list[i64]</td><td>str</td><td>str</td><td>str</td><td>str</td><td>str</td><td>str</td><td>str</td><td>str</td><td>str</td><td>str</td><td>str</td><td>str</td><td>i64</td><td>str</td><td>i64</td><td>str</td><td>i64</td><td>str</td><td>str</td><td>str</td><td>str</td><td>str</td><td>str</td><td>str</td><td>str</td><td>str</td><td>str</td><td>str</td><td>str</td><td>str</td><td>str</td><td>str</td><td>str</td><td>str</td><td>str</td><td>str</td><td>str</td><td>str</td><td>str</td><td>i64</td><td>str</td><td>str</td><td>str</td><td>list[i64]</td><td>str</td><td>str</td><td>str</td></tr></thead><tbody><tr><td>&quot;KI&quot;</td><td>&quot;BOP&quot;</td><td>2023</td><td>&quot;Odborná praxe&quot;</td><td>&quot;Odborná praxe&quot;</td><td>&quot;A&quot;</td><td>&quot;N&quot;</td><td>24</td><td>&quot;NE&quot;</td><td>&quot;&quot;</td><td>&quot;&quot;</td><td>&quot;&quot;</td><td>null</td><td>&quot;&quot;</td><td>&quot;&quot;</td><td>null</td><td>&quot;&quot;</td><td>&quot;&quot;</td><td>null</td><td>&quot;&quot;</td><td>&quot;&quot;</td><td>null</td><td>&quot;&quot;</td><td>&quot;&quot;</td><td>&quot;&quot;</td><td>&quot;&quot;</td><td>&quot;&quot;</td><td>&quot;&quot;</td><td>&quot;&quot;</td><td>&quot;&quot;</td><td>&quot;&quot;</td><td>&quot;&quot;</td><td>&quot;&quot;</td><td>&quot;A&quot;</td><td>0</td><td>&quot;HOD/TYD&quot;</td><td>12</td><td>&quot;TYD/SEM&quot;</td><td>0</td><td>&quot;HOD/TYD&quot;</td><td>&quot;Odborná praxe …</td><td>&quot;Zápočet&quot;</td><td>&quot;NE&quot;</td><td>&quot;Kombinovaná&quot;</td><td>&quot;Zápočet je udě…</td><td>&quot;Odborná praxe …</td><td>&quot;&quot;</td><td>&quot;&quot;</td><td>&quot;&quot;</td><td>&quot;&quot;</td><td>&quot;Čeština&quot;</td><td>&quot;&quot;</td><td>&quot;A&quot;</td><td>&quot;N&quot;</td><td>&quot;N&quot;</td><td>&quot;&quot;</td><td>&quot;&quot;</td><td>&quot;&quot;</td><td>&quot;A&quot;</td><td>&quot;A&quot;</td><td>&quot;&quot;</td><td>0</td><td>&quot;&quot;</td><td>&quot;Bc.&quot;</td><td>&quot;A&quot;</td><td>[0]</td><td>&quot;&quot;</td><td>&quot;&quot;</td><td>&quot;&quot;</td></tr></tbody></table></div>"
      ],
      "text/plain": [
       "shape: (1, 69)\n",
       "┌─────────┬─────────┬──────┬───────────────┬───┬───────────────────┬──────┬──────┬──────┐\n",
       "│ katedra ┆ zkratka ┆ rok  ┆ nazev         ┆ … ┆ hodZaSemKombForma ┆ aMax ┆ bMax ┆ cMax │\n",
       "│ ---     ┆ ---     ┆ ---  ┆ ---           ┆   ┆ ---               ┆ ---  ┆ ---  ┆ ---  │\n",
       "│ str     ┆ str     ┆ i64  ┆ str           ┆   ┆ list[i64]         ┆ str  ┆ str  ┆ str  │\n",
       "╞═════════╪═════════╪══════╪═══════════════╪═══╪═══════════════════╪══════╪══════╪══════╡\n",
       "│ KI      ┆ BOP     ┆ 2023 ┆ Odborná praxe ┆ … ┆ [0]               ┆      ┆      ┆      │\n",
       "└─────────┴─────────┴──────┴───────────────┴───┴───────────────────┴──────┴──────┴──────┘"
      ]
     },
     "execution_count": 90,
     "metadata": {},
     "output_type": "execute_result"
    }
   ],
   "source": [
    "ma_cviceni = jednotek_cviceni != 0\n",
    "nema_cviciciho = pl.col(\"cviciciUcitIdno\").is_null()\n",
    "\n",
    "chybi_cvicici = predmety_s_akci.filter(ma_cviceni & nema_cviciciho)\n",
    "chybi_cvicici.write_excel(\"results/chybi_cvicici.xlsx\")\n",
    "chybi_cvicici.head()"
   ]
  },
  {
   "cell_type": "code",
   "execution_count": 91,
   "metadata": {},
   "outputs": [
    {
     "data": {
      "text/html": [
       "<div><style>\n",
       ".dataframe > thead > tr,\n",
       ".dataframe > tbody > tr {\n",
       "  text-align: right;\n",
       "  white-space: pre-wrap;\n",
       "}\n",
       "</style>\n",
       "<small>shape: (29, 69)</small><table border=\"1\" class=\"dataframe\"><thead><tr><th>katedra</th><th>zkratka</th><th>rok</th><th>nazev</th><th>nazevDlouhy</th><th>vyukaZS</th><th>vyukaLS</th><th>kreditu</th><th>viceZapis</th><th>minObsazeni</th><th>garanti</th><th>garantiSPodily</th><th>garantiUcitIdno</th><th>prednasejici</th><th>prednasejiciSPodily</th><th>prednasejiciUcitIdno</th><th>cvicici</th><th>cviciciSPodily</th><th>cviciciUcitIdno</th><th>seminarici</th><th>seminariciSPodily</th><th>seminariciUcitIdno</th><th>schvalujiciUznani</th><th>schvalujiciUznaniUcitIdno</th><th>examinatori</th><th>examinatoriUcitIdno</th><th>podminujiciPredmety</th><th>vylucujiciPredmety</th><th>podminujePredmety</th><th>literatura</th><th>nahrazPredmety</th><th>metodyVyucovaci</th><th>metodyHodnotici</th><th>akreditovan</th><th>jednotekPrednasek</th><th>jednotkaPrednasky</th><th>jednotekCviceni</th><th>jednotkaCviceni</th><th>jednotekSeminare</th><th>jednotkaSeminare</th><th>anotace</th><th>typZkousky</th><th>maZapocetPredZk</th><th>formaZkousky</th><th>pozadavky</th><th>prehledLatky</th><th>predpoklady</th><th>ziskaneZpusobilosti</th><th>casovaNarocnost</th><th>predmetUrl</th><th>vyucovaciJazyky</th><th>poznamka</th><th>ectsZobrazit</th><th>ectsAkreditace</th><th>ectsNabizetUPrijezdu</th><th>poznamkaVerejna</th><th>skupinaAkreditace</th><th>skupinaAkreditaceKey</th><th>zarazenDoPrezencnihoStudia</th><th>zarazenDoKombinovanehoStudia</th><th>studijniOpory</th><th>praxePocetDnu</th><th>urovenNastavena</th><th>urovenVypoctena</th><th>automatickyUznavatZppZk</th><th>hodZaSemKombForma</th><th>aMax</th><th>bMax</th><th>cMax</th></tr><tr><td>str</td><td>str</td><td>i64</td><td>str</td><td>str</td><td>str</td><td>str</td><td>i64</td><td>str</td><td>str</td><td>str</td><td>str</td><td>list[i64]</td><td>str</td><td>str</td><td>list[i64]</td><td>str</td><td>str</td><td>list[i64]</td><td>str</td><td>str</td><td>list[i64]</td><td>str</td><td>str</td><td>str</td><td>str</td><td>str</td><td>str</td><td>str</td><td>str</td><td>str</td><td>str</td><td>str</td><td>str</td><td>i64</td><td>str</td><td>i64</td><td>str</td><td>i64</td><td>str</td><td>str</td><td>str</td><td>str</td><td>str</td><td>str</td><td>str</td><td>str</td><td>str</td><td>str</td><td>str</td><td>str</td><td>str</td><td>str</td><td>str</td><td>str</td><td>str</td><td>str</td><td>str</td><td>str</td><td>str</td><td>str</td><td>i64</td><td>str</td><td>str</td><td>str</td><td>list[i64]</td><td>str</td><td>str</td><td>str</td></tr></thead><tbody><tr><td>&quot;KI&quot;</td><td>&quot;KAFJ&quot;</td><td>2023</td><td>&quot;Teorie automat…</td><td>&quot;Teorie automat…</td><td>&quot;A&quot;</td><td>&quot;N&quot;</td><td>5</td><td>&quot;NE&quot;</td><td>&quot;&quot;</td><td>&quot;&#x27;doc. Ing. Mgr…</td><td>&quot;&#x27;doc. Ing. Mgr…</td><td>[449]</td><td>&quot;&#x27;doc. Ing. Mgr…</td><td>&quot;&#x27;doc. Ing. Mgr…</td><td>[449]</td><td>&quot;&#x27;doc. Ing. Mgr…</td><td>&quot;&#x27;doc. Ing. Mgr…</td><td>[449, 2220]</td><td>&quot;&quot;</td><td>&quot;&quot;</td><td>null</td><td>&quot;&quot;</td><td>&quot;&quot;</td><td>&quot;&quot;</td><td>&quot;&quot;</td><td>&quot;&quot;</td><td>&quot;&quot;</td><td>&quot;&quot;</td><td>&quot;&#x27;Chytil M. Aut…</td><td>&quot;&quot;</td><td>&quot;&quot;</td><td>&quot;&quot;</td><td>&quot;N&quot;</td><td>6</td><td>&quot;HOD/SEM&quot;</td><td>6</td><td>&quot;HOD/SEM&quot;</td><td>2</td><td>&quot;HOD/SEM&quot;</td><td>&quot;V tomto předmě…</td><td>&quot;Zkouška&quot;</td><td>&quot;ANO&quot;</td><td>&quot;Kombinovaná&quot;</td><td>&quot;Požadavky pro …</td><td>&quot;1.\tKonečné aut…</td><td>&quot;&quot;</td><td>&quot;&quot;</td><td>&quot;&quot;</td><td>&quot;&quot;</td><td>&quot;Čeština&quot;</td><td>&quot;&quot;</td><td>&quot;A&quot;</td><td>&quot;N&quot;</td><td>&quot;N&quot;</td><td>&quot;&quot;</td><td>&quot;&quot;</td><td>&quot;&quot;</td><td>&quot;N&quot;</td><td>&quot;A&quot;</td><td>&quot;&quot;</td><td>0</td><td>&quot;&quot;</td><td>&quot;Bc.&quot;</td><td>&quot;A&quot;</td><td>null</td><td>&quot;&quot;</td><td>&quot;&quot;</td><td>&quot;0&quot;</td></tr><tr><td>&quot;KI&quot;</td><td>&quot;KAPR1&quot;</td><td>2023</td><td>&quot;Algoritmizace …</td><td>&quot;Algoritmizace …</td><td>&quot;A&quot;</td><td>&quot;N&quot;</td><td>4</td><td>&quot;NE&quot;</td><td>&quot;&quot;</td><td>&quot;&#x27;Mgr. Jiří Fiš…</td><td>&quot;&#x27;Mgr. Jiří Fiš…</td><td>[251]</td><td>&quot;&#x27;Mgr. Jiří Fiš…</td><td>&quot;&#x27;Mgr. Jiří Fiš…</td><td>[251]</td><td>&quot;&#x27;Ing. Mgr. Pav…</td><td>&quot;&#x27;Ing. Mgr. Pav…</td><td>[6973, 650, … 6259]</td><td>&quot;&quot;</td><td>&quot;&quot;</td><td>null</td><td>&quot;&quot;</td><td>&quot;&quot;</td><td>&quot;&quot;</td><td>&quot;&quot;</td><td>&quot;&quot;</td><td>&quot;&quot;</td><td>&quot;KI/KAPR2, KI/K…</td><td>&quot;&#x27;https://githu…</td><td>&quot;&quot;</td><td>&quot;&quot;</td><td>&quot;&quot;</td><td>&quot;N&quot;</td><td>6</td><td>&quot;HOD/SEM&quot;</td><td>6</td><td>&quot;HOD/SEM&quot;</td><td>2</td><td>&quot;HOD/SEM&quot;</td><td>&quot;Úvodní kurz al…</td><td>&quot;Zápočet&quot;</td><td>&quot;NE&quot;</td><td>&quot;Kombinovaná&quot;</td><td>&quot;Podmínkou získ…</td><td>&quot;1.\tZákladní te…</td><td>&quot;&quot;</td><td>&quot;&quot;</td><td>&quot;&quot;</td><td>&quot;&quot;</td><td>&quot;Čeština&quot;</td><td>&quot;&quot;</td><td>&quot;A&quot;</td><td>&quot;N&quot;</td><td>&quot;N&quot;</td><td>&quot;&quot;</td><td>&quot;&quot;</td><td>&quot;&quot;</td><td>&quot;N&quot;</td><td>&quot;A&quot;</td><td>&quot;&quot;</td><td>0</td><td>&quot;&quot;</td><td>&quot;Bc.&quot;</td><td>&quot;A&quot;</td><td>[0]</td><td>&quot;&quot;</td><td>&quot;&quot;</td><td>&quot;&quot;</td></tr><tr><td>&quot;KI&quot;</td><td>&quot;KAPR2&quot;</td><td>2023</td><td>&quot;Algoritmizace …</td><td>&quot;Algoritmizace …</td><td>&quot;N&quot;</td><td>&quot;A&quot;</td><td>5</td><td>&quot;NE&quot;</td><td>&quot;&quot;</td><td>&quot;&#x27;Mgr. Jiří Fiš…</td><td>&quot;&#x27;Mgr. Jiří Fiš…</td><td>[251]</td><td>&quot;&#x27;Mgr. Jiří Fiš…</td><td>&quot;&#x27;Mgr. Jiří Fiš…</td><td>[251]</td><td>&quot;&#x27;RNDr. Petr Ku…</td><td>&quot;&#x27;RNDr. Petr Ku…</td><td>[650, 835, 6259]</td><td>&quot;&quot;</td><td>&quot;&quot;</td><td>null</td><td>&quot;&quot;</td><td>&quot;&quot;</td><td>&quot;&quot;</td><td>&quot;&quot;</td><td>&quot;KI/KAPR1&quot;</td><td>&quot;&quot;</td><td>&quot;KI/KGUI, KI/KP…</td><td>&quot;&#x27;https://githu…</td><td>&quot;&quot;</td><td>&quot;&quot;</td><td>&quot;&quot;</td><td>&quot;N&quot;</td><td>6</td><td>&quot;HOD/SEM&quot;</td><td>6</td><td>&quot;HOD/SEM&quot;</td><td>2</td><td>&quot;HOD/SEM&quot;</td><td>&quot;Druhá část úvo…</td><td>&quot;Zkouška&quot;</td><td>&quot;ANO&quot;</td><td>&quot;Kombinovaná&quot;</td><td>&quot;Podmínkou získ…</td><td>&quot;1. Implementac…</td><td>&quot;&quot;</td><td>&quot;&quot;</td><td>&quot;&quot;</td><td>&quot;&quot;</td><td>&quot;Čeština&quot;</td><td>&quot;&quot;</td><td>&quot;A&quot;</td><td>&quot;N&quot;</td><td>&quot;N&quot;</td><td>&quot;&quot;</td><td>&quot;&quot;</td><td>&quot;&quot;</td><td>&quot;N&quot;</td><td>&quot;A&quot;</td><td>&quot;&quot;</td><td>0</td><td>&quot;&quot;</td><td>&quot;Bc.&quot;</td><td>&quot;A&quot;</td><td>[0]</td><td>&quot;&quot;</td><td>&quot;&quot;</td><td>&quot;&quot;</td></tr><tr><td>&quot;KI&quot;</td><td>&quot;KCSY&quot;</td><td>2023</td><td>&quot;Číslicové syst…</td><td>&quot;Číslicové syst…</td><td>&quot;N&quot;</td><td>&quot;A&quot;</td><td>4</td><td>&quot;NE&quot;</td><td>&quot;&quot;</td><td>&quot;&#x27;prof. Sergii …</td><td>&quot;&#x27;prof. Sergii …</td><td>[3416]</td><td>&quot;&#x27;prof. Sergii …</td><td>&quot;&#x27;prof. Sergii …</td><td>[3416]</td><td>&quot;&#x27;prof. Sergii …</td><td>&quot;&#x27;prof. Sergii …</td><td>[3416, 1780]</td><td>&quot;&quot;</td><td>&quot;&quot;</td><td>null</td><td>&quot;&quot;</td><td>&quot;&quot;</td><td>&quot;&quot;</td><td>&quot;&quot;</td><td>&quot;&quot;</td><td>&quot;&quot;</td><td>&quot;KI/PCSY&quot;</td><td>&quot;&#x27;Gook M. Hardw…</td><td>&quot;&quot;</td><td>&quot;&quot;</td><td>&quot;&quot;</td><td>&quot;N&quot;</td><td>4</td><td>&quot;HOD/SEM&quot;</td><td>6</td><td>&quot;HOD/SEM&quot;</td><td>2</td><td>&quot;HOD/SEM&quot;</td><td>&quot;Student se v r…</td><td>&quot;Zkouška&quot;</td><td>&quot;ANO&quot;</td><td>&quot;Kombinovaná&quot;</td><td>&quot;Zápočet: semes…</td><td>&quot;1. Syntéza kom…</td><td>&quot;&quot;</td><td>&quot;&quot;</td><td>&quot;&quot;</td><td>&quot;&quot;</td><td>&quot;Čeština&quot;</td><td>&quot;&quot;</td><td>&quot;A&quot;</td><td>&quot;N&quot;</td><td>&quot;N&quot;</td><td>&quot;&quot;</td><td>&quot;&quot;</td><td>&quot;&quot;</td><td>&quot;N&quot;</td><td>&quot;A&quot;</td><td>&quot;&quot;</td><td>0</td><td>&quot;&quot;</td><td>&quot;Mgr.&quot;</td><td>&quot;A&quot;</td><td>[0]</td><td>&quot;&quot;</td><td>&quot;&quot;</td><td>&quot;&quot;</td></tr><tr><td>&quot;KI&quot;</td><td>&quot;KDI2&quot;</td><td>2023</td><td>&quot;Didaktika info…</td><td>&quot;Didaktika info…</td><td>&quot;N&quot;</td><td>&quot;A&quot;</td><td>4</td><td>&quot;NE&quot;</td><td>&quot;&quot;</td><td>&quot;&#x27;RNDr. Jan Kre…</td><td>&quot;&#x27;RNDr. Jan Kre…</td><td>[2776]</td><td>&quot;&#x27;RNDr. Jan Kre…</td><td>&quot;&#x27;RNDr. Jan Kre…</td><td>[2776]</td><td>&quot;&#x27;Mgr. Kamil Ba…</td><td>&quot;&#x27;Mgr. Kamil Ba…</td><td>[1165, 835]</td><td>&quot;&quot;</td><td>&quot;&quot;</td><td>null</td><td>&quot;&quot;</td><td>&quot;&quot;</td><td>&quot;&quot;</td><td>&quot;&quot;</td><td>&quot;KI/KDI1&quot;</td><td>&quot;&quot;</td><td>&quot;KI/DI3, KI/KDI…</td><td>&quot;&quot;</td><td>&quot;&quot;</td><td>&quot;&quot;</td><td>&quot;&quot;</td><td>&quot;N&quot;</td><td>4</td><td>&quot;HOD/SEM&quot;</td><td>6</td><td>&quot;HOD/SEM&quot;</td><td>2</td><td>&quot;HOD/SEM&quot;</td><td>&quot;&quot;</td><td>&quot;Zkouška&quot;</td><td>&quot;ANO&quot;</td><td>&quot;Kombinovaná&quot;</td><td>&quot;1. tvořivá prá…</td><td>&quot;\n",
       "1. Práce s pr…</td><td>&quot;&quot;</td><td>&quot;&quot;</td><td>&quot;&quot;</td><td>&quot;&quot;</td><td>&quot;Čeština&quot;</td><td>&quot;&quot;</td><td>&quot;A&quot;</td><td>&quot;N&quot;</td><td>&quot;N&quot;</td><td>&quot;&quot;</td><td>&quot;&quot;</td><td>&quot;&quot;</td><td>&quot;N&quot;</td><td>&quot;A&quot;</td><td>&quot;&quot;</td><td>0</td><td>&quot;&quot;</td><td>&quot;Mgr.&quot;</td><td>&quot;A&quot;</td><td>[0]</td><td>&quot;&quot;</td><td>&quot;&quot;</td><td>&quot;&quot;</td></tr><tr><td>&hellip;</td><td>&hellip;</td><td>&hellip;</td><td>&hellip;</td><td>&hellip;</td><td>&hellip;</td><td>&hellip;</td><td>&hellip;</td><td>&hellip;</td><td>&hellip;</td><td>&hellip;</td><td>&hellip;</td><td>&hellip;</td><td>&hellip;</td><td>&hellip;</td><td>&hellip;</td><td>&hellip;</td><td>&hellip;</td><td>&hellip;</td><td>&hellip;</td><td>&hellip;</td><td>&hellip;</td><td>&hellip;</td><td>&hellip;</td><td>&hellip;</td><td>&hellip;</td><td>&hellip;</td><td>&hellip;</td><td>&hellip;</td><td>&hellip;</td><td>&hellip;</td><td>&hellip;</td><td>&hellip;</td><td>&hellip;</td><td>&hellip;</td><td>&hellip;</td><td>&hellip;</td><td>&hellip;</td><td>&hellip;</td><td>&hellip;</td><td>&hellip;</td><td>&hellip;</td><td>&hellip;</td><td>&hellip;</td><td>&hellip;</td><td>&hellip;</td><td>&hellip;</td><td>&hellip;</td><td>&hellip;</td><td>&hellip;</td><td>&hellip;</td><td>&hellip;</td><td>&hellip;</td><td>&hellip;</td><td>&hellip;</td><td>&hellip;</td><td>&hellip;</td><td>&hellip;</td><td>&hellip;</td><td>&hellip;</td><td>&hellip;</td><td>&hellip;</td><td>&hellip;</td><td>&hellip;</td><td>&hellip;</td><td>&hellip;</td><td>&hellip;</td><td>&hellip;</td><td>&hellip;</td></tr><tr><td>&quot;KI&quot;</td><td>&quot;KZKB&quot;</td><td>2023</td><td>&quot;Základy kyberb…</td><td>&quot;Základy kyberb…</td><td>&quot;N&quot;</td><td>&quot;A&quot;</td><td>3</td><td>&quot;NE&quot;</td><td>&quot;&quot;</td><td>&quot;&#x27;doc. RNDr. Mg…</td><td>&quot;&#x27;doc. RNDr. Mg…</td><td>[2239]</td><td>&quot;&#x27;RNDr. Jan Kre…</td><td>&quot;&#x27;RNDr. Jan Kre…</td><td>[2776, 2239, 835]</td><td>&quot;&quot;</td><td>&quot;&quot;</td><td>null</td><td>&quot;&quot;</td><td>&quot;&quot;</td><td>null</td><td>&quot;&quot;</td><td>&quot;&quot;</td><td>&quot;&quot;</td><td>&quot;&quot;</td><td>&quot;&quot;</td><td>&quot;&quot;</td><td>&quot;KI/BTE, KI/KZK…</td><td>&quot;&quot;</td><td>&quot;KI/ZKB&quot;</td><td>&quot;&quot;</td><td>&quot;&quot;</td><td>&quot;N&quot;</td><td>6</td><td>&quot;HOD/SEM&quot;</td><td>0</td><td>&quot;HOD/SEM&quot;</td><td>2</td><td>&quot;HOD/SEM&quot;</td><td>&quot;Předmět je zam…</td><td>&quot;Zkouška&quot;</td><td>&quot;NE&quot;</td><td>&quot;Kombinovaná&quot;</td><td>&quot;Vstupní test n…</td><td>&quot;1. Základní po…</td><td>&quot;&quot;</td><td>&quot;&quot;</td><td>&quot;&quot;</td><td>&quot;&quot;</td><td>&quot;Čeština&quot;</td><td>&quot;&quot;</td><td>&quot;A&quot;</td><td>&quot;N&quot;</td><td>&quot;N&quot;</td><td>&quot;&quot;</td><td>&quot;&quot;</td><td>&quot;&quot;</td><td>&quot;N&quot;</td><td>&quot;A&quot;</td><td>&quot;&quot;</td><td>0</td><td>&quot;&quot;</td><td>&quot;Bc.&quot;</td><td>&quot;A&quot;</td><td>[0]</td><td>&quot;&quot;</td><td>&quot;&quot;</td><td>&quot;&quot;</td></tr><tr><td>&quot;KI&quot;</td><td>&quot;KZPS&quot;</td><td>2023</td><td>&quot;Základy počíta…</td><td>&quot;Základy počíta…</td><td>&quot;A&quot;</td><td>&quot;N&quot;</td><td>4</td><td>&quot;NE&quot;</td><td>&quot;&quot;</td><td>&quot;&#x27;RNDr. Jan Kre…</td><td>&quot;&#x27;RNDr. Jan Kre…</td><td>[2776]</td><td>&quot;&#x27;RNDr. Jan Kre…</td><td>&quot;&#x27;RNDr. Jan Kre…</td><td>[2776]</td><td>&quot;&#x27;Mgr. Kamil Ba…</td><td>&quot;&#x27;Mgr. Kamil Ba…</td><td>[1165, 2776]</td><td>&quot;&quot;</td><td>&quot;&quot;</td><td>null</td><td>&quot;&quot;</td><td>&quot;&quot;</td><td>&quot;&quot;</td><td>&quot;&quot;</td><td>&quot;&quot;</td><td>&quot;&quot;</td><td>&quot;KI/KAIIT, KI/K…</td><td>&quot;&quot;</td><td>&quot;&quot;</td><td>&quot;&quot;</td><td>&quot;&quot;</td><td>&quot;N&quot;</td><td>4</td><td>&quot;HOD/SEM&quot;</td><td>6</td><td>&quot;HOD/SEM&quot;</td><td>2</td><td>&quot;HOD/SEM&quot;</td><td>&quot;Předmět je kon…</td><td>&quot;Zkouška&quot;</td><td>&quot;ANO&quot;</td><td>&quot;Kombinovaná&quot;</td><td>&quot;Zápočet: aktiv…</td><td>&quot;1. Historie vý…</td><td>&quot;&quot;</td><td>&quot;&quot;</td><td>&quot;&quot;</td><td>&quot;&quot;</td><td>&quot;Čeština&quot;</td><td>&quot;&quot;</td><td>&quot;A&quot;</td><td>&quot;N&quot;</td><td>&quot;N&quot;</td><td>&quot;&quot;</td><td>&quot;&quot;</td><td>&quot;&quot;</td><td>&quot;N&quot;</td><td>&quot;A&quot;</td><td>&quot;&quot;</td><td>0</td><td>&quot;&quot;</td><td>&quot;Bc.&quot;</td><td>&quot;A&quot;</td><td>[0]</td><td>&quot;&quot;</td><td>&quot;&quot;</td><td>&quot;&quot;</td></tr><tr><td>&quot;KI&quot;</td><td>&quot;LTP&quot;</td><td>2023</td><td>&quot;Linuxové techn…</td><td>&quot;Linuxové techn…</td><td>&quot;A&quot;</td><td>&quot;N&quot;</td><td>1</td><td>&quot;NE&quot;</td><td>&quot;&quot;</td><td>&quot;&#x27;RNDr. Petr Ku…</td><td>&quot;&#x27;RNDr. Petr Ku…</td><td>[650]</td><td>&quot;&quot;</td><td>&quot;&quot;</td><td>null</td><td>&quot;&quot;</td><td>&quot;&quot;</td><td>null</td><td>&quot;&quot;</td><td>&quot;&quot;</td><td>null</td><td>&quot;&quot;</td><td>&quot;&quot;</td><td>&quot;&quot;</td><td>&quot;&quot;</td><td>&quot;KI/OPS&quot;</td><td>&quot;&quot;</td><td>&quot;&quot;</td><td>&quot;&#x27;Oficiální dok…</td><td>&quot;&quot;</td><td>&quot;&quot;</td><td>&quot;&quot;</td><td>&quot;A&quot;</td><td>0</td><td>&quot;HOD/TYD&quot;</td><td>0</td><td>&quot;HOD/TYD&quot;</td><td>12</td><td>&quot;HOD/SEM&quot;</td><td>&quot;Cílem předmětu…</td><td>&quot;Zápočet&quot;</td><td>&quot;NE&quot;</td><td>&quot;Kombinovaná&quot;</td><td>&quot;Docházka a akt…</td><td>&quot;1. Byznys a IC…</td><td>&quot;&quot;</td><td>&quot;&quot;</td><td>&quot;&quot;</td><td>&quot;&quot;</td><td>&quot;Čeština&quot;</td><td>&quot;&quot;</td><td>&quot;A&quot;</td><td>&quot;N&quot;</td><td>&quot;N&quot;</td><td>&quot;&quot;</td><td>&quot;&quot;</td><td>&quot;&quot;</td><td>&quot;A&quot;</td><td>&quot;N&quot;</td><td>&quot;&quot;</td><td>0</td><td>&quot;&quot;</td><td>&quot;Bc.&quot;</td><td>&quot;A&quot;</td><td>[0]</td><td>&quot;&quot;</td><td>&quot;&quot;</td><td>&quot;&quot;</td></tr><tr><td>&quot;KI&quot;</td><td>&quot;PAP&quot;</td><td>2023</td><td>&quot;Průmyslová aut…</td><td>&quot;Průmyslová aut…</td><td>&quot;N&quot;</td><td>&quot;A&quot;</td><td>2</td><td>&quot;NE&quot;</td><td>&quot;&quot;</td><td>&quot;&quot;</td><td>&quot;&quot;</td><td>null</td><td>&quot;&quot;</td><td>&quot;&quot;</td><td>null</td><td>&quot;&quot;</td><td>&quot;&quot;</td><td>null</td><td>&quot;&quot;</td><td>&quot;&quot;</td><td>null</td><td>&quot;&quot;</td><td>&quot;&quot;</td><td>&quot;&quot;</td><td>&quot;&quot;</td><td>&quot;&quot;</td><td>&quot;&quot;</td><td>&quot;&quot;</td><td>&quot;&#x27;Šípal, J. Aut…</td><td>&quot;&quot;</td><td>&quot;&quot;</td><td>&quot;&quot;</td><td>&quot;A&quot;</td><td>0</td><td>&quot;HOD/TYD&quot;</td><td>0</td><td>&quot;HOD/TYD&quot;</td><td>2</td><td>&quot;HOD/TYD&quot;</td><td>&quot;Cílem předmětu…</td><td>&quot;Zápočet&quot;</td><td>&quot;NE&quot;</td><td>&quot;Kombinovaná&quot;</td><td>&quot;Seminární prác…</td><td>&quot;1.- 2. Úvod do…</td><td>&quot;&quot;</td><td>&quot;&quot;</td><td>&quot;&quot;</td><td>&quot;&quot;</td><td>&quot;Čeština&quot;</td><td>&quot;&quot;</td><td>&quot;A&quot;</td><td>&quot;N&quot;</td><td>&quot;N&quot;</td><td>&quot;&quot;</td><td>&quot;&quot;</td><td>&quot;&quot;</td><td>&quot;A&quot;</td><td>&quot;N&quot;</td><td>&quot;&quot;</td><td>0</td><td>&quot;&quot;</td><td>&quot;Bc.&quot;</td><td>&quot;A&quot;</td><td>[0]</td><td>&quot;&quot;</td><td>&quot;&quot;</td><td>&quot;&quot;</td></tr><tr><td>&quot;KI&quot;</td><td>&quot;PAR&quot;</td><td>2023</td><td>&quot;Parallel Progr…</td><td>&quot;Parallel Progr…</td><td>&quot;N&quot;</td><td>&quot;A&quot;</td><td>5</td><td>&quot;NE&quot;</td><td>&quot;&quot;</td><td>&quot;&#x27;doc. RNDr. Zb…</td><td>&quot;&#x27;doc. RNDr. Zb…</td><td>[3521]</td><td>&quot;&#x27;Mgr. Jiří Fiš…</td><td>&quot;&#x27;Mgr. Jiří Fiš…</td><td>[251, 3521]</td><td>&quot;&#x27;Mgr. Jiří Fiš…</td><td>&quot;&#x27;Mgr. Jiří Fiš…</td><td>[251, 3521]</td><td>&quot;&quot;</td><td>&quot;&quot;</td><td>null</td><td>&quot;&quot;</td><td>&quot;&quot;</td><td>&quot;&quot;</td><td>&quot;&quot;</td><td>&quot;KI/PDSA&quot;</td><td>&quot;&quot;</td><td>&quot;&quot;</td><td>&quot;&quot;</td><td>&quot;&quot;</td><td>&quot;&quot;</td><td>&quot;&quot;</td><td>&quot;N&quot;</td><td>2</td><td>&quot;HOD/TYD&quot;</td><td>25</td><td>&quot;HOD/SEM&quot;</td><td>3</td><td>&quot;HOD/SEM&quot;</td><td>&quot;Předmět se věn…</td><td>&quot;Zkouška&quot;</td><td>&quot;ANO&quot;</td><td>&quot;Kombinovaná&quot;</td><td>&quot;Zápočet: semin…</td><td>&quot;1. - 2. Parale…</td><td>&quot;&quot;</td><td>&quot;&quot;</td><td>&quot;&quot;</td><td>&quot;&quot;</td><td>&quot;Angličtina&quot;</td><td>&quot;&quot;</td><td>&quot;A&quot;</td><td>&quot;N&quot;</td><td>&quot;N&quot;</td><td>&quot;&quot;</td><td>&quot;&quot;</td><td>&quot;&quot;</td><td>&quot;A&quot;</td><td>&quot;N&quot;</td><td>&quot;&quot;</td><td>0</td><td>&quot;&quot;</td><td>&quot;Mgr.&quot;</td><td>&quot;A&quot;</td><td>[0]</td><td>&quot;&quot;</td><td>&quot;&quot;</td><td>&quot;&quot;</td></tr></tbody></table></div>"
      ],
      "text/plain": [
       "shape: (29, 69)\n",
       "┌─────────┬─────────┬──────┬──────────────────────────┬───┬───────────────────┬──────┬──────┬──────┐\n",
       "│ katedra ┆ zkratka ┆ rok  ┆ nazev                    ┆ … ┆ hodZaSemKombForma ┆ aMax ┆ bMax ┆ cMax │\n",
       "│ ---     ┆ ---     ┆ ---  ┆ ---                      ┆   ┆ ---               ┆ ---  ┆ ---  ┆ ---  │\n",
       "│ str     ┆ str     ┆ i64  ┆ str                      ┆   ┆ list[i64]         ┆ str  ┆ str  ┆ str  │\n",
       "╞═════════╪═════════╪══════╪══════════════════════════╪═══╪═══════════════════╪══════╪══════╪══════╡\n",
       "│ KI      ┆ KAFJ    ┆ 2023 ┆ Teorie automatů a        ┆ … ┆ null              ┆      ┆      ┆ 0    │\n",
       "│         ┆         ┆      ┆ formálních jaz…          ┆   ┆                   ┆      ┆      ┆      │\n",
       "│ KI      ┆ KAPR1   ┆ 2023 ┆ Algoritmizace a          ┆ … ┆ [0]               ┆      ┆      ┆      │\n",
       "│         ┆         ┆      ┆ programování I           ┆   ┆                   ┆      ┆      ┆      │\n",
       "│ KI      ┆ KAPR2   ┆ 2023 ┆ Algoritmizace a          ┆ … ┆ [0]               ┆      ┆      ┆      │\n",
       "│         ┆         ┆      ┆ programování II          ┆   ┆                   ┆      ┆      ┆      │\n",
       "│ KI      ┆ KCSY    ┆ 2023 ┆ Číslicové systémy        ┆ … ┆ [0]               ┆      ┆      ┆      │\n",
       "│ KI      ┆ KDI2    ┆ 2023 ┆ Didaktika informatiky II ┆ … ┆ [0]               ┆      ┆      ┆      │\n",
       "│ …       ┆ …       ┆ …    ┆ …                        ┆ … ┆ …                 ┆ …    ┆ …    ┆ …    │\n",
       "│ KI      ┆ KZKB    ┆ 2023 ┆ Základy kyberbezpečnosti ┆ … ┆ [0]               ┆      ┆      ┆      │\n",
       "│ KI      ┆ KZPS    ┆ 2023 ┆ Základy počítačových     ┆ … ┆ [0]               ┆      ┆      ┆      │\n",
       "│         ┆         ┆      ┆ sítí a prot…             ┆   ┆                   ┆      ┆      ┆      │\n",
       "│ KI      ┆ LTP     ┆ 2023 ┆ Linuxové technologie v   ┆ … ┆ [0]               ┆      ┆      ┆      │\n",
       "│         ┆         ┆      ┆ praxi                    ┆   ┆                   ┆      ┆      ┆      │\n",
       "│ KI      ┆ PAP     ┆ 2023 ┆ Průmyslová automatizace  ┆ … ┆ [0]               ┆      ┆      ┆      │\n",
       "│         ┆         ┆      ┆ v praxi                  ┆   ┆                   ┆      ┆      ┆      │\n",
       "│ KI      ┆ PAR     ┆ 2023 ┆ Parallel Programming     ┆ … ┆ [0]               ┆      ┆      ┆      │\n",
       "└─────────┴─────────┴──────┴──────────────────────────┴───┴───────────────────┴──────┴──────┴──────┘"
      ]
     },
     "execution_count": 91,
     "metadata": {},
     "output_type": "execute_result"
    }
   ],
   "source": [
    "ma_seminare = jednotek_seminare != 0\n",
    "nema_seminariciho = pl.col(\"seminariciUcitIdno\").is_null()\n",
    "\n",
    "chybi_seminarici = predmety_s_akci.filter(ma_seminare & nema_seminariciho)\n",
    "chybi_seminarici.write_excel(\"results/chybi_seminarici.xlsx\")\n",
    "chybi_seminarici"
   ]
  },
  {
   "attachments": {},
   "cell_type": "markdown",
   "metadata": {},
   "source": [
    "> Zde jsou předměty, ve kterých učitel vede seminář:"
   ]
  },
  {
   "cell_type": "code",
   "execution_count": 35,
   "metadata": {},
   "outputs": [
    {
     "data": {
      "text/html": [
       "<div><style>\n",
       ".dataframe > thead > tr,\n",
       ".dataframe > tbody > tr {\n",
       "  text-align: right;\n",
       "  white-space: pre-wrap;\n",
       "}\n",
       "</style>\n",
       "<small>shape: (5, 69)</small><table border=\"1\" class=\"dataframe\"><thead><tr><th>katedra</th><th>zkratka</th><th>rok</th><th>nazev</th><th>nazevDlouhy</th><th>vyukaZS</th><th>vyukaLS</th><th>kreditu</th><th>viceZapis</th><th>minObsazeni</th><th>garanti</th><th>garantiSPodily</th><th>garantiUcitIdno</th><th>prednasejici</th><th>prednasejiciSPodily</th><th>prednasejiciUcitIdno</th><th>cvicici</th><th>cviciciSPodily</th><th>cviciciUcitIdno</th><th>seminarici</th><th>seminariciSPodily</th><th>seminariciUcitIdno</th><th>schvalujiciUznani</th><th>schvalujiciUznaniUcitIdno</th><th>examinatori</th><th>examinatoriUcitIdno</th><th>podminujiciPredmety</th><th>vylucujiciPredmety</th><th>podminujePredmety</th><th>literatura</th><th>nahrazPredmety</th><th>metodyVyucovaci</th><th>metodyHodnotici</th><th>akreditovan</th><th>jednotekPrednasek</th><th>jednotkaPrednasky</th><th>jednotekCviceni</th><th>jednotkaCviceni</th><th>jednotekSeminare</th><th>jednotkaSeminare</th><th>anotace</th><th>typZkousky</th><th>maZapocetPredZk</th><th>formaZkousky</th><th>pozadavky</th><th>prehledLatky</th><th>predpoklady</th><th>ziskaneZpusobilosti</th><th>casovaNarocnost</th><th>predmetUrl</th><th>vyucovaciJazyky</th><th>poznamka</th><th>ectsZobrazit</th><th>ectsAkreditace</th><th>ectsNabizetUPrijezdu</th><th>poznamkaVerejna</th><th>skupinaAkreditace</th><th>skupinaAkreditaceKey</th><th>zarazenDoPrezencnihoStudia</th><th>zarazenDoKombinovanehoStudia</th><th>studijniOpory</th><th>praxePocetDnu</th><th>urovenNastavena</th><th>urovenVypoctena</th><th>automatickyUznavatZppZk</th><th>hodZaSemKombForma</th><th>aMax</th><th>bMax</th><th>cMax</th></tr><tr><td>str</td><td>str</td><td>i64</td><td>str</td><td>str</td><td>str</td><td>str</td><td>i64</td><td>str</td><td>null</td><td>str</td><td>str</td><td>str</td><td>str</td><td>str</td><td>str</td><td>str</td><td>str</td><td>str</td><td>str</td><td>str</td><td>str</td><td>null</td><td>null</td><td>str</td><td>str</td><td>str</td><td>str</td><td>str</td><td>str</td><td>str</td><td>str</td><td>str</td><td>str</td><td>i64</td><td>str</td><td>i64</td><td>str</td><td>i64</td><td>str</td><td>str</td><td>str</td><td>str</td><td>str</td><td>str</td><td>str</td><td>str</td><td>str</td><td>null</td><td>null</td><td>str</td><td>str</td><td>str</td><td>str</td><td>str</td><td>str</td><td>str</td><td>str</td><td>str</td><td>str</td><td>str</td><td>i64</td><td>str</td><td>str</td><td>str</td><td>str</td><td>null</td><td>null</td><td>str</td></tr></thead><tbody><tr><td>&quot;KI&quot;</td><td>&quot;KDIS&quot;</td><td>2023</td><td>&quot;Dependabilita …</td><td>&quot;Dependabilita …</td><td>&quot;A&quot;</td><td>&quot;A&quot;</td><td>4</td><td>&quot;NE&quot;</td><td>null</td><td>&quot;&#x27;doc. RNDr. Mg…</td><td>&quot;&#x27;doc. RNDr. Mg…</td><td>&quot;2239&quot;</td><td>&quot;&#x27;doc. RNDr. Mg…</td><td>&quot;&#x27;doc. RNDr. Mg…</td><td>&quot;2239&quot;</td><td>&quot;&#x27;Ing. Mgr. Pav…</td><td>&quot;&#x27;Ing. Mgr. Pav…</td><td>&quot;6973, 2239&quot;</td><td>&quot;&#x27;Ing. Mgr. Pav…</td><td>&quot;&#x27;Ing. Mgr. Pav…</td><td>&quot;6973, 2239&quot;</td><td>null</td><td>null</td><td>null</td><td>null</td><td>&quot;KI/KAPR1&quot;</td><td>null</td><td>null</td><td>&quot;&#x27;Laprie, J.C.,…</td><td>null</td><td>null</td><td>null</td><td>&quot;N&quot;</td><td>6</td><td>&quot;HOD/SEM&quot;</td><td>4</td><td>&quot;HOD/SEM&quot;</td><td>2</td><td>&quot;HOD/SEM&quot;</td><td>&quot;Kurz uvádí do …</td><td>&quot;Zkouška&quot;</td><td>&quot;ANO&quot;</td><td>&quot;Kombinovaná&quot;</td><td>&quot;Zápočet: semin…</td><td>&quot;1. Úvod do pro…</td><td>null</td><td>null</td><td>null</td><td>null</td><td>&quot;Čeština, Angli…</td><td>&quot;Výuka v anglic…</td><td>&quot;A&quot;</td><td>&quot;N&quot;</td><td>&quot;N&quot;</td><td>null</td><td>null</td><td>null</td><td>&quot;N&quot;</td><td>&quot;A&quot;</td><td>null</td><td>0</td><td>&quot;Bc.&quot;</td><td>&quot;Bc.&quot;</td><td>&quot;A&quot;</td><td>null</td><td>null</td><td>null</td><td>null</td></tr><tr><td>&quot;KI&quot;</td><td>&quot;KGUI&quot;</td><td>2023</td><td>&quot;Programování p…</td><td>&quot;Programování p…</td><td>&quot;N&quot;</td><td>&quot;A&quot;</td><td>6</td><td>&quot;NE&quot;</td><td>null</td><td>&quot;&#x27;RNDr. Petr Ku…</td><td>&quot;&#x27;RNDr. Petr Ku…</td><td>&quot;650&quot;</td><td>&quot;&#x27;Ing. Mgr. Pav…</td><td>&quot;&#x27;Ing. Mgr. Pav…</td><td>&quot;6973, 650&quot;</td><td>&quot;&#x27;Ing. Mgr. Pav…</td><td>&quot;&#x27;Ing. Mgr. Pav…</td><td>&quot;6973, 650&quot;</td><td>&quot;&#x27;Ing. Mgr. Pav…</td><td>&quot;&#x27;Ing. Mgr. Pav…</td><td>&quot;6973, 650&quot;</td><td>null</td><td>null</td><td>null</td><td>null</td><td>&quot;KI/KAPR2, KI/K…</td><td>null</td><td>null</td><td>&quot;&#x27;Sells Ch. C# …</td><td>null</td><td>null</td><td>null</td><td>&quot;N&quot;</td><td>6</td><td>&quot;HOD/SEM&quot;</td><td>6</td><td>&quot;HOD/SEM&quot;</td><td>2</td><td>&quot;HOD/SEM&quot;</td><td>&quot;Kurz je zaměře…</td><td>&quot;Zkouška&quot;</td><td>&quot;ANO&quot;</td><td>&quot;Kombinovaná&quot;</td><td>&quot;Zápočet je udě…</td><td>&quot;1.\tModel událo…</td><td>null</td><td>null</td><td>null</td><td>null</td><td>&quot;Čeština&quot;</td><td>null</td><td>&quot;A&quot;</td><td>&quot;N&quot;</td><td>&quot;N&quot;</td><td>null</td><td>null</td><td>null</td><td>&quot;N&quot;</td><td>&quot;A&quot;</td><td>null</td><td>0</td><td>null</td><td>&quot;Bc.&quot;</td><td>&quot;A&quot;</td><td>null</td><td>null</td><td>null</td><td>null</td></tr><tr><td>&quot;KI&quot;</td><td>&quot;KOPR&quot;</td><td>2023</td><td>&quot;Optimální rozh…</td><td>&quot;Optimální rozh…</td><td>&quot;A&quot;</td><td>&quot;A&quot;</td><td>5</td><td>&quot;NE&quot;</td><td>null</td><td>&quot;&#x27;RNDr. Petr Ku…</td><td>&quot;&#x27;RNDr. Petr Ku…</td><td>&quot;650&quot;</td><td>&quot;&#x27;RNDr. Petr Ku…</td><td>&quot;&#x27;RNDr. Petr Ku…</td><td>&quot;650, 9114&quot;</td><td>&quot;&#x27;RNDr. Petr Ku…</td><td>&quot;&#x27;RNDr. Petr Ku…</td><td>&quot;650, 9114&quot;</td><td>&quot;&#x27;RNDr. Petr Ku…</td><td>&quot;&#x27;RNDr. Petr Ku…</td><td>&quot;650, 9114&quot;</td><td>null</td><td>null</td><td>null</td><td>null</td><td>null</td><td>null</td><td>null</td><td>&quot;&#x27;Lagová, M. Me…</td><td>null</td><td>null</td><td>null</td><td>&quot;N&quot;</td><td>6</td><td>&quot;HOD/SEM&quot;</td><td>6</td><td>&quot;HOD/SEM&quot;</td><td>2</td><td>&quot;HOD/SEM&quot;</td><td>&quot;Kurz je zaměře…</td><td>&quot;Zkouška&quot;</td><td>&quot;ANO&quot;</td><td>&quot;Kombinovaná&quot;</td><td>&quot;Podmínkou získ…</td><td>&quot;1. Úlohy lineá…</td><td>null</td><td>null</td><td>null</td><td>null</td><td>&quot;Čeština&quot;</td><td>null</td><td>&quot;A&quot;</td><td>&quot;N&quot;</td><td>&quot;N&quot;</td><td>null</td><td>null</td><td>null</td><td>&quot;N&quot;</td><td>&quot;A&quot;</td><td>null</td><td>0</td><td>null</td><td>&quot;Bc.&quot;</td><td>&quot;A&quot;</td><td>&quot;0&quot;</td><td>null</td><td>null</td><td>null</td></tr><tr><td>&quot;KI&quot;</td><td>&quot;KPAU&quot;</td><td>2023</td><td>&quot;Programovateln…</td><td>&quot;Programovateln…</td><td>&quot;A&quot;</td><td>&quot;N&quot;</td><td>4</td><td>&quot;NE&quot;</td><td>null</td><td>&quot;&#x27;Ing. Petr Hab…</td><td>&quot;&#x27;Ing. Petr Hab…</td><td>&quot;1780&quot;</td><td>&quot;&#x27;Ing. Petr Hab…</td><td>&quot;&#x27;Ing. Petr Hab…</td><td>&quot;1780&quot;</td><td>&quot;&#x27;Ing. Petr Hab…</td><td>&quot;&#x27;Ing. Petr Hab…</td><td>&quot;1780&quot;</td><td>&quot;&#x27;Ing. Petr Hab…</td><td>&quot;&#x27;Ing. Petr Hab…</td><td>&quot;1780&quot;</td><td>null</td><td>null</td><td>null</td><td>null</td><td>null</td><td>null</td><td>&quot;KI/KSCAD&quot;</td><td>&quot;&#x27;Šmejkal, L., …</td><td>null</td><td>null</td><td>null</td><td>&quot;A&quot;</td><td>4</td><td>&quot;HOD/SEM&quot;</td><td>6</td><td>&quot;HOD/SEM&quot;</td><td>2</td><td>&quot;HOD/SEM&quot;</td><td>&quot;Cílem předmětu…</td><td>&quot;Zkouška&quot;</td><td>&quot;ANO&quot;</td><td>&quot;Kombinovaná&quot;</td><td>&quot;Zápočet: semes…</td><td>&quot;1. Úvod do pro…</td><td>null</td><td>null</td><td>null</td><td>null</td><td>&quot;Čeština&quot;</td><td>null</td><td>&quot;A&quot;</td><td>&quot;N&quot;</td><td>&quot;N&quot;</td><td>null</td><td>null</td><td>null</td><td>&quot;N&quot;</td><td>&quot;A&quot;</td><td>null</td><td>0</td><td>null</td><td>&quot;Bc.&quot;</td><td>&quot;A&quot;</td><td>&quot;0&quot;</td><td>null</td><td>null</td><td>null</td></tr><tr><td>&quot;KI&quot;</td><td>&quot;KUSU&quot;</td><td>2023</td><td>&quot;Úvod do strojo…</td><td>&quot;Úvod do strojo…</td><td>&quot;N&quot;</td><td>&quot;A&quot;</td><td>4</td><td>&quot;NE&quot;</td><td>null</td><td>&quot;&#x27;RNDr. Petr Ku…</td><td>&quot;&#x27;RNDr. Petr Ku…</td><td>&quot;650&quot;</td><td>&quot;&#x27;RNDr. Petr Ku…</td><td>&quot;&#x27;RNDr. Petr Ku…</td><td>&quot;650&quot;</td><td>&quot;&#x27;RNDr. Petr Ku…</td><td>&quot;&#x27;RNDr. Petr Ku…</td><td>&quot;650&quot;</td><td>&quot;&#x27;RNDr. Petr Ku…</td><td>&quot;&#x27;RNDr. Petr Ku…</td><td>&quot;650&quot;</td><td>null</td><td>null</td><td>null</td><td>null</td><td>&quot;KI/KAPR1, KI/K…</td><td>null</td><td>&quot;KI/MNS&quot;</td><td>&quot;&#x27;Chollet, F. D…</td><td>null</td><td>null</td><td>null</td><td>&quot;A&quot;</td><td>4</td><td>&quot;HOD/SEM&quot;</td><td>6</td><td>&quot;HOD/SEM&quot;</td><td>2</td><td>&quot;HOD/SEM&quot;</td><td>&quot;Předmět Úvod d…</td><td>&quot;Zkouška&quot;</td><td>&quot;ANO&quot;</td><td>&quot;Kombinovaná&quot;</td><td>&quot;Zápočet: vypra…</td><td>&quot;1. Rozdělení ú…</td><td>null</td><td>null</td><td>null</td><td>null</td><td>&quot;Čeština&quot;</td><td>null</td><td>&quot;A&quot;</td><td>&quot;N&quot;</td><td>&quot;N&quot;</td><td>null</td><td>null</td><td>null</td><td>&quot;N&quot;</td><td>&quot;A&quot;</td><td>null</td><td>0</td><td>null</td><td>&quot;Bc.&quot;</td><td>&quot;A&quot;</td><td>&quot;0&quot;</td><td>null</td><td>null</td><td>null</td></tr></tbody></table></div>"
      ],
      "text/plain": [
       "shape: (5, 69)\n",
       "┌─────────┬─────────┬──────┬──────────────────────────┬───┬───────────────────┬──────┬──────┬──────┐\n",
       "│ katedra ┆ zkratka ┆ rok  ┆ nazev                    ┆ … ┆ hodZaSemKombForma ┆ aMax ┆ bMax ┆ cMax │\n",
       "│ ---     ┆ ---     ┆ ---  ┆ ---                      ┆   ┆ ---               ┆ ---  ┆ ---  ┆ ---  │\n",
       "│ str     ┆ str     ┆ i64  ┆ str                      ┆   ┆ str               ┆ null ┆ null ┆ str  │\n",
       "╞═════════╪═════════╪══════╪══════════════════════════╪═══╪═══════════════════╪══════╪══════╪══════╡\n",
       "│ KI      ┆ KDIS    ┆ 2023 ┆ Dependabilita            ┆ … ┆ null              ┆ null ┆ null ┆ null │\n",
       "│         ┆         ┆      ┆ informačních systé…      ┆   ┆                   ┆      ┆      ┆      │\n",
       "│ KI      ┆ KGUI    ┆ 2023 ┆ Programování pro GUI     ┆ … ┆ null              ┆ null ┆ null ┆ null │\n",
       "│ KI      ┆ KOPR    ┆ 2023 ┆ Optimální rozhodování    ┆ … ┆ 0                 ┆ null ┆ null ┆ null │\n",
       "│ KI      ┆ KPAU    ┆ 2023 ┆ Programovatelné automaty ┆ … ┆ 0                 ┆ null ┆ null ┆ null │\n",
       "│ KI      ┆ KUSU    ┆ 2023 ┆ Úvod do strojového učení ┆ … ┆ 0                 ┆ null ┆ null ┆ null │\n",
       "└─────────┴─────────┴──────┴──────────────────────────┴───┴───────────────────┴──────┴──────┴──────┘"
      ]
     },
     "execution_count": 35,
     "metadata": {},
     "output_type": "execute_result"
    }
   ],
   "source": [
    "#prednasejici_je_seminarici = prednasejici == seminarici\n",
    "#cvicici_je_seminarici = cvicici == seminarici\n",
    "\n",
    "#konflikt_vyucujicich = predmety_s_akci.filter(ma_seminare & ma_prednasku & (prednasejici_je_seminarici | cvicici_je_seminarici))\n",
    "#konflikt_vyucujicich.write_excel(\"results/konflikt_vyucujicich.xlsx\")\n",
    "#konflikt_vyucujicich.head()"
   ]
  },
  {
   "cell_type": "code",
   "execution_count": 92,
   "metadata": {},
   "outputs": [
    {
     "name": "stdout",
     "output_type": "stream",
     "text": [
      "1 předmětů nemá přednášejícího\n",
      "1 předmětů nemá cvičícího\n",
      "29 předmětů nemá seminářícího\n"
     ]
    }
   ],
   "source": [
    "print(f\"{len(chybi_prednasejici)} předmětů nemá přednášejícího\")\n",
    "print(f\"{len(chybi_cvicici)} předmětů nemá cvičícího\")\n",
    "print(f\"{len(chybi_seminarici)} předmětů nemá seminářícího\")\n",
    "# print(f\"U {len(konflikt_vyucujicich)} předmětů je seminářící také učitel\")"
   ]
  },
  {
   "attachments": {},
   "cell_type": "markdown",
   "metadata": {},
   "source": [
    "### Garant by měl být někde mezi vyučujícími. Pokud má předmět přednášku, měl by být přednášející.\n",
    "\n",
    "> V těchto předmětech garant vůbec neučí:"
   ]
  },
  {
   "cell_type": "code",
   "execution_count": 95,
   "metadata": {},
   "outputs": [
    {
     "data": {
      "text/plain": [
       "55"
      ]
     },
     "execution_count": 95,
     "metadata": {},
     "output_type": "execute_result"
    }
   ],
   "source": [
    "filter_query = (garant != cvicici) & (garant != seminarici) & (garant != prednasejici) & (ma_prednasku | ma_cviceni | ma_seminare)\n",
    "predmety_kde_garant_neuci = predmety_s_akci.filter(filter_query)\n",
    "predmety_kde_garant_neuci.write_excel(\"results/predmety_kde_garant_neuci.xlsx\")\n",
    "predmety_kde_garant_neuci.__len__()"
   ]
  },
  {
   "attachments": {},
   "cell_type": "markdown",
   "metadata": {},
   "source": [
    "> v těchto předmětech je přednáška, ale nedělá jí garant:"
   ]
  },
  {
   "cell_type": "code",
   "execution_count": 97,
   "metadata": {},
   "outputs": [
    {
     "data": {
      "text/plain": [
       "28"
      ]
     },
     "execution_count": 97,
     "metadata": {},
     "output_type": "execute_result"
    }
   ],
   "source": [
    "garant_neni_prednasejici = (jednotek_prednasek != 0) & (garant != prednasejici)\n",
    "garant_neprednasi = predmety_s_akci.filter(garant_neni_prednasejici)\n",
    "garant_neprednasi.write_excel(\"results/garant_neprednasi.xlsx\")\n",
    "garant_neprednasi.__len__()"
   ]
  },
  {
   "attachments": {},
   "cell_type": "markdown",
   "metadata": {},
   "source": [
    "## Kontrola proti rozvrhovaným akcím"
   ]
  },
  {
   "attachments": {},
   "cell_type": "markdown",
   "metadata": {},
   "source": [
    "### Vyučující u rozvrhových akcí musí být v příslušných kategoriích u vyučujících"
   ]
  },
  {
   "attachments": {},
   "cell_type": "markdown",
   "metadata": {},
   "source": [
    "#### Osekám dataframy"
   ]
  },
  {
   "cell_type": "code",
   "execution_count": 156,
   "metadata": {},
   "outputs": [
    {
     "data": {
      "text/html": [
       "<div><style>\n",
       ".dataframe > thead > tr > th,\n",
       ".dataframe > tbody > tr > td {\n",
       "  text-align: right;\n",
       "}\n",
       "</style>\n",
       "<small>shape: (5, 54)</small><table border=\"1\" class=\"dataframe\"><thead><tr><th>roakIdno</th><th>nazev</th><th>katedra</th><th>zkratka</th><th>statut</th><th>ucitIdno</th><th>ucitIdno.ucitel</th><th>jmeno.ucitel</th><th>prijmeni.ucitel</th><th>titulPred.ucitel</th><th>titulZa.ucitel</th><th>platnost.ucitel</th><th>zamestnanec.ucitel</th><th>podilNaVyuce.ucitel</th><th>rok</th><th>budova</th><th>mistnost</th><th>kapacitaMistnosti</th><th>planObsazeni</th><th>obsazeni</th><th>typAkce</th><th>typAkceZkr</th><th>platnost</th><th>den</th><th>denZkr</th><th>vyucJazyk</th><th>hodinaOd</th><th>hodinaDo</th><th>pocetVyucHodin</th><th>hodinaSkutOd</th><th>hodinaSkutDo</th><th>tydenOd</th><th>tydenDo</th><th>tyden</th><th>tydenZkr</th><th>grupIdno</th><th>jeNadrazena</th><th>maNadrazenou</th><th>kontakt</th><th>krouzky</th><th>casovaRada</th><th>datum</th><th>datumOd</th><th>datumDo</th><th>druhAkce</th><th>vsichniUciteleUcitIdno</th><th>vsichniUciteleJmenaTituly</th><th>vsichniUciteleJmenaTitulySPodily</th><th>vsichniUcitelePrijmeni</th><th>referencedIdno</th><th>poznamkaRozvrhare</th><th>nekonaSe</th><th>owner</th><th>zakazaneAkce</th></tr><tr><td>i64</td><td>str</td><td>str</td><td>str</td><td>str</td><td>i64</td><td>i64</td><td>str</td><td>str</td><td>str</td><td>str</td><td>str</td><td>str</td><td>i64</td><td>i64</td><td>str</td><td>f64</td><td>i64</td><td>i64</td><td>i64</td><td>str</td><td>str</td><td>str</td><td>str</td><td>str</td><td>str</td><td>i64</td><td>i64</td><td>i64</td><td>str</td><td>str</td><td>i64</td><td>i64</td><td>str</td><td>str</td><td>i64</td><td>str</td><td>str</td><td>str</td><td>str</td><td>str</td><td>str</td><td>str</td><td>str</td><td>str</td><td>str</td><td>str</td><td>str</td><td>str</td><td>i64</td><td>str</td><td>str</td><td>str</td><td>str</td></tr></thead><tbody><tr><td>446685</td><td>&quot;Počítačové sít…</td><td>&quot;KI&quot;</td><td>&quot;PSI&quot;</td><td>null</td><td>2776</td><td>2776</td><td>&quot;Jan&quot;</td><td>&quot;Krejčí&quot;</td><td>&quot;RNDr.&quot;</td><td>&quot;Ph.D.&quot;</td><td>&quot;A&quot;</td><td>&quot;A&quot;</td><td>100</td><td>2022</td><td>&quot;CP&quot;</td><td>7.07</td><td>12</td><td>12</td><td>3</td><td>&quot;Cvičení&quot;</td><td>&quot;Cv&quot;</td><td>&quot;A&quot;</td><td>&quot;Pondělí&quot;</td><td>&quot;Po&quot;</td><td>null</td><td>4</td><td>5</td><td>2</td><td>&quot;10:00&quot;</td><td>&quot;11:50&quot;</td><td>40</td><td>1</td><td>&quot;Každý&quot;</td><td>&quot;K&quot;</td><td>null</td><td>&quot;N&quot;</td><td>&quot;N&quot;</td><td>&quot;Automaticky vy…</td><td>&quot;3.IS&quot;</td><td>&quot;UJEP&quot;</td><td>null</td><td>&quot;03.10.2022&quot;</td><td>&quot;02.01.2023&quot;</td><td>&quot;R&quot;</td><td>&quot;2776&quot;</td><td>&quot;RNDr. Jan Krej…</td><td>&quot;&#x27;RNDr. Jan Kre…</td><td>&quot;Krejčí&quot;</td><td>446685</td><td>null</td><td>null</td><td>&quot;PETRUSPRF&quot;</td><td>null</td></tr><tr><td>446500</td><td>&quot;Základy počíta…</td><td>&quot;KI&quot;</td><td>&quot;ZPS&quot;</td><td>null</td><td>2776</td><td>2776</td><td>&quot;Jan&quot;</td><td>&quot;Krejčí&quot;</td><td>&quot;RNDr.&quot;</td><td>&quot;Ph.D.&quot;</td><td>&quot;A&quot;</td><td>&quot;A&quot;</td><td>100</td><td>2022</td><td>&quot;MF&quot;</td><td>1.54</td><td>315</td><td>180</td><td>170</td><td>&quot;Přednáška&quot;</td><td>&quot;Př&quot;</td><td>&quot;A&quot;</td><td>&quot;Pondělí&quot;</td><td>&quot;Po&quot;</td><td>null</td><td>7</td><td>8</td><td>2</td><td>&quot;13:00&quot;</td><td>&quot;14:50&quot;</td><td>40</td><td>1</td><td>&quot;Každý&quot;</td><td>&quot;K&quot;</td><td>null</td><td>&quot;N&quot;</td><td>&quot;N&quot;</td><td>&quot;Automaticky vy…</td><td>&quot;1.API Bc&quot;</td><td>&quot;UJEP&quot;</td><td>null</td><td>&quot;03.10.2022&quot;</td><td>&quot;02.01.2023&quot;</td><td>&quot;R&quot;</td><td>&quot;2776&quot;</td><td>&quot;RNDr. Jan Krej…</td><td>&quot;&#x27;RNDr. Jan Kre…</td><td>&quot;Krejčí&quot;</td><td>446500</td><td>null</td><td>null</td><td>&quot;PETRUSPRF&quot;</td><td>null</td></tr><tr><td>446519</td><td>&quot;Didaktika prog…</td><td>&quot;KI&quot;</td><td>&quot;DPG&quot;</td><td>null</td><td>1165</td><td>1165</td><td>&quot;Kamil&quot;</td><td>&quot;Balín&quot;</td><td>&quot;Mgr.&quot;</td><td>null</td><td>&quot;A&quot;</td><td>&quot;A&quot;</td><td>100</td><td>2022</td><td>&quot;CP&quot;</td><td>7.06</td><td>24</td><td>20</td><td>14</td><td>&quot;Seminář&quot;</td><td>&quot;Se&quot;</td><td>&quot;A&quot;</td><td>&quot;Pondělí&quot;</td><td>&quot;Po&quot;</td><td>null</td><td>8</td><td>9</td><td>2</td><td>&quot;14:00&quot;</td><td>&quot;15:50&quot;</td><td>40</td><td>1</td><td>&quot;Každý&quot;</td><td>&quot;K&quot;</td><td>null</td><td>&quot;N&quot;</td><td>&quot;N&quot;</td><td>&quot;Automaticky vy…</td><td>&quot;2.API Bc,3.IS,…</td><td>&quot;UJEP&quot;</td><td>null</td><td>&quot;03.10.2022&quot;</td><td>&quot;02.01.2023&quot;</td><td>&quot;R&quot;</td><td>&quot;1165&quot;</td><td>&quot;Mgr. Kamil Bal…</td><td>&quot;&#x27;Mgr. Kamil Ba…</td><td>&quot;Balín&quot;</td><td>446519</td><td>null</td><td>&quot;17.10.2022: Od…</td><td>&quot;PETRUSPRF&quot;</td><td>null</td></tr><tr><td>446723</td><td>&quot;Informační a k…</td><td>&quot;KI&quot;</td><td>&quot;IKT&quot;</td><td>null</td><td>835</td><td>835</td><td>&quot;Květuše&quot;</td><td>&quot;Sýkorová&quot;</td><td>&quot;Mgr.&quot;</td><td>null</td><td>&quot;A&quot;</td><td>&quot;A&quot;</td><td>100</td><td>2022</td><td>&quot;CP&quot;</td><td>-1.21</td><td>31</td><td>30</td><td>30</td><td>&quot;Seminář&quot;</td><td>&quot;Se&quot;</td><td>&quot;A&quot;</td><td>&quot;Úterý&quot;</td><td>&quot;Út&quot;</td><td>null</td><td>10</td><td>11</td><td>2</td><td>&quot;16:00&quot;</td><td>&quot;17:50&quot;</td><td>40</td><td>1</td><td>&quot;Každý&quot;</td><td>&quot;K&quot;</td><td>null</td><td>&quot;N&quot;</td><td>&quot;N&quot;</td><td>&quot;Automaticky vy…</td><td>&quot;1.MvFVS,1.NANO…</td><td>&quot;UJEP&quot;</td><td>null</td><td>&quot;04.10.2022&quot;</td><td>&quot;03.01.2023&quot;</td><td>&quot;R&quot;</td><td>&quot;835&quot;</td><td>&quot;Mgr. Květuše S…</td><td>&quot;&#x27;Mgr. Květuše …</td><td>&quot;Sýkorová&quot;</td><td>446723</td><td>null</td><td>&quot;25.10.2022: Od…</td><td>&quot;PETRUSPRF&quot;</td><td>null</td></tr><tr><td>451651</td><td>&quot;Semestrální pr…</td><td>&quot;KI&quot;</td><td>&quot;KSP3&quot;</td><td>null</td><td>6259</td><td>6259</td><td>&quot;Jiří&quot;</td><td>&quot;Škvára&quot;</td><td>&quot;RNDr.&quot;</td><td>&quot;Ph.D.&quot;</td><td>&quot;A&quot;</td><td>&quot;A&quot;</td><td>100</td><td>2022</td><td>&quot;CP&quot;</td><td>6.04</td><td>2</td><td>1</td><td>1</td><td>&quot;Seminář&quot;</td><td>&quot;Se&quot;</td><td>&quot;A&quot;</td><td>&quot;Úterý&quot;</td><td>&quot;Út&quot;</td><td>null</td><td>12</td><td>13</td><td>2</td><td>&quot;18:00&quot;</td><td>&quot;19:50&quot;</td><td>1</td><td>1</td><td>&quot;Jiný&quot;</td><td>&quot;J&quot;</td><td>28039</td><td>&quot;N&quot;</td><td>&quot;N&quot;</td><td>&quot;Automaticky vy…</td><td>&quot;2.KAPI N&quot;</td><td>&quot;UJEP&quot;</td><td>null</td><td>&quot;03.01.2023&quot;</td><td>&quot;03.01.2023&quot;</td><td>&quot;R&quot;</td><td>&quot;6259&quot;</td><td>&quot;RNDr. Jiří Škv…</td><td>&quot;&#x27;RNDr. Jiří Šk…</td><td>&quot;Škvára&quot;</td><td>451651</td><td>null</td><td>null</td><td>&quot;PETRUSPRF&quot;</td><td>null</td></tr></tbody></table></div>"
      ],
      "text/plain": [
       "shape: (5, 54)\n",
       "┌──────────┬────────────┬─────────┬─────────┬───┬────────────┬────────────┬───────────┬────────────┐\n",
       "│ roakIdno ┆ nazev      ┆ katedra ┆ zkratka ┆ … ┆ poznamkaRo ┆ nekonaSe   ┆ owner     ┆ zakazaneAk │\n",
       "│ ---      ┆ ---        ┆ ---     ┆ ---     ┆   ┆ zvrhare    ┆ ---        ┆ ---       ┆ ce         │\n",
       "│ i64      ┆ str        ┆ str     ┆ str     ┆   ┆ ---        ┆ str        ┆ str       ┆ ---        │\n",
       "│          ┆            ┆         ┆         ┆   ┆ str        ┆            ┆           ┆ str        │\n",
       "╞══════════╪════════════╪═════════╪═════════╪═══╪════════════╪════════════╪═══════════╪════════════╡\n",
       "│ 446685   ┆ Počítačové ┆ KI      ┆ PSI     ┆ … ┆ null       ┆ null       ┆ PETRUSPRF ┆ null       │\n",
       "│          ┆ sítě       ┆         ┆         ┆   ┆            ┆            ┆           ┆            │\n",
       "│ 446500   ┆ Základy    ┆ KI      ┆ ZPS     ┆ … ┆ null       ┆ null       ┆ PETRUSPRF ┆ null       │\n",
       "│          ┆ počítačový ┆         ┆         ┆   ┆            ┆            ┆           ┆            │\n",
       "│          ┆ ch sítí    ┆         ┆         ┆   ┆            ┆            ┆           ┆            │\n",
       "│          ┆ a prot…    ┆         ┆         ┆   ┆            ┆            ┆           ┆            │\n",
       "│ 446519   ┆ Didaktika  ┆ KI      ┆ DPG     ┆ … ┆ null       ┆ 17.10.2022 ┆ PETRUSPRF ┆ null       │\n",
       "│          ┆ programová ┆         ┆         ┆   ┆            ┆ : Odpadá   ┆           ┆            │\n",
       "│          ┆ ní         ┆         ┆         ┆   ┆            ┆            ┆           ┆            │\n",
       "│ 446723   ┆ Informační ┆ KI      ┆ IKT     ┆ … ┆ null       ┆ 25.10.2022 ┆ PETRUSPRF ┆ null       │\n",
       "│          ┆ a komunika ┆         ┆         ┆   ┆            ┆ : Odpadá,8 ┆           ┆            │\n",
       "│          ┆ ční        ┆         ┆         ┆   ┆            ┆ .11.2022:  ┆           ┆            │\n",
       "│          ┆ technol…   ┆         ┆         ┆   ┆            ┆ Od…        ┆           ┆            │\n",
       "│ 451651   ┆ Semestráln ┆ KI      ┆ KSP3    ┆ … ┆ null       ┆ null       ┆ PETRUSPRF ┆ null       │\n",
       "│          ┆ í projekt  ┆         ┆         ┆   ┆            ┆            ┆           ┆            │\n",
       "│          ┆ III        ┆         ┆         ┆   ┆            ┆            ┆           ┆            │\n",
       "└──────────┴────────────┴─────────┴─────────┴───┴────────────┴────────────┴───────────┴────────────┘"
      ]
     },
     "execution_count": 156,
     "metadata": {},
     "output_type": "execute_result"
    }
   ],
   "source": [
    "rozvrh_by_kat.head()\n",
    "# predmety_by_kat.head()"
   ]
  },
  {
   "cell_type": "code",
   "execution_count": 106,
   "metadata": {},
   "outputs": [
    {
     "data": {
      "text/html": [
       "<div><style>\n",
       ".dataframe > thead > tr,\n",
       ".dataframe > tbody > tr {\n",
       "  text-align: right;\n",
       "  white-space: pre-wrap;\n",
       "}\n",
       "</style>\n",
       "<small>shape: (5, 4)</small><table border=\"1\" class=\"dataframe\"><thead><tr><th>zkratka</th><th>idno</th><th>typAkceZkr</th><th>rok</th></tr><tr><td>str</td><td>i64</td><td>str</td><td>i64</td></tr></thead><tbody><tr><td>&quot;EGUI&quot;</td><td>650</td><td>&quot;Př&quot;</td><td>2023</td></tr><tr><td>&quot;EGUI&quot;</td><td>6973</td><td>&quot;Př&quot;</td><td>2023</td></tr><tr><td>&quot;APR2&quot;</td><td>6973</td><td>&quot;Cv&quot;</td><td>2023</td></tr><tr><td>&quot;ZZD&quot;</td><td>2220</td><td>&quot;Se&quot;</td><td>2023</td></tr><tr><td>&quot;ZZD&quot;</td><td>449</td><td>&quot;Se&quot;</td><td>2023</td></tr></tbody></table></div>"
      ],
      "text/plain": [
       "shape: (5, 4)\n",
       "┌─────────┬──────┬────────────┬──────┐\n",
       "│ zkratka ┆ idno ┆ typAkceZkr ┆ rok  │\n",
       "│ ---     ┆ ---  ┆ ---        ┆ ---  │\n",
       "│ str     ┆ i64  ┆ str        ┆ i64  │\n",
       "╞═════════╪══════╪════════════╪══════╡\n",
       "│ EGUI    ┆ 650  ┆ Př         ┆ 2023 │\n",
       "│ EGUI    ┆ 6973 ┆ Př         ┆ 2023 │\n",
       "│ APR2    ┆ 6973 ┆ Cv         ┆ 2023 │\n",
       "│ ZZD     ┆ 2220 ┆ Se         ┆ 2023 │\n",
       "│ ZZD     ┆ 449  ┆ Se         ┆ 2023 │\n",
       "└─────────┴──────┴────────────┴──────┘"
      ]
     },
     "execution_count": 106,
     "metadata": {},
     "output_type": "execute_result"
    }
   ],
   "source": [
    "maly_rozvrh = rozvrh_by_kat.select([\"zkratka\", \"vsichniUciteleUcitIdno\", \"typAkceZkr\", \"rok\"])\n",
    "maly_rozvrh = maly_rozvrh.with_columns(pl.col(\"vsichniUciteleUcitIdno\")).explode(\"vsichniUciteleUcitIdno\").rename({\"vsichniUciteleUcitIdno\": \"idno\"})\n",
    "maly_rozvrh.head()"
   ]
  },
  {
   "cell_type": "code",
   "execution_count": 158,
   "metadata": {},
   "outputs": [],
   "source": [
    "# predmety_by_kat"
   ]
  },
  {
   "cell_type": "code",
   "execution_count": 98,
   "metadata": {},
   "outputs": [
    {
     "data": {
      "text/html": [
       "<div><style>\n",
       ".dataframe > thead > tr,\n",
       ".dataframe > tbody > tr {\n",
       "  text-align: right;\n",
       "  white-space: pre-wrap;\n",
       "}\n",
       "</style>\n",
       "<small>shape: (5, 69)</small><table border=\"1\" class=\"dataframe\"><thead><tr><th>katedra</th><th>zkratka</th><th>rok</th><th>nazev</th><th>nazevDlouhy</th><th>vyukaZS</th><th>vyukaLS</th><th>kreditu</th><th>viceZapis</th><th>minObsazeni</th><th>garanti</th><th>garantiSPodily</th><th>garantiUcitIdno</th><th>prednasejici</th><th>prednasejiciSPodily</th><th>prednasejiciUcitIdno</th><th>cvicici</th><th>cviciciSPodily</th><th>cviciciUcitIdno</th><th>seminarici</th><th>seminariciSPodily</th><th>seminariciUcitIdno</th><th>schvalujiciUznani</th><th>schvalujiciUznaniUcitIdno</th><th>examinatori</th><th>examinatoriUcitIdno</th><th>podminujiciPredmety</th><th>vylucujiciPredmety</th><th>podminujePredmety</th><th>literatura</th><th>nahrazPredmety</th><th>metodyVyucovaci</th><th>metodyHodnotici</th><th>akreditovan</th><th>jednotekPrednasek</th><th>jednotkaPrednasky</th><th>jednotekCviceni</th><th>jednotkaCviceni</th><th>jednotekSeminare</th><th>jednotkaSeminare</th><th>anotace</th><th>typZkousky</th><th>maZapocetPredZk</th><th>formaZkousky</th><th>pozadavky</th><th>prehledLatky</th><th>predpoklady</th><th>ziskaneZpusobilosti</th><th>casovaNarocnost</th><th>predmetUrl</th><th>vyucovaciJazyky</th><th>poznamka</th><th>ectsZobrazit</th><th>ectsAkreditace</th><th>ectsNabizetUPrijezdu</th><th>poznamkaVerejna</th><th>skupinaAkreditace</th><th>skupinaAkreditaceKey</th><th>zarazenDoPrezencnihoStudia</th><th>zarazenDoKombinovanehoStudia</th><th>studijniOpory</th><th>praxePocetDnu</th><th>urovenNastavena</th><th>urovenVypoctena</th><th>automatickyUznavatZppZk</th><th>hodZaSemKombForma</th><th>aMax</th><th>bMax</th><th>cMax</th></tr><tr><td>str</td><td>str</td><td>i64</td><td>str</td><td>str</td><td>str</td><td>str</td><td>i64</td><td>str</td><td>str</td><td>str</td><td>str</td><td>list[i64]</td><td>str</td><td>str</td><td>list[i64]</td><td>str</td><td>str</td><td>list[i64]</td><td>str</td><td>str</td><td>list[i64]</td><td>str</td><td>str</td><td>str</td><td>str</td><td>str</td><td>str</td><td>str</td><td>str</td><td>str</td><td>str</td><td>str</td><td>str</td><td>i64</td><td>str</td><td>i64</td><td>str</td><td>i64</td><td>str</td><td>str</td><td>str</td><td>str</td><td>str</td><td>str</td><td>str</td><td>str</td><td>str</td><td>str</td><td>str</td><td>str</td><td>str</td><td>str</td><td>str</td><td>str</td><td>str</td><td>str</td><td>str</td><td>str</td><td>str</td><td>str</td><td>i64</td><td>str</td><td>str</td><td>str</td><td>list[i64]</td><td>str</td><td>str</td><td>str</td></tr></thead><tbody><tr><td>&quot;KI&quot;</td><td>&quot;APSIM&quot;</td><td>2023</td><td>&quot;System Simulat…</td><td>&quot;System Simulat…</td><td>&quot;A&quot;</td><td>&quot;N&quot;</td><td>1</td><td>&quot;NE&quot;</td><td>&quot;&quot;</td><td>&quot;&#x27;Mgr. Jiří Fiš…</td><td>&quot;&#x27;Mgr. Jiří Fiš…</td><td>[251]</td><td>&quot;&quot;</td><td>&quot;&quot;</td><td>null</td><td>&quot;&quot;</td><td>&quot;&quot;</td><td>null</td><td>&quot;&#x27;Mgr. Jiří Fiš…</td><td>&quot;&#x27;Mgr. Jiří Fiš…</td><td>[251, 3521]</td><td>&quot;&quot;</td><td>&quot;&quot;</td><td>&quot;&quot;</td><td>&quot;&quot;</td><td>&quot;&quot;</td><td>&quot;&quot;</td><td>&quot;&quot;</td><td>&quot;&quot;</td><td>&quot;&quot;</td><td>&quot;&quot;</td><td>&quot;&quot;</td><td>&quot;A&quot;</td><td>0</td><td>&quot;HOD/TYD&quot;</td><td>0</td><td>&quot;HOD/TYD&quot;</td><td>1</td><td>&quot;HOD/TYD&quot;</td><td>&quot;&quot;</td><td>&quot;Zápočet&quot;</td><td>&quot;NE&quot;</td><td>&quot;Kombinovaná&quot;</td><td>&quot;&quot;</td><td>&quot;&quot;</td><td>&quot;&quot;</td><td>&quot;&quot;</td><td>&quot;&quot;</td><td>&quot;&quot;</td><td>&quot;Angličtina&quot;</td><td>&quot;&quot;</td><td>&quot;A&quot;</td><td>&quot;N&quot;</td><td>&quot;N&quot;</td><td>&quot;&quot;</td><td>&quot;&quot;</td><td>&quot;&quot;</td><td>&quot;A&quot;</td><td>&quot;A&quot;</td><td>&quot;&quot;</td><td>0</td><td>&quot;&quot;</td><td>&quot;Bc.&quot;</td><td>&quot;A&quot;</td><td>[0]</td><td>&quot;&quot;</td><td>&quot;&quot;</td><td>&quot;&quot;</td></tr><tr><td>&quot;KI&quot;</td><td>&quot;DI3&quot;</td><td>2023</td><td>&quot;Didaktika info…</td><td>&quot;Didaktika info…</td><td>&quot;A&quot;</td><td>&quot;N&quot;</td><td>2</td><td>&quot;NE&quot;</td><td>&quot;&quot;</td><td>&quot;&#x27;RNDr. Jan Kre…</td><td>&quot;&#x27;RNDr. Jan Kre…</td><td>[2776]</td><td>&quot;&quot;</td><td>&quot;&quot;</td><td>null</td><td>&quot;&quot;</td><td>&quot;&quot;</td><td>null</td><td>&quot;&#x27;Mgr. Kamil Ba…</td><td>&quot;&#x27;Mgr. Kamil Ba…</td><td>[1165, 2776]</td><td>&quot;&quot;</td><td>&quot;&quot;</td><td>&quot;&quot;</td><td>&quot;&quot;</td><td>&quot;KI/DI2, KI/KDI…</td><td>&quot;&quot;</td><td>&quot;&quot;</td><td>&quot;&quot;</td><td>&quot;&quot;</td><td>&quot;&quot;</td><td>&quot;&quot;</td><td>&quot;N&quot;</td><td>0</td><td>&quot;HOD/TYD&quot;</td><td>0</td><td>&quot;HOD/TYD&quot;</td><td>2</td><td>&quot;HOD/TYD&quot;</td><td>&quot;&quot;</td><td>&quot;Zápočet&quot;</td><td>&quot;NE&quot;</td><td>&quot;Kombinovaná&quot;</td><td>&quot;1. tvořivá prá…</td><td>&quot;\n",
       "1. Učebnice i…</td><td>&quot;&quot;</td><td>&quot;&quot;</td><td>&quot;&quot;</td><td>&quot;&quot;</td><td>&quot;Čeština&quot;</td><td>&quot;&quot;</td><td>&quot;A&quot;</td><td>&quot;N&quot;</td><td>&quot;N&quot;</td><td>&quot;&quot;</td><td>&quot;&quot;</td><td>&quot;&quot;</td><td>&quot;A&quot;</td><td>&quot;N&quot;</td><td>&quot;&quot;</td><td>0</td><td>&quot;&quot;</td><td>&quot;Mgr.&quot;</td><td>&quot;A&quot;</td><td>[0]</td><td>&quot;&quot;</td><td>&quot;&quot;</td><td>&quot;&quot;</td></tr><tr><td>&quot;KI&quot;</td><td>&quot;DPG&quot;</td><td>2023</td><td>&quot;Didaktika prog…</td><td>&quot;Didaktika prog…</td><td>&quot;A&quot;</td><td>&quot;N&quot;</td><td>2</td><td>&quot;NE&quot;</td><td>&quot;&quot;</td><td>&quot;&#x27;Mgr. Kamil Ba…</td><td>&quot;&#x27;Mgr. Kamil Ba…</td><td>[1165]</td><td>&quot;&quot;</td><td>&quot;&quot;</td><td>null</td><td>&quot;&quot;</td><td>&quot;&quot;</td><td>null</td><td>&quot;&#x27;Mgr. Kamil Ba…</td><td>&quot;&#x27;Mgr. Kamil Ba…</td><td>[1165]</td><td>&quot;&quot;</td><td>&quot;&quot;</td><td>&quot;&quot;</td><td>&quot;&quot;</td><td>&quot;&quot;</td><td>&quot;&quot;</td><td>&quot;&quot;</td><td>&quot;&quot;</td><td>&quot;&quot;</td><td>&quot;Pracovní činno…</td><td>&quot;Rozbor produkt…</td><td>&quot;N&quot;</td><td>0</td><td>&quot;HOD/TYD&quot;</td><td>0</td><td>&quot;HOD/TYD&quot;</td><td>2</td><td>&quot;HOD/TYD&quot;</td><td>&quot;Student využij…</td><td>&quot;Zápočet&quot;</td><td>&quot;NE&quot;</td><td>&quot;Kombinovaná&quot;</td><td>&quot;-\tAktivní účas…</td><td>&quot;1.\tCíle, prost…</td><td>&quot;&quot;</td><td>&quot;Absolvent kurz…</td><td>&quot;&quot;</td><td>&quot;&quot;</td><td>&quot;Čeština&quot;</td><td>&quot;&quot;</td><td>&quot;A&quot;</td><td>&quot;N&quot;</td><td>&quot;N&quot;</td><td>&quot;&quot;</td><td>&quot;&quot;</td><td>&quot;&quot;</td><td>&quot;A&quot;</td><td>&quot;A&quot;</td><td>&quot;&quot;</td><td>0</td><td>&quot;&quot;</td><td>&quot;Bc.&quot;</td><td>&quot;A&quot;</td><td>null</td><td>&quot;&quot;</td><td>&quot;&quot;</td><td>&quot;&quot;</td></tr><tr><td>&quot;KI&quot;</td><td>&quot;EICT&quot;</td><td>2023</td><td>&quot;Information an…</td><td>&quot;Information an…</td><td>&quot;A&quot;</td><td>&quot;A&quot;</td><td>8</td><td>&quot;NE&quot;</td><td>&quot;&quot;</td><td>&quot;&#x27;Ing. Pavel Ku…</td><td>&quot;&#x27;Ing. Pavel Ku…</td><td>[2317]</td><td>&quot;&#x27;Ing. Pavel Ku…</td><td>&quot;&#x27;Ing. Pavel Ku…</td><td>[2317]</td><td>&quot;&#x27;Ing. Pavel Ku…</td><td>&quot;&#x27;Ing. Pavel Ku…</td><td>[2317]</td><td>&quot;&quot;</td><td>&quot;&quot;</td><td>null</td><td>&quot;&quot;</td><td>&quot;&quot;</td><td>&quot;&quot;</td><td>&quot;&quot;</td><td>&quot;&quot;</td><td>&quot;&quot;</td><td>&quot;&quot;</td><td>&quot;&quot;</td><td>&quot;&quot;</td><td>&quot;&quot;</td><td>&quot;&quot;</td><td>&quot;N&quot;</td><td>2</td><td>&quot;HOD/TYD&quot;</td><td>3</td><td>&quot;HOD/TYD&quot;</td><td>0</td><td>&quot;HOD/TYD&quot;</td><td>&quot;The course wil…</td><td>&quot;Zkouška&quot;</td><td>&quot;NE&quot;</td><td>&quot;Kombinovaná&quot;</td><td>&quot;&quot;</td><td>&quot;&quot;</td><td>&quot;&quot;</td><td>&quot;&quot;</td><td>&quot;&quot;</td><td>&quot;&quot;</td><td>&quot;Angličtina&quot;</td><td>&quot;&quot;</td><td>&quot;A&quot;</td><td>&quot;N&quot;</td><td>&quot;A&quot;</td><td>&quot;2/3 per week&quot;</td><td>&quot;&quot;</td><td>&quot;&quot;</td><td>&quot;N&quot;</td><td>&quot;N&quot;</td><td>&quot;&quot;</td><td>0</td><td>&quot;&quot;</td><td>&quot;&quot;</td><td>&quot;A&quot;</td><td>[0]</td><td>&quot;&quot;</td><td>&quot;&quot;</td><td>&quot;&quot;</td></tr><tr><td>&quot;KI&quot;</td><td>&quot;KANE&quot;</td><td>2023</td><td>&quot;Analogová elek…</td><td>&quot;Analogová elek…</td><td>&quot;A&quot;</td><td>&quot;N&quot;</td><td>2</td><td>&quot;NE&quot;</td><td>&quot;&quot;</td><td>&quot;&#x27;doc. RNDr. Fr…</td><td>&quot;&#x27;doc. RNDr. Fr…</td><td>[5232]</td><td>&quot;&#x27;doc. RNDr. Fr…</td><td>&quot;&#x27;doc. RNDr. Fr…</td><td>[5232]</td><td>&quot;&#x27;doc. RNDr. Fr…</td><td>&quot;&#x27;doc. RNDr. Fr…</td><td>[5232]</td><td>&quot;&quot;</td><td>&quot;&quot;</td><td>null</td><td>&quot;&quot;</td><td>&quot;&quot;</td><td>&quot;&quot;</td><td>&quot;&quot;</td><td>&quot;KI/KZEL&quot;</td><td>&quot;&quot;</td><td>&quot;&quot;</td><td>&quot;&#x27;Tichý, M. Ele…</td><td>&quot;&quot;</td><td>&quot;&quot;</td><td>&quot;&quot;</td><td>&quot;N&quot;</td><td>2</td><td>&quot;HOD/SEM&quot;</td><td>4</td><td>&quot;HOD/SEM&quot;</td><td>2</td><td>&quot;HOD/SEM&quot;</td><td>&quot;Kurz je zaměře…</td><td>&quot;Zápočet&quot;</td><td>&quot;NE&quot;</td><td>&quot;Kombinovaná&quot;</td><td>&quot;Ústní obhajoba…</td><td>&quot;1. Pasivní ele…</td><td>&quot;&quot;</td><td>&quot;&quot;</td><td>&quot;&quot;</td><td>&quot;&quot;</td><td>&quot;Čeština&quot;</td><td>&quot;&quot;</td><td>&quot;A&quot;</td><td>&quot;N&quot;</td><td>&quot;N&quot;</td><td>&quot;&quot;</td><td>&quot;&quot;</td><td>&quot;&quot;</td><td>&quot;N&quot;</td><td>&quot;A&quot;</td><td>&quot;&quot;</td><td>0</td><td>&quot;&quot;</td><td>&quot;Bc.&quot;</td><td>&quot;A&quot;</td><td>[0]</td><td>&quot;&quot;</td><td>&quot;&quot;</td><td>&quot;&quot;</td></tr></tbody></table></div>"
      ],
      "text/plain": [
       "shape: (5, 69)\n",
       "┌─────────┬─────────┬──────┬──────────────────────────┬───┬───────────────────┬──────┬──────┬──────┐\n",
       "│ katedra ┆ zkratka ┆ rok  ┆ nazev                    ┆ … ┆ hodZaSemKombForma ┆ aMax ┆ bMax ┆ cMax │\n",
       "│ ---     ┆ ---     ┆ ---  ┆ ---                      ┆   ┆ ---               ┆ ---  ┆ ---  ┆ ---  │\n",
       "│ str     ┆ str     ┆ i64  ┆ str                      ┆   ┆ list[i64]         ┆ str  ┆ str  ┆ str  │\n",
       "╞═════════╪═════════╪══════╪══════════════════════════╪═══╪═══════════════════╪══════╪══════╪══════╡\n",
       "│ KI      ┆ APSIM   ┆ 2023 ┆ System Simulation in     ┆ … ┆ [0]               ┆      ┆      ┆      │\n",
       "│         ┆         ┆      ┆ Practice                 ┆   ┆                   ┆      ┆      ┆      │\n",
       "│ KI      ┆ DI3     ┆ 2023 ┆ Didaktika informatiky    ┆ … ┆ [0]               ┆      ┆      ┆      │\n",
       "│         ┆         ┆      ┆ III                      ┆   ┆                   ┆      ┆      ┆      │\n",
       "│ KI      ┆ DPG     ┆ 2023 ┆ Didaktika programování   ┆ … ┆ null              ┆      ┆      ┆      │\n",
       "│ KI      ┆ EICT    ┆ 2023 ┆ Information and          ┆ … ┆ [0]               ┆      ┆      ┆      │\n",
       "│         ┆         ┆      ┆ Communicat. Tech…        ┆   ┆                   ┆      ┆      ┆      │\n",
       "│ KI      ┆ KANE    ┆ 2023 ┆ Analogová elektronika    ┆ … ┆ [0]               ┆      ┆      ┆      │\n",
       "└─────────┴─────────┴──────┴──────────────────────────┴───┴───────────────────┴──────┴──────┴──────┘"
      ]
     },
     "execution_count": 98,
     "metadata": {},
     "output_type": "execute_result"
    }
   ],
   "source": [
    "from pprint import pprint\n",
    "# pprint(predmety_by_kat.columns,compact=True)\n",
    "predmety_by_kat.head()"
   ]
  },
  {
   "cell_type": "code",
   "execution_count": 100,
   "metadata": {},
   "outputs": [
    {
     "name": "stderr",
     "output_type": "stream",
     "text": [
      "C:\\Users\\Matej\\AppData\\Local\\Temp\\ipykernel_16204\\3219921638.py:1: DeprecationWarning: `where` is deprecated. Use `filter` instead.\n",
      "  male_predmety = predmety_by_kat.select(pl.col([\"zkratka\", \"katedra\", \"rok\", \"nazev\", \"garantiUcitIdno\", \"prednasejiciUcitIdno\", \"cviciciUcitIdno\", \"seminariciUcitIdno\"]).where(pl.col(\"zkratka\").is_unique()))\n"
     ]
    },
    {
     "data": {
      "text/html": [
       "<div><style>\n",
       ".dataframe > thead > tr,\n",
       ".dataframe > tbody > tr {\n",
       "  text-align: right;\n",
       "  white-space: pre-wrap;\n",
       "}\n",
       "</style>\n",
       "<small>shape: (5, 8)</small><table border=\"1\" class=\"dataframe\"><thead><tr><th>zkratka</th><th>katedra</th><th>rok</th><th>nazev</th><th>garantiUcitIdno</th><th>prednasejiciUcitIdno</th><th>cviciciUcitIdno</th><th>seminariciUcitIdno</th></tr><tr><td>str</td><td>str</td><td>i64</td><td>str</td><td>list[i64]</td><td>list[i64]</td><td>list[i64]</td><td>list[i64]</td></tr></thead><tbody><tr><td>&quot;APSIM&quot;</td><td>&quot;KI&quot;</td><td>2023</td><td>&quot;System Simulat…</td><td>[251]</td><td>null</td><td>null</td><td>[251, 3521]</td></tr><tr><td>&quot;DI3&quot;</td><td>&quot;KI&quot;</td><td>2023</td><td>&quot;Didaktika info…</td><td>[2776]</td><td>null</td><td>null</td><td>[1165, 2776]</td></tr><tr><td>&quot;DPG&quot;</td><td>&quot;KI&quot;</td><td>2023</td><td>&quot;Didaktika prog…</td><td>[1165]</td><td>null</td><td>null</td><td>[1165]</td></tr><tr><td>&quot;EICT&quot;</td><td>&quot;KI&quot;</td><td>2023</td><td>&quot;Information an…</td><td>[2317]</td><td>[2317]</td><td>[2317]</td><td>null</td></tr><tr><td>&quot;KANE&quot;</td><td>&quot;KI&quot;</td><td>2023</td><td>&quot;Analogová elek…</td><td>[5232]</td><td>[5232]</td><td>[5232]</td><td>null</td></tr></tbody></table></div>"
      ],
      "text/plain": [
       "shape: (5, 8)\n",
       "┌─────────┬─────────┬──────┬──────────────┬──────────────┬─────────────┬─────────────┬─────────────┐\n",
       "│ zkratka ┆ katedra ┆ rok  ┆ nazev        ┆ garantiUcitI ┆ prednasejic ┆ cviciciUcit ┆ seminariciU │\n",
       "│ ---     ┆ ---     ┆ ---  ┆ ---          ┆ dno          ┆ iUcitIdno   ┆ Idno        ┆ citIdno     │\n",
       "│ str     ┆ str     ┆ i64  ┆ str          ┆ ---          ┆ ---         ┆ ---         ┆ ---         │\n",
       "│         ┆         ┆      ┆              ┆ list[i64]    ┆ list[i64]   ┆ list[i64]   ┆ list[i64]   │\n",
       "╞═════════╪═════════╪══════╪══════════════╪══════════════╪═════════════╪═════════════╪═════════════╡\n",
       "│ APSIM   ┆ KI      ┆ 2023 ┆ System       ┆ [251]        ┆ null        ┆ null        ┆ [251, 3521] │\n",
       "│         ┆         ┆      ┆ Simulation   ┆              ┆             ┆             ┆             │\n",
       "│         ┆         ┆      ┆ in Practice  ┆              ┆             ┆             ┆             │\n",
       "│ DI3     ┆ KI      ┆ 2023 ┆ Didaktika    ┆ [2776]       ┆ null        ┆ null        ┆ [1165,      │\n",
       "│         ┆         ┆      ┆ informatiky  ┆              ┆             ┆             ┆ 2776]       │\n",
       "│         ┆         ┆      ┆ III          ┆              ┆             ┆             ┆             │\n",
       "│ DPG     ┆ KI      ┆ 2023 ┆ Didaktika    ┆ [1165]       ┆ null        ┆ null        ┆ [1165]      │\n",
       "│         ┆         ┆      ┆ programování ┆              ┆             ┆             ┆             │\n",
       "│ EICT    ┆ KI      ┆ 2023 ┆ Information  ┆ [2317]       ┆ [2317]      ┆ [2317]      ┆ null        │\n",
       "│         ┆         ┆      ┆ and          ┆              ┆             ┆             ┆             │\n",
       "│         ┆         ┆      ┆ Communicat.  ┆              ┆             ┆             ┆             │\n",
       "│         ┆         ┆      ┆ Tech…        ┆              ┆             ┆             ┆             │\n",
       "│ KANE    ┆ KI      ┆ 2023 ┆ Analogová    ┆ [5232]       ┆ [5232]      ┆ [5232]      ┆ null        │\n",
       "│         ┆         ┆      ┆ elektronika  ┆              ┆             ┆             ┆             │\n",
       "└─────────┴─────────┴──────┴──────────────┴──────────────┴─────────────┴─────────────┴─────────────┘"
      ]
     },
     "execution_count": 100,
     "metadata": {},
     "output_type": "execute_result"
    }
   ],
   "source": [
    "male_predmety = predmety_by_kat.select(pl.col([\"zkratka\", \"katedra\", \"rok\", \"nazev\", \"garantiUcitIdno\", \"prednasejiciUcitIdno\", \"cviciciUcitIdno\", \"seminariciUcitIdno\"]).where(pl.col(\"zkratka\").is_unique()))\n",
    "#male_predmety = male_predmety.with_columns(pl.col([\"prednasejiciUcitIdno\", \"cviciciUcitIdno\", \"seminariciUcitIdno\", \"garantiUcitIdno\"]).str.split(\", \"))\n",
    "male_predmety.head()"
   ]
  },
  {
   "cell_type": "code",
   "execution_count": 107,
   "metadata": {},
   "outputs": [
    {
     "data": {
      "text/plain": [
       "<xlsxwriter.workbook.Workbook at 0x23e40155760>"
      ]
     },
     "execution_count": 107,
     "metadata": {},
     "output_type": "execute_result"
    }
   ],
   "source": [
    "# přednášející nemá přednášku:\n",
    "filtrovani_prednasejici = male_predmety.select(\"nazev\", \"zkratka\", \"prednasejiciUcitIdno\").explode(\"prednasejiciUcitIdno\").filter(\n",
    "    pl.col(\"prednasejiciUcitIdno\"\n",
    ").is_not_null()).with_columns(\n",
    "    pl.col(\"prednasejiciUcitIdno\").alias(\"idno\")\n",
    ")\n",
    "joined_prednasejici = filtrovani_prednasejici.join(maly_rozvrh, \"idno\", \"left\")\n",
    "prednasejici_bez_prednasek = joined_prednasejici.filter(pl.col(\"typAkceZkr\").is_null())\n",
    "prednasejici_bez_prednasek.select(\"nazev\", \"zkratka\", \"prednasejiciUcitIdno\").sort(\"prednasejiciUcitIdno\").write_excel(\"results/prednasejici_bez_prednasek.xlsx\")"
   ]
  },
  {
   "cell_type": "code",
   "execution_count": 108,
   "metadata": {},
   "outputs": [
    {
     "data": {
      "text/plain": [
       "<xlsxwriter.workbook.Workbook at 0x23e40146420>"
      ]
     },
     "execution_count": 108,
     "metadata": {},
     "output_type": "execute_result"
    }
   ],
   "source": [
    "# cvičící nemá cvičení:\n",
    "filtrovani_cvicici = male_predmety.select(\"nazev\", \"zkratka\", \"cviciciUcitIdno\").explode(\"cviciciUcitIdno\").filter(\n",
    "    pl.col(\"cviciciUcitIdno\"\n",
    ").is_not_null()).with_columns(\n",
    "    pl.col(\"cviciciUcitIdno\").alias(\"idno\")\n",
    ")\n",
    "joined_cvicici = filtrovani_cvicici.join(maly_rozvrh, \"idno\", \"left\")\n",
    "cvicici_bez_cviceni = joined_cvicici.filter(pl.col(\"typAkceZkr\").is_null())\n",
    "cvicici_bez_cviceni.select(\"nazev\", \"zkratka\", \"cviciciUcitIdno\").sort(\"cviciciUcitIdno\").write_excel(\"results/cvicici_bez_cviceni.xlsx\")"
   ]
  },
  {
   "cell_type": "code",
   "execution_count": 109,
   "metadata": {},
   "outputs": [
    {
     "data": {
      "text/plain": [
       "<xlsxwriter.workbook.Workbook at 0x23e40144590>"
      ]
     },
     "execution_count": 109,
     "metadata": {},
     "output_type": "execute_result"
    }
   ],
   "source": [
    "# přednášející nemá přednášku:\n",
    "filtrovani_seminarici = male_predmety.select(\"nazev\", \"zkratka\", \"seminariciUcitIdno\").explode(\"seminariciUcitIdno\").filter(\n",
    "    pl.col(\"seminariciUcitIdno\"\n",
    ").is_not_null()).with_columns(\n",
    "    pl.col(\"seminariciUcitIdno\").alias(\"idno\")\n",
    ")\n",
    "joined_seminarici = filtrovani_seminarici.join(maly_rozvrh, \"idno\", \"left\")\n",
    "seminarici_bez_seminare = joined_seminarici.filter(pl.col(\"typAkceZkr\").is_null())\n",
    "seminarici_bez_seminare.select(\"nazev\", \"zkratka\", \"seminariciUcitIdno\").sort(\"seminariciUcitIdno\").write_excel(\"results/seminarici_bez_seminare.xlsx\")"
   ]
  },
  {
   "attachments": {},
   "cell_type": "markdown",
   "metadata": {},
   "source": [
    "### warning, když je mezi vyučujícími někdo bez odpovídajícího typu rozvrhové akce"
   ]
  },
  {
   "attachments": {},
   "cell_type": "markdown",
   "metadata": {},
   "source": [
    "Pro každého učitele vypíšu předměty, u kterých má mít nějakou akci.\n",
    "\n",
    "Takže budu mít dataframe, kde bude učitel, zkratka, a jeden sloupeček za každý typ akce, kde učitel bude muset mít aspoň 1 narozvrhovaný typ akce s daným předmětem, kde je hodnota `True`"
   ]
  },
  {
   "cell_type": "code",
   "execution_count": 112,
   "metadata": {},
   "outputs": [
    {
     "data": {
      "text/plain": [
       "[shape: (5,)\n",
       " Series: 'typAkceZkr' [str]\n",
       " [\n",
       " \t\"Se\"\n",
       " \t\"Zkouška\"\n",
       " \t\"Cv\"\n",
       " \t\"Př\"\n",
       " \t\"Zápočet\"\n",
       " ]]"
      ]
     },
     "execution_count": 112,
     "metadata": {},
     "output_type": "execute_result"
    }
   ],
   "source": [
    "# vypíšu typy akcí\n",
    "list(maly_rozvrh.select(pl.col(\"typAkceZkr\").unique()))"
   ]
  },
  {
   "cell_type": "code",
   "execution_count": null,
   "metadata": {},
   "outputs": [],
   "source": []
  },
  {
   "attachments": {},
   "cell_type": "markdown",
   "metadata": {},
   "source": [
    "### garant předmětu by měl být někde mezi vyučujícími rozvrhových akcí a pokud má předmět přednášku, měl by být i mezi přednášejícími v rámci rozvrhových akcí"
   ]
  },
  {
   "cell_type": "code",
   "execution_count": null,
   "metadata": {},
   "outputs": [],
   "source": []
  },
  {
   "attachments": {},
   "cell_type": "markdown",
   "metadata": {},
   "source": [
    "### Změny proti akreditacím."
   ]
  },
  {
   "cell_type": "code",
   "execution_count": null,
   "metadata": {},
   "outputs": [],
   "source": []
  },
  {
   "attachments": {},
   "cell_type": "markdown",
   "metadata": {},
   "source": [
    "### Porovnat revize předmětů\n",
    "\n",
    "tj. parametry předmětů pro aktuální akademický rok a pro příští."
   ]
  },
  {
   "attachments": {},
   "cell_type": "markdown",
   "metadata": {},
   "source": [
    "> jakou to má mít podobu?"
   ]
  },
  {
   "cell_type": "code",
   "execution_count": null,
   "metadata": {},
   "outputs": [],
   "source": []
  }
 ],
 "metadata": {
  "kernelspec": {
   "display_name": "venv",
   "language": "python",
   "name": "python3"
  },
  "language_info": {
   "codemirror_mode": {
    "name": "ipython",
    "version": 3
   },
   "file_extension": ".py",
   "mimetype": "text/x-python",
   "name": "python",
   "nbconvert_exporter": "python",
   "pygments_lexer": "ipython3",
   "version": "3.12.0"
  },
  "orig_nbformat": 4
 },
 "nbformat": 4,
 "nbformat_minor": 2
}

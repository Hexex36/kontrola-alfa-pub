{
 "cells": [
  {
   "cell_type": "code",
   "execution_count": 2,
   "metadata": {},
   "outputs": [],
   "source": [
    "import polars as pl\n",
    "from pprint import pprint"
   ]
  },
  {
   "cell_type": "code",
   "execution_count": 34,
   "metadata": {},
   "outputs": [],
   "source": [
    "rozvrh_by_kat = pl.read_excel(\"source_tables/getRozvrhByKatedra-2023-03-15-17-47.xlsx\", sheet_id=1).drop(\"semestr\").unique().rename({\"predmet\" : \"zkratka\"})\n",
    "#print(rozvrh_by_kat.head())\n",
    "# Nefunguje, pokud u DRUHÝ TABULKY SPECIFICKY není upřesněno, že nemá použít xlsx2csv, ale openpyxl (openpyxl je o dost pomalejší btw, alternativně bych mohl použít calamine)\n",
    "# Problém je v tom, že to jeden sloupec natypuje jako d64 (nebo nějakej takovejhle int typ), a potom tomu nafeedí dvě čísla oddělený čárkou, and it goes APESHIT\n",
    "predmety_by_kat = pl.read_excel(\"source_tables/getPredmetyByKatedraFullInfo-2023-03-15-17-40.xlsx\", sheet_id=1, engine=\"openpyxl\").drop(\"semestr\").unique().drop([\"pocetStudentu\", \"aSkut\", \"bSkut\", \"cSkut\"])"
   ]
  },
  {
   "cell_type": "code",
   "execution_count": 138,
   "metadata": {},
   "outputs": [],
   "source": [
    "# qr = ~pl.all().is_duplicated()\n",
    "# rozvrh_by_kat = rozvrh_by_kat.filter(qr)\n",
    "# predmety_by_kat = predmety_by_kat.filter(qr)\n"
   ]
  },
  {
   "cell_type": "code",
   "execution_count": 19,
   "metadata": {},
   "outputs": [
    {
     "data": {
      "text/html": [
       "<div><style>\n",
       ".dataframe > thead > tr,\n",
       ".dataframe > tbody > tr {\n",
       "  text-align: right;\n",
       "  white-space: pre-wrap;\n",
       "}\n",
       "</style>\n",
       "<small>shape: (5, 69)</small><table border=\"1\" class=\"dataframe\"><thead><tr><th>katedra</th><th>zkratka</th><th>rok</th><th>nazev</th><th>nazevDlouhy</th><th>vyukaZS</th><th>vyukaLS</th><th>kreditu</th><th>viceZapis</th><th>minObsazeni</th><th>garanti</th><th>garantiSPodily</th><th>garantiUcitIdno</th><th>prednasejici</th><th>prednasejiciSPodily</th><th>prednasejiciUcitIdno</th><th>cvicici</th><th>cviciciSPodily</th><th>cviciciUcitIdno</th><th>seminarici</th><th>seminariciSPodily</th><th>seminariciUcitIdno</th><th>schvalujiciUznani</th><th>schvalujiciUznaniUcitIdno</th><th>examinatori</th><th>examinatoriUcitIdno</th><th>podminujiciPredmety</th><th>vylucujiciPredmety</th><th>podminujePredmety</th><th>literatura</th><th>nahrazPredmety</th><th>metodyVyucovaci</th><th>metodyHodnotici</th><th>akreditovan</th><th>jednotekPrednasek</th><th>jednotkaPrednasky</th><th>jednotekCviceni</th><th>jednotkaCviceni</th><th>jednotekSeminare</th><th>jednotkaSeminare</th><th>anotace</th><th>typZkousky</th><th>maZapocetPredZk</th><th>formaZkousky</th><th>pozadavky</th><th>prehledLatky</th><th>predpoklady</th><th>ziskaneZpusobilosti</th><th>casovaNarocnost</th><th>predmetUrl</th><th>vyucovaciJazyky</th><th>poznamka</th><th>ectsZobrazit</th><th>ectsAkreditace</th><th>ectsNabizetUPrijezdu</th><th>poznamkaVerejna</th><th>skupinaAkreditace</th><th>skupinaAkreditaceKey</th><th>zarazenDoPrezencnihoStudia</th><th>zarazenDoKombinovanehoStudia</th><th>studijniOpory</th><th>praxePocetDnu</th><th>urovenNastavena</th><th>urovenVypoctena</th><th>automatickyUznavatZppZk</th><th>hodZaSemKombForma</th><th>aMax</th><th>bMax</th><th>cMax</th></tr><tr><td>str</td><td>str</td><td>i64</td><td>str</td><td>str</td><td>str</td><td>str</td><td>i64</td><td>str</td><td>null</td><td>str</td><td>str</td><td>str</td><td>str</td><td>str</td><td>str</td><td>str</td><td>str</td><td>str</td><td>str</td><td>str</td><td>str</td><td>null</td><td>null</td><td>str</td><td>str</td><td>str</td><td>str</td><td>str</td><td>str</td><td>str</td><td>str</td><td>str</td><td>str</td><td>i64</td><td>str</td><td>i64</td><td>str</td><td>i64</td><td>str</td><td>str</td><td>str</td><td>str</td><td>str</td><td>str</td><td>str</td><td>str</td><td>str</td><td>null</td><td>null</td><td>str</td><td>str</td><td>str</td><td>str</td><td>str</td><td>str</td><td>str</td><td>str</td><td>str</td><td>str</td><td>str</td><td>i64</td><td>str</td><td>str</td><td>str</td><td>str</td><td>null</td><td>null</td><td>str</td></tr></thead><tbody><tr><td>&quot;KI&quot;</td><td>&quot;AIIT&quot;</td><td>2023</td><td>&quot;Architektura a…</td><td>&quot;Architektura a…</td><td>&quot;A&quot;</td><td>&quot;N&quot;</td><td>2</td><td>&quot;NE&quot;</td><td>null</td><td>&quot;&#x27;RNDr. Jan Kre…</td><td>&quot;&#x27;RNDr. Jan Kre…</td><td>&quot;2776&quot;</td><td>null</td><td>null</td><td>null</td><td>null</td><td>null</td><td>null</td><td>&quot;&#x27;RNDr. Jan Kre…</td><td>&quot;&#x27;RNDr. Jan Kre…</td><td>&quot;2776&quot;</td><td>null</td><td>null</td><td>null</td><td>null</td><td>&quot;KI/ZPS&quot;</td><td>null</td><td>null</td><td>null</td><td>null</td><td>null</td><td>null</td><td>&quot;N&quot;</td><td>0</td><td>&quot;HOD/TYD&quot;</td><td>0</td><td>&quot;HOD/TYD&quot;</td><td>2</td><td>&quot;HOD/TYD&quot;</td><td>&quot;Kurz je zaměře…</td><td>&quot;Zápočet&quot;</td><td>&quot;NE&quot;</td><td>&quot;Kombinovaná&quot;</td><td>&quot;Zápočet: labor…</td><td>&quot;1. IT a její ž…</td><td>null</td><td>null</td><td>null</td><td>null</td><td>&quot;Čeština&quot;</td><td>null</td><td>&quot;A&quot;</td><td>&quot;N&quot;</td><td>&quot;N&quot;</td><td>null</td><td>null</td><td>null</td><td>&quot;A&quot;</td><td>&quot;N&quot;</td><td>null</td><td>0</td><td>null</td><td>&quot;Bc.&quot;</td><td>&quot;A&quot;</td><td>&quot;0&quot;</td><td>null</td><td>null</td><td>null</td></tr><tr><td>&quot;KI&quot;</td><td>&quot;AIT&quot;</td><td>2023</td><td>&quot;Architektura a…</td><td>&quot;Architektura a…</td><td>&quot;A&quot;</td><td>&quot;N&quot;</td><td>3</td><td>&quot;NE&quot;</td><td>null</td><td>&quot;&#x27;RNDr. Jan Kre…</td><td>&quot;&#x27;RNDr. Jan Kre…</td><td>&quot;2776&quot;</td><td>null</td><td>null</td><td>null</td><td>null</td><td>null</td><td>null</td><td>&quot;&#x27;RNDr. Jan Kre…</td><td>&quot;&#x27;RNDr. Jan Kre…</td><td>&quot;2776&quot;</td><td>null</td><td>null</td><td>null</td><td>null</td><td>&quot;KI/ZPP, KI/ZPS…</td><td>null</td><td>&quot;KI/IVP&quot;</td><td>&quot;&#x27;Velte, A. T.,…</td><td>null</td><td>null</td><td>null</td><td>&quot;N&quot;</td><td>0</td><td>&quot;HOD/TYD&quot;</td><td>0</td><td>&quot;HOD/TYD&quot;</td><td>2</td><td>&quot;HOD/TYD&quot;</td><td>&quot;Kurz je zaměře…</td><td>&quot;Zkouška&quot;</td><td>&quot;NE&quot;</td><td>&quot;Kombinovaná&quot;</td><td>&quot;Zápočet: labor…</td><td>&quot;1. IT a její ž…</td><td>&quot;Základny počít…</td><td>null</td><td>null</td><td>null</td><td>&quot;Čeština&quot;</td><td>&quot;Tento kurz vzn…</td><td>&quot;A&quot;</td><td>&quot;N&quot;</td><td>&quot;N&quot;</td><td>null</td><td>null</td><td>null</td><td>&quot;A&quot;</td><td>&quot;N&quot;</td><td>null</td><td>0</td><td>null</td><td>&quot;Bc.&quot;</td><td>&quot;A&quot;</td><td>null</td><td>null</td><td>null</td><td>null</td></tr><tr><td>&quot;KI&quot;</td><td>&quot;ANE&quot;</td><td>2023</td><td>&quot;Analogová elek…</td><td>&quot;Analogová elek…</td><td>&quot;A&quot;</td><td>&quot;N&quot;</td><td>2</td><td>&quot;NE&quot;</td><td>null</td><td>&quot;&#x27;doc. RNDr. Fr…</td><td>&quot;&#x27;doc. RNDr. Fr…</td><td>&quot;5232&quot;</td><td>&quot;&#x27;doc. RNDr. Fr…</td><td>&quot;&#x27;doc. RNDr. Fr…</td><td>&quot;5232&quot;</td><td>&quot;&#x27;doc. RNDr. Fr…</td><td>&quot;&#x27;doc. RNDr. Fr…</td><td>&quot;5232&quot;</td><td>null</td><td>null</td><td>null</td><td>null</td><td>null</td><td>null</td><td>null</td><td>&quot;KI/ZEL&quot;</td><td>null</td><td>null</td><td>&quot;&#x27;Tichý, M. Ele…</td><td>null</td><td>null</td><td>null</td><td>&quot;N&quot;</td><td>1</td><td>&quot;HOD/TYD&quot;</td><td>1</td><td>&quot;HOD/TYD&quot;</td><td>0</td><td>&quot;HOD/TYD&quot;</td><td>&quot;Kurz je zaměře…</td><td>&quot;Zápočet&quot;</td><td>&quot;NE&quot;</td><td>&quot;Kombinovaná&quot;</td><td>&quot;Ústní obhajoba…</td><td>&quot;1. Pasivní ele…</td><td>null</td><td>null</td><td>null</td><td>null</td><td>&quot;Čeština&quot;</td><td>null</td><td>&quot;A&quot;</td><td>&quot;N&quot;</td><td>&quot;N&quot;</td><td>null</td><td>null</td><td>null</td><td>&quot;A&quot;</td><td>&quot;N&quot;</td><td>null</td><td>0</td><td>null</td><td>&quot;Bc.&quot;</td><td>&quot;A&quot;</td><td>&quot;0&quot;</td><td>null</td><td>null</td><td>null</td></tr><tr><td>&quot;KI&quot;</td><td>&quot;A201&quot;</td><td>2023</td><td>&quot;DMS and Team C…</td><td>&quot;Document Manag…</td><td>&quot;A&quot;</td><td>&quot;A&quot;</td><td>2</td><td>&quot;NE&quot;</td><td>null</td><td>&quot;&#x27;Ing. Pavel Ku…</td><td>&quot;&#x27;Ing. Pavel Ku…</td><td>&quot;2317&quot;</td><td>null</td><td>null</td><td>null</td><td>null</td><td>null</td><td>null</td><td>&quot;&#x27;Ing. Pavel Ku…</td><td>&quot;&#x27;Ing. Pavel Ku…</td><td>&quot;2317&quot;</td><td>null</td><td>null</td><td>null</td><td>null</td><td>null</td><td>null</td><td>null</td><td>null</td><td>&quot;KI/0201&quot;</td><td>null</td><td>null</td><td>&quot;A&quot;</td><td>0</td><td>&quot;HOD/TYD&quot;</td><td>0</td><td>&quot;HOD/TYD&quot;</td><td>2</td><td>&quot;HOD/TYD&quot;</td><td>null</td><td>&quot;Zápočet&quot;</td><td>&quot;NE&quot;</td><td>&quot;Kombinovaná&quot;</td><td>null</td><td>null</td><td>null</td><td>null</td><td>null</td><td>null</td><td>&quot;Angličtina&quot;</td><td>null</td><td>&quot;A&quot;</td><td>&quot;N&quot;</td><td>&quot;N&quot;</td><td>null</td><td>null</td><td>null</td><td>&quot;A&quot;</td><td>&quot;A&quot;</td><td>null</td><td>0</td><td>null</td><td>&quot;Bc.&quot;</td><td>&quot;A&quot;</td><td>&quot;0&quot;</td><td>null</td><td>null</td><td>null</td></tr><tr><td>&quot;KI&quot;</td><td>&quot;DEP&quot;</td><td>2023</td><td>&quot;Dependabilita …</td><td>&quot;Dependabilita …</td><td>&quot;A&quot;</td><td>&quot;N&quot;</td><td>4</td><td>&quot;NE&quot;</td><td>null</td><td>&quot;&#x27;doc. RNDr. Mg…</td><td>&quot;&#x27;doc. RNDr. Mg…</td><td>&quot;2239&quot;</td><td>&quot;&#x27;doc. RNDr. Mg…</td><td>&quot;&#x27;doc. RNDr. Mg…</td><td>&quot;2239&quot;</td><td>&quot;&#x27;Ing. Mgr. Pav…</td><td>&quot;&#x27;Ing. Mgr. Pav…</td><td>&quot;6973, 251, 223…</td><td>null</td><td>null</td><td>null</td><td>null</td><td>null</td><td>null</td><td>null</td><td>&quot;KI/PGL1&quot;</td><td>null</td><td>&quot;KI/BET, KI/DSW…</td><td>&quot;&#x27;Laprie, J.C.,…</td><td>null</td><td>null</td><td>null</td><td>&quot;N&quot;</td><td>2</td><td>&quot;HOD/TYD&quot;</td><td>1</td><td>&quot;HOD/TYD&quot;</td><td>0</td><td>&quot;HOD/TYD&quot;</td><td>&quot;Kurz uvádí do …</td><td>&quot;Zkouška&quot;</td><td>&quot;ANO&quot;</td><td>&quot;Kombinovaná&quot;</td><td>&quot;1. Student mus…</td><td>&quot;1. Úvod do pro…</td><td>null</td><td>null</td><td>null</td><td>null</td><td>&quot;Čeština&quot;</td><td>null</td><td>&quot;A&quot;</td><td>&quot;N&quot;</td><td>&quot;N&quot;</td><td>null</td><td>null</td><td>null</td><td>&quot;A&quot;</td><td>&quot;N&quot;</td><td>null</td><td>0</td><td>null</td><td>&quot;Bc.&quot;</td><td>&quot;A&quot;</td><td>null</td><td>null</td><td>null</td><td>null</td></tr></tbody></table></div>"
      ],
      "text/plain": [
       "shape: (5, 69)\n",
       "┌─────────┬─────────┬──────┬───────────────────────┬───┬───────────────────┬──────┬──────┬──────┐\n",
       "│ katedra ┆ zkratka ┆ rok  ┆ nazev                 ┆ … ┆ hodZaSemKombForma ┆ aMax ┆ bMax ┆ cMax │\n",
       "│ ---     ┆ ---     ┆ ---  ┆ ---                   ┆   ┆ ---               ┆ ---  ┆ ---  ┆ ---  │\n",
       "│ str     ┆ str     ┆ i64  ┆ str                   ┆   ┆ str               ┆ null ┆ null ┆ str  │\n",
       "╞═════════╪═════════╪══════╪═══════════════════════╪═══╪═══════════════════╪══════╪══════╪══════╡\n",
       "│ KI      ┆ AIIT    ┆ 2023 ┆ Architektura a        ┆ … ┆ 0                 ┆ null ┆ null ┆ null │\n",
       "│         ┆         ┆      ┆ infrastruktura IT     ┆   ┆                   ┆      ┆      ┆      │\n",
       "│ KI      ┆ AIT     ┆ 2023 ┆ Architektura a        ┆ … ┆ null              ┆ null ┆ null ┆ null │\n",
       "│         ┆         ┆      ┆ infrastruktura IT     ┆   ┆                   ┆      ┆      ┆      │\n",
       "│ KI      ┆ ANE     ┆ 2023 ┆ Analogová elektronika ┆ … ┆ 0                 ┆ null ┆ null ┆ null │\n",
       "│ KI      ┆ A201    ┆ 2023 ┆ DMS and Team          ┆ … ┆ 0                 ┆ null ┆ null ┆ null │\n",
       "│         ┆         ┆      ┆ Collaboration Tools   ┆   ┆                   ┆      ┆      ┆      │\n",
       "│ KI      ┆ DEP     ┆ 2023 ┆ Dependabilita         ┆ … ┆ null              ┆ null ┆ null ┆ null │\n",
       "│         ┆         ┆      ┆ informačních systé…   ┆   ┆                   ┆      ┆      ┆      │\n",
       "└─────────┴─────────┴──────┴───────────────────────┴───┴───────────────────┴──────┴──────┴──────┘"
      ]
     },
     "execution_count": 19,
     "metadata": {},
     "output_type": "execute_result"
    }
   ],
   "source": [
    "predmety_by_kat.head()"
   ]
  },
  {
   "cell_type": "code",
   "execution_count": 20,
   "metadata": {},
   "outputs": [
    {
     "data": {
      "text/html": [
       "<div><style>\n",
       ".dataframe > thead > tr,\n",
       ".dataframe > tbody > tr {\n",
       "  text-align: right;\n",
       "  white-space: pre-wrap;\n",
       "}\n",
       "</style>\n",
       "<small>shape: (5, 54)</small><table border=\"1\" class=\"dataframe\"><thead><tr><th>roakIdno</th><th>nazev</th><th>katedra</th><th>zkratka</th><th>statut</th><th>ucitIdno</th><th>ucitIdno.ucitel</th><th>jmeno.ucitel</th><th>prijmeni.ucitel</th><th>titulPred.ucitel</th><th>titulZa.ucitel</th><th>platnost.ucitel</th><th>zamestnanec.ucitel</th><th>podilNaVyuce.ucitel</th><th>rok</th><th>budova</th><th>mistnost</th><th>kapacitaMistnosti</th><th>planObsazeni</th><th>obsazeni</th><th>typAkce</th><th>typAkceZkr</th><th>platnost</th><th>den</th><th>denZkr</th><th>vyucJazyk</th><th>hodinaOd</th><th>hodinaDo</th><th>pocetVyucHodin</th><th>hodinaSkutOd</th><th>hodinaSkutDo</th><th>tydenOd</th><th>tydenDo</th><th>tyden</th><th>tydenZkr</th><th>grupIdno</th><th>jeNadrazena</th><th>maNadrazenou</th><th>kontakt</th><th>krouzky</th><th>casovaRada</th><th>datum</th><th>datumOd</th><th>datumDo</th><th>druhAkce</th><th>vsichniUciteleUcitIdno</th><th>vsichniUciteleJmenaTituly</th><th>vsichniUciteleJmenaTitulySPodily</th><th>vsichniUcitelePrijmeni</th><th>referencedIdno</th><th>poznamkaRozvrhare</th><th>nekonaSe</th><th>owner</th><th>zakazaneAkce</th></tr><tr><td>i64</td><td>str</td><td>str</td><td>str</td><td>str</td><td>i64</td><td>i64</td><td>str</td><td>str</td><td>str</td><td>str</td><td>str</td><td>str</td><td>i64</td><td>i64</td><td>str</td><td>f64</td><td>i64</td><td>i64</td><td>i64</td><td>str</td><td>str</td><td>str</td><td>str</td><td>str</td><td>str</td><td>i64</td><td>i64</td><td>i64</td><td>str</td><td>str</td><td>i64</td><td>i64</td><td>str</td><td>str</td><td>i64</td><td>str</td><td>str</td><td>str</td><td>str</td><td>str</td><td>str</td><td>str</td><td>str</td><td>str</td><td>str</td><td>str</td><td>str</td><td>str</td><td>i64</td><td>str</td><td>str</td><td>str</td><td>str</td></tr></thead><tbody><tr><td>486994</td><td>&quot;Analýza síťové…</td><td>&quot;KI&quot;</td><td>&quot;ASK&quot;</td><td>null</td><td>2776</td><td>2776</td><td>&quot;Jan&quot;</td><td>&quot;Krejčí&quot;</td><td>&quot;RNDr.&quot;</td><td>&quot;Ph.D.&quot;</td><td>&quot;A&quot;</td><td>&quot;A&quot;</td><td>100</td><td>2023</td><td>&quot;CP&quot;</td><td>7.07</td><td>12</td><td>12</td><td>10</td><td>&quot;Cvičení&quot;</td><td>&quot;Cv&quot;</td><td>&quot;A&quot;</td><td>&quot;Čtvrtek&quot;</td><td>&quot;Čt&quot;</td><td>null</td><td>3</td><td>5</td><td>3</td><td>&quot;09:00&quot;</td><td>&quot;11:50&quot;</td><td>8</td><td>19</td><td>&quot;Jiný&quot;</td><td>&quot;J&quot;</td><td>null</td><td>&quot;N&quot;</td><td>&quot;N&quot;</td><td>&quot;Automaticky vy…</td><td>&quot;2.API Bc,3.API…</td><td>&quot;UJEP&quot;</td><td>&quot;4.4.2024&quot;</td><td>null</td><td>null</td><td>&quot;R&quot;</td><td>&quot;2776&quot;</td><td>&quot;RNDr. Jan Krej…</td><td>&quot;&#x27;RNDr. Jan Kre…</td><td>&quot;Krejčí&quot;</td><td>486994</td><td>null</td><td>null</td><td>&quot;RSKVARA&quot;</td><td>null</td></tr><tr><td>486683</td><td>&quot;Operační systé…</td><td>&quot;KI&quot;</td><td>&quot;OPS&quot;</td><td>null</td><td>650</td><td>650</td><td>&quot;Petr&quot;</td><td>&quot;Kubera&quot;</td><td>&quot;RNDr.&quot;</td><td>&quot;Ph.D.&quot;</td><td>&quot;A&quot;</td><td>&quot;A&quot;</td><td>100</td><td>2023</td><td>&quot;MF&quot;</td><td>2.28</td><td>190</td><td>140</td><td>140</td><td>&quot;Přednáška&quot;</td><td>&quot;Př&quot;</td><td>&quot;A&quot;</td><td>&quot;Čtvrtek&quot;</td><td>&quot;Čt&quot;</td><td>null</td><td>8</td><td>8</td><td>1</td><td>&quot;14:00&quot;</td><td>&quot;14:50&quot;</td><td>8</td><td>20</td><td>&quot;Každý&quot;</td><td>&quot;K&quot;</td><td>null</td><td>&quot;N&quot;</td><td>&quot;N&quot;</td><td>&quot;Automaticky vy…</td><td>&quot;1.API Bc,1.MvF…</td><td>&quot;UJEP&quot;</td><td>&quot;4.4.2024&quot;</td><td>null</td><td>null</td><td>&quot;R&quot;</td><td>&quot;650&quot;</td><td>&quot;RNDr. Petr Kub…</td><td>&quot;&#x27;RNDr. Petr Ku…</td><td>&quot;Kubera&quot;</td><td>486683</td><td>null</td><td>null</td><td>&quot;RSKVARA&quot;</td><td>null</td></tr><tr><td>479430</td><td>&quot;Programování -…</td><td>&quot;KI&quot;</td><td>&quot;PYT&quot;</td><td>null</td><td>6259</td><td>6259</td><td>&quot;Jiří&quot;</td><td>&quot;Škvára&quot;</td><td>&quot;RNDr.&quot;</td><td>&quot;Ph.D.&quot;</td><td>&quot;A&quot;</td><td>&quot;A&quot;</td><td>100</td><td>2023</td><td>&quot;CP&quot;</td><td>6.13</td><td>30</td><td>10</td><td>3</td><td>&quot;Přednáška&quot;</td><td>&quot;Př&quot;</td><td>&quot;A&quot;</td><td>&quot;Čtvrtek&quot;</td><td>&quot;Čt&quot;</td><td>null</td><td>8</td><td>8</td><td>1</td><td>&quot;14:00&quot;</td><td>&quot;14:50&quot;</td><td>8</td><td>20</td><td>&quot;Každý&quot;</td><td>&quot;K&quot;</td><td>null</td><td>&quot;N&quot;</td><td>&quot;N&quot;</td><td>&quot;Automaticky vy…</td><td>&quot;2.PMVT Bc&quot;</td><td>&quot;UJEP&quot;</td><td>&quot;4.4.2024&quot;</td><td>null</td><td>null</td><td>&quot;R&quot;</td><td>&quot;6259&quot;</td><td>&quot;RNDr. Jiří Škv…</td><td>&quot;&#x27;RNDr. Jiří Šk…</td><td>&quot;Škvára&quot;</td><td>479430</td><td>null</td><td>null</td><td>&quot;RSKVARA&quot;</td><td>null</td></tr><tr><td>487039</td><td>&quot;Soft Computing…</td><td>&quot;KI&quot;</td><td>&quot;SOC&quot;</td><td>null</td><td>2239</td><td>2239</td><td>&quot;Viktor&quot;</td><td>&quot;Maškov&quot;</td><td>&quot;doc. RNDr. Mgr…</td><td>&quot;DrSc.&quot;</td><td>&quot;A&quot;</td><td>&quot;A&quot;</td><td>100</td><td>2023</td><td>&quot;CP&quot;</td><td>6.13</td><td>30</td><td>8</td><td>6</td><td>&quot;Přednáška&quot;</td><td>&quot;Př&quot;</td><td>&quot;A&quot;</td><td>&quot;Pátek&quot;</td><td>&quot;Pá&quot;</td><td>null</td><td>6</td><td>7</td><td>2</td><td>&quot;12:00&quot;</td><td>&quot;13:50&quot;</td><td>8</td><td>20</td><td>&quot;Každý&quot;</td><td>&quot;K&quot;</td><td>null</td><td>&quot;N&quot;</td><td>&quot;N&quot;</td><td>&quot;Automaticky vy…</td><td>&quot;1.API N&quot;</td><td>&quot;UJEP&quot;</td><td>&quot;5.4.2024&quot;</td><td>null</td><td>null</td><td>&quot;R&quot;</td><td>&quot;2239, 3416&quot;</td><td>&quot;doc. RNDr. Mgr…</td><td>&quot;&#x27;doc. RNDr. Mg…</td><td>&quot;Maškov, Babich…</td><td>487039</td><td>null</td><td>null</td><td>&quot;RSKVARA&quot;</td><td>null</td></tr><tr><td>490643</td><td>&quot;Základy zpraco…</td><td>&quot;KI&quot;</td><td>&quot;ZZD&quot;</td><td>null</td><td>2220</td><td>2220</td><td>&quot;Jiří&quot;</td><td>&quot;Škvor&quot;</td><td>&quot;RNDr.&quot;</td><td>&quot;Ph.D.&quot;</td><td>&quot;A&quot;</td><td>&quot;A&quot;</td><td>100</td><td>2023</td><td>&quot;MF&quot;</td><td>2.28</td><td>190</td><td>41</td><td>39</td><td>&quot;Seminář&quot;</td><td>&quot;Se&quot;</td><td>&quot;A&quot;</td><td>&quot;Pátek&quot;</td><td>&quot;Pá&quot;</td><td>null</td><td>7</td><td>7</td><td>1</td><td>&quot;13:00&quot;</td><td>&quot;13:50&quot;</td><td>8</td><td>20</td><td>&quot;Každý&quot;</td><td>&quot;K&quot;</td><td>31861</td><td>&quot;N&quot;</td><td>&quot;N&quot;</td><td>&quot;Automaticky vy…</td><td>&quot;1.AJ INF,1.API…</td><td>&quot;UJEP&quot;</td><td>&quot;5.4.2024&quot;</td><td>null</td><td>null</td><td>&quot;R&quot;</td><td>&quot;2220, 449, 625…</td><td>&quot;RNDr. Jiří Škv…</td><td>&quot;&#x27;RNDr. Jiří Šk…</td><td>&quot;Škvor, Barilla…</td><td>490643</td><td>null</td><td>null</td><td>&quot;RSKVARA&quot;</td><td>null</td></tr></tbody></table></div>"
      ],
      "text/plain": [
       "shape: (5, 54)\n",
       "┌──────────┬──────────────┬─────────┬─────────┬───┬─────────────┬──────────┬─────────┬─────────────┐\n",
       "│ roakIdno ┆ nazev        ┆ katedra ┆ zkratka ┆ … ┆ poznamkaRoz ┆ nekonaSe ┆ owner   ┆ zakazaneAkc │\n",
       "│ ---      ┆ ---          ┆ ---     ┆ ---     ┆   ┆ vrhare      ┆ ---      ┆ ---     ┆ e           │\n",
       "│ i64      ┆ str          ┆ str     ┆ str     ┆   ┆ ---         ┆ str      ┆ str     ┆ ---         │\n",
       "│          ┆              ┆         ┆         ┆   ┆ str         ┆          ┆         ┆ str         │\n",
       "╞══════════╪══════════════╪═════════╪═════════╪═══╪═════════════╪══════════╪═════════╪═════════════╡\n",
       "│ 486994   ┆ Analýza      ┆ KI      ┆ ASK     ┆ … ┆ null        ┆ null     ┆ RSKVARA ┆ null        │\n",
       "│          ┆ síťové       ┆         ┆         ┆   ┆             ┆          ┆         ┆             │\n",
       "│          ┆ komunikace   ┆         ┆         ┆   ┆             ┆          ┆         ┆             │\n",
       "│ 486683   ┆ Operační     ┆ KI      ┆ OPS     ┆ … ┆ null        ┆ null     ┆ RSKVARA ┆ null        │\n",
       "│          ┆ systémy      ┆         ┆         ┆   ┆             ┆          ┆         ┆             │\n",
       "│ 479430   ┆ Programování ┆ KI      ┆ PYT     ┆ … ┆ null        ┆ null     ┆ RSKVARA ┆ null        │\n",
       "│          ┆ - Python     ┆         ┆         ┆   ┆             ┆          ┆         ┆             │\n",
       "│ 487039   ┆ Soft         ┆ KI      ┆ SOC     ┆ … ┆ null        ┆ null     ┆ RSKVARA ┆ null        │\n",
       "│          ┆ Computing    ┆         ┆         ┆   ┆             ┆          ┆         ┆             │\n",
       "│ 490643   ┆ Základy      ┆ KI      ┆ ZZD     ┆ … ┆ null        ┆ null     ┆ RSKVARA ┆ null        │\n",
       "│          ┆ zpracování   ┆         ┆         ┆   ┆             ┆          ┆         ┆             │\n",
       "│          ┆ dat          ┆         ┆         ┆   ┆             ┆          ┆         ┆             │\n",
       "└──────────┴──────────────┴─────────┴─────────┴───┴─────────────┴──────────┴─────────┴─────────────┘"
      ]
     },
     "execution_count": 20,
     "metadata": {},
     "output_type": "execute_result"
    }
   ],
   "source": [
    "rozvrh_by_kat.head()"
   ]
  },
  {
   "cell_type": "code",
   "execution_count": 21,
   "metadata": {},
   "outputs": [
    {
     "data": {
      "text/plain": [
       "{'katedra', 'nazev', 'rok', 'zkratka'}"
      ]
     },
     "execution_count": 21,
     "metadata": {},
     "output_type": "execute_result"
    }
   ],
   "source": [
    "set(rozvrh_by_kat.columns) & set(predmety_by_kat.columns)"
   ]
  },
  {
   "cell_type": "code",
   "execution_count": 23,
   "metadata": {},
   "outputs": [
    {
     "data": {
      "text/html": [
       "<div><style>\n",
       ".dataframe > thead > tr,\n",
       ".dataframe > tbody > tr {\n",
       "  text-align: right;\n",
       "  white-space: pre-wrap;\n",
       "}\n",
       "</style>\n",
       "<small>shape: (1, 54)</small><table border=\"1\" class=\"dataframe\"><thead><tr><th>roakIdno</th><th>nazev</th><th>katedra</th><th>zkratka</th><th>statut</th><th>ucitIdno</th><th>ucitIdno.ucitel</th><th>jmeno.ucitel</th><th>prijmeni.ucitel</th><th>titulPred.ucitel</th><th>titulZa.ucitel</th><th>platnost.ucitel</th><th>zamestnanec.ucitel</th><th>podilNaVyuce.ucitel</th><th>rok</th><th>budova</th><th>mistnost</th><th>kapacitaMistnosti</th><th>planObsazeni</th><th>obsazeni</th><th>typAkce</th><th>typAkceZkr</th><th>platnost</th><th>den</th><th>denZkr</th><th>vyucJazyk</th><th>hodinaOd</th><th>hodinaDo</th><th>pocetVyucHodin</th><th>hodinaSkutOd</th><th>hodinaSkutDo</th><th>tydenOd</th><th>tydenDo</th><th>tyden</th><th>tydenZkr</th><th>grupIdno</th><th>jeNadrazena</th><th>maNadrazenou</th><th>kontakt</th><th>krouzky</th><th>casovaRada</th><th>datum</th><th>datumOd</th><th>datumDo</th><th>druhAkce</th><th>vsichniUciteleUcitIdno</th><th>vsichniUciteleJmenaTituly</th><th>vsichniUciteleJmenaTitulySPodily</th><th>vsichniUcitelePrijmeni</th><th>referencedIdno</th><th>poznamkaRozvrhare</th><th>nekonaSe</th><th>owner</th><th>zakazaneAkce</th></tr><tr><td>u32</td><td>u32</td><td>u32</td><td>u32</td><td>u32</td><td>u32</td><td>u32</td><td>u32</td><td>u32</td><td>u32</td><td>u32</td><td>u32</td><td>u32</td><td>u32</td><td>u32</td><td>u32</td><td>u32</td><td>u32</td><td>u32</td><td>u32</td><td>u32</td><td>u32</td><td>u32</td><td>u32</td><td>u32</td><td>u32</td><td>u32</td><td>u32</td><td>u32</td><td>u32</td><td>u32</td><td>u32</td><td>u32</td><td>u32</td><td>u32</td><td>u32</td><td>u32</td><td>u32</td><td>u32</td><td>u32</td><td>u32</td><td>u32</td><td>u32</td><td>u32</td><td>u32</td><td>u32</td><td>u32</td><td>u32</td><td>u32</td><td>u32</td><td>u32</td><td>u32</td><td>u32</td><td>u32</td></tr></thead><tbody><tr><td>4</td><td>0</td><td>0</td><td>0</td><td>868</td><td>42</td><td>42</td><td>42</td><td>42</td><td>42</td><td>250</td><td>42</td><td>42</td><td>46</td><td>0</td><td>146</td><td>146</td><td>146</td><td>4</td><td>0</td><td>0</td><td>0</td><td>0</td><td>149</td><td>149</td><td>868</td><td>153</td><td>153</td><td>148</td><td>0</td><td>0</td><td>0</td><td>0</td><td>0</td><td>0</td><td>634</td><td>4</td><td>4</td><td>3</td><td>110</td><td>153</td><td>149</td><td>864</td><td>864</td><td>0</td><td>42</td><td>42</td><td>42</td><td>42</td><td>0</td><td>868</td><td>866</td><td>0</td><td>868</td></tr></tbody></table></div>"
      ],
      "text/plain": [
       "shape: (1, 54)\n",
       "┌──────────┬───────┬─────────┬─────────┬───┬───────────────────┬──────────┬───────┬──────────────┐\n",
       "│ roakIdno ┆ nazev ┆ katedra ┆ zkratka ┆ … ┆ poznamkaRozvrhare ┆ nekonaSe ┆ owner ┆ zakazaneAkce │\n",
       "│ ---      ┆ ---   ┆ ---     ┆ ---     ┆   ┆ ---               ┆ ---      ┆ ---   ┆ ---          │\n",
       "│ u32      ┆ u32   ┆ u32     ┆ u32     ┆   ┆ u32               ┆ u32      ┆ u32   ┆ u32          │\n",
       "╞══════════╪═══════╪═════════╪═════════╪═══╪═══════════════════╪══════════╪═══════╪══════════════╡\n",
       "│ 4        ┆ 0     ┆ 0       ┆ 0       ┆ … ┆ 868               ┆ 866      ┆ 0     ┆ 868          │\n",
       "└──────────┴───────┴─────────┴─────────┴───┴───────────────────┴──────────┴───────┴──────────────┘"
      ]
     },
     "execution_count": 23,
     "metadata": {},
     "output_type": "execute_result"
    }
   ],
   "source": [
    "rozvrh_by_kat.null_count()"
   ]
  },
  {
   "cell_type": "code",
   "execution_count": 24,
   "metadata": {},
   "outputs": [
    {
     "data": {
      "text/html": [
       "<div><style>\n",
       ".dataframe > thead > tr,\n",
       ".dataframe > tbody > tr {\n",
       "  text-align: right;\n",
       "  white-space: pre-wrap;\n",
       "}\n",
       "</style>\n",
       "<small>shape: (1, 69)</small><table border=\"1\" class=\"dataframe\"><thead><tr><th>katedra</th><th>zkratka</th><th>rok</th><th>nazev</th><th>nazevDlouhy</th><th>vyukaZS</th><th>vyukaLS</th><th>kreditu</th><th>viceZapis</th><th>minObsazeni</th><th>garanti</th><th>garantiSPodily</th><th>garantiUcitIdno</th><th>prednasejici</th><th>prednasejiciSPodily</th><th>prednasejiciUcitIdno</th><th>cvicici</th><th>cviciciSPodily</th><th>cviciciUcitIdno</th><th>seminarici</th><th>seminariciSPodily</th><th>seminariciUcitIdno</th><th>schvalujiciUznani</th><th>schvalujiciUznaniUcitIdno</th><th>examinatori</th><th>examinatoriUcitIdno</th><th>podminujiciPredmety</th><th>vylucujiciPredmety</th><th>podminujePredmety</th><th>literatura</th><th>nahrazPredmety</th><th>metodyVyucovaci</th><th>metodyHodnotici</th><th>akreditovan</th><th>jednotekPrednasek</th><th>jednotkaPrednasky</th><th>jednotekCviceni</th><th>jednotkaCviceni</th><th>jednotekSeminare</th><th>jednotkaSeminare</th><th>anotace</th><th>typZkousky</th><th>maZapocetPredZk</th><th>formaZkousky</th><th>pozadavky</th><th>prehledLatky</th><th>predpoklady</th><th>ziskaneZpusobilosti</th><th>casovaNarocnost</th><th>predmetUrl</th><th>vyucovaciJazyky</th><th>poznamka</th><th>ectsZobrazit</th><th>ectsAkreditace</th><th>ectsNabizetUPrijezdu</th><th>poznamkaVerejna</th><th>skupinaAkreditace</th><th>skupinaAkreditaceKey</th><th>zarazenDoPrezencnihoStudia</th><th>zarazenDoKombinovanehoStudia</th><th>studijniOpory</th><th>praxePocetDnu</th><th>urovenNastavena</th><th>urovenVypoctena</th><th>automatickyUznavatZppZk</th><th>hodZaSemKombForma</th><th>aMax</th><th>bMax</th><th>cMax</th></tr><tr><td>u32</td><td>u32</td><td>u32</td><td>u32</td><td>u32</td><td>u32</td><td>u32</td><td>u32</td><td>u32</td><td>u32</td><td>u32</td><td>u32</td><td>u32</td><td>u32</td><td>u32</td><td>u32</td><td>u32</td><td>u32</td><td>u32</td><td>u32</td><td>u32</td><td>u32</td><td>u32</td><td>u32</td><td>u32</td><td>u32</td><td>u32</td><td>u32</td><td>u32</td><td>u32</td><td>u32</td><td>u32</td><td>u32</td><td>u32</td><td>u32</td><td>u32</td><td>u32</td><td>u32</td><td>u32</td><td>u32</td><td>u32</td><td>u32</td><td>u32</td><td>u32</td><td>u32</td><td>u32</td><td>u32</td><td>u32</td><td>u32</td><td>u32</td><td>u32</td><td>u32</td><td>u32</td><td>u32</td><td>u32</td><td>u32</td><td>u32</td><td>u32</td><td>u32</td><td>u32</td><td>u32</td><td>u32</td><td>u32</td><td>u32</td><td>u32</td><td>u32</td><td>u32</td><td>u32</td><td>u32</td></tr></thead><tbody><tr><td>0</td><td>0</td><td>0</td><td>0</td><td>0</td><td>0</td><td>0</td><td>0</td><td>0</td><td>524</td><td>45</td><td>45</td><td>45</td><td>308</td><td>308</td><td>308</td><td>291</td><td>291</td><td>291</td><td>295</td><td>295</td><td>295</td><td>524</td><td>524</td><td>516</td><td>516</td><td>366</td><td>501</td><td>420</td><td>268</td><td>495</td><td>507</td><td>517</td><td>0</td><td>0</td><td>0</td><td>0</td><td>0</td><td>0</td><td>0</td><td>67</td><td>0</td><td>0</td><td>2</td><td>137</td><td>117</td><td>468</td><td>497</td><td>524</td><td>524</td><td>18</td><td>474</td><td>0</td><td>0</td><td>0</td><td>489</td><td>520</td><td>520</td><td>0</td><td>0</td><td>523</td><td>0</td><td>512</td><td>62</td><td>1</td><td>231</td><td>524</td><td>524</td><td>509</td></tr></tbody></table></div>"
      ],
      "text/plain": [
       "shape: (1, 69)\n",
       "┌─────────┬─────────┬─────┬───────┬───┬───────────────────┬──────┬──────┬──────┐\n",
       "│ katedra ┆ zkratka ┆ rok ┆ nazev ┆ … ┆ hodZaSemKombForma ┆ aMax ┆ bMax ┆ cMax │\n",
       "│ ---     ┆ ---     ┆ --- ┆ ---   ┆   ┆ ---               ┆ ---  ┆ ---  ┆ ---  │\n",
       "│ u32     ┆ u32     ┆ u32 ┆ u32   ┆   ┆ u32               ┆ u32  ┆ u32  ┆ u32  │\n",
       "╞═════════╪═════════╪═════╪═══════╪═══╪═══════════════════╪══════╪══════╪══════╡\n",
       "│ 0       ┆ 0       ┆ 0   ┆ 0     ┆ … ┆ 231               ┆ 524  ┆ 524  ┆ 509  │\n",
       "└─────────┴─────────┴─────┴───────┴───┴───────────────────┴──────┴──────┴──────┘"
      ]
     },
     "execution_count": 24,
     "metadata": {},
     "output_type": "execute_result"
    }
   ],
   "source": [
    "predmety_by_kat.null_count()"
   ]
  },
  {
   "cell_type": "code",
   "execution_count": 144,
   "metadata": {},
   "outputs": [],
   "source": [
    "# vybírám pouze předměty, které mají rozvrhovou akci"
   ]
  },
  {
   "cell_type": "code",
   "execution_count": 25,
   "metadata": {},
   "outputs": [
    {
     "data": {
      "text/html": [
       "<div><style>\n",
       ".dataframe > thead > tr,\n",
       ".dataframe > tbody > tr {\n",
       "  text-align: right;\n",
       "  white-space: pre-wrap;\n",
       "}\n",
       "</style>\n",
       "<small>shape: (5, 69)</small><table border=\"1\" class=\"dataframe\"><thead><tr><th>katedra</th><th>zkratka</th><th>rok</th><th>nazev</th><th>nazevDlouhy</th><th>vyukaZS</th><th>vyukaLS</th><th>kreditu</th><th>viceZapis</th><th>minObsazeni</th><th>garanti</th><th>garantiSPodily</th><th>garantiUcitIdno</th><th>prednasejici</th><th>prednasejiciSPodily</th><th>prednasejiciUcitIdno</th><th>cvicici</th><th>cviciciSPodily</th><th>cviciciUcitIdno</th><th>seminarici</th><th>seminariciSPodily</th><th>seminariciUcitIdno</th><th>schvalujiciUznani</th><th>schvalujiciUznaniUcitIdno</th><th>examinatori</th><th>examinatoriUcitIdno</th><th>podminujiciPredmety</th><th>vylucujiciPredmety</th><th>podminujePredmety</th><th>literatura</th><th>nahrazPredmety</th><th>metodyVyucovaci</th><th>metodyHodnotici</th><th>akreditovan</th><th>jednotekPrednasek</th><th>jednotkaPrednasky</th><th>jednotekCviceni</th><th>jednotkaCviceni</th><th>jednotekSeminare</th><th>jednotkaSeminare</th><th>anotace</th><th>typZkousky</th><th>maZapocetPredZk</th><th>formaZkousky</th><th>pozadavky</th><th>prehledLatky</th><th>predpoklady</th><th>ziskaneZpusobilosti</th><th>casovaNarocnost</th><th>predmetUrl</th><th>vyucovaciJazyky</th><th>poznamka</th><th>ectsZobrazit</th><th>ectsAkreditace</th><th>ectsNabizetUPrijezdu</th><th>poznamkaVerejna</th><th>skupinaAkreditace</th><th>skupinaAkreditaceKey</th><th>zarazenDoPrezencnihoStudia</th><th>zarazenDoKombinovanehoStudia</th><th>studijniOpory</th><th>praxePocetDnu</th><th>urovenNastavena</th><th>urovenVypoctena</th><th>automatickyUznavatZppZk</th><th>hodZaSemKombForma</th><th>aMax</th><th>bMax</th><th>cMax</th></tr><tr><td>str</td><td>str</td><td>i64</td><td>str</td><td>str</td><td>str</td><td>str</td><td>i64</td><td>str</td><td>null</td><td>str</td><td>str</td><td>str</td><td>str</td><td>str</td><td>str</td><td>str</td><td>str</td><td>str</td><td>str</td><td>str</td><td>str</td><td>null</td><td>null</td><td>str</td><td>str</td><td>str</td><td>str</td><td>str</td><td>str</td><td>str</td><td>str</td><td>str</td><td>str</td><td>i64</td><td>str</td><td>i64</td><td>str</td><td>i64</td><td>str</td><td>str</td><td>str</td><td>str</td><td>str</td><td>str</td><td>str</td><td>str</td><td>str</td><td>null</td><td>null</td><td>str</td><td>str</td><td>str</td><td>str</td><td>str</td><td>str</td><td>str</td><td>str</td><td>str</td><td>str</td><td>str</td><td>i64</td><td>str</td><td>str</td><td>str</td><td>str</td><td>null</td><td>null</td><td>str</td></tr></thead><tbody><tr><td>&quot;KI&quot;</td><td>&quot;0033&quot;</td><td>2023</td><td>&quot;Optimalizace v…</td><td>&quot;Optimalizace v…</td><td>&quot;A&quot;</td><td>&quot;A&quot;</td><td>2</td><td>&quot;NE&quot;</td><td>null</td><td>&quot;&#x27;doc. Ing. Mgr…</td><td>&quot;&#x27;doc. Ing. Mgr…</td><td>&quot;449&quot;</td><td>null</td><td>null</td><td>null</td><td>&quot;&#x27;doc. Ing. Mgr…</td><td>&quot;&#x27;doc. Ing. Mgr…</td><td>&quot;449&quot;</td><td>null</td><td>null</td><td>null</td><td>null</td><td>null</td><td>null</td><td>null</td><td>null</td><td>null</td><td>null</td><td>&quot;&#x27;Lagová M., Ja…</td><td>null</td><td>null</td><td>null</td><td>&quot;N&quot;</td><td>0</td><td>&quot;HOD/TYD&quot;</td><td>2</td><td>&quot;HOD/TYD&quot;</td><td>0</td><td>&quot;HOD/TYD&quot;</td><td>&quot;Náplní výběrov…</td><td>&quot;Zápočet&quot;</td><td>&quot;NE&quot;</td><td>&quot;Ústní&quot;</td><td>&quot;Vstupní požada…</td><td>&quot;1) Úvod do mat…</td><td>null</td><td>null</td><td>null</td><td>null</td><td>&quot;Čeština&quot;</td><td>&quot;vk 1528&quot;</td><td>&quot;A&quot;</td><td>&quot;N&quot;</td><td>&quot;N&quot;</td><td>null</td><td>&quot;1&quot;</td><td>&quot;1&quot;</td><td>&quot;A&quot;</td><td>&quot;A&quot;</td><td>null</td><td>0</td><td>null</td><td>&quot;Bc.&quot;</td><td>&quot;A&quot;</td><td>null</td><td>null</td><td>null</td><td>null</td></tr><tr><td>&quot;KI&quot;</td><td>&quot;0121&quot;</td><td>2023</td><td>&quot;CCNA 1: Introd…</td><td>&quot;CCNA 1: Introd…</td><td>&quot;A&quot;</td><td>&quot;A&quot;</td><td>1</td><td>&quot;NE&quot;</td><td>null</td><td>&quot;&#x27;RNDr. Jan Kre…</td><td>&quot;&#x27;RNDr. Jan Kre…</td><td>&quot;2776&quot;</td><td>null</td><td>null</td><td>null</td><td>&quot;&#x27;RNDr. Jan Kre…</td><td>&quot;&#x27;RNDr. Jan Kre…</td><td>&quot;2776&quot;</td><td>null</td><td>null</td><td>null</td><td>null</td><td>null</td><td>null</td><td>null</td><td>null</td><td>null</td><td>null</td><td>null</td><td>null</td><td>null</td><td>null</td><td>&quot;N&quot;</td><td>0</td><td>&quot;HOD/TYD&quot;</td><td>1</td><td>&quot;HOD/TYD&quot;</td><td>0</td><td>&quot;HOD/TYD&quot;</td><td>&quot;Cílem předmětu…</td><td>&quot;Zápočet&quot;</td><td>&quot;NE&quot;</td><td>&quot;Kombinovaná&quot;</td><td>&quot;Splnění závěre…</td><td>&quot;Cílem předmětu…</td><td>null</td><td>null</td><td>null</td><td>null</td><td>&quot;Čeština, Angli…</td><td>&quot;vk&quot;</td><td>&quot;A&quot;</td><td>&quot;N&quot;</td><td>&quot;N&quot;</td><td>null</td><td>null</td><td>null</td><td>&quot;A&quot;</td><td>&quot;A&quot;</td><td>null</td><td>0</td><td>null</td><td>&quot;Bc.&quot;</td><td>&quot;A&quot;</td><td>null</td><td>null</td><td>null</td><td>null</td></tr><tr><td>&quot;KI&quot;</td><td>&quot;0126&quot;</td><td>2023</td><td>&quot;CCNA 2: Routin…</td><td>&quot;CCNA 2: Routin…</td><td>&quot;A&quot;</td><td>&quot;A&quot;</td><td>2</td><td>&quot;NE&quot;</td><td>null</td><td>&quot;&#x27;RNDr. Jan Kre…</td><td>&quot;&#x27;RNDr. Jan Kre…</td><td>&quot;2776&quot;</td><td>null</td><td>null</td><td>null</td><td>&quot;&#x27;RNDr. Jan Kre…</td><td>&quot;&#x27;RNDr. Jan Kre…</td><td>&quot;2776&quot;</td><td>null</td><td>null</td><td>null</td><td>null</td><td>null</td><td>null</td><td>null</td><td>null</td><td>null</td><td>null</td><td>null</td><td>null</td><td>null</td><td>null</td><td>&quot;N&quot;</td><td>0</td><td>&quot;HOD/TYD&quot;</td><td>2</td><td>&quot;HOD/TYD&quot;</td><td>0</td><td>&quot;HOD/TYD&quot;</td><td>&quot;Cílem předmětu…</td><td>&quot;Zápočet&quot;</td><td>&quot;NE&quot;</td><td>&quot;Kombinovaná&quot;</td><td>&quot;Splnění závěre…</td><td>&quot;Cílem předmětu…</td><td>&quot;CCNA 1&quot;</td><td>null</td><td>null</td><td>null</td><td>&quot;Čeština, Angli…</td><td>&quot;vk&quot;</td><td>&quot;A&quot;</td><td>&quot;N&quot;</td><td>&quot;N&quot;</td><td>null</td><td>null</td><td>null</td><td>&quot;A&quot;</td><td>&quot;A&quot;</td><td>null</td><td>0</td><td>null</td><td>&quot;Bc.&quot;</td><td>&quot;A&quot;</td><td>null</td><td>null</td><td>null</td><td>null</td></tr><tr><td>&quot;KI&quot;</td><td>&quot;0127&quot;</td><td>2023</td><td>&quot;CCNA 3: Scalin…</td><td>&quot;CCNA 3: Scalin…</td><td>&quot;A&quot;</td><td>&quot;A&quot;</td><td>2</td><td>&quot;NE&quot;</td><td>null</td><td>&quot;&#x27;RNDr. Jan Kre…</td><td>&quot;&#x27;RNDr. Jan Kre…</td><td>&quot;2776&quot;</td><td>null</td><td>null</td><td>null</td><td>&quot;&#x27;RNDr. Jan Kre…</td><td>&quot;&#x27;RNDr. Jan Kre…</td><td>&quot;2776&quot;</td><td>null</td><td>null</td><td>null</td><td>null</td><td>null</td><td>null</td><td>null</td><td>null</td><td>null</td><td>null</td><td>null</td><td>null</td><td>null</td><td>null</td><td>&quot;N&quot;</td><td>0</td><td>&quot;HOD/TYD&quot;</td><td>2</td><td>&quot;HOD/TYD&quot;</td><td>0</td><td>&quot;HOD/TYD&quot;</td><td>&quot;Cílem předmětu…</td><td>&quot;Zápočet&quot;</td><td>&quot;NE&quot;</td><td>&quot;Kombinovaná&quot;</td><td>&quot;Splnění závěre…</td><td>&quot;Cíle předmětu:…</td><td>&quot;CCNA 2&quot;</td><td>null</td><td>null</td><td>null</td><td>&quot;Čeština, Angli…</td><td>&quot;vk&quot;</td><td>&quot;A&quot;</td><td>&quot;N&quot;</td><td>&quot;N&quot;</td><td>null</td><td>null</td><td>null</td><td>&quot;A&quot;</td><td>&quot;A&quot;</td><td>null</td><td>0</td><td>null</td><td>&quot;Bc.&quot;</td><td>&quot;A&quot;</td><td>null</td><td>null</td><td>null</td><td>null</td></tr><tr><td>&quot;KI&quot;</td><td>&quot;0190&quot;</td><td>2023</td><td>&quot;CCNA Security&quot;</td><td>&quot;CCNA Security&quot;</td><td>&quot;A&quot;</td><td>&quot;A&quot;</td><td>2</td><td>&quot;NE&quot;</td><td>null</td><td>&quot;&#x27;RNDr. Jan Kre…</td><td>&quot;&#x27;RNDr. Jan Kre…</td><td>&quot;2776&quot;</td><td>null</td><td>null</td><td>null</td><td>&quot;&#x27;RNDr. Jan Kre…</td><td>&quot;&#x27;RNDr. Jan Kre…</td><td>&quot;2776&quot;</td><td>null</td><td>null</td><td>null</td><td>null</td><td>null</td><td>null</td><td>null</td><td>null</td><td>null</td><td>null</td><td>null</td><td>null</td><td>null</td><td>null</td><td>&quot;N&quot;</td><td>0</td><td>&quot;HOD/TYD&quot;</td><td>2</td><td>&quot;HOD/TYD&quot;</td><td>0</td><td>&quot;HOD/TYD&quot;</td><td>&quot;Cílem předmětu…</td><td>&quot;Zápočet&quot;</td><td>&quot;NE&quot;</td><td>&quot;Kombinovaná&quot;</td><td>&quot;Splnění závěre…</td><td>&quot;1. Moderní hro…</td><td>&quot;CCNA 2&quot;</td><td>null</td><td>null</td><td>null</td><td>&quot;Čeština, Angli…</td><td>null</td><td>&quot;A&quot;</td><td>&quot;N&quot;</td><td>&quot;N&quot;</td><td>null</td><td>null</td><td>null</td><td>&quot;A&quot;</td><td>&quot;A&quot;</td><td>null</td><td>0</td><td>null</td><td>&quot;Bc.&quot;</td><td>&quot;A&quot;</td><td>null</td><td>null</td><td>null</td><td>null</td></tr></tbody></table></div>"
      ],
      "text/plain": [
       "shape: (5, 69)\n",
       "┌─────────┬─────────┬──────┬──────────────────────────┬───┬───────────────────┬──────┬──────┬──────┐\n",
       "│ katedra ┆ zkratka ┆ rok  ┆ nazev                    ┆ … ┆ hodZaSemKombForma ┆ aMax ┆ bMax ┆ cMax │\n",
       "│ ---     ┆ ---     ┆ ---  ┆ ---                      ┆   ┆ ---               ┆ ---  ┆ ---  ┆ ---  │\n",
       "│ str     ┆ str     ┆ i64  ┆ str                      ┆   ┆ str               ┆ null ┆ null ┆ str  │\n",
       "╞═════════╪═════════╪══════╪══════════════════════════╪═══╪═══════════════════╪══════╪══════╪══════╡\n",
       "│ KI      ┆ 0033    ┆ 2023 ┆ Optimalizace v Excelu    ┆ … ┆ null              ┆ null ┆ null ┆ null │\n",
       "│ KI      ┆ 0121    ┆ 2023 ┆ CCNA 1: Introduction to  ┆ … ┆ null              ┆ null ┆ null ┆ null │\n",
       "│         ┆         ┆      ┆ Networks                 ┆   ┆                   ┆      ┆      ┆      │\n",
       "│ KI      ┆ 0126    ┆ 2023 ┆ CCNA 2: Routing and      ┆ … ┆ null              ┆ null ┆ null ┆ null │\n",
       "│         ┆         ┆      ┆ Switching Es…            ┆   ┆                   ┆      ┆      ┆      │\n",
       "│ KI      ┆ 0127    ┆ 2023 ┆ CCNA 3: Scaling Networks ┆ … ┆ null              ┆ null ┆ null ┆ null │\n",
       "│ KI      ┆ 0190    ┆ 2023 ┆ CCNA Security            ┆ … ┆ null              ┆ null ┆ null ┆ null │\n",
       "└─────────┴─────────┴──────┴──────────────────────────┴───┴───────────────────┴──────┴──────┴──────┘"
      ]
     },
     "execution_count": 25,
     "metadata": {},
     "output_type": "execute_result"
    }
   ],
   "source": [
    "predmety_s_akci = predmety_by_kat.join(other=rozvrh_by_kat, on=\"zkratka\", how=\"inner\").select(predmety_by_kat.columns).unique().sort(\"zkratka\")\n",
    "str(len(predmety_s_akci)) + \"   \" + str(len(predmety_by_kat)) # ...what does this do\n",
    "predmety_s_akci.head()"
   ]
  },
  {
   "attachments": {},
   "cell_type": "markdown",
   "metadata": {},
   "source": [
    "# Vyučující a garanti"
   ]
  },
  {
   "cell_type": "code",
   "execution_count": 26,
   "metadata": {},
   "outputs": [],
   "source": [
    "jednotek_prednasek = pl.col(\"jednotekPrednasek\")\n",
    "jednotek_cviceni = pl.col(\"jednotekCviceni\")\n",
    "jednotek_seminare = pl.col(\"jednotekSeminare\")\n",
    "garant = pl.col(\"garanti\")\n",
    "cvicici = pl.col(\"cvicici\")\n",
    "prednasejici = pl.col(\"prednasejici\")\n",
    "seminarici = pl.col(\"seminarici\")"
   ]
  },
  {
   "attachments": {},
   "cell_type": "markdown",
   "metadata": {},
   "source": [
    "### Každý předmět má právě jednoho garanta\n",
    "\n",
    "> Zde jsou předměty, které nemají garanta:"
   ]
  },
  {
   "cell_type": "code",
   "execution_count": 27,
   "metadata": {},
   "outputs": [
    {
     "name": "stdout",
     "output_type": "stream",
     "text": [
      "\n",
      "17 Předmětů nemá zadaného garanta\n"
     ]
    },
    {
     "data": {
      "text/html": [
       "<div><style>\n",
       ".dataframe > thead > tr,\n",
       ".dataframe > tbody > tr {\n",
       "  text-align: right;\n",
       "  white-space: pre-wrap;\n",
       "}\n",
       "</style>\n",
       "<small>shape: (17, 6)</small><table border=\"1\" class=\"dataframe\"><thead><tr><th>zkratka</th><th>rok</th><th>nazev</th><th>nazevDlouhy</th><th>garanti</th><th>garantiSPodily</th></tr><tr><td>str</td><td>i64</td><td>str</td><td>str</td><td>str</td><td>str</td></tr></thead><tbody><tr><td>&quot;BOP&quot;</td><td>2023</td><td>&quot;Odborná praxe&quot;</td><td>&quot;Odborná praxe&quot;</td><td>null</td><td>null</td></tr><tr><td>&quot;BP2O&quot;</td><td>2023</td><td>&quot;Bakalářská prá…</td><td>&quot;Bakalářská prá…</td><td>null</td><td>null</td></tr><tr><td>&quot;BPP&quot;</td><td>2023</td><td>&quot;Bakalářská prá…</td><td>&quot;Bakalářská prá…</td><td>null</td><td>null</td></tr><tr><td>&quot;DPP&quot;</td><td>2023</td><td>&quot;Diplomová prác…</td><td>&quot;Diplomová prác…</td><td>null</td><td>null</td></tr><tr><td>&quot;EDAV&quot;</td><td>2023</td><td>&quot;Data Analysis …</td><td>&quot;Data Analysis …</td><td>null</td><td>null</td></tr><tr><td>&hellip;</td><td>&hellip;</td><td>&hellip;</td><td>&hellip;</td><td>&hellip;</td><td>&hellip;</td></tr><tr><td>&quot;SZZIV&quot;</td><td>2023</td><td>&quot;Informatika pr…</td><td>&quot;Informatika pr…</td><td>null</td><td>null</td></tr><tr><td>&quot;SZZPP&quot;</td><td>2023</td><td>&quot;Aplikovaná inf…</td><td>&quot;Aplikovaná inf…</td><td>null</td><td>null</td></tr><tr><td>&quot;SZZTD&quot;</td><td>2023</td><td>&quot;Teoretické zák…</td><td>&quot;Teoretické zák…</td><td>null</td><td>null</td></tr><tr><td>&quot;SZZTP&quot;</td><td>2023</td><td>&quot;Teoretické zák…</td><td>&quot;Teoretické zák…</td><td>null</td><td>null</td></tr><tr><td>&quot;SZZVP&quot;</td><td>2023</td><td>&quot;Aplikovaná inf…</td><td>&quot;Aplikovaná inf…</td><td>null</td><td>null</td></tr></tbody></table></div>"
      ],
      "text/plain": [
       "shape: (17, 6)\n",
       "┌─────────┬──────┬───────────────────────────┬──────────────────────────┬─────────┬────────────────┐\n",
       "│ zkratka ┆ rok  ┆ nazev                     ┆ nazevDlouhy              ┆ garanti ┆ garantiSPodily │\n",
       "│ ---     ┆ ---  ┆ ---                       ┆ ---                      ┆ ---     ┆ ---            │\n",
       "│ str     ┆ i64  ┆ str                       ┆ str                      ┆ str     ┆ str            │\n",
       "╞═════════╪══════╪═══════════════════════════╪══════════════════════════╪═════════╪════════════════╡\n",
       "│ BOP     ┆ 2023 ┆ Odborná praxe             ┆ Odborná praxe            ┆ null    ┆ null           │\n",
       "│ BP2O    ┆ 2023 ┆ Bakalářská práce          ┆ Bakalářská práce         ┆ null    ┆ null           │\n",
       "│ BPP     ┆ 2023 ┆ Bakalářská práce          ┆ Bakalářská práce         ┆ null    ┆ null           │\n",
       "│ DPP     ┆ 2023 ┆ Diplomová práce           ┆ Diplomová práce          ┆ null    ┆ null           │\n",
       "│ EDAV    ┆ 2023 ┆ Data Analysis and         ┆ Data Analysis and        ┆ null    ┆ null           │\n",
       "│         ┆      ┆ Visualisation             ┆ Visualisation            ┆         ┆                │\n",
       "│ …       ┆ …    ┆ …                         ┆ …                        ┆ …       ┆ …              │\n",
       "│ SZZIV   ┆ 2023 ┆ Informatika pro           ┆ Informatika pro          ┆ null    ┆ null           │\n",
       "│         ┆      ┆ vzdělávání                ┆ vzdělávání               ┆         ┆                │\n",
       "│ SZZPP   ┆ 2023 ┆ Aplikovaná informatika:   ┆ Aplikovaná informatika:  ┆ null    ┆ null           │\n",
       "│         ┆      ┆ povinný …                 ┆ povinný …                ┆         ┆                │\n",
       "│ SZZTD   ┆ 2023 ┆ Teoretické základy        ┆ Teoretické základy       ┆ null    ┆ null           │\n",
       "│         ┆      ┆ datového inže…            ┆ datového inže…           ┆         ┆                │\n",
       "│ SZZTP   ┆ 2023 ┆ Teoretické základy        ┆ Teoretické základy       ┆ null    ┆ null           │\n",
       "│         ┆      ┆ informatiky               ┆ informatiky              ┆         ┆                │\n",
       "│ SZZVP   ┆ 2023 ┆ Aplikovaná informatika:   ┆ Aplikovaná informatika:  ┆ null    ┆ null           │\n",
       "│         ┆      ┆ voliteln…                 ┆ voliteln…                ┆         ┆                │\n",
       "└─────────┴──────┴───────────────────────────┴──────────────────────────┴─────────┴────────────────┘"
      ]
     },
     "execution_count": 27,
     "metadata": {},
     "output_type": "execute_result"
    }
   ],
   "source": [
    "query = pl.col(\"garanti\").is_null()\n",
    "zkratky = predmety_s_akci.filter(query).select([\"zkratka\", \"rok\", \"nazev\", \"nazevDlouhy\", \"garanti\", \"garantiSPodily\"]).filter(\n",
    "    # Není SZ\n",
    "    # pl.col(\"zkratka\").str.starts_with(\"SZ\").is_not()\n",
    "    True\n",
    ")\n",
    "print(f\"\\n{len(zkratky)} Předmětů nemá zadaného garanta\")\n",
    "zkratky.write_excel(\"results/bez_garanta.xlsx\")\n",
    "zkratky\n",
    "# print(list(zkratky), sep=\", \")"
   ]
  },
  {
   "attachments": {},
   "cell_type": "markdown",
   "metadata": {},
   "source": [
    "> Předměty podezřelé z více garantů:"
   ]
  },
  {
   "cell_type": "code",
   "execution_count": 30,
   "metadata": {},
   "outputs": [
    {
     "ename": "AttributeError",
     "evalue": "'ExprArrayNameSpace' object has no attribute 'lengths'",
     "output_type": "error",
     "traceback": [
      "\u001b[1;31m---------------------------------------------------------------------------\u001b[0m",
      "\u001b[1;31mAttributeError\u001b[0m                            Traceback (most recent call last)",
      "Cell \u001b[1;32mIn[30], line 2\u001b[0m\n\u001b[0;32m      1\u001b[0m \u001b[38;5;66;03m# predmety_s_akci.filter( > pl.lit())\u001b[39;00m\n\u001b[1;32m----> 2\u001b[0m vice_garantu \u001b[38;5;241m=\u001b[39m predmety_s_akci\u001b[38;5;241m.\u001b[39mwith_columns(\u001b[43mpl\u001b[49m\u001b[38;5;241;43m.\u001b[39;49m\u001b[43mcol\u001b[49m\u001b[43m(\u001b[49m\u001b[38;5;124;43m\"\u001b[39;49m\u001b[38;5;124;43mgarantiUcitIdno\u001b[39;49m\u001b[38;5;124;43m\"\u001b[39;49m\u001b[43m)\u001b[49m\u001b[38;5;241;43m.\u001b[39;49m\u001b[43mstr\u001b[49m\u001b[38;5;241;43m.\u001b[39;49m\u001b[43msplit\u001b[49m\u001b[43m(\u001b[49m\u001b[38;5;124;43m\"\u001b[39;49m\u001b[38;5;124;43m, \u001b[39;49m\u001b[38;5;124;43m\"\u001b[39;49m\u001b[43m)\u001b[49m\u001b[38;5;241;43m.\u001b[39;49m\u001b[43marr\u001b[49m\u001b[38;5;241;43m.\u001b[39;49m\u001b[43mlengths\u001b[49m()\u001b[38;5;241m.\u001b[39malias(\u001b[38;5;124m\"\u001b[39m\u001b[38;5;124mpocet garantu\u001b[39m\u001b[38;5;124m\"\u001b[39m)\n\u001b[0;32m      3\u001b[0m     )\u001b[38;5;241m.\u001b[39mselect(\n\u001b[0;32m      4\u001b[0m         [\u001b[38;5;124m\"\u001b[39m\u001b[38;5;124mgarantiUcitIdno\u001b[39m\u001b[38;5;124m\"\u001b[39m, \u001b[38;5;124m\"\u001b[39m\u001b[38;5;124mgaranti\u001b[39m\u001b[38;5;124m\"\u001b[39m, \u001b[38;5;124m\"\u001b[39m\u001b[38;5;124mzkratka\u001b[39m\u001b[38;5;124m\"\u001b[39m, \u001b[38;5;124m\"\u001b[39m\u001b[38;5;124mpocet garantu\u001b[39m\u001b[38;5;124m\"\u001b[39m]\n\u001b[0;32m      5\u001b[0m     )\u001b[38;5;241m.\u001b[39mfilter(pl\u001b[38;5;241m.\u001b[39mcol(\u001b[38;5;124m\"\u001b[39m\u001b[38;5;124mpocet garantu\u001b[39m\u001b[38;5;124m\"\u001b[39m) \u001b[38;5;241m>\u001b[39m \u001b[38;5;241m1\u001b[39m)\n\u001b[0;32m      6\u001b[0m vice_garantu\u001b[38;5;241m.\u001b[39mwrite_excel(\u001b[38;5;124m\"\u001b[39m\u001b[38;5;124mresults/vice_garantu.xlsx\u001b[39m\u001b[38;5;124m\"\u001b[39m)\n\u001b[0;32m      7\u001b[0m vice_garantu\n",
      "\u001b[1;31mAttributeError\u001b[0m: 'ExprArrayNameSpace' object has no attribute 'lengths'"
     ]
    }
   ],
   "source": [
    "# predmety_s_akci.filter( > pl.lit())\n",
    "# Nefunguje, arr.lengths údajně nic není\n",
    "vice_garantu = predmety_s_akci.with_columns(pl.col(\"garantiUcitIdno\").str.split(\", \").arr.lengths().alias(\"pocet garantu\")\n",
    "    ).select(\n",
    "        [\"garantiUcitIdno\", \"garanti\", \"zkratka\", \"pocet garantu\"]\n",
    "    ).filter(pl.col(\"pocet garantu\") > 1)\n",
    "vice_garantu.write_excel(\"results/vice_garantu.xlsx\")\n",
    "vice_garantu"
   ]
  },
  {
   "cell_type": "code",
   "execution_count": null,
   "metadata": {},
   "outputs": [],
   "source": []
  },
  {
   "attachments": {},
   "cell_type": "markdown",
   "metadata": {},
   "source": [
    "### Každý předmět má alespoň jednoho vyučujícího v kategoriích dle parametrů předmětu\n",
    "\n",
    "např. pokud má předmět rozsah 2 h přednášek a 2 h cvičení, pak musí mít alespoň jednoho přednášejícího a alespoň jednoho cvičícího a zároveň nesmí mít vyučujícího v kategorii vede seminář."
   ]
  },
  {
   "cell_type": "code",
   "execution_count": 31,
   "metadata": {},
   "outputs": [
    {
     "data": {
      "text/html": [
       "<div><style>\n",
       ".dataframe > thead > tr,\n",
       ".dataframe > tbody > tr {\n",
       "  text-align: right;\n",
       "  white-space: pre-wrap;\n",
       "}\n",
       "</style>\n",
       "<small>shape: (1, 69)</small><table border=\"1\" class=\"dataframe\"><thead><tr><th>katedra</th><th>zkratka</th><th>rok</th><th>nazev</th><th>nazevDlouhy</th><th>vyukaZS</th><th>vyukaLS</th><th>kreditu</th><th>viceZapis</th><th>minObsazeni</th><th>garanti</th><th>garantiSPodily</th><th>garantiUcitIdno</th><th>prednasejici</th><th>prednasejiciSPodily</th><th>prednasejiciUcitIdno</th><th>cvicici</th><th>cviciciSPodily</th><th>cviciciUcitIdno</th><th>seminarici</th><th>seminariciSPodily</th><th>seminariciUcitIdno</th><th>schvalujiciUznani</th><th>schvalujiciUznaniUcitIdno</th><th>examinatori</th><th>examinatoriUcitIdno</th><th>podminujiciPredmety</th><th>vylucujiciPredmety</th><th>podminujePredmety</th><th>literatura</th><th>nahrazPredmety</th><th>metodyVyucovaci</th><th>metodyHodnotici</th><th>akreditovan</th><th>jednotekPrednasek</th><th>jednotkaPrednasky</th><th>jednotekCviceni</th><th>jednotkaCviceni</th><th>jednotekSeminare</th><th>jednotkaSeminare</th><th>anotace</th><th>typZkousky</th><th>maZapocetPredZk</th><th>formaZkousky</th><th>pozadavky</th><th>prehledLatky</th><th>predpoklady</th><th>ziskaneZpusobilosti</th><th>casovaNarocnost</th><th>predmetUrl</th><th>vyucovaciJazyky</th><th>poznamka</th><th>ectsZobrazit</th><th>ectsAkreditace</th><th>ectsNabizetUPrijezdu</th><th>poznamkaVerejna</th><th>skupinaAkreditace</th><th>skupinaAkreditaceKey</th><th>zarazenDoPrezencnihoStudia</th><th>zarazenDoKombinovanehoStudia</th><th>studijniOpory</th><th>praxePocetDnu</th><th>urovenNastavena</th><th>urovenVypoctena</th><th>automatickyUznavatZppZk</th><th>hodZaSemKombForma</th><th>aMax</th><th>bMax</th><th>cMax</th></tr><tr><td>str</td><td>str</td><td>i64</td><td>str</td><td>str</td><td>str</td><td>str</td><td>i64</td><td>str</td><td>null</td><td>str</td><td>str</td><td>str</td><td>str</td><td>str</td><td>str</td><td>str</td><td>str</td><td>str</td><td>str</td><td>str</td><td>str</td><td>null</td><td>null</td><td>str</td><td>str</td><td>str</td><td>str</td><td>str</td><td>str</td><td>str</td><td>str</td><td>str</td><td>str</td><td>i64</td><td>str</td><td>i64</td><td>str</td><td>i64</td><td>str</td><td>str</td><td>str</td><td>str</td><td>str</td><td>str</td><td>str</td><td>str</td><td>str</td><td>null</td><td>null</td><td>str</td><td>str</td><td>str</td><td>str</td><td>str</td><td>str</td><td>str</td><td>str</td><td>str</td><td>str</td><td>str</td><td>i64</td><td>str</td><td>str</td><td>str</td><td>str</td><td>null</td><td>null</td><td>str</td></tr></thead><tbody><tr><td>&quot;KI&quot;</td><td>&quot;KVICT&quot;</td><td>2023</td><td>&quot;Využití ICT ve…</td><td>&quot;Využití ICT ve…</td><td>&quot;N&quot;</td><td>&quot;A&quot;</td><td>2</td><td>&quot;NE&quot;</td><td>null</td><td>&quot;&#x27;RNDr. Jan Kre…</td><td>&quot;&#x27;RNDr. Jan Kre…</td><td>&quot;2776&quot;</td><td>null</td><td>null</td><td>null</td><td>null</td><td>null</td><td>null</td><td>&quot;&#x27;RNDr. Jan Kre…</td><td>&quot;&#x27;RNDr. Jan Kre…</td><td>&quot;2776&quot;</td><td>null</td><td>null</td><td>null</td><td>null</td><td>null</td><td>null</td><td>null</td><td>null</td><td>null</td><td>null</td><td>null</td><td>&quot;N&quot;</td><td>4</td><td>&quot;HOD/SEM&quot;</td><td>0</td><td>&quot;HOD/SEM&quot;</td><td>2</td><td>&quot;HOD/SEM&quot;</td><td>&quot;1. Mezipředmět…</td><td>&quot;Zápočet&quot;</td><td>&quot;NE&quot;</td><td>&quot;Kombinovaná&quot;</td><td>&quot;- tvořivá prác…</td><td>&quot;1. Mezipředmět…</td><td>null</td><td>null</td><td>null</td><td>null</td><td>&quot;Čeština&quot;</td><td>null</td><td>&quot;A&quot;</td><td>&quot;N&quot;</td><td>&quot;N&quot;</td><td>null</td><td>null</td><td>null</td><td>&quot;N&quot;</td><td>&quot;A&quot;</td><td>null</td><td>0</td><td>null</td><td>&quot;Mgr.&quot;</td><td>&quot;A&quot;</td><td>&quot;0&quot;</td><td>null</td><td>null</td><td>null</td></tr></tbody></table></div>"
      ],
      "text/plain": [
       "shape: (1, 69)\n",
       "┌─────────┬─────────┬──────┬──────────────────────┬───┬───────────────────┬──────┬──────┬──────┐\n",
       "│ katedra ┆ zkratka ┆ rok  ┆ nazev                ┆ … ┆ hodZaSemKombForma ┆ aMax ┆ bMax ┆ cMax │\n",
       "│ ---     ┆ ---     ┆ ---  ┆ ---                  ┆   ┆ ---               ┆ ---  ┆ ---  ┆ ---  │\n",
       "│ str     ┆ str     ┆ i64  ┆ str                  ┆   ┆ str               ┆ null ┆ null ┆ str  │\n",
       "╞═════════╪═════════╪══════╪══════════════════════╪═══╪═══════════════════╪══════╪══════╪══════╡\n",
       "│ KI      ┆ KVICT   ┆ 2023 ┆ Využití ICT ve výuce ┆ … ┆ 0                 ┆ null ┆ null ┆ null │\n",
       "└─────────┴─────────┴──────┴──────────────────────┴───┴───────────────────┴──────┴──────┴──────┘"
      ]
     },
     "execution_count": 31,
     "metadata": {},
     "output_type": "execute_result"
    }
   ],
   "source": [
    "ma_prednasku = jednotek_prednasek != 0\n",
    "nema_prednasejiciho = prednasejici.is_null()\n",
    "\n",
    "chybi_prednasejici = predmety_s_akci.filter(ma_prednasku & nema_prednasejiciho)\n",
    "chybi_prednasejici.write_excel(\"results/chybi_prednasejici.xlsx\")\n",
    "chybi_prednasejici.head()"
   ]
  },
  {
   "cell_type": "code",
   "execution_count": 32,
   "metadata": {},
   "outputs": [
    {
     "data": {
      "text/html": [
       "<div><style>\n",
       ".dataframe > thead > tr,\n",
       ".dataframe > tbody > tr {\n",
       "  text-align: right;\n",
       "  white-space: pre-wrap;\n",
       "}\n",
       "</style>\n",
       "<small>shape: (1, 69)</small><table border=\"1\" class=\"dataframe\"><thead><tr><th>katedra</th><th>zkratka</th><th>rok</th><th>nazev</th><th>nazevDlouhy</th><th>vyukaZS</th><th>vyukaLS</th><th>kreditu</th><th>viceZapis</th><th>minObsazeni</th><th>garanti</th><th>garantiSPodily</th><th>garantiUcitIdno</th><th>prednasejici</th><th>prednasejiciSPodily</th><th>prednasejiciUcitIdno</th><th>cvicici</th><th>cviciciSPodily</th><th>cviciciUcitIdno</th><th>seminarici</th><th>seminariciSPodily</th><th>seminariciUcitIdno</th><th>schvalujiciUznani</th><th>schvalujiciUznaniUcitIdno</th><th>examinatori</th><th>examinatoriUcitIdno</th><th>podminujiciPredmety</th><th>vylucujiciPredmety</th><th>podminujePredmety</th><th>literatura</th><th>nahrazPredmety</th><th>metodyVyucovaci</th><th>metodyHodnotici</th><th>akreditovan</th><th>jednotekPrednasek</th><th>jednotkaPrednasky</th><th>jednotekCviceni</th><th>jednotkaCviceni</th><th>jednotekSeminare</th><th>jednotkaSeminare</th><th>anotace</th><th>typZkousky</th><th>maZapocetPredZk</th><th>formaZkousky</th><th>pozadavky</th><th>prehledLatky</th><th>predpoklady</th><th>ziskaneZpusobilosti</th><th>casovaNarocnost</th><th>predmetUrl</th><th>vyucovaciJazyky</th><th>poznamka</th><th>ectsZobrazit</th><th>ectsAkreditace</th><th>ectsNabizetUPrijezdu</th><th>poznamkaVerejna</th><th>skupinaAkreditace</th><th>skupinaAkreditaceKey</th><th>zarazenDoPrezencnihoStudia</th><th>zarazenDoKombinovanehoStudia</th><th>studijniOpory</th><th>praxePocetDnu</th><th>urovenNastavena</th><th>urovenVypoctena</th><th>automatickyUznavatZppZk</th><th>hodZaSemKombForma</th><th>aMax</th><th>bMax</th><th>cMax</th></tr><tr><td>str</td><td>str</td><td>i64</td><td>str</td><td>str</td><td>str</td><td>str</td><td>i64</td><td>str</td><td>null</td><td>str</td><td>str</td><td>str</td><td>str</td><td>str</td><td>str</td><td>str</td><td>str</td><td>str</td><td>str</td><td>str</td><td>str</td><td>null</td><td>null</td><td>str</td><td>str</td><td>str</td><td>str</td><td>str</td><td>str</td><td>str</td><td>str</td><td>str</td><td>str</td><td>i64</td><td>str</td><td>i64</td><td>str</td><td>i64</td><td>str</td><td>str</td><td>str</td><td>str</td><td>str</td><td>str</td><td>str</td><td>str</td><td>str</td><td>null</td><td>null</td><td>str</td><td>str</td><td>str</td><td>str</td><td>str</td><td>str</td><td>str</td><td>str</td><td>str</td><td>str</td><td>str</td><td>i64</td><td>str</td><td>str</td><td>str</td><td>str</td><td>null</td><td>null</td><td>str</td></tr></thead><tbody><tr><td>&quot;KI&quot;</td><td>&quot;BOP&quot;</td><td>2023</td><td>&quot;Odborná praxe&quot;</td><td>&quot;Odborná praxe&quot;</td><td>&quot;A&quot;</td><td>&quot;N&quot;</td><td>24</td><td>&quot;NE&quot;</td><td>null</td><td>null</td><td>null</td><td>null</td><td>null</td><td>null</td><td>null</td><td>null</td><td>null</td><td>null</td><td>null</td><td>null</td><td>null</td><td>null</td><td>null</td><td>null</td><td>null</td><td>null</td><td>null</td><td>null</td><td>null</td><td>null</td><td>null</td><td>null</td><td>&quot;A&quot;</td><td>0</td><td>&quot;HOD/TYD&quot;</td><td>12</td><td>&quot;TYD/SEM&quot;</td><td>0</td><td>&quot;HOD/TYD&quot;</td><td>&quot;Odborná praxe …</td><td>&quot;Zápočet&quot;</td><td>&quot;NE&quot;</td><td>&quot;Kombinovaná&quot;</td><td>&quot;Zápočet je udě…</td><td>&quot;Odborná praxe …</td><td>null</td><td>null</td><td>null</td><td>null</td><td>&quot;Čeština&quot;</td><td>null</td><td>&quot;A&quot;</td><td>&quot;N&quot;</td><td>&quot;N&quot;</td><td>null</td><td>null</td><td>null</td><td>&quot;A&quot;</td><td>&quot;A&quot;</td><td>null</td><td>0</td><td>null</td><td>&quot;Bc.&quot;</td><td>&quot;A&quot;</td><td>&quot;0&quot;</td><td>null</td><td>null</td><td>null</td></tr></tbody></table></div>"
      ],
      "text/plain": [
       "shape: (1, 69)\n",
       "┌─────────┬─────────┬──────┬───────────────┬───┬───────────────────┬──────┬──────┬──────┐\n",
       "│ katedra ┆ zkratka ┆ rok  ┆ nazev         ┆ … ┆ hodZaSemKombForma ┆ aMax ┆ bMax ┆ cMax │\n",
       "│ ---     ┆ ---     ┆ ---  ┆ ---           ┆   ┆ ---               ┆ ---  ┆ ---  ┆ ---  │\n",
       "│ str     ┆ str     ┆ i64  ┆ str           ┆   ┆ str               ┆ null ┆ null ┆ str  │\n",
       "╞═════════╪═════════╪══════╪═══════════════╪═══╪═══════════════════╪══════╪══════╪══════╡\n",
       "│ KI      ┆ BOP     ┆ 2023 ┆ Odborná praxe ┆ … ┆ 0                 ┆ null ┆ null ┆ null │\n",
       "└─────────┴─────────┴──────┴───────────────┴───┴───────────────────┴──────┴──────┴──────┘"
      ]
     },
     "execution_count": 32,
     "metadata": {},
     "output_type": "execute_result"
    }
   ],
   "source": [
    "ma_cviceni = jednotek_cviceni != 0\n",
    "nema_cviciciho = cvicici.is_null()\n",
    "\n",
    "chybi_cvicici = predmety_s_akci.filter(ma_cviceni & nema_cviciciho)\n",
    "chybi_cvicici.write_excel(\"results/chybi_cvicici.xlsx\")\n",
    "chybi_cvicici.head()"
   ]
  },
  {
   "cell_type": "code",
   "execution_count": 33,
   "metadata": {},
   "outputs": [
    {
     "data": {
      "text/html": [
       "<div><style>\n",
       ".dataframe > thead > tr,\n",
       ".dataframe > tbody > tr {\n",
       "  text-align: right;\n",
       "  white-space: pre-wrap;\n",
       "}\n",
       "</style>\n",
       "<small>shape: (5, 69)</small><table border=\"1\" class=\"dataframe\"><thead><tr><th>katedra</th><th>zkratka</th><th>rok</th><th>nazev</th><th>nazevDlouhy</th><th>vyukaZS</th><th>vyukaLS</th><th>kreditu</th><th>viceZapis</th><th>minObsazeni</th><th>garanti</th><th>garantiSPodily</th><th>garantiUcitIdno</th><th>prednasejici</th><th>prednasejiciSPodily</th><th>prednasejiciUcitIdno</th><th>cvicici</th><th>cviciciSPodily</th><th>cviciciUcitIdno</th><th>seminarici</th><th>seminariciSPodily</th><th>seminariciUcitIdno</th><th>schvalujiciUznani</th><th>schvalujiciUznaniUcitIdno</th><th>examinatori</th><th>examinatoriUcitIdno</th><th>podminujiciPredmety</th><th>vylucujiciPredmety</th><th>podminujePredmety</th><th>literatura</th><th>nahrazPredmety</th><th>metodyVyucovaci</th><th>metodyHodnotici</th><th>akreditovan</th><th>jednotekPrednasek</th><th>jednotkaPrednasky</th><th>jednotekCviceni</th><th>jednotkaCviceni</th><th>jednotekSeminare</th><th>jednotkaSeminare</th><th>anotace</th><th>typZkousky</th><th>maZapocetPredZk</th><th>formaZkousky</th><th>pozadavky</th><th>prehledLatky</th><th>predpoklady</th><th>ziskaneZpusobilosti</th><th>casovaNarocnost</th><th>predmetUrl</th><th>vyucovaciJazyky</th><th>poznamka</th><th>ectsZobrazit</th><th>ectsAkreditace</th><th>ectsNabizetUPrijezdu</th><th>poznamkaVerejna</th><th>skupinaAkreditace</th><th>skupinaAkreditaceKey</th><th>zarazenDoPrezencnihoStudia</th><th>zarazenDoKombinovanehoStudia</th><th>studijniOpory</th><th>praxePocetDnu</th><th>urovenNastavena</th><th>urovenVypoctena</th><th>automatickyUznavatZppZk</th><th>hodZaSemKombForma</th><th>aMax</th><th>bMax</th><th>cMax</th></tr><tr><td>str</td><td>str</td><td>i64</td><td>str</td><td>str</td><td>str</td><td>str</td><td>i64</td><td>str</td><td>null</td><td>str</td><td>str</td><td>str</td><td>str</td><td>str</td><td>str</td><td>str</td><td>str</td><td>str</td><td>str</td><td>str</td><td>str</td><td>null</td><td>null</td><td>str</td><td>str</td><td>str</td><td>str</td><td>str</td><td>str</td><td>str</td><td>str</td><td>str</td><td>str</td><td>i64</td><td>str</td><td>i64</td><td>str</td><td>i64</td><td>str</td><td>str</td><td>str</td><td>str</td><td>str</td><td>str</td><td>str</td><td>str</td><td>str</td><td>null</td><td>null</td><td>str</td><td>str</td><td>str</td><td>str</td><td>str</td><td>str</td><td>str</td><td>str</td><td>str</td><td>str</td><td>str</td><td>i64</td><td>str</td><td>str</td><td>str</td><td>str</td><td>null</td><td>null</td><td>str</td></tr></thead><tbody><tr><td>&quot;KI&quot;</td><td>&quot;KAFJ&quot;</td><td>2023</td><td>&quot;Teorie automat…</td><td>&quot;Teorie automat…</td><td>&quot;A&quot;</td><td>&quot;N&quot;</td><td>5</td><td>&quot;NE&quot;</td><td>null</td><td>&quot;&#x27;doc. Ing. Mgr…</td><td>&quot;&#x27;doc. Ing. Mgr…</td><td>&quot;449&quot;</td><td>&quot;&#x27;doc. Ing. Mgr…</td><td>&quot;&#x27;doc. Ing. Mgr…</td><td>&quot;449&quot;</td><td>&quot;&#x27;doc. Ing. Mgr…</td><td>&quot;&#x27;doc. Ing. Mgr…</td><td>&quot;449, 2220&quot;</td><td>null</td><td>null</td><td>null</td><td>null</td><td>null</td><td>null</td><td>null</td><td>null</td><td>null</td><td>null</td><td>&quot;&#x27;Chytil M. Aut…</td><td>null</td><td>null</td><td>null</td><td>&quot;N&quot;</td><td>6</td><td>&quot;HOD/SEM&quot;</td><td>6</td><td>&quot;HOD/SEM&quot;</td><td>2</td><td>&quot;HOD/SEM&quot;</td><td>&quot;V tomto předmě…</td><td>&quot;Zkouška&quot;</td><td>&quot;ANO&quot;</td><td>&quot;Kombinovaná&quot;</td><td>&quot;Požadavky pro …</td><td>&quot;1.\tKonečné aut…</td><td>null</td><td>null</td><td>null</td><td>null</td><td>&quot;Čeština&quot;</td><td>null</td><td>&quot;A&quot;</td><td>&quot;N&quot;</td><td>&quot;N&quot;</td><td>null</td><td>null</td><td>null</td><td>&quot;N&quot;</td><td>&quot;A&quot;</td><td>null</td><td>0</td><td>null</td><td>&quot;Bc.&quot;</td><td>&quot;A&quot;</td><td>null</td><td>null</td><td>null</td><td>&quot;0&quot;</td></tr><tr><td>&quot;KI&quot;</td><td>&quot;KAPR1&quot;</td><td>2023</td><td>&quot;Algoritmizace …</td><td>&quot;Algoritmizace …</td><td>&quot;A&quot;</td><td>&quot;N&quot;</td><td>4</td><td>&quot;NE&quot;</td><td>null</td><td>&quot;&#x27;Mgr. Jiří Fiš…</td><td>&quot;&#x27;Mgr. Jiří Fiš…</td><td>&quot;251&quot;</td><td>&quot;&#x27;Mgr. Jiří Fiš…</td><td>&quot;&#x27;Mgr. Jiří Fiš…</td><td>&quot;251&quot;</td><td>&quot;&#x27;Ing. Mgr. Pav…</td><td>&quot;&#x27;Ing. Mgr. Pav…</td><td>&quot;6973, 650, 835…</td><td>null</td><td>null</td><td>null</td><td>null</td><td>null</td><td>null</td><td>null</td><td>null</td><td>null</td><td>&quot;KI/KAPR2, KI/K…</td><td>&quot;&#x27;https://githu…</td><td>null</td><td>null</td><td>null</td><td>&quot;N&quot;</td><td>6</td><td>&quot;HOD/SEM&quot;</td><td>6</td><td>&quot;HOD/SEM&quot;</td><td>2</td><td>&quot;HOD/SEM&quot;</td><td>&quot;Úvodní kurz al…</td><td>&quot;Zápočet&quot;</td><td>&quot;NE&quot;</td><td>&quot;Kombinovaná&quot;</td><td>&quot;Podmínkou získ…</td><td>&quot;1.\tZákladní te…</td><td>null</td><td>null</td><td>null</td><td>null</td><td>&quot;Čeština&quot;</td><td>null</td><td>&quot;A&quot;</td><td>&quot;N&quot;</td><td>&quot;N&quot;</td><td>null</td><td>null</td><td>null</td><td>&quot;N&quot;</td><td>&quot;A&quot;</td><td>null</td><td>0</td><td>null</td><td>&quot;Bc.&quot;</td><td>&quot;A&quot;</td><td>&quot;0&quot;</td><td>null</td><td>null</td><td>null</td></tr><tr><td>&quot;KI&quot;</td><td>&quot;KAPR2&quot;</td><td>2023</td><td>&quot;Algoritmizace …</td><td>&quot;Algoritmizace …</td><td>&quot;N&quot;</td><td>&quot;A&quot;</td><td>5</td><td>&quot;NE&quot;</td><td>null</td><td>&quot;&#x27;Mgr. Jiří Fiš…</td><td>&quot;&#x27;Mgr. Jiří Fiš…</td><td>&quot;251&quot;</td><td>&quot;&#x27;Mgr. Jiří Fiš…</td><td>&quot;&#x27;Mgr. Jiří Fiš…</td><td>&quot;251&quot;</td><td>&quot;&#x27;RNDr. Petr Ku…</td><td>&quot;&#x27;RNDr. Petr Ku…</td><td>&quot;650, 835, 6259…</td><td>null</td><td>null</td><td>null</td><td>null</td><td>null</td><td>null</td><td>null</td><td>&quot;KI/KAPR1&quot;</td><td>null</td><td>&quot;KI/KGUI, KI/KP…</td><td>&quot;&#x27;https://githu…</td><td>null</td><td>null</td><td>null</td><td>&quot;N&quot;</td><td>6</td><td>&quot;HOD/SEM&quot;</td><td>6</td><td>&quot;HOD/SEM&quot;</td><td>2</td><td>&quot;HOD/SEM&quot;</td><td>&quot;Druhá část úvo…</td><td>&quot;Zkouška&quot;</td><td>&quot;ANO&quot;</td><td>&quot;Kombinovaná&quot;</td><td>&quot;Podmínkou získ…</td><td>&quot;1. Implementac…</td><td>null</td><td>null</td><td>null</td><td>null</td><td>&quot;Čeština&quot;</td><td>null</td><td>&quot;A&quot;</td><td>&quot;N&quot;</td><td>&quot;N&quot;</td><td>null</td><td>null</td><td>null</td><td>&quot;N&quot;</td><td>&quot;A&quot;</td><td>null</td><td>0</td><td>null</td><td>&quot;Bc.&quot;</td><td>&quot;A&quot;</td><td>&quot;0&quot;</td><td>null</td><td>null</td><td>null</td></tr><tr><td>&quot;KI&quot;</td><td>&quot;KCSY&quot;</td><td>2023</td><td>&quot;Číslicové syst…</td><td>&quot;Číslicové syst…</td><td>&quot;N&quot;</td><td>&quot;A&quot;</td><td>4</td><td>&quot;NE&quot;</td><td>null</td><td>&quot;&#x27;prof. Sergii …</td><td>&quot;&#x27;prof. Sergii …</td><td>&quot;3416&quot;</td><td>&quot;&#x27;prof. Sergii …</td><td>&quot;&#x27;prof. Sergii …</td><td>&quot;3416&quot;</td><td>&quot;&#x27;prof. Sergii …</td><td>&quot;&#x27;prof. Sergii …</td><td>&quot;3416, 1780&quot;</td><td>null</td><td>null</td><td>null</td><td>null</td><td>null</td><td>null</td><td>null</td><td>null</td><td>null</td><td>&quot;KI/PCSY&quot;</td><td>&quot;&#x27;Gook M. Hardw…</td><td>null</td><td>null</td><td>null</td><td>&quot;N&quot;</td><td>4</td><td>&quot;HOD/SEM&quot;</td><td>6</td><td>&quot;HOD/SEM&quot;</td><td>2</td><td>&quot;HOD/SEM&quot;</td><td>&quot;Student se v r…</td><td>&quot;Zkouška&quot;</td><td>&quot;ANO&quot;</td><td>&quot;Kombinovaná&quot;</td><td>&quot;Zápočet: semes…</td><td>&quot;1. Syntéza kom…</td><td>null</td><td>null</td><td>null</td><td>null</td><td>&quot;Čeština&quot;</td><td>null</td><td>&quot;A&quot;</td><td>&quot;N&quot;</td><td>&quot;N&quot;</td><td>null</td><td>null</td><td>null</td><td>&quot;N&quot;</td><td>&quot;A&quot;</td><td>null</td><td>0</td><td>null</td><td>&quot;Mgr.&quot;</td><td>&quot;A&quot;</td><td>&quot;0&quot;</td><td>null</td><td>null</td><td>null</td></tr><tr><td>&quot;KI&quot;</td><td>&quot;KDI2&quot;</td><td>2023</td><td>&quot;Didaktika info…</td><td>&quot;Didaktika info…</td><td>&quot;N&quot;</td><td>&quot;A&quot;</td><td>4</td><td>&quot;NE&quot;</td><td>null</td><td>&quot;&#x27;RNDr. Jan Kre…</td><td>&quot;&#x27;RNDr. Jan Kre…</td><td>&quot;2776&quot;</td><td>&quot;&#x27;RNDr. Jan Kre…</td><td>&quot;&#x27;RNDr. Jan Kre…</td><td>&quot;2776&quot;</td><td>&quot;&#x27;Mgr. Kamil Ba…</td><td>&quot;&#x27;Mgr. Kamil Ba…</td><td>&quot;1165, 835&quot;</td><td>null</td><td>null</td><td>null</td><td>null</td><td>null</td><td>null</td><td>null</td><td>&quot;KI/KDI1&quot;</td><td>null</td><td>&quot;KI/DI3, KI/KDI…</td><td>null</td><td>null</td><td>null</td><td>null</td><td>&quot;N&quot;</td><td>4</td><td>&quot;HOD/SEM&quot;</td><td>6</td><td>&quot;HOD/SEM&quot;</td><td>2</td><td>&quot;HOD/SEM&quot;</td><td>null</td><td>&quot;Zkouška&quot;</td><td>&quot;ANO&quot;</td><td>&quot;Kombinovaná&quot;</td><td>&quot;1. tvořivá prá…</td><td>&quot;\n",
       "1. Práce s pr…</td><td>null</td><td>null</td><td>null</td><td>null</td><td>&quot;Čeština&quot;</td><td>null</td><td>&quot;A&quot;</td><td>&quot;N&quot;</td><td>&quot;N&quot;</td><td>null</td><td>null</td><td>null</td><td>&quot;N&quot;</td><td>&quot;A&quot;</td><td>null</td><td>0</td><td>null</td><td>&quot;Mgr.&quot;</td><td>&quot;A&quot;</td><td>&quot;0&quot;</td><td>null</td><td>null</td><td>null</td></tr></tbody></table></div>"
      ],
      "text/plain": [
       "shape: (5, 69)\n",
       "┌─────────┬─────────┬──────┬──────────────────────────┬───┬───────────────────┬──────┬──────┬──────┐\n",
       "│ katedra ┆ zkratka ┆ rok  ┆ nazev                    ┆ … ┆ hodZaSemKombForma ┆ aMax ┆ bMax ┆ cMax │\n",
       "│ ---     ┆ ---     ┆ ---  ┆ ---                      ┆   ┆ ---               ┆ ---  ┆ ---  ┆ ---  │\n",
       "│ str     ┆ str     ┆ i64  ┆ str                      ┆   ┆ str               ┆ null ┆ null ┆ str  │\n",
       "╞═════════╪═════════╪══════╪══════════════════════════╪═══╪═══════════════════╪══════╪══════╪══════╡\n",
       "│ KI      ┆ KAFJ    ┆ 2023 ┆ Teorie automatů a        ┆ … ┆ null              ┆ null ┆ null ┆ 0    │\n",
       "│         ┆         ┆      ┆ formálních jaz…          ┆   ┆                   ┆      ┆      ┆      │\n",
       "│ KI      ┆ KAPR1   ┆ 2023 ┆ Algoritmizace a          ┆ … ┆ 0                 ┆ null ┆ null ┆ null │\n",
       "│         ┆         ┆      ┆ programování I           ┆   ┆                   ┆      ┆      ┆      │\n",
       "│ KI      ┆ KAPR2   ┆ 2023 ┆ Algoritmizace a          ┆ … ┆ 0                 ┆ null ┆ null ┆ null │\n",
       "│         ┆         ┆      ┆ programování II          ┆   ┆                   ┆      ┆      ┆      │\n",
       "│ KI      ┆ KCSY    ┆ 2023 ┆ Číslicové systémy        ┆ … ┆ 0                 ┆ null ┆ null ┆ null │\n",
       "│ KI      ┆ KDI2    ┆ 2023 ┆ Didaktika informatiky II ┆ … ┆ 0                 ┆ null ┆ null ┆ null │\n",
       "└─────────┴─────────┴──────┴──────────────────────────┴───┴───────────────────┴──────┴──────┴──────┘"
      ]
     },
     "execution_count": 33,
     "metadata": {},
     "output_type": "execute_result"
    }
   ],
   "source": [
    "ma_seminare = jednotek_seminare != 0\n",
    "nema_seminariciho = seminarici.is_null()\n",
    "\n",
    "chybi_seminarici = predmety_s_akci.filter(ma_seminare & nema_seminariciho)\n",
    "chybi_seminarici.write_excel(\"results/chybi_seminarici.xlsx\")\n",
    "chybi_seminarici.head()"
   ]
  },
  {
   "attachments": {},
   "cell_type": "markdown",
   "metadata": {},
   "source": [
    "> Zde jsou předměty, ve kterých učitel vede seminář:"
   ]
  },
  {
   "cell_type": "code",
   "execution_count": 35,
   "metadata": {},
   "outputs": [
    {
     "data": {
      "text/html": [
       "<div><style>\n",
       ".dataframe > thead > tr,\n",
       ".dataframe > tbody > tr {\n",
       "  text-align: right;\n",
       "  white-space: pre-wrap;\n",
       "}\n",
       "</style>\n",
       "<small>shape: (5, 69)</small><table border=\"1\" class=\"dataframe\"><thead><tr><th>katedra</th><th>zkratka</th><th>rok</th><th>nazev</th><th>nazevDlouhy</th><th>vyukaZS</th><th>vyukaLS</th><th>kreditu</th><th>viceZapis</th><th>minObsazeni</th><th>garanti</th><th>garantiSPodily</th><th>garantiUcitIdno</th><th>prednasejici</th><th>prednasejiciSPodily</th><th>prednasejiciUcitIdno</th><th>cvicici</th><th>cviciciSPodily</th><th>cviciciUcitIdno</th><th>seminarici</th><th>seminariciSPodily</th><th>seminariciUcitIdno</th><th>schvalujiciUznani</th><th>schvalujiciUznaniUcitIdno</th><th>examinatori</th><th>examinatoriUcitIdno</th><th>podminujiciPredmety</th><th>vylucujiciPredmety</th><th>podminujePredmety</th><th>literatura</th><th>nahrazPredmety</th><th>metodyVyucovaci</th><th>metodyHodnotici</th><th>akreditovan</th><th>jednotekPrednasek</th><th>jednotkaPrednasky</th><th>jednotekCviceni</th><th>jednotkaCviceni</th><th>jednotekSeminare</th><th>jednotkaSeminare</th><th>anotace</th><th>typZkousky</th><th>maZapocetPredZk</th><th>formaZkousky</th><th>pozadavky</th><th>prehledLatky</th><th>predpoklady</th><th>ziskaneZpusobilosti</th><th>casovaNarocnost</th><th>predmetUrl</th><th>vyucovaciJazyky</th><th>poznamka</th><th>ectsZobrazit</th><th>ectsAkreditace</th><th>ectsNabizetUPrijezdu</th><th>poznamkaVerejna</th><th>skupinaAkreditace</th><th>skupinaAkreditaceKey</th><th>zarazenDoPrezencnihoStudia</th><th>zarazenDoKombinovanehoStudia</th><th>studijniOpory</th><th>praxePocetDnu</th><th>urovenNastavena</th><th>urovenVypoctena</th><th>automatickyUznavatZppZk</th><th>hodZaSemKombForma</th><th>aMax</th><th>bMax</th><th>cMax</th></tr><tr><td>str</td><td>str</td><td>i64</td><td>str</td><td>str</td><td>str</td><td>str</td><td>i64</td><td>str</td><td>null</td><td>str</td><td>str</td><td>str</td><td>str</td><td>str</td><td>str</td><td>str</td><td>str</td><td>str</td><td>str</td><td>str</td><td>str</td><td>null</td><td>null</td><td>str</td><td>str</td><td>str</td><td>str</td><td>str</td><td>str</td><td>str</td><td>str</td><td>str</td><td>str</td><td>i64</td><td>str</td><td>i64</td><td>str</td><td>i64</td><td>str</td><td>str</td><td>str</td><td>str</td><td>str</td><td>str</td><td>str</td><td>str</td><td>str</td><td>null</td><td>null</td><td>str</td><td>str</td><td>str</td><td>str</td><td>str</td><td>str</td><td>str</td><td>str</td><td>str</td><td>str</td><td>str</td><td>i64</td><td>str</td><td>str</td><td>str</td><td>str</td><td>null</td><td>null</td><td>str</td></tr></thead><tbody><tr><td>&quot;KI&quot;</td><td>&quot;KDIS&quot;</td><td>2023</td><td>&quot;Dependabilita …</td><td>&quot;Dependabilita …</td><td>&quot;A&quot;</td><td>&quot;A&quot;</td><td>4</td><td>&quot;NE&quot;</td><td>null</td><td>&quot;&#x27;doc. RNDr. Mg…</td><td>&quot;&#x27;doc. RNDr. Mg…</td><td>&quot;2239&quot;</td><td>&quot;&#x27;doc. RNDr. Mg…</td><td>&quot;&#x27;doc. RNDr. Mg…</td><td>&quot;2239&quot;</td><td>&quot;&#x27;Ing. Mgr. Pav…</td><td>&quot;&#x27;Ing. Mgr. Pav…</td><td>&quot;6973, 2239&quot;</td><td>&quot;&#x27;Ing. Mgr. Pav…</td><td>&quot;&#x27;Ing. Mgr. Pav…</td><td>&quot;6973, 2239&quot;</td><td>null</td><td>null</td><td>null</td><td>null</td><td>&quot;KI/KAPR1&quot;</td><td>null</td><td>null</td><td>&quot;&#x27;Laprie, J.C.,…</td><td>null</td><td>null</td><td>null</td><td>&quot;N&quot;</td><td>6</td><td>&quot;HOD/SEM&quot;</td><td>4</td><td>&quot;HOD/SEM&quot;</td><td>2</td><td>&quot;HOD/SEM&quot;</td><td>&quot;Kurz uvádí do …</td><td>&quot;Zkouška&quot;</td><td>&quot;ANO&quot;</td><td>&quot;Kombinovaná&quot;</td><td>&quot;Zápočet: semin…</td><td>&quot;1. Úvod do pro…</td><td>null</td><td>null</td><td>null</td><td>null</td><td>&quot;Čeština, Angli…</td><td>&quot;Výuka v anglic…</td><td>&quot;A&quot;</td><td>&quot;N&quot;</td><td>&quot;N&quot;</td><td>null</td><td>null</td><td>null</td><td>&quot;N&quot;</td><td>&quot;A&quot;</td><td>null</td><td>0</td><td>&quot;Bc.&quot;</td><td>&quot;Bc.&quot;</td><td>&quot;A&quot;</td><td>null</td><td>null</td><td>null</td><td>null</td></tr><tr><td>&quot;KI&quot;</td><td>&quot;KGUI&quot;</td><td>2023</td><td>&quot;Programování p…</td><td>&quot;Programování p…</td><td>&quot;N&quot;</td><td>&quot;A&quot;</td><td>6</td><td>&quot;NE&quot;</td><td>null</td><td>&quot;&#x27;RNDr. Petr Ku…</td><td>&quot;&#x27;RNDr. Petr Ku…</td><td>&quot;650&quot;</td><td>&quot;&#x27;Ing. Mgr. Pav…</td><td>&quot;&#x27;Ing. Mgr. Pav…</td><td>&quot;6973, 650&quot;</td><td>&quot;&#x27;Ing. Mgr. Pav…</td><td>&quot;&#x27;Ing. Mgr. Pav…</td><td>&quot;6973, 650&quot;</td><td>&quot;&#x27;Ing. Mgr. Pav…</td><td>&quot;&#x27;Ing. Mgr. Pav…</td><td>&quot;6973, 650&quot;</td><td>null</td><td>null</td><td>null</td><td>null</td><td>&quot;KI/KAPR2, KI/K…</td><td>null</td><td>null</td><td>&quot;&#x27;Sells Ch. C# …</td><td>null</td><td>null</td><td>null</td><td>&quot;N&quot;</td><td>6</td><td>&quot;HOD/SEM&quot;</td><td>6</td><td>&quot;HOD/SEM&quot;</td><td>2</td><td>&quot;HOD/SEM&quot;</td><td>&quot;Kurz je zaměře…</td><td>&quot;Zkouška&quot;</td><td>&quot;ANO&quot;</td><td>&quot;Kombinovaná&quot;</td><td>&quot;Zápočet je udě…</td><td>&quot;1.\tModel událo…</td><td>null</td><td>null</td><td>null</td><td>null</td><td>&quot;Čeština&quot;</td><td>null</td><td>&quot;A&quot;</td><td>&quot;N&quot;</td><td>&quot;N&quot;</td><td>null</td><td>null</td><td>null</td><td>&quot;N&quot;</td><td>&quot;A&quot;</td><td>null</td><td>0</td><td>null</td><td>&quot;Bc.&quot;</td><td>&quot;A&quot;</td><td>null</td><td>null</td><td>null</td><td>null</td></tr><tr><td>&quot;KI&quot;</td><td>&quot;KOPR&quot;</td><td>2023</td><td>&quot;Optimální rozh…</td><td>&quot;Optimální rozh…</td><td>&quot;A&quot;</td><td>&quot;A&quot;</td><td>5</td><td>&quot;NE&quot;</td><td>null</td><td>&quot;&#x27;RNDr. Petr Ku…</td><td>&quot;&#x27;RNDr. Petr Ku…</td><td>&quot;650&quot;</td><td>&quot;&#x27;RNDr. Petr Ku…</td><td>&quot;&#x27;RNDr. Petr Ku…</td><td>&quot;650, 9114&quot;</td><td>&quot;&#x27;RNDr. Petr Ku…</td><td>&quot;&#x27;RNDr. Petr Ku…</td><td>&quot;650, 9114&quot;</td><td>&quot;&#x27;RNDr. Petr Ku…</td><td>&quot;&#x27;RNDr. Petr Ku…</td><td>&quot;650, 9114&quot;</td><td>null</td><td>null</td><td>null</td><td>null</td><td>null</td><td>null</td><td>null</td><td>&quot;&#x27;Lagová, M. Me…</td><td>null</td><td>null</td><td>null</td><td>&quot;N&quot;</td><td>6</td><td>&quot;HOD/SEM&quot;</td><td>6</td><td>&quot;HOD/SEM&quot;</td><td>2</td><td>&quot;HOD/SEM&quot;</td><td>&quot;Kurz je zaměře…</td><td>&quot;Zkouška&quot;</td><td>&quot;ANO&quot;</td><td>&quot;Kombinovaná&quot;</td><td>&quot;Podmínkou získ…</td><td>&quot;1. Úlohy lineá…</td><td>null</td><td>null</td><td>null</td><td>null</td><td>&quot;Čeština&quot;</td><td>null</td><td>&quot;A&quot;</td><td>&quot;N&quot;</td><td>&quot;N&quot;</td><td>null</td><td>null</td><td>null</td><td>&quot;N&quot;</td><td>&quot;A&quot;</td><td>null</td><td>0</td><td>null</td><td>&quot;Bc.&quot;</td><td>&quot;A&quot;</td><td>&quot;0&quot;</td><td>null</td><td>null</td><td>null</td></tr><tr><td>&quot;KI&quot;</td><td>&quot;KPAU&quot;</td><td>2023</td><td>&quot;Programovateln…</td><td>&quot;Programovateln…</td><td>&quot;A&quot;</td><td>&quot;N&quot;</td><td>4</td><td>&quot;NE&quot;</td><td>null</td><td>&quot;&#x27;Ing. Petr Hab…</td><td>&quot;&#x27;Ing. Petr Hab…</td><td>&quot;1780&quot;</td><td>&quot;&#x27;Ing. Petr Hab…</td><td>&quot;&#x27;Ing. Petr Hab…</td><td>&quot;1780&quot;</td><td>&quot;&#x27;Ing. Petr Hab…</td><td>&quot;&#x27;Ing. Petr Hab…</td><td>&quot;1780&quot;</td><td>&quot;&#x27;Ing. Petr Hab…</td><td>&quot;&#x27;Ing. Petr Hab…</td><td>&quot;1780&quot;</td><td>null</td><td>null</td><td>null</td><td>null</td><td>null</td><td>null</td><td>&quot;KI/KSCAD&quot;</td><td>&quot;&#x27;Šmejkal, L., …</td><td>null</td><td>null</td><td>null</td><td>&quot;A&quot;</td><td>4</td><td>&quot;HOD/SEM&quot;</td><td>6</td><td>&quot;HOD/SEM&quot;</td><td>2</td><td>&quot;HOD/SEM&quot;</td><td>&quot;Cílem předmětu…</td><td>&quot;Zkouška&quot;</td><td>&quot;ANO&quot;</td><td>&quot;Kombinovaná&quot;</td><td>&quot;Zápočet: semes…</td><td>&quot;1. Úvod do pro…</td><td>null</td><td>null</td><td>null</td><td>null</td><td>&quot;Čeština&quot;</td><td>null</td><td>&quot;A&quot;</td><td>&quot;N&quot;</td><td>&quot;N&quot;</td><td>null</td><td>null</td><td>null</td><td>&quot;N&quot;</td><td>&quot;A&quot;</td><td>null</td><td>0</td><td>null</td><td>&quot;Bc.&quot;</td><td>&quot;A&quot;</td><td>&quot;0&quot;</td><td>null</td><td>null</td><td>null</td></tr><tr><td>&quot;KI&quot;</td><td>&quot;KUSU&quot;</td><td>2023</td><td>&quot;Úvod do strojo…</td><td>&quot;Úvod do strojo…</td><td>&quot;N&quot;</td><td>&quot;A&quot;</td><td>4</td><td>&quot;NE&quot;</td><td>null</td><td>&quot;&#x27;RNDr. Petr Ku…</td><td>&quot;&#x27;RNDr. Petr Ku…</td><td>&quot;650&quot;</td><td>&quot;&#x27;RNDr. Petr Ku…</td><td>&quot;&#x27;RNDr. Petr Ku…</td><td>&quot;650&quot;</td><td>&quot;&#x27;RNDr. Petr Ku…</td><td>&quot;&#x27;RNDr. Petr Ku…</td><td>&quot;650&quot;</td><td>&quot;&#x27;RNDr. Petr Ku…</td><td>&quot;&#x27;RNDr. Petr Ku…</td><td>&quot;650&quot;</td><td>null</td><td>null</td><td>null</td><td>null</td><td>&quot;KI/KAPR1, KI/K…</td><td>null</td><td>&quot;KI/MNS&quot;</td><td>&quot;&#x27;Chollet, F. D…</td><td>null</td><td>null</td><td>null</td><td>&quot;A&quot;</td><td>4</td><td>&quot;HOD/SEM&quot;</td><td>6</td><td>&quot;HOD/SEM&quot;</td><td>2</td><td>&quot;HOD/SEM&quot;</td><td>&quot;Předmět Úvod d…</td><td>&quot;Zkouška&quot;</td><td>&quot;ANO&quot;</td><td>&quot;Kombinovaná&quot;</td><td>&quot;Zápočet: vypra…</td><td>&quot;1. Rozdělení ú…</td><td>null</td><td>null</td><td>null</td><td>null</td><td>&quot;Čeština&quot;</td><td>null</td><td>&quot;A&quot;</td><td>&quot;N&quot;</td><td>&quot;N&quot;</td><td>null</td><td>null</td><td>null</td><td>&quot;N&quot;</td><td>&quot;A&quot;</td><td>null</td><td>0</td><td>null</td><td>&quot;Bc.&quot;</td><td>&quot;A&quot;</td><td>&quot;0&quot;</td><td>null</td><td>null</td><td>null</td></tr></tbody></table></div>"
      ],
      "text/plain": [
       "shape: (5, 69)\n",
       "┌─────────┬─────────┬──────┬──────────────────────────┬───┬───────────────────┬──────┬──────┬──────┐\n",
       "│ katedra ┆ zkratka ┆ rok  ┆ nazev                    ┆ … ┆ hodZaSemKombForma ┆ aMax ┆ bMax ┆ cMax │\n",
       "│ ---     ┆ ---     ┆ ---  ┆ ---                      ┆   ┆ ---               ┆ ---  ┆ ---  ┆ ---  │\n",
       "│ str     ┆ str     ┆ i64  ┆ str                      ┆   ┆ str               ┆ null ┆ null ┆ str  │\n",
       "╞═════════╪═════════╪══════╪══════════════════════════╪═══╪═══════════════════╪══════╪══════╪══════╡\n",
       "│ KI      ┆ KDIS    ┆ 2023 ┆ Dependabilita            ┆ … ┆ null              ┆ null ┆ null ┆ null │\n",
       "│         ┆         ┆      ┆ informačních systé…      ┆   ┆                   ┆      ┆      ┆      │\n",
       "│ KI      ┆ KGUI    ┆ 2023 ┆ Programování pro GUI     ┆ … ┆ null              ┆ null ┆ null ┆ null │\n",
       "│ KI      ┆ KOPR    ┆ 2023 ┆ Optimální rozhodování    ┆ … ┆ 0                 ┆ null ┆ null ┆ null │\n",
       "│ KI      ┆ KPAU    ┆ 2023 ┆ Programovatelné automaty ┆ … ┆ 0                 ┆ null ┆ null ┆ null │\n",
       "│ KI      ┆ KUSU    ┆ 2023 ┆ Úvod do strojového učení ┆ … ┆ 0                 ┆ null ┆ null ┆ null │\n",
       "└─────────┴─────────┴──────┴──────────────────────────┴───┴───────────────────┴──────┴──────┴──────┘"
      ]
     },
     "execution_count": 35,
     "metadata": {},
     "output_type": "execute_result"
    }
   ],
   "source": [
    "prednasejici_je_seminarici = prednasejici == seminarici\n",
    "cvicici_je_seminarici = cvicici == seminarici\n",
    "\n",
    "konflikt_vyucujicich = predmety_s_akci.filter(ma_seminare & ma_prednasku & (prednasejici_je_seminarici | cvicici_je_seminarici))\n",
    "konflikt_vyucujicich.write_excel(\"results/konflikt_vyucujicich.xlsx\")\n",
    "konflikt_vyucujicich.head()"
   ]
  },
  {
   "cell_type": "code",
   "execution_count": 36,
   "metadata": {},
   "outputs": [
    {
     "name": "stdout",
     "output_type": "stream",
     "text": [
      "1 předmětů nemá přednášejícího\n",
      "1 předmětů nemá cvičícího\n",
      "29 předmětů nemá seminářícího\n",
      "U 5 předmětů je seminářící také učitel\n"
     ]
    }
   ],
   "source": [
    "print(f\"{len(chybi_prednasejici)} předmětů nemá přednášejícího\")\n",
    "print(f\"{len(chybi_cvicici)} předmětů nemá cvičícího\")\n",
    "print(f\"{len(chybi_seminarici)} předmětů nemá seminářícího\")\n",
    "print(f\"U {len(konflikt_vyucujicich)} předmětů je seminářící také učitel\")"
   ]
  },
  {
   "attachments": {},
   "cell_type": "markdown",
   "metadata": {},
   "source": [
    "### Garant by měl být někde mezi vyučujícími. Pokud má předmět přednášku, měl by být přednášející.\n",
    "\n",
    "> V těchto předmětech garant vůbec neučí:"
   ]
  },
  {
   "cell_type": "code",
   "execution_count": 37,
   "metadata": {},
   "outputs": [
    {
     "data": {
      "text/plain": [
       "3"
      ]
     },
     "execution_count": 37,
     "metadata": {},
     "output_type": "execute_result"
    }
   ],
   "source": [
    "filter_query = (garant != cvicici) & (garant != seminarici) & (garant != prednasejici) & (ma_prednasku | ma_cviceni | ma_seminare)\n",
    "predmety_kde_garant_neuci = predmety_s_akci.filter(filter_query)\n",
    "predmety_kde_garant_neuci.write_excel(\"results/predmety_kde_garant_neuci.xlsx\")\n",
    "predmety_kde_garant_neuci.__len__()"
   ]
  },
  {
   "attachments": {},
   "cell_type": "markdown",
   "metadata": {},
   "source": [
    "> v těchto předmětech je přednáška, ale nedělá jí garant:"
   ]
  },
  {
   "cell_type": "code",
   "execution_count": 38,
   "metadata": {},
   "outputs": [
    {
     "data": {
      "text/html": [
       "<div><style>\n",
       ".dataframe > thead > tr,\n",
       ".dataframe > tbody > tr {\n",
       "  text-align: right;\n",
       "  white-space: pre-wrap;\n",
       "}\n",
       "</style>\n",
       "<small>shape: (5, 69)</small><table border=\"1\" class=\"dataframe\"><thead><tr><th>katedra</th><th>zkratka</th><th>rok</th><th>nazev</th><th>nazevDlouhy</th><th>vyukaZS</th><th>vyukaLS</th><th>kreditu</th><th>viceZapis</th><th>minObsazeni</th><th>garanti</th><th>garantiSPodily</th><th>garantiUcitIdno</th><th>prednasejici</th><th>prednasejiciSPodily</th><th>prednasejiciUcitIdno</th><th>cvicici</th><th>cviciciSPodily</th><th>cviciciUcitIdno</th><th>seminarici</th><th>seminariciSPodily</th><th>seminariciUcitIdno</th><th>schvalujiciUznani</th><th>schvalujiciUznaniUcitIdno</th><th>examinatori</th><th>examinatoriUcitIdno</th><th>podminujiciPredmety</th><th>vylucujiciPredmety</th><th>podminujePredmety</th><th>literatura</th><th>nahrazPredmety</th><th>metodyVyucovaci</th><th>metodyHodnotici</th><th>akreditovan</th><th>jednotekPrednasek</th><th>jednotkaPrednasky</th><th>jednotekCviceni</th><th>jednotkaCviceni</th><th>jednotekSeminare</th><th>jednotkaSeminare</th><th>anotace</th><th>typZkousky</th><th>maZapocetPredZk</th><th>formaZkousky</th><th>pozadavky</th><th>prehledLatky</th><th>predpoklady</th><th>ziskaneZpusobilosti</th><th>casovaNarocnost</th><th>predmetUrl</th><th>vyucovaciJazyky</th><th>poznamka</th><th>ectsZobrazit</th><th>ectsAkreditace</th><th>ectsNabizetUPrijezdu</th><th>poznamkaVerejna</th><th>skupinaAkreditace</th><th>skupinaAkreditaceKey</th><th>zarazenDoPrezencnihoStudia</th><th>zarazenDoKombinovanehoStudia</th><th>studijniOpory</th><th>praxePocetDnu</th><th>urovenNastavena</th><th>urovenVypoctena</th><th>automatickyUznavatZppZk</th><th>hodZaSemKombForma</th><th>aMax</th><th>bMax</th><th>cMax</th></tr><tr><td>str</td><td>str</td><td>i64</td><td>str</td><td>str</td><td>str</td><td>str</td><td>i64</td><td>str</td><td>null</td><td>str</td><td>str</td><td>str</td><td>str</td><td>str</td><td>str</td><td>str</td><td>str</td><td>str</td><td>str</td><td>str</td><td>str</td><td>null</td><td>null</td><td>str</td><td>str</td><td>str</td><td>str</td><td>str</td><td>str</td><td>str</td><td>str</td><td>str</td><td>str</td><td>i64</td><td>str</td><td>i64</td><td>str</td><td>i64</td><td>str</td><td>str</td><td>str</td><td>str</td><td>str</td><td>str</td><td>str</td><td>str</td><td>str</td><td>null</td><td>null</td><td>str</td><td>str</td><td>str</td><td>str</td><td>str</td><td>str</td><td>str</td><td>str</td><td>str</td><td>str</td><td>str</td><td>i64</td><td>str</td><td>str</td><td>str</td><td>str</td><td>null</td><td>null</td><td>str</td></tr></thead><tbody><tr><td>&quot;KI&quot;</td><td>&quot;ASK&quot;</td><td>2023</td><td>&quot;Analýza síťové…</td><td>&quot;Analýza síťové…</td><td>&quot;N&quot;</td><td>&quot;A&quot;</td><td>4</td><td>&quot;NE&quot;</td><td>null</td><td>&quot;&#x27;RNDr. Jan Kre…</td><td>&quot;&#x27;RNDr. Jan Kre…</td><td>&quot;2776&quot;</td><td>&quot;&#x27;RNDr. Jan Kre…</td><td>&quot;&#x27;RNDr. Jan Kre…</td><td>&quot;2776, 7152&quot;</td><td>&quot;&#x27;RNDr. Jan Kre…</td><td>&quot;&#x27;RNDr. Jan Kre…</td><td>&quot;2776&quot;</td><td>null</td><td>null</td><td>null</td><td>null</td><td>null</td><td>null</td><td>null</td><td>&quot;KI/BTE&quot;</td><td>null</td><td>null</td><td>&quot;&#x27;Nelson, B., P…</td><td>null</td><td>null</td><td>null</td><td>&quot;A&quot;</td><td>9</td><td>&quot;HOD/SEM&quot;</td><td>27</td><td>&quot;HOD/SEM&quot;</td><td>0</td><td>&quot;HOD/TYD&quot;</td><td>&quot;Obsahem kurzu …</td><td>&quot;Zkouška&quot;</td><td>&quot;ANO&quot;</td><td>&quot;Kombinovaná&quot;</td><td>&quot;Zápočet: labor…</td><td>&quot;1. Úvod do pro…</td><td>null</td><td>null</td><td>null</td><td>null</td><td>&quot;Čeština&quot;</td><td>null</td><td>&quot;A&quot;</td><td>&quot;N&quot;</td><td>&quot;N&quot;</td><td>null</td><td>null</td><td>null</td><td>&quot;A&quot;</td><td>&quot;N&quot;</td><td>null</td><td>0</td><td>null</td><td>&quot;Bc.&quot;</td><td>&quot;A&quot;</td><td>&quot;0&quot;</td><td>null</td><td>null</td><td>null</td></tr><tr><td>&quot;KI&quot;</td><td>&quot;DIB&quot;</td><td>2023</td><td>&quot;Datová a infor…</td><td>&quot;Datová a infor…</td><td>&quot;N&quot;</td><td>&quot;A&quot;</td><td>4</td><td>&quot;NE&quot;</td><td>null</td><td>&quot;&#x27;RNDr. Jan Kre…</td><td>&quot;&#x27;RNDr. Jan Kre…</td><td>&quot;2776&quot;</td><td>&quot;&#x27;RNDr. Jan Kre…</td><td>&quot;&#x27;RNDr. Jan Kre…</td><td>&quot;2776, 3521&quot;</td><td>&quot;&#x27;RNDr. Jan Kre…</td><td>&quot;&#x27;RNDr. Jan Kre…</td><td>&quot;2776, 3521&quot;</td><td>null</td><td>null</td><td>null</td><td>null</td><td>null</td><td>null</td><td>null</td><td>null</td><td>null</td><td>null</td><td>null</td><td>null</td><td>null</td><td>null</td><td>&quot;N&quot;</td><td>1</td><td>&quot;HOD/TYD&quot;</td><td>2</td><td>&quot;HOD/TYD&quot;</td><td>0</td><td>&quot;HOD/TYD&quot;</td><td>null</td><td>&quot;Zkouška&quot;</td><td>&quot;ANO&quot;</td><td>&quot;Kombinovaná&quot;</td><td>&quot;Zápočet: labor…</td><td>&quot;Obsahem předmě…</td><td>null</td><td>null</td><td>null</td><td>null</td><td>&quot;Čeština&quot;</td><td>null</td><td>&quot;A&quot;</td><td>&quot;N&quot;</td><td>&quot;N&quot;</td><td>null</td><td>null</td><td>null</td><td>&quot;A&quot;</td><td>&quot;N&quot;</td><td>null</td><td>0</td><td>null</td><td>&quot;Mgr.&quot;</td><td>&quot;A&quot;</td><td>&quot;0&quot;</td><td>null</td><td>null</td><td>null</td></tr><tr><td>&quot;KI&quot;</td><td>&quot;GUI&quot;</td><td>2023</td><td>&quot;Programování p…</td><td>&quot;Programování p…</td><td>&quot;N&quot;</td><td>&quot;A&quot;</td><td>6</td><td>&quot;NE&quot;</td><td>null</td><td>&quot;&#x27;RNDr. Petr Ku…</td><td>&quot;&#x27;RNDr. Petr Ku…</td><td>&quot;650&quot;</td><td>&quot;&#x27;Ing. Mgr. Pav…</td><td>&quot;&#x27;Ing. Mgr. Pav…</td><td>&quot;6973, 650&quot;</td><td>&quot;&#x27;Ing. Mgr. Pav…</td><td>&quot;&#x27;Ing. Mgr. Pav…</td><td>&quot;6973, 650&quot;</td><td>null</td><td>null</td><td>null</td><td>null</td><td>null</td><td>null</td><td>null</td><td>&quot;KI/APR2, KI/PG…</td><td>null</td><td>null</td><td>&quot;&#x27;Sells Ch. C# …</td><td>null</td><td>null</td><td>null</td><td>&quot;N&quot;</td><td>2</td><td>&quot;HOD/TYD&quot;</td><td>2</td><td>&quot;HOD/TYD&quot;</td><td>0</td><td>&quot;HOD/TYD&quot;</td><td>&quot;Kurz je zaměře…</td><td>&quot;Zkouška&quot;</td><td>&quot;ANO&quot;</td><td>&quot;Kombinovaná&quot;</td><td>&quot;Podmínkou zápo…</td><td>&quot;1.\tModel událo…</td><td>null</td><td>null</td><td>null</td><td>null</td><td>&quot;Čeština&quot;</td><td>null</td><td>&quot;A&quot;</td><td>&quot;N&quot;</td><td>&quot;N&quot;</td><td>null</td><td>null</td><td>null</td><td>&quot;A&quot;</td><td>&quot;N&quot;</td><td>null</td><td>0</td><td>null</td><td>&quot;Bc.&quot;</td><td>&quot;A&quot;</td><td>null</td><td>null</td><td>null</td><td>null</td></tr><tr><td>&quot;KI&quot;</td><td>&quot;KBIG&quot;</td><td>2023</td><td>&quot;Datová úložišt…</td><td>&quot;Datová úložišt…</td><td>&quot;A&quot;</td><td>&quot;N&quot;</td><td>5</td><td>&quot;NE&quot;</td><td>null</td><td>&quot;&#x27;Mgr. Jiří Fiš…</td><td>&quot;&#x27;Mgr. Jiří Fiš…</td><td>&quot;251&quot;</td><td>&quot;&#x27;Mgr. Jiří Fiš…</td><td>&quot;&#x27;Mgr. Jiří Fiš…</td><td>&quot;251, 650, 4195…</td><td>&quot;&#x27;Ing. Mgr. Pav…</td><td>&quot;&#x27;Ing. Mgr. Pav…</td><td>&quot;6973, 251, 650…</td><td>&quot;&#x27;Ing. Mgr. Pav…</td><td>&quot;&#x27;Ing. Mgr. Pav…</td><td>&quot;6973, 251, 650…</td><td>null</td><td>null</td><td>null</td><td>null</td><td>null</td><td>null</td><td>null</td><td>null</td><td>null</td><td>null</td><td>null</td><td>&quot;N&quot;</td><td>4</td><td>&quot;HOD/SEM&quot;</td><td>8</td><td>&quot;HOD/SEM&quot;</td><td>2</td><td>&quot;HOD/SEM&quot;</td><td>&quot;Předmět je zam…</td><td>&quot;Zkouška&quot;</td><td>&quot;ANO&quot;</td><td>&quot;Kombinovaná&quot;</td><td>&quot;Zápočet: vypra…</td><td>&quot;1. Principy vi…</td><td>null</td><td>null</td><td>null</td><td>null</td><td>&quot;Čeština&quot;</td><td>null</td><td>&quot;A&quot;</td><td>&quot;N&quot;</td><td>&quot;N&quot;</td><td>null</td><td>null</td><td>null</td><td>&quot;N&quot;</td><td>&quot;A&quot;</td><td>null</td><td>0</td><td>null</td><td>&quot;Mgr.&quot;</td><td>&quot;A&quot;</td><td>&quot;0&quot;</td><td>null</td><td>null</td><td>null</td></tr><tr><td>&quot;KI&quot;</td><td>&quot;KDIB&quot;</td><td>2023</td><td>&quot;Datová a infor…</td><td>&quot;Datová a infor…</td><td>&quot;N&quot;</td><td>&quot;A&quot;</td><td>4</td><td>&quot;NE&quot;</td><td>null</td><td>&quot;&#x27;RNDr. Jan Kre…</td><td>&quot;&#x27;RNDr. Jan Kre…</td><td>&quot;2776&quot;</td><td>&quot;&#x27;RNDr. Jan Kre…</td><td>&quot;&#x27;RNDr. Jan Kre…</td><td>&quot;2776, 3521&quot;</td><td>&quot;&#x27;RNDr. Jan Kre…</td><td>&quot;&#x27;RNDr. Jan Kre…</td><td>&quot;2776, 3521&quot;</td><td>null</td><td>null</td><td>null</td><td>null</td><td>null</td><td>null</td><td>null</td><td>null</td><td>null</td><td>null</td><td>null</td><td>null</td><td>null</td><td>null</td><td>&quot;N&quot;</td><td>4</td><td>&quot;HOD/SEM&quot;</td><td>6</td><td>&quot;HOD/SEM&quot;</td><td>2</td><td>&quot;HOD/SEM&quot;</td><td>null</td><td>&quot;Zkouška&quot;</td><td>&quot;ANO&quot;</td><td>&quot;Kombinovaná&quot;</td><td>&quot;Zápočet: labor…</td><td>&quot;Obsahem předmě…</td><td>null</td><td>null</td><td>null</td><td>null</td><td>&quot;Čeština&quot;</td><td>null</td><td>&quot;A&quot;</td><td>&quot;N&quot;</td><td>&quot;N&quot;</td><td>null</td><td>null</td><td>null</td><td>&quot;N&quot;</td><td>&quot;A&quot;</td><td>null</td><td>0</td><td>null</td><td>&quot;Mgr.&quot;</td><td>&quot;A&quot;</td><td>&quot;0&quot;</td><td>null</td><td>null</td><td>null</td></tr></tbody></table></div>"
      ],
      "text/plain": [
       "shape: (5, 69)\n",
       "┌─────────┬─────────┬──────┬──────────────────────┬───┬───────────────────┬──────┬──────┬──────┐\n",
       "│ katedra ┆ zkratka ┆ rok  ┆ nazev                ┆ … ┆ hodZaSemKombForma ┆ aMax ┆ bMax ┆ cMax │\n",
       "│ ---     ┆ ---     ┆ ---  ┆ ---                  ┆   ┆ ---               ┆ ---  ┆ ---  ┆ ---  │\n",
       "│ str     ┆ str     ┆ i64  ┆ str                  ┆   ┆ str               ┆ null ┆ null ┆ str  │\n",
       "╞═════════╪═════════╪══════╪══════════════════════╪═══╪═══════════════════╪══════╪══════╪══════╡\n",
       "│ KI      ┆ ASK     ┆ 2023 ┆ Analýza síťové       ┆ … ┆ 0                 ┆ null ┆ null ┆ null │\n",
       "│         ┆         ┆      ┆ komunikace           ┆   ┆                   ┆      ┆      ┆      │\n",
       "│ KI      ┆ DIB     ┆ 2023 ┆ Datová a informační  ┆ … ┆ 0                 ┆ null ┆ null ┆ null │\n",
       "│         ┆         ┆      ┆ bezpečnost           ┆   ┆                   ┆      ┆      ┆      │\n",
       "│ KI      ┆ GUI     ┆ 2023 ┆ Programování pro GUI ┆ … ┆ null              ┆ null ┆ null ┆ null │\n",
       "│ KI      ┆ KBIG    ┆ 2023 ┆ Datová úložiště      ┆ … ┆ 0                 ┆ null ┆ null ┆ null │\n",
       "│         ┆         ┆      ┆ a nástroje pro B…    ┆   ┆                   ┆      ┆      ┆      │\n",
       "│ KI      ┆ KDIB    ┆ 2023 ┆ Datová a informační  ┆ … ┆ 0                 ┆ null ┆ null ┆ null │\n",
       "│         ┆         ┆      ┆ bezpečnost           ┆   ┆                   ┆      ┆      ┆      │\n",
       "└─────────┴─────────┴──────┴──────────────────────┴───┴───────────────────┴──────┴──────┴──────┘"
      ]
     },
     "execution_count": 38,
     "metadata": {},
     "output_type": "execute_result"
    }
   ],
   "source": [
    "garant_neni_prednasejici = (jednotek_prednasek != 0) & (garant != prednasejici)\n",
    "garant_neprednasi = predmety_s_akci.filter(garant_neni_prednasejici)\n",
    "garant_neprednasi.write_excel(\"results/garant_neprednasi.xlsx\")\n",
    "garant_neprednasi.head()"
   ]
  },
  {
   "attachments": {},
   "cell_type": "markdown",
   "metadata": {},
   "source": [
    "## Kontrola proti rozvrhovaným akcím"
   ]
  },
  {
   "attachments": {},
   "cell_type": "markdown",
   "metadata": {},
   "source": [
    "### Vyučující u rozvrhových akcí musí být v příslušných kategoriích u vyučujících"
   ]
  },
  {
   "attachments": {},
   "cell_type": "markdown",
   "metadata": {},
   "source": [
    "#### Osekám dataframy"
   ]
  },
  {
   "cell_type": "code",
   "execution_count": 156,
   "metadata": {},
   "outputs": [
    {
     "data": {
      "text/html": [
       "<div><style>\n",
       ".dataframe > thead > tr > th,\n",
       ".dataframe > tbody > tr > td {\n",
       "  text-align: right;\n",
       "}\n",
       "</style>\n",
       "<small>shape: (5, 54)</small><table border=\"1\" class=\"dataframe\"><thead><tr><th>roakIdno</th><th>nazev</th><th>katedra</th><th>zkratka</th><th>statut</th><th>ucitIdno</th><th>ucitIdno.ucitel</th><th>jmeno.ucitel</th><th>prijmeni.ucitel</th><th>titulPred.ucitel</th><th>titulZa.ucitel</th><th>platnost.ucitel</th><th>zamestnanec.ucitel</th><th>podilNaVyuce.ucitel</th><th>rok</th><th>budova</th><th>mistnost</th><th>kapacitaMistnosti</th><th>planObsazeni</th><th>obsazeni</th><th>typAkce</th><th>typAkceZkr</th><th>platnost</th><th>den</th><th>denZkr</th><th>vyucJazyk</th><th>hodinaOd</th><th>hodinaDo</th><th>pocetVyucHodin</th><th>hodinaSkutOd</th><th>hodinaSkutDo</th><th>tydenOd</th><th>tydenDo</th><th>tyden</th><th>tydenZkr</th><th>grupIdno</th><th>jeNadrazena</th><th>maNadrazenou</th><th>kontakt</th><th>krouzky</th><th>casovaRada</th><th>datum</th><th>datumOd</th><th>datumDo</th><th>druhAkce</th><th>vsichniUciteleUcitIdno</th><th>vsichniUciteleJmenaTituly</th><th>vsichniUciteleJmenaTitulySPodily</th><th>vsichniUcitelePrijmeni</th><th>referencedIdno</th><th>poznamkaRozvrhare</th><th>nekonaSe</th><th>owner</th><th>zakazaneAkce</th></tr><tr><td>i64</td><td>str</td><td>str</td><td>str</td><td>str</td><td>i64</td><td>i64</td><td>str</td><td>str</td><td>str</td><td>str</td><td>str</td><td>str</td><td>i64</td><td>i64</td><td>str</td><td>f64</td><td>i64</td><td>i64</td><td>i64</td><td>str</td><td>str</td><td>str</td><td>str</td><td>str</td><td>str</td><td>i64</td><td>i64</td><td>i64</td><td>str</td><td>str</td><td>i64</td><td>i64</td><td>str</td><td>str</td><td>i64</td><td>str</td><td>str</td><td>str</td><td>str</td><td>str</td><td>str</td><td>str</td><td>str</td><td>str</td><td>str</td><td>str</td><td>str</td><td>str</td><td>i64</td><td>str</td><td>str</td><td>str</td><td>str</td></tr></thead><tbody><tr><td>446685</td><td>&quot;Počítačové sít…</td><td>&quot;KI&quot;</td><td>&quot;PSI&quot;</td><td>null</td><td>2776</td><td>2776</td><td>&quot;Jan&quot;</td><td>&quot;Krejčí&quot;</td><td>&quot;RNDr.&quot;</td><td>&quot;Ph.D.&quot;</td><td>&quot;A&quot;</td><td>&quot;A&quot;</td><td>100</td><td>2022</td><td>&quot;CP&quot;</td><td>7.07</td><td>12</td><td>12</td><td>3</td><td>&quot;Cvičení&quot;</td><td>&quot;Cv&quot;</td><td>&quot;A&quot;</td><td>&quot;Pondělí&quot;</td><td>&quot;Po&quot;</td><td>null</td><td>4</td><td>5</td><td>2</td><td>&quot;10:00&quot;</td><td>&quot;11:50&quot;</td><td>40</td><td>1</td><td>&quot;Každý&quot;</td><td>&quot;K&quot;</td><td>null</td><td>&quot;N&quot;</td><td>&quot;N&quot;</td><td>&quot;Automaticky vy…</td><td>&quot;3.IS&quot;</td><td>&quot;UJEP&quot;</td><td>null</td><td>&quot;03.10.2022&quot;</td><td>&quot;02.01.2023&quot;</td><td>&quot;R&quot;</td><td>&quot;2776&quot;</td><td>&quot;RNDr. Jan Krej…</td><td>&quot;&#x27;RNDr. Jan Kre…</td><td>&quot;Krejčí&quot;</td><td>446685</td><td>null</td><td>null</td><td>&quot;PETRUSPRF&quot;</td><td>null</td></tr><tr><td>446500</td><td>&quot;Základy počíta…</td><td>&quot;KI&quot;</td><td>&quot;ZPS&quot;</td><td>null</td><td>2776</td><td>2776</td><td>&quot;Jan&quot;</td><td>&quot;Krejčí&quot;</td><td>&quot;RNDr.&quot;</td><td>&quot;Ph.D.&quot;</td><td>&quot;A&quot;</td><td>&quot;A&quot;</td><td>100</td><td>2022</td><td>&quot;MF&quot;</td><td>1.54</td><td>315</td><td>180</td><td>170</td><td>&quot;Přednáška&quot;</td><td>&quot;Př&quot;</td><td>&quot;A&quot;</td><td>&quot;Pondělí&quot;</td><td>&quot;Po&quot;</td><td>null</td><td>7</td><td>8</td><td>2</td><td>&quot;13:00&quot;</td><td>&quot;14:50&quot;</td><td>40</td><td>1</td><td>&quot;Každý&quot;</td><td>&quot;K&quot;</td><td>null</td><td>&quot;N&quot;</td><td>&quot;N&quot;</td><td>&quot;Automaticky vy…</td><td>&quot;1.API Bc&quot;</td><td>&quot;UJEP&quot;</td><td>null</td><td>&quot;03.10.2022&quot;</td><td>&quot;02.01.2023&quot;</td><td>&quot;R&quot;</td><td>&quot;2776&quot;</td><td>&quot;RNDr. Jan Krej…</td><td>&quot;&#x27;RNDr. Jan Kre…</td><td>&quot;Krejčí&quot;</td><td>446500</td><td>null</td><td>null</td><td>&quot;PETRUSPRF&quot;</td><td>null</td></tr><tr><td>446519</td><td>&quot;Didaktika prog…</td><td>&quot;KI&quot;</td><td>&quot;DPG&quot;</td><td>null</td><td>1165</td><td>1165</td><td>&quot;Kamil&quot;</td><td>&quot;Balín&quot;</td><td>&quot;Mgr.&quot;</td><td>null</td><td>&quot;A&quot;</td><td>&quot;A&quot;</td><td>100</td><td>2022</td><td>&quot;CP&quot;</td><td>7.06</td><td>24</td><td>20</td><td>14</td><td>&quot;Seminář&quot;</td><td>&quot;Se&quot;</td><td>&quot;A&quot;</td><td>&quot;Pondělí&quot;</td><td>&quot;Po&quot;</td><td>null</td><td>8</td><td>9</td><td>2</td><td>&quot;14:00&quot;</td><td>&quot;15:50&quot;</td><td>40</td><td>1</td><td>&quot;Každý&quot;</td><td>&quot;K&quot;</td><td>null</td><td>&quot;N&quot;</td><td>&quot;N&quot;</td><td>&quot;Automaticky vy…</td><td>&quot;2.API Bc,3.IS,…</td><td>&quot;UJEP&quot;</td><td>null</td><td>&quot;03.10.2022&quot;</td><td>&quot;02.01.2023&quot;</td><td>&quot;R&quot;</td><td>&quot;1165&quot;</td><td>&quot;Mgr. Kamil Bal…</td><td>&quot;&#x27;Mgr. Kamil Ba…</td><td>&quot;Balín&quot;</td><td>446519</td><td>null</td><td>&quot;17.10.2022: Od…</td><td>&quot;PETRUSPRF&quot;</td><td>null</td></tr><tr><td>446723</td><td>&quot;Informační a k…</td><td>&quot;KI&quot;</td><td>&quot;IKT&quot;</td><td>null</td><td>835</td><td>835</td><td>&quot;Květuše&quot;</td><td>&quot;Sýkorová&quot;</td><td>&quot;Mgr.&quot;</td><td>null</td><td>&quot;A&quot;</td><td>&quot;A&quot;</td><td>100</td><td>2022</td><td>&quot;CP&quot;</td><td>-1.21</td><td>31</td><td>30</td><td>30</td><td>&quot;Seminář&quot;</td><td>&quot;Se&quot;</td><td>&quot;A&quot;</td><td>&quot;Úterý&quot;</td><td>&quot;Út&quot;</td><td>null</td><td>10</td><td>11</td><td>2</td><td>&quot;16:00&quot;</td><td>&quot;17:50&quot;</td><td>40</td><td>1</td><td>&quot;Každý&quot;</td><td>&quot;K&quot;</td><td>null</td><td>&quot;N&quot;</td><td>&quot;N&quot;</td><td>&quot;Automaticky vy…</td><td>&quot;1.MvFVS,1.NANO…</td><td>&quot;UJEP&quot;</td><td>null</td><td>&quot;04.10.2022&quot;</td><td>&quot;03.01.2023&quot;</td><td>&quot;R&quot;</td><td>&quot;835&quot;</td><td>&quot;Mgr. Květuše S…</td><td>&quot;&#x27;Mgr. Květuše …</td><td>&quot;Sýkorová&quot;</td><td>446723</td><td>null</td><td>&quot;25.10.2022: Od…</td><td>&quot;PETRUSPRF&quot;</td><td>null</td></tr><tr><td>451651</td><td>&quot;Semestrální pr…</td><td>&quot;KI&quot;</td><td>&quot;KSP3&quot;</td><td>null</td><td>6259</td><td>6259</td><td>&quot;Jiří&quot;</td><td>&quot;Škvára&quot;</td><td>&quot;RNDr.&quot;</td><td>&quot;Ph.D.&quot;</td><td>&quot;A&quot;</td><td>&quot;A&quot;</td><td>100</td><td>2022</td><td>&quot;CP&quot;</td><td>6.04</td><td>2</td><td>1</td><td>1</td><td>&quot;Seminář&quot;</td><td>&quot;Se&quot;</td><td>&quot;A&quot;</td><td>&quot;Úterý&quot;</td><td>&quot;Út&quot;</td><td>null</td><td>12</td><td>13</td><td>2</td><td>&quot;18:00&quot;</td><td>&quot;19:50&quot;</td><td>1</td><td>1</td><td>&quot;Jiný&quot;</td><td>&quot;J&quot;</td><td>28039</td><td>&quot;N&quot;</td><td>&quot;N&quot;</td><td>&quot;Automaticky vy…</td><td>&quot;2.KAPI N&quot;</td><td>&quot;UJEP&quot;</td><td>null</td><td>&quot;03.01.2023&quot;</td><td>&quot;03.01.2023&quot;</td><td>&quot;R&quot;</td><td>&quot;6259&quot;</td><td>&quot;RNDr. Jiří Škv…</td><td>&quot;&#x27;RNDr. Jiří Šk…</td><td>&quot;Škvára&quot;</td><td>451651</td><td>null</td><td>null</td><td>&quot;PETRUSPRF&quot;</td><td>null</td></tr></tbody></table></div>"
      ],
      "text/plain": [
       "shape: (5, 54)\n",
       "┌──────────┬────────────┬─────────┬─────────┬───┬────────────┬────────────┬───────────┬────────────┐\n",
       "│ roakIdno ┆ nazev      ┆ katedra ┆ zkratka ┆ … ┆ poznamkaRo ┆ nekonaSe   ┆ owner     ┆ zakazaneAk │\n",
       "│ ---      ┆ ---        ┆ ---     ┆ ---     ┆   ┆ zvrhare    ┆ ---        ┆ ---       ┆ ce         │\n",
       "│ i64      ┆ str        ┆ str     ┆ str     ┆   ┆ ---        ┆ str        ┆ str       ┆ ---        │\n",
       "│          ┆            ┆         ┆         ┆   ┆ str        ┆            ┆           ┆ str        │\n",
       "╞══════════╪════════════╪═════════╪═════════╪═══╪════════════╪════════════╪═══════════╪════════════╡\n",
       "│ 446685   ┆ Počítačové ┆ KI      ┆ PSI     ┆ … ┆ null       ┆ null       ┆ PETRUSPRF ┆ null       │\n",
       "│          ┆ sítě       ┆         ┆         ┆   ┆            ┆            ┆           ┆            │\n",
       "│ 446500   ┆ Základy    ┆ KI      ┆ ZPS     ┆ … ┆ null       ┆ null       ┆ PETRUSPRF ┆ null       │\n",
       "│          ┆ počítačový ┆         ┆         ┆   ┆            ┆            ┆           ┆            │\n",
       "│          ┆ ch sítí    ┆         ┆         ┆   ┆            ┆            ┆           ┆            │\n",
       "│          ┆ a prot…    ┆         ┆         ┆   ┆            ┆            ┆           ┆            │\n",
       "│ 446519   ┆ Didaktika  ┆ KI      ┆ DPG     ┆ … ┆ null       ┆ 17.10.2022 ┆ PETRUSPRF ┆ null       │\n",
       "│          ┆ programová ┆         ┆         ┆   ┆            ┆ : Odpadá   ┆           ┆            │\n",
       "│          ┆ ní         ┆         ┆         ┆   ┆            ┆            ┆           ┆            │\n",
       "│ 446723   ┆ Informační ┆ KI      ┆ IKT     ┆ … ┆ null       ┆ 25.10.2022 ┆ PETRUSPRF ┆ null       │\n",
       "│          ┆ a komunika ┆         ┆         ┆   ┆            ┆ : Odpadá,8 ┆           ┆            │\n",
       "│          ┆ ční        ┆         ┆         ┆   ┆            ┆ .11.2022:  ┆           ┆            │\n",
       "│          ┆ technol…   ┆         ┆         ┆   ┆            ┆ Od…        ┆           ┆            │\n",
       "│ 451651   ┆ Semestráln ┆ KI      ┆ KSP3    ┆ … ┆ null       ┆ null       ┆ PETRUSPRF ┆ null       │\n",
       "│          ┆ í projekt  ┆         ┆         ┆   ┆            ┆            ┆           ┆            │\n",
       "│          ┆ III        ┆         ┆         ┆   ┆            ┆            ┆           ┆            │\n",
       "└──────────┴────────────┴─────────┴─────────┴───┴────────────┴────────────┴───────────┴────────────┘"
      ]
     },
     "execution_count": 156,
     "metadata": {},
     "output_type": "execute_result"
    }
   ],
   "source": [
    "rozvrh_by_kat.head()\n",
    "# predmety_by_kat.head()"
   ]
  },
  {
   "cell_type": "code",
   "execution_count": 39,
   "metadata": {},
   "outputs": [
    {
     "data": {
      "text/html": [
       "<div><style>\n",
       ".dataframe > thead > tr,\n",
       ".dataframe > tbody > tr {\n",
       "  text-align: right;\n",
       "  white-space: pre-wrap;\n",
       "}\n",
       "</style>\n",
       "<small>shape: (5, 4)</small><table border=\"1\" class=\"dataframe\"><thead><tr><th>zkratka</th><th>idno</th><th>typAkceZkr</th><th>rok</th></tr><tr><td>str</td><td>str</td><td>str</td><td>i64</td></tr></thead><tbody><tr><td>&quot;GUI&quot;</td><td>&quot;650&quot;</td><td>&quot;Př&quot;</td><td>2023</td></tr><tr><td>&quot;GUI&quot;</td><td>&quot;6973&quot;</td><td>&quot;Př&quot;</td><td>2023</td></tr><tr><td>&quot;EGUI&quot;</td><td>&quot;6973&quot;</td><td>&quot;Cv&quot;</td><td>2023</td></tr><tr><td>&quot;EGUI&quot;</td><td>&quot;650&quot;</td><td>&quot;Cv&quot;</td><td>2023</td></tr><tr><td>&quot;APR2&quot;</td><td>&quot;6973&quot;</td><td>&quot;Cv&quot;</td><td>2023</td></tr></tbody></table></div>"
      ],
      "text/plain": [
       "shape: (5, 4)\n",
       "┌─────────┬──────┬────────────┬──────┐\n",
       "│ zkratka ┆ idno ┆ typAkceZkr ┆ rok  │\n",
       "│ ---     ┆ ---  ┆ ---        ┆ ---  │\n",
       "│ str     ┆ str  ┆ str        ┆ i64  │\n",
       "╞═════════╪══════╪════════════╪══════╡\n",
       "│ GUI     ┆ 650  ┆ Př         ┆ 2023 │\n",
       "│ GUI     ┆ 6973 ┆ Př         ┆ 2023 │\n",
       "│ EGUI    ┆ 6973 ┆ Cv         ┆ 2023 │\n",
       "│ EGUI    ┆ 650  ┆ Cv         ┆ 2023 │\n",
       "│ APR2    ┆ 6973 ┆ Cv         ┆ 2023 │\n",
       "└─────────┴──────┴────────────┴──────┘"
      ]
     },
     "execution_count": 39,
     "metadata": {},
     "output_type": "execute_result"
    }
   ],
   "source": [
    "maly_rozvrh = rozvrh_by_kat.select([\"zkratka\", \"vsichniUciteleUcitIdno\", \"typAkceZkr\", \"rok\"])\n",
    "maly_rozvrh = maly_rozvrh.with_columns(pl.col(\"vsichniUciteleUcitIdno\").str.split(\", \")).explode(\"vsichniUciteleUcitIdno\").rename({\"vsichniUciteleUcitIdno\": \"idno\"})\n",
    "maly_rozvrh.head()"
   ]
  },
  {
   "cell_type": "code",
   "execution_count": 158,
   "metadata": {},
   "outputs": [],
   "source": [
    "# predmety_by_kat"
   ]
  },
  {
   "cell_type": "code",
   "execution_count": 159,
   "metadata": {},
   "outputs": [
    {
     "data": {
      "text/html": [
       "<div><style>\n",
       ".dataframe > thead > tr > th,\n",
       ".dataframe > tbody > tr > td {\n",
       "  text-align: right;\n",
       "}\n",
       "</style>\n",
       "<small>shape: (5, 69)</small><table border=\"1\" class=\"dataframe\"><thead><tr><th>katedra</th><th>zkratka</th><th>rok</th><th>nazev</th><th>nazevDlouhy</th><th>vyukaZS</th><th>vyukaLS</th><th>kreditu</th><th>viceZapis</th><th>minObsazeni</th><th>garanti</th><th>garantiSPodily</th><th>garantiUcitIdno</th><th>prednasejici</th><th>prednasejiciSPodily</th><th>prednasejiciUcitIdno</th><th>cvicici</th><th>cviciciSPodily</th><th>cviciciUcitIdno</th><th>seminarici</th><th>seminariciSPodily</th><th>seminariciUcitIdno</th><th>schvalujiciUznani</th><th>schvalujiciUznaniUcitIdno</th><th>examinatori</th><th>examinatoriUcitIdno</th><th>podminujiciPredmety</th><th>vylucujiciPredmety</th><th>podminujePredmety</th><th>literatura</th><th>nahrazPredmety</th><th>metodyVyucovaci</th><th>metodyHodnotici</th><th>akreditovan</th><th>jednotekPrednasek</th><th>jednotkaPrednasky</th><th>jednotekCviceni</th><th>jednotkaCviceni</th><th>jednotekSeminare</th><th>jednotkaSeminare</th><th>anotace</th><th>typZkousky</th><th>maZapocetPredZk</th><th>formaZkousky</th><th>pozadavky</th><th>prehledLatky</th><th>predpoklady</th><th>ziskaneZpusobilosti</th><th>casovaNarocnost</th><th>predmetUrl</th><th>vyucovaciJazyky</th><th>poznamka</th><th>ectsZobrazit</th><th>ectsAkreditace</th><th>ectsNabizetUPrijezdu</th><th>poznamkaVerejna</th><th>skupinaAkreditace</th><th>skupinaAkreditaceKey</th><th>zarazenDoPrezencnihoStudia</th><th>zarazenDoKombinovanehoStudia</th><th>studijniOpory</th><th>praxePocetDnu</th><th>urovenNastavena</th><th>urovenVypoctena</th><th>automatickyUznavatZppZk</th><th>hodZaSemKombForma</th><th>aMax</th><th>bMax</th><th>cMax</th></tr><tr><td>str</td><td>str</td><td>i64</td><td>str</td><td>str</td><td>str</td><td>str</td><td>i64</td><td>str</td><td>str</td><td>str</td><td>str</td><td>str</td><td>str</td><td>str</td><td>str</td><td>str</td><td>str</td><td>str</td><td>str</td><td>str</td><td>str</td><td>str</td><td>str</td><td>str</td><td>str</td><td>str</td><td>str</td><td>str</td><td>str</td><td>str</td><td>str</td><td>str</td><td>str</td><td>i64</td><td>str</td><td>i64</td><td>str</td><td>i64</td><td>str</td><td>str</td><td>str</td><td>str</td><td>str</td><td>str</td><td>str</td><td>str</td><td>str</td><td>str</td><td>str</td><td>str</td><td>str</td><td>str</td><td>str</td><td>str</td><td>str</td><td>str</td><td>str</td><td>str</td><td>str</td><td>str</td><td>i64</td><td>str</td><td>str</td><td>str</td><td>i64</td><td>str</td><td>str</td><td>i64</td></tr></thead><tbody><tr><td>&quot;KI&quot;</td><td>&quot;AHW&quot;</td><td>2022</td><td>&quot;Praktické apli…</td><td>&quot;Praktické apli…</td><td>&quot;A&quot;</td><td>&quot;N&quot;</td><td>1</td><td>&quot;NE&quot;</td><td>null</td><td>&quot;&#x27;RNDr. Jan Kre…</td><td>&quot;&#x27;RNDr. Jan Kre…</td><td>&quot;2776&quot;</td><td>null</td><td>null</td><td>null</td><td>null</td><td>null</td><td>null</td><td>&quot;&#x27;Mgr. Kamil Ba…</td><td>&quot;&#x27;Mgr. Kamil Ba…</td><td>&quot;1165, 1780, 27…</td><td>null</td><td>null</td><td>null</td><td>null</td><td>null</td><td>null</td><td>null</td><td>&quot;&#x27;http://www.ea…</td><td>null</td><td>null</td><td>null</td><td>&quot;N&quot;</td><td>0</td><td>&quot;HOD/SEM&quot;</td><td>0</td><td>&quot;HOD/SEM&quot;</td><td>17</td><td>&quot;HOD/SEM&quot;</td><td>&quot;Seminář je zam…</td><td>&quot;Zápočet&quot;</td><td>&quot;NE&quot;</td><td>&quot;Kombinovaná&quot;</td><td>&quot;Aktivní účast …</td><td>&quot;1.\tSimulace čí…</td><td>null</td><td>null</td><td>null</td><td>null</td><td>&quot;Čeština&quot;</td><td>null</td><td>&quot;A&quot;</td><td>&quot;N&quot;</td><td>&quot;N&quot;</td><td>null</td><td>null</td><td>null</td><td>&quot;A&quot;</td><td>&quot;A&quot;</td><td>null</td><td>0</td><td>null</td><td>&quot;Bc.&quot;</td><td>&quot;A&quot;</td><td>null</td><td>null</td><td>null</td><td>null</td></tr><tr><td>&quot;KI&quot;</td><td>&quot;A201&quot;</td><td>2022</td><td>&quot;DMS and Team C…</td><td>&quot;Document Manag…</td><td>&quot;A&quot;</td><td>&quot;A&quot;</td><td>2</td><td>&quot;NE&quot;</td><td>null</td><td>&quot;&#x27;RNDr. Petr Ku…</td><td>&quot;&#x27;RNDr. Petr Ku…</td><td>&quot;650&quot;</td><td>null</td><td>null</td><td>null</td><td>null</td><td>null</td><td>null</td><td>&quot;&#x27;Ing. Pavel Ku…</td><td>&quot;&#x27;Ing. Pavel Ku…</td><td>&quot;2317&quot;</td><td>null</td><td>null</td><td>null</td><td>null</td><td>null</td><td>null</td><td>null</td><td>null</td><td>&quot;KI/0201&quot;</td><td>null</td><td>null</td><td>&quot;A&quot;</td><td>0</td><td>&quot;HOD/TYD&quot;</td><td>0</td><td>&quot;HOD/TYD&quot;</td><td>2</td><td>&quot;HOD/TYD&quot;</td><td>null</td><td>&quot;Zápočet&quot;</td><td>&quot;NE&quot;</td><td>&quot;Kombinovaná&quot;</td><td>null</td><td>null</td><td>null</td><td>null</td><td>null</td><td>null</td><td>&quot;Angličtina&quot;</td><td>null</td><td>&quot;A&quot;</td><td>&quot;N&quot;</td><td>&quot;N&quot;</td><td>null</td><td>null</td><td>null</td><td>&quot;A&quot;</td><td>&quot;A&quot;</td><td>null</td><td>0</td><td>null</td><td>&quot;Bc.&quot;</td><td>&quot;A&quot;</td><td>0</td><td>null</td><td>null</td><td>null</td></tr><tr><td>&quot;KI&quot;</td><td>&quot;DI1&quot;</td><td>2022</td><td>&quot;Didaktika info…</td><td>&quot;Didaktika info…</td><td>&quot;A&quot;</td><td>&quot;N&quot;</td><td>2</td><td>&quot;NE&quot;</td><td>null</td><td>&quot;&#x27;RNDr. Jan Kre…</td><td>&quot;&#x27;RNDr. Jan Kre…</td><td>&quot;2776&quot;</td><td>null</td><td>null</td><td>null</td><td>null</td><td>null</td><td>null</td><td>&quot;&#x27;Mgr. Kamil Ba…</td><td>&quot;&#x27;Mgr. Kamil Ba…</td><td>&quot;1165, 2776&quot;</td><td>null</td><td>null</td><td>null</td><td>null</td><td>null</td><td>null</td><td>&quot;KI/DI2&quot;</td><td>null</td><td>null</td><td>null</td><td>null</td><td>&quot;N&quot;</td><td>0</td><td>&quot;HOD/TYD&quot;</td><td>0</td><td>&quot;HOD/TYD&quot;</td><td>2</td><td>&quot;HOD/TYD&quot;</td><td>null</td><td>&quot;Zápočet&quot;</td><td>&quot;NE&quot;</td><td>&quot;Kombinovaná&quot;</td><td>&quot;1. tvořivá prá…</td><td>&quot;\n",
       "1. Význam a r…</td><td>null</td><td>null</td><td>null</td><td>null</td><td>&quot;Čeština&quot;</td><td>null</td><td>&quot;A&quot;</td><td>&quot;N&quot;</td><td>&quot;N&quot;</td><td>null</td><td>null</td><td>null</td><td>&quot;A&quot;</td><td>&quot;N&quot;</td><td>null</td><td>0</td><td>null</td><td>&quot;Mgr.&quot;</td><td>&quot;A&quot;</td><td>0</td><td>null</td><td>null</td><td>null</td></tr><tr><td>&quot;KI&quot;</td><td>&quot;DPG&quot;</td><td>2022</td><td>&quot;Didaktika prog…</td><td>&quot;Didaktika prog…</td><td>&quot;A&quot;</td><td>&quot;N&quot;</td><td>2</td><td>&quot;NE&quot;</td><td>null</td><td>&quot;&#x27;Mgr. Kamil Ba…</td><td>&quot;&#x27;Mgr. Kamil Ba…</td><td>&quot;1165&quot;</td><td>null</td><td>null</td><td>null</td><td>null</td><td>null</td><td>null</td><td>&quot;&#x27;Mgr. Kamil Ba…</td><td>&quot;&#x27;Mgr. Kamil Ba…</td><td>&quot;1165&quot;</td><td>null</td><td>null</td><td>null</td><td>null</td><td>null</td><td>null</td><td>null</td><td>null</td><td>null</td><td>&quot;Pracovní činno…</td><td>&quot;Rozbor produkt…</td><td>&quot;N&quot;</td><td>0</td><td>&quot;HOD/TYD&quot;</td><td>0</td><td>&quot;HOD/TYD&quot;</td><td>2</td><td>&quot;HOD/TYD&quot;</td><td>&quot;Student využij…</td><td>&quot;Zápočet&quot;</td><td>&quot;NE&quot;</td><td>&quot;Kombinovaná&quot;</td><td>&quot;-\tAktivní účas…</td><td>&quot;1.\tCíle, prost…</td><td>null</td><td>&quot;Absolvent kurz…</td><td>null</td><td>null</td><td>&quot;Čeština&quot;</td><td>null</td><td>&quot;A&quot;</td><td>&quot;N&quot;</td><td>&quot;N&quot;</td><td>null</td><td>null</td><td>null</td><td>&quot;A&quot;</td><td>&quot;A&quot;</td><td>null</td><td>0</td><td>null</td><td>&quot;Bc.&quot;</td><td>&quot;A&quot;</td><td>null</td><td>null</td><td>null</td><td>null</td></tr><tr><td>&quot;KI&quot;</td><td>&quot;DP2O&quot;</td><td>2022</td><td>&quot;Diplomová prác…</td><td>&quot;Diplomová prác…</td><td>&quot;A&quot;</td><td>&quot;A&quot;</td><td>10</td><td>&quot;NE&quot;</td><td>null</td><td>null</td><td>null</td><td>null</td><td>null</td><td>null</td><td>null</td><td>null</td><td>null</td><td>null</td><td>null</td><td>null</td><td>null</td><td>null</td><td>null</td><td>null</td><td>null</td><td>null</td><td>null</td><td>null</td><td>null</td><td>null</td><td>null</td><td>null</td><td>&quot;N&quot;</td><td>0</td><td>&quot;HOD/TYD&quot;</td><td>0</td><td>&quot;HOD/TYD&quot;</td><td>0</td><td>&quot;HOD/TYD&quot;</td><td>&quot;Cílem kurzu je…</td><td>&quot;Zkouška&quot;</td><td>&quot;NE&quot;</td><td>&quot;Kombinovaná&quot;</td><td>&quot;Zápočet uděluj…</td><td>null</td><td>null</td><td>null</td><td>null</td><td>null</td><td>&quot;Čeština&quot;</td><td>null</td><td>&quot;A&quot;</td><td>&quot;N&quot;</td><td>&quot;N&quot;</td><td>null</td><td>null</td><td>null</td><td>&quot;A&quot;</td><td>&quot;N&quot;</td><td>null</td><td>0</td><td>null</td><td>&quot;Mgr.&quot;</td><td>&quot;A&quot;</td><td>0</td><td>null</td><td>null</td><td>null</td></tr></tbody></table></div>"
      ],
      "text/plain": [
       "shape: (5, 69)\n",
       "┌─────────┬─────────┬──────┬──────────────────────────┬───┬───────────────────┬──────┬──────┬──────┐\n",
       "│ katedra ┆ zkratka ┆ rok  ┆ nazev                    ┆ … ┆ hodZaSemKombForma ┆ aMax ┆ bMax ┆ cMax │\n",
       "│ ---     ┆ ---     ┆ ---  ┆ ---                      ┆   ┆ ---               ┆ ---  ┆ ---  ┆ ---  │\n",
       "│ str     ┆ str     ┆ i64  ┆ str                      ┆   ┆ i64               ┆ str  ┆ str  ┆ i64  │\n",
       "╞═════════╪═════════╪══════╪══════════════════════════╪═══╪═══════════════════╪══════╪══════╪══════╡\n",
       "│ KI      ┆ AHW     ┆ 2022 ┆ Praktické aplikace       ┆ … ┆ null              ┆ null ┆ null ┆ null │\n",
       "│         ┆         ┆      ┆ hardwaru                 ┆   ┆                   ┆      ┆      ┆      │\n",
       "│ KI      ┆ A201    ┆ 2022 ┆ DMS and Team             ┆ … ┆ 0                 ┆ null ┆ null ┆ null │\n",
       "│         ┆         ┆      ┆ Collaboration Tools      ┆   ┆                   ┆      ┆      ┆      │\n",
       "│ KI      ┆ DI1     ┆ 2022 ┆ Didaktika informatiky I  ┆ … ┆ 0                 ┆ null ┆ null ┆ null │\n",
       "│ KI      ┆ DPG     ┆ 2022 ┆ Didaktika programování   ┆ … ┆ null              ┆ null ┆ null ┆ null │\n",
       "│ KI      ┆ DP2O    ┆ 2022 ┆ Diplomová práce          ┆ … ┆ 0                 ┆ null ┆ null ┆ null │\n",
       "└─────────┴─────────┴──────┴──────────────────────────┴───┴───────────────────┴──────┴──────┴──────┘"
      ]
     },
     "execution_count": 159,
     "metadata": {},
     "output_type": "execute_result"
    }
   ],
   "source": [
    "from pprint import pprint\n",
    "# pprint(predmety_by_kat.columns,compact=True)\n",
    "predmety_by_kat.head()"
   ]
  },
  {
   "cell_type": "code",
   "execution_count": 40,
   "metadata": {},
   "outputs": [
    {
     "name": "stderr",
     "output_type": "stream",
     "text": [
      "C:\\Users\\Matej\\AppData\\Local\\Temp\\ipykernel_5744\\146331105.py:1: DeprecationWarning: `where` is deprecated. Use `filter` instead.\n",
      "  male_predmety = predmety_by_kat.select(pl.col([\"zkratka\", \"katedra\", \"rok\", \"nazev\", \"garantiUcitIdno\", \"prednasejiciUcitIdno\", \"cviciciUcitIdno\", \"seminariciUcitIdno\"]).where(pl.col(\"zkratka\").is_unique()))\n"
     ]
    },
    {
     "data": {
      "text/html": [
       "<div><style>\n",
       ".dataframe > thead > tr,\n",
       ".dataframe > tbody > tr {\n",
       "  text-align: right;\n",
       "  white-space: pre-wrap;\n",
       "}\n",
       "</style>\n",
       "<small>shape: (5, 8)</small><table border=\"1\" class=\"dataframe\"><thead><tr><th>zkratka</th><th>katedra</th><th>rok</th><th>nazev</th><th>garantiUcitIdno</th><th>prednasejiciUcitIdno</th><th>cviciciUcitIdno</th><th>seminariciUcitIdno</th></tr><tr><td>str</td><td>str</td><td>i64</td><td>str</td><td>list[str]</td><td>list[str]</td><td>list[str]</td><td>list[str]</td></tr></thead><tbody><tr><td>&quot;EDSY&quot;</td><td>&quot;KI&quot;</td><td>2023</td><td>&quot;Database Syste…</td><td>[&quot;251&quot;]</td><td>[&quot;251&quot;, &quot;2239&quot;]</td><td>[&quot;251&quot;, &quot;2239&quot;]</td><td>null</td></tr><tr><td>&quot;ESEC&quot;</td><td>&quot;KI&quot;</td><td>2023</td><td>&quot;Security Techn…</td><td>[&quot;2776&quot;]</td><td>[&quot;2776&quot;]</td><td>[&quot;2776&quot;]</td><td>null</td></tr><tr><td>&quot;ICT&quot;</td><td>&quot;KI&quot;</td><td>2023</td><td>&quot;Informační a k…</td><td>[&quot;2317&quot;]</td><td>null</td><td>null</td><td>[&quot;1165&quot;, &quot;449&quot;, … &quot;835&quot;]</td></tr><tr><td>&quot;KANE&quot;</td><td>&quot;KI&quot;</td><td>2023</td><td>&quot;Analogová elek…</td><td>[&quot;5232&quot;]</td><td>[&quot;5232&quot;]</td><td>[&quot;5232&quot;]</td><td>null</td></tr><tr><td>&quot;KBIG&quot;</td><td>&quot;KI&quot;</td><td>2023</td><td>&quot;Datová úložišt…</td><td>[&quot;251&quot;]</td><td>[&quot;251&quot;, &quot;650&quot;, &quot;4195&quot;]</td><td>[&quot;6973&quot;, &quot;251&quot;, … &quot;835&quot;]</td><td>[&quot;6973&quot;, &quot;251&quot;, &quot;650&quot;]</td></tr></tbody></table></div>"
      ],
      "text/plain": [
       "shape: (5, 8)\n",
       "┌─────────┬─────────┬──────┬──────────────┬──────────────┬─────────────┬─────────────┬─────────────┐\n",
       "│ zkratka ┆ katedra ┆ rok  ┆ nazev        ┆ garantiUcitI ┆ prednasejic ┆ cviciciUcit ┆ seminariciU │\n",
       "│ ---     ┆ ---     ┆ ---  ┆ ---          ┆ dno          ┆ iUcitIdno   ┆ Idno        ┆ citIdno     │\n",
       "│ str     ┆ str     ┆ i64  ┆ str          ┆ ---          ┆ ---         ┆ ---         ┆ ---         │\n",
       "│         ┆         ┆      ┆              ┆ list[str]    ┆ list[str]   ┆ list[str]   ┆ list[str]   │\n",
       "╞═════════╪═════════╪══════╪══════════════╪══════════════╪═════════════╪═════════════╪═════════════╡\n",
       "│ EDSY    ┆ KI      ┆ 2023 ┆ Database     ┆ [\"251\"]      ┆ [\"251\",     ┆ [\"251\",     ┆ null        │\n",
       "│         ┆         ┆      ┆ Systems      ┆              ┆ \"2239\"]     ┆ \"2239\"]     ┆             │\n",
       "│ ESEC    ┆ KI      ┆ 2023 ┆ Security     ┆ [\"2776\"]     ┆ [\"2776\"]    ┆ [\"2776\"]    ┆ null        │\n",
       "│         ┆         ┆      ┆ Technologies ┆              ┆             ┆             ┆             │\n",
       "│ ICT     ┆ KI      ┆ 2023 ┆ Informační a ┆ [\"2317\"]     ┆ null        ┆ null        ┆ [\"1165\",    │\n",
       "│         ┆         ┆      ┆ komunikační  ┆              ┆             ┆             ┆ \"449\", …    │\n",
       "│         ┆         ┆      ┆ technol…     ┆              ┆             ┆             ┆ \"835\"]      │\n",
       "│ KANE    ┆ KI      ┆ 2023 ┆ Analogová    ┆ [\"5232\"]     ┆ [\"5232\"]    ┆ [\"5232\"]    ┆ null        │\n",
       "│         ┆         ┆      ┆ elektronika  ┆              ┆             ┆             ┆             │\n",
       "│ KBIG    ┆ KI      ┆ 2023 ┆ Datová       ┆ [\"251\"]      ┆ [\"251\",     ┆ [\"6973\",    ┆ [\"6973\",    │\n",
       "│         ┆         ┆      ┆ úložiště     ┆              ┆ \"650\",      ┆ \"251\", …    ┆ \"251\",      │\n",
       "│         ┆         ┆      ┆ a nástroje   ┆              ┆ \"4195\"]     ┆ \"835\"]      ┆ \"650\"]      │\n",
       "│         ┆         ┆      ┆ pro B…       ┆              ┆             ┆             ┆             │\n",
       "└─────────┴─────────┴──────┴──────────────┴──────────────┴─────────────┴─────────────┴─────────────┘"
      ]
     },
     "execution_count": 40,
     "metadata": {},
     "output_type": "execute_result"
    }
   ],
   "source": [
    "male_predmety = predmety_by_kat.select(pl.col([\"zkratka\", \"katedra\", \"rok\", \"nazev\", \"garantiUcitIdno\", \"prednasejiciUcitIdno\", \"cviciciUcitIdno\", \"seminariciUcitIdno\"]).where(pl.col(\"zkratka\").is_unique()))\n",
    "male_predmety = male_predmety.with_columns(pl.col([\"prednasejiciUcitIdno\", \"cviciciUcitIdno\", \"seminariciUcitIdno\", \"garantiUcitIdno\"]).str.split(\", \"))\n",
    "male_predmety.head()"
   ]
  },
  {
   "cell_type": "code",
   "execution_count": 41,
   "metadata": {},
   "outputs": [
    {
     "data": {
      "text/plain": [
       "<xlsxwriter.workbook.Workbook at 0x272114db0b0>"
      ]
     },
     "execution_count": 41,
     "metadata": {},
     "output_type": "execute_result"
    }
   ],
   "source": [
    "# přednášející nemá přednášku:\n",
    "filtrovani_prednasejici = male_predmety.select(\"nazev\", \"zkratka\", \"prednasejiciUcitIdno\").explode(\"prednasejiciUcitIdno\").filter(\n",
    "    pl.col(\"prednasejiciUcitIdno\"\n",
    ").is_not_null()).with_columns(\n",
    "    pl.col(\"prednasejiciUcitIdno\").alias(\"idno\")\n",
    ")\n",
    "joined_prednasejici = filtrovani_prednasejici.join(maly_rozvrh, \"idno\", \"left\")\n",
    "prednasejici_bez_prednasek = joined_prednasejici.filter(pl.col(\"typAkceZkr\").is_null())\n",
    "prednasejici_bez_prednasek.select(\"nazev\", \"zkratka\", \"prednasejiciUcitIdno\").sort(\"prednasejiciUcitIdno\").write_excel(\"results/prednasejici_bez_prednasek.xlsx\")"
   ]
  },
  {
   "cell_type": "code",
   "execution_count": 42,
   "metadata": {},
   "outputs": [
    {
     "data": {
      "text/plain": [
       "<xlsxwriter.workbook.Workbook at 0x27213cf7ce0>"
      ]
     },
     "execution_count": 42,
     "metadata": {},
     "output_type": "execute_result"
    }
   ],
   "source": [
    "# cvičící nemá cvičení:\n",
    "filtrovani_cvicici = male_predmety.select(\"nazev\", \"zkratka\", \"cviciciUcitIdno\").explode(\"cviciciUcitIdno\").filter(\n",
    "    pl.col(\"cviciciUcitIdno\"\n",
    ").is_not_null()).with_columns(\n",
    "    pl.col(\"cviciciUcitIdno\").alias(\"idno\")\n",
    ")\n",
    "joined_cvicici = filtrovani_cvicici.join(maly_rozvrh, \"idno\", \"left\")\n",
    "cvicici_bez_cviceni = joined_cvicici.filter(pl.col(\"typAkceZkr\").is_null())\n",
    "cvicici_bez_cviceni.select(\"nazev\", \"zkratka\", \"cviciciUcitIdno\").sort(\"cviciciUcitIdno\").write_excel(\"results/cvicici_bez_cviceni.xlsx\")"
   ]
  },
  {
   "cell_type": "code",
   "execution_count": 43,
   "metadata": {},
   "outputs": [
    {
     "data": {
      "text/plain": [
       "<xlsxwriter.workbook.Workbook at 0x27213069100>"
      ]
     },
     "execution_count": 43,
     "metadata": {},
     "output_type": "execute_result"
    }
   ],
   "source": [
    "# přednášející nemá přednášku:\n",
    "filtrovani_seminarici = male_predmety.select(\"nazev\", \"zkratka\", \"seminariciUcitIdno\").explode(\"seminariciUcitIdno\").filter(\n",
    "    pl.col(\"seminariciUcitIdno\"\n",
    ").is_not_null()).with_columns(\n",
    "    pl.col(\"seminariciUcitIdno\").alias(\"idno\")\n",
    ")\n",
    "joined_seminarici = filtrovani_seminarici.join(maly_rozvrh, \"idno\", \"left\")\n",
    "seminarici_bez_seminare = joined_seminarici.filter(pl.col(\"typAkceZkr\").is_null())\n",
    "seminarici_bez_seminare.select(\"nazev\", \"zkratka\", \"seminariciUcitIdno\").sort(\"seminariciUcitIdno\").write_excel(\"results/seminarici_bez_seminare.xlsx\")"
   ]
  },
  {
   "attachments": {},
   "cell_type": "markdown",
   "metadata": {},
   "source": [
    "### warning, když je mezi vyučujícími někdo bez odpovídajícího typu rozvrhové akce"
   ]
  },
  {
   "attachments": {},
   "cell_type": "markdown",
   "metadata": {},
   "source": [
    "Pro každého učitele vypíšu předměty, u kterých má mít nějakou akci.\n",
    "\n",
    "Takže budu mít dataframe, kde bude učitel, zkratka, a jeden sloupeček za každý typ akce, kde učitel bude muset mít aspoň 1 narozvrhovaný typ akce s daným předmětem, kde je hodnota `True`"
   ]
  },
  {
   "cell_type": "code",
   "execution_count": 44,
   "metadata": {},
   "outputs": [
    {
     "data": {
      "text/plain": [
       "[shape: (5,)\n",
       " Series: 'typAkceZkr' [str]\n",
       " [\n",
       " \t\"Zápočet\"\n",
       " \t\"Př\"\n",
       " \t\"Cv\"\n",
       " \t\"Zkouška\"\n",
       " \t\"Se\"\n",
       " ]]"
      ]
     },
     "execution_count": 44,
     "metadata": {},
     "output_type": "execute_result"
    }
   ],
   "source": [
    "# vypíšu typy akcí\n",
    "list(maly_rozvrh.select(pl.col(\"typAkceZkr\").unique()))"
   ]
  },
  {
   "cell_type": "code",
   "execution_count": null,
   "metadata": {},
   "outputs": [],
   "source": []
  },
  {
   "attachments": {},
   "cell_type": "markdown",
   "metadata": {},
   "source": [
    "### garant předmětu by měl být někde mezi vyučujícími rozvrhových akcí a pokud má předmět přednášku, měl by být i mezi přednášejícími v rámci rozvrhových akcí"
   ]
  },
  {
   "cell_type": "code",
   "execution_count": null,
   "metadata": {},
   "outputs": [],
   "source": []
  },
  {
   "attachments": {},
   "cell_type": "markdown",
   "metadata": {},
   "source": [
    "### Změny proti akreditacím."
   ]
  },
  {
   "cell_type": "code",
   "execution_count": null,
   "metadata": {},
   "outputs": [],
   "source": []
  },
  {
   "attachments": {},
   "cell_type": "markdown",
   "metadata": {},
   "source": [
    "### Porovnat revize předmětů\n",
    "\n",
    "tj. parametry předmětů pro aktuální akademický rok a pro příští."
   ]
  },
  {
   "attachments": {},
   "cell_type": "markdown",
   "metadata": {},
   "source": [
    "> jakou to má mít podobu?"
   ]
  },
  {
   "cell_type": "code",
   "execution_count": null,
   "metadata": {},
   "outputs": [],
   "source": []
  }
 ],
 "metadata": {
  "kernelspec": {
   "display_name": "venv",
   "language": "python",
   "name": "python3"
  },
  "language_info": {
   "codemirror_mode": {
    "name": "ipython",
    "version": 3
   },
   "file_extension": ".py",
   "mimetype": "text/x-python",
   "name": "python",
   "nbconvert_exporter": "python",
   "pygments_lexer": "ipython3",
   "version": "3.12.0"
  },
  "orig_nbformat": 4
 },
 "nbformat": 4,
 "nbformat_minor": 2
}

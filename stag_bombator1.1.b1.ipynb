{
 "cells": [
  {
   "cell_type": "code",
   "execution_count": 52,
   "metadata": {},
   "outputs": [],
   "source": [
    "import polars as pl\n",
    "from pprint import pprint\n",
    "from typing import List\n",
    "import xlsx_generator as tablegen"
   ]
  },
  {
   "cell_type": "markdown",
   "metadata": {},
   "source": [
    "## Pomocné funkce"
   ]
  },
  {
   "cell_type": "code",
   "execution_count": 53,
   "metadata": {},
   "outputs": [],
   "source": [
    "# Abych nebyl nařčen z plagiátorství, zdroj: https://stackoverflow.com/questions/75954280/how-to-change-the-position-of-a-single-column-in-python-polars-library\n",
    "def replace(df:pl.DataFrame, new_position:int, col_name:str) -> List[str]:\n",
    "    \"\"\"Removes a column at specified position and inserts a named column in its stead.\n",
    "\n",
    "    Args:\n",
    "        df (pl.DataFrame): Modified dataframe.\n",
    "        new_position (int): Position of removed column.\n",
    "        col_name (str): Name of replacing column.\n",
    "\n",
    "    Returns:\n",
    "        List[str]: List of dataframe columns with correct order. Use on a selection to replace the column.\n",
    "    \"\"\"\n",
    "    neworder=df.columns\n",
    "    neworder.pop(new_position)\n",
    "    neworder.remove(col_name)\n",
    "    neworder.insert(new_position,col_name)\n",
    "    return neworder"
   ]
  },
  {
   "cell_type": "code",
   "execution_count": 54,
   "metadata": {},
   "outputs": [],
   "source": [
    "def fix_str_to_int(data:pl.DataFrame, fix_list:list) -> pl.DataFrame:\n",
    "    \"\"\"Converts columns from a provided list from string to list of ints.\n",
    "\n",
    "    Args:\n",
    "        data (pl.DataFrame): Modified dataframe.\n",
    "        fix_list (list): List of columns to convert.\n",
    "\n",
    "    Returns:\n",
    "        pl.DataFrame: Dataframe with fixed columns.\n",
    "    \"\"\"\n",
    "\n",
    "    column_types = data.select(fix_list).dtypes\n",
    "\n",
    "    # Pokud v žádném sloupci není víc hodnot, polars to převede na int automaticky.\n",
    "    for index, column in enumerate(fix_list):\n",
    "        if column_types[index] != pl.String:\n",
    "            fix_list.remove(column)\n",
    "\n",
    "    data = data.with_columns(\n",
    "        pl.col(fix_list)\n",
    "        .str.split(\",\")\n",
    "        .list.eval(\n",
    "            pl.element()\n",
    "            .str.strip_chars()\n",
    "            .cast(pl.Int64, strict=False)\n",
    "        )\n",
    "    )\n",
    "\n",
    "    # Převedení seznamů s pouze None hodnotami na None\n",
    "    for column in fix_list:\n",
    "        data = data.with_columns(pl.when(pl.col(column).list.eval(pl.element().is_null()).list.all()).then(None).otherwise(pl.col(column)).alias(\"bools\"))\n",
    "        data = data.select(replace(data, data.get_column_index(column), \"bools\")).rename({\"bools\":column})\n",
    "\n",
    "    return data\n"
   ]
  },
  {
   "cell_type": "code",
   "execution_count": 55,
   "metadata": {},
   "outputs": [],
   "source": [
    "def prep_csv(dataframe:pl.DataFrame) -> pl.DataFrame:\n",
    "    \"\"\"Prepares dataframe for export to CSV. This is done by converting lists to string.\n",
    "\n",
    "    Args:\n",
    "        dataframe (pl.DataFrame): Prepared dataframe.\n",
    "\n",
    "    Returns:\n",
    "        pl.DataFrame: Dataframe with no lists.\n",
    "    \"\"\"\n",
    "    import numpy as np\n",
    "    type_list = dataframe.dtypes\n",
    "    mask = np.array([isinstance(column, pl.List) for column in type_list])\n",
    "    column_list = np.array(dataframe.columns)\n",
    "\n",
    "    if \"identifier\" in column_list:\n",
    "        dataframe = dataframe.drop(\"identifier\")\n",
    "\n",
    "    list_columns = column_list[mask]\n",
    "    print(list_columns)\n",
    "\n",
    "    for column in list_columns:\n",
    "        dataframe = dataframe.with_columns(pl.col(column).cast(pl.List(pl.Utf8)).list.join(\",\"))\n",
    "    return dataframe\n",
    "    "
   ]
  },
  {
   "cell_type": "markdown",
   "metadata": {},
   "source": [
    "## Načítání"
   ]
  },
  {
   "cell_type": "code",
   "execution_count": 56,
   "metadata": {},
   "outputs": [
    {
     "name": "stdout",
     "output_type": "stream",
     "text": [
      "Moving to: CPPV\n",
      "Fetching CSVs.\n",
      "Fetched CSVs successfully.\n",
      "One or more CSV's are empty. Continuing to next item.\n",
      "Moving to: KBI\n",
      "Fetching CSVs.\n",
      "Fetched CSVs successfully.\n",
      "Ensuring type consistency.\n",
      "Type consistency ensured. Saving testing file and appending the main dataframes.\n",
      "Dataframes appended. Continuing to next item.\n",
      "Moving to: KFY\n",
      "Fetching CSVs.\n",
      "Fetched CSVs successfully.\n",
      "Ensuring type consistency.\n",
      "Type consistency ensured. Saving testing file and appending the main dataframes.\n",
      "Dataframes appended. Continuing to next item.\n",
      "Moving to: KGEO\n",
      "Fetching CSVs.\n",
      "Fetched CSVs successfully.\n",
      "Ensuring type consistency.\n",
      "Type consistency ensured. Saving testing file and appending the main dataframes.\n",
      "Dataframes appended. Continuing to next item.\n",
      "Moving to: KCH\n",
      "Fetching CSVs.\n",
      "Fetched CSVs successfully.\n",
      "Ensuring type consistency.\n",
      "Type consistency ensured. Saving testing file and appending the main dataframes.\n",
      "Dataframes appended. Continuing to next item.\n",
      "Moving to: KI\n",
      "Fetching CSVs.\n",
      "Fetched CSVs successfully.\n",
      "Ensuring type consistency.\n",
      "Type consistency ensured. Saving testing file and appending the main dataframes.\n",
      "Dataframes appended. Continuing to next item.\n",
      "Moving to: KMA\n",
      "Fetching CSVs.\n",
      "Fetched CSVs successfully.\n",
      "Ensuring type consistency.\n",
      "Type consistency ensured. Saving testing file and appending the main dataframes.\n",
      "Dataframes appended. Continuing to next item.\n",
      "Moving to: KPRF\n",
      "Fetching CSVs.\n",
      "Fetched CSVs successfully.\n",
      "Ensuring type consistency.\n",
      "Type consistency ensured. Saving testing file and appending the main dataframes.\n",
      "Dataframes appended. Continuing to next item.\n",
      "Moving to: PRFD\n",
      "Fetching CSVs.\n",
      "Fetched CSVs successfully.\n",
      "One or more CSV's are empty. Continuing to next item.\n",
      "Moving to: PRFST\n",
      "Fetching CSVs.\n",
      "Fetched CSVs successfully.\n",
      "One or more CSV's are empty. Continuing to next item.\n",
      "Moving to: UMC\n",
      "Fetching CSVs.\n",
      "Fetched CSVs successfully.\n",
      "One or more CSV's are empty. Continuing to next item.\n",
      "dict_keys(['identifier', 'rozvrhy', 'predmety'])\n"
     ]
    }
   ],
   "source": [
    "# NOVÉ NAČÍTÁNÍ - Přidat integraci s frontendem, přidat do tablegenu dynamické pojmenování\n",
    "import xlsx_generator as tablegen\n",
    "\n",
    "names = tablegen.pull_data(\n",
    "    search_type=\"Fakulta\",\n",
    "    search_target=\"PRF\",\n",
    "    ticket_over=\"30088f13cc4a64c91aef019587bf2a31f7ff7055306e11abaef001d927dd099a\",\n",
    "    auth_over=[\"st101885\",\"x0301093100\"]\n",
    ")\n",
    "print(names.keys())\n",
    "\n",
    "name_mod = \"_\" + names[\"identifier\"]\n",
    "\n",
    "rozvrh_by_kat = pl.read_csv(names[\"rozvrhy\"]).drop(\"semestr\").unique().rename({\"predmet\" : \"zkratka\"})\n",
    "rozvrh_by_kat = fix_str_to_int(rozvrh_by_kat, [\"ucitIdno.ucitel\", \"vsichniUciteleUcitIdno\"])\n",
    "\n",
    "predmety_by_kat = pl.read_csv(names[\"predmety\"]).drop(\"semestr\").unique().drop([\"pocetStudentu\", \"aSkut\", \"bSkut\", \"cSkut\"])\n",
    "predmety_by_kat = fix_str_to_int(predmety_by_kat, [\"garantiUcitIdno\", \"prednasejiciUcitIdno\", \"cviciciUcitIdno\", \"seminariciUcitIdno\", \"hodZaSemKombForma\"])"
   ]
  },
  {
   "cell_type": "code",
   "execution_count": 57,
   "metadata": {},
   "outputs": [],
   "source": [
    "# LEGACY NAČÍTÁNÍ\n",
    "\n",
    "# rozvrh_by_kat = pl.read_csv(\"source_tables/rozvrhy_fakulta.csv\").drop(\"semestr\").unique().rename({\"predmet\" : \"zkratka\"})\n",
    "# rozvrh_by_kat = fix_str_to_int(rozvrh_by_kat, [\"ucitIdno.ucitel\", \"vsichniUciteleUcitIdno\"])\n",
    "\n",
    "# predmety_by_kat = pl.read_csv(\"source_tables/predmety_fakulta.csv\").drop(\"semestr\").unique().drop([\"pocetStudentu\", \"aSkut\", \"bSkut\", \"cSkut\"])\n",
    "# predmety_by_kat = fix_str_to_int(predmety_by_kat, [\"garantiUcitIdno\", \"prednasejiciUcitIdno\", \"cviciciUcitIdno\", \"seminariciUcitIdno\", \"hodZaSemKombForma\"])"
   ]
  },
  {
   "cell_type": "code",
   "execution_count": 58,
   "metadata": {},
   "outputs": [
    {
     "name": "stdout",
     "output_type": "stream",
     "text": [
      "3107\n",
      "886\n"
     ]
    },
    {
     "data": {
      "text/html": [
       "<div><style>\n",
       ".dataframe > thead > tr,\n",
       ".dataframe > tbody > tr {\n",
       "  text-align: right;\n",
       "  white-space: pre-wrap;\n",
       "}\n",
       "</style>\n",
       "<small>shape: (7, 69)</small><table border=\"1\" class=\"dataframe\"><thead><tr><th>katedra</th><th>zkratka</th><th>rok</th><th>nazev</th><th>nazevDlouhy</th><th>maVyuku</th><th>vyukaZS</th><th>vyukaLS</th><th>jakCastoJeNabizen</th><th>jakCastoJeNabizenUpresneni</th><th>kreditu</th><th>viceZapis</th><th>minObsazeni</th><th>garanti</th><th>garantiSPodily</th><th>garantiUcitIdno</th><th>prednasejici</th><th>prednasejiciSPodily</th><th>prednasejiciUcitIdno</th><th>cvicici</th><th>cviciciSPodily</th><th>cviciciUcitIdno</th><th>seminarici</th><th>seminariciSPodily</th><th>seminariciUcitIdno</th><th>schvalujiciUznani</th><th>schvalujiciUznaniUcitIdno</th><th>examinatori</th><th>examinatoriUcitIdno</th><th>podminujiciPredmety</th><th>vylucujiciPredmety</th><th>podminujePredmety</th><th>literatura</th><th>nahrazPredmety</th><th>metodyVyucovaci</th><th>metodyHodnotici</th><th>akreditovan</th><th>jednotekPrednasek</th><th>jednotkaPrednasky</th><th>jednotekCviceni</th><th>jednotkaCviceni</th><th>jednotekSeminare</th><th>jednotkaSeminare</th><th>anotace</th><th>typZkousky</th><th>maZapocetPredZk</th><th>formaZkousky</th><th>pozadavky</th><th>prehledLatky</th><th>predpoklady</th><th>ziskaneZpusobilosti</th><th>casovaNarocnost</th><th>predmetUrl</th><th>vyucovaciJazyky</th><th>poznamka</th><th>ectsZobrazit</th><th>ectsAkreditace</th><th>ectsNabizetUPrijezdu</th><th>poznamkaVerejna</th><th>skupinaAkreditace</th><th>skupinaAkreditaceKey</th><th>zarazenDoPrezencnihoStudia</th><th>zarazenDoKombinovanehoStudia</th><th>studijniOpory</th><th>praxePocetDnu</th><th>urovenNastavena</th><th>urovenVypoctena</th><th>automatickyUznavatZppZk</th><th>hodZaSemKombForma</th></tr><tr><td>str</td><td>str</td><td>i64</td><td>str</td><td>str</td><td>str</td><td>str</td><td>str</td><td>str</td><td>str</td><td>i64</td><td>str</td><td>str</td><td>str</td><td>str</td><td>list[i64]</td><td>str</td><td>str</td><td>list[i64]</td><td>str</td><td>str</td><td>list[i64]</td><td>str</td><td>str</td><td>list[i64]</td><td>str</td><td>str</td><td>str</td><td>str</td><td>str</td><td>str</td><td>str</td><td>str</td><td>str</td><td>str</td><td>str</td><td>str</td><td>i64</td><td>str</td><td>i64</td><td>str</td><td>i64</td><td>str</td><td>str</td><td>str</td><td>str</td><td>str</td><td>str</td><td>str</td><td>str</td><td>str</td><td>str</td><td>str</td><td>str</td><td>str</td><td>str</td><td>str</td><td>str</td><td>str</td><td>str</td><td>str</td><td>str</td><td>str</td><td>str</td><td>i64</td><td>str</td><td>str</td><td>str</td><td>list[i64]</td></tr></thead><tbody><tr><td>&quot;CNB&quot;</td><td>&quot;BP502&quot;</td><td>2024</td><td>&quot;Fyziologie živ…</td><td>&quot;Fyziologie živ…</td><td>&quot;A&quot;</td><td>&quot;A&quot;</td><td>&quot;N&quot;</td><td>&quot;K&quot;</td><td>&quot;&quot;</td><td>6</td><td>&quot;NE&quot;</td><td>&quot;&quot;</td><td>&quot;&#x27;Ing. Stanisla…</td><td>&quot;&#x27;Ing. Stanisla…</td><td>[8024]</td><td>&quot;&#x27;Mgr. Marian R…</td><td>&quot;&#x27;Mgr. Marian R…</td><td>[5275, 8024]</td><td>&quot;&#x27;Mgr. Marian R…</td><td>&quot;&#x27;Mgr. Marian R…</td><td>[5275, 8024]</td><td>&quot;&quot;</td><td>&quot;&quot;</td><td>null</td><td>&quot;&quot;</td><td>&quot;&quot;</td><td>&quot;&quot;</td><td>&quot;&quot;</td><td>&quot;&quot;</td><td>&quot;&quot;</td><td>&quot;&quot;</td><td>&quot;&quot;</td><td>&quot;&quot;</td><td>&quot;&quot;</td><td>&quot;&quot;</td><td>&quot;N&quot;</td><td>2</td><td>&quot;HOD/TYD&quot;</td><td>3</td><td>&quot;HOD/TYD&quot;</td><td>0</td><td>&quot;HOD/TYD&quot;</td><td>&quot;Předmět poskyt…</td><td>&quot;Zkouška&quot;</td><td>&quot;ANO&quot;</td><td>&quot;Kombinovaná&quot;</td><td>&quot;Písemný zápočt…</td><td>&quot;1. Vnitřní pro…</td><td>&quot;&quot;</td><td>&quot;&quot;</td><td>&quot;&quot;</td><td>&quot;&quot;</td><td>&quot;Čeština&quot;</td><td>&quot;&quot;</td><td>&quot;A&quot;</td><td>&quot;N&quot;</td><td>&quot;N&quot;</td><td>&quot;&quot;</td><td>&quot;&quot;</td><td>&quot;&quot;</td><td>&quot;A&quot;</td><td>&quot;N&quot;</td><td>&quot;&quot;</td><td>0</td><td>&quot;&quot;</td><td>&quot;Bc.&quot;</td><td>&quot;A&quot;</td><td>null</td></tr><tr><td>&quot;CNB&quot;</td><td>&quot;EPNS&quot;</td><td>2024</td><td>&quot;Elektrospining…</td><td>&quot;Elektrospining…</td><td>&quot;A&quot;</td><td>&quot;A&quot;</td><td>&quot;N&quot;</td><td>&quot;K&quot;</td><td>&quot;&quot;</td><td>3</td><td>&quot;NE&quot;</td><td>&quot;&quot;</td><td>&quot;&#x27;RNDr. Petr Ry…</td><td>&quot;&#x27;RNDr. Petr Ry…</td><td>[4587]</td><td>&quot;&#x27;RNDr. Petr Ry…</td><td>&quot;&#x27;RNDr. Petr Ry…</td><td>[4587]</td><td>&quot;&#x27;RNDr. Petr Ry…</td><td>&quot;&#x27;RNDr. Petr Ry…</td><td>[4587]</td><td>&quot;&quot;</td><td>&quot;&quot;</td><td>null</td><td>&quot;&quot;</td><td>&quot;&quot;</td><td>&quot;&quot;</td><td>&quot;&quot;</td><td>&quot;CNB/UNM, KFY/F…</td><td>&quot;&quot;</td><td>&quot;&quot;</td><td>&quot;&#x27;Čapková P., M…</td><td>&quot;&quot;</td><td>&quot;&quot;</td><td>&quot;&quot;</td><td>&quot;N&quot;</td><td>1</td><td>&quot;HOD/TYD&quot;</td><td>1</td><td>&quot;HOD/TYD&quot;</td><td>0</td><td>&quot;HOD/TYD&quot;</td><td>&quot;Cílem tohoto k…</td><td>&quot;Zkouška&quot;</td><td>&quot;ANO&quot;</td><td>&quot;Kombinovaná&quot;</td><td>&quot;&quot;</td><td>&quot;Schema teoreti…</td><td>&quot;&quot;</td><td>&quot;&quot;</td><td>&quot;&quot;</td><td>&quot;&quot;</td><td>&quot;Čeština&quot;</td><td>&quot;&quot;</td><td>&quot;A&quot;</td><td>&quot;N&quot;</td><td>&quot;N&quot;</td><td>&quot;&quot;</td><td>&quot;&quot;</td><td>&quot;&quot;</td><td>&quot;A&quot;</td><td>&quot;N&quot;</td><td>&quot;&quot;</td><td>0</td><td>&quot;Bc.&quot;</td><td>&quot;Bc.&quot;</td><td>&quot;A&quot;</td><td>[0]</td></tr><tr><td>&quot;CNB&quot;</td><td>&quot;KB502&quot;</td><td>2024</td><td>&quot;Fyziologie živ…</td><td>&quot;Fyziologie živ…</td><td>&quot;A&quot;</td><td>&quot;A&quot;</td><td>&quot;A&quot;</td><td>&quot;K&quot;</td><td>&quot;&quot;</td><td>5</td><td>&quot;NE&quot;</td><td>&quot;&quot;</td><td>&quot;&#x27;Ing. Stanisla…</td><td>&quot;&#x27;Ing. Stanisla…</td><td>[8024]</td><td>&quot;&#x27;doc. MUDr. Vl…</td><td>&quot;&#x27;doc. MUDr. Vl…</td><td>[281, 5275, 8024]</td><td>&quot;&#x27;doc. MUDr. Vl…</td><td>&quot;&#x27;doc. MUDr. Vl…</td><td>[281, 5275, 8024]</td><td>&quot;&quot;</td><td>&quot;&quot;</td><td>null</td><td>&quot;&quot;</td><td>&quot;&quot;</td><td>&quot;&quot;</td><td>&quot;&quot;</td><td>&quot;&quot;</td><td>&quot;&quot;</td><td>&quot;&quot;</td><td>&quot;&quot;</td><td>&quot;KBI/KB502&quot;</td><td>&quot;&quot;</td><td>&quot;&quot;</td><td>&quot;N&quot;</td><td>12</td><td>&quot;HOD/SEM&quot;</td><td>9</td><td>&quot;HOD/SEM&quot;</td><td>0</td><td>&quot;HOD/SEM&quot;</td><td>&quot;Předmět poskyt…</td><td>&quot;Zkouška&quot;</td><td>&quot;ANO&quot;</td><td>&quot;Kombinovaná&quot;</td><td>&quot;Písemný zápočt…</td><td>&quot;1. Vnitřní pro…</td><td>&quot;&quot;</td><td>&quot;&quot;</td><td>&quot;&quot;</td><td>&quot;&quot;</td><td>&quot;Čeština&quot;</td><td>&quot;&quot;</td><td>&quot;A&quot;</td><td>&quot;N&quot;</td><td>&quot;N&quot;</td><td>&quot;&quot;</td><td>&quot;&quot;</td><td>&quot;&quot;</td><td>&quot;N&quot;</td><td>&quot;A&quot;</td><td>&quot;&quot;</td><td>0</td><td>&quot;&quot;</td><td>&quot;Bc.&quot;</td><td>&quot;A&quot;</td><td>null</td></tr><tr><td>&quot;CNB&quot;</td><td>&quot;KB617&quot;</td><td>2024</td><td>&quot;Molekulární bi…</td><td>&quot;Molekulární bi…</td><td>&quot;A&quot;</td><td>&quot;N&quot;</td><td>&quot;A&quot;</td><td>&quot;K&quot;</td><td>&quot;&quot;</td><td>5</td><td>&quot;NE&quot;</td><td>&quot;&quot;</td><td>&quot;&#x27;Mgr. Michaela…</td><td>&quot;&#x27;Mgr. Michaela…</td><td>[4472]</td><td>&quot;&#x27;Mgr. Michaela…</td><td>&quot;&#x27;Mgr. Michaela…</td><td>[4472]</td><td>&quot;&#x27;Mgr. Michaela…</td><td>&quot;&#x27;Mgr. Michaela…</td><td>[4472, 8314]</td><td>&quot;&quot;</td><td>&quot;&quot;</td><td>null</td><td>&quot;&quot;</td><td>&quot;&quot;</td><td>&quot;&quot;</td><td>&quot;&quot;</td><td>&quot;&quot;</td><td>&quot;&quot;</td><td>&quot;&quot;</td><td>&quot;&quot;</td><td>&quot;KBI/KB617&quot;</td><td>&quot;&quot;</td><td>&quot;&quot;</td><td>&quot;N&quot;</td><td>8</td><td>&quot;HOD/SEM&quot;</td><td>16</td><td>&quot;HOD/SEM&quot;</td><td>0</td><td>&quot;HOD/SEM&quot;</td><td>&quot;Cílem tohoto k…</td><td>&quot;Zkouška&quot;</td><td>&quot;ANO&quot;</td><td>&quot;Kombinovaná&quot;</td><td>&quot;100% účast na …</td><td>&quot;1. Centrální d…</td><td>&quot;&quot;</td><td>&quot;&quot;</td><td>&quot;&quot;</td><td>&quot;&quot;</td><td>&quot;Čeština&quot;</td><td>&quot;&quot;</td><td>&quot;A&quot;</td><td>&quot;N&quot;</td><td>&quot;N&quot;</td><td>&quot;&quot;</td><td>&quot;&quot;</td><td>&quot;&quot;</td><td>&quot;N&quot;</td><td>&quot;A&quot;</td><td>&quot;&quot;</td><td>0</td><td>&quot;&quot;</td><td>&quot;Bc.&quot;</td><td>&quot;A&quot;</td><td>null</td></tr><tr><td>&quot;CNB&quot;</td><td>&quot;KPCIM&quot;</td><td>2024</td><td>&quot;Prakt. cvičení…</td><td>&quot;Praktická cvič…</td><td>&quot;A&quot;</td><td>&quot;A&quot;</td><td>&quot;N&quot;</td><td>&quot;K&quot;</td><td>&quot;&quot;</td><td>2</td><td>&quot;NE&quot;</td><td>&quot;&quot;</td><td>&quot;&#x27;RNDr. Regina …</td><td>&quot;&#x27;RNDr. Regina …</td><td>[8317]</td><td>&quot;&quot;</td><td>&quot;&quot;</td><td>null</td><td>&quot;&#x27;RNDr. Regina …</td><td>&quot;&#x27;RNDr. Regina …</td><td>[8317]</td><td>&quot;&quot;</td><td>&quot;&quot;</td><td>null</td><td>&quot;&quot;</td><td>&quot;&quot;</td><td>&quot;&quot;</td><td>&quot;&quot;</td><td>&quot;&quot;</td><td>&quot;&quot;</td><td>&quot;&quot;</td><td>&quot;&#x27;B. Králová, L…</td><td>&quot;&quot;</td><td>&quot;&quot;</td><td>&quot;&quot;</td><td>&quot;A&quot;</td><td>0</td><td>&quot;HOD/SEM&quot;</td><td>12</td><td>&quot;HOD/SEM&quot;</td><td>0</td><td>&quot;HOD/SEM&quot;</td><td>&quot;&quot;</td><td>&quot;Zápočet&quot;</td><td>&quot;NE&quot;</td><td>&quot;Kombinovaná&quot;</td><td>&quot;Nutnou podmínk…</td><td>&quot;Imunoanalytick…</td><td>&quot;&quot;</td><td>&quot;&quot;</td><td>&quot;&quot;</td><td>&quot;&quot;</td><td>&quot;Čeština&quot;</td><td>&quot;&quot;</td><td>&quot;A&quot;</td><td>&quot;N&quot;</td><td>&quot;N&quot;</td><td>&quot;Praktická cvič…</td><td>&quot;&quot;</td><td>&quot;&quot;</td><td>&quot;N&quot;</td><td>&quot;A&quot;</td><td>&quot;&quot;</td><td>0</td><td>&quot;&quot;</td><td>&quot;Bc.&quot;</td><td>&quot;A&quot;</td><td>[0]</td></tr><tr><td>&quot;CNB&quot;</td><td>&quot;ME101&quot;</td><td>2024</td><td>&quot;Bioanalytické …</td><td>&quot;Bioanalytické …</td><td>&quot;A&quot;</td><td>&quot;A&quot;</td><td>&quot;N&quot;</td><td>&quot;K&quot;</td><td>&quot;&quot;</td><td>5</td><td>&quot;NE&quot;</td><td>&quot;&quot;</td><td>&quot;&#x27;Mgr. Jan Malý…</td><td>&quot;&#x27;Mgr. Jan Malý…</td><td>[280]</td><td>&quot;&#x27;Mgr. Jan Malý…</td><td>&quot;&#x27;Mgr. Jan Malý…</td><td>[280]</td><td>&quot;&#x27;Mgr. Marcel Š…</td><td>&quot;&#x27;Mgr. Marcel Š…</td><td>[1503, 4711]</td><td>&quot;&quot;</td><td>&quot;&quot;</td><td>null</td><td>&quot;&quot;</td><td>&quot;&quot;</td><td>&quot;&quot;</td><td>&quot;&quot;</td><td>&quot;&quot;</td><td>&quot;&quot;</td><td>&quot;&quot;</td><td>&quot;&#x27;Vasudevan Ram…</td><td>&quot;KBI/ME101&quot;</td><td>&quot;&quot;</td><td>&quot;&quot;</td><td>&quot;N&quot;</td><td>2</td><td>&quot;HOD/TYD&quot;</td><td>2</td><td>&quot;HOD/TYD&quot;</td><td>0</td><td>&quot;HOD/TYD&quot;</td><td>&quot;Cílem předmětu…</td><td>&quot;Zkouška&quot;</td><td>&quot;ANO&quot;</td><td>&quot;Kombinovaná&quot;</td><td>&quot;&quot;</td><td>&quot;&quot;</td><td>&quot;&quot;</td><td>&quot;&quot;</td><td>&quot;&quot;</td><td>&quot;&quot;</td><td>&quot;Čeština&quot;</td><td>&quot;&quot;</td><td>&quot;A&quot;</td><td>&quot;N&quot;</td><td>&quot;N&quot;</td><td>&quot;&quot;</td><td>&quot;&quot;</td><td>&quot;&quot;</td><td>&quot;A&quot;</td><td>&quot;N&quot;</td><td>&quot;&quot;</td><td>0</td><td>&quot;&quot;</td><td>&quot;Mgr.&quot;</td><td>&quot;A&quot;</td><td>[0]</td></tr><tr><td>&quot;CNB&quot;</td><td>&quot;ME402&quot;</td><td>2024</td><td>&quot;PC in modern b…</td><td>&quot;Practical cour…</td><td>&quot;A&quot;</td><td>&quot;N&quot;</td><td>&quot;A&quot;</td><td>&quot;K&quot;</td><td>&quot;&quot;</td><td>3</td><td>&quot;NE&quot;</td><td>&quot;&quot;</td><td>&quot;&#x27;Dominika Zofi…</td><td>&quot;&#x27;Dominika Zofi…</td><td>[4711]</td><td>&quot;&quot;</td><td>&quot;&quot;</td><td>null</td><td>&quot;&#x27;Mgr. Jan Malý…</td><td>&quot;&#x27;Mgr. Jan Malý…</td><td>[280, 4711]</td><td>&quot;&quot;</td><td>&quot;&quot;</td><td>null</td><td>&quot;&quot;</td><td>&quot;&quot;</td><td>&quot;&quot;</td><td>&quot;&quot;</td><td>&quot;&quot;</td><td>&quot;&quot;</td><td>&quot;&quot;</td><td>&quot;&#x27;Houde Damian …</td><td>&quot;KBI/ME402&quot;</td><td>&quot;&quot;</td><td>&quot;&quot;</td><td>&quot;N&quot;</td><td>0</td><td>&quot;HOD/TYD&quot;</td><td>2</td><td>&quot;HOD/TYD&quot;</td><td>0</td><td>&quot;HOD/TYD&quot;</td><td>&quot;&quot;</td><td>&quot;Zápočet&quot;</td><td>&quot;NE&quot;</td><td>&quot;Kombinovaná&quot;</td><td>&quot;&quot;</td><td>&quot;&quot;</td><td>&quot;&quot;</td><td>&quot;&quot;</td><td>&quot;&quot;</td><td>&quot;&quot;</td><td>&quot;Angličtina&quot;</td><td>&quot;&quot;</td><td>&quot;A&quot;</td><td>&quot;N&quot;</td><td>&quot;N&quot;</td><td>&quot;bloková výuka&quot;</td><td>&quot;&quot;</td><td>&quot;&quot;</td><td>&quot;A&quot;</td><td>&quot;N&quot;</td><td>&quot;&quot;</td><td>0</td><td>&quot;&quot;</td><td>&quot;Mgr.&quot;</td><td>&quot;A&quot;</td><td>[0]</td></tr></tbody></table></div>"
      ],
      "text/plain": [
       "shape: (7, 69)\n",
       "┌─────────┬─────────┬──────┬─────────────┬───┬─────────────┬─────────────┬────────────┬────────────┐\n",
       "│ katedra ┆ zkratka ┆ rok  ┆ nazev       ┆ … ┆ urovenNasta ┆ urovenVypoc ┆ automatick ┆ hodZaSemKo │\n",
       "│ ---     ┆ ---     ┆ ---  ┆ ---         ┆   ┆ vena        ┆ tena        ┆ yUznavatZp ┆ mbForma    │\n",
       "│ str     ┆ str     ┆ i64  ┆ str         ┆   ┆ ---         ┆ ---         ┆ pZk        ┆ ---        │\n",
       "│         ┆         ┆      ┆             ┆   ┆ str         ┆ str         ┆ ---        ┆ list[i64]  │\n",
       "│         ┆         ┆      ┆             ┆   ┆             ┆             ┆ str        ┆            │\n",
       "╞═════════╪═════════╪══════╪═════════════╪═══╪═════════════╪═════════════╪════════════╪════════════╡\n",
       "│ CNB     ┆ BP502   ┆ 2024 ┆ Fyziologie  ┆ … ┆             ┆ Bc.         ┆ A          ┆ null       │\n",
       "│         ┆         ┆      ┆ živočichů a ┆   ┆             ┆             ┆            ┆            │\n",
       "│         ┆         ┆      ┆ člověka     ┆   ┆             ┆             ┆            ┆            │\n",
       "│ CNB     ┆ EPNS    ┆ 2024 ┆ Elektrospin ┆ … ┆ Bc.         ┆ Bc.         ┆ A          ┆ [0]        │\n",
       "│         ┆         ┆      ┆ ing, př. a  ┆   ┆             ┆             ┆            ┆            │\n",
       "│         ┆         ┆      ┆ vl. nano s… ┆   ┆             ┆             ┆            ┆            │\n",
       "│ CNB     ┆ KB502   ┆ 2024 ┆ Fyziologie  ┆ … ┆             ┆ Bc.         ┆ A          ┆ null       │\n",
       "│         ┆         ┆      ┆ živočichů a ┆   ┆             ┆             ┆            ┆            │\n",
       "│         ┆         ┆      ┆ člověka     ┆   ┆             ┆             ┆            ┆            │\n",
       "│ CNB     ┆ KB617   ┆ 2024 ┆ Molekulární ┆ … ┆             ┆ Bc.         ┆ A          ┆ null       │\n",
       "│         ┆         ┆      ┆ biologie    ┆   ┆             ┆             ┆            ┆            │\n",
       "│ CNB     ┆ KPCIM   ┆ 2024 ┆ Prakt.      ┆ … ┆             ┆ Bc.         ┆ A          ┆ [0]        │\n",
       "│         ┆         ┆      ┆ cvičení z   ┆   ┆             ┆             ┆            ┆            │\n",
       "│         ┆         ┆      ┆ imunoanalyt ┆   ┆             ┆             ┆            ┆            │\n",
       "│         ┆         ┆      ┆ ický…       ┆   ┆             ┆             ┆            ┆            │\n",
       "│ CNB     ┆ ME101   ┆ 2024 ┆ Bioanalytic ┆ … ┆             ┆ Mgr.        ┆ A          ┆ [0]        │\n",
       "│         ┆         ┆      ┆ ké metody   ┆   ┆             ┆             ┆            ┆            │\n",
       "│ CNB     ┆ ME402   ┆ 2024 ┆ PC in       ┆ … ┆             ┆ Mgr.        ┆ A          ┆ [0]        │\n",
       "│         ┆         ┆      ┆ modern      ┆   ┆             ┆             ┆            ┆            │\n",
       "│         ┆         ┆      ┆ biophysical ┆   ┆             ┆             ┆            ┆            │\n",
       "│         ┆         ┆      ┆ technig…    ┆   ┆             ┆             ┆            ┆            │\n",
       "└─────────┴─────────┴──────┴─────────────┴───┴─────────────┴─────────────┴────────────┴────────────┘"
      ]
     },
     "execution_count": 58,
     "metadata": {},
     "output_type": "execute_result"
    }
   ],
   "source": [
    "print(predmety_by_kat.__len__())\n",
    "print(rozvrh_by_kat.__len__())\n",
    "predmety_by_kat.head(7)"
   ]
  },
  {
   "cell_type": "code",
   "execution_count": 59,
   "metadata": {},
   "outputs": [],
   "source": [
    "bez_problemu = predmety_by_kat.select([\"katedra\", \"zkratka\", \"nazev\"]).with_columns(pl.concat_str([pl.col(\"zkratka\"), pl.col(\"katedra\")], separator=\"/\").alias(\"identifier\"))"
   ]
  },
  {
   "cell_type": "code",
   "execution_count": 60,
   "metadata": {},
   "outputs": [],
   "source": [
    "# testing = pl.read_csv(\"source_testing/ucitel_predmety_lite\").with_columns(pl.concat_str([pl.col(\"zkratka\"), pl.col(\"katedra\")], separator=\"/\").alias(\"identifier\"))\n",
    "# bez_problemu.join(testing, \"identifier\", \"anti\").head()\n",
    "\n",
    "#predmety_by_kat.select.filter(predmety_by_kat.is_unique().not_())"
   ]
  },
  {
   "cell_type": "code",
   "execution_count": 61,
   "metadata": {},
   "outputs": [],
   "source": [
    "# qr = ~pl.all().is_duplicated()\n",
    "# rozvrh_by_kat = rozvrh_by_kat.filter(qr)\n",
    "# predmety_by_kat = predmety_by_kat.filter(qr)\n"
   ]
  },
  {
   "cell_type": "code",
   "execution_count": 62,
   "metadata": {},
   "outputs": [
    {
     "name": "stdout",
     "output_type": "stream",
     "text": [
      "2782\n"
     ]
    },
    {
     "data": {
      "text/html": [
       "<div><style>\n",
       ".dataframe > thead > tr,\n",
       ".dataframe > tbody > tr {\n",
       "  text-align: right;\n",
       "  white-space: pre-wrap;\n",
       "}\n",
       "</style>\n",
       "<small>shape: (7, 69)</small><table border=\"1\" class=\"dataframe\"><thead><tr><th>katedra</th><th>zkratka</th><th>rok</th><th>nazev</th><th>nazevDlouhy</th><th>maVyuku</th><th>vyukaZS</th><th>vyukaLS</th><th>jakCastoJeNabizen</th><th>jakCastoJeNabizenUpresneni</th><th>kreditu</th><th>viceZapis</th><th>minObsazeni</th><th>garanti</th><th>garantiSPodily</th><th>garantiUcitIdno</th><th>prednasejici</th><th>prednasejiciSPodily</th><th>prednasejiciUcitIdno</th><th>cvicici</th><th>cviciciSPodily</th><th>cviciciUcitIdno</th><th>seminarici</th><th>seminariciSPodily</th><th>seminariciUcitIdno</th><th>schvalujiciUznani</th><th>schvalujiciUznaniUcitIdno</th><th>examinatori</th><th>examinatoriUcitIdno</th><th>podminujiciPredmety</th><th>vylucujiciPredmety</th><th>podminujePredmety</th><th>literatura</th><th>nahrazPredmety</th><th>metodyVyucovaci</th><th>metodyHodnotici</th><th>akreditovan</th><th>jednotekPrednasek</th><th>jednotkaPrednasky</th><th>jednotekCviceni</th><th>jednotkaCviceni</th><th>jednotekSeminare</th><th>jednotkaSeminare</th><th>anotace</th><th>typZkousky</th><th>maZapocetPredZk</th><th>formaZkousky</th><th>pozadavky</th><th>prehledLatky</th><th>predpoklady</th><th>ziskaneZpusobilosti</th><th>casovaNarocnost</th><th>predmetUrl</th><th>vyucovaciJazyky</th><th>poznamka</th><th>ectsZobrazit</th><th>ectsAkreditace</th><th>ectsNabizetUPrijezdu</th><th>poznamkaVerejna</th><th>skupinaAkreditace</th><th>skupinaAkreditaceKey</th><th>zarazenDoPrezencnihoStudia</th><th>zarazenDoKombinovanehoStudia</th><th>studijniOpory</th><th>praxePocetDnu</th><th>urovenNastavena</th><th>urovenVypoctena</th><th>automatickyUznavatZppZk</th><th>hodZaSemKombForma</th></tr><tr><td>str</td><td>str</td><td>i64</td><td>str</td><td>str</td><td>str</td><td>str</td><td>str</td><td>str</td><td>str</td><td>i64</td><td>str</td><td>str</td><td>str</td><td>str</td><td>list[i64]</td><td>str</td><td>str</td><td>list[i64]</td><td>str</td><td>str</td><td>list[i64]</td><td>str</td><td>str</td><td>list[i64]</td><td>str</td><td>str</td><td>str</td><td>str</td><td>str</td><td>str</td><td>str</td><td>str</td><td>str</td><td>str</td><td>str</td><td>str</td><td>i64</td><td>str</td><td>i64</td><td>str</td><td>i64</td><td>str</td><td>str</td><td>str</td><td>str</td><td>str</td><td>str</td><td>str</td><td>str</td><td>str</td><td>str</td><td>str</td><td>str</td><td>str</td><td>str</td><td>str</td><td>str</td><td>str</td><td>str</td><td>str</td><td>str</td><td>str</td><td>str</td><td>i64</td><td>str</td><td>str</td><td>str</td><td>list[i64]</td></tr></thead><tbody><tr><td>&quot;CNB&quot;</td><td>&quot;BP502&quot;</td><td>2024</td><td>&quot;Fyziologie živ…</td><td>&quot;Fyziologie živ…</td><td>&quot;A&quot;</td><td>&quot;A&quot;</td><td>&quot;N&quot;</td><td>&quot;K&quot;</td><td>&quot;&quot;</td><td>6</td><td>&quot;NE&quot;</td><td>&quot;&quot;</td><td>&quot;&#x27;Ing. Stanisla…</td><td>&quot;&#x27;Ing. Stanisla…</td><td>[8024]</td><td>&quot;&#x27;Mgr. Marian R…</td><td>&quot;&#x27;Mgr. Marian R…</td><td>[5275, 8024]</td><td>&quot;&#x27;Mgr. Marian R…</td><td>&quot;&#x27;Mgr. Marian R…</td><td>[5275, 8024]</td><td>&quot;&quot;</td><td>&quot;&quot;</td><td>null</td><td>&quot;&quot;</td><td>&quot;&quot;</td><td>&quot;&quot;</td><td>&quot;&quot;</td><td>&quot;&quot;</td><td>&quot;&quot;</td><td>&quot;&quot;</td><td>&quot;&quot;</td><td>&quot;&quot;</td><td>&quot;&quot;</td><td>&quot;&quot;</td><td>&quot;N&quot;</td><td>2</td><td>&quot;HOD/TYD&quot;</td><td>3</td><td>&quot;HOD/TYD&quot;</td><td>0</td><td>&quot;HOD/TYD&quot;</td><td>&quot;Předmět poskyt…</td><td>&quot;Zkouška&quot;</td><td>&quot;ANO&quot;</td><td>&quot;Kombinovaná&quot;</td><td>&quot;Písemný zápočt…</td><td>&quot;1. Vnitřní pro…</td><td>&quot;&quot;</td><td>&quot;&quot;</td><td>&quot;&quot;</td><td>&quot;&quot;</td><td>&quot;Čeština&quot;</td><td>&quot;&quot;</td><td>&quot;A&quot;</td><td>&quot;N&quot;</td><td>&quot;N&quot;</td><td>&quot;&quot;</td><td>&quot;&quot;</td><td>&quot;&quot;</td><td>&quot;A&quot;</td><td>&quot;N&quot;</td><td>&quot;&quot;</td><td>0</td><td>&quot;&quot;</td><td>&quot;Bc.&quot;</td><td>&quot;A&quot;</td><td>null</td></tr><tr><td>&quot;CNB&quot;</td><td>&quot;EPNS&quot;</td><td>2024</td><td>&quot;Elektrospining…</td><td>&quot;Elektrospining…</td><td>&quot;A&quot;</td><td>&quot;A&quot;</td><td>&quot;N&quot;</td><td>&quot;K&quot;</td><td>&quot;&quot;</td><td>3</td><td>&quot;NE&quot;</td><td>&quot;&quot;</td><td>&quot;&#x27;RNDr. Petr Ry…</td><td>&quot;&#x27;RNDr. Petr Ry…</td><td>[4587]</td><td>&quot;&#x27;RNDr. Petr Ry…</td><td>&quot;&#x27;RNDr. Petr Ry…</td><td>[4587]</td><td>&quot;&#x27;RNDr. Petr Ry…</td><td>&quot;&#x27;RNDr. Petr Ry…</td><td>[4587]</td><td>&quot;&quot;</td><td>&quot;&quot;</td><td>null</td><td>&quot;&quot;</td><td>&quot;&quot;</td><td>&quot;&quot;</td><td>&quot;&quot;</td><td>&quot;CNB/UNM, KFY/F…</td><td>&quot;&quot;</td><td>&quot;&quot;</td><td>&quot;&#x27;Čapková P., M…</td><td>&quot;&quot;</td><td>&quot;&quot;</td><td>&quot;&quot;</td><td>&quot;N&quot;</td><td>1</td><td>&quot;HOD/TYD&quot;</td><td>1</td><td>&quot;HOD/TYD&quot;</td><td>0</td><td>&quot;HOD/TYD&quot;</td><td>&quot;Cílem tohoto k…</td><td>&quot;Zkouška&quot;</td><td>&quot;ANO&quot;</td><td>&quot;Kombinovaná&quot;</td><td>&quot;&quot;</td><td>&quot;Schema teoreti…</td><td>&quot;&quot;</td><td>&quot;&quot;</td><td>&quot;&quot;</td><td>&quot;&quot;</td><td>&quot;Čeština&quot;</td><td>&quot;&quot;</td><td>&quot;A&quot;</td><td>&quot;N&quot;</td><td>&quot;N&quot;</td><td>&quot;&quot;</td><td>&quot;&quot;</td><td>&quot;&quot;</td><td>&quot;A&quot;</td><td>&quot;N&quot;</td><td>&quot;&quot;</td><td>0</td><td>&quot;Bc.&quot;</td><td>&quot;Bc.&quot;</td><td>&quot;A&quot;</td><td>[0]</td></tr><tr><td>&quot;CNB&quot;</td><td>&quot;KB502&quot;</td><td>2024</td><td>&quot;Fyziologie živ…</td><td>&quot;Fyziologie živ…</td><td>&quot;A&quot;</td><td>&quot;A&quot;</td><td>&quot;A&quot;</td><td>&quot;K&quot;</td><td>&quot;&quot;</td><td>5</td><td>&quot;NE&quot;</td><td>&quot;&quot;</td><td>&quot;&#x27;Ing. Stanisla…</td><td>&quot;&#x27;Ing. Stanisla…</td><td>[8024]</td><td>&quot;&#x27;doc. MUDr. Vl…</td><td>&quot;&#x27;doc. MUDr. Vl…</td><td>[281, 5275, 8024]</td><td>&quot;&#x27;doc. MUDr. Vl…</td><td>&quot;&#x27;doc. MUDr. Vl…</td><td>[281, 5275, 8024]</td><td>&quot;&quot;</td><td>&quot;&quot;</td><td>null</td><td>&quot;&quot;</td><td>&quot;&quot;</td><td>&quot;&quot;</td><td>&quot;&quot;</td><td>&quot;&quot;</td><td>&quot;&quot;</td><td>&quot;&quot;</td><td>&quot;&quot;</td><td>&quot;KBI/KB502&quot;</td><td>&quot;&quot;</td><td>&quot;&quot;</td><td>&quot;N&quot;</td><td>12</td><td>&quot;HOD/SEM&quot;</td><td>9</td><td>&quot;HOD/SEM&quot;</td><td>0</td><td>&quot;HOD/SEM&quot;</td><td>&quot;Předmět poskyt…</td><td>&quot;Zkouška&quot;</td><td>&quot;ANO&quot;</td><td>&quot;Kombinovaná&quot;</td><td>&quot;Písemný zápočt…</td><td>&quot;1. Vnitřní pro…</td><td>&quot;&quot;</td><td>&quot;&quot;</td><td>&quot;&quot;</td><td>&quot;&quot;</td><td>&quot;Čeština&quot;</td><td>&quot;&quot;</td><td>&quot;A&quot;</td><td>&quot;N&quot;</td><td>&quot;N&quot;</td><td>&quot;&quot;</td><td>&quot;&quot;</td><td>&quot;&quot;</td><td>&quot;N&quot;</td><td>&quot;A&quot;</td><td>&quot;&quot;</td><td>0</td><td>&quot;&quot;</td><td>&quot;Bc.&quot;</td><td>&quot;A&quot;</td><td>null</td></tr><tr><td>&quot;CNB&quot;</td><td>&quot;KB617&quot;</td><td>2024</td><td>&quot;Molekulární bi…</td><td>&quot;Molekulární bi…</td><td>&quot;A&quot;</td><td>&quot;N&quot;</td><td>&quot;A&quot;</td><td>&quot;K&quot;</td><td>&quot;&quot;</td><td>5</td><td>&quot;NE&quot;</td><td>&quot;&quot;</td><td>&quot;&#x27;Mgr. Michaela…</td><td>&quot;&#x27;Mgr. Michaela…</td><td>[4472]</td><td>&quot;&#x27;Mgr. Michaela…</td><td>&quot;&#x27;Mgr. Michaela…</td><td>[4472]</td><td>&quot;&#x27;Mgr. Michaela…</td><td>&quot;&#x27;Mgr. Michaela…</td><td>[4472, 8314]</td><td>&quot;&quot;</td><td>&quot;&quot;</td><td>null</td><td>&quot;&quot;</td><td>&quot;&quot;</td><td>&quot;&quot;</td><td>&quot;&quot;</td><td>&quot;&quot;</td><td>&quot;&quot;</td><td>&quot;&quot;</td><td>&quot;&quot;</td><td>&quot;KBI/KB617&quot;</td><td>&quot;&quot;</td><td>&quot;&quot;</td><td>&quot;N&quot;</td><td>8</td><td>&quot;HOD/SEM&quot;</td><td>16</td><td>&quot;HOD/SEM&quot;</td><td>0</td><td>&quot;HOD/SEM&quot;</td><td>&quot;Cílem tohoto k…</td><td>&quot;Zkouška&quot;</td><td>&quot;ANO&quot;</td><td>&quot;Kombinovaná&quot;</td><td>&quot;100% účast na …</td><td>&quot;1. Centrální d…</td><td>&quot;&quot;</td><td>&quot;&quot;</td><td>&quot;&quot;</td><td>&quot;&quot;</td><td>&quot;Čeština&quot;</td><td>&quot;&quot;</td><td>&quot;A&quot;</td><td>&quot;N&quot;</td><td>&quot;N&quot;</td><td>&quot;&quot;</td><td>&quot;&quot;</td><td>&quot;&quot;</td><td>&quot;N&quot;</td><td>&quot;A&quot;</td><td>&quot;&quot;</td><td>0</td><td>&quot;&quot;</td><td>&quot;Bc.&quot;</td><td>&quot;A&quot;</td><td>null</td></tr><tr><td>&quot;CNB&quot;</td><td>&quot;KPCIM&quot;</td><td>2024</td><td>&quot;Prakt. cvičení…</td><td>&quot;Praktická cvič…</td><td>&quot;A&quot;</td><td>&quot;A&quot;</td><td>&quot;N&quot;</td><td>&quot;K&quot;</td><td>&quot;&quot;</td><td>2</td><td>&quot;NE&quot;</td><td>&quot;&quot;</td><td>&quot;&#x27;RNDr. Regina …</td><td>&quot;&#x27;RNDr. Regina …</td><td>[8317]</td><td>&quot;&quot;</td><td>&quot;&quot;</td><td>null</td><td>&quot;&#x27;RNDr. Regina …</td><td>&quot;&#x27;RNDr. Regina …</td><td>[8317]</td><td>&quot;&quot;</td><td>&quot;&quot;</td><td>null</td><td>&quot;&quot;</td><td>&quot;&quot;</td><td>&quot;&quot;</td><td>&quot;&quot;</td><td>&quot;&quot;</td><td>&quot;&quot;</td><td>&quot;&quot;</td><td>&quot;&#x27;B. Králová, L…</td><td>&quot;&quot;</td><td>&quot;&quot;</td><td>&quot;&quot;</td><td>&quot;A&quot;</td><td>0</td><td>&quot;HOD/SEM&quot;</td><td>12</td><td>&quot;HOD/SEM&quot;</td><td>0</td><td>&quot;HOD/SEM&quot;</td><td>&quot;&quot;</td><td>&quot;Zápočet&quot;</td><td>&quot;NE&quot;</td><td>&quot;Kombinovaná&quot;</td><td>&quot;Nutnou podmínk…</td><td>&quot;Imunoanalytick…</td><td>&quot;&quot;</td><td>&quot;&quot;</td><td>&quot;&quot;</td><td>&quot;&quot;</td><td>&quot;Čeština&quot;</td><td>&quot;&quot;</td><td>&quot;A&quot;</td><td>&quot;N&quot;</td><td>&quot;N&quot;</td><td>&quot;Praktická cvič…</td><td>&quot;&quot;</td><td>&quot;&quot;</td><td>&quot;N&quot;</td><td>&quot;A&quot;</td><td>&quot;&quot;</td><td>0</td><td>&quot;&quot;</td><td>&quot;Bc.&quot;</td><td>&quot;A&quot;</td><td>[0]</td></tr><tr><td>&quot;CNB&quot;</td><td>&quot;ME101&quot;</td><td>2024</td><td>&quot;Bioanalytické …</td><td>&quot;Bioanalytické …</td><td>&quot;A&quot;</td><td>&quot;A&quot;</td><td>&quot;N&quot;</td><td>&quot;K&quot;</td><td>&quot;&quot;</td><td>5</td><td>&quot;NE&quot;</td><td>&quot;&quot;</td><td>&quot;&#x27;Mgr. Jan Malý…</td><td>&quot;&#x27;Mgr. Jan Malý…</td><td>[280]</td><td>&quot;&#x27;Mgr. Jan Malý…</td><td>&quot;&#x27;Mgr. Jan Malý…</td><td>[280]</td><td>&quot;&#x27;Mgr. Marcel Š…</td><td>&quot;&#x27;Mgr. Marcel Š…</td><td>[1503, 4711]</td><td>&quot;&quot;</td><td>&quot;&quot;</td><td>null</td><td>&quot;&quot;</td><td>&quot;&quot;</td><td>&quot;&quot;</td><td>&quot;&quot;</td><td>&quot;&quot;</td><td>&quot;&quot;</td><td>&quot;&quot;</td><td>&quot;&#x27;Vasudevan Ram…</td><td>&quot;KBI/ME101&quot;</td><td>&quot;&quot;</td><td>&quot;&quot;</td><td>&quot;N&quot;</td><td>2</td><td>&quot;HOD/TYD&quot;</td><td>2</td><td>&quot;HOD/TYD&quot;</td><td>0</td><td>&quot;HOD/TYD&quot;</td><td>&quot;Cílem předmětu…</td><td>&quot;Zkouška&quot;</td><td>&quot;ANO&quot;</td><td>&quot;Kombinovaná&quot;</td><td>&quot;&quot;</td><td>&quot;&quot;</td><td>&quot;&quot;</td><td>&quot;&quot;</td><td>&quot;&quot;</td><td>&quot;&quot;</td><td>&quot;Čeština&quot;</td><td>&quot;&quot;</td><td>&quot;A&quot;</td><td>&quot;N&quot;</td><td>&quot;N&quot;</td><td>&quot;&quot;</td><td>&quot;&quot;</td><td>&quot;&quot;</td><td>&quot;A&quot;</td><td>&quot;N&quot;</td><td>&quot;&quot;</td><td>0</td><td>&quot;&quot;</td><td>&quot;Mgr.&quot;</td><td>&quot;A&quot;</td><td>[0]</td></tr><tr><td>&quot;CNB&quot;</td><td>&quot;ME402&quot;</td><td>2024</td><td>&quot;PC in modern b…</td><td>&quot;Practical cour…</td><td>&quot;A&quot;</td><td>&quot;N&quot;</td><td>&quot;A&quot;</td><td>&quot;K&quot;</td><td>&quot;&quot;</td><td>3</td><td>&quot;NE&quot;</td><td>&quot;&quot;</td><td>&quot;&#x27;Dominika Zofi…</td><td>&quot;&#x27;Dominika Zofi…</td><td>[4711]</td><td>&quot;&quot;</td><td>&quot;&quot;</td><td>null</td><td>&quot;&#x27;Mgr. Jan Malý…</td><td>&quot;&#x27;Mgr. Jan Malý…</td><td>[280, 4711]</td><td>&quot;&quot;</td><td>&quot;&quot;</td><td>null</td><td>&quot;&quot;</td><td>&quot;&quot;</td><td>&quot;&quot;</td><td>&quot;&quot;</td><td>&quot;&quot;</td><td>&quot;&quot;</td><td>&quot;&quot;</td><td>&quot;&#x27;Houde Damian …</td><td>&quot;KBI/ME402&quot;</td><td>&quot;&quot;</td><td>&quot;&quot;</td><td>&quot;N&quot;</td><td>0</td><td>&quot;HOD/TYD&quot;</td><td>2</td><td>&quot;HOD/TYD&quot;</td><td>0</td><td>&quot;HOD/TYD&quot;</td><td>&quot;&quot;</td><td>&quot;Zápočet&quot;</td><td>&quot;NE&quot;</td><td>&quot;Kombinovaná&quot;</td><td>&quot;&quot;</td><td>&quot;&quot;</td><td>&quot;&quot;</td><td>&quot;&quot;</td><td>&quot;&quot;</td><td>&quot;&quot;</td><td>&quot;Angličtina&quot;</td><td>&quot;&quot;</td><td>&quot;A&quot;</td><td>&quot;N&quot;</td><td>&quot;N&quot;</td><td>&quot;bloková výuka&quot;</td><td>&quot;&quot;</td><td>&quot;&quot;</td><td>&quot;A&quot;</td><td>&quot;N&quot;</td><td>&quot;&quot;</td><td>0</td><td>&quot;&quot;</td><td>&quot;Mgr.&quot;</td><td>&quot;A&quot;</td><td>[0]</td></tr></tbody></table></div>"
      ],
      "text/plain": [
       "shape: (7, 69)\n",
       "┌─────────┬─────────┬──────┬─────────────┬───┬─────────────┬─────────────┬────────────┬────────────┐\n",
       "│ katedra ┆ zkratka ┆ rok  ┆ nazev       ┆ … ┆ urovenNasta ┆ urovenVypoc ┆ automatick ┆ hodZaSemKo │\n",
       "│ ---     ┆ ---     ┆ ---  ┆ ---         ┆   ┆ vena        ┆ tena        ┆ yUznavatZp ┆ mbForma    │\n",
       "│ str     ┆ str     ┆ i64  ┆ str         ┆   ┆ ---         ┆ ---         ┆ pZk        ┆ ---        │\n",
       "│         ┆         ┆      ┆             ┆   ┆ str         ┆ str         ┆ ---        ┆ list[i64]  │\n",
       "│         ┆         ┆      ┆             ┆   ┆             ┆             ┆ str        ┆            │\n",
       "╞═════════╪═════════╪══════╪═════════════╪═══╪═════════════╪═════════════╪════════════╪════════════╡\n",
       "│ CNB     ┆ BP502   ┆ 2024 ┆ Fyziologie  ┆ … ┆             ┆ Bc.         ┆ A          ┆ null       │\n",
       "│         ┆         ┆      ┆ živočichů a ┆   ┆             ┆             ┆            ┆            │\n",
       "│         ┆         ┆      ┆ člověka     ┆   ┆             ┆             ┆            ┆            │\n",
       "│ CNB     ┆ EPNS    ┆ 2024 ┆ Elektrospin ┆ … ┆ Bc.         ┆ Bc.         ┆ A          ┆ [0]        │\n",
       "│         ┆         ┆      ┆ ing, př. a  ┆   ┆             ┆             ┆            ┆            │\n",
       "│         ┆         ┆      ┆ vl. nano s… ┆   ┆             ┆             ┆            ┆            │\n",
       "│ CNB     ┆ KB502   ┆ 2024 ┆ Fyziologie  ┆ … ┆             ┆ Bc.         ┆ A          ┆ null       │\n",
       "│         ┆         ┆      ┆ živočichů a ┆   ┆             ┆             ┆            ┆            │\n",
       "│         ┆         ┆      ┆ člověka     ┆   ┆             ┆             ┆            ┆            │\n",
       "│ CNB     ┆ KB617   ┆ 2024 ┆ Molekulární ┆ … ┆             ┆ Bc.         ┆ A          ┆ null       │\n",
       "│         ┆         ┆      ┆ biologie    ┆   ┆             ┆             ┆            ┆            │\n",
       "│ CNB     ┆ KPCIM   ┆ 2024 ┆ Prakt.      ┆ … ┆             ┆ Bc.         ┆ A          ┆ [0]        │\n",
       "│         ┆         ┆      ┆ cvičení z   ┆   ┆             ┆             ┆            ┆            │\n",
       "│         ┆         ┆      ┆ imunoanalyt ┆   ┆             ┆             ┆            ┆            │\n",
       "│         ┆         ┆      ┆ ický…       ┆   ┆             ┆             ┆            ┆            │\n",
       "│ CNB     ┆ ME101   ┆ 2024 ┆ Bioanalytic ┆ … ┆             ┆ Mgr.        ┆ A          ┆ [0]        │\n",
       "│         ┆         ┆      ┆ ké metody   ┆   ┆             ┆             ┆            ┆            │\n",
       "│ CNB     ┆ ME402   ┆ 2024 ┆ PC in       ┆ … ┆             ┆ Mgr.        ┆ A          ┆ [0]        │\n",
       "│         ┆         ┆      ┆ modern      ┆   ┆             ┆             ┆            ┆            │\n",
       "│         ┆         ┆      ┆ biophysical ┆   ┆             ┆             ┆            ┆            │\n",
       "│         ┆         ┆      ┆ technig…    ┆   ┆             ┆             ┆            ┆            │\n",
       "└─────────┴─────────┴──────┴─────────────┴───┴─────────────┴─────────────┴────────────┴────────────┘"
      ]
     },
     "execution_count": 62,
     "metadata": {},
     "output_type": "execute_result"
    }
   ],
   "source": [
    "print(predmety_by_kat.filter(pl.col(\"katedra\") != \"KMA\").__len__())\n",
    "predmety_by_kat.filter(pl.col(\"katedra\") != \"KMA\").head(7)"
   ]
  },
  {
   "cell_type": "code",
   "execution_count": 63,
   "metadata": {},
   "outputs": [
    {
     "data": {
      "text/html": [
       "<div><style>\n",
       ".dataframe > thead > tr,\n",
       ".dataframe > tbody > tr {\n",
       "  text-align: right;\n",
       "  white-space: pre-wrap;\n",
       "}\n",
       "</style>\n",
       "<small>shape: (1, 54)</small><table border=\"1\" class=\"dataframe\"><thead><tr><th>roakIdno</th><th>nazev</th><th>katedra</th><th>zkratka</th><th>statut</th><th>ucitIdno</th><th>ucitIdno.ucitel</th><th>jmeno.ucitel</th><th>prijmeni.ucitel</th><th>titulPred.ucitel</th><th>titulZa.ucitel</th><th>platnost.ucitel</th><th>zamestnanec.ucitel</th><th>podilNaVyuce.ucitel</th><th>rok</th><th>budova</th><th>mistnost</th><th>kapacitaMistnosti</th><th>planObsazeni</th><th>obsazeni</th><th>typAkce</th><th>typAkceZkr</th><th>platnost</th><th>den</th><th>denZkr</th><th>vyucJazyk</th><th>hodinaOd</th><th>hodinaDo</th><th>pocetVyucHodin</th><th>hodinaSkutOd</th><th>hodinaSkutDo</th><th>tydenOd</th><th>tydenDo</th><th>tyden</th><th>tydenZkr</th><th>grupIdno</th><th>jeNadrazena</th><th>maNadrazenou</th><th>kontakt</th><th>krouzky</th><th>casovaRada</th><th>datum</th><th>datumOd</th><th>datumDo</th><th>druhAkce</th><th>vsichniUciteleUcitIdno</th><th>vsichniUciteleJmenaTituly</th><th>vsichniUciteleJmenaTitulySPodily</th><th>vsichniUcitelePrijmeni</th><th>referencedIdno</th><th>poznamkaRozvrhare</th><th>nekonaSe</th><th>owner</th><th>zakazaneAkce</th></tr><tr><td>u32</td><td>u32</td><td>u32</td><td>u32</td><td>u32</td><td>u32</td><td>u32</td><td>u32</td><td>u32</td><td>u32</td><td>u32</td><td>u32</td><td>u32</td><td>u32</td><td>u32</td><td>u32</td><td>u32</td><td>u32</td><td>u32</td><td>u32</td><td>u32</td><td>u32</td><td>u32</td><td>u32</td><td>u32</td><td>u32</td><td>u32</td><td>u32</td><td>u32</td><td>u32</td><td>u32</td><td>u32</td><td>u32</td><td>u32</td><td>u32</td><td>u32</td><td>u32</td><td>u32</td><td>u32</td><td>u32</td><td>u32</td><td>u32</td><td>u32</td><td>u32</td><td>u32</td><td>u32</td><td>u32</td><td>u32</td><td>u32</td><td>u32</td><td>u32</td><td>u32</td><td>u32</td><td>u32</td></tr></thead><tbody><tr><td>0</td><td>0</td><td>0</td><td>0</td><td>0</td><td>85</td><td>118</td><td>0</td><td>0</td><td>0</td><td>0</td><td>0</td><td>0</td><td>85</td><td>0</td><td>0</td><td>78</td><td>78</td><td>0</td><td>0</td><td>0</td><td>0</td><td>0</td><td>0</td><td>0</td><td>0</td><td>142</td><td>142</td><td>16</td><td>0</td><td>0</td><td>0</td><td>0</td><td>0</td><td>0</td><td>0</td><td>0</td><td>0</td><td>0</td><td>0</td><td>0</td><td>0</td><td>0</td><td>0</td><td>0</td><td>118</td><td>0</td><td>0</td><td>0</td><td>0</td><td>0</td><td>0</td><td>0</td><td>0</td></tr></tbody></table></div>"
      ],
      "text/plain": [
       "shape: (1, 54)\n",
       "┌──────────┬───────┬─────────┬─────────┬───┬───────────────────┬──────────┬───────┬──────────────┐\n",
       "│ roakIdno ┆ nazev ┆ katedra ┆ zkratka ┆ … ┆ poznamkaRozvrhare ┆ nekonaSe ┆ owner ┆ zakazaneAkce │\n",
       "│ ---      ┆ ---   ┆ ---     ┆ ---     ┆   ┆ ---               ┆ ---      ┆ ---   ┆ ---          │\n",
       "│ u32      ┆ u32   ┆ u32     ┆ u32     ┆   ┆ u32               ┆ u32      ┆ u32   ┆ u32          │\n",
       "╞══════════╪═══════╪═════════╪═════════╪═══╪═══════════════════╪══════════╪═══════╪══════════════╡\n",
       "│ 0        ┆ 0     ┆ 0       ┆ 0       ┆ … ┆ 0                 ┆ 0        ┆ 0     ┆ 0            │\n",
       "└──────────┴───────┴─────────┴─────────┴───┴───────────────────┴──────────┴───────┴──────────────┘"
      ]
     },
     "execution_count": 63,
     "metadata": {},
     "output_type": "execute_result"
    }
   ],
   "source": [
    "rozvrh_by_kat.null_count()"
   ]
  },
  {
   "cell_type": "code",
   "execution_count": 64,
   "metadata": {},
   "outputs": [
    {
     "data": {
      "text/html": [
       "<div><style>\n",
       ".dataframe > thead > tr,\n",
       ".dataframe > tbody > tr {\n",
       "  text-align: right;\n",
       "  white-space: pre-wrap;\n",
       "}\n",
       "</style>\n",
       "<small>shape: (1, 69)</small><table border=\"1\" class=\"dataframe\"><thead><tr><th>katedra</th><th>zkratka</th><th>rok</th><th>nazev</th><th>nazevDlouhy</th><th>maVyuku</th><th>vyukaZS</th><th>vyukaLS</th><th>jakCastoJeNabizen</th><th>jakCastoJeNabizenUpresneni</th><th>kreditu</th><th>viceZapis</th><th>minObsazeni</th><th>garanti</th><th>garantiSPodily</th><th>garantiUcitIdno</th><th>prednasejici</th><th>prednasejiciSPodily</th><th>prednasejiciUcitIdno</th><th>cvicici</th><th>cviciciSPodily</th><th>cviciciUcitIdno</th><th>seminarici</th><th>seminariciSPodily</th><th>seminariciUcitIdno</th><th>schvalujiciUznani</th><th>schvalujiciUznaniUcitIdno</th><th>examinatori</th><th>examinatoriUcitIdno</th><th>podminujiciPredmety</th><th>vylucujiciPredmety</th><th>podminujePredmety</th><th>literatura</th><th>nahrazPredmety</th><th>metodyVyucovaci</th><th>metodyHodnotici</th><th>akreditovan</th><th>jednotekPrednasek</th><th>jednotkaPrednasky</th><th>jednotekCviceni</th><th>jednotkaCviceni</th><th>jednotekSeminare</th><th>jednotkaSeminare</th><th>anotace</th><th>typZkousky</th><th>maZapocetPredZk</th><th>formaZkousky</th><th>pozadavky</th><th>prehledLatky</th><th>predpoklady</th><th>ziskaneZpusobilosti</th><th>casovaNarocnost</th><th>predmetUrl</th><th>vyucovaciJazyky</th><th>poznamka</th><th>ectsZobrazit</th><th>ectsAkreditace</th><th>ectsNabizetUPrijezdu</th><th>poznamkaVerejna</th><th>skupinaAkreditace</th><th>skupinaAkreditaceKey</th><th>zarazenDoPrezencnihoStudia</th><th>zarazenDoKombinovanehoStudia</th><th>studijniOpory</th><th>praxePocetDnu</th><th>urovenNastavena</th><th>urovenVypoctena</th><th>automatickyUznavatZppZk</th><th>hodZaSemKombForma</th></tr><tr><td>u32</td><td>u32</td><td>u32</td><td>u32</td><td>u32</td><td>u32</td><td>u32</td><td>u32</td><td>u32</td><td>u32</td><td>u32</td><td>u32</td><td>u32</td><td>u32</td><td>u32</td><td>u32</td><td>u32</td><td>u32</td><td>u32</td><td>u32</td><td>u32</td><td>u32</td><td>u32</td><td>u32</td><td>u32</td><td>u32</td><td>u32</td><td>u32</td><td>u32</td><td>u32</td><td>u32</td><td>u32</td><td>u32</td><td>u32</td><td>u32</td><td>u32</td><td>u32</td><td>u32</td><td>u32</td><td>u32</td><td>u32</td><td>u32</td><td>u32</td><td>u32</td><td>u32</td><td>u32</td><td>u32</td><td>u32</td><td>u32</td><td>u32</td><td>u32</td><td>u32</td><td>u32</td><td>u32</td><td>u32</td><td>u32</td><td>u32</td><td>u32</td><td>u32</td><td>u32</td><td>u32</td><td>u32</td><td>u32</td><td>u32</td><td>u32</td><td>u32</td><td>u32</td><td>u32</td><td>u32</td></tr></thead><tbody><tr><td>0</td><td>0</td><td>0</td><td>0</td><td>0</td><td>0</td><td>0</td><td>0</td><td>0</td><td>0</td><td>0</td><td>0</td><td>0</td><td>0</td><td>0</td><td>404</td><td>0</td><td>0</td><td>1652</td><td>0</td><td>0</td><td>1294</td><td>0</td><td>0</td><td>2699</td><td>0</td><td>0</td><td>0</td><td>0</td><td>0</td><td>0</td><td>0</td><td>0</td><td>0</td><td>0</td><td>0</td><td>0</td><td>0</td><td>0</td><td>0</td><td>0</td><td>0</td><td>0</td><td>0</td><td>0</td><td>0</td><td>0</td><td>0</td><td>0</td><td>0</td><td>0</td><td>0</td><td>0</td><td>0</td><td>0</td><td>0</td><td>0</td><td>0</td><td>0</td><td>0</td><td>0</td><td>0</td><td>0</td><td>0</td><td>0</td><td>0</td><td>0</td><td>0</td><td>1896</td></tr></tbody></table></div>"
      ],
      "text/plain": [
       "shape: (1, 69)\n",
       "┌─────────┬─────────┬─────┬───────┬───┬───────────────┬──────────────┬──────────────┬──────────────┐\n",
       "│ katedra ┆ zkratka ┆ rok ┆ nazev ┆ … ┆ urovenNastave ┆ urovenVypoct ┆ automatickyU ┆ hodZaSemKomb │\n",
       "│ ---     ┆ ---     ┆ --- ┆ ---   ┆   ┆ na            ┆ ena          ┆ znavatZppZk  ┆ Forma        │\n",
       "│ u32     ┆ u32     ┆ u32 ┆ u32   ┆   ┆ ---           ┆ ---          ┆ ---          ┆ ---          │\n",
       "│         ┆         ┆     ┆       ┆   ┆ u32           ┆ u32          ┆ u32          ┆ u32          │\n",
       "╞═════════╪═════════╪═════╪═══════╪═══╪═══════════════╪══════════════╪══════════════╪══════════════╡\n",
       "│ 0       ┆ 0       ┆ 0   ┆ 0     ┆ … ┆ 0             ┆ 0            ┆ 0            ┆ 1896         │\n",
       "└─────────┴─────────┴─────┴───────┴───┴───────────────┴──────────────┴──────────────┴──────────────┘"
      ]
     },
     "execution_count": 64,
     "metadata": {},
     "output_type": "execute_result"
    }
   ],
   "source": [
    "predmety_by_kat.null_count()"
   ]
  },
  {
   "cell_type": "code",
   "execution_count": 65,
   "metadata": {},
   "outputs": [],
   "source": [
    "# vybírám pouze předměty, které mají rozvrhovou akci"
   ]
  },
  {
   "cell_type": "code",
   "execution_count": 66,
   "metadata": {},
   "outputs": [
    {
     "data": {
      "text/html": [
       "<div><style>\n",
       ".dataframe > thead > tr,\n",
       ".dataframe > tbody > tr {\n",
       "  text-align: right;\n",
       "  white-space: pre-wrap;\n",
       "}\n",
       "</style>\n",
       "<small>shape: (0, 69)</small><table border=\"1\" class=\"dataframe\"><thead><tr><th>katedra</th><th>zkratka</th><th>rok</th><th>nazev</th><th>nazevDlouhy</th><th>maVyuku</th><th>vyukaZS</th><th>vyukaLS</th><th>jakCastoJeNabizen</th><th>jakCastoJeNabizenUpresneni</th><th>kreditu</th><th>viceZapis</th><th>minObsazeni</th><th>garanti</th><th>garantiSPodily</th><th>garantiUcitIdno</th><th>prednasejici</th><th>prednasejiciSPodily</th><th>prednasejiciUcitIdno</th><th>cvicici</th><th>cviciciSPodily</th><th>cviciciUcitIdno</th><th>seminarici</th><th>seminariciSPodily</th><th>seminariciUcitIdno</th><th>schvalujiciUznani</th><th>schvalujiciUznaniUcitIdno</th><th>examinatori</th><th>examinatoriUcitIdno</th><th>podminujiciPredmety</th><th>vylucujiciPredmety</th><th>podminujePredmety</th><th>literatura</th><th>nahrazPredmety</th><th>metodyVyucovaci</th><th>metodyHodnotici</th><th>akreditovan</th><th>jednotekPrednasek</th><th>jednotkaPrednasky</th><th>jednotekCviceni</th><th>jednotkaCviceni</th><th>jednotekSeminare</th><th>jednotkaSeminare</th><th>anotace</th><th>typZkousky</th><th>maZapocetPredZk</th><th>formaZkousky</th><th>pozadavky</th><th>prehledLatky</th><th>predpoklady</th><th>ziskaneZpusobilosti</th><th>casovaNarocnost</th><th>predmetUrl</th><th>vyucovaciJazyky</th><th>poznamka</th><th>ectsZobrazit</th><th>ectsAkreditace</th><th>ectsNabizetUPrijezdu</th><th>poznamkaVerejna</th><th>skupinaAkreditace</th><th>skupinaAkreditaceKey</th><th>zarazenDoPrezencnihoStudia</th><th>zarazenDoKombinovanehoStudia</th><th>studijniOpory</th><th>praxePocetDnu</th><th>urovenNastavena</th><th>urovenVypoctena</th><th>automatickyUznavatZppZk</th><th>hodZaSemKombForma</th></tr><tr><td>str</td><td>str</td><td>i64</td><td>str</td><td>str</td><td>str</td><td>str</td><td>str</td><td>str</td><td>str</td><td>i64</td><td>str</td><td>str</td><td>str</td><td>str</td><td>list[i64]</td><td>str</td><td>str</td><td>list[i64]</td><td>str</td><td>str</td><td>list[i64]</td><td>str</td><td>str</td><td>list[i64]</td><td>str</td><td>str</td><td>str</td><td>str</td><td>str</td><td>str</td><td>str</td><td>str</td><td>str</td><td>str</td><td>str</td><td>str</td><td>i64</td><td>str</td><td>i64</td><td>str</td><td>i64</td><td>str</td><td>str</td><td>str</td><td>str</td><td>str</td><td>str</td><td>str</td><td>str</td><td>str</td><td>str</td><td>str</td><td>str</td><td>str</td><td>str</td><td>str</td><td>str</td><td>str</td><td>str</td><td>str</td><td>str</td><td>str</td><td>str</td><td>i64</td><td>str</td><td>str</td><td>str</td><td>list[i64]</td></tr></thead><tbody></tbody></table></div>"
      ],
      "text/plain": [
       "shape: (0, 69)\n",
       "┌─────────┬─────────┬─────┬───────┬───┬───────────────┬──────────────┬──────────────┬──────────────┐\n",
       "│ katedra ┆ zkratka ┆ rok ┆ nazev ┆ … ┆ urovenNastave ┆ urovenVypoct ┆ automatickyU ┆ hodZaSemKomb │\n",
       "│ ---     ┆ ---     ┆ --- ┆ ---   ┆   ┆ na            ┆ ena          ┆ znavatZppZk  ┆ Forma        │\n",
       "│ str     ┆ str     ┆ i64 ┆ str   ┆   ┆ ---           ┆ ---          ┆ ---          ┆ ---          │\n",
       "│         ┆         ┆     ┆       ┆   ┆ str           ┆ str          ┆ str          ┆ list[i64]    │\n",
       "╞═════════╪═════════╪═════╪═══════╪═══╪═══════════════╪══════════════╪══════════════╪══════════════╡\n",
       "└─────────┴─────────┴─────┴───────┴───┴───────────────┴──────────────┴──────────────┴──────────────┘"
      ]
     },
     "execution_count": 66,
     "metadata": {},
     "output_type": "execute_result"
    }
   ],
   "source": [
    "predmety_s_akci = predmety_by_kat.join(other=rozvrh_by_kat, on=\"zkratka\", how=\"inner\").select(predmety_by_kat.columns).unique().sort(\"zkratka\")\n",
    "str(len(predmety_s_akci)) + \"   \" + str(len(predmety_by_kat)) \n",
    "predmety_s_akci.filter(pl.col(\"zkratka\") == \"P522\").head()"
   ]
  },
  {
   "cell_type": "code",
   "execution_count": 67,
   "metadata": {},
   "outputs": [],
   "source": [
    "predmety_s_akci = predmety_s_akci.with_columns(pl.concat_str([pl.col(\"katedra\"), pl.col(\"zkratka\")], separator=\"/\").alias(\"identifier\"))"
   ]
  },
  {
   "cell_type": "code",
   "execution_count": 68,
   "metadata": {},
   "outputs": [],
   "source": [
    "jednotek_prednasek = pl.col(\"jednotekPrednasek\")\n",
    "jednotek_cviceni = pl.col(\"jednotekCviceni\")\n",
    "jednotek_seminare = pl.col(\"jednotekSeminare\")\n",
    "\n",
    "garant = pl.col(\"garantiUcitIdno\")\n",
    "cvicici = pl.col(\"cviciciUcitIdno\")\n",
    "prednasejici = pl.col(\"prednasejiciUcitIdno\")\n",
    "seminarici = pl.col(\"seminariciUcitIdno\")"
   ]
  },
  {
   "attachments": {},
   "cell_type": "markdown",
   "metadata": {},
   "source": [
    "# Vyučující a garanti"
   ]
  },
  {
   "attachments": {},
   "cell_type": "markdown",
   "metadata": {},
   "source": [
    "### Každý předmět má právě jednoho garanta\n",
    "\n",
    "> Zde jsou předměty, které nemají garanta:"
   ]
  },
  {
   "cell_type": "code",
   "execution_count": 69,
   "metadata": {},
   "outputs": [
    {
     "name": "stdout",
     "output_type": "stream",
     "text": [
      "\n",
      "57 Předmětů nemá zadaného garanta\n",
      "[]\n"
     ]
    },
    {
     "data": {
      "text/html": [
       "<div><style>\n",
       ".dataframe > thead > tr,\n",
       ".dataframe > tbody > tr {\n",
       "  text-align: right;\n",
       "  white-space: pre-wrap;\n",
       "}\n",
       "</style>\n",
       "<small>shape: (5, 4)</small><table border=\"1\" class=\"dataframe\"><thead><tr><th>katedra</th><th>zkratka</th><th>nazev</th><th>identifier</th></tr><tr><td>str</td><td>str</td><td>str</td><td>str</td></tr></thead><tbody><tr><td>&quot;CNB&quot;</td><td>&quot;BP502&quot;</td><td>&quot;Fyziologie živ…</td><td>&quot;BP502/CNB&quot;</td></tr><tr><td>&quot;CNB&quot;</td><td>&quot;EPNS&quot;</td><td>&quot;Elektrospining…</td><td>&quot;EPNS/CNB&quot;</td></tr><tr><td>&quot;CNB&quot;</td><td>&quot;KB502&quot;</td><td>&quot;Fyziologie živ…</td><td>&quot;KB502/CNB&quot;</td></tr><tr><td>&quot;CNB&quot;</td><td>&quot;KB617&quot;</td><td>&quot;Molekulární bi…</td><td>&quot;KB617/CNB&quot;</td></tr><tr><td>&quot;CNB&quot;</td><td>&quot;KPCIM&quot;</td><td>&quot;Prakt. cvičení…</td><td>&quot;KPCIM/CNB&quot;</td></tr></tbody></table></div>"
      ],
      "text/plain": [
       "shape: (5, 4)\n",
       "┌─────────┬─────────┬───────────────────────────────────┬────────────┐\n",
       "│ katedra ┆ zkratka ┆ nazev                             ┆ identifier │\n",
       "│ ---     ┆ ---     ┆ ---                               ┆ ---        │\n",
       "│ str     ┆ str     ┆ str                               ┆ str        │\n",
       "╞═════════╪═════════╪═══════════════════════════════════╪════════════╡\n",
       "│ CNB     ┆ BP502   ┆ Fyziologie živočichů a člověka    ┆ BP502/CNB  │\n",
       "│ CNB     ┆ EPNS    ┆ Elektrospining, př. a vl. nano s… ┆ EPNS/CNB   │\n",
       "│ CNB     ┆ KB502   ┆ Fyziologie živočichů a člověka    ┆ KB502/CNB  │\n",
       "│ CNB     ┆ KB617   ┆ Molekulární biologie              ┆ KB617/CNB  │\n",
       "│ CNB     ┆ KPCIM   ┆ Prakt. cvičení z imunoanalytický… ┆ KPCIM/CNB  │\n",
       "└─────────┴─────────┴───────────────────────────────────┴────────────┘"
      ]
     },
     "execution_count": 69,
     "metadata": {},
     "output_type": "execute_result"
    }
   ],
   "source": [
    "zkratky = predmety_s_akci.filter(garant.is_null()).select([\"katedra\", \"zkratka\", \"identifier\", \"rok\", \"nazev\", \"nazevDlouhy\", \"garanti\", \"garantiSPodily\"]).filter(\n",
    "    # Není SZ\n",
    "    # pl.col(\"zkratka\").str.starts_with(\"SZ\").is_not()\n",
    "    True\n",
    ")\n",
    "print(f\"\\n{len(zkratky)} Předmětů nemá zadaného garanta\")\n",
    "bez_problemu = bez_problemu.join(zkratky,\"identifier\" ,\"anti\")\n",
    "\n",
    "prep_csv(zkratky).write_csv(\"results_csv/bez_garanta\"+name_mod+\".csv\")\n",
    "# print(list(zkratky), sep=\", \")\n",
    "\n",
    "bez_problemu.head()"
   ]
  },
  {
   "attachments": {},
   "cell_type": "markdown",
   "metadata": {},
   "source": [
    "> Předměty podezřelé z více garantů:"
   ]
  },
  {
   "cell_type": "code",
   "execution_count": 70,
   "metadata": {},
   "outputs": [
    {
     "name": "stdout",
     "output_type": "stream",
     "text": [
      "['garantiUcitIdno']\n"
     ]
    }
   ],
   "source": [
    "# If block pokrývá situace kde není žádný předmět s více garanty\n",
    "if predmety_s_akci.dtypes[predmety_s_akci.get_column_index(\"garantiUcitIdno\")] == pl.List:\n",
    "    vice_garantu = predmety_s_akci.with_columns(\n",
    "        garant.list.len().alias(\"pocet garantu\")\n",
    "        ).select(\n",
    "            [\"garantiUcitIdno\", \"garanti\",\"katedra\", \"zkratka\", \"identifier\", \"pocet garantu\"]\n",
    "        ).filter(pl.col(\"pocet garantu\") > 1)\n",
    "    #vice_garantu.write_excel(\"results_xlsx/vice_garantu.xlsx\")\n",
    "    prep_csv(vice_garantu).write_csv(\"results_csv/vice_garantu\"+name_mod+\".csv\")\n",
    "    vice_garantu.head(10)\n",
    "    bez_problemu = bez_problemu.join(vice_garantu,\"identifier\" ,\"anti\")"
   ]
  },
  {
   "cell_type": "code",
   "execution_count": null,
   "metadata": {},
   "outputs": [],
   "source": []
  },
  {
   "attachments": {},
   "cell_type": "markdown",
   "metadata": {},
   "source": [
    "### Každý předmět má alespoň jednoho vyučujícího v kategoriích dle parametrů předmětu\n",
    "\n",
    "např. pokud má předmět rozsah 2 h přednášek a 2 h cvičení, pak musí mít alespoň jednoho přednášejícího a alespoň jednoho cvičícího a zároveň nesmí mít vyučujícího v kategorii vede seminář."
   ]
  },
  {
   "cell_type": "code",
   "execution_count": 71,
   "metadata": {},
   "outputs": [],
   "source": [
    "# Zvýšená škálovatelnost\n",
    "def has_teacher_theoretical(dataframe:pl.DataFrame, teacher_type:str) -> pl.DataFrame:\n",
    "    \"\"\"Find subjects with no teachers for a specific period type.\n",
    "\n",
    "    Args:\n",
    "        dataframe (pl.DataFrame): Dataframe with annotations of subjects.\n",
    "        teacher_type (str): Teacher for that type of period (eg. prednasejici).\n",
    "\n",
    "    Returns:\n",
    "        pl.DataFrame: Dataframe containing offending subjects. Columns: katedra, zkratka, name of all teachers of that type (should be empty), teachers' ids (ditto), how many periods of that type, unit of the former.\n",
    "    \"\"\"\n",
    "    to_period = {\n",
    "        \"prednasejici\":\"jednotekPrednasek\",\n",
    "        \"cvicici\":\"jednotekCviceni\",\n",
    "        \"seminarici\":\"jednotekSeminare\",\n",
    "    }\n",
    "    period_type = to_period[teacher_type]\n",
    "\n",
    "    has_period_type = pl.col(period_type) != 0\n",
    "    has_no_teacher = pl.col(teacher_type + \"UcitIdno\").is_null()\n",
    "\n",
    "    missing_teach = dataframe.filter(has_period_type & has_no_teacher).select(\"katedra\", \"zkratka\", \"identifier\", teacher_type, teacher_type + \"UcitIdno\", period_type, period_type.replace(\"ek\", \"ka\", 1).replace(\"ek\",\"ky\",1))\n",
    "\n",
    "    return missing_teach\n"
   ]
  },
  {
   "cell_type": "code",
   "execution_count": 72,
   "metadata": {},
   "outputs": [
    {
     "name": "stdout",
     "output_type": "stream",
     "text": [
      "['prednasejiciUcitIdno']\n"
     ]
    }
   ],
   "source": [
    "# Přednášející\n",
    "chybi_prednasejici = has_teacher_theoretical(predmety_s_akci, \"prednasejici\")\n",
    "\n",
    "prep_csv(chybi_prednasejici).write_csv(\"results_csv/chybi_prednasejici\"+name_mod+\".csv\")\n",
    "bez_problemu = bez_problemu.join(chybi_prednasejici,\"identifier\" ,\"anti\")"
   ]
  },
  {
   "cell_type": "code",
   "execution_count": 73,
   "metadata": {},
   "outputs": [
    {
     "name": "stdout",
     "output_type": "stream",
     "text": [
      "['cviciciUcitIdno']\n"
     ]
    }
   ],
   "source": [
    "# Cvičící\n",
    "chybi_cvicici = has_teacher_theoretical(predmety_s_akci, \"cvicici\")\n",
    "\n",
    "prep_csv(chybi_cvicici).write_csv(\"results_csv/chybi_cvicici\"+name_mod+\".csv\")\n",
    "bez_problemu = bez_problemu.join(chybi_cvicici,\"identifier\" ,\"anti\")"
   ]
  },
  {
   "cell_type": "code",
   "execution_count": 74,
   "metadata": {},
   "outputs": [
    {
     "name": "stdout",
     "output_type": "stream",
     "text": [
      "['cviciciUcitIdno']\n"
     ]
    }
   ],
   "source": [
    "# Seminařicí\n",
    "chybi_seminarici = has_teacher_theoretical(predmety_s_akci, \"seminarici\")\n",
    "\n",
    "prep_csv(chybi_cvicici).write_csv(\"results_csv/chybi_seminarici.xlsx\")\n",
    "bez_problemu = bez_problemu.join(chybi_seminarici,\"identifier\" ,\"anti\")"
   ]
  },
  {
   "cell_type": "markdown",
   "metadata": {},
   "source": [
    "#### Legacy varianta"
   ]
  },
  {
   "cell_type": "code",
   "execution_count": 75,
   "metadata": {},
   "outputs": [],
   "source": [
    "# ma_prednasku = jednotek_prednasek != 0\n",
    "# nema_prednasejiciho = prednasejici.is_null()\n",
    "\n",
    "# chybi_prednasejici = predmety_s_akci.filter(ma_prednasku & nema_prednasejiciho).select(\"katedra\", \"zkratka\", \"prednasejici\", \"prednasejiciUcitIdno\", \"jednotekPrednasek\", \"jednotkaPrednasky\")\n",
    "# chybi_prednasejici.write_excel(\"results_xlsx/chybi_prednasejici.xlsx\")\n",
    "\n",
    "# prep_csv(chybi_prednasejici).write_csv(\"results/chybi_prednasejici\"+name_mod+\".csv\")\n",
    "# chybi_prednasejici.head()\n",
    "# #bez_problemu = bez_problemu.join(chybi_prednasejici,\"identifier\" ,\"anti\")"
   ]
  },
  {
   "cell_type": "code",
   "execution_count": 76,
   "metadata": {},
   "outputs": [],
   "source": [
    "# ma_cviceni = jednotek_cviceni != 0\n",
    "# nema_cviciciho = cvicici.is_null()\n",
    "\n",
    "# chybi_cvicici = predmety_s_akci.filter(ma_cviceni & nema_cviciciho).select(\"katedra\", \"zkratka\", \"cvicici\", \"cviciciUcitIdno\", \"jednotekCviceni\", \"jednotkaCviceni\")\n",
    "# chybi_cvicici.write_excel(\"results_xlsx/chybi_cvicici.xlsx\")\n",
    "# prep_csv(chybi_cvicici).write_csv(\"results_csv/chybi_cvicici\"+name_mod+\".csv\")\n",
    "# chybi_cvicici.head()\n",
    "# bez_problemu = bez_problemu.join(chybi_cvicici,\"identifier\" ,\"anti\")"
   ]
  },
  {
   "cell_type": "code",
   "execution_count": 77,
   "metadata": {},
   "outputs": [],
   "source": [
    "# ma_seminare = jednotek_seminare != 0\n",
    "# nema_seminariciho = seminarici.is_null()\n",
    "\n",
    "# chybi_seminarici = predmety_s_akci.filter(ma_seminare & nema_seminariciho).select(\"katedra\", \"zkratka\", \"seminarici\", \"seminariciUcitIdno\", \"jednotekSeminare\", \"jednotkaSeminare\")\n",
    "# chybi_seminarici.write_excel(\"results_xlsx/chybi_seminarici.xlsx\")\n",
    "# prep_csv(chybi_seminarici).write_csv(\"results_csv/chybi_seminarici.xlsx\")\n",
    "# bez_problemu = bez_problemu.join(chybi_seminarici,\"identifier\" ,\"anti\")"
   ]
  },
  {
   "attachments": {},
   "cell_type": "markdown",
   "metadata": {},
   "source": [
    "> Zde jsou předměty, ve kterých učitel vede seminář:"
   ]
  },
  {
   "cell_type": "code",
   "execution_count": 78,
   "metadata": {},
   "outputs": [],
   "source": [
    "#prednasejici_je_seminarici = prednasejici == seminarici\n",
    "#cvicici_je_seminarici = cvicici == seminarici\n",
    "\n",
    "#konflikt_vyucujicich = predmety_s_akci.filter(ma_seminare & ma_prednasku & (prednasejici_je_seminarici | cvicici_je_seminarici))\n",
    "#konflikt_vyucujicich.write_excel(\"results/konflikt_vyucujicich.xlsx\")\n",
    "#konflikt_vyucujicich.head()"
   ]
  },
  {
   "cell_type": "code",
   "execution_count": 79,
   "metadata": {},
   "outputs": [
    {
     "name": "stdout",
     "output_type": "stream",
     "text": [
      "8 předmětů nemá přednášejícího\n",
      "27 předmětů nemá cvičícího\n",
      "3 předmětů nemá seminářícího\n"
     ]
    }
   ],
   "source": [
    "print(f\"{len(chybi_prednasejici)} předmětů nemá přednášejícího\")\n",
    "print(f\"{len(chybi_cvicici)} předmětů nemá cvičícího\")\n",
    "print(f\"{len(chybi_seminarici)} předmětů nemá seminářícího\")\n",
    "# print(f\"U {len(konflikt_vyucujicich)} předmětů je seminářící také učitel\")"
   ]
  },
  {
   "attachments": {},
   "cell_type": "markdown",
   "metadata": {},
   "source": [
    "### Garant by měl být někde mezi vyučujícími. Pokud má předmět přednášku, měl by být přednášející.\n",
    "\n",
    "> V těchto předmětech garant vůbec neučí:"
   ]
  },
  {
   "cell_type": "code",
   "execution_count": 80,
   "metadata": {},
   "outputs": [
    {
     "name": "stdout",
     "output_type": "stream",
     "text": [
      "['garantiUcitIdno' 'prednasejiciUcitIdno' 'cviciciUcitIdno'\n",
      " 'seminariciUcitIdno']\n"
     ]
    },
    {
     "data": {
      "text/html": [
       "<div><style>\n",
       ".dataframe > thead > tr,\n",
       ".dataframe > tbody > tr {\n",
       "  text-align: right;\n",
       "  white-space: pre-wrap;\n",
       "}\n",
       "</style>\n",
       "<small>shape: (5, 9)</small><table border=\"1\" class=\"dataframe\"><thead><tr><th>garantiUcitIdno</th><th>katedra</th><th>zkratka</th><th>prednasejiciUcitIdno</th><th>cviciciUcitIdno</th><th>seminariciUcitIdno</th><th>jednotekPrednasek</th><th>jednotekCviceni</th><th>jednotekSeminare</th></tr><tr><td>list[i64]</td><td>str</td><td>str</td><td>list[i64]</td><td>list[i64]</td><td>list[i64]</td><td>i64</td><td>i64</td><td>i64</td></tr></thead><tbody><tr><td>[1983]</td><td>&quot;KBI&quot;</td><td>&quot;BK201&quot;</td><td>null</td><td>null</td><td>null</td><td>6</td><td>0</td><td>0</td></tr><tr><td>[8441]</td><td>&quot;KBI&quot;</td><td>&quot;KPSPN&quot;</td><td>null</td><td>null</td><td>[8952]</td><td>0</td><td>0</td><td>4</td></tr><tr><td>[1610]</td><td>&quot;KCH&quot;</td><td>&quot;KPPP&quot;</td><td>null</td><td>null</td><td>[8744, 3704]</td><td>0</td><td>0</td><td>13</td></tr><tr><td>[8441]</td><td>&quot;KBI&quot;</td><td>&quot;KPSPP&quot;</td><td>null</td><td>null</td><td>[8952]</td><td>0</td><td>0</td><td>3</td></tr><tr><td>[69]</td><td>&quot;KFY&quot;</td><td>&quot;PM&quot;</td><td>[1803, 304, … 3521]</td><td>[1803, 304, … 3521]</td><td>null</td><td>2</td><td>3</td><td>0</td></tr></tbody></table></div>"
      ],
      "text/plain": [
       "shape: (5, 9)\n",
       "┌────────────┬─────────┬─────────┬────────────┬───┬────────────┬───────────┬───────────┬───────────┐\n",
       "│ garantiUci ┆ katedra ┆ zkratka ┆ prednaseji ┆ … ┆ seminarici ┆ jednotekP ┆ jednotekC ┆ jednotekS │\n",
       "│ tIdno      ┆ ---     ┆ ---     ┆ ciUcitIdno ┆   ┆ UcitIdno   ┆ rednasek  ┆ viceni    ┆ eminare   │\n",
       "│ ---        ┆ str     ┆ str     ┆ ---        ┆   ┆ ---        ┆ ---       ┆ ---       ┆ ---       │\n",
       "│ list[i64]  ┆         ┆         ┆ list[i64]  ┆   ┆ list[i64]  ┆ i64       ┆ i64       ┆ i64       │\n",
       "╞════════════╪═════════╪═════════╪════════════╪═══╪════════════╪═══════════╪═══════════╪═══════════╡\n",
       "│ [1983]     ┆ KBI     ┆ BK201   ┆ null       ┆ … ┆ null       ┆ 6         ┆ 0         ┆ 0         │\n",
       "│ [8441]     ┆ KBI     ┆ KPSPN   ┆ null       ┆ … ┆ [8952]     ┆ 0         ┆ 0         ┆ 4         │\n",
       "│ [1610]     ┆ KCH     ┆ KPPP    ┆ null       ┆ … ┆ [8744,     ┆ 0         ┆ 0         ┆ 13        │\n",
       "│            ┆         ┆         ┆            ┆   ┆ 3704]      ┆           ┆           ┆           │\n",
       "│ [8441]     ┆ KBI     ┆ KPSPP   ┆ null       ┆ … ┆ [8952]     ┆ 0         ┆ 0         ┆ 3         │\n",
       "│ [69]       ┆ KFY     ┆ PM      ┆ [1803,     ┆ … ┆ null       ┆ 2         ┆ 3         ┆ 0         │\n",
       "│            ┆         ┆         ┆ 304, …     ┆   ┆            ┆           ┆           ┆           │\n",
       "│            ┆         ┆         ┆ 3521]      ┆   ┆            ┆           ┆           ┆           │\n",
       "└────────────┴─────────┴─────────┴────────────┴───┴────────────┴───────────┴───────────┴───────────┘"
      ]
     },
     "execution_count": 80,
     "metadata": {},
     "output_type": "execute_result"
    }
   ],
   "source": [
    "predmety_kgn = predmety_s_akci.filter((jednotek_cviceni != pl.lit(0)) | (jednotek_prednasek != pl.lit(0)) | (jednotek_seminare != pl.lit(0)))\n",
    "if predmety_kgn.dtypes[predmety_kgn.get_column_index(\"garantiUcitIdno\")] == pl.List:\n",
    "    predmety_kgn = predmety_kgn.explode(\"garantiUcitIdno\")\n",
    "predmety_kgn = predmety_kgn.with_columns(\n",
    "    ((prednasejici.list.contains(garant)) | (cvicici.list.contains(garant)) | (seminarici.list.contains(garant))).alias(\"containBool\")\n",
    ")\n",
    "\n",
    "aggreg_kgn = (\n",
    "    predmety_kgn.lazy().group_by(\"identifier\").agg(\n",
    "        pl.when(pl.col(\"containBool\") == False).then(garant)\n",
    "    ).with_columns(garant.list.drop_nulls()).filter(garant.list.len() > 0)\n",
    ")\n",
    "\n",
    "selection = [\"identifier\",\"katedra\", \"zkratka\", \"prednasejiciUcitIdno\", \"cviciciUcitIdno\", \"seminariciUcitIdno\", \"jednotekPrednasek\", \"jednotekCviceni\", \"jednotekSeminare\"]\n",
    "predmety_kde_garant_neuci = aggreg_kgn.collect().join(predmety_kgn.select(selection), \"identifier\", \"left\").drop(\"identifier\")\n",
    "prep_csv(predmety_kde_garant_neuci).write_csv(\"results_csv/predmety_kde_garant_neuci\"+name_mod+\".csv\")\n",
    "predmety_kde_garant_neuci.head()\n",
    "# bez_problemu = bez_problemu.join(predmety_kde_garant_neuci,\"identifier\" ,\"anti\")"
   ]
  },
  {
   "attachments": {},
   "cell_type": "markdown",
   "metadata": {},
   "source": [
    "> v těchto předmětech je přednáška, ale nedělá jí garant:"
   ]
  },
  {
   "cell_type": "code",
   "execution_count": 81,
   "metadata": {},
   "outputs": [
    {
     "name": "stdout",
     "output_type": "stream",
     "text": [
      "['garantiUcitIdno' 'prednasejiciUcitIdno']\n",
      "18\n"
     ]
    },
    {
     "data": {
      "text/html": [
       "<div><style>\n",
       ".dataframe > thead > tr,\n",
       ".dataframe > tbody > tr {\n",
       "  text-align: right;\n",
       "  white-space: pre-wrap;\n",
       "}\n",
       "</style>\n",
       "<small>shape: (5, 5)</small><table border=\"1\" class=\"dataframe\"><thead><tr><th>garantiUcitIdno</th><th>katedra</th><th>zkratka</th><th>prednasejiciUcitIdno</th><th>jednotekPrednasek</th></tr><tr><td>list[i64]</td><td>str</td><td>str</td><td>list[i64]</td><td>i64</td></tr></thead><tbody><tr><td>[8512]</td><td>&quot;KBI&quot;</td><td>&quot;BK333&quot;</td><td>[930]</td><td>8</td></tr><tr><td>[1644]</td><td>&quot;KGEO&quot;</td><td>&quot;M107&quot;</td><td>[5457]</td><td>2</td></tr><tr><td>[312]</td><td>&quot;KGEO&quot;</td><td>&quot;B406&quot;</td><td>[7684]</td><td>1</td></tr><tr><td>[3553]</td><td>&quot;CNB&quot;</td><td>&quot;PTVN&quot;</td><td>[4587]</td><td>1</td></tr><tr><td>[615]</td><td>&quot;KFY&quot;</td><td>&quot;M303&quot;</td><td>[79]</td><td>2</td></tr></tbody></table></div>"
      ],
      "text/plain": [
       "shape: (5, 5)\n",
       "┌─────────────────┬─────────┬─────────┬──────────────────────┬───────────────────┐\n",
       "│ garantiUcitIdno ┆ katedra ┆ zkratka ┆ prednasejiciUcitIdno ┆ jednotekPrednasek │\n",
       "│ ---             ┆ ---     ┆ ---     ┆ ---                  ┆ ---               │\n",
       "│ list[i64]       ┆ str     ┆ str     ┆ list[i64]            ┆ i64               │\n",
       "╞═════════════════╪═════════╪═════════╪══════════════════════╪═══════════════════╡\n",
       "│ [8512]          ┆ KBI     ┆ BK333   ┆ [930]                ┆ 8                 │\n",
       "│ [1644]          ┆ KGEO    ┆ M107    ┆ [5457]               ┆ 2                 │\n",
       "│ [312]           ┆ KGEO    ┆ B406    ┆ [7684]               ┆ 1                 │\n",
       "│ [3553]          ┆ CNB     ┆ PTVN    ┆ [4587]               ┆ 1                 │\n",
       "│ [615]           ┆ KFY     ┆ M303    ┆ [79]                 ┆ 2                 │\n",
       "└─────────────────┴─────────┴─────────┴──────────────────────┴───────────────────┘"
      ]
     },
     "execution_count": 81,
     "metadata": {},
     "output_type": "execute_result"
    }
   ],
   "source": [
    "# garant_neni_prednasejici = ((garant.list.eval(prednasejici.list.contains(pl.element())))) & (jednotek_prednasek != pl.lit(0)) # & (prednasejici.list.len() != 1)\n",
    "# garant_neprednasi = predmety_s_akci.filter(garant_neni_prednasejici).select(\"katedra\", \"zkratka\", \"garanti\", \"garantiUcitIdno\", \"prednasejici\", \"prednasejiciUcitIdno\")\n",
    "\n",
    "garant_neprednasi = predmety_s_akci.filter(jednotek_prednasek != pl.lit(0)).explode(\"garantiUcitIdno\").with_columns(\n",
    "    prednasejici.list.contains(garant).alias(\"containBool\")\n",
    ")\n",
    "\n",
    "#print(garant_neprednasi.select(\"containBool\", \"garantiUcitIdno\").head())\n",
    "\n",
    "aggregation = (\n",
    "    garant_neprednasi.lazy().group_by(\"identifier\").agg(\n",
    "        #pl.col(\"identifier\"),\n",
    "        pl.when(pl.col(\"containBool\") == False).then(garant)\n",
    "    ).with_columns(garant.list.drop_nulls()).filter(garant.list.len() > 0)\n",
    ")\n",
    "\n",
    "garant_neprednasi_post = aggregation.collect().join(garant_neprednasi.select(\"katedra\", \"zkratka\",\"prednasejiciUcitIdno\", \"identifier\", \"jednotekPrednasek\"), \"identifier\", \"left\").drop(\"identifier\")\n",
    "\n",
    "\n",
    "\n",
    "# garant_neprednasi.write_excel(\"results_xlsx/garant_neprednasi.xlsx\")\n",
    "garant_neprednasi_csv = prep_csv(garant_neprednasi_post)\n",
    "garant_neprednasi_csv.write_csv(\"results_csv/garant_neprednasi\"+name_mod+\".csv\")\n",
    "print(garant_neprednasi_post.__len__())\n",
    "# bez_problemu = bez_problemu.join(garant_neprednasi,\"identifier\" ,\"anti\")\n",
    "\n",
    "garant_neprednasi_post.head()"
   ]
  },
  {
   "attachments": {},
   "cell_type": "markdown",
   "metadata": {},
   "source": [
    "## Kontrola proti rozvrhovaným akcím"
   ]
  },
  {
   "attachments": {},
   "cell_type": "markdown",
   "metadata": {},
   "source": [
    "### Vyučující u rozvrhových akcí musí být v příslušných kategoriích u vyučujících"
   ]
  },
  {
   "attachments": {},
   "cell_type": "markdown",
   "metadata": {},
   "source": [
    "#### Osekám dataframy"
   ]
  },
  {
   "cell_type": "code",
   "execution_count": 82,
   "metadata": {},
   "outputs": [
    {
     "data": {
      "text/html": [
       "<div><style>\n",
       ".dataframe > thead > tr,\n",
       ".dataframe > tbody > tr {\n",
       "  text-align: right;\n",
       "  white-space: pre-wrap;\n",
       "}\n",
       "</style>\n",
       "<small>shape: (5, 54)</small><table border=\"1\" class=\"dataframe\"><thead><tr><th>roakIdno</th><th>nazev</th><th>katedra</th><th>zkratka</th><th>statut</th><th>ucitIdno</th><th>ucitIdno.ucitel</th><th>jmeno.ucitel</th><th>prijmeni.ucitel</th><th>titulPred.ucitel</th><th>titulZa.ucitel</th><th>platnost.ucitel</th><th>zamestnanec.ucitel</th><th>podilNaVyuce.ucitel</th><th>rok</th><th>budova</th><th>mistnost</th><th>kapacitaMistnosti</th><th>planObsazeni</th><th>obsazeni</th><th>typAkce</th><th>typAkceZkr</th><th>platnost</th><th>den</th><th>denZkr</th><th>vyucJazyk</th><th>hodinaOd</th><th>hodinaDo</th><th>pocetVyucHodin</th><th>hodinaSkutOd</th><th>hodinaSkutDo</th><th>tydenOd</th><th>tydenDo</th><th>tyden</th><th>tydenZkr</th><th>grupIdno</th><th>jeNadrazena</th><th>maNadrazenou</th><th>kontakt</th><th>krouzky</th><th>casovaRada</th><th>datum</th><th>datumOd</th><th>datumDo</th><th>druhAkce</th><th>vsichniUciteleUcitIdno</th><th>vsichniUciteleJmenaTituly</th><th>vsichniUciteleJmenaTitulySPodily</th><th>vsichniUcitelePrijmeni</th><th>referencedIdno</th><th>poznamkaRozvrhare</th><th>nekonaSe</th><th>owner</th><th>zakazaneAkce</th></tr><tr><td>i64</td><td>str</td><td>str</td><td>str</td><td>str</td><td>str</td><td>list[i64]</td><td>str</td><td>str</td><td>str</td><td>str</td><td>str</td><td>str</td><td>str</td><td>i64</td><td>str</td><td>str</td><td>str</td><td>i64</td><td>i64</td><td>str</td><td>str</td><td>str</td><td>str</td><td>str</td><td>str</td><td>str</td><td>str</td><td>i64</td><td>str</td><td>str</td><td>i64</td><td>i64</td><td>str</td><td>str</td><td>str</td><td>str</td><td>str</td><td>str</td><td>str</td><td>str</td><td>str</td><td>str</td><td>str</td><td>str</td><td>list[i64]</td><td>str</td><td>str</td><td>str</td><td>i64</td><td>str</td><td>str</td><td>str</td><td>str</td></tr></thead><tbody><tr><td>495360</td><td>&quot;Výp. a odhad. …</td><td>&quot;CNB&quot;</td><td>&quot;NA19&quot;</td><td>&quot;&quot;</td><td>&quot;332&quot;</td><td>[332]</td><td>&quot;Zdeňka&quot;</td><td>&quot;Kolská&quot;</td><td>&quot;prof. Ing.&quot;</td><td>&quot;Ph.D.&quot;</td><td>&quot;A&quot;</td><td>&quot;A&quot;</td><td>&quot;100&quot;</td><td>2024</td><td>&quot;CP&quot;</td><td>&quot;2.33&quot;</td><td>&quot;8&quot;</td><td>9</td><td>0</td><td>&quot;Přednáška&quot;</td><td>&quot;Př&quot;</td><td>&quot;A&quot;</td><td>&quot;Pátek&quot;</td><td>&quot;Pá&quot;</td><td>&quot;&quot;</td><td>&quot;5&quot;</td><td>&quot;5&quot;</td><td>1</td><td>&quot;11:00&quot;</td><td>&quot;11:50&quot;</td><td>40</td><td>1</td><td>&quot;Každý&quot;</td><td>&quot;K&quot;</td><td>&quot;&quot;</td><td>&quot;N&quot;</td><td>&quot;N&quot;</td><td>&quot;Automaticky vy…</td><td>&quot;1.N NANO,1.NAN…</td><td>&quot;UJEP&quot;</td><td>&quot;&quot;</td><td>&quot;4.10.2024&quot;</td><td>&quot;3.1.2025&quot;</td><td>&quot;R&quot;</td><td>[332]</td><td>&quot;prof. Ing. Zde…</td><td>&quot;&#x27;prof. Ing. Zd…</td><td>&quot;Kolská&quot;</td><td>495360</td><td>&quot;&quot;</td><td>&quot;&quot;</td><td>&quot;RSMEJKAL&quot;</td><td>&quot;&quot;</td></tr><tr><td>495361</td><td>&quot;Výp. a odhad. …</td><td>&quot;CNB&quot;</td><td>&quot;NA19&quot;</td><td>&quot;&quot;</td><td>&quot;332&quot;</td><td>[332]</td><td>&quot;Zdeňka&quot;</td><td>&quot;Kolská&quot;</td><td>&quot;prof. Ing.&quot;</td><td>&quot;Ph.D.&quot;</td><td>&quot;A&quot;</td><td>&quot;A&quot;</td><td>&quot;100&quot;</td><td>2024</td><td>&quot;CP&quot;</td><td>&quot;2.33&quot;</td><td>&quot;8&quot;</td><td>9</td><td>0</td><td>&quot;Cvičení&quot;</td><td>&quot;Cv&quot;</td><td>&quot;A&quot;</td><td>&quot;Pátek&quot;</td><td>&quot;Pá&quot;</td><td>&quot;&quot;</td><td>&quot;6&quot;</td><td>&quot;6&quot;</td><td>1</td><td>&quot;12:00&quot;</td><td>&quot;12:50&quot;</td><td>40</td><td>1</td><td>&quot;Každý&quot;</td><td>&quot;K&quot;</td><td>&quot;&quot;</td><td>&quot;N&quot;</td><td>&quot;N&quot;</td><td>&quot;Automaticky vy…</td><td>&quot;1.N NANO,1.NAN…</td><td>&quot;UJEP&quot;</td><td>&quot;&quot;</td><td>&quot;4.10.2024&quot;</td><td>&quot;3.1.2025&quot;</td><td>&quot;R&quot;</td><td>[332]</td><td>&quot;prof. Ing. Zde…</td><td>&quot;&#x27;prof. Ing. Zd…</td><td>&quot;Kolská&quot;</td><td>495361</td><td>&quot;&quot;</td><td>&quot;&quot;</td><td>&quot;RSMEJKAL&quot;</td><td>&quot;&quot;</td></tr><tr><td>495357</td><td>&quot;Výp. a odhad. …</td><td>&quot;CNB&quot;</td><td>&quot;METD&quot;</td><td>&quot;&quot;</td><td>&quot;&quot;</td><td>null</td><td>&quot;&quot;</td><td>&quot;&quot;</td><td>&quot;&quot;</td><td>&quot;&quot;</td><td>&quot;&quot;</td><td>&quot;&quot;</td><td>&quot;&quot;</td><td>2024</td><td>&quot;&quot;</td><td>&quot;&quot;</td><td>&quot;&quot;</td><td>777</td><td>0</td><td>&quot;Přednáška&quot;</td><td>&quot;Př&quot;</td><td>&quot;A&quot;</td><td>&quot;&quot;</td><td>&quot;&quot;</td><td>&quot;&quot;</td><td>&quot;&quot;</td><td>&quot;&quot;</td><td>1</td><td>&quot;00:00&quot;</td><td>&quot;00:00&quot;</td><td>0</td><td>0</td><td>&quot;Každý&quot;</td><td>&quot;K&quot;</td><td>&quot;&quot;</td><td>&quot;N&quot;</td><td>&quot;N&quot;</td><td>&quot;Automaticky vy…</td><td>&quot;&quot;</td><td>&quot;&quot;</td><td>&quot;&quot;</td><td>&quot;&quot;</td><td>&quot;&quot;</td><td>&quot;R&quot;</td><td>null</td><td>&quot;&quot;</td><td>&quot;&quot;</td><td>&quot;&quot;</td><td>495357</td><td>&quot;&quot;</td><td>&quot;&quot;</td><td>&quot;RSMEJKAL&quot;</td><td>&quot;&quot;</td></tr><tr><td>492230</td><td>&quot;Obecná botanik…</td><td>&quot;KBI&quot;</td><td>&quot;BP103&quot;</td><td>&quot;&quot;</td><td>&quot;5969&quot;</td><td>[5969]</td><td>&quot;Lukáš&quot;</td><td>&quot;Bystrianský&quot;</td><td>&quot;Mgr.&quot;</td><td>&quot;Ph.D.&quot;</td><td>&quot;A&quot;</td><td>&quot;A&quot;</td><td>&quot;100&quot;</td><td>2024</td><td>&quot;ZV&quot;</td><td>&quot;202&quot;</td><td>&quot;30&quot;</td><td>17</td><td>0</td><td>&quot;Cvičení&quot;</td><td>&quot;Cv&quot;</td><td>&quot;A&quot;</td><td>&quot;Pondělí&quot;</td><td>&quot;Po&quot;</td><td>&quot;&quot;</td><td>&quot;3&quot;</td><td>&quot;6&quot;</td><td>4</td><td>&quot;09:00&quot;</td><td>&quot;12:50&quot;</td><td>41</td><td>51</td><td>&quot;Lichý&quot;</td><td>&quot;L&quot;</td><td>&quot;&quot;</td><td>&quot;N&quot;</td><td>&quot;N&quot;</td><td>&quot;Automaticky vy…</td><td>&quot;1.BI JO&quot;</td><td>&quot;UJEP&quot;</td><td>&quot;&quot;</td><td>&quot;7.10.2024&quot;</td><td>&quot;16.12.2024&quot;</td><td>&quot;R&quot;</td><td>[5969]</td><td>&quot;Mgr. Lukáš Bys…</td><td>&quot;&#x27;Mgr. Lukáš By…</td><td>&quot;Bystrianský&quot;</td><td>492230</td><td>&quot;&quot;</td><td>&quot;&quot;</td><td>&quot;RBYSTRIANSKY&quot;</td><td>&quot;&quot;</td></tr><tr><td>492315</td><td>&quot;Plant Biotechn…</td><td>&quot;KBI&quot;</td><td>&quot;M302&quot;</td><td>&quot;&quot;</td><td>&quot;5471&quot;</td><td>[5471]</td><td>&quot;Hana&quot;</td><td>&quot;Auer Malinská&quot;</td><td>&quot;Mgr.&quot;</td><td>&quot;Ph.D.&quot;</td><td>&quot;A&quot;</td><td>&quot;A&quot;</td><td>&quot;100&quot;</td><td>2024</td><td>&quot;ZV&quot;</td><td>&quot;B2&quot;</td><td>&quot;12&quot;</td><td>8</td><td>0</td><td>&quot;Přednáška&quot;</td><td>&quot;Př&quot;</td><td>&quot;A&quot;</td><td>&quot;Pondělí&quot;</td><td>&quot;Po&quot;</td><td>&quot;&quot;</td><td>&quot;4&quot;</td><td>&quot;5&quot;</td><td>2</td><td>&quot;10:00&quot;</td><td>&quot;11:50&quot;</td><td>41</td><td>51</td><td>&quot;Každý&quot;</td><td>&quot;K&quot;</td><td>&quot;&quot;</td><td>&quot;N&quot;</td><td>&quot;N&quot;</td><td>&quot;Automaticky vy…</td><td>&quot;2.BI N AB,2.BI…</td><td>&quot;UJEP&quot;</td><td>&quot;&quot;</td><td>&quot;7.10.2024&quot;</td><td>&quot;16.12.2024&quot;</td><td>&quot;R&quot;</td><td>[5471]</td><td>&quot;Mgr. Hana Auer…</td><td>&quot;&#x27;Mgr. Hana Aue…</td><td>&quot;Auer Malinská&quot;</td><td>492315</td><td>&quot;&quot;</td><td>&quot;&quot;</td><td>&quot;RBYSTRIANSKY&quot;</td><td>&quot;&quot;</td></tr></tbody></table></div>"
      ],
      "text/plain": [
       "shape: (5, 54)\n",
       "┌──────────┬─────────────┬─────────┬─────────┬───┬────────────┬──────────┬────────────┬────────────┐\n",
       "│ roakIdno ┆ nazev       ┆ katedra ┆ zkratka ┆ … ┆ poznamkaRo ┆ nekonaSe ┆ owner      ┆ zakazaneAk │\n",
       "│ ---      ┆ ---         ┆ ---     ┆ ---     ┆   ┆ zvrhare    ┆ ---      ┆ ---        ┆ ce         │\n",
       "│ i64      ┆ str         ┆ str     ┆ str     ┆   ┆ ---        ┆ str      ┆ str        ┆ ---        │\n",
       "│          ┆             ┆         ┆         ┆   ┆ str        ┆          ┆            ┆ str        │\n",
       "╞══════════╪═════════════╪═════════╪═════════╪═══╪════════════╪══════════╪════════════╪════════════╡\n",
       "│ 495360   ┆ Výp. a      ┆ CNB     ┆ NA19    ┆ … ┆            ┆          ┆ RSMEJKAL   ┆            │\n",
       "│          ┆ odhad. met. ┆         ┆         ┆   ┆            ┆          ┆            ┆            │\n",
       "│          ┆ pro fy/chem ┆         ┆         ┆   ┆            ┆          ┆            ┆            │\n",
       "│          ┆ v…          ┆         ┆         ┆   ┆            ┆          ┆            ┆            │\n",
       "│ 495361   ┆ Výp. a      ┆ CNB     ┆ NA19    ┆ … ┆            ┆          ┆ RSMEJKAL   ┆            │\n",
       "│          ┆ odhad. met. ┆         ┆         ┆   ┆            ┆          ┆            ┆            │\n",
       "│          ┆ pro fy/chem ┆         ┆         ┆   ┆            ┆          ┆            ┆            │\n",
       "│          ┆ v…          ┆         ┆         ┆   ┆            ┆          ┆            ┆            │\n",
       "│ 495357   ┆ Výp. a      ┆ CNB     ┆ METD    ┆ … ┆            ┆          ┆ RSMEJKAL   ┆            │\n",
       "│          ┆ odhad. met. ┆         ┆         ┆   ┆            ┆          ┆            ┆            │\n",
       "│          ┆ pro fy-che  ┆         ┆         ┆   ┆            ┆          ┆            ┆            │\n",
       "│          ┆ vl…         ┆         ┆         ┆   ┆            ┆          ┆            ┆            │\n",
       "│ 492230   ┆ Obecná      ┆ KBI     ┆ BP103   ┆ … ┆            ┆          ┆ RBYSTRIANS ┆            │\n",
       "│          ┆ botanika    ┆         ┆         ┆   ┆            ┆          ┆ KY         ┆            │\n",
       "│ 492315   ┆ Plant Biote ┆ KBI     ┆ M302    ┆ … ┆            ┆          ┆ RBYSTRIANS ┆            │\n",
       "│          ┆ chnology    ┆         ┆         ┆   ┆            ┆          ┆ KY         ┆            │\n",
       "└──────────┴─────────────┴─────────┴─────────┴───┴────────────┴──────────┴────────────┴────────────┘"
      ]
     },
     "execution_count": 82,
     "metadata": {},
     "output_type": "execute_result"
    }
   ],
   "source": [
    "rozvrh_by_kat.head()\n",
    "# predmety_by_kat.head()"
   ]
  },
  {
   "cell_type": "code",
   "execution_count": 83,
   "metadata": {},
   "outputs": [
    {
     "data": {
      "text/html": [
       "<div><style>\n",
       ".dataframe > thead > tr,\n",
       ".dataframe > tbody > tr {\n",
       "  text-align: right;\n",
       "  white-space: pre-wrap;\n",
       "}\n",
       "</style>\n",
       "<small>shape: (0, 10)</small><table border=\"1\" class=\"dataframe\"><thead><tr><th>katedra</th><th>zkratka</th><th>idno</th><th>typAkceZkr</th><th>rok</th><th>datumOd</th><th>datumDo</th><th>hodinaSkutOd</th><th>hodinaSkutDo</th><th>identifier</th></tr><tr><td>str</td><td>str</td><td>i64</td><td>str</td><td>i64</td><td>str</td><td>str</td><td>str</td><td>str</td><td>str</td></tr></thead><tbody></tbody></table></div>"
      ],
      "text/plain": [
       "shape: (0, 10)\n",
       "┌─────────┬─────────┬──────┬────────────┬───┬─────────┬──────────────┬──────────────┬────────────┐\n",
       "│ katedra ┆ zkratka ┆ idno ┆ typAkceZkr ┆ … ┆ datumDo ┆ hodinaSkutOd ┆ hodinaSkutDo ┆ identifier │\n",
       "│ ---     ┆ ---     ┆ ---  ┆ ---        ┆   ┆ ---     ┆ ---          ┆ ---          ┆ ---        │\n",
       "│ str     ┆ str     ┆ i64  ┆ str        ┆   ┆ str     ┆ str          ┆ str          ┆ str        │\n",
       "╞═════════╪═════════╪══════╪════════════╪═══╪═════════╪══════════════╪══════════════╪════════════╡\n",
       "└─────────┴─────────┴──────┴────────────┴───┴─────────┴──────────────┴──────────────┴────────────┘"
      ]
     },
     "execution_count": 83,
     "metadata": {},
     "output_type": "execute_result"
    }
   ],
   "source": [
    "# PROZATÍMNÍ NASTAVENÍ FILTRUJE AKCE BEZ DATUMU\n",
    "\n",
    "maly_rozvrh = rozvrh_by_kat.select([\"katedra\",\"zkratka\", \"vsichniUciteleUcitIdno\", \"typAkceZkr\", \"rok\", \"datumOd\", \"datumDo\", \"hodinaSkutOd\", \"hodinaSkutDo\"]).with_columns(pl.concat_str(pl.col(\"zkratka\"), pl.col(\"katedra\")).alias(\"identifier\"))\n",
    "maly_rozvrh = maly_rozvrh.with_columns(pl.col(\"vsichniUciteleUcitIdno\")).explode(\"vsichniUciteleUcitIdno\").rename({\"vsichniUciteleUcitIdno\": \"idno\"}).filter(pl.col(\"datumOd\").str.len_chars() > 0)\n",
    "maly_rozvrh.filter(pl.col(\"katedra\").is_null()).head()"
   ]
  },
  {
   "cell_type": "code",
   "execution_count": 84,
   "metadata": {},
   "outputs": [],
   "source": [
    "# predmety_by_kat"
   ]
  },
  {
   "cell_type": "code",
   "execution_count": 85,
   "metadata": {},
   "outputs": [
    {
     "data": {
      "text/html": [
       "<div><style>\n",
       ".dataframe > thead > tr,\n",
       ".dataframe > tbody > tr {\n",
       "  text-align: right;\n",
       "  white-space: pre-wrap;\n",
       "}\n",
       "</style>\n",
       "<small>shape: (5, 69)</small><table border=\"1\" class=\"dataframe\"><thead><tr><th>katedra</th><th>zkratka</th><th>rok</th><th>nazev</th><th>nazevDlouhy</th><th>maVyuku</th><th>vyukaZS</th><th>vyukaLS</th><th>jakCastoJeNabizen</th><th>jakCastoJeNabizenUpresneni</th><th>kreditu</th><th>viceZapis</th><th>minObsazeni</th><th>garanti</th><th>garantiSPodily</th><th>garantiUcitIdno</th><th>prednasejici</th><th>prednasejiciSPodily</th><th>prednasejiciUcitIdno</th><th>cvicici</th><th>cviciciSPodily</th><th>cviciciUcitIdno</th><th>seminarici</th><th>seminariciSPodily</th><th>seminariciUcitIdno</th><th>schvalujiciUznani</th><th>schvalujiciUznaniUcitIdno</th><th>examinatori</th><th>examinatoriUcitIdno</th><th>podminujiciPredmety</th><th>vylucujiciPredmety</th><th>podminujePredmety</th><th>literatura</th><th>nahrazPredmety</th><th>metodyVyucovaci</th><th>metodyHodnotici</th><th>akreditovan</th><th>jednotekPrednasek</th><th>jednotkaPrednasky</th><th>jednotekCviceni</th><th>jednotkaCviceni</th><th>jednotekSeminare</th><th>jednotkaSeminare</th><th>anotace</th><th>typZkousky</th><th>maZapocetPredZk</th><th>formaZkousky</th><th>pozadavky</th><th>prehledLatky</th><th>predpoklady</th><th>ziskaneZpusobilosti</th><th>casovaNarocnost</th><th>predmetUrl</th><th>vyucovaciJazyky</th><th>poznamka</th><th>ectsZobrazit</th><th>ectsAkreditace</th><th>ectsNabizetUPrijezdu</th><th>poznamkaVerejna</th><th>skupinaAkreditace</th><th>skupinaAkreditaceKey</th><th>zarazenDoPrezencnihoStudia</th><th>zarazenDoKombinovanehoStudia</th><th>studijniOpory</th><th>praxePocetDnu</th><th>urovenNastavena</th><th>urovenVypoctena</th><th>automatickyUznavatZppZk</th><th>hodZaSemKombForma</th></tr><tr><td>str</td><td>str</td><td>i64</td><td>str</td><td>str</td><td>str</td><td>str</td><td>str</td><td>str</td><td>str</td><td>i64</td><td>str</td><td>str</td><td>str</td><td>str</td><td>list[i64]</td><td>str</td><td>str</td><td>list[i64]</td><td>str</td><td>str</td><td>list[i64]</td><td>str</td><td>str</td><td>list[i64]</td><td>str</td><td>str</td><td>str</td><td>str</td><td>str</td><td>str</td><td>str</td><td>str</td><td>str</td><td>str</td><td>str</td><td>str</td><td>i64</td><td>str</td><td>i64</td><td>str</td><td>i64</td><td>str</td><td>str</td><td>str</td><td>str</td><td>str</td><td>str</td><td>str</td><td>str</td><td>str</td><td>str</td><td>str</td><td>str</td><td>str</td><td>str</td><td>str</td><td>str</td><td>str</td><td>str</td><td>str</td><td>str</td><td>str</td><td>str</td><td>i64</td><td>str</td><td>str</td><td>str</td><td>list[i64]</td></tr></thead><tbody><tr><td>&quot;CNB&quot;</td><td>&quot;BP502&quot;</td><td>2024</td><td>&quot;Fyziologie živ…</td><td>&quot;Fyziologie živ…</td><td>&quot;A&quot;</td><td>&quot;A&quot;</td><td>&quot;N&quot;</td><td>&quot;K&quot;</td><td>&quot;&quot;</td><td>6</td><td>&quot;NE&quot;</td><td>&quot;&quot;</td><td>&quot;&#x27;Ing. Stanisla…</td><td>&quot;&#x27;Ing. Stanisla…</td><td>[8024]</td><td>&quot;&#x27;Mgr. Marian R…</td><td>&quot;&#x27;Mgr. Marian R…</td><td>[5275, 8024]</td><td>&quot;&#x27;Mgr. Marian R…</td><td>&quot;&#x27;Mgr. Marian R…</td><td>[5275, 8024]</td><td>&quot;&quot;</td><td>&quot;&quot;</td><td>null</td><td>&quot;&quot;</td><td>&quot;&quot;</td><td>&quot;&quot;</td><td>&quot;&quot;</td><td>&quot;&quot;</td><td>&quot;&quot;</td><td>&quot;&quot;</td><td>&quot;&quot;</td><td>&quot;&quot;</td><td>&quot;&quot;</td><td>&quot;&quot;</td><td>&quot;N&quot;</td><td>2</td><td>&quot;HOD/TYD&quot;</td><td>3</td><td>&quot;HOD/TYD&quot;</td><td>0</td><td>&quot;HOD/TYD&quot;</td><td>&quot;Předmět poskyt…</td><td>&quot;Zkouška&quot;</td><td>&quot;ANO&quot;</td><td>&quot;Kombinovaná&quot;</td><td>&quot;Písemný zápočt…</td><td>&quot;1. Vnitřní pro…</td><td>&quot;&quot;</td><td>&quot;&quot;</td><td>&quot;&quot;</td><td>&quot;&quot;</td><td>&quot;Čeština&quot;</td><td>&quot;&quot;</td><td>&quot;A&quot;</td><td>&quot;N&quot;</td><td>&quot;N&quot;</td><td>&quot;&quot;</td><td>&quot;&quot;</td><td>&quot;&quot;</td><td>&quot;A&quot;</td><td>&quot;N&quot;</td><td>&quot;&quot;</td><td>0</td><td>&quot;&quot;</td><td>&quot;Bc.&quot;</td><td>&quot;A&quot;</td><td>null</td></tr><tr><td>&quot;CNB&quot;</td><td>&quot;EPNS&quot;</td><td>2024</td><td>&quot;Elektrospining…</td><td>&quot;Elektrospining…</td><td>&quot;A&quot;</td><td>&quot;A&quot;</td><td>&quot;N&quot;</td><td>&quot;K&quot;</td><td>&quot;&quot;</td><td>3</td><td>&quot;NE&quot;</td><td>&quot;&quot;</td><td>&quot;&#x27;RNDr. Petr Ry…</td><td>&quot;&#x27;RNDr. Petr Ry…</td><td>[4587]</td><td>&quot;&#x27;RNDr. Petr Ry…</td><td>&quot;&#x27;RNDr. Petr Ry…</td><td>[4587]</td><td>&quot;&#x27;RNDr. Petr Ry…</td><td>&quot;&#x27;RNDr. Petr Ry…</td><td>[4587]</td><td>&quot;&quot;</td><td>&quot;&quot;</td><td>null</td><td>&quot;&quot;</td><td>&quot;&quot;</td><td>&quot;&quot;</td><td>&quot;&quot;</td><td>&quot;CNB/UNM, KFY/F…</td><td>&quot;&quot;</td><td>&quot;&quot;</td><td>&quot;&#x27;Čapková P., M…</td><td>&quot;&quot;</td><td>&quot;&quot;</td><td>&quot;&quot;</td><td>&quot;N&quot;</td><td>1</td><td>&quot;HOD/TYD&quot;</td><td>1</td><td>&quot;HOD/TYD&quot;</td><td>0</td><td>&quot;HOD/TYD&quot;</td><td>&quot;Cílem tohoto k…</td><td>&quot;Zkouška&quot;</td><td>&quot;ANO&quot;</td><td>&quot;Kombinovaná&quot;</td><td>&quot;&quot;</td><td>&quot;Schema teoreti…</td><td>&quot;&quot;</td><td>&quot;&quot;</td><td>&quot;&quot;</td><td>&quot;&quot;</td><td>&quot;Čeština&quot;</td><td>&quot;&quot;</td><td>&quot;A&quot;</td><td>&quot;N&quot;</td><td>&quot;N&quot;</td><td>&quot;&quot;</td><td>&quot;&quot;</td><td>&quot;&quot;</td><td>&quot;A&quot;</td><td>&quot;N&quot;</td><td>&quot;&quot;</td><td>0</td><td>&quot;Bc.&quot;</td><td>&quot;Bc.&quot;</td><td>&quot;A&quot;</td><td>[0]</td></tr><tr><td>&quot;CNB&quot;</td><td>&quot;KB502&quot;</td><td>2024</td><td>&quot;Fyziologie živ…</td><td>&quot;Fyziologie živ…</td><td>&quot;A&quot;</td><td>&quot;A&quot;</td><td>&quot;A&quot;</td><td>&quot;K&quot;</td><td>&quot;&quot;</td><td>5</td><td>&quot;NE&quot;</td><td>&quot;&quot;</td><td>&quot;&#x27;Ing. Stanisla…</td><td>&quot;&#x27;Ing. Stanisla…</td><td>[8024]</td><td>&quot;&#x27;doc. MUDr. Vl…</td><td>&quot;&#x27;doc. MUDr. Vl…</td><td>[281, 5275, 8024]</td><td>&quot;&#x27;doc. MUDr. Vl…</td><td>&quot;&#x27;doc. MUDr. Vl…</td><td>[281, 5275, 8024]</td><td>&quot;&quot;</td><td>&quot;&quot;</td><td>null</td><td>&quot;&quot;</td><td>&quot;&quot;</td><td>&quot;&quot;</td><td>&quot;&quot;</td><td>&quot;&quot;</td><td>&quot;&quot;</td><td>&quot;&quot;</td><td>&quot;&quot;</td><td>&quot;KBI/KB502&quot;</td><td>&quot;&quot;</td><td>&quot;&quot;</td><td>&quot;N&quot;</td><td>12</td><td>&quot;HOD/SEM&quot;</td><td>9</td><td>&quot;HOD/SEM&quot;</td><td>0</td><td>&quot;HOD/SEM&quot;</td><td>&quot;Předmět poskyt…</td><td>&quot;Zkouška&quot;</td><td>&quot;ANO&quot;</td><td>&quot;Kombinovaná&quot;</td><td>&quot;Písemný zápočt…</td><td>&quot;1. Vnitřní pro…</td><td>&quot;&quot;</td><td>&quot;&quot;</td><td>&quot;&quot;</td><td>&quot;&quot;</td><td>&quot;Čeština&quot;</td><td>&quot;&quot;</td><td>&quot;A&quot;</td><td>&quot;N&quot;</td><td>&quot;N&quot;</td><td>&quot;&quot;</td><td>&quot;&quot;</td><td>&quot;&quot;</td><td>&quot;N&quot;</td><td>&quot;A&quot;</td><td>&quot;&quot;</td><td>0</td><td>&quot;&quot;</td><td>&quot;Bc.&quot;</td><td>&quot;A&quot;</td><td>null</td></tr><tr><td>&quot;CNB&quot;</td><td>&quot;KB617&quot;</td><td>2024</td><td>&quot;Molekulární bi…</td><td>&quot;Molekulární bi…</td><td>&quot;A&quot;</td><td>&quot;N&quot;</td><td>&quot;A&quot;</td><td>&quot;K&quot;</td><td>&quot;&quot;</td><td>5</td><td>&quot;NE&quot;</td><td>&quot;&quot;</td><td>&quot;&#x27;Mgr. Michaela…</td><td>&quot;&#x27;Mgr. Michaela…</td><td>[4472]</td><td>&quot;&#x27;Mgr. Michaela…</td><td>&quot;&#x27;Mgr. Michaela…</td><td>[4472]</td><td>&quot;&#x27;Mgr. Michaela…</td><td>&quot;&#x27;Mgr. Michaela…</td><td>[4472, 8314]</td><td>&quot;&quot;</td><td>&quot;&quot;</td><td>null</td><td>&quot;&quot;</td><td>&quot;&quot;</td><td>&quot;&quot;</td><td>&quot;&quot;</td><td>&quot;&quot;</td><td>&quot;&quot;</td><td>&quot;&quot;</td><td>&quot;&quot;</td><td>&quot;KBI/KB617&quot;</td><td>&quot;&quot;</td><td>&quot;&quot;</td><td>&quot;N&quot;</td><td>8</td><td>&quot;HOD/SEM&quot;</td><td>16</td><td>&quot;HOD/SEM&quot;</td><td>0</td><td>&quot;HOD/SEM&quot;</td><td>&quot;Cílem tohoto k…</td><td>&quot;Zkouška&quot;</td><td>&quot;ANO&quot;</td><td>&quot;Kombinovaná&quot;</td><td>&quot;100% účast na …</td><td>&quot;1. Centrální d…</td><td>&quot;&quot;</td><td>&quot;&quot;</td><td>&quot;&quot;</td><td>&quot;&quot;</td><td>&quot;Čeština&quot;</td><td>&quot;&quot;</td><td>&quot;A&quot;</td><td>&quot;N&quot;</td><td>&quot;N&quot;</td><td>&quot;&quot;</td><td>&quot;&quot;</td><td>&quot;&quot;</td><td>&quot;N&quot;</td><td>&quot;A&quot;</td><td>&quot;&quot;</td><td>0</td><td>&quot;&quot;</td><td>&quot;Bc.&quot;</td><td>&quot;A&quot;</td><td>null</td></tr><tr><td>&quot;CNB&quot;</td><td>&quot;KPCIM&quot;</td><td>2024</td><td>&quot;Prakt. cvičení…</td><td>&quot;Praktická cvič…</td><td>&quot;A&quot;</td><td>&quot;A&quot;</td><td>&quot;N&quot;</td><td>&quot;K&quot;</td><td>&quot;&quot;</td><td>2</td><td>&quot;NE&quot;</td><td>&quot;&quot;</td><td>&quot;&#x27;RNDr. Regina …</td><td>&quot;&#x27;RNDr. Regina …</td><td>[8317]</td><td>&quot;&quot;</td><td>&quot;&quot;</td><td>null</td><td>&quot;&#x27;RNDr. Regina …</td><td>&quot;&#x27;RNDr. Regina …</td><td>[8317]</td><td>&quot;&quot;</td><td>&quot;&quot;</td><td>null</td><td>&quot;&quot;</td><td>&quot;&quot;</td><td>&quot;&quot;</td><td>&quot;&quot;</td><td>&quot;&quot;</td><td>&quot;&quot;</td><td>&quot;&quot;</td><td>&quot;&#x27;B. Králová, L…</td><td>&quot;&quot;</td><td>&quot;&quot;</td><td>&quot;&quot;</td><td>&quot;A&quot;</td><td>0</td><td>&quot;HOD/SEM&quot;</td><td>12</td><td>&quot;HOD/SEM&quot;</td><td>0</td><td>&quot;HOD/SEM&quot;</td><td>&quot;&quot;</td><td>&quot;Zápočet&quot;</td><td>&quot;NE&quot;</td><td>&quot;Kombinovaná&quot;</td><td>&quot;Nutnou podmínk…</td><td>&quot;Imunoanalytick…</td><td>&quot;&quot;</td><td>&quot;&quot;</td><td>&quot;&quot;</td><td>&quot;&quot;</td><td>&quot;Čeština&quot;</td><td>&quot;&quot;</td><td>&quot;A&quot;</td><td>&quot;N&quot;</td><td>&quot;N&quot;</td><td>&quot;Praktická cvič…</td><td>&quot;&quot;</td><td>&quot;&quot;</td><td>&quot;N&quot;</td><td>&quot;A&quot;</td><td>&quot;&quot;</td><td>0</td><td>&quot;&quot;</td><td>&quot;Bc.&quot;</td><td>&quot;A&quot;</td><td>[0]</td></tr></tbody></table></div>"
      ],
      "text/plain": [
       "shape: (5, 69)\n",
       "┌─────────┬─────────┬──────┬─────────────┬───┬─────────────┬─────────────┬────────────┬────────────┐\n",
       "│ katedra ┆ zkratka ┆ rok  ┆ nazev       ┆ … ┆ urovenNasta ┆ urovenVypoc ┆ automatick ┆ hodZaSemKo │\n",
       "│ ---     ┆ ---     ┆ ---  ┆ ---         ┆   ┆ vena        ┆ tena        ┆ yUznavatZp ┆ mbForma    │\n",
       "│ str     ┆ str     ┆ i64  ┆ str         ┆   ┆ ---         ┆ ---         ┆ pZk        ┆ ---        │\n",
       "│         ┆         ┆      ┆             ┆   ┆ str         ┆ str         ┆ ---        ┆ list[i64]  │\n",
       "│         ┆         ┆      ┆             ┆   ┆             ┆             ┆ str        ┆            │\n",
       "╞═════════╪═════════╪══════╪═════════════╪═══╪═════════════╪═════════════╪════════════╪════════════╡\n",
       "│ CNB     ┆ BP502   ┆ 2024 ┆ Fyziologie  ┆ … ┆             ┆ Bc.         ┆ A          ┆ null       │\n",
       "│         ┆         ┆      ┆ živočichů a ┆   ┆             ┆             ┆            ┆            │\n",
       "│         ┆         ┆      ┆ člověka     ┆   ┆             ┆             ┆            ┆            │\n",
       "│ CNB     ┆ EPNS    ┆ 2024 ┆ Elektrospin ┆ … ┆ Bc.         ┆ Bc.         ┆ A          ┆ [0]        │\n",
       "│         ┆         ┆      ┆ ing, př. a  ┆   ┆             ┆             ┆            ┆            │\n",
       "│         ┆         ┆      ┆ vl. nano s… ┆   ┆             ┆             ┆            ┆            │\n",
       "│ CNB     ┆ KB502   ┆ 2024 ┆ Fyziologie  ┆ … ┆             ┆ Bc.         ┆ A          ┆ null       │\n",
       "│         ┆         ┆      ┆ živočichů a ┆   ┆             ┆             ┆            ┆            │\n",
       "│         ┆         ┆      ┆ člověka     ┆   ┆             ┆             ┆            ┆            │\n",
       "│ CNB     ┆ KB617   ┆ 2024 ┆ Molekulární ┆ … ┆             ┆ Bc.         ┆ A          ┆ null       │\n",
       "│         ┆         ┆      ┆ biologie    ┆   ┆             ┆             ┆            ┆            │\n",
       "│ CNB     ┆ KPCIM   ┆ 2024 ┆ Prakt.      ┆ … ┆             ┆ Bc.         ┆ A          ┆ [0]        │\n",
       "│         ┆         ┆      ┆ cvičení z   ┆   ┆             ┆             ┆            ┆            │\n",
       "│         ┆         ┆      ┆ imunoanalyt ┆   ┆             ┆             ┆            ┆            │\n",
       "│         ┆         ┆      ┆ ický…       ┆   ┆             ┆             ┆            ┆            │\n",
       "└─────────┴─────────┴──────┴─────────────┴───┴─────────────┴─────────────┴────────────┴────────────┘"
      ]
     },
     "execution_count": 85,
     "metadata": {},
     "output_type": "execute_result"
    }
   ],
   "source": [
    "from pprint import pprint\n",
    "# pprint(predmety_by_kat.columns,compact=True)\n",
    "predmety_by_kat.head()"
   ]
  },
  {
   "cell_type": "code",
   "execution_count": 87,
   "metadata": {},
   "outputs": [
    {
     "data": {
      "text/html": [
       "<div><style>\n",
       ".dataframe > thead > tr,\n",
       ".dataframe > tbody > tr {\n",
       "  text-align: right;\n",
       "  white-space: pre-wrap;\n",
       "}\n",
       "</style>\n",
       "<small>shape: (5, 2)</small><table border=\"1\" class=\"dataframe\"><thead><tr><th>jmena</th><th>idno</th></tr><tr><td>str</td><td>i64</td></tr></thead><tbody><tr><td>&quot;Abrahamová Pet…</td><td>8409</td></tr><tr><td>&quot;Adamec Slavomí…</td><td>5432</td></tr><tr><td>&quot;Adámek Pavel, …</td><td>7443</td></tr><tr><td>&quot;Adamík Petr, M…</td><td>9822</td></tr><tr><td>&quot;Adam Julie, M.…</td><td>9249</td></tr></tbody></table></div>"
      ],
      "text/plain": [
       "shape: (5, 2)\n",
       "┌─────────────────────────┬──────┐\n",
       "│ jmena                   ┆ idno │\n",
       "│ ---                     ┆ ---  │\n",
       "│ str                     ┆ i64  │\n",
       "╞═════════════════════════╪══════╡\n",
       "│ Abrahamová Petra, Mgr.  ┆ 8409 │\n",
       "│ Adamec Slavomír, Ing.   ┆ 5432 │\n",
       "│ Adámek Pavel, Mgr. Bc.  ┆ 7443 │\n",
       "│ Adamík Petr, Mgr. Ph.D. ┆ 9822 │\n",
       "│ Adam Julie, M.A.        ┆ 9249 │\n",
       "└─────────────────────────┴──────┘"
      ]
     },
     "execution_count": 87,
     "metadata": {},
     "output_type": "execute_result"
    }
   ],
   "source": [
    "ciselnik_ucitelu = pl.read_csv(\"source_tables/ciselnik_ucitelu.csv\").select(\"nazev\", \"key\").rename({\"nazev\":\"jmena\", \"key\":\"idno\"})\n",
    "ciselnik_ucitelu.head()"
   ]
  },
  {
   "cell_type": "code",
   "execution_count": 88,
   "metadata": {},
   "outputs": [
    {
     "data": {
      "text/html": [
       "<div><style>\n",
       ".dataframe > thead > tr,\n",
       ".dataframe > tbody > tr {\n",
       "  text-align: right;\n",
       "  white-space: pre-wrap;\n",
       "}\n",
       "</style>\n",
       "<small>shape: (1, 11)</small><table border=\"1\" class=\"dataframe\"><thead><tr><th>zkratka</th><th>katedra</th><th>rok</th><th>nazev</th><th>garantiUcitIdno</th><th>prednasejici</th><th>prednasejiciUcitIdno</th><th>cvicici</th><th>cviciciUcitIdno</th><th>seminarici</th><th>seminariciUcitIdno</th></tr><tr><td>str</td><td>str</td><td>i64</td><td>str</td><td>list[i64]</td><td>str</td><td>list[i64]</td><td>str</td><td>list[i64]</td><td>str</td><td>list[i64]</td></tr></thead><tbody><tr><td>&quot;B317&quot;</td><td>&quot;KCH&quot;</td><td>2024</td><td>&quot;Membránové sep…</td><td>[3705]</td><td>&quot;&#x27;Ing. Zuzana P…</td><td>[3705]</td><td>&quot;&quot;</td><td>null</td><td>&quot;&quot;</td><td>null</td></tr></tbody></table></div>"
      ],
      "text/plain": [
       "shape: (1, 11)\n",
       "┌─────────┬─────────┬──────┬──────────────┬───┬─────────┬──────────────┬────────────┬──────────────┐\n",
       "│ zkratka ┆ katedra ┆ rok  ┆ nazev        ┆ … ┆ cvicici ┆ cviciciUcitI ┆ seminarici ┆ seminariciUc │\n",
       "│ ---     ┆ ---     ┆ ---  ┆ ---          ┆   ┆ ---     ┆ dno          ┆ ---        ┆ itIdno       │\n",
       "│ str     ┆ str     ┆ i64  ┆ str          ┆   ┆ str     ┆ ---          ┆ str        ┆ ---          │\n",
       "│         ┆         ┆      ┆              ┆   ┆         ┆ list[i64]    ┆            ┆ list[i64]    │\n",
       "╞═════════╪═════════╪══════╪══════════════╪═══╪═════════╪══════════════╪════════════╪══════════════╡\n",
       "│ B317    ┆ KCH     ┆ 2024 ┆ Membránové   ┆ … ┆         ┆ null         ┆            ┆ null         │\n",
       "│         ┆         ┆      ┆ separace     ┆   ┆         ┆              ┆            ┆              │\n",
       "└─────────┴─────────┴──────┴──────────────┴───┴─────────┴──────────────┴────────────┴──────────────┘"
      ]
     },
     "execution_count": 88,
     "metadata": {},
     "output_type": "execute_result"
    }
   ],
   "source": [
    "male_predmety = predmety_by_kat.with_columns(pl.concat_str(pl.col(\"zkratka\"), pl.col(\"katedra\")).alias(\"identifier\")).select(pl.col([\"zkratka\", \"katedra\", \"identifier\", \"rok\", \"nazev\", \"garantiUcitIdno\", \"prednasejici\", \"prednasejiciUcitIdno\",\"cvicici\", \"cviciciUcitIdno\",\"seminarici\", \"seminariciUcitIdno\"])).unique(subset=\"identifier\").drop(\"identifier\")\n",
    "#male_predmety = male_predmety.with_columns(pl.col([\"prednasejiciUcitIdno\", \"cviciciUcitIdno\", \"seminariciUcitIdno\", \"garantiUcitIdno\"]).str.split(\", \"))\n",
    "male_predmety.filter(pl.col(\"zkratka\") == \"B317\").head()"
   ]
  },
  {
   "cell_type": "code",
   "execution_count": 89,
   "metadata": {},
   "outputs": [],
   "source": [
    "# přednášející nemá přednášku:\n",
    "filtrovani_prednasejici = male_predmety.select(\"nazev\", \"zkratka\", \"prednasejiciUcitIdno\").explode(\"prednasejiciUcitIdno\")\n",
    "prednasejici_jmena = male_predmety.select(\"prednasejici\").rename({\"prednasejici\":\"jmena\"}).with_columns(pl.col(\"jmena\").str.strip_chars().str.split(\"', \")).explode(\"jmena\")\n",
    "prednasejici_jmena = prednasejici_jmena.with_columns(pl.col(\"jmena\").str.replace(\",\", \"\"))\n",
    "filtrovani_prednasejici = filtrovani_prednasejici.with_columns(prednasejici_jmena).filter(\n",
    "    pl.col(\"prednasejiciUcitIdno\"\n",
    ").is_not_null()).with_columns(\n",
    "    prednasejici.alias(\"idno\")\n",
    ")\n",
    "joined_prednasejici = filtrovani_prednasejici.join(maly_rozvrh, \"idno\", \"left\")\n",
    "prednasejici_bez_prednasek = joined_prednasejici.filter(pl.col(\"typAkceZkr\").is_null())\n",
    "prednasejici_bez_prednasek.select(\"nazev\", \"zkratka\", \"prednasejiciUcitIdno\", \"jmena\").sort(\"prednasejiciUcitIdno\").write_excel(\"results_xlsx/prednasejici_bez_prednasek.xlsx\")\n",
    "prednasejici_bez_prednasek.select(\"nazev\", \"zkratka\", \"prednasejiciUcitIdno\", \"jmena\").sort(\"prednasejiciUcitIdno\").write_csv(\"results_csv/prednasejici_bez_prednasek\"+name_mod+\".csv\")\n",
    "bez_problemu = bez_problemu.join(prednasejici_bez_prednasek,\"identifier\" ,\"anti\")"
   ]
  },
  {
   "cell_type": "code",
   "execution_count": 90,
   "metadata": {},
   "outputs": [
    {
     "name": "stdout",
     "output_type": "stream",
     "text": [
      "39\n"
     ]
    },
    {
     "data": {
      "text/html": [
       "<div><style>\n",
       ".dataframe > thead > tr,\n",
       ".dataframe > tbody > tr {\n",
       "  text-align: right;\n",
       "  white-space: pre-wrap;\n",
       "}\n",
       "</style>\n",
       "<small>shape: (15, 15)</small><table border=\"1\" class=\"dataframe\"><thead><tr><th>katedra</th><th>zkratka</th><th>idno</th><th>typAkceZkr</th><th>rok</th><th>datumOd</th><th>datumDo</th><th>hodinaSkutOd</th><th>hodinaSkutDo</th><th>identifier</th><th>katedra_right</th><th>nazev</th><th>prednasejici</th><th>prednasejiciUcitIdno</th><th>jmena</th></tr><tr><td>str</td><td>str</td><td>i64</td><td>str</td><td>i64</td><td>str</td><td>str</td><td>str</td><td>str</td><td>str</td><td>str</td><td>str</td><td>str</td><td>str</td><td>str</td></tr></thead><tbody><tr><td>&quot;KPRF&quot;</td><td>&quot;101&quot;</td><td>556</td><td>&quot;Př&quot;</td><td>2024</td><td>&quot;7.10.2024&quot;</td><td>&quot;16.12.2024&quot;</td><td>&quot;16:00&quot;</td><td>&quot;17:50&quot;</td><td>&quot;101KPRF&quot;</td><td>null</td><td>null</td><td>null</td><td>null</td><td>&quot;Novák Martin, …</td></tr><tr><td>&quot;KCH&quot;</td><td>&quot;B100&quot;</td><td>3705</td><td>&quot;Př&quot;</td><td>2024</td><td>&quot;1.10.2024&quot;</td><td>&quot;17.12.2024&quot;</td><td>&quot;15:00&quot;</td><td>&quot;16:50&quot;</td><td>&quot;B100KCH&quot;</td><td>&quot;KCH&quot;</td><td>&quot;Úvod do chemie…</td><td>&quot;&#x27;doc. RNDr. Ja…</td><td>&quot;2855&quot;</td><td>&quot;Petrusová Zuza…</td></tr><tr><td>&quot;KGEO&quot;</td><td>&quot;B104&quot;</td><td>4303</td><td>&quot;Př&quot;</td><td>2024</td><td>&quot;1.10.2024&quot;</td><td>&quot;17.12.2024&quot;</td><td>&quot;13:00&quot;</td><td>&quot;14:50&quot;</td><td>&quot;B104KGEO&quot;</td><td>&quot;KGEO&quot;</td><td>&quot;Geografická ka…</td><td>&quot;&#x27;doc. PhDr. RN…</td><td>&quot;3452&quot;</td><td>&quot;Dolejš Martin,…</td></tr><tr><td>&quot;KGEO&quot;</td><td>&quot;B104&quot;</td><td>5855</td><td>&quot;Př&quot;</td><td>2024</td><td>&quot;1.10.2024&quot;</td><td>&quot;17.12.2024&quot;</td><td>&quot;13:00&quot;</td><td>&quot;14:50&quot;</td><td>&quot;B104KGEO&quot;</td><td>&quot;KGEO&quot;</td><td>&quot;Geografická ka…</td><td>&quot;&#x27;doc. PhDr. RN…</td><td>&quot;3452&quot;</td><td>&quot;Meyer Petr, Mg…</td></tr><tr><td>&quot;KGEO&quot;</td><td>&quot;B107&quot;</td><td>4398</td><td>&quot;Př&quot;</td><td>2024</td><td>&quot;7.10.2024&quot;</td><td>&quot;16.12.2024&quot;</td><td>&quot;14:00&quot;</td><td>&quot;15:50&quot;</td><td>&quot;B107KGEO&quot;</td><td>&quot;KGEO&quot;</td><td>&quot;Fyzická geogra…</td><td>&quot;&#x27;RNDr. Ivan Fa…</td><td>&quot;315, 3164&quot;</td><td>&quot;Vágner Jiří, R…</td></tr><tr><td>&hellip;</td><td>&hellip;</td><td>&hellip;</td><td>&hellip;</td><td>&hellip;</td><td>&hellip;</td><td>&hellip;</td><td>&hellip;</td><td>&hellip;</td><td>&hellip;</td><td>&hellip;</td><td>&hellip;</td><td>&hellip;</td><td>&hellip;</td><td>&hellip;</td></tr><tr><td>&quot;KGEO&quot;</td><td>&quot;B309&quot;</td><td>828</td><td>&quot;Př&quot;</td><td>2024</td><td>&quot;4.10.2024&quot;</td><td>&quot;3.1.2025&quot;</td><td>&quot;10:00&quot;</td><td>&quot;11:50&quot;</td><td>&quot;B309KGEO&quot;</td><td>&quot;KGEO&quot;</td><td>&quot;EU a střední E…</td><td>&quot;&#x27;doc. RNDr. Ji…</td><td>&quot;312&quot;</td><td>&quot;Martínek Jiří,…</td></tr><tr><td>&quot;KGEO&quot;</td><td>&quot;B508&quot;</td><td>4398</td><td>&quot;Př&quot;</td><td>2024</td><td>&quot;7.10.2024&quot;</td><td>&quot;16.12.2024&quot;</td><td>&quot;10:00&quot;</td><td>&quot;11:50&quot;</td><td>&quot;B508KGEO&quot;</td><td>&quot;KGEO&quot;</td><td>&quot;Ochrana přírod…</td><td>&quot;&#x27;RNDr. Tomáš M…</td><td>&quot;1472&quot;</td><td>&quot;Vágner Jiří, R…</td></tr><tr><td>&quot;KCH&quot;</td><td>&quot;BK100&quot;</td><td>3705</td><td>&quot;Př&quot;</td><td>2024</td><td>&quot;12.10.2024&quot;</td><td>&quot;12.10.2024&quot;</td><td>&quot;09:00&quot;</td><td>&quot;12:50&quot;</td><td>&quot;BK100KCH&quot;</td><td>&quot;KCH&quot;</td><td>&quot;Úvod do chemie…</td><td>&quot;&#x27;doc. RNDr. Ja…</td><td>&quot;2855&quot;</td><td>&quot;Petrusová Zuza…</td></tr><tr><td>&quot;KCH&quot;</td><td>&quot;BK100&quot;</td><td>3705</td><td>&quot;Př&quot;</td><td>2024</td><td>&quot;8.11.2024&quot;</td><td>&quot;8.11.2024&quot;</td><td>&quot;14:00&quot;</td><td>&quot;17:50&quot;</td><td>&quot;BK100KCH&quot;</td><td>&quot;KCH&quot;</td><td>&quot;Úvod do chemie…</td><td>&quot;&#x27;doc. RNDr. Ja…</td><td>&quot;2855&quot;</td><td>&quot;Petrusová Zuza…</td></tr><tr><td>&quot;KFY&quot;</td><td>&quot;FORT&quot;</td><td>3222</td><td>&quot;Př&quot;</td><td>2024</td><td>&quot;7.10.2024&quot;</td><td>&quot;16.12.2024&quot;</td><td>&quot;10:00&quot;</td><td>&quot;10:50&quot;</td><td>&quot;FORTKFY&quot;</td><td>&quot;KFY&quot;</td><td>&quot;Programování -…</td><td>&quot;&#x27;Mgr. Martin S…</td><td>&quot;5958&quot;</td><td>&quot;Moučka Filip, …</td></tr></tbody></table></div>"
      ],
      "text/plain": [
       "shape: (15, 15)\n",
       "┌─────────┬─────────┬──────┬────────────┬───┬─────────────┬─────────────┬─────────────┬────────────┐\n",
       "│ katedra ┆ zkratka ┆ idno ┆ typAkceZkr ┆ … ┆ nazev       ┆ prednasejic ┆ prednasejic ┆ jmena      │\n",
       "│ ---     ┆ ---     ┆ ---  ┆ ---        ┆   ┆ ---         ┆ i           ┆ iUcitIdno   ┆ ---        │\n",
       "│ str     ┆ str     ┆ i64  ┆ str        ┆   ┆ str         ┆ ---         ┆ ---         ┆ str        │\n",
       "│         ┆         ┆      ┆            ┆   ┆             ┆ str         ┆ str         ┆            │\n",
       "╞═════════╪═════════╪══════╪════════════╪═══╪═════════════╪═════════════╪═════════════╪════════════╡\n",
       "│ KPRF    ┆ 101     ┆ 556  ┆ Př         ┆ … ┆ null        ┆ null        ┆ null        ┆ Novák      │\n",
       "│         ┆         ┆      ┆            ┆   ┆             ┆             ┆             ┆ Martin,    │\n",
       "│         ┆         ┆      ┆            ┆   ┆             ┆             ┆             ┆ Mgr.       │\n",
       "│ KCH     ┆ B100    ┆ 3705 ┆ Př         ┆ … ┆ Úvod do     ┆ 'doc. RNDr. ┆ 2855        ┆ Petrusová  │\n",
       "│         ┆         ┆      ┆            ┆   ┆ chemie      ┆ Jan Jirsák, ┆             ┆ Zuzana,    │\n",
       "│         ┆         ┆      ┆            ┆   ┆             ┆ Ph.D.'      ┆             ┆ Ing. Ph.D. │\n",
       "│ KGEO    ┆ B104    ┆ 4303 ┆ Př         ┆ … ┆ Geografická ┆ 'doc. PhDr. ┆ 3452        ┆ Dolejš     │\n",
       "│         ┆         ┆      ┆            ┆   ┆ kartografie ┆ RNDr. Jan   ┆             ┆ Martin,    │\n",
       "│         ┆         ┆      ┆            ┆   ┆             ┆ Daniel Blá… ┆             ┆ Mgr. Ph.D. │\n",
       "│ KGEO    ┆ B104    ┆ 5855 ┆ Př         ┆ … ┆ Geografická ┆ 'doc. PhDr. ┆ 3452        ┆ Meyer      │\n",
       "│         ┆         ┆      ┆            ┆   ┆ kartografie ┆ RNDr. Jan   ┆             ┆ Petr, Mgr. │\n",
       "│         ┆         ┆      ┆            ┆   ┆             ┆ Daniel Blá… ┆             ┆ Ph.D.      │\n",
       "│ KGEO    ┆ B107    ┆ 4398 ┆ Př         ┆ … ┆ Fyzická     ┆ 'RNDr. Ivan ┆ 315, 3164   ┆ Vágner     │\n",
       "│         ┆         ┆      ┆            ┆   ┆ geografie I ┆ Farský,     ┆             ┆ Jiří,      │\n",
       "│         ┆         ┆      ┆            ┆   ┆             ┆ CSc.',      ┆             ┆ RNDr.      │\n",
       "│         ┆         ┆      ┆            ┆   ┆             ┆ 'Mgr.…      ┆             ┆ Ph.D.      │\n",
       "│ …       ┆ …       ┆ …    ┆ …          ┆ … ┆ …           ┆ …           ┆ …           ┆ …          │\n",
       "│ KGEO    ┆ B309    ┆ 828  ┆ Př         ┆ … ┆ EU a        ┆ 'doc. RNDr. ┆ 312         ┆ Martínek   │\n",
       "│         ┆         ┆      ┆            ┆   ┆ střední     ┆ Jiří Anděl, ┆             ┆ Jiří,      │\n",
       "│         ┆         ┆      ┆            ┆   ┆ Evropa II   ┆ CSc.'       ┆             ┆ RNDr.      │\n",
       "│         ┆         ┆      ┆            ┆   ┆             ┆             ┆             ┆ Ph.D.      │\n",
       "│ KGEO    ┆ B508    ┆ 4398 ┆ Př         ┆ … ┆ Ochrana     ┆ 'RNDr.      ┆ 1472        ┆ Vágner     │\n",
       "│         ┆         ┆      ┆            ┆   ┆ přírody a   ┆ Tomáš       ┆             ┆ Jiří,      │\n",
       "│         ┆         ┆      ┆            ┆   ┆ krajiny     ┆ Matějček,   ┆             ┆ RNDr.      │\n",
       "│         ┆         ┆      ┆            ┆   ┆             ┆ Ph.D.'      ┆             ┆ Ph.D.      │\n",
       "│ KCH     ┆ BK100   ┆ 3705 ┆ Př         ┆ … ┆ Úvod do     ┆ 'doc. RNDr. ┆ 2855        ┆ Petrusová  │\n",
       "│         ┆         ┆      ┆            ┆   ┆ chemie      ┆ Jan Jirsák, ┆             ┆ Zuzana,    │\n",
       "│         ┆         ┆      ┆            ┆   ┆             ┆ Ph.D.'      ┆             ┆ Ing. Ph.D. │\n",
       "│ KCH     ┆ BK100   ┆ 3705 ┆ Př         ┆ … ┆ Úvod do     ┆ 'doc. RNDr. ┆ 2855        ┆ Petrusová  │\n",
       "│         ┆         ┆      ┆            ┆   ┆ chemie      ┆ Jan Jirsák, ┆             ┆ Zuzana,    │\n",
       "│         ┆         ┆      ┆            ┆   ┆             ┆ Ph.D.'      ┆             ┆ Ing. Ph.D. │\n",
       "│ KFY     ┆ FORT    ┆ 3222 ┆ Př         ┆ … ┆ Programován ┆ 'Mgr.       ┆ 5958        ┆ Moučka     │\n",
       "│         ┆         ┆      ┆            ┆   ┆ í - Fortran ┆ Martin      ┆             ┆ Filip,     │\n",
       "│         ┆         ┆      ┆            ┆   ┆             ┆ Svoboda,    ┆             ┆ doc. RNDr. │\n",
       "│         ┆         ┆      ┆            ┆   ┆             ┆ Ph.D.'      ┆             ┆ Ph.D.      │\n",
       "└─────────┴─────────┴──────┴────────────┴───┴─────────────┴─────────────┴─────────────┴────────────┘"
      ]
     },
     "execution_count": 90,
     "metadata": {},
     "output_type": "execute_result"
    }
   ],
   "source": [
    "#WEIRD STUFF: Učitel 8027 u KGEO/B508\n",
    "# otherwise looks pretty good\n",
    "\n",
    "# Přednáška nemá přednášejícího:\n",
    "\n",
    "male_prednasky = maly_rozvrh.filter(pl.col(\"typAkceZkr\") == \"Př\")\n",
    "joined_prednasky = male_prednasky.join(male_predmety.select(\"zkratka\", \"katedra\", \"nazev\", \"prednasejici\", \"prednasejiciUcitIdno\"), \"zkratka\", \"left\").unique()\n",
    "prednasky_bez_prednasejicich = joined_prednasky.filter(pl.col(\"idno\").is_in(prednasejici).not_() & ((pl.col(\"katedra\") == pl.col(\"katedra_right\")) | pl.col(\"katedra_right\").is_null()))\n",
    "\n",
    "prednasky_bez_prednasejicich = prednasky_bez_prednasejicich.join(ciselnik_ucitelu, \"idno\", \"left\").with_columns(prednasejici.cast(pl.List(pl.Utf8)).list.join(\", \")).sort(\"zkratka\")\n",
    "\n",
    "prednasky_bez_prednasejicich.write_csv(\"results_csv/prednasky_bez_prednasejicich\"+name_mod+\".csv\")\n",
    "prednasky_bez_prednasejicich.write_excel(\"results_xlsx/prednasky_bez_prednasejicich.xlsx\")\n",
    "\n",
    "bez_problemu = bez_problemu.join(prednasky_bez_prednasejicich,\"identifier\" ,\"anti\")\n",
    "\n",
    "print(prednasky_bez_prednasejicich.__len__())\n",
    "prednasky_bez_prednasejicich.head(15)"
   ]
  },
  {
   "cell_type": "code",
   "execution_count": 91,
   "metadata": {},
   "outputs": [],
   "source": [
    "# cvičící nemá cvičení:\n",
    "filtrovani_cvicici = male_predmety.select(\"nazev\", \"zkratka\", \"cviciciUcitIdno\").explode(\"cviciciUcitIdno\")\n",
    "cvicici_jmena = male_predmety.select(\"cvicici\").rename({\"cvicici\":\"jmena\"}).with_columns(pl.col(\"jmena\").str.strip_chars().str.split(\"', \")).explode(\"jmena\")\n",
    "cvicici_jmena = cvicici_jmena.with_columns(pl.col(\"jmena\").str.replace(\",\", \"\"))\n",
    "filtrovani_cvicici = filtrovani_cvicici.with_columns(cvicici_jmena).filter(\n",
    "    pl.col(\"cviciciUcitIdno\"\n",
    ").is_not_null()).with_columns(\n",
    "    cvicici.alias(\"idno\")\n",
    ")\n",
    "joined_cvicici = filtrovani_cvicici.join(maly_rozvrh, \"idno\", \"left\")\n",
    "cvicici_bez_cviceni = joined_cvicici.filter(pl.col(\"typAkceZkr\").is_null())\n",
    "cvicici_bez_cviceni.select(\"nazev\", \"zkratka\", \"cviciciUcitIdno\").sort(\"cviciciUcitIdno\").write_excel(\"results_xlsx/cvicici_bez_cviceni.xlsx\")\n",
    "cvicici_bez_cviceni.select(\"nazev\", \"zkratka\", \"cviciciUcitIdno\", \"jmena\").sort(\"cviciciUcitIdno\").write_csv(\"results_csv/cvicici_bez_cviceni\"+name_mod+\".csv\")\n",
    "\n",
    "bez_problemu = bez_problemu.join(cvicici_bez_cviceni,\"identifier\" ,\"anti\")"
   ]
  },
  {
   "cell_type": "code",
   "execution_count": 92,
   "metadata": {},
   "outputs": [
    {
     "name": "stdout",
     "output_type": "stream",
     "text": [
      "79\n"
     ]
    },
    {
     "data": {
      "text/html": [
       "<div><style>\n",
       ".dataframe > thead > tr,\n",
       ".dataframe > tbody > tr {\n",
       "  text-align: right;\n",
       "  white-space: pre-wrap;\n",
       "}\n",
       "</style>\n",
       "<small>shape: (15, 15)</small><table border=\"1\" class=\"dataframe\"><thead><tr><th>katedra</th><th>zkratka</th><th>idno</th><th>typAkceZkr</th><th>rok</th><th>datumOd</th><th>datumDo</th><th>hodinaSkutOd</th><th>hodinaSkutDo</th><th>identifier</th><th>katedra_right</th><th>nazev</th><th>cvicici</th><th>cviciciUcitIdno</th><th>jmena</th></tr><tr><td>str</td><td>str</td><td>i64</td><td>str</td><td>i64</td><td>str</td><td>str</td><td>str</td><td>str</td><td>str</td><td>str</td><td>str</td><td>str</td><td>str</td><td>str</td></tr></thead><tbody><tr><td>&quot;KCH&quot;</td><td>&quot;B100&quot;</td><td>3705</td><td>&quot;Cv&quot;</td><td>2024</td><td>&quot;2.10.2024&quot;</td><td>&quot;18.12.2024&quot;</td><td>&quot;10:00&quot;</td><td>&quot;11:50&quot;</td><td>&quot;B100KCH&quot;</td><td>&quot;KCH&quot;</td><td>&quot;Úvod do chemie…</td><td>&quot;&#x27;doc. RNDr. Ja…</td><td>&quot;2855&quot;</td><td>&quot;Petrusová Zuza…</td></tr><tr><td>&quot;KCH&quot;</td><td>&quot;B100&quot;</td><td>3705</td><td>&quot;Cv&quot;</td><td>2024</td><td>&quot;2.10.2024&quot;</td><td>&quot;18.12.2024&quot;</td><td>&quot;08:00&quot;</td><td>&quot;09:50&quot;</td><td>&quot;B100KCH&quot;</td><td>&quot;KCH&quot;</td><td>&quot;Úvod do chemie…</td><td>&quot;&#x27;doc. RNDr. Ja…</td><td>&quot;2855&quot;</td><td>&quot;Petrusová Zuza…</td></tr><tr><td>&quot;KCH&quot;</td><td>&quot;B103&quot;</td><td>1319</td><td>&quot;Cv&quot;</td><td>2024</td><td>&quot;14.11.2024&quot;</td><td>&quot;14.11.2024&quot;</td><td>&quot;15:00&quot;</td><td>&quot;17:50&quot;</td><td>&quot;B103KCH&quot;</td><td>&quot;KCH&quot;</td><td>&quot;Bezpečnost a h…</td><td>&quot;&#x27;MUDr. Eva Sol…</td><td>&quot;1800&quot;</td><td>&quot;Stupák Rudolf,…</td></tr><tr><td>&quot;KCH&quot;</td><td>&quot;B103&quot;</td><td>1319</td><td>&quot;Cv&quot;</td><td>2024</td><td>&quot;28.11.2024&quot;</td><td>&quot;28.11.2024&quot;</td><td>&quot;15:00&quot;</td><td>&quot;17:50&quot;</td><td>&quot;B103KCH&quot;</td><td>&quot;KCH&quot;</td><td>&quot;Bezpečnost a h…</td><td>&quot;&#x27;MUDr. Eva Sol…</td><td>&quot;1800&quot;</td><td>&quot;Stupák Rudolf,…</td></tr><tr><td>&quot;KGEO&quot;</td><td>&quot;B104&quot;</td><td>8819</td><td>&quot;Cv&quot;</td><td>2024</td><td>&quot;3.10.2024&quot;</td><td>&quot;2.1.2025&quot;</td><td>&quot;15:00&quot;</td><td>&quot;16:50&quot;</td><td>&quot;B104KGEO&quot;</td><td>&quot;KGEO&quot;</td><td>&quot;Geografická ka…</td><td>&quot;&#x27;doc. PhDr. RN…</td><td>&quot;3452, 5855&quot;</td><td>&quot;Bartůněk Marti…</td></tr><tr><td>&hellip;</td><td>&hellip;</td><td>&hellip;</td><td>&hellip;</td><td>&hellip;</td><td>&hellip;</td><td>&hellip;</td><td>&hellip;</td><td>&hellip;</td><td>&hellip;</td><td>&hellip;</td><td>&hellip;</td><td>&hellip;</td><td>&hellip;</td><td>&hellip;</td></tr><tr><td>&quot;KGEO&quot;</td><td>&quot;B301&quot;</td><td>8647</td><td>&quot;Cv&quot;</td><td>2024</td><td>&quot;1.10.2024&quot;</td><td>&quot;17.12.2024&quot;</td><td>&quot;14:00&quot;</td><td>&quot;14:50&quot;</td><td>&quot;B301KGEO&quot;</td><td>&quot;KGEO&quot;</td><td>&quot;Geografie Česk…</td><td>&quot;&#x27;Mgr. Vladan H…</td><td>&quot;4222&quot;</td><td>&quot;Šmíd Ondřej, M…</td></tr><tr><td>&quot;KGEO&quot;</td><td>&quot;B301&quot;</td><td>8647</td><td>&quot;Cv&quot;</td><td>2024</td><td>&quot;1.10.2024&quot;</td><td>&quot;17.12.2024&quot;</td><td>&quot;17:00&quot;</td><td>&quot;17:50&quot;</td><td>&quot;B301KGEO&quot;</td><td>&quot;KGEO&quot;</td><td>&quot;Geografie Česk…</td><td>&quot;&#x27;Mgr. Vladan H…</td><td>&quot;4222&quot;</td><td>&quot;Šmíd Ondřej, M…</td></tr><tr><td>&quot;KGEO&quot;</td><td>&quot;B304&quot;</td><td>9265</td><td>&quot;Cv&quot;</td><td>2024</td><td>&quot;3.10.2024&quot;</td><td>&quot;2.1.2025&quot;</td><td>&quot;12:00&quot;</td><td>&quot;12:50&quot;</td><td>&quot;B304KGEO&quot;</td><td>&quot;KGEO&quot;</td><td>&quot;Rozvojové prob…</td><td>&quot;&quot;</td><td>null</td><td>&quot;Král Tomáš, Mg…</td></tr><tr><td>&quot;KGEO&quot;</td><td>&quot;B304&quot;</td><td>6919</td><td>&quot;Cv&quot;</td><td>2024</td><td>&quot;7.10.2024&quot;</td><td>&quot;16.12.2024&quot;</td><td>&quot;14:00&quot;</td><td>&quot;14:50&quot;</td><td>&quot;B304KGEO&quot;</td><td>&quot;KGEO&quot;</td><td>&quot;Rozvojové prob…</td><td>&quot;&quot;</td><td>null</td><td>&quot;Píša Jan, Mgr.…</td></tr><tr><td>&quot;KCH&quot;</td><td>&quot;B304&quot;</td><td>9431</td><td>&quot;Cv&quot;</td><td>2024</td><td>&quot;1.10.2024&quot;</td><td>&quot;17.12.2024&quot;</td><td>&quot;07:00&quot;</td><td>&quot;09:50&quot;</td><td>&quot;B304KCH&quot;</td><td>&quot;KCH&quot;</td><td>&quot;Chemické inžen…</td><td>&quot;&#x27;doc. Ing. Jar…</td><td>&quot;1803&quot;</td><td>&quot;Harrandt Václa…</td></tr></tbody></table></div>"
      ],
      "text/plain": [
       "shape: (15, 15)\n",
       "┌─────────┬─────────┬──────┬────────────┬───┬─────────────┬─────────────┬─────────────┬────────────┐\n",
       "│ katedra ┆ zkratka ┆ idno ┆ typAkceZkr ┆ … ┆ nazev       ┆ cvicici     ┆ cviciciUcit ┆ jmena      │\n",
       "│ ---     ┆ ---     ┆ ---  ┆ ---        ┆   ┆ ---         ┆ ---         ┆ Idno        ┆ ---        │\n",
       "│ str     ┆ str     ┆ i64  ┆ str        ┆   ┆ str         ┆ str         ┆ ---         ┆ str        │\n",
       "│         ┆         ┆      ┆            ┆   ┆             ┆             ┆ str         ┆            │\n",
       "╞═════════╪═════════╪══════╪════════════╪═══╪═════════════╪═════════════╪═════════════╪════════════╡\n",
       "│ KCH     ┆ B100    ┆ 3705 ┆ Cv         ┆ … ┆ Úvod do     ┆ 'doc. RNDr. ┆ 2855        ┆ Petrusová  │\n",
       "│         ┆         ┆      ┆            ┆   ┆ chemie      ┆ Jan Jirsák, ┆             ┆ Zuzana,    │\n",
       "│         ┆         ┆      ┆            ┆   ┆             ┆ Ph.D.'      ┆             ┆ Ing. Ph.D. │\n",
       "│ KCH     ┆ B100    ┆ 3705 ┆ Cv         ┆ … ┆ Úvod do     ┆ 'doc. RNDr. ┆ 2855        ┆ Petrusová  │\n",
       "│         ┆         ┆      ┆            ┆   ┆ chemie      ┆ Jan Jirsák, ┆             ┆ Zuzana,    │\n",
       "│         ┆         ┆      ┆            ┆   ┆             ┆ Ph.D.'      ┆             ┆ Ing. Ph.D. │\n",
       "│ KCH     ┆ B103    ┆ 1319 ┆ Cv         ┆ … ┆ Bezpečnost  ┆ 'MUDr. Eva  ┆ 1800        ┆ Stupák     │\n",
       "│         ┆         ┆      ┆            ┆   ┆ a hygiena   ┆ Solcerová'  ┆             ┆ Rudolf,    │\n",
       "│         ┆         ┆      ┆            ┆   ┆ práce       ┆             ┆             ┆ MUDr.      │\n",
       "│ KCH     ┆ B103    ┆ 1319 ┆ Cv         ┆ … ┆ Bezpečnost  ┆ 'MUDr. Eva  ┆ 1800        ┆ Stupák     │\n",
       "│         ┆         ┆      ┆            ┆   ┆ a hygiena   ┆ Solcerová'  ┆             ┆ Rudolf,    │\n",
       "│         ┆         ┆      ┆            ┆   ┆ práce       ┆             ┆             ┆ MUDr.      │\n",
       "│ KGEO    ┆ B104    ┆ 8819 ┆ Cv         ┆ … ┆ Geografická ┆ 'doc. PhDr. ┆ 3452, 5855  ┆ Bartůněk   │\n",
       "│         ┆         ┆      ┆            ┆   ┆ kartografie ┆ RNDr. Jan   ┆             ┆ Martin,    │\n",
       "│         ┆         ┆      ┆            ┆   ┆             ┆ Daniel Blá… ┆             ┆ Mgr.       │\n",
       "│ …       ┆ …       ┆ …    ┆ …          ┆ … ┆ …           ┆ …           ┆ …           ┆ …          │\n",
       "│ KGEO    ┆ B301    ┆ 8647 ┆ Cv         ┆ … ┆ Geografie   ┆ 'Mgr.       ┆ 4222        ┆ Šmíd       │\n",
       "│         ┆         ┆      ┆            ┆   ┆ Česka II    ┆ Vladan      ┆             ┆ Ondřej,    │\n",
       "│         ┆         ┆      ┆            ┆   ┆             ┆ Hruška,     ┆             ┆ Mgr.       │\n",
       "│         ┆         ┆      ┆            ┆   ┆             ┆ Ph.D.'      ┆             ┆            │\n",
       "│ KGEO    ┆ B301    ┆ 8647 ┆ Cv         ┆ … ┆ Geografie   ┆ 'Mgr.       ┆ 4222        ┆ Šmíd       │\n",
       "│         ┆         ┆      ┆            ┆   ┆ Česka II    ┆ Vladan      ┆             ┆ Ondřej,    │\n",
       "│         ┆         ┆      ┆            ┆   ┆             ┆ Hruška,     ┆             ┆ Mgr.       │\n",
       "│         ┆         ┆      ┆            ┆   ┆             ┆ Ph.D.'      ┆             ┆            │\n",
       "│ KGEO    ┆ B304    ┆ 9265 ┆ Cv         ┆ … ┆ Rozvojové   ┆             ┆ null        ┆ Král       │\n",
       "│         ┆         ┆      ┆            ┆   ┆ problémy    ┆             ┆             ┆ Tomáš,     │\n",
       "│         ┆         ┆      ┆            ┆   ┆ regionů     ┆             ┆             ┆ Mgr.       │\n",
       "│         ┆         ┆      ┆            ┆   ┆ Česka       ┆             ┆             ┆            │\n",
       "│ KGEO    ┆ B304    ┆ 6919 ┆ Cv         ┆ … ┆ Rozvojové   ┆             ┆ null        ┆ Píša Jan,  │\n",
       "│         ┆         ┆      ┆            ┆   ┆ problémy    ┆             ┆             ┆ Mgr. Ph.D. │\n",
       "│         ┆         ┆      ┆            ┆   ┆ regionů     ┆             ┆             ┆            │\n",
       "│         ┆         ┆      ┆            ┆   ┆ Česka       ┆             ┆             ┆            │\n",
       "│ KCH     ┆ B304    ┆ 9431 ┆ Cv         ┆ … ┆ Chemické    ┆ 'doc. Ing.  ┆ 1803        ┆ Harrandt   │\n",
       "│         ┆         ┆      ┆            ┆   ┆ inženýrství ┆ Jaromír     ┆             ┆ Václav,    │\n",
       "│         ┆         ┆      ┆            ┆   ┆             ┆ Havlica,    ┆             ┆ Mgr.       │\n",
       "│         ┆         ┆      ┆            ┆   ┆             ┆ Ph.D…       ┆             ┆            │\n",
       "└─────────┴─────────┴──────┴────────────┴───┴─────────────┴─────────────┴─────────────┴────────────┘"
      ]
     },
     "execution_count": 92,
     "metadata": {},
     "output_type": "execute_result"
    }
   ],
   "source": [
    "#WEIRD STUFF: KGEO/0165 má napsaná cvičení (jak v rozvrhu tak předmětu) ale nemá napsanýho žádnýho učitele (fakt ani garanta, ani jednoho přednášejícího/cvičícího/etc.), tf?\n",
    "\n",
    "male_cviceni = maly_rozvrh.filter(pl.col(\"typAkceZkr\") == \"Cv\")\n",
    "joined_cviceni = male_cviceni.join(male_predmety.select(\"zkratka\", \"katedra\", \"nazev\", \"cvicici\", \"cviciciUcitIdno\"), \"zkratka\", \"left\").unique()\n",
    "cviceni_bez_cvicich = joined_cviceni.filter(pl.col(\"idno\").is_in(cvicici).not_() & ((pl.col(\"katedra\") == pl.col(\"katedra_right\")) | pl.col(\"katedra_right\").is_null()))\n",
    "\n",
    "cviceni_bez_cvicich = cviceni_bez_cvicich.join(ciselnik_ucitelu, \"idno\", \"left\").with_columns(cvicici.cast(pl.List(pl.Utf8)).list.join(\", \")).sort(\"zkratka\")\n",
    "\n",
    "cviceni_bez_cvicich.write_csv(\"results_csv/cviceni_bez_cvicich\"+name_mod+\".csv\")\n",
    "cviceni_bez_cvicich.write_excel(\"results_xlsx/cviceni_bez_cvicich.xlsx\")\n",
    "\n",
    "bez_problemu = bez_problemu.join(cviceni_bez_cvicich,\"identifier\" ,\"anti\")\n",
    "\n",
    "print(cviceni_bez_cvicich.__len__())\n",
    "cviceni_bez_cvicich.head(15)"
   ]
  },
  {
   "cell_type": "code",
   "execution_count": 93,
   "metadata": {},
   "outputs": [],
   "source": [
    "# seminařicí nemá seminář:\n",
    "filtrovani_seminarici = male_predmety.select(\"nazev\", \"zkratka\", \"seminariciUcitIdno\").explode(\"seminariciUcitIdno\")\n",
    "seminarici_jmena = male_predmety.select(\"seminarici\").rename({\"seminarici\":\"jmena\"}).with_columns(pl.col(\"jmena\").str.strip_chars().str.split(\"', \")).explode(\"jmena\")\n",
    "seminarici_jmena = seminarici_jmena.with_columns(pl.col(\"jmena\").str.replace(\",\", \"\"))\n",
    "filtrovani_seminarici = filtrovani_seminarici.with_columns(seminarici_jmena).filter(\n",
    "    pl.col(\"seminariciUcitIdno\"\n",
    ").is_not_null()).with_columns(\n",
    "    seminarici.alias(\"idno\")\n",
    ")\n",
    "joined_seminarici = filtrovani_seminarici.join(maly_rozvrh, \"idno\", \"left\")\n",
    "seminarici_bez_seminare = joined_seminarici.filter(pl.col(\"typAkceZkr\").is_null())\n",
    "seminarici_bez_seminare.select(\"nazev\", \"zkratka\", \"seminariciUcitIdno\").sort(\"seminariciUcitIdno\").write_csv(\"results_csv/seminarici_bez_seminare\"+name_mod+\".csv\")\n",
    "seminarici_bez_seminare.select(\"nazev\", \"zkratka\", \"seminariciUcitIdno\").sort(\"seminariciUcitIdno\").write_excel(\"results_xlsx/seminarici_bez_seminare.xlsx\")\n",
    "\n",
    "bez_problemu = bez_problemu.join(seminarici_bez_seminare,\"identifier\" ,\"anti\")"
   ]
  },
  {
   "cell_type": "code",
   "execution_count": 94,
   "metadata": {},
   "outputs": [
    {
     "name": "stdout",
     "output_type": "stream",
     "text": [
      "6\n"
     ]
    },
    {
     "data": {
      "text/html": [
       "<div><style>\n",
       ".dataframe > thead > tr,\n",
       ".dataframe > tbody > tr {\n",
       "  text-align: right;\n",
       "  white-space: pre-wrap;\n",
       "}\n",
       "</style>\n",
       "<small>shape: (6, 15)</small><table border=\"1\" class=\"dataframe\"><thead><tr><th>katedra</th><th>zkratka</th><th>idno</th><th>typAkceZkr</th><th>rok</th><th>datumOd</th><th>datumDo</th><th>hodinaSkutOd</th><th>hodinaSkutDo</th><th>identifier</th><th>katedra_right</th><th>nazev</th><th>seminarici</th><th>seminariciUcitIdno</th><th>jmena</th></tr><tr><td>str</td><td>str</td><td>i64</td><td>str</td><td>i64</td><td>str</td><td>str</td><td>str</td><td>str</td><td>str</td><td>str</td><td>str</td><td>str</td><td>str</td><td>str</td></tr></thead><tbody><tr><td>&quot;KCH&quot;</td><td>&quot;BK308&quot;</td><td>4226</td><td>&quot;Se&quot;</td><td>2024</td><td>&quot;20.12.2024&quot;</td><td>&quot;20.12.2024&quot;</td><td>&quot;09:00&quot;</td><td>&quot;12:50&quot;</td><td>&quot;BK308KCH&quot;</td><td>&quot;KCH&quot;</td><td>&quot;Odborný seminá…</td><td>&quot;&#x27;doc. Ing. Jan…</td><td>&quot;1064&quot;</td><td>&quot;Kadlečková Iva…</td></tr><tr><td>&quot;KCH&quot;</td><td>&quot;BK320&quot;</td><td>9475</td><td>&quot;Se&quot;</td><td>2024</td><td>&quot;6.12.2024&quot;</td><td>&quot;6.12.2024&quot;</td><td>&quot;10:00&quot;</td><td>&quot;13:50&quot;</td><td>&quot;BK320KCH&quot;</td><td>&quot;KCH&quot;</td><td>&quot;Seminář z prům…</td><td>&quot;&#x27;doc. Ing. Jar…</td><td>&quot;1543&quot;</td><td>&quot;Šimek Josef, I…</td></tr><tr><td>&quot;KBI&quot;</td><td>&quot;KRSP&quot;</td><td>8952</td><td>&quot;Se&quot;</td><td>2024</td><td>&quot;16.11.2024&quot;</td><td>&quot;16.11.2024&quot;</td><td>&quot;09:00&quot;</td><td>&quot;12:50&quot;</td><td>&quot;KRSPKBI&quot;</td><td>&quot;KBI&quot;</td><td>&quot;Komplexní refl…</td><td>&quot;&#x27;doc. PhDr. Ka…</td><td>&quot;8441&quot;</td><td>&quot;Svobodová Silv…</td></tr><tr><td>&quot;KBI&quot;</td><td>&quot;KRSP&quot;</td><td>8952</td><td>&quot;Se&quot;</td><td>2024</td><td>&quot;14.12.2024&quot;</td><td>&quot;14.12.2024&quot;</td><td>&quot;09:00&quot;</td><td>&quot;12:50&quot;</td><td>&quot;KRSPKBI&quot;</td><td>&quot;KBI&quot;</td><td>&quot;Komplexní refl…</td><td>&quot;&#x27;doc. PhDr. Ka…</td><td>&quot;8441&quot;</td><td>&quot;Svobodová Silv…</td></tr><tr><td>&quot;KBI&quot;</td><td>&quot;KRSP&quot;</td><td>8952</td><td>&quot;Se&quot;</td><td>2024</td><td>&quot;2.11.2024&quot;</td><td>&quot;2.11.2024&quot;</td><td>&quot;09:00&quot;</td><td>&quot;12:50&quot;</td><td>&quot;KRSPKBI&quot;</td><td>&quot;KBI&quot;</td><td>&quot;Komplexní refl…</td><td>&quot;&#x27;doc. PhDr. Ka…</td><td>&quot;8441&quot;</td><td>&quot;Svobodová Silv…</td></tr><tr><td>&quot;KFY&quot;</td><td>&quot;PPP&quot;</td><td>301</td><td>&quot;Se&quot;</td><td>2024</td><td>&quot;4.10.2024&quot;</td><td>&quot;3.1.2025&quot;</td><td>&quot;09:00&quot;</td><td>&quot;11:50&quot;</td><td>&quot;PPPKFY&quot;</td><td>&quot;KFY&quot;</td><td>&quot;Průběžná pedag…</td><td>&quot;&#x27;RNDr. Jiří Kr…</td><td>&quot;303&quot;</td><td>&quot;Hejnová Eva, R…</td></tr></tbody></table></div>"
      ],
      "text/plain": [
       "shape: (6, 15)\n",
       "┌─────────┬─────────┬──────┬────────────┬───┬─────────────┬─────────────┬─────────────┬────────────┐\n",
       "│ katedra ┆ zkratka ┆ idno ┆ typAkceZkr ┆ … ┆ nazev       ┆ seminarici  ┆ seminariciU ┆ jmena      │\n",
       "│ ---     ┆ ---     ┆ ---  ┆ ---        ┆   ┆ ---         ┆ ---         ┆ citIdno     ┆ ---        │\n",
       "│ str     ┆ str     ┆ i64  ┆ str        ┆   ┆ str         ┆ str         ┆ ---         ┆ str        │\n",
       "│         ┆         ┆      ┆            ┆   ┆             ┆             ┆ str         ┆            │\n",
       "╞═════════╪═════════╪══════╪════════════╪═══╪═════════════╪═════════════╪═════════════╪════════════╡\n",
       "│ KCH     ┆ BK308   ┆ 4226 ┆ Se         ┆ … ┆ Odborný     ┆ 'doc. Ing.  ┆ 1064        ┆ Kadlečková │\n",
       "│         ┆         ┆      ┆            ┆   ┆ seminář B   ┆ Jan Čermák, ┆             ┆ Ivana,     │\n",
       "│         ┆         ┆      ┆            ┆   ┆             ┆ CSc.'       ┆             ┆ Ing.       │\n",
       "│ KCH     ┆ BK320   ┆ 9475 ┆ Se         ┆ … ┆ Seminář z   ┆ 'doc. Ing.  ┆ 1543        ┆ Šimek      │\n",
       "│         ┆         ┆      ┆            ┆   ┆ průmyslové  ┆ Jaromír     ┆             ┆ Josef,     │\n",
       "│         ┆         ┆      ┆            ┆   ┆ chemie      ┆ Lederer,    ┆             ┆ Ing. Ph.D. │\n",
       "│         ┆         ┆      ┆            ┆   ┆             ┆ CSc.…       ┆             ┆            │\n",
       "│ KBI     ┆ KRSP    ┆ 8952 ┆ Se         ┆ … ┆ Komplexní   ┆ 'doc. PhDr. ┆ 8441        ┆ Svobodová  │\n",
       "│         ┆         ┆      ┆            ┆   ┆ reflektivní ┆ Kateřina    ┆             ┆ Silvie,    │\n",
       "│         ┆         ┆      ┆            ┆   ┆ seminář pr… ┆ Jančaříková ┆             ┆ PhDr. Ing. │\n",
       "│         ┆         ┆      ┆            ┆   ┆             ┆ …           ┆             ┆ Ph.…       │\n",
       "│ KBI     ┆ KRSP    ┆ 8952 ┆ Se         ┆ … ┆ Komplexní   ┆ 'doc. PhDr. ┆ 8441        ┆ Svobodová  │\n",
       "│         ┆         ┆      ┆            ┆   ┆ reflektivní ┆ Kateřina    ┆             ┆ Silvie,    │\n",
       "│         ┆         ┆      ┆            ┆   ┆ seminář pr… ┆ Jančaříková ┆             ┆ PhDr. Ing. │\n",
       "│         ┆         ┆      ┆            ┆   ┆             ┆ …           ┆             ┆ Ph.…       │\n",
       "│ KBI     ┆ KRSP    ┆ 8952 ┆ Se         ┆ … ┆ Komplexní   ┆ 'doc. PhDr. ┆ 8441        ┆ Svobodová  │\n",
       "│         ┆         ┆      ┆            ┆   ┆ reflektivní ┆ Kateřina    ┆             ┆ Silvie,    │\n",
       "│         ┆         ┆      ┆            ┆   ┆ seminář pr… ┆ Jančaříková ┆             ┆ PhDr. Ing. │\n",
       "│         ┆         ┆      ┆            ┆   ┆             ┆ …           ┆             ┆ Ph.…       │\n",
       "│ KFY     ┆ PPP     ┆ 301  ┆ Se         ┆ … ┆ Průběžná    ┆ 'RNDr. Jiří ┆ 303         ┆ Hejnová    │\n",
       "│         ┆         ┆      ┆            ┆   ┆ pedagogická ┆ Králík,     ┆             ┆ Eva, RNDr. │\n",
       "│         ┆         ┆      ┆            ┆   ┆ praxe       ┆ Ph.D.'      ┆             ┆ Ph.D.      │\n",
       "└─────────┴─────────┴──────┴────────────┴───┴─────────────┴─────────────┴─────────────┴────────────┘"
      ]
     },
     "execution_count": 94,
     "metadata": {},
     "output_type": "execute_result"
    }
   ],
   "source": [
    "male_seminare = maly_rozvrh.filter(pl.col(\"typAkceZkr\") == \"Se\")\n",
    "joined_seminare = male_seminare.join(male_predmety.select(\"zkratka\", \"katedra\", \"nazev\", \"seminarici\", \"seminariciUcitIdno\"), \"zkratka\", \"left\").unique()\n",
    "seminare_bez_seminaricich = joined_seminare.filter(pl.col(\"idno\").is_in(seminarici).not_() & ((pl.col(\"katedra\") == pl.col(\"katedra_right\")) | pl.col(\"katedra_right\").is_null()))\n",
    "\n",
    "seminare_bez_seminaricich = seminare_bez_seminaricich.join(ciselnik_ucitelu, \"idno\", \"left\").with_columns(seminarici.cast(pl.List(pl.Utf8)).list.join(\", \")).sort(\"zkratka\")\n",
    "\n",
    "seminare_bez_seminaricich.write_csv(\"results_csv/seminare_bez_seminaricich\"+name_mod+\".csv\")\n",
    "seminare_bez_seminaricich.write_excel(\"results_xlsx/seminare_bez_seminaricich.xlsx\")\n",
    "\n",
    "bez_problemu = bez_problemu.join(seminare_bez_seminaricich,\"identifier\" ,\"anti\")\n",
    "print(seminare_bez_seminaricich.__len__())\n",
    "seminare_bez_seminaricich.head(6)"
   ]
  },
  {
   "cell_type": "code",
   "execution_count": null,
   "metadata": {},
   "outputs": [
    {
     "data": {
      "text/html": [
       "<div><style>\n",
       ".dataframe > thead > tr,\n",
       ".dataframe > tbody > tr {\n",
       "  text-align: right;\n",
       "  white-space: pre-wrap;\n",
       "}\n",
       "</style>\n",
       "<small>shape: (1, 69)</small><table border=\"1\" class=\"dataframe\"><thead><tr><th>katedra</th><th>zkratka</th><th>rok</th><th>nazev</th><th>nazevDlouhy</th><th>maVyuku</th><th>vyukaZS</th><th>vyukaLS</th><th>jakCastoJeNabizen</th><th>jakCastoJeNabizenUpresneni</th><th>kreditu</th><th>viceZapis</th><th>minObsazeni</th><th>garanti</th><th>garantiSPodily</th><th>garantiUcitIdno</th><th>prednasejici</th><th>prednasejiciSPodily</th><th>prednasejiciUcitIdno</th><th>cvicici</th><th>cviciciSPodily</th><th>cviciciUcitIdno</th><th>seminarici</th><th>seminariciSPodily</th><th>seminariciUcitIdno</th><th>schvalujiciUznani</th><th>schvalujiciUznaniUcitIdno</th><th>examinatori</th><th>examinatoriUcitIdno</th><th>podminujiciPredmety</th><th>vylucujiciPredmety</th><th>podminujePredmety</th><th>literatura</th><th>nahrazPredmety</th><th>metodyVyucovaci</th><th>metodyHodnotici</th><th>akreditovan</th><th>jednotekPrednasek</th><th>jednotkaPrednasky</th><th>jednotekCviceni</th><th>jednotkaCviceni</th><th>jednotekSeminare</th><th>jednotkaSeminare</th><th>anotace</th><th>typZkousky</th><th>maZapocetPredZk</th><th>formaZkousky</th><th>pozadavky</th><th>prehledLatky</th><th>predpoklady</th><th>ziskaneZpusobilosti</th><th>casovaNarocnost</th><th>predmetUrl</th><th>vyucovaciJazyky</th><th>poznamka</th><th>ectsZobrazit</th><th>ectsAkreditace</th><th>ectsNabizetUPrijezdu</th><th>poznamkaVerejna</th><th>skupinaAkreditace</th><th>skupinaAkreditaceKey</th><th>zarazenDoPrezencnihoStudia</th><th>zarazenDoKombinovanehoStudia</th><th>studijniOpory</th><th>praxePocetDnu</th><th>urovenNastavena</th><th>urovenVypoctena</th><th>automatickyUznavatZppZk</th><th>hodZaSemKombForma</th></tr><tr><td>str</td><td>str</td><td>i64</td><td>str</td><td>str</td><td>str</td><td>str</td><td>str</td><td>str</td><td>str</td><td>i64</td><td>str</td><td>str</td><td>str</td><td>str</td><td>list[i64]</td><td>str</td><td>str</td><td>list[i64]</td><td>str</td><td>str</td><td>list[i64]</td><td>str</td><td>str</td><td>list[i64]</td><td>str</td><td>str</td><td>str</td><td>str</td><td>str</td><td>str</td><td>str</td><td>str</td><td>str</td><td>str</td><td>str</td><td>str</td><td>i64</td><td>str</td><td>i64</td><td>str</td><td>i64</td><td>str</td><td>str</td><td>str</td><td>str</td><td>str</td><td>str</td><td>str</td><td>str</td><td>str</td><td>str</td><td>str</td><td>str</td><td>str</td><td>str</td><td>str</td><td>str</td><td>str</td><td>str</td><td>str</td><td>str</td><td>str</td><td>str</td><td>i64</td><td>str</td><td>str</td><td>str</td><td>list[i64]</td></tr></thead><tbody><tr><td>&quot;KI&quot;</td><td>&quot;KTZI2&quot;</td><td>2024</td><td>&quot;Teoretické zák…</td><td>&quot;Teoretické zák…</td><td>&quot;A&quot;</td><td>&quot;N&quot;</td><td>&quot;A&quot;</td><td>&quot;K&quot;</td><td>&quot;&quot;</td><td>3</td><td>&quot;NE&quot;</td><td>&quot;&quot;</td><td>&quot;&#x27;RNDr. Martin …</td><td>&quot;&#x27;RNDr. Martin …</td><td>[264]</td><td>&quot;&#x27;RNDr. Martin …</td><td>&quot;&#x27;RNDr. Martin …</td><td>[264, 267]</td><td>&quot;&#x27;RNDr. Martin …</td><td>&quot;&#x27;RNDr. Martin …</td><td>[264, 267]</td><td>&quot;&quot;</td><td>&quot;&quot;</td><td>null</td><td>&quot;&quot;</td><td>&quot;&quot;</td><td>&quot;&quot;</td><td>&quot;&quot;</td><td>&quot;KI/KTZI1&quot;</td><td>&quot;&quot;</td><td>&quot;&quot;</td><td>&quot;&#x27;Demel, J. Gra…</td><td>&quot;&quot;</td><td>&quot;&quot;</td><td>&quot;&quot;</td><td>&quot;N&quot;</td><td>6</td><td>&quot;HOD/SEM&quot;</td><td>4</td><td>&quot;HOD/SEM&quot;</td><td>2</td><td>&quot;HOD/SEM&quot;</td><td>&quot;Kurz je koncip…</td><td>&quot;Zápočet&quot;</td><td>&quot;NE&quot;</td><td>&quot;Kombinovaná&quot;</td><td>&quot;Požadavky k zá…</td><td>&quot;1. Rekurence a…</td><td>&quot;&quot;</td><td>&quot;&quot;</td><td>&quot;&quot;</td><td>&quot;&quot;</td><td>&quot;Čeština&quot;</td><td>&quot;&quot;</td><td>&quot;A&quot;</td><td>&quot;N&quot;</td><td>&quot;N&quot;</td><td>&quot;&quot;</td><td>&quot;&quot;</td><td>&quot;&quot;</td><td>&quot;N&quot;</td><td>&quot;A&quot;</td><td>&quot;&quot;</td><td>0</td><td>&quot;&quot;</td><td>&quot;Bc.&quot;</td><td>&quot;A&quot;</td><td>[0]</td></tr></tbody></table></div>"
      ],
      "text/plain": [
       "shape: (1, 69)\n",
       "┌─────────┬─────────┬──────┬─────────────┬───┬─────────────┬─────────────┬────────────┬────────────┐\n",
       "│ katedra ┆ zkratka ┆ rok  ┆ nazev       ┆ … ┆ urovenNasta ┆ urovenVypoc ┆ automatick ┆ hodZaSemKo │\n",
       "│ ---     ┆ ---     ┆ ---  ┆ ---         ┆   ┆ vena        ┆ tena        ┆ yUznavatZp ┆ mbForma    │\n",
       "│ str     ┆ str     ┆ i64  ┆ str         ┆   ┆ ---         ┆ ---         ┆ pZk        ┆ ---        │\n",
       "│         ┆         ┆      ┆             ┆   ┆ str         ┆ str         ┆ ---        ┆ list[i64]  │\n",
       "│         ┆         ┆      ┆             ┆   ┆             ┆             ┆ str        ┆            │\n",
       "╞═════════╪═════════╪══════╪═════════════╪═══╪═════════════╪═════════════╪════════════╪════════════╡\n",
       "│ KI      ┆ KTZI2   ┆ 2024 ┆ Teoretické  ┆ … ┆             ┆ Bc.         ┆ A          ┆ [0]        │\n",
       "│         ┆         ┆      ┆ základy     ┆   ┆             ┆             ┆            ┆            │\n",
       "│         ┆         ┆      ┆ informatiky ┆   ┆             ┆             ┆            ┆            │\n",
       "│         ┆         ┆      ┆ I…          ┆   ┆             ┆             ┆            ┆            │\n",
       "└─────────┴─────────┴──────┴─────────────┴───┴─────────────┴─────────────┴────────────┴────────────┘"
      ]
     },
     "execution_count": 43,
     "metadata": {},
     "output_type": "execute_result"
    }
   ],
   "source": [
    "predmety_by_kat.filter(pl.col(\"zkratka\") == \"KTZI2\").head()"
   ]
  },
  {
   "cell_type": "markdown",
   "metadata": {},
   "source": [
    "#### Vypsání ne-problémů"
   ]
  },
  {
   "cell_type": "code",
   "execution_count": 95,
   "metadata": {},
   "outputs": [
    {
     "name": "stdout",
     "output_type": "stream",
     "text": [
      "3107\n"
     ]
    },
    {
     "data": {
      "text/html": [
       "<div><style>\n",
       ".dataframe > thead > tr,\n",
       ".dataframe > tbody > tr {\n",
       "  text-align: right;\n",
       "  white-space: pre-wrap;\n",
       "}\n",
       "</style>\n",
       "<small>shape: (5, 4)</small><table border=\"1\" class=\"dataframe\"><thead><tr><th>katedra</th><th>zkratka</th><th>nazev</th><th>identifier</th></tr><tr><td>str</td><td>str</td><td>str</td><td>str</td></tr></thead><tbody><tr><td>&quot;CNB&quot;</td><td>&quot;BP502&quot;</td><td>&quot;Fyziologie živ…</td><td>&quot;BP502/CNB&quot;</td></tr><tr><td>&quot;CNB&quot;</td><td>&quot;EPNS&quot;</td><td>&quot;Elektrospining…</td><td>&quot;EPNS/CNB&quot;</td></tr><tr><td>&quot;CNB&quot;</td><td>&quot;KB502&quot;</td><td>&quot;Fyziologie živ…</td><td>&quot;KB502/CNB&quot;</td></tr><tr><td>&quot;CNB&quot;</td><td>&quot;KB617&quot;</td><td>&quot;Molekulární bi…</td><td>&quot;KB617/CNB&quot;</td></tr><tr><td>&quot;CNB&quot;</td><td>&quot;KPCIM&quot;</td><td>&quot;Prakt. cvičení…</td><td>&quot;KPCIM/CNB&quot;</td></tr></tbody></table></div>"
      ],
      "text/plain": [
       "shape: (5, 4)\n",
       "┌─────────┬─────────┬───────────────────────────────────┬────────────┐\n",
       "│ katedra ┆ zkratka ┆ nazev                             ┆ identifier │\n",
       "│ ---     ┆ ---     ┆ ---                               ┆ ---        │\n",
       "│ str     ┆ str     ┆ str                               ┆ str        │\n",
       "╞═════════╪═════════╪═══════════════════════════════════╪════════════╡\n",
       "│ CNB     ┆ BP502   ┆ Fyziologie živočichů a člověka    ┆ BP502/CNB  │\n",
       "│ CNB     ┆ EPNS    ┆ Elektrospining, př. a vl. nano s… ┆ EPNS/CNB   │\n",
       "│ CNB     ┆ KB502   ┆ Fyziologie živočichů a člověka    ┆ KB502/CNB  │\n",
       "│ CNB     ┆ KB617   ┆ Molekulární biologie              ┆ KB617/CNB  │\n",
       "│ CNB     ┆ KPCIM   ┆ Prakt. cvičení z imunoanalytický… ┆ KPCIM/CNB  │\n",
       "└─────────┴─────────┴───────────────────────────────────┴────────────┘"
      ]
     },
     "execution_count": 95,
     "metadata": {},
     "output_type": "execute_result"
    }
   ],
   "source": [
    "# bez_problemu = bez_problemu.drop(\"identifier\")\n",
    "bez_problemu.write_csv(\"results_csv/bez_problemu\"+name_mod+\".csv\")\n",
    "bez_problemu.write_excel(\"results_xlsx/bez_problemu.xlsx\")\n",
    "print(bez_problemu.__len__())\n",
    "bez_problemu.head()"
   ]
  },
  {
   "attachments": {},
   "cell_type": "markdown",
   "metadata": {},
   "source": [
    "### warning, když je mezi vyučujícími někdo bez odpovídajícího typu rozvrhové akce"
   ]
  },
  {
   "attachments": {},
   "cell_type": "markdown",
   "metadata": {},
   "source": [
    "Pro každého učitele vypíšu předměty, u kterých má mít nějakou akci.\n",
    "\n",
    "Takže budu mít dataframe, kde bude učitel, zkratka, a jeden sloupeček za každý typ akce, kde učitel bude muset mít aspoň 1 narozvrhovaný typ akce s daným předmětem, kde je hodnota `True`\n"
   ]
  },
  {
   "cell_type": "code",
   "execution_count": null,
   "metadata": {},
   "outputs": [
    {
     "data": {
      "text/plain": [
       "[shape: (3,)\n",
       " Series: 'typAkceZkr' [str]\n",
       " [\n",
       " \t\"Se\"\n",
       " \t\"Cv\"\n",
       " \t\"Př\"\n",
       " ]]"
      ]
     },
     "execution_count": 45,
     "metadata": {},
     "output_type": "execute_result"
    }
   ],
   "source": [
    "# vypíšu typy akcí\n",
    "list(maly_rozvrh.select(pl.col(\"typAkceZkr\").unique()))"
   ]
  },
  {
   "cell_type": "code",
   "execution_count": null,
   "metadata": {},
   "outputs": [],
   "source": []
  },
  {
   "attachments": {},
   "cell_type": "markdown",
   "metadata": {},
   "source": [
    "### Změny proti akreditacím."
   ]
  },
  {
   "cell_type": "code",
   "execution_count": null,
   "metadata": {},
   "outputs": [],
   "source": []
  },
  {
   "attachments": {},
   "cell_type": "markdown",
   "metadata": {},
   "source": [
    "### Porovnat revize předmětů\n",
    "\n",
    "tj. parametry předmětů pro aktuální akademický rok a pro příští."
   ]
  },
  {
   "attachments": {},
   "cell_type": "markdown",
   "metadata": {},
   "source": [
    "> jakou to má mít podobu?"
   ]
  },
  {
   "cell_type": "code",
   "execution_count": null,
   "metadata": {},
   "outputs": [],
   "source": []
  }
 ],
 "metadata": {
  "kernelspec": {
   "display_name": "venv",
   "language": "python",
   "name": "python3"
  },
  "language_info": {
   "codemirror_mode": {
    "name": "ipython",
    "version": 3
   },
   "file_extension": ".py",
   "mimetype": "text/x-python",
   "name": "python",
   "nbconvert_exporter": "python",
   "pygments_lexer": "ipython3",
   "version": "3.12.0"
  },
  "orig_nbformat": 4
 },
 "nbformat": 4,
 "nbformat_minor": 2
}

{
 "cells": [
  {
   "cell_type": "code",
   "execution_count": 3,
   "metadata": {},
   "outputs": [],
   "source": [
    "def fetch_csv(service:str = \"\",ticket:str = \"\", params_plus:dict = {}, manual_login:tuple = None): # manual_login formát: (jméno, heslo)\n",
    "    import requests\n",
    "    from io import StringIO\n",
    "    import os\n",
    "    from dotenv import load_dotenv\n",
    "\n",
    "    assert service != \"\", \"Service is necessary\"\n",
    "    \n",
    "    url = \"https://ws.ujep.cz/ws/services/rest2\" + service\n",
    "\n",
    "    params = {\n",
    "        \"outputFormat\":\"CSV\",\n",
    "        \"outputFormatEncoding\":\"utf-8\"\n",
    "    }\n",
    "\n",
    "    params.update(params_plus)\n",
    "\n",
    "    cookies = {}\n",
    "    if ticket != \"\":\n",
    "        cookies.update({\"WSCOOKIE\":ticket})\n",
    "\n",
    "    load_dotenv()\n",
    "\n",
    "    user = os.getenv(\"STAG_USER\")\n",
    "    password = os.getenv(\"STAG_PASSWORD\")\n",
    "\n",
    "    if user == None or password == None:\n",
    "        auth = login_correction(manual_login)\n",
    "    else:\n",
    "        auth = (user, password)\n",
    "\n",
    "    data = requests.get(url, params=params, cookies=cookies, auth=auth)\n",
    "\n",
    "    wrap = StringIO(data.text)\n",
    "    return wrap\n",
    "\n",
    "# Manuální login override (technicky underride ale meh) pro testování\n",
    "def login_correction(manual_login:tuple): #Testování, zda tuple má dva prvky a ty prvky zda jsou stringy\n",
    "\n",
    "    if manual_login == None:\n",
    "        return manual_login\n",
    "\n",
    "    try:\n",
    "        assert isinstance(manual_login[0], str)\n",
    "        assert isinstance(manual_login[1], str)\n",
    "    except:\n",
    "        auth = None\n",
    "    else:\n",
    "        auth = (manual_login[0], manual_login[1])\n",
    "    \n",
    "    return auth\n"
   ]
  },
  {
   "cell_type": "code",
   "execution_count": 18,
   "metadata": {},
   "outputs": [
    {
     "name": "stdout",
     "output_type": "stream",
     "text": [
      "PRF\n"
     ]
    },
    {
     "data": {
      "text/html": [
       "<div><style>\n",
       ".dataframe > thead > tr,\n",
       ".dataframe > tbody > tr {\n",
       "  text-align: right;\n",
       "  white-space: pre-wrap;\n",
       "}\n",
       "</style>\n",
       "<small>shape: (5, 74)</small><table border=\"1\" class=\"dataframe\"><thead><tr><th>katedra</th><th>zkratka</th><th>rok</th><th>nazev</th><th>nazevDlouhy</th><th>vyukaZS</th><th>vyukaLS</th><th>kreditu</th><th>viceZapis</th><th>minObsazeni</th><th>garanti</th><th>garantiSPodily</th><th>garantiUcitIdno</th><th>prednasejici</th><th>prednasejiciSPodily</th><th>prednasejiciUcitIdno</th><th>cvicici</th><th>cviciciSPodily</th><th>cviciciUcitIdno</th><th>seminarici</th><th>seminariciSPodily</th><th>seminariciUcitIdno</th><th>schvalujiciUznani</th><th>schvalujiciUznaniUcitIdno</th><th>examinatori</th><th>examinatoriUcitIdno</th><th>podminujiciPredmety</th><th>vylucujiciPredmety</th><th>podminujePredmety</th><th>literatura</th><th>nahrazPredmety</th><th>metodyVyucovaci</th><th>metodyHodnotici</th><th>akreditovan</th><th>jednotekPrednasek</th><th>jednotkaPrednasky</th><th>jednotekCviceni</th><th>jednotkaCviceni</th><th>jednotekSeminare</th><th>jednotkaSeminare</th><th>anotace</th><th>typZkousky</th><th>maZapocetPredZk</th><th>formaZkousky</th><th>pozadavky</th><th>prehledLatky</th><th>predpoklady</th><th>ziskaneZpusobilosti</th><th>casovaNarocnost</th><th>predmetUrl</th><th>vyucovaciJazyky</th><th>poznamka</th><th>ectsZobrazit</th><th>ectsAkreditace</th><th>ectsNabizetUPrijezdu</th><th>poznamkaVerejna</th><th>skupinaAkreditace</th><th>skupinaAkreditaceKey</th><th>zarazenDoPrezencnihoStudia</th><th>zarazenDoKombinovanehoStudia</th><th>studijniOpory</th><th>praxePocetDnu</th><th>urovenNastavena</th><th>urovenVypoctena</th><th>automatickyUznavatZppZk</th><th>hodZaSemKombForma</th><th>semestr</th><th>pocetStudentu</th><th>aMax</th><th>bMax</th><th>cMax</th><th>aSkut</th><th>bSkut</th><th>cSkut</th></tr><tr><td>str</td><td>str</td><td>i64</td><td>str</td><td>str</td><td>str</td><td>str</td><td>i64</td><td>str</td><td>str</td><td>str</td><td>str</td><td>str</td><td>str</td><td>str</td><td>str</td><td>str</td><td>str</td><td>str</td><td>str</td><td>str</td><td>str</td><td>str</td><td>str</td><td>str</td><td>str</td><td>str</td><td>str</td><td>str</td><td>str</td><td>str</td><td>str</td><td>str</td><td>str</td><td>i64</td><td>str</td><td>i64</td><td>str</td><td>i64</td><td>str</td><td>str</td><td>str</td><td>str</td><td>str</td><td>str</td><td>str</td><td>str</td><td>str</td><td>str</td><td>str</td><td>str</td><td>str</td><td>str</td><td>str</td><td>str</td><td>str</td><td>str</td><td>str</td><td>str</td><td>str</td><td>str</td><td>i64</td><td>str</td><td>str</td><td>str</td><td>str</td><td>str</td><td>i64</td><td>str</td><td>str</td><td>str</td><td>i64</td><td>i64</td><td>i64</td></tr></thead><tbody><tr><td>&quot;CNB&quot;</td><td>&quot;BK502&quot;</td><td>2023</td><td>&quot;Fyziologie živ…</td><td>&quot;Fyziologie živ…</td><td>&quot;A&quot;</td><td>&quot;N&quot;</td><td>6</td><td>&quot;NE&quot;</td><td>&quot;&quot;</td><td>&quot;&#x27;Ing. Stanisla…</td><td>&quot;&#x27;Ing. Stanisla…</td><td>&quot;8024&quot;</td><td>&quot;&#x27;Mgr. Marian R…</td><td>&quot;&#x27;Mgr. Marian R…</td><td>&quot;5275, 8024&quot;</td><td>&quot;&#x27;Mgr. Marian R…</td><td>&quot;&#x27;Mgr. Marian R…</td><td>&quot;5275, 8024&quot;</td><td>&quot;&quot;</td><td>&quot;&quot;</td><td>&quot;&quot;</td><td>&quot;&quot;</td><td>&quot;&quot;</td><td>&quot;&quot;</td><td>&quot;&quot;</td><td>&quot;&quot;</td><td>&quot;&quot;</td><td>&quot;&quot;</td><td>&quot;&quot;</td><td>&quot;&quot;</td><td>&quot;&quot;</td><td>&quot;&quot;</td><td>&quot;N&quot;</td><td>12</td><td>&quot;HOD/SEM&quot;</td><td>18</td><td>&quot;HOD/SEM&quot;</td><td>0</td><td>&quot;HOD/SEM&quot;</td><td>&quot;Předmět poskyt…</td><td>&quot;Zkouška&quot;</td><td>&quot;ANO&quot;</td><td>&quot;Kombinovaná&quot;</td><td>&quot;Písemný zápočt…</td><td>&quot;1. Vnitřní pro…</td><td>&quot;&quot;</td><td>&quot;&quot;</td><td>&quot;&quot;</td><td>&quot;&quot;</td><td>&quot;Čeština&quot;</td><td>&quot;&quot;</td><td>&quot;A&quot;</td><td>&quot;N&quot;</td><td>&quot;N&quot;</td><td>&quot;&quot;</td><td>&quot;&quot;</td><td>&quot;&quot;</td><td>&quot;N&quot;</td><td>&quot;A&quot;</td><td>&quot;&quot;</td><td>0</td><td>&quot;&quot;</td><td>&quot;Bc.&quot;</td><td>&quot;A&quot;</td><td>&quot;&quot;</td><td>&quot;ZS&quot;</td><td>0</td><td>&quot;&quot;</td><td>&quot;&quot;</td><td>&quot;&quot;</td><td>0</td><td>0</td><td>0</td></tr><tr><td>&quot;CNB&quot;</td><td>&quot;BP2&quot;</td><td>2023</td><td>&quot;Bakalářská prá…</td><td>&quot;Bakalářská prá…</td><td>&quot;A&quot;</td><td>&quot;N&quot;</td><td>5</td><td>&quot;NE&quot;</td><td>&quot;&quot;</td><td>&quot;&quot;</td><td>&quot;&quot;</td><td>&quot;&quot;</td><td>&quot;&quot;</td><td>&quot;&quot;</td><td>&quot;&quot;</td><td>&quot;&quot;</td><td>&quot;&quot;</td><td>&quot;&quot;</td><td>&quot;&quot;</td><td>&quot;&quot;</td><td>&quot;&quot;</td><td>&quot;&quot;</td><td>&quot;&quot;</td><td>&quot;&quot;</td><td>&quot;&quot;</td><td>&quot;&quot;</td><td>&quot;&quot;</td><td>&quot;&quot;</td><td>&quot;&quot;</td><td>&quot;KFY/BP2&quot;</td><td>&quot;&quot;</td><td>&quot;&quot;</td><td>&quot;N&quot;</td><td>0</td><td>&quot;HOD/TYD&quot;</td><td>0</td><td>&quot;HOD/TYD&quot;</td><td>0</td><td>&quot;HOD/TYD&quot;</td><td>&quot;Cílem kurzu je…</td><td>&quot;Zápočet&quot;</td><td>&quot;NE&quot;</td><td>&quot;Kombinovaná&quot;</td><td>&quot;Zápočet uděluj…</td><td>&quot;&quot;</td><td>&quot;&quot;</td><td>&quot;&quot;</td><td>&quot;&quot;</td><td>&quot;&quot;</td><td>&quot;Čeština&quot;</td><td>&quot;&quot;</td><td>&quot;A&quot;</td><td>&quot;N&quot;</td><td>&quot;N&quot;</td><td>&quot;&quot;</td><td>&quot;&quot;</td><td>&quot;&quot;</td><td>&quot;A&quot;</td><td>&quot;N&quot;</td><td>&quot;&quot;</td><td>0</td><td>&quot;&quot;</td><td>&quot;Bc.&quot;</td><td>&quot;A&quot;</td><td>&quot;&quot;</td><td>&quot;ZS&quot;</td><td>4</td><td>&quot;&quot;</td><td>&quot;&quot;</td><td>&quot;&quot;</td><td>4</td><td>0</td><td>0</td></tr><tr><td>&quot;CNB&quot;</td><td>&quot;BP502&quot;</td><td>2023</td><td>&quot;Fyziologie živ…</td><td>&quot;Fyziologie živ…</td><td>&quot;A&quot;</td><td>&quot;N&quot;</td><td>6</td><td>&quot;NE&quot;</td><td>&quot;&quot;</td><td>&quot;&#x27;Ing. Stanisla…</td><td>&quot;&#x27;Ing. Stanisla…</td><td>&quot;8024&quot;</td><td>&quot;&#x27;Mgr. Marian R…</td><td>&quot;&#x27;Mgr. Marian R…</td><td>&quot;5275, 8024&quot;</td><td>&quot;&#x27;Mgr. Marian R…</td><td>&quot;&#x27;Mgr. Marian R…</td><td>&quot;5275, 8024&quot;</td><td>&quot;&quot;</td><td>&quot;&quot;</td><td>&quot;&quot;</td><td>&quot;&quot;</td><td>&quot;&quot;</td><td>&quot;&quot;</td><td>&quot;&quot;</td><td>&quot;&quot;</td><td>&quot;&quot;</td><td>&quot;&quot;</td><td>&quot;&quot;</td><td>&quot;&quot;</td><td>&quot;&quot;</td><td>&quot;&quot;</td><td>&quot;N&quot;</td><td>2</td><td>&quot;HOD/TYD&quot;</td><td>3</td><td>&quot;HOD/TYD&quot;</td><td>0</td><td>&quot;HOD/TYD&quot;</td><td>&quot;Předmět poskyt…</td><td>&quot;Zkouška&quot;</td><td>&quot;ANO&quot;</td><td>&quot;Kombinovaná&quot;</td><td>&quot;Písemný zápočt…</td><td>&quot;1. Vnitřní pro…</td><td>&quot;&quot;</td><td>&quot;&quot;</td><td>&quot;&quot;</td><td>&quot;&quot;</td><td>&quot;Čeština&quot;</td><td>&quot;&quot;</td><td>&quot;A&quot;</td><td>&quot;N&quot;</td><td>&quot;N&quot;</td><td>&quot;&quot;</td><td>&quot;&quot;</td><td>&quot;&quot;</td><td>&quot;A&quot;</td><td>&quot;N&quot;</td><td>&quot;&quot;</td><td>0</td><td>&quot;&quot;</td><td>&quot;Bc.&quot;</td><td>&quot;A&quot;</td><td>&quot;&quot;</td><td>&quot;ZS&quot;</td><td>0</td><td>&quot;&quot;</td><td>&quot;&quot;</td><td>&quot;&quot;</td><td>0</td><td>0</td><td>0</td></tr><tr><td>&quot;CNB&quot;</td><td>&quot;EXK&quot;</td><td>2023</td><td>&quot;Exkurze&quot;</td><td>&quot;Exkurze&quot;</td><td>&quot;A&quot;</td><td>&quot;A&quot;</td><td>1</td><td>&quot;NE&quot;</td><td>&quot;&quot;</td><td>&quot;&#x27;doc. Ing. Mar…</td><td>&quot;&#x27;doc. Ing. Mar…</td><td>&quot;2384&quot;</td><td>&quot;&quot;</td><td>&quot;&quot;</td><td>&quot;&quot;</td><td>&quot;&quot;</td><td>&quot;&quot;</td><td>&quot;&quot;</td><td>&quot;&#x27;doc. Ing. Mar…</td><td>&quot;&#x27;doc. Ing. Mar…</td><td>&quot;2384&quot;</td><td>&quot;&quot;</td><td>&quot;&quot;</td><td>&quot;&quot;</td><td>&quot;&quot;</td><td>&quot;&quot;</td><td>&quot;&quot;</td><td>&quot;&quot;</td><td>&quot;&quot;</td><td>&quot;KFY/EXK&quot;</td><td>&quot;&quot;</td><td>&quot;&quot;</td><td>&quot;N&quot;</td><td>0</td><td>&quot;HOD/TYD&quot;</td><td>1</td><td>&quot;HOD/TYD&quot;</td><td>0</td><td>&quot;HOD/TYD&quot;</td><td>&quot;Cílem kurzu je…</td><td>&quot;Zápočet&quot;</td><td>&quot;NE&quot;</td><td>&quot;Kombinovaná&quot;</td><td>&quot;&quot;</td><td>&quot;&quot;</td><td>&quot;&quot;</td><td>&quot;&quot;</td><td>&quot;&quot;</td><td>&quot;&quot;</td><td>&quot;Čeština&quot;</td><td>&quot;&quot;</td><td>&quot;A&quot;</td><td>&quot;N&quot;</td><td>&quot;N&quot;</td><td>&quot;&quot;</td><td>&quot;&quot;</td><td>&quot;&quot;</td><td>&quot;A&quot;</td><td>&quot;N&quot;</td><td>&quot;&quot;</td><td>0</td><td>&quot;&quot;</td><td>&quot;Bc.&quot;</td><td>&quot;A&quot;</td><td>&quot;&quot;</td><td>&quot;ZS&quot;</td><td>0</td><td>&quot;&quot;</td><td>&quot;&quot;</td><td>&quot;&quot;</td><td>0</td><td>0</td><td>0</td></tr><tr><td>&quot;CNB&quot;</td><td>&quot;EXKU&quot;</td><td>2023</td><td>&quot;Exkurze&quot;</td><td>&quot;Exkurze&quot;</td><td>&quot;A&quot;</td><td>&quot;A&quot;</td><td>2</td><td>&quot;NE&quot;</td><td>&quot;&quot;</td><td>&quot;&#x27;RNDr. Regina …</td><td>&quot;&#x27;RNDr. Regina …</td><td>&quot;8317&quot;</td><td>&quot;&quot;</td><td>&quot;&quot;</td><td>&quot;&quot;</td><td>&quot;&#x27;RNDr. Regina …</td><td>&quot;&#x27;RNDr. Regina …</td><td>&quot;8317&quot;</td><td>&quot;&quot;</td><td>&quot;&quot;</td><td>&quot;&quot;</td><td>&quot;&quot;</td><td>&quot;&quot;</td><td>&quot;&quot;</td><td>&quot;&quot;</td><td>&quot;&quot;</td><td>&quot;&quot;</td><td>&quot;&quot;</td><td>&quot;&quot;</td><td>&quot;&quot;</td><td>&quot;&quot;</td><td>&quot;&quot;</td><td>&quot;A&quot;</td><td>0</td><td>&quot;HOD/TYD&quot;</td><td>2</td><td>&quot;DNU/SEM&quot;</td><td>0</td><td>&quot;HOD/TYD&quot;</td><td>&quot;Náplní předmět…</td><td>&quot;Zápočet&quot;</td><td>&quot;NE&quot;</td><td>&quot;Kombinovaná&quot;</td><td>&quot;Nutnou podmínk…</td><td>&quot;&quot;</td><td>&quot;&quot;</td><td>&quot;&quot;</td><td>&quot;&quot;</td><td>&quot;&quot;</td><td>&quot;Čeština&quot;</td><td>&quot;&quot;</td><td>&quot;A&quot;</td><td>&quot;N&quot;</td><td>&quot;N&quot;</td><td>&quot;&quot;</td><td>&quot;&quot;</td><td>&quot;&quot;</td><td>&quot;A&quot;</td><td>&quot;N&quot;</td><td>&quot;&quot;</td><td>0</td><td>&quot;&quot;</td><td>&quot;Bc.&quot;</td><td>&quot;A&quot;</td><td>&quot;0&quot;</td><td>&quot;ZS&quot;</td><td>0</td><td>&quot;&quot;</td><td>&quot;&quot;</td><td>&quot;&quot;</td><td>0</td><td>0</td><td>0</td></tr></tbody></table></div>"
      ],
      "text/plain": [
       "shape: (5, 74)\n",
       "┌─────────┬─────────┬──────┬────────────────────────────────┬───┬──────┬───────┬───────┬───────┐\n",
       "│ katedra ┆ zkratka ┆ rok  ┆ nazev                          ┆ … ┆ cMax ┆ aSkut ┆ bSkut ┆ cSkut │\n",
       "│ ---     ┆ ---     ┆ ---  ┆ ---                            ┆   ┆ ---  ┆ ---   ┆ ---   ┆ ---   │\n",
       "│ str     ┆ str     ┆ i64  ┆ str                            ┆   ┆ str  ┆ i64   ┆ i64   ┆ i64   │\n",
       "╞═════════╪═════════╪══════╪════════════════════════════════╪═══╪══════╪═══════╪═══════╪═══════╡\n",
       "│ CNB     ┆ BK502   ┆ 2023 ┆ Fyziologie živočichů a člověka ┆ … ┆      ┆ 0     ┆ 0     ┆ 0     │\n",
       "│ CNB     ┆ BP2     ┆ 2023 ┆ Bakalářská práce II            ┆ … ┆      ┆ 4     ┆ 0     ┆ 0     │\n",
       "│ CNB     ┆ BP502   ┆ 2023 ┆ Fyziologie živočichů a člověka ┆ … ┆      ┆ 0     ┆ 0     ┆ 0     │\n",
       "│ CNB     ┆ EXK     ┆ 2023 ┆ Exkurze                        ┆ … ┆      ┆ 0     ┆ 0     ┆ 0     │\n",
       "│ CNB     ┆ EXKU    ┆ 2023 ┆ Exkurze                        ┆ … ┆      ┆ 0     ┆ 0     ┆ 0     │\n",
       "└─────────┴─────────┴──────┴────────────────────────────────┴───┴──────┴───────┴───────┴───────┘"
      ]
     },
     "execution_count": 18,
     "metadata": {},
     "output_type": "execute_result"
    }
   ],
   "source": [
    "import polars as pl\n",
    "\n",
    "ticket = \"30088f13cc4a64c91aef019587bf2a31f7ff7055306e11abaef001d927dd099a\"\n",
    "auth = (\"st101885\", \"x0301093100\")\n",
    "\n",
    "fakulta=\"PRF\"\n",
    "\n",
    "params_kateder = {\n",
    "    \"typPracoviste\":\"K\",\n",
    "    \"zkratka\":\"%\",\n",
    "    \"nadrazenePracoviste\":fakulta\n",
    "    }\n",
    "print(params_kateder[\"nadrazenePracoviste\"])\n",
    "katedry_csv = pl.read_csv(fetch_csv(service=\"/ciselniky/getSeznamPracovist\", params_plus=params_kateder, ticket=ticket, manual_login=auth), separator=\";\")\n",
    "#print(katedry_csv.head())\n",
    "katedry_list = katedry_csv.to_series(2)\n",
    "katedry_list = katedry_list.to_list()\n",
    "#print(katedry_list)\n",
    "\n",
    "\n",
    "loner = katedry_list.pop(0)\n",
    "params_rozvrh = {\n",
    "    \"stagUser\": \"F23112\",\n",
    "    \"semestr\":\"%\",\n",
    "    \"vsechnyCasyKonani\":\"false\",\n",
    "    \"jenRozvrhoveAkce\":\"true\",\n",
    "    \"vsechnyAkce\":\"false\",\n",
    "    \"jenBudouciAkce\":\"false\",\n",
    "    \"lang\":\"cs\",\n",
    "    \"katedra\":loner,\n",
    "    \"rok\":\"2023\"\n",
    "}\n",
    "params_predmety = {\n",
    "    \"lang\":\"cs\",\n",
    "    \"katedra\":loner,\n",
    "    \"jenNabizeneECTSPrijezdy\":\"false\",\n",
    "    \"rok\":\"2023\"\n",
    "}\n",
    "\n",
    "excel_rozvrhy = pl.read_csv(fetch_csv(service=\"/rozvrhy/getRozvrhByKatedra\", params_plus=params_rozvrh, ticket=ticket, manual_login=auth), separator=\";\")\n",
    "excel_predmety = pl.read_csv(fetch_csv(service=\"/predmety/getPredmetyByKatedraFullInfo\", params_plus=params_predmety), separator=\";\")\n",
    "#excel_predmety.write_csv(\"source_testing/predmety-1.csv\")\n",
    "excel_predmety.head(5)"
   ]
  },
  {
   "cell_type": "code",
   "execution_count": 14,
   "metadata": {},
   "outputs": [
    {
     "data": {
      "text/html": [
       "<div><style>\n",
       ".dataframe > thead > tr,\n",
       ".dataframe > tbody > tr {\n",
       "  text-align: right;\n",
       "  white-space: pre-wrap;\n",
       "}\n",
       "</style>\n",
       "<small>shape: (3, 74)</small><table border=\"1\" class=\"dataframe\"><thead><tr><th>katedra</th><th>zkratka</th><th>rok</th><th>nazev</th><th>nazevDlouhy</th><th>vyukaZS</th><th>vyukaLS</th><th>kreditu</th><th>viceZapis</th><th>minObsazeni</th><th>garanti</th><th>garantiSPodily</th><th>garantiUcitIdno</th><th>prednasejici</th><th>prednasejiciSPodily</th><th>prednasejiciUcitIdno</th><th>cvicici</th><th>cviciciSPodily</th><th>cviciciUcitIdno</th><th>seminarici</th><th>seminariciSPodily</th><th>seminariciUcitIdno</th><th>schvalujiciUznani</th><th>schvalujiciUznaniUcitIdno</th><th>examinatori</th><th>examinatoriUcitIdno</th><th>podminujiciPredmety</th><th>vylucujiciPredmety</th><th>podminujePredmety</th><th>literatura</th><th>nahrazPredmety</th><th>metodyVyucovaci</th><th>metodyHodnotici</th><th>akreditovan</th><th>jednotekPrednasek</th><th>jednotkaPrednasky</th><th>jednotekCviceni</th><th>jednotkaCviceni</th><th>jednotekSeminare</th><th>jednotkaSeminare</th><th>anotace</th><th>typZkousky</th><th>maZapocetPredZk</th><th>formaZkousky</th><th>pozadavky</th><th>prehledLatky</th><th>predpoklady</th><th>ziskaneZpusobilosti</th><th>casovaNarocnost</th><th>predmetUrl</th><th>vyucovaciJazyky</th><th>poznamka</th><th>ectsZobrazit</th><th>ectsAkreditace</th><th>ectsNabizetUPrijezdu</th><th>poznamkaVerejna</th><th>skupinaAkreditace</th><th>skupinaAkreditaceKey</th><th>zarazenDoPrezencnihoStudia</th><th>zarazenDoKombinovanehoStudia</th><th>studijniOpory</th><th>praxePocetDnu</th><th>urovenNastavena</th><th>urovenVypoctena</th><th>automatickyUznavatZppZk</th><th>hodZaSemKombForma</th><th>semestr</th><th>pocetStudentu</th><th>aMax</th><th>bMax</th><th>cMax</th><th>aSkut</th><th>bSkut</th><th>cSkut</th></tr><tr><td>str</td><td>str</td><td>i64</td><td>str</td><td>str</td><td>str</td><td>str</td><td>i64</td><td>str</td><td>str</td><td>str</td><td>str</td><td>str</td><td>str</td><td>str</td><td>str</td><td>str</td><td>str</td><td>str</td><td>str</td><td>str</td><td>str</td><td>str</td><td>str</td><td>str</td><td>str</td><td>str</td><td>str</td><td>str</td><td>str</td><td>str</td><td>str</td><td>str</td><td>str</td><td>i64</td><td>str</td><td>i64</td><td>str</td><td>i64</td><td>str</td><td>str</td><td>str</td><td>str</td><td>str</td><td>str</td><td>str</td><td>str</td><td>str</td><td>str</td><td>str</td><td>str</td><td>str</td><td>str</td><td>str</td><td>str</td><td>str</td><td>str</td><td>str</td><td>str</td><td>str</td><td>str</td><td>i64</td><td>str</td><td>str</td><td>str</td><td>i64</td><td>str</td><td>i64</td><td>str</td><td>str</td><td>str</td><td>i64</td><td>i64</td><td>i64</td></tr></thead><tbody><tr><td>&quot;CPPV&quot;</td><td>&quot;APP&quot;</td><td>2023</td><td>&quot;Asistentská pe…</td><td>&quot;Asistentská pe…</td><td>&quot;A&quot;</td><td>&quot;N&quot;</td><td>2</td><td>&quot;NE&quot;</td><td>&quot;&quot;</td><td>&quot;&#x27;doc. PhDr. Ka…</td><td>&quot;&#x27;doc. PhDr. Ka…</td><td>&quot;8441&quot;</td><td>&quot;&quot;</td><td>&quot;&quot;</td><td>&quot;&quot;</td><td>&quot;&quot;</td><td>&quot;&quot;</td><td>&quot;&quot;</td><td>&quot;&#x27;RNDr. Eva Hej…</td><td>&quot;&#x27;RNDr. Eva Hej…</td><td>&quot;301, 425, 2776…</td><td>&quot;&quot;</td><td>&quot;&quot;</td><td>&quot;&quot;</td><td>&quot;&quot;</td><td>&quot;&quot;</td><td>&quot;&quot;</td><td>&quot;&quot;</td><td>&quot;&#x27;ČAPEK, R. Ped…</td><td>&quot;&quot;</td><td>&quot;&quot;</td><td>&quot;&quot;</td><td>&quot;N&quot;</td><td>0</td><td>&quot;HOD/TYD&quot;</td><td>0</td><td>&quot;HOD/TYD&quot;</td><td>1</td><td>&quot;TYD/SEM&quot;</td><td>&quot;Obsahové zaměř…</td><td>&quot;Zápočet&quot;</td><td>&quot;NE&quot;</td><td>&quot;Kombinovaná&quot;</td><td>&quot;řádné absolvov…</td><td>&quot;Obsahové zaměř…</td><td>&quot;&quot;</td><td>&quot;&quot;</td><td>&quot;&quot;</td><td>&quot;&quot;</td><td>&quot;Čeština&quot;</td><td>&quot;&quot;</td><td>&quot;A&quot;</td><td>&quot;N&quot;</td><td>&quot;N&quot;</td><td>&quot;&quot;</td><td>&quot;&quot;</td><td>&quot;&quot;</td><td>&quot;A&quot;</td><td>&quot;N&quot;</td><td>&quot;&quot;</td><td>0</td><td>&quot;&quot;</td><td>&quot;Bc.&quot;</td><td>&quot;A&quot;</td><td>0</td><td>&quot;ZS&quot;</td><td>26</td><td>&quot;&quot;</td><td>&quot;&quot;</td><td>&quot;&quot;</td><td>18</td><td>2</td><td>6</td></tr><tr><td>&quot;CPPV&quot;</td><td>&quot;DOUC&quot;</td><td>2023</td><td>&quot;Doučování&quot;</td><td>&quot;Doučování&quot;</td><td>&quot;A&quot;</td><td>&quot;A&quot;</td><td>2</td><td>&quot;NE&quot;</td><td>&quot;&quot;</td><td>&quot;&quot;</td><td>&quot;&quot;</td><td>&quot;&quot;</td><td>&quot;&quot;</td><td>&quot;&quot;</td><td>&quot;&quot;</td><td>&quot;&#x27;RNDr. Jiří Kr…</td><td>&quot;&#x27;RNDr. Jiří Kr…</td><td>&quot;303, 425, 2776…</td><td>&quot;&quot;</td><td>&quot;&quot;</td><td>&quot;&quot;</td><td>&quot;&quot;</td><td>&quot;&quot;</td><td>&quot;&quot;</td><td>&quot;&quot;</td><td>&quot;&quot;</td><td>&quot;&quot;</td><td>&quot;&quot;</td><td>&quot;&quot;</td><td>&quot;&quot;</td><td>&quot;&quot;</td><td>&quot;&quot;</td><td>&quot;A&quot;</td><td>0</td><td>&quot;HOD/TYD&quot;</td><td>2</td><td>&quot;HOD/TYD&quot;</td><td>0</td><td>&quot;HOD/TYD&quot;</td><td>&quot;V rámci výběro…</td><td>&quot;Zápočet&quot;</td><td>&quot;NE&quot;</td><td>&quot;Kombinovaná&quot;</td><td>&quot;&quot;</td><td>&quot;&quot;</td><td>&quot;&quot;</td><td>&quot;&quot;</td><td>&quot;&quot;</td><td>&quot;&quot;</td><td>&quot;Čeština&quot;</td><td>&quot;&quot;</td><td>&quot;A&quot;</td><td>&quot;N&quot;</td><td>&quot;N&quot;</td><td>&quot;&quot;</td><td>&quot;&quot;</td><td>&quot;&quot;</td><td>&quot;N&quot;</td><td>&quot;N&quot;</td><td>&quot;&quot;</td><td>0</td><td>&quot;&quot;</td><td>&quot;&quot;</td><td>&quot;&quot;</td><td>0</td><td>&quot;ZS&quot;</td><td>0</td><td>&quot;&quot;</td><td>&quot;&quot;</td><td>&quot;&quot;</td><td>0</td><td>0</td><td>0</td></tr><tr><td>&quot;CPPV&quot;</td><td>&quot;KAPP&quot;</td><td>2023</td><td>&quot;Asistentská pe…</td><td>&quot;Asistentská pe…</td><td>&quot;A&quot;</td><td>&quot;N&quot;</td><td>2</td><td>&quot;NE&quot;</td><td>&quot;&quot;</td><td>&quot;&#x27;doc. PhDr. Ka…</td><td>&quot;&#x27;doc. PhDr. Ka…</td><td>&quot;8441&quot;</td><td>&quot;&quot;</td><td>&quot;&quot;</td><td>&quot;&quot;</td><td>&quot;&quot;</td><td>&quot;&quot;</td><td>&quot;&quot;</td><td>&quot;&#x27;RNDr. Eva Hej…</td><td>&quot;&#x27;RNDr. Eva Hej…</td><td>&quot;301, 425, 2776…</td><td>&quot;&quot;</td><td>&quot;&quot;</td><td>&quot;&quot;</td><td>&quot;&quot;</td><td>&quot;&quot;</td><td>&quot;&quot;</td><td>&quot;&quot;</td><td>&quot;&quot;</td><td>&quot;&quot;</td><td>&quot;&quot;</td><td>&quot;&quot;</td><td>&quot;N&quot;</td><td>0</td><td>&quot;HOD/TYD&quot;</td><td>0</td><td>&quot;HOD/TYD&quot;</td><td>1</td><td>&quot;TYD/SEM&quot;</td><td>&quot;&quot;</td><td>&quot;Zápočet&quot;</td><td>&quot;NE&quot;</td><td>&quot;Kombinovaná&quot;</td><td>&quot;&quot;</td><td>&quot;&quot;</td><td>&quot;&quot;</td><td>&quot;&quot;</td><td>&quot;&quot;</td><td>&quot;&quot;</td><td>&quot;Čeština&quot;</td><td>&quot;&quot;</td><td>&quot;A&quot;</td><td>&quot;N&quot;</td><td>&quot;N&quot;</td><td>&quot;&quot;</td><td>&quot;&quot;</td><td>&quot;&quot;</td><td>&quot;N&quot;</td><td>&quot;A&quot;</td><td>&quot;&quot;</td><td>0</td><td>&quot;&quot;</td><td>&quot;Bc.&quot;</td><td>&quot;&quot;</td><td>0</td><td>&quot;ZS&quot;</td><td>5</td><td>&quot;&quot;</td><td>&quot;&quot;</td><td>&quot;&quot;</td><td>2</td><td>0</td><td>3</td></tr></tbody></table></div>"
      ],
      "text/plain": [
       "shape: (3, 74)\n",
       "┌─────────┬─────────┬──────┬───────────────────────────────┬───┬──────┬───────┬───────┬───────┐\n",
       "│ katedra ┆ zkratka ┆ rok  ┆ nazev                         ┆ … ┆ cMax ┆ aSkut ┆ bSkut ┆ cSkut │\n",
       "│ ---     ┆ ---     ┆ ---  ┆ ---                           ┆   ┆ ---  ┆ ---   ┆ ---   ┆ ---   │\n",
       "│ str     ┆ str     ┆ i64  ┆ str                           ┆   ┆ str  ┆ i64   ┆ i64   ┆ i64   │\n",
       "╞═════════╪═════════╪══════╪═══════════════════════════════╪═══╪══════╪═══════╪═══════╪═══════╡\n",
       "│ CPPV    ┆ APP     ┆ 2023 ┆ Asistentská pedagogická praxe ┆ … ┆      ┆ 18    ┆ 2     ┆ 6     │\n",
       "│ CPPV    ┆ DOUC    ┆ 2023 ┆ Doučování                     ┆ … ┆      ┆ 0     ┆ 0     ┆ 0     │\n",
       "│ CPPV    ┆ KAPP    ┆ 2023 ┆ Asistentská pedagogická praxe ┆ … ┆      ┆ 2     ┆ 0     ┆ 3     │\n",
       "└─────────┴─────────┴──────┴───────────────────────────────┴───┴──────┴───────┴───────┴───────┘"
      ]
     },
     "execution_count": 14,
     "metadata": {},
     "output_type": "execute_result"
    }
   ],
   "source": [
    "#for num,katedra in enumerate(katedry_list):\n",
    "katedra = \"CPPV\"\n",
    "params_rozvrh[\"katedra\"] = katedra\n",
    "params_predmety[\"katedra\"] = katedra\n",
    "\n",
    "temp_rozvrhy = pl.read_csv(fetch_csv(service=\"/rozvrhy/getRozvrhByKatedra\", params_plus=params_rozvrh, ticket=ticket, manual_login=auth), separator=\";\")\n",
    "temp_predmety = pl.read_csv(fetch_csv(service=\"/predmety/getPredmetyByKatedraFullInfo\", params_plus=params_predmety), separator=\";\")\n",
    "temp_predmety.head(3)\n",
    "\n",
    "#     excel_predmety = excel_predmety.extend(temp_predmety)\n",
    "#     excel_rozvrhy = excel_rozvrhy.extend(temp_rozvrhy)\n",
    "\n",
    "# excel_rozvrhy.write_csv(\"source_tables/rozvrhy_fakulta.csv\")\n",
    "# excel_predmety.write_csv(\"source_tables/predmety_fakulta.csv\")"
   ]
  },
  {
   "cell_type": "code",
   "execution_count": 21,
   "metadata": {},
   "outputs": [
    {
     "data": {
      "text/plain": [
       "Int64"
      ]
     },
     "execution_count": 21,
     "metadata": {},
     "output_type": "execute_result"
    }
   ],
   "source": [
    "type(excel_rozvrhy.dtypes[0])"
   ]
  },
  {
   "cell_type": "code",
   "execution_count": 19,
   "metadata": {},
   "outputs": [
    {
     "name": "stdout",
     "output_type": "stream",
     "text": [
      "ucitIdno\n",
      "ucitIdno.ucitel\n",
      "podilNaVyuce.ucitel\n"
     ]
    }
   ],
   "source": [
    "def type_check(dataframe1:\"pl.DataFrame\", dataframe2:\"pl.DataFrame\") -> list:\n",
    "    types1 = dataframe1.dtypes\n",
    "    types2 = dataframe2.dtypes\n",
    "    problems = []\n",
    "    for index in range(len(types1) - 1):\n",
    "        if types1[index] != types2[index]:\n",
    "            problems.append(dataframe1.columns[index])\n",
    "\n",
    "    return problems\n",
    "\n",
    "\n",
    "type_check(excel_rozvrhy, temp_rozvrhy)\n"
   ]
  },
  {
   "cell_type": "code",
   "execution_count": 10,
   "metadata": {},
   "outputs": [
    {
     "data": {
      "text/html": [
       "<div><style>\n",
       ".dataframe > thead > tr,\n",
       ".dataframe > tbody > tr {\n",
       "  text-align: right;\n",
       "  white-space: pre-wrap;\n",
       "}\n",
       "</style>\n",
       "<small>shape: (651, 74)</small><table border=\"1\" class=\"dataframe\"><thead><tr><th>katedra</th><th>zkratka</th><th>rok</th><th>nazev</th><th>nazevDlouhy</th><th>vyukaZS</th><th>vyukaLS</th><th>kreditu</th><th>viceZapis</th><th>minObsazeni</th><th>garanti</th><th>garantiSPodily</th><th>garantiUcitIdno</th><th>prednasejici</th><th>prednasejiciSPodily</th><th>prednasejiciUcitIdno</th><th>cvicici</th><th>cviciciSPodily</th><th>cviciciUcitIdno</th><th>seminarici</th><th>seminariciSPodily</th><th>seminariciUcitIdno</th><th>schvalujiciUznani</th><th>schvalujiciUznaniUcitIdno</th><th>examinatori</th><th>examinatoriUcitIdno</th><th>podminujiciPredmety</th><th>vylucujiciPredmety</th><th>podminujePredmety</th><th>literatura</th><th>nahrazPredmety</th><th>metodyVyucovaci</th><th>metodyHodnotici</th><th>akreditovan</th><th>jednotekPrednasek</th><th>jednotkaPrednasky</th><th>jednotekCviceni</th><th>jednotkaCviceni</th><th>jednotekSeminare</th><th>jednotkaSeminare</th><th>anotace</th><th>typZkousky</th><th>maZapocetPredZk</th><th>formaZkousky</th><th>pozadavky</th><th>prehledLatky</th><th>predpoklady</th><th>ziskaneZpusobilosti</th><th>casovaNarocnost</th><th>predmetUrl</th><th>vyucovaciJazyky</th><th>poznamka</th><th>ectsZobrazit</th><th>ectsAkreditace</th><th>ectsNabizetUPrijezdu</th><th>poznamkaVerejna</th><th>skupinaAkreditace</th><th>skupinaAkreditaceKey</th><th>zarazenDoPrezencnihoStudia</th><th>zarazenDoKombinovanehoStudia</th><th>studijniOpory</th><th>praxePocetDnu</th><th>urovenNastavena</th><th>urovenVypoctena</th><th>automatickyUznavatZppZk</th><th>hodZaSemKombForma</th><th>semestr</th><th>pocetStudentu</th><th>aMax</th><th>bMax</th><th>cMax</th><th>aSkut</th><th>bSkut</th><th>cSkut</th></tr><tr><td>str</td><td>str</td><td>i64</td><td>str</td><td>str</td><td>str</td><td>str</td><td>i64</td><td>str</td><td>str</td><td>str</td><td>str</td><td>str</td><td>str</td><td>str</td><td>str</td><td>str</td><td>str</td><td>str</td><td>str</td><td>str</td><td>str</td><td>str</td><td>str</td><td>str</td><td>str</td><td>str</td><td>str</td><td>str</td><td>str</td><td>str</td><td>str</td><td>str</td><td>str</td><td>i64</td><td>str</td><td>i64</td><td>str</td><td>i64</td><td>str</td><td>str</td><td>str</td><td>str</td><td>str</td><td>str</td><td>str</td><td>str</td><td>str</td><td>str</td><td>str</td><td>str</td><td>str</td><td>str</td><td>str</td><td>str</td><td>str</td><td>str</td><td>str</td><td>str</td><td>str</td><td>str</td><td>i64</td><td>str</td><td>str</td><td>str</td><td>str</td><td>str</td><td>i64</td><td>str</td><td>str</td><td>str</td><td>i64</td><td>i64</td><td>i64</td></tr></thead><tbody><tr><td>&quot;CNB&quot;</td><td>&quot;BK502&quot;</td><td>2023</td><td>&quot;Fyziologie živ…</td><td>&quot;Fyziologie živ…</td><td>&quot;A&quot;</td><td>&quot;N&quot;</td><td>6</td><td>&quot;NE&quot;</td><td>&quot;&quot;</td><td>&quot;&#x27;Ing. Stanisla…</td><td>&quot;&#x27;Ing. Stanisla…</td><td>&quot;8024&quot;</td><td>&quot;&#x27;Mgr. Marian R…</td><td>&quot;&#x27;Mgr. Marian R…</td><td>&quot;5275, 8024&quot;</td><td>&quot;&#x27;Mgr. Marian R…</td><td>&quot;&#x27;Mgr. Marian R…</td><td>&quot;5275, 8024&quot;</td><td>&quot;&quot;</td><td>&quot;&quot;</td><td>&quot;&quot;</td><td>&quot;&quot;</td><td>&quot;&quot;</td><td>&quot;&quot;</td><td>&quot;&quot;</td><td>&quot;&quot;</td><td>&quot;&quot;</td><td>&quot;&quot;</td><td>&quot;&quot;</td><td>&quot;&quot;</td><td>&quot;&quot;</td><td>&quot;&quot;</td><td>&quot;N&quot;</td><td>12</td><td>&quot;HOD/SEM&quot;</td><td>18</td><td>&quot;HOD/SEM&quot;</td><td>0</td><td>&quot;HOD/SEM&quot;</td><td>&quot;Předmět poskyt…</td><td>&quot;Zkouška&quot;</td><td>&quot;ANO&quot;</td><td>&quot;Kombinovaná&quot;</td><td>&quot;Písemný zápočt…</td><td>&quot;1. Vnitřní pro…</td><td>&quot;&quot;</td><td>&quot;&quot;</td><td>&quot;&quot;</td><td>&quot;&quot;</td><td>&quot;Čeština&quot;</td><td>&quot;&quot;</td><td>&quot;A&quot;</td><td>&quot;N&quot;</td><td>&quot;N&quot;</td><td>&quot;&quot;</td><td>&quot;&quot;</td><td>&quot;&quot;</td><td>&quot;N&quot;</td><td>&quot;A&quot;</td><td>&quot;&quot;</td><td>0</td><td>&quot;&quot;</td><td>&quot;Bc.&quot;</td><td>&quot;A&quot;</td><td>&quot;&quot;</td><td>&quot;ZS&quot;</td><td>0</td><td>&quot;&quot;</td><td>&quot;&quot;</td><td>&quot;&quot;</td><td>0</td><td>0</td><td>0</td></tr><tr><td>&quot;CNB&quot;</td><td>&quot;BP2&quot;</td><td>2023</td><td>&quot;Bakalářská prá…</td><td>&quot;Bakalářská prá…</td><td>&quot;A&quot;</td><td>&quot;N&quot;</td><td>5</td><td>&quot;NE&quot;</td><td>&quot;&quot;</td><td>&quot;&quot;</td><td>&quot;&quot;</td><td>&quot;&quot;</td><td>&quot;&quot;</td><td>&quot;&quot;</td><td>&quot;&quot;</td><td>&quot;&quot;</td><td>&quot;&quot;</td><td>&quot;&quot;</td><td>&quot;&quot;</td><td>&quot;&quot;</td><td>&quot;&quot;</td><td>&quot;&quot;</td><td>&quot;&quot;</td><td>&quot;&quot;</td><td>&quot;&quot;</td><td>&quot;&quot;</td><td>&quot;&quot;</td><td>&quot;&quot;</td><td>&quot;&quot;</td><td>&quot;KFY/BP2&quot;</td><td>&quot;&quot;</td><td>&quot;&quot;</td><td>&quot;N&quot;</td><td>0</td><td>&quot;HOD/TYD&quot;</td><td>0</td><td>&quot;HOD/TYD&quot;</td><td>0</td><td>&quot;HOD/TYD&quot;</td><td>&quot;Cílem kurzu je…</td><td>&quot;Zápočet&quot;</td><td>&quot;NE&quot;</td><td>&quot;Kombinovaná&quot;</td><td>&quot;Zápočet uděluj…</td><td>&quot;&quot;</td><td>&quot;&quot;</td><td>&quot;&quot;</td><td>&quot;&quot;</td><td>&quot;&quot;</td><td>&quot;Čeština&quot;</td><td>&quot;&quot;</td><td>&quot;A&quot;</td><td>&quot;N&quot;</td><td>&quot;N&quot;</td><td>&quot;&quot;</td><td>&quot;&quot;</td><td>&quot;&quot;</td><td>&quot;A&quot;</td><td>&quot;N&quot;</td><td>&quot;&quot;</td><td>0</td><td>&quot;&quot;</td><td>&quot;Bc.&quot;</td><td>&quot;A&quot;</td><td>&quot;&quot;</td><td>&quot;ZS&quot;</td><td>4</td><td>&quot;&quot;</td><td>&quot;&quot;</td><td>&quot;&quot;</td><td>4</td><td>0</td><td>0</td></tr><tr><td>&quot;CNB&quot;</td><td>&quot;BP502&quot;</td><td>2023</td><td>&quot;Fyziologie živ…</td><td>&quot;Fyziologie živ…</td><td>&quot;A&quot;</td><td>&quot;N&quot;</td><td>6</td><td>&quot;NE&quot;</td><td>&quot;&quot;</td><td>&quot;&#x27;Ing. Stanisla…</td><td>&quot;&#x27;Ing. Stanisla…</td><td>&quot;8024&quot;</td><td>&quot;&#x27;Mgr. Marian R…</td><td>&quot;&#x27;Mgr. Marian R…</td><td>&quot;5275, 8024&quot;</td><td>&quot;&#x27;Mgr. Marian R…</td><td>&quot;&#x27;Mgr. Marian R…</td><td>&quot;5275, 8024&quot;</td><td>&quot;&quot;</td><td>&quot;&quot;</td><td>&quot;&quot;</td><td>&quot;&quot;</td><td>&quot;&quot;</td><td>&quot;&quot;</td><td>&quot;&quot;</td><td>&quot;&quot;</td><td>&quot;&quot;</td><td>&quot;&quot;</td><td>&quot;&quot;</td><td>&quot;&quot;</td><td>&quot;&quot;</td><td>&quot;&quot;</td><td>&quot;N&quot;</td><td>2</td><td>&quot;HOD/TYD&quot;</td><td>3</td><td>&quot;HOD/TYD&quot;</td><td>0</td><td>&quot;HOD/TYD&quot;</td><td>&quot;Předmět poskyt…</td><td>&quot;Zkouška&quot;</td><td>&quot;ANO&quot;</td><td>&quot;Kombinovaná&quot;</td><td>&quot;Písemný zápočt…</td><td>&quot;1. Vnitřní pro…</td><td>&quot;&quot;</td><td>&quot;&quot;</td><td>&quot;&quot;</td><td>&quot;&quot;</td><td>&quot;Čeština&quot;</td><td>&quot;&quot;</td><td>&quot;A&quot;</td><td>&quot;N&quot;</td><td>&quot;N&quot;</td><td>&quot;&quot;</td><td>&quot;&quot;</td><td>&quot;&quot;</td><td>&quot;A&quot;</td><td>&quot;N&quot;</td><td>&quot;&quot;</td><td>0</td><td>&quot;&quot;</td><td>&quot;Bc.&quot;</td><td>&quot;A&quot;</td><td>&quot;&quot;</td><td>&quot;ZS&quot;</td><td>0</td><td>&quot;&quot;</td><td>&quot;&quot;</td><td>&quot;&quot;</td><td>0</td><td>0</td><td>0</td></tr><tr><td>&quot;CNB&quot;</td><td>&quot;EXK&quot;</td><td>2023</td><td>&quot;Exkurze&quot;</td><td>&quot;Exkurze&quot;</td><td>&quot;A&quot;</td><td>&quot;A&quot;</td><td>1</td><td>&quot;NE&quot;</td><td>&quot;&quot;</td><td>&quot;&#x27;doc. Ing. Mar…</td><td>&quot;&#x27;doc. Ing. Mar…</td><td>&quot;2384&quot;</td><td>&quot;&quot;</td><td>&quot;&quot;</td><td>&quot;&quot;</td><td>&quot;&quot;</td><td>&quot;&quot;</td><td>&quot;&quot;</td><td>&quot;&#x27;doc. Ing. Mar…</td><td>&quot;&#x27;doc. Ing. Mar…</td><td>&quot;2384&quot;</td><td>&quot;&quot;</td><td>&quot;&quot;</td><td>&quot;&quot;</td><td>&quot;&quot;</td><td>&quot;&quot;</td><td>&quot;&quot;</td><td>&quot;&quot;</td><td>&quot;&quot;</td><td>&quot;KFY/EXK&quot;</td><td>&quot;&quot;</td><td>&quot;&quot;</td><td>&quot;N&quot;</td><td>0</td><td>&quot;HOD/TYD&quot;</td><td>1</td><td>&quot;HOD/TYD&quot;</td><td>0</td><td>&quot;HOD/TYD&quot;</td><td>&quot;Cílem kurzu je…</td><td>&quot;Zápočet&quot;</td><td>&quot;NE&quot;</td><td>&quot;Kombinovaná&quot;</td><td>&quot;&quot;</td><td>&quot;&quot;</td><td>&quot;&quot;</td><td>&quot;&quot;</td><td>&quot;&quot;</td><td>&quot;&quot;</td><td>&quot;Čeština&quot;</td><td>&quot;&quot;</td><td>&quot;A&quot;</td><td>&quot;N&quot;</td><td>&quot;N&quot;</td><td>&quot;&quot;</td><td>&quot;&quot;</td><td>&quot;&quot;</td><td>&quot;A&quot;</td><td>&quot;N&quot;</td><td>&quot;&quot;</td><td>0</td><td>&quot;&quot;</td><td>&quot;Bc.&quot;</td><td>&quot;A&quot;</td><td>&quot;&quot;</td><td>&quot;ZS&quot;</td><td>0</td><td>&quot;&quot;</td><td>&quot;&quot;</td><td>&quot;&quot;</td><td>0</td><td>0</td><td>0</td></tr><tr><td>&quot;CNB&quot;</td><td>&quot;EXKU&quot;</td><td>2023</td><td>&quot;Exkurze&quot;</td><td>&quot;Exkurze&quot;</td><td>&quot;A&quot;</td><td>&quot;A&quot;</td><td>2</td><td>&quot;NE&quot;</td><td>&quot;&quot;</td><td>&quot;&#x27;RNDr. Regina …</td><td>&quot;&#x27;RNDr. Regina …</td><td>&quot;8317&quot;</td><td>&quot;&quot;</td><td>&quot;&quot;</td><td>&quot;&quot;</td><td>&quot;&#x27;RNDr. Regina …</td><td>&quot;&#x27;RNDr. Regina …</td><td>&quot;8317&quot;</td><td>&quot;&quot;</td><td>&quot;&quot;</td><td>&quot;&quot;</td><td>&quot;&quot;</td><td>&quot;&quot;</td><td>&quot;&quot;</td><td>&quot;&quot;</td><td>&quot;&quot;</td><td>&quot;&quot;</td><td>&quot;&quot;</td><td>&quot;&quot;</td><td>&quot;&quot;</td><td>&quot;&quot;</td><td>&quot;&quot;</td><td>&quot;A&quot;</td><td>0</td><td>&quot;HOD/TYD&quot;</td><td>2</td><td>&quot;DNU/SEM&quot;</td><td>0</td><td>&quot;HOD/TYD&quot;</td><td>&quot;Náplní předmět…</td><td>&quot;Zápočet&quot;</td><td>&quot;NE&quot;</td><td>&quot;Kombinovaná&quot;</td><td>&quot;Nutnou podmínk…</td><td>&quot;&quot;</td><td>&quot;&quot;</td><td>&quot;&quot;</td><td>&quot;&quot;</td><td>&quot;&quot;</td><td>&quot;Čeština&quot;</td><td>&quot;&quot;</td><td>&quot;A&quot;</td><td>&quot;N&quot;</td><td>&quot;N&quot;</td><td>&quot;&quot;</td><td>&quot;&quot;</td><td>&quot;&quot;</td><td>&quot;A&quot;</td><td>&quot;N&quot;</td><td>&quot;&quot;</td><td>0</td><td>&quot;&quot;</td><td>&quot;Bc.&quot;</td><td>&quot;A&quot;</td><td>&quot;0&quot;</td><td>&quot;ZS&quot;</td><td>0</td><td>&quot;&quot;</td><td>&quot;&quot;</td><td>&quot;&quot;</td><td>0</td><td>0</td><td>0</td></tr><tr><td>&hellip;</td><td>&hellip;</td><td>&hellip;</td><td>&hellip;</td><td>&hellip;</td><td>&hellip;</td><td>&hellip;</td><td>&hellip;</td><td>&hellip;</td><td>&hellip;</td><td>&hellip;</td><td>&hellip;</td><td>&hellip;</td><td>&hellip;</td><td>&hellip;</td><td>&hellip;</td><td>&hellip;</td><td>&hellip;</td><td>&hellip;</td><td>&hellip;</td><td>&hellip;</td><td>&hellip;</td><td>&hellip;</td><td>&hellip;</td><td>&hellip;</td><td>&hellip;</td><td>&hellip;</td><td>&hellip;</td><td>&hellip;</td><td>&hellip;</td><td>&hellip;</td><td>&hellip;</td><td>&hellip;</td><td>&hellip;</td><td>&hellip;</td><td>&hellip;</td><td>&hellip;</td><td>&hellip;</td><td>&hellip;</td><td>&hellip;</td><td>&hellip;</td><td>&hellip;</td><td>&hellip;</td><td>&hellip;</td><td>&hellip;</td><td>&hellip;</td><td>&hellip;</td><td>&hellip;</td><td>&hellip;</td><td>&hellip;</td><td>&hellip;</td><td>&hellip;</td><td>&hellip;</td><td>&hellip;</td><td>&hellip;</td><td>&hellip;</td><td>&hellip;</td><td>&hellip;</td><td>&hellip;</td><td>&hellip;</td><td>&hellip;</td><td>&hellip;</td><td>&hellip;</td><td>&hellip;</td><td>&hellip;</td><td>&hellip;</td><td>&hellip;</td><td>&hellip;</td><td>&hellip;</td><td>&hellip;</td><td>&hellip;</td><td>&hellip;</td><td>&hellip;</td><td>&hellip;</td></tr><tr><td>&quot;KBI&quot;</td><td>&quot;0089&quot;</td><td>2023</td><td>&quot;Základy recept…</td><td>&quot;Základy recept…</td><td>&quot;A&quot;</td><td>&quot;A&quot;</td><td>4</td><td>&quot;NE&quot;</td><td>&quot;&quot;</td><td>&quot;&#x27;RNDr. Viktori…</td><td>&quot;&#x27;RNDr. Viktori…</td><td>&quot;4176&quot;</td><td>&quot;&#x27;RNDr. Viktori…</td><td>&quot;&#x27;RNDr. Viktori…</td><td>&quot;4176&quot;</td><td>&quot;&#x27;RNDr. Viktori…</td><td>&quot;&#x27;RNDr. Viktori…</td><td>&quot;4176&quot;</td><td>&quot;&quot;</td><td>&quot;&quot;</td><td>&quot;&quot;</td><td>&quot;&quot;</td><td>&quot;&quot;</td><td>&quot;&quot;</td><td>&quot;&quot;</td><td>&quot;&quot;</td><td>&quot;&quot;</td><td>&quot;&quot;</td><td>&quot;&quot;</td><td>&quot;&quot;</td><td>&quot;Přednášení, La…</td><td>&quot;Písemná zkoušk…</td><td>&quot;N&quot;</td><td>1</td><td>&quot;HOD/TYD&quot;</td><td>2</td><td>&quot;HOD/TYD&quot;</td><td>0</td><td>&quot;HOD/TYD&quot;</td><td>&quot;V tomto kurzu …</td><td>&quot;Zápočet&quot;</td><td>&quot;NE&quot;</td><td>&quot;Kombinovaná&quot;</td><td>&quot;&quot;</td><td>&quot;Přednáškové bl…</td><td>&quot;Studenti SP Bi…</td><td>&quot;&quot;</td><td>&quot;&quot;</td><td>&quot;&quot;</td><td>&quot;Čeština&quot;</td><td>&quot;&quot;</td><td>&quot;A&quot;</td><td>&quot;N&quot;</td><td>&quot;N&quot;</td><td>&quot;&quot;</td><td>&quot;&quot;</td><td>&quot;&quot;</td><td>&quot;N&quot;</td><td>&quot;N&quot;</td><td>&quot;&quot;</td><td>0</td><td>&quot;&quot;</td><td>&quot;Bc.&quot;</td><td>&quot;A&quot;</td><td>&quot;&quot;</td><td>&quot;LS&quot;</td><td>0</td><td>&quot;&quot;</td><td>&quot;&quot;</td><td>&quot;&quot;</td><td>0</td><td>0</td><td>0</td></tr><tr><td>&quot;KBI&quot;</td><td>&quot;0090&quot;</td><td>2023</td><td>&quot;Základy bioinž…</td><td>&quot;Základy bioinž…</td><td>&quot;A&quot;</td><td>&quot;A&quot;</td><td>4</td><td>&quot;NE&quot;</td><td>&quot;&quot;</td><td>&quot;&#x27;MUDr. Lucie B…</td><td>&quot;&#x27;MUDr. Lucie B…</td><td>&quot;4177&quot;</td><td>&quot;&#x27;MUDr. Lucie B…</td><td>&quot;&#x27;MUDr. Lucie B…</td><td>&quot;4177&quot;</td><td>&quot;&#x27;MUDr. Lucie B…</td><td>&quot;&#x27;MUDr. Lucie B…</td><td>&quot;4177&quot;</td><td>&quot;&quot;</td><td>&quot;&quot;</td><td>&quot;&quot;</td><td>&quot;&quot;</td><td>&quot;&quot;</td><td>&quot;&quot;</td><td>&quot;&quot;</td><td>&quot;&quot;</td><td>&quot;&quot;</td><td>&quot;&quot;</td><td>&quot;&quot;</td><td>&quot;&quot;</td><td>&quot;Přednášení, La…</td><td>&quot;Písemná zkoušk…</td><td>&quot;N&quot;</td><td>1</td><td>&quot;HOD/TYD&quot;</td><td>2</td><td>&quot;HOD/TYD&quot;</td><td>0</td><td>&quot;HOD/TYD&quot;</td><td>&quot;V tomto kurzu …</td><td>&quot;Zápočet&quot;</td><td>&quot;NE&quot;</td><td>&quot;Kombinovaná&quot;</td><td>&quot;&quot;</td><td>&quot;1. den:\n",
       "Dopole…</td><td>&quot;Studenti SP Bi…</td><td>&quot;&quot;</td><td>&quot;&quot;</td><td>&quot;&quot;</td><td>&quot;Čeština&quot;</td><td>&quot;&quot;</td><td>&quot;A&quot;</td><td>&quot;N&quot;</td><td>&quot;N&quot;</td><td>&quot;&quot;</td><td>&quot;&quot;</td><td>&quot;&quot;</td><td>&quot;N&quot;</td><td>&quot;N&quot;</td><td>&quot;&quot;</td><td>0</td><td>&quot;&quot;</td><td>&quot;Bc.&quot;</td><td>&quot;A&quot;</td><td>&quot;&quot;</td><td>&quot;LS&quot;</td><td>0</td><td>&quot;&quot;</td><td>&quot;&quot;</td><td>&quot;&quot;</td><td>0</td><td>0</td><td>0</td></tr><tr><td>&quot;KBI&quot;</td><td>&quot;0092&quot;</td><td>2023</td><td>&quot;Nanočástice v …</td><td>&quot;Nanočástice v …</td><td>&quot;N&quot;</td><td>&quot;A&quot;</td><td>1</td><td>&quot;NE&quot;</td><td>&quot;&quot;</td><td>&quot;&quot;</td><td>&quot;&quot;</td><td>&quot;&quot;</td><td>&quot;&quot;</td><td>&quot;&quot;</td><td>&quot;&quot;</td><td>&quot;&quot;</td><td>&quot;&quot;</td><td>&quot;&quot;</td><td>&quot;&quot;</td><td>&quot;&quot;</td><td>&quot;&quot;</td><td>&quot;&quot;</td><td>&quot;&quot;</td><td>&quot;&quot;</td><td>&quot;&quot;</td><td>&quot;&quot;</td><td>&quot;&quot;</td><td>&quot;&quot;</td><td>&quot;&quot;</td><td>&quot;&quot;</td><td>&quot;&quot;</td><td>&quot;&quot;</td><td>&quot;A&quot;</td><td>0</td><td>&quot;DNU/SEM&quot;</td><td>0</td><td>&quot;DNU/SEM&quot;</td><td>0</td><td>&quot;DNU/SEM&quot;</td><td>&quot;Kurz by měl se…</td><td>&quot;Zápočet&quot;</td><td>&quot;NE&quot;</td><td>&quot;Kombinovaná&quot;</td><td>&quot;&quot;</td><td>&quot;Základní témat…</td><td>&quot;&quot;</td><td>&quot;&quot;</td><td>&quot;&quot;</td><td>&quot;&quot;</td><td>&quot;&quot;</td><td>&quot;&quot;</td><td>&quot;A&quot;</td><td>&quot;N&quot;</td><td>&quot;N&quot;</td><td>&quot;&quot;</td><td>&quot;&quot;</td><td>&quot;&quot;</td><td>&quot;N&quot;</td><td>&quot;N&quot;</td><td>&quot;&quot;</td><td>0</td><td>&quot;&quot;</td><td>&quot;&quot;</td><td>&quot;A&quot;</td><td>&quot;&quot;</td><td>&quot;LS&quot;</td><td>0</td><td>&quot;&quot;</td><td>&quot;&quot;</td><td>&quot;&quot;</td><td>0</td><td>0</td><td>0</td></tr><tr><td>&quot;KBI&quot;</td><td>&quot;0095&quot;</td><td>2023</td><td>&quot;Fluorescenční …</td><td>&quot;Fluorescenční …</td><td>&quot;A&quot;</td><td>&quot;A&quot;</td><td>1</td><td>&quot;NE&quot;</td><td>&quot;&quot;</td><td>&quot;&#x27;Mgr. Jindřich…</td><td>&quot;&#x27;Mgr. Jindřich…</td><td>&quot;4680&quot;</td><td>&quot;&#x27;Mgr. Jindřich…</td><td>&quot;&#x27;Mgr. Jindřich…</td><td>&quot;4680&quot;</td><td>&quot;&#x27;Mgr. Jindřich…</td><td>&quot;&#x27;Mgr. Jindřich…</td><td>&quot;4680&quot;</td><td>&quot;&quot;</td><td>&quot;&quot;</td><td>&quot;&quot;</td><td>&quot;&quot;</td><td>&quot;&quot;</td><td>&quot;&quot;</td><td>&quot;&quot;</td><td>&quot;&quot;</td><td>&quot;&quot;</td><td>&quot;&quot;</td><td>&quot;&quot;</td><td>&quot;&quot;</td><td>&quot;&quot;</td><td>&quot;&quot;</td><td>&quot;A&quot;</td><td>1</td><td>&quot;DNU/SEM&quot;</td><td>1</td><td>&quot;DNU/SEM&quot;</td><td>0</td><td>&quot;HOD/TYD&quot;</td><td>&quot;Přednáška se v…</td><td>&quot;Zápočet&quot;</td><td>&quot;NE&quot;</td><td>&quot;Kombinovaná&quot;</td><td>&quot;&quot;</td><td>&quot;&quot;</td><td>&quot;&quot;</td><td>&quot;&quot;</td><td>&quot;&quot;</td><td>&quot;&quot;</td><td>&quot;Čeština&quot;</td><td>&quot;&quot;</td><td>&quot;A&quot;</td><td>&quot;N&quot;</td><td>&quot;N&quot;</td><td>&quot;&quot;</td><td>&quot;&quot;</td><td>&quot;&quot;</td><td>&quot;A&quot;</td><td>&quot;N&quot;</td><td>&quot;&quot;</td><td>0</td><td>&quot;&quot;</td><td>&quot;Bc.&quot;</td><td>&quot;A&quot;</td><td>&quot;&quot;</td><td>&quot;LS&quot;</td><td>0</td><td>&quot;&quot;</td><td>&quot;&quot;</td><td>&quot;&quot;</td><td>0</td><td>0</td><td>0</td></tr><tr><td>&quot;KBI&quot;</td><td>&quot;0100&quot;</td><td>2023</td><td>&quot;Statistika v b…</td><td>&quot;Statistika v b…</td><td>&quot;A&quot;</td><td>&quot;A&quot;</td><td>2</td><td>&quot;NE&quot;</td><td>&quot;&quot;</td><td>&quot;&quot;</td><td>&quot;&quot;</td><td>&quot;&quot;</td><td>&quot;&quot;</td><td>&quot;&quot;</td><td>&quot;&quot;</td><td>&quot;&quot;</td><td>&quot;&quot;</td><td>&quot;&quot;</td><td>&quot;&quot;</td><td>&quot;&quot;</td><td>&quot;&quot;</td><td>&quot;&quot;</td><td>&quot;&quot;</td><td>&quot;&quot;</td><td>&quot;&quot;</td><td>&quot;&quot;</td><td>&quot;&quot;</td><td>&quot;&quot;</td><td>&quot;&quot;</td><td>&quot;&quot;</td><td>&quot;&quot;</td><td>&quot;&quot;</td><td>&quot;A&quot;</td><td>0</td><td>&quot;HOD/TYD&quot;</td><td>0</td><td>&quot;HOD/TYD&quot;</td><td>0</td><td>&quot;HOD/TYD&quot;</td><td>&quot;&quot;</td><td>&quot;Zápočet&quot;</td><td>&quot;NE&quot;</td><td>&quot;Kombinovaná&quot;</td><td>&quot;&quot;</td><td>&quot;&quot;</td><td>&quot;&quot;</td><td>&quot;&quot;</td><td>&quot;&quot;</td><td>&quot;&quot;</td><td>&quot;&quot;</td><td>&quot;&quot;</td><td>&quot;A&quot;</td><td>&quot;N&quot;</td><td>&quot;N&quot;</td><td>&quot;&quot;</td><td>&quot;&quot;</td><td>&quot;&quot;</td><td>&quot;N&quot;</td><td>&quot;N&quot;</td><td>&quot;&quot;</td><td>0</td><td>&quot;&quot;</td><td>&quot;&quot;</td><td>&quot;A&quot;</td><td>&quot;&quot;</td><td>&quot;LS&quot;</td><td>0</td><td>&quot;&quot;</td><td>&quot;&quot;</td><td>&quot;&quot;</td><td>0</td><td>0</td><td>0</td></tr></tbody></table></div>"
      ],
      "text/plain": [
       "shape: (651, 74)\n",
       "┌─────────┬─────────┬──────┬───────────────────────────────────┬───┬──────┬───────┬───────┬───────┐\n",
       "│ katedra ┆ zkratka ┆ rok  ┆ nazev                             ┆ … ┆ cMax ┆ aSkut ┆ bSkut ┆ cSkut │\n",
       "│ ---     ┆ ---     ┆ ---  ┆ ---                               ┆   ┆ ---  ┆ ---   ┆ ---   ┆ ---   │\n",
       "│ str     ┆ str     ┆ i64  ┆ str                               ┆   ┆ str  ┆ i64   ┆ i64   ┆ i64   │\n",
       "╞═════════╪═════════╪══════╪═══════════════════════════════════╪═══╪══════╪═══════╪═══════╪═══════╡\n",
       "│ CNB     ┆ BK502   ┆ 2023 ┆ Fyziologie živočichů a člověka    ┆ … ┆      ┆ 0     ┆ 0     ┆ 0     │\n",
       "│ CNB     ┆ BP2     ┆ 2023 ┆ Bakalářská práce II               ┆ … ┆      ┆ 4     ┆ 0     ┆ 0     │\n",
       "│ CNB     ┆ BP502   ┆ 2023 ┆ Fyziologie živočichů a člověka    ┆ … ┆      ┆ 0     ┆ 0     ┆ 0     │\n",
       "│ CNB     ┆ EXK     ┆ 2023 ┆ Exkurze                           ┆ … ┆      ┆ 0     ┆ 0     ┆ 0     │\n",
       "│ CNB     ┆ EXKU    ┆ 2023 ┆ Exkurze                           ┆ … ┆      ┆ 0     ┆ 0     ┆ 0     │\n",
       "│ …       ┆ …       ┆ …    ┆ …                                 ┆ … ┆ …    ┆ …     ┆ …     ┆ …     │\n",
       "│ KBI     ┆ 0089    ┆ 2023 ┆ Základy receptorové neurofyziolo… ┆ … ┆      ┆ 0     ┆ 0     ┆ 0     │\n",
       "│ KBI     ┆ 0090    ┆ 2023 ┆ Základy bioinženýrství            ┆ … ┆      ┆ 0     ┆ 0     ┆ 0     │\n",
       "│ KBI     ┆ 0092    ┆ 2023 ┆ Nanočástice v buňkách a tkáních … ┆ … ┆      ┆ 0     ┆ 0     ┆ 0     │\n",
       "│ KBI     ┆ 0095    ┆ 2023 ┆ Fluorescenční sonda               ┆ … ┆      ┆ 0     ┆ 0     ┆ 0     │\n",
       "│ KBI     ┆ 0100    ┆ 2023 ┆ Statistika v biomedicínském výzk… ┆ … ┆      ┆ 0     ┆ 0     ┆ 0     │\n",
       "└─────────┴─────────┴──────┴───────────────────────────────────┴───┴──────┴───────┴───────┴───────┘"
      ]
     },
     "execution_count": 10,
     "metadata": {},
     "output_type": "execute_result"
    }
   ],
   "source": [
    "excel_predmety.vstack(temp_predmety)"
   ]
  }
 ],
 "metadata": {
  "kernelspec": {
   "display_name": "Python 3",
   "language": "python",
   "name": "python3"
  },
  "language_info": {
   "codemirror_mode": {
    "name": "ipython",
    "version": 3
   },
   "file_extension": ".py",
   "mimetype": "text/x-python",
   "name": "python",
   "nbconvert_exporter": "python",
   "pygments_lexer": "ipython3",
   "version": "3.12.0"
  }
 },
 "nbformat": 4,
 "nbformat_minor": 2
}
